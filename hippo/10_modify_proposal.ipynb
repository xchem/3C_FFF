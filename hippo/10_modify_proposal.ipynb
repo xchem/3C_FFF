{
 "cells": [
  {
   "cell_type": "code",
   "execution_count": 1,
   "id": "42d62629-ff6d-4ea4-b2af-ac601fc65390",
   "metadata": {},
   "outputs": [],
   "source": [
    "%load_ext autoreload\n",
    "%autoreload 2\n",
    "from pathlib import Path\n",
    "import pandas as pd\n",
    "from mrich import print\n",
    "import mrich\n",
    "import molparse as mp\n",
    "import hippo\n",
    "import plotly.express as px\n",
    "from hippo.plotting import plot_compound_tsnee, plot_compound_availability_venn"
   ]
  },
  {
   "cell_type": "code",
   "execution_count": 2,
   "id": "80555974-b9a8-4ee3-8897-1841a030c8b4",
   "metadata": {},
   "outputs": [
    {
     "data": {
      "text/html": [
       "<pre style=\"white-space:pre;overflow-x:auto;line-height:normal;font-family:Menlo,'DejaVu Sans Mono',consolas,'Courier New',monospace;margin:0px\"><span style=\"font-weight: bold\"> Creating HIPPO animal</span>\n",
       "</pre>\n"
      ],
      "text/plain": [
       "\u001b[1m Creating HIPPO animal\u001b[0m\n"
      ]
     },
     "metadata": {},
     "output_type": "display_data"
    },
    {
     "data": {
      "text/html": [
       "<pre style=\"white-space:pre;overflow-x:auto;line-height:normal;font-family:Menlo,'DejaVu Sans Mono',consolas,'Courier New',monospace;margin:0px\"><span style=\"color: #008080; text-decoration-color: #008080; font-weight: bold\">name</span> = <span style=\"color: #00d7af; text-decoration-color: #00d7af\">3C_FFF</span>\n",
       "</pre>\n"
      ],
      "text/plain": [
       "\u001b[1;36mname\u001b[0m = \u001b[38;5;43m3C_FFF\u001b[0m\n"
      ]
     },
     "metadata": {},
     "output_type": "display_data"
    },
    {
     "data": {
      "text/html": [
       "<pre style=\"white-space:pre;overflow-x:auto;line-height:normal;font-family:Menlo,'DejaVu Sans Mono',consolas,'Courier New',monospace;margin:0px\"><span style=\"color: #008080; text-decoration-color: #008080; font-weight: bold\">db_path</span> = <span style=\"color: #d7af00; text-decoration-color: #d7af00\">../../BulkDock/TARGETS/D68EV3C/D68EV3C.sqlite</span>\n",
       "</pre>\n"
      ],
      "text/plain": [
       "\u001b[1;36mdb_path\u001b[0m = \u001b[38;5;178m../../BulkDock/TARGETS/D68EV3C/D68EV3C.sqlite\u001b[0m\n"
      ]
     },
     "metadata": {},
     "output_type": "display_data"
    },
    {
     "data": {
      "text/html": [
       "<pre style=\"white-space:pre;overflow-x:auto;line-height:normal;font-family:Menlo,'DejaVu Sans Mono',consolas,'Courier New',monospace;margin:0px\"><span style=\"color: #808080; text-decoration-color: #808080\">DEBUG: hippo.Database.__init__()</span>\n",
       "</pre>\n"
      ],
      "text/plain": [
       "\u001b[90mDEBUG: hippo.Database.__init__()\u001b[0m\n"
      ]
     },
     "metadata": {},
     "output_type": "display_data"
    },
    {
     "data": {
      "text/html": [
       "<pre style=\"white-space:pre;overflow-x:auto;line-height:normal;font-family:Menlo,'DejaVu Sans Mono',consolas,'Courier New',monospace;margin:0px\"><span style=\"color: #808080; text-decoration-color: #808080\">DEBUG: Database.path = ../../BulkDock/TARGETS/D68EV3C/D68EV3C.sqlite</span>\n",
       "</pre>\n"
      ],
      "text/plain": [
       "\u001b[90mDEBUG: Database.path = ../../BulkDock/TARGETS/D68EV3C/D68EV3C.sqlite\u001b[0m\n"
      ]
     },
     "metadata": {},
     "output_type": "display_data"
    },
    {
     "data": {
      "text/html": [
       "<pre style=\"white-space:pre;overflow-x:auto;line-height:normal;font-family:Menlo,'DejaVu Sans Mono',consolas,'Courier New',monospace;margin:0px\"><span style=\"color: #808080; text-decoration-color: #808080\">DEBUG: hippo.Database.connect()</span>\n",
       "</pre>\n"
      ],
      "text/plain": [
       "\u001b[90mDEBUG: hippo.Database.connect()\u001b[0m\n"
      ]
     },
     "metadata": {},
     "output_type": "display_data"
    },
    {
     "data": {
      "text/html": [
       "<pre style=\"white-space:pre;overflow-x:auto;line-height:normal;font-family:Menlo,'DejaVu Sans Mono',consolas,'Courier New',monospace;margin:0px\"><span style=\"color: #808080; text-decoration-color: #808080\">DEBUG: sqlite3.version='2.6.0'</span>\n",
       "</pre>\n"
      ],
      "text/plain": [
       "\u001b[90mDEBUG: sqlite3.version='2.6.0'\u001b[0m\n"
      ]
     },
     "metadata": {},
     "output_type": "display_data"
    },
    {
     "data": {
      "text/html": [
       "<pre style=\"white-space:pre;overflow-x:auto;line-height:normal;font-family:Menlo,'DejaVu Sans Mono',consolas,'Courier New',monospace;margin:0px\"><span style=\"background-color: #008000; font-weight: bold\"> Success </span><span style=\"color: #008000; text-decoration-color: #008000; font-weight: bold\"> Database connected @</span><span style=\"color: #d7af00; text-decoration-color: #d7af00; font-weight: bold\"> ../../BulkDock/TARGETS/D68EV3C/D68EV3C.sqlite!</span>\n",
       "</pre>\n"
      ],
      "text/plain": [
       "\u001b[1;7;32m Success \u001b[0m\u001b[1;32m Database connected @\u001b[0m\u001b[1;38;5;178m ../../BulkDock/TARGETS/D68EV3C/D68EV3C.sqlite!\u001b[0m\n"
      ]
     },
     "metadata": {},
     "output_type": "display_data"
    },
    {
     "data": {
      "text/html": [
       "<pre style=\"white-space:pre;overflow-x:auto;line-height:normal;font-family:Menlo,'DejaVu Sans Mono',consolas,'Courier New',monospace;margin:0px\"><span style=\"background-color: #008000; font-weight: bold\"> Success </span><span style=\"color: #008000; text-decoration-color: #008000; font-weight: bold\"> Initialised animal</span><span style=\"color: #008080; text-decoration-color: #008080; font-weight: bold\"> HIPPO(\"3C_FFF\")!</span>\n",
       "</pre>\n"
      ],
      "text/plain": [
       "\u001b[1;7;32m Success \u001b[0m\u001b[1;32m Initialised animal\u001b[0m\u001b[1;36m HIPPO(\"3C_FFF\")!\u001b[0m\n"
      ]
     },
     "metadata": {},
     "output_type": "display_data"
    }
   ],
   "source": [
    "animal = hippo.HIPPO(\"3C_FFF\", \"../../BulkDock/TARGETS/D68EV3C/D68EV3C.sqlite\")"
   ]
  },
  {
   "cell_type": "code",
   "execution_count": 6,
   "id": "06e7ab57-3a15-4e07-b320-05814ed5576d",
   "metadata": {},
   "outputs": [
    {
     "data": {
      "text/html": [
       "<pre style=\"white-space:pre;overflow-x:auto;line-height:normal;font-family:Menlo,'DejaVu Sans Mono',consolas,'Courier New',monospace;margin:0px\"><span style=\"background-color: #d7af00; font-weight: bold\"> DISK </span> Writing <span style=\"color: #d7af00; text-decoration-color: #d7af00\">/opt/xchem-fragalysis-2/maxwin/BulkDock/TARGETS/D68EV3C/D68EV3C_0FWLQBK.sqlite</span>...\n",
       "</pre>\n"
      ],
      "text/plain": [
       "\u001b[1;7;38;5;178m DISK \u001b[0m Writing \u001b[38;5;178m/opt/xchem-fragalysis-2/maxwin/BulkDock/TARGETS/D68EV3C/D68EV3C_0FWLQBK.sqlite\u001b[0m...\n"
      ]
     },
     "metadata": {},
     "output_type": "display_data"
    },
    {
     "data": {
      "application/vnd.jupyter.widget-view+json": {
       "model_id": "d0650c35eaf3429c96b37156fe0411f8",
       "version_major": 2,
       "version_minor": 0
      },
      "text/plain": [
       "Output()"
      ]
     },
     "metadata": {},
     "output_type": "display_data"
    },
    {
     "data": {
      "text/html": [
       "<pre style=\"white-space:pre;overflow-x:auto;line-height:normal;font-family:Menlo,'DejaVu Sans Mono',consolas,'Courier New',monospace;margin:0px\"><span style=\"color: #808080; text-decoration-color: #808080\">DEBUG: Copied 10000 of 70851 pages...</span>\n",
       "</pre>\n"
      ],
      "text/plain": [
       "\u001b[90mDEBUG: Copied 10000 of 70851 pages...\u001b[0m\n"
      ]
     },
     "metadata": {},
     "output_type": "display_data"
    },
    {
     "data": {
      "text/html": [
       "<pre style=\"white-space:pre;overflow-x:auto;line-height:normal;font-family:Menlo,'DejaVu Sans Mono',consolas,'Courier New',monospace;margin:0px\"><span style=\"color: #808080; text-decoration-color: #808080\">DEBUG: Copied 20000 of 70851 pages...</span>\n",
       "</pre>\n"
      ],
      "text/plain": [
       "\u001b[90mDEBUG: Copied 20000 of 70851 pages...\u001b[0m\n"
      ]
     },
     "metadata": {},
     "output_type": "display_data"
    },
    {
     "data": {
      "text/html": [
       "<pre style=\"white-space:pre;overflow-x:auto;line-height:normal;font-family:Menlo,'DejaVu Sans Mono',consolas,'Courier New',monospace;margin:0px\"><span style=\"color: #808080; text-decoration-color: #808080\">DEBUG: Copied 30000 of 70851 pages...</span>\n",
       "</pre>\n"
      ],
      "text/plain": [
       "\u001b[90mDEBUG: Copied 30000 of 70851 pages...\u001b[0m\n"
      ]
     },
     "metadata": {},
     "output_type": "display_data"
    },
    {
     "data": {
      "text/html": [
       "<pre style=\"white-space:pre;overflow-x:auto;line-height:normal;font-family:Menlo,'DejaVu Sans Mono',consolas,'Courier New',monospace;margin:0px\"><span style=\"color: #808080; text-decoration-color: #808080\">DEBUG: Copied 40000 of 70851 pages...</span>\n",
       "</pre>\n"
      ],
      "text/plain": [
       "\u001b[90mDEBUG: Copied 40000 of 70851 pages...\u001b[0m\n"
      ]
     },
     "metadata": {},
     "output_type": "display_data"
    },
    {
     "data": {
      "text/html": [
       "<pre style=\"white-space:pre;overflow-x:auto;line-height:normal;font-family:Menlo,'DejaVu Sans Mono',consolas,'Courier New',monospace;margin:0px\"><span style=\"color: #808080; text-decoration-color: #808080\">DEBUG: Copied 50000 of 70851 pages...</span>\n",
       "</pre>\n"
      ],
      "text/plain": [
       "\u001b[90mDEBUG: Copied 50000 of 70851 pages...\u001b[0m\n"
      ]
     },
     "metadata": {},
     "output_type": "display_data"
    },
    {
     "data": {
      "text/html": [
       "<pre style=\"white-space:pre;overflow-x:auto;line-height:normal;font-family:Menlo,'DejaVu Sans Mono',consolas,'Courier New',monospace;margin:0px\"><span style=\"color: #808080; text-decoration-color: #808080\">DEBUG: Copied 60000 of 70851 pages...</span>\n",
       "</pre>\n"
      ],
      "text/plain": [
       "\u001b[90mDEBUG: Copied 60000 of 70851 pages...\u001b[0m\n"
      ]
     },
     "metadata": {},
     "output_type": "display_data"
    },
    {
     "data": {
      "text/html": [
       "<pre style=\"white-space:pre;overflow-x:auto;line-height:normal;font-family:Menlo,'DejaVu Sans Mono',consolas,'Courier New',monospace;margin:0px\"><span style=\"color: #808080; text-decoration-color: #808080\">DEBUG: Copied 70000 of 70851 pages...</span>\n",
       "</pre>\n"
      ],
      "text/plain": [
       "\u001b[90mDEBUG: Copied 70000 of 70851 pages...\u001b[0m\n"
      ]
     },
     "metadata": {},
     "output_type": "display_data"
    },
    {
     "data": {
      "text/html": [
       "<pre style=\"white-space:pre;overflow-x:auto;line-height:normal;font-family:Menlo,'DejaVu Sans Mono',consolas,'Courier New',monospace;margin:0px\"><span style=\"color: #808080; text-decoration-color: #808080\">DEBUG: Copied 70851 of 70851 pages...</span>\n",
       "</pre>\n"
      ],
      "text/plain": [
       "\u001b[90mDEBUG: Copied 70851 of 70851 pages...\u001b[0m\n"
      ]
     },
     "metadata": {},
     "output_type": "display_data"
    },
    {
     "data": {
      "text/html": [
       "<pre style=\"white-space:pre;overflow-x:auto;line-height:normal;font-family:Menlo,'DejaVu Sans Mono',consolas,'Courier New',monospace;margin:0px\"></pre>\n"
      ],
      "text/plain": []
     },
     "metadata": {},
     "output_type": "display_data"
    }
   ],
   "source": [
    "animal.db.backup()"
   ]
  },
  {
   "cell_type": "markdown",
   "id": "8ab5b36e-48f0-49bb-b467-5012fb2fc227",
   "metadata": {},
   "source": [
    "## Load Enamine Quotes"
   ]
  },
  {
   "cell_type": "code",
   "execution_count": 26,
   "id": "a0cffc09-7a48-43ee-af97-39091032d1d3",
   "metadata": {},
   "outputs": [
    {
     "data": {
      "text/html": [
       "<pre style=\"white-space:pre;overflow-x:auto;line-height:normal;font-family:Menlo,'DejaVu Sans Mono',consolas,'Courier New',monospace;margin:0px\"></pre>\n"
      ],
      "text/plain": []
     },
     "metadata": {},
     "output_type": "display_data"
    },
    {
     "data": {
      "text/html": [
       "<pre style=\"white-space:pre;overflow-x:auto;line-height:normal;font-family:Menlo,'DejaVu Sans Mono',consolas,'Courier New',monospace;margin:0px\"></pre>\n"
      ],
      "text/plain": []
     },
     "metadata": {},
     "output_type": "display_data"
    },
    {
     "data": {
      "text/html": [
       "<pre style=\"white-space:pre;overflow-x:auto;line-height:normal;font-family:Menlo,'DejaVu Sans Mono',consolas,'Courier New',monospace;margin:0px\"></pre>\n"
      ],
      "text/plain": []
     },
     "metadata": {},
     "output_type": "display_data"
    },
    {
     "data": {
      "text/html": [
       "<pre style=\"white-space:pre;overflow-x:auto;line-height:normal;font-family:Menlo,'DejaVu Sans Mono',consolas,'Courier New',monospace;margin:0px\"></pre>\n"
      ],
      "text/plain": []
     },
     "metadata": {},
     "output_type": "display_data"
    },
    {
     "data": {
      "application/vnd.jupyter.widget-view+json": {
       "model_id": "072c095f3564484798925f5bd0a9b11a",
       "version_major": 2,
       "version_minor": 0
      },
      "text/plain": [
       "Output()"
      ]
     },
     "metadata": {},
     "output_type": "display_data"
    },
    {
     "data": {
      "text/html": [
       "<pre style=\"white-space:pre;overflow-x:auto;line-height:normal;font-family:Menlo,'DejaVu Sans Mono',consolas,'Courier New',monospace;margin:0px\"><span style=\"background-color: #ff8700; font-weight: bold\"> Warning </span><span style=\"color: #ff8700; text-decoration-color: #ff8700\"> Deleting Enamine quotes for</span><span style=\"color: #ff8700; text-decoration-color: #ff8700; font-weight: bold; text-decoration: underline\"> C7425 \"PJDPNPWWAPAAII-UHFFFAOYSA-N\"!</span>\n",
       "</pre>\n"
      ],
      "text/plain": [
       "\u001b[1;7;38;5;208m Warning \u001b[0m\u001b[38;5;208m Deleting Enamine quotes for\u001b[0m\u001b[1;4;38;5;208m C7425 \"PJDPNPWWAPAAII-UHFFFAOYSA-N\"!\u001b[0m\n"
      ]
     },
     "metadata": {},
     "output_type": "display_data"
    },
    {
     "data": {
      "text/html": [
       "<pre style=\"white-space:pre;overflow-x:auto;line-height:normal;font-family:Menlo,'DejaVu Sans Mono',consolas,'Courier New',monospace;margin:0px\"><span style=\"background-color: #ff8700; font-weight: bold\"> Warning </span><span style=\"color: #ff8700; text-decoration-color: #ff8700\"> Deleting Enamine quotes for</span><span style=\"color: #ff8700; text-decoration-color: #ff8700; font-weight: bold; text-decoration: underline\"> C21488 \"SXXLKZCNJHJYFL-UHFFFAOYSA-N\"!</span>\n",
       "</pre>\n"
      ],
      "text/plain": [
       "\u001b[1;7;38;5;208m Warning \u001b[0m\u001b[38;5;208m Deleting Enamine quotes for\u001b[0m\u001b[1;4;38;5;208m C21488 \"SXXLKZCNJHJYFL-UHFFFAOYSA-N\"!\u001b[0m\n"
      ]
     },
     "metadata": {},
     "output_type": "display_data"
    },
    {
     "data": {
      "text/html": [
       "<pre style=\"white-space:pre;overflow-x:auto;line-height:normal;font-family:Menlo,'DejaVu Sans Mono',consolas,'Courier New',monospace;margin:0px\"><span style=\"background-color: #ff8700; font-weight: bold\"> Warning </span><span style=\"color: #ff8700; text-decoration-color: #ff8700\"> Deleting Enamine quotes for</span><span style=\"color: #ff8700; text-decoration-color: #ff8700; font-weight: bold; text-decoration: underline\"> C29797 \"VSZAEVLSIWLMOL-UHFFFAOYSA-N\"!</span>\n",
       "</pre>\n"
      ],
      "text/plain": [
       "\u001b[1;7;38;5;208m Warning \u001b[0m\u001b[38;5;208m Deleting Enamine quotes for\u001b[0m\u001b[1;4;38;5;208m C29797 \"VSZAEVLSIWLMOL-UHFFFAOYSA-N\"!\u001b[0m\n"
      ]
     },
     "metadata": {},
     "output_type": "display_data"
    },
    {
     "data": {
      "text/html": [
       "<pre style=\"white-space:pre;overflow-x:auto;line-height:normal;font-family:Menlo,'DejaVu Sans Mono',consolas,'Courier New',monospace;margin:0px\"><span style=\"background-color: #ff8700; font-weight: bold\"> Warning </span><span style=\"color: #ff8700; text-decoration-color: #ff8700\"> Deleting Enamine quotes for</span><span style=\"color: #ff8700; text-decoration-color: #ff8700; font-weight: bold; text-decoration: underline\"> C41896 \"DJMBQQBASUEMTK-UHFFFAOYSA-N\"!</span>\n",
       "</pre>\n"
      ],
      "text/plain": [
       "\u001b[1;7;38;5;208m Warning \u001b[0m\u001b[38;5;208m Deleting Enamine quotes for\u001b[0m\u001b[1;4;38;5;208m C41896 \"DJMBQQBASUEMTK-UHFFFAOYSA-N\"!\u001b[0m\n"
      ]
     },
     "metadata": {},
     "output_type": "display_data"
    },
    {
     "data": {
      "text/html": [
       "<pre style=\"white-space:pre;overflow-x:auto;line-height:normal;font-family:Menlo,'DejaVu Sans Mono',consolas,'Courier New',monospace;margin:0px\"><span style=\"background-color: #ff8700; font-weight: bold\"> Warning </span><span style=\"color: #ff8700; text-decoration-color: #ff8700\"> Deleting Enamine quotes for</span><span style=\"color: #ff8700; text-decoration-color: #ff8700; font-weight: bold; text-decoration: underline\"> C41894 \"SFKONINKWJCYIP-UHFFFAOYSA-N\"!</span>\n",
       "</pre>\n"
      ],
      "text/plain": [
       "\u001b[1;7;38;5;208m Warning \u001b[0m\u001b[38;5;208m Deleting Enamine quotes for\u001b[0m\u001b[1;4;38;5;208m C41894 \"SFKONINKWJCYIP-UHFFFAOYSA-N\"!\u001b[0m\n"
      ]
     },
     "metadata": {},
     "output_type": "display_data"
    },
    {
     "data": {
      "text/html": [
       "<pre style=\"white-space:pre;overflow-x:auto;line-height:normal;font-family:Menlo,'DejaVu Sans Mono',consolas,'Courier New',monospace;margin:0px\"><span style=\"background-color: #ff8700; font-weight: bold\"> Warning </span><span style=\"color: #ff8700; text-decoration-color: #ff8700\"> Deleting Enamine quotes for</span><span style=\"color: #ff8700; text-decoration-color: #ff8700; font-weight: bold; text-decoration: underline\"> C51625 \"VTYNJTABFCXTBH-UHFFFAOYSA-N\"!</span>\n",
       "</pre>\n"
      ],
      "text/plain": [
       "\u001b[1;7;38;5;208m Warning \u001b[0m\u001b[38;5;208m Deleting Enamine quotes for\u001b[0m\u001b[1;4;38;5;208m C51625 \"VTYNJTABFCXTBH-UHFFFAOYSA-N\"!\u001b[0m\n"
      ]
     },
     "metadata": {},
     "output_type": "display_data"
    },
    {
     "data": {
      "text/html": [
       "<pre style=\"white-space:pre;overflow-x:auto;line-height:normal;font-family:Menlo,'DejaVu Sans Mono',consolas,'Courier New',monospace;margin:0px\"><span style=\"background-color: #ff8700; font-weight: bold\"> Warning </span><span style=\"color: #ff8700; text-decoration-color: #ff8700\"> Deleting Enamine quotes for</span><span style=\"color: #ff8700; text-decoration-color: #ff8700; font-weight: bold; text-decoration: underline\"> C51965 \"XJISISZPFKFZEU-UHFFFAOYSA-N\"!</span>\n",
       "</pre>\n"
      ],
      "text/plain": [
       "\u001b[1;7;38;5;208m Warning \u001b[0m\u001b[38;5;208m Deleting Enamine quotes for\u001b[0m\u001b[1;4;38;5;208m C51965 \"XJISISZPFKFZEU-UHFFFAOYSA-N\"!\u001b[0m\n"
      ]
     },
     "metadata": {},
     "output_type": "display_data"
    },
    {
     "data": {
      "text/html": [
       "<pre style=\"white-space:pre;overflow-x:auto;line-height:normal;font-family:Menlo,'DejaVu Sans Mono',consolas,'Courier New',monospace;margin:0px\"><span style=\"background-color: #ff8700; font-weight: bold\"> Warning </span><span style=\"color: #ff8700; text-decoration-color: #ff8700\"> Deleting Enamine quotes for</span><span style=\"color: #ff8700; text-decoration-color: #ff8700; font-weight: bold; text-decoration: underline\"> C52073 \"CKLHHMZFSXMEDN-UHFFFAOYSA-N\"!</span>\n",
       "</pre>\n"
      ],
      "text/plain": [
       "\u001b[1;7;38;5;208m Warning \u001b[0m\u001b[38;5;208m Deleting Enamine quotes for\u001b[0m\u001b[1;4;38;5;208m C52073 \"CKLHHMZFSXMEDN-UHFFFAOYSA-N\"!\u001b[0m\n"
      ]
     },
     "metadata": {},
     "output_type": "display_data"
    },
    {
     "data": {
      "text/html": [
       "<pre style=\"white-space:pre;overflow-x:auto;line-height:normal;font-family:Menlo,'DejaVu Sans Mono',consolas,'Courier New',monospace;margin:0px\"><span style=\"background-color: #ff8700; font-weight: bold\"> Warning </span><span style=\"color: #ff8700; text-decoration-color: #ff8700\"> Deleting Enamine quotes for</span><span style=\"color: #ff8700; text-decoration-color: #ff8700; font-weight: bold; text-decoration: underline\"> C18083 \"RXXHVYSZGZQMIA-UHFFFAOYSA-N\"!</span>\n",
       "</pre>\n"
      ],
      "text/plain": [
       "\u001b[1;7;38;5;208m Warning \u001b[0m\u001b[38;5;208m Deleting Enamine quotes for\u001b[0m\u001b[1;4;38;5;208m C18083 \"RXXHVYSZGZQMIA-UHFFFAOYSA-N\"!\u001b[0m\n"
      ]
     },
     "metadata": {},
     "output_type": "display_data"
    },
    {
     "data": {
      "text/html": [
       "<pre style=\"white-space:pre;overflow-x:auto;line-height:normal;font-family:Menlo,'DejaVu Sans Mono',consolas,'Courier New',monospace;margin:0px\"><span style=\"background-color: #ff8700; font-weight: bold\"> Warning </span><span style=\"color: #ff8700; text-decoration-color: #ff8700\"> Deleting Enamine quotes for</span><span style=\"color: #ff8700; text-decoration-color: #ff8700; font-weight: bold; text-decoration: underline\"> C7328 \"HOZVCQVCRNSXNF-UHFFFAOYSA-N\"!</span>\n",
       "</pre>\n"
      ],
      "text/plain": [
       "\u001b[1;7;38;5;208m Warning \u001b[0m\u001b[38;5;208m Deleting Enamine quotes for\u001b[0m\u001b[1;4;38;5;208m C7328 \"HOZVCQVCRNSXNF-UHFFFAOYSA-N\"!\u001b[0m\n"
      ]
     },
     "metadata": {},
     "output_type": "display_data"
    },
    {
     "data": {
      "text/html": [
       "<pre style=\"white-space:pre;overflow-x:auto;line-height:normal;font-family:Menlo,'DejaVu Sans Mono',consolas,'Courier New',monospace;margin:0px\"><span style=\"background-color: #ff8700; font-weight: bold\"> Warning </span><span style=\"color: #ff8700; text-decoration-color: #ff8700\"> Deleting Enamine quotes for</span><span style=\"color: #ff8700; text-decoration-color: #ff8700; font-weight: bold; text-decoration: underline\"> C31881 \"XLTDBXUYGQAWAZ-UHFFFAOYSA-N\"!</span>\n",
       "</pre>\n"
      ],
      "text/plain": [
       "\u001b[1;7;38;5;208m Warning \u001b[0m\u001b[38;5;208m Deleting Enamine quotes for\u001b[0m\u001b[1;4;38;5;208m C31881 \"XLTDBXUYGQAWAZ-UHFFFAOYSA-N\"!\u001b[0m\n"
      ]
     },
     "metadata": {},
     "output_type": "display_data"
    },
    {
     "data": {
      "text/html": [
       "<pre style=\"white-space:pre;overflow-x:auto;line-height:normal;font-family:Menlo,'DejaVu Sans Mono',consolas,'Courier New',monospace;margin:0px\"></pre>\n"
      ],
      "text/plain": []
     },
     "metadata": {},
     "output_type": "display_data"
    },
    {
     "data": {
      "text/plain": [
       "\u001b[1m\u001b[4m{Ingredient × 239}\u001b[22m\u001b[24m"
      ]
     },
     "execution_count": 26,
     "metadata": {},
     "output_type": "execute_result"
    }
   ],
   "source": [
    "animal.add_enamine_quote(\"../quotes/D68EV3CPROA-t3c-i1a-Enamine reactants quote Price EUR.xlsx\",\n",
    "                        orig_name_col=\"hippo_id\",\n",
    "                        entry_col=\"quote_entry\",\n",
    "                        fixed_purity=None,\n",
    "                         amount_col=\"required_amount_mg\",\n",
    "                         fixed_lead_time=5,\n",
    "                         catalogue_col=\"Availability\",\n",
    "                        )"
   ]
  },
  {
   "cell_type": "markdown",
   "id": "696f1210-1000-45d0-9cd6-591c0c4c5a7c",
   "metadata": {},
   "source": [
    "## Update Recipe"
   ]
  },
  {
   "cell_type": "code",
   "execution_count": 27,
   "id": "3d45a109-4b68-4b5f-905e-357d03f3acd2",
   "metadata": {},
   "outputs": [
    {
     "data": {
      "text/html": [
       "<pre style=\"white-space:pre;overflow-x:auto;line-height:normal;font-family:Menlo,'DejaVu Sans Mono',consolas,'Courier New',monospace;margin:0px\"><span style=\"background-color: #d7af00; font-weight: bold\"> DISK </span> Reading <span style=\"color: #d7af00; text-decoration-color: #d7af00\">3C_t3c_i1a_entire_recipe.json</span>...\n",
       "</pre>\n"
      ],
      "text/plain": [
       "\u001b[1;7;38;5;178m DISK \u001b[0m Reading \u001b[38;5;178m3C_t3c_i1a_entire_recipe.json\u001b[0m...\n"
      ]
     },
     "metadata": {},
     "output_type": "display_data"
    },
    {
     "data": {
      "text/html": [
       "<pre style=\"white-space:pre;overflow-x:auto;line-height:normal;font-family:Menlo,'DejaVu Sans Mono',consolas,'Courier New',monospace;margin:0px\">Recipe was generated at: <span style=\"color: #008080; text-decoration-color: #008080; font-weight: bold\">2025</span>-<span style=\"color: #008080; text-decoration-color: #008080; font-weight: bold\">03</span>-<span style=\"color: #008080; text-decoration-color: #008080; font-weight: bold\">14</span> <span style=\"color: #00ff00; text-decoration-color: #00ff00; font-weight: bold\">12:52:33</span>.<span style=\"color: #008080; text-decoration-color: #008080; font-weight: bold\">803387</span>\n",
       "</pre>\n"
      ],
      "text/plain": [
       "Recipe was generated at: \u001b[1;36m2025\u001b[0m-\u001b[1;36m03\u001b[0m-\u001b[1;36m14\u001b[0m \u001b[1;92m12:52:33\u001b[0m.\u001b[1;36m803387\u001b[0m\n"
      ]
     },
     "metadata": {},
     "output_type": "display_data"
    },
    {
     "data": {
      "text/html": [
       "<pre style=\"white-space:pre;overflow-x:auto;line-height:normal;font-family:Menlo,'DejaVu Sans Mono',consolas,'Courier New',monospace;margin:0px\"><span style=\"color: #008080; text-decoration-color: #008080; font-weight: bold\">reactants</span> = <span style=\"font-weight: bold; text-decoration: underline\">{Ingredient × 250}</span>\n",
       "</pre>\n"
      ],
      "text/plain": [
       "\u001b[1;36mreactants\u001b[0m = \u001b[1;4m{Ingredient × 250}\u001b[0m\n"
      ]
     },
     "metadata": {},
     "output_type": "display_data"
    },
    {
     "data": {
      "text/html": [
       "<pre style=\"white-space:pre;overflow-x:auto;line-height:normal;font-family:Menlo,'DejaVu Sans Mono',consolas,'Courier New',monospace;margin:0px\"><span style=\"color: #008080; text-decoration-color: #008080; font-weight: bold\">intermediates</span> = <span style=\"font-weight: bold; text-decoration: underline\">{Ingredient × 0}</span>\n",
       "</pre>\n"
      ],
      "text/plain": [
       "\u001b[1;36mintermediates\u001b[0m = \u001b[1;4m{Ingredient × 0}\u001b[0m\n"
      ]
     },
     "metadata": {},
     "output_type": "display_data"
    },
    {
     "data": {
      "text/html": [
       "<pre style=\"white-space:pre;overflow-x:auto;line-height:normal;font-family:Menlo,'DejaVu Sans Mono',consolas,'Courier New',monospace;margin:0px\"><span style=\"color: #008080; text-decoration-color: #008080; font-weight: bold\">products</span> = <span style=\"font-weight: bold; text-decoration: underline\">{Ingredient × 274}</span>\n",
       "</pre>\n"
      ],
      "text/plain": [
       "\u001b[1;36mproducts\u001b[0m = \u001b[1;4m{Ingredient × 274}\u001b[0m\n"
      ]
     },
     "metadata": {},
     "output_type": "display_data"
    },
    {
     "data": {
      "text/html": [
       "<pre style=\"white-space:pre;overflow-x:auto;line-height:normal;font-family:Menlo,'DejaVu Sans Mono',consolas,'Courier New',monospace;margin:0px\"><span style=\"color: #008080; text-decoration-color: #008080; font-weight: bold\">reactions</span> = <span style=\"font-weight: bold; text-decoration: underline\">{R × 274}</span>\n",
       "</pre>\n"
      ],
      "text/plain": [
       "\u001b[1;36mreactions\u001b[0m = \u001b[1;4m{R × 274}\u001b[0m\n"
      ]
     },
     "metadata": {},
     "output_type": "display_data"
    }
   ],
   "source": [
    "big_recipe = hippo.Recipe.from_json(animal.db, \"3C_t3c_i1a_entire_recipe.json\")"
   ]
  },
  {
   "cell_type": "code",
   "execution_count": 28,
   "id": "e6b0a899-a7c8-4581-b987-e64ee2499a9f",
   "metadata": {},
   "outputs": [
    {
     "data": {
      "text/plain": [
       "\u001b[1m\u001b[4m€50266.00 EUR\u001b[22m\u001b[24m"
      ]
     },
     "execution_count": 28,
     "metadata": {},
     "output_type": "execute_result"
    }
   ],
   "source": [
    "big_recipe.price"
   ]
  },
  {
   "cell_type": "code",
   "execution_count": 31,
   "id": "90a45a64-49a9-4858-bcce-3434a5aa6ff9",
   "metadata": {
    "scrolled": true
   },
   "outputs": [
    {
     "data": {
      "text/html": [
       "<pre style=\"white-space:pre;overflow-x:auto;line-height:normal;font-family:Menlo,'DejaVu Sans Mono',consolas,'Courier New',monospace;margin:0px\"><span style=\"color: #008080; text-decoration-color: #008080; font-weight: bold\">#compounds</span> = <span style=\"color: #008080; text-decoration-color: #008080; font-weight: bold\">274</span>\n",
       "</pre>\n"
      ],
      "text/plain": [
       "\u001b[1;36m#compounds\u001b[0m = \u001b[1;36m274\u001b[0m\n"
      ]
     },
     "metadata": {},
     "output_type": "display_data"
    },
    {
     "data": {
      "application/vnd.jupyter.widget-view+json": {
       "model_id": "90f7df4b60b04146ac3ee70147ad2476",
       "version_major": 2,
       "version_minor": 0
      },
      "text/plain": [
       "Output()"
      ]
     },
     "metadata": {},
     "output_type": "display_data"
    },
    {
     "data": {
      "text/html": [
       "<pre style=\"white-space:pre;overflow-x:auto;line-height:normal;font-family:Menlo,'DejaVu Sans Mono',consolas,'Courier New',monospace;margin:0px\"><span style=\"background-color: #800000; font-weight: bold\"> ERROR </span><span style=\"color: #800000; text-decoration-color: #800000; font-weight: bold\"> Reactants not available for reaction=\u001b[1m\u001b[4mR8820: C18027 + C18083 -&gt; C2022 via Reductive_amination\u001b[22m\u001b[24m!</span>\n",
       "</pre>\n"
      ],
      "text/plain": [
       "\u001b[1;7;31m ERROR \u001b[0m\u001b[1;31m Reactants not available for reaction=\u001b[1m\u001b[4mR8820: C18027 + C18083 -> C2022 via Reductive_amination\u001b[22m\u001b[24m!\u001b[0m\n"
      ]
     },
     "metadata": {},
     "output_type": "display_data"
    },
    {
     "data": {
      "text/html": [
       "<pre style=\"white-space:pre;overflow-x:auto;line-height:normal;font-family:Menlo,'DejaVu Sans Mono',consolas,'Courier New',monospace;margin:0px\"><span style=\"background-color: #800000; font-weight: bold\"> ERROR </span><span style=\"color: #800000; text-decoration-color: #800000; font-weight: bold\"> No solutions for compound=C2022 (comp.reactions.ids=[8820])!</span>\n",
       "</pre>\n"
      ],
      "text/plain": [
       "\u001b[1;7;31m ERROR \u001b[0m\u001b[1;31m No solutions for compound=C2022 (comp.reactions.ids=[8820])!\u001b[0m\n"
      ]
     },
     "metadata": {},
     "output_type": "display_data"
    },
    {
     "data": {
      "text/html": [
       "<pre style=\"white-space:pre;overflow-x:auto;line-height:normal;font-family:Menlo,'DejaVu Sans Mono',consolas,'Courier New',monospace;margin:0px\"><span style=\"background-color: #008000; font-weight: bold\"> Success </span><span style=\"color: #008000; text-decoration-color: #008000; font-weight: bold\"> Found solution for compound=C2134!</span>\n",
       "</pre>\n"
      ],
      "text/plain": [
       "\u001b[1;7;32m Success \u001b[0m\u001b[1;32m Found solution for compound=C2134!\u001b[0m\n"
      ]
     },
     "metadata": {},
     "output_type": "display_data"
    },
    {
     "data": {
      "text/html": [
       "<pre style=\"white-space:pre;overflow-x:auto;line-height:normal;font-family:Menlo,'DejaVu Sans Mono',consolas,'Courier New',monospace;margin:0px\"><span style=\"background-color: #008000; font-weight: bold\"> Success </span><span style=\"color: #008000; text-decoration-color: #008000; font-weight: bold\"> Found solution for compound=C2845!</span>\n",
       "</pre>\n"
      ],
      "text/plain": [
       "\u001b[1;7;32m Success \u001b[0m\u001b[1;32m Found solution for compound=C2845!\u001b[0m\n"
      ]
     },
     "metadata": {},
     "output_type": "display_data"
    },
    {
     "data": {
      "text/html": [
       "<pre style=\"white-space:pre;overflow-x:auto;line-height:normal;font-family:Menlo,'DejaVu Sans Mono',consolas,'Courier New',monospace;margin:0px\"><span style=\"background-color: #008000; font-weight: bold\"> Success </span><span style=\"color: #008000; text-decoration-color: #008000; font-weight: bold\"> Found solution for compound=C3233!</span>\n",
       "</pre>\n"
      ],
      "text/plain": [
       "\u001b[1;7;32m Success \u001b[0m\u001b[1;32m Found solution for compound=C3233!\u001b[0m\n"
      ]
     },
     "metadata": {},
     "output_type": "display_data"
    },
    {
     "data": {
      "text/html": [
       "<pre style=\"white-space:pre;overflow-x:auto;line-height:normal;font-family:Menlo,'DejaVu Sans Mono',consolas,'Courier New',monospace;margin:0px\"><span style=\"background-color: #008000; font-weight: bold\"> Success </span><span style=\"color: #008000; text-decoration-color: #008000; font-weight: bold\"> Found solution for compound=C3254!</span>\n",
       "</pre>\n"
      ],
      "text/plain": [
       "\u001b[1;7;32m Success \u001b[0m\u001b[1;32m Found solution for compound=C3254!\u001b[0m\n"
      ]
     },
     "metadata": {},
     "output_type": "display_data"
    },
    {
     "data": {
      "text/html": [
       "<pre style=\"white-space:pre;overflow-x:auto;line-height:normal;font-family:Menlo,'DejaVu Sans Mono',consolas,'Courier New',monospace;margin:0px\"><span style=\"background-color: #008000; font-weight: bold\"> Success </span><span style=\"color: #008000; text-decoration-color: #008000; font-weight: bold\"> Found solution for compound=C3264!</span>\n",
       "</pre>\n"
      ],
      "text/plain": [
       "\u001b[1;7;32m Success \u001b[0m\u001b[1;32m Found solution for compound=C3264!\u001b[0m\n"
      ]
     },
     "metadata": {},
     "output_type": "display_data"
    },
    {
     "data": {
      "text/html": [
       "<pre style=\"white-space:pre;overflow-x:auto;line-height:normal;font-family:Menlo,'DejaVu Sans Mono',consolas,'Courier New',monospace;margin:0px\"><span style=\"background-color: #008000; font-weight: bold\"> Success </span><span style=\"color: #008000; text-decoration-color: #008000; font-weight: bold\"> Found solution for compound=C3360!</span>\n",
       "</pre>\n"
      ],
      "text/plain": [
       "\u001b[1;7;32m Success \u001b[0m\u001b[1;32m Found solution for compound=C3360!\u001b[0m\n"
      ]
     },
     "metadata": {},
     "output_type": "display_data"
    },
    {
     "data": {
      "text/html": [
       "<pre style=\"white-space:pre;overflow-x:auto;line-height:normal;font-family:Menlo,'DejaVu Sans Mono',consolas,'Courier New',monospace;margin:0px\"><span style=\"background-color: #008000; font-weight: bold\"> Success </span><span style=\"color: #008000; text-decoration-color: #008000; font-weight: bold\"> Found solution for compound=C3996!</span>\n",
       "</pre>\n"
      ],
      "text/plain": [
       "\u001b[1;7;32m Success \u001b[0m\u001b[1;32m Found solution for compound=C3996!\u001b[0m\n"
      ]
     },
     "metadata": {},
     "output_type": "display_data"
    },
    {
     "data": {
      "text/html": [
       "<pre style=\"white-space:pre;overflow-x:auto;line-height:normal;font-family:Menlo,'DejaVu Sans Mono',consolas,'Courier New',monospace;margin:0px\"><span style=\"background-color: #008000; font-weight: bold\"> Success </span><span style=\"color: #008000; text-decoration-color: #008000; font-weight: bold\"> Found solution for compound=C5315!</span>\n",
       "</pre>\n"
      ],
      "text/plain": [
       "\u001b[1;7;32m Success \u001b[0m\u001b[1;32m Found solution for compound=C5315!\u001b[0m\n"
      ]
     },
     "metadata": {},
     "output_type": "display_data"
    },
    {
     "data": {
      "text/html": [
       "<pre style=\"white-space:pre;overflow-x:auto;line-height:normal;font-family:Menlo,'DejaVu Sans Mono',consolas,'Courier New',monospace;margin:0px\"><span style=\"background-color: #008000; font-weight: bold\"> Success </span><span style=\"color: #008000; text-decoration-color: #008000; font-weight: bold\"> Found solution for compound=C5316!</span>\n",
       "</pre>\n"
      ],
      "text/plain": [
       "\u001b[1;7;32m Success \u001b[0m\u001b[1;32m Found solution for compound=C5316!\u001b[0m\n"
      ]
     },
     "metadata": {},
     "output_type": "display_data"
    },
    {
     "data": {
      "text/html": [
       "<pre style=\"white-space:pre;overflow-x:auto;line-height:normal;font-family:Menlo,'DejaVu Sans Mono',consolas,'Courier New',monospace;margin:0px\"><span style=\"background-color: #008000; font-weight: bold\"> Success </span><span style=\"color: #008000; text-decoration-color: #008000; font-weight: bold\"> Found solution for compound=C5327!</span>\n",
       "</pre>\n"
      ],
      "text/plain": [
       "\u001b[1;7;32m Success \u001b[0m\u001b[1;32m Found solution for compound=C5327!\u001b[0m\n"
      ]
     },
     "metadata": {},
     "output_type": "display_data"
    },
    {
     "data": {
      "text/html": [
       "<pre style=\"white-space:pre;overflow-x:auto;line-height:normal;font-family:Menlo,'DejaVu Sans Mono',consolas,'Courier New',monospace;margin:0px\"><span style=\"background-color: #008000; font-weight: bold\"> Success </span><span style=\"color: #008000; text-decoration-color: #008000; font-weight: bold\"> Found solution for compound=C5856!</span>\n",
       "</pre>\n"
      ],
      "text/plain": [
       "\u001b[1;7;32m Success \u001b[0m\u001b[1;32m Found solution for compound=C5856!\u001b[0m\n"
      ]
     },
     "metadata": {},
     "output_type": "display_data"
    },
    {
     "data": {
      "text/html": [
       "<pre style=\"white-space:pre;overflow-x:auto;line-height:normal;font-family:Menlo,'DejaVu Sans Mono',consolas,'Courier New',monospace;margin:0px\"><span style=\"background-color: #008000; font-weight: bold\"> Success </span><span style=\"color: #008000; text-decoration-color: #008000; font-weight: bold\"> Found solution for compound=C5868!</span>\n",
       "</pre>\n"
      ],
      "text/plain": [
       "\u001b[1;7;32m Success \u001b[0m\u001b[1;32m Found solution for compound=C5868!\u001b[0m\n"
      ]
     },
     "metadata": {},
     "output_type": "display_data"
    },
    {
     "data": {
      "text/html": [
       "<pre style=\"white-space:pre;overflow-x:auto;line-height:normal;font-family:Menlo,'DejaVu Sans Mono',consolas,'Courier New',monospace;margin:0px\"><span style=\"background-color: #008000; font-weight: bold\"> Success </span><span style=\"color: #008000; text-decoration-color: #008000; font-weight: bold\"> Found solution for compound=C5906!</span>\n",
       "</pre>\n"
      ],
      "text/plain": [
       "\u001b[1;7;32m Success \u001b[0m\u001b[1;32m Found solution for compound=C5906!\u001b[0m\n"
      ]
     },
     "metadata": {},
     "output_type": "display_data"
    },
    {
     "data": {
      "text/html": [
       "<pre style=\"white-space:pre;overflow-x:auto;line-height:normal;font-family:Menlo,'DejaVu Sans Mono',consolas,'Courier New',monospace;margin:0px\"><span style=\"background-color: #800000; font-weight: bold\"> ERROR </span><span style=\"color: #800000; text-decoration-color: #800000; font-weight: bold\"> Reactants not available for reaction=\u001b[1m\u001b[4mR20302: C31795 + C31881 -&gt; C7035 via </span>\n",
       "<span style=\"color: #800000; text-decoration-color: #800000; font-weight: bold\">Reductive_amination\u001b[22m\u001b[24m!</span>\n",
       "</pre>\n"
      ],
      "text/plain": [
       "\u001b[1;7;31m ERROR \u001b[0m\u001b[1;31m Reactants not available for reaction=\u001b[1m\u001b[4mR20302: C31795 + C31881 -> C7035 via \u001b[0m\n",
       "\u001b[1;31mReductive_amination\u001b[22m\u001b[24m!\u001b[0m\n"
      ]
     },
     "metadata": {},
     "output_type": "display_data"
    },
    {
     "data": {
      "text/html": [
       "<pre style=\"white-space:pre;overflow-x:auto;line-height:normal;font-family:Menlo,'DejaVu Sans Mono',consolas,'Courier New',monospace;margin:0px\"><span style=\"background-color: #800000; font-weight: bold\"> ERROR </span><span style=\"color: #800000; text-decoration-color: #800000; font-weight: bold\"> No solutions for compound=C7035 (comp.reactions.ids=[20302])!</span>\n",
       "</pre>\n"
      ],
      "text/plain": [
       "\u001b[1;7;31m ERROR \u001b[0m\u001b[1;31m No solutions for compound=C7035 (comp.reactions.ids=[20302])!\u001b[0m\n"
      ]
     },
     "metadata": {},
     "output_type": "display_data"
    },
    {
     "data": {
      "text/html": [
       "<pre style=\"white-space:pre;overflow-x:auto;line-height:normal;font-family:Menlo,'DejaVu Sans Mono',consolas,'Courier New',monospace;margin:0px\"><span style=\"background-color: #800000; font-weight: bold\"> ERROR </span><span style=\"color: #800000; text-decoration-color: #800000; font-weight: bold\"> Reactants not available for reaction=\u001b[1m\u001b[4mR29259: C31881 + C41858 -&gt; C7036 via </span>\n",
       "<span style=\"color: #800000; text-decoration-color: #800000; font-weight: bold\">Reductive_amination\u001b[22m\u001b[24m!</span>\n",
       "</pre>\n"
      ],
      "text/plain": [
       "\u001b[1;7;31m ERROR \u001b[0m\u001b[1;31m Reactants not available for reaction=\u001b[1m\u001b[4mR29259: C31881 + C41858 -> C7036 via \u001b[0m\n",
       "\u001b[1;31mReductive_amination\u001b[22m\u001b[24m!\u001b[0m\n"
      ]
     },
     "metadata": {},
     "output_type": "display_data"
    },
    {
     "data": {
      "text/html": [
       "<pre style=\"white-space:pre;overflow-x:auto;line-height:normal;font-family:Menlo,'DejaVu Sans Mono',consolas,'Courier New',monospace;margin:0px\"><span style=\"background-color: #800000; font-weight: bold\"> ERROR </span><span style=\"color: #800000; text-decoration-color: #800000; font-weight: bold\"> No solutions for compound=C7036 (comp.reactions.ids=[29259])!</span>\n",
       "</pre>\n"
      ],
      "text/plain": [
       "\u001b[1;7;31m ERROR \u001b[0m\u001b[1;31m No solutions for compound=C7036 (comp.reactions.ids=[29259])!\u001b[0m\n"
      ]
     },
     "metadata": {},
     "output_type": "display_data"
    },
    {
     "data": {
      "text/html": [
       "<pre style=\"white-space:pre;overflow-x:auto;line-height:normal;font-family:Menlo,'DejaVu Sans Mono',consolas,'Courier New',monospace;margin:0px\"><span style=\"background-color: #008000; font-weight: bold\"> Success </span><span style=\"color: #008000; text-decoration-color: #008000; font-weight: bold\"> Found solution for compound=C7068!</span>\n",
       "</pre>\n"
      ],
      "text/plain": [
       "\u001b[1;7;32m Success \u001b[0m\u001b[1;32m Found solution for compound=C7068!\u001b[0m\n"
      ]
     },
     "metadata": {},
     "output_type": "display_data"
    },
    {
     "data": {
      "text/html": [
       "<pre style=\"white-space:pre;overflow-x:auto;line-height:normal;font-family:Menlo,'DejaVu Sans Mono',consolas,'Courier New',monospace;margin:0px\"><span style=\"background-color: #008000; font-weight: bold\"> Success </span><span style=\"color: #008000; text-decoration-color: #008000; font-weight: bold\"> Found solution for compound=C7190!</span>\n",
       "</pre>\n"
      ],
      "text/plain": [
       "\u001b[1;7;32m Success \u001b[0m\u001b[1;32m Found solution for compound=C7190!\u001b[0m\n"
      ]
     },
     "metadata": {},
     "output_type": "display_data"
    },
    {
     "data": {
      "text/html": [
       "<pre style=\"white-space:pre;overflow-x:auto;line-height:normal;font-family:Menlo,'DejaVu Sans Mono',consolas,'Courier New',monospace;margin:0px\"><span style=\"background-color: #008000; font-weight: bold\"> Success </span><span style=\"color: #008000; text-decoration-color: #008000; font-weight: bold\"> Found solution for compound=C7248!</span>\n",
       "</pre>\n"
      ],
      "text/plain": [
       "\u001b[1;7;32m Success \u001b[0m\u001b[1;32m Found solution for compound=C7248!\u001b[0m\n"
      ]
     },
     "metadata": {},
     "output_type": "display_data"
    },
    {
     "data": {
      "text/html": [
       "<pre style=\"white-space:pre;overflow-x:auto;line-height:normal;font-family:Menlo,'DejaVu Sans Mono',consolas,'Courier New',monospace;margin:0px\"><span style=\"background-color: #008000; font-weight: bold\"> Success </span><span style=\"color: #008000; text-decoration-color: #008000; font-weight: bold\"> Found solution for compound=C7446!</span>\n",
       "</pre>\n"
      ],
      "text/plain": [
       "\u001b[1;7;32m Success \u001b[0m\u001b[1;32m Found solution for compound=C7446!\u001b[0m\n"
      ]
     },
     "metadata": {},
     "output_type": "display_data"
    },
    {
     "data": {
      "text/html": [
       "<pre style=\"white-space:pre;overflow-x:auto;line-height:normal;font-family:Menlo,'DejaVu Sans Mono',consolas,'Courier New',monospace;margin:0px\"><span style=\"background-color: #008000; font-weight: bold\"> Success </span><span style=\"color: #008000; text-decoration-color: #008000; font-weight: bold\"> Found solution for compound=C7449!</span>\n",
       "</pre>\n"
      ],
      "text/plain": [
       "\u001b[1;7;32m Success \u001b[0m\u001b[1;32m Found solution for compound=C7449!\u001b[0m\n"
      ]
     },
     "metadata": {},
     "output_type": "display_data"
    },
    {
     "data": {
      "text/html": [
       "<pre style=\"white-space:pre;overflow-x:auto;line-height:normal;font-family:Menlo,'DejaVu Sans Mono',consolas,'Courier New',monospace;margin:0px\"><span style=\"background-color: #008000; font-weight: bold\"> Success </span><span style=\"color: #008000; text-decoration-color: #008000; font-weight: bold\"> Found solution for compound=C7853!</span>\n",
       "</pre>\n"
      ],
      "text/plain": [
       "\u001b[1;7;32m Success \u001b[0m\u001b[1;32m Found solution for compound=C7853!\u001b[0m\n"
      ]
     },
     "metadata": {},
     "output_type": "display_data"
    },
    {
     "data": {
      "text/html": [
       "<pre style=\"white-space:pre;overflow-x:auto;line-height:normal;font-family:Menlo,'DejaVu Sans Mono',consolas,'Courier New',monospace;margin:0px\"><span style=\"background-color: #008000; font-weight: bold\"> Success </span><span style=\"color: #008000; text-decoration-color: #008000; font-weight: bold\"> Found solution for compound=C7854!</span>\n",
       "</pre>\n"
      ],
      "text/plain": [
       "\u001b[1;7;32m Success \u001b[0m\u001b[1;32m Found solution for compound=C7854!\u001b[0m\n"
      ]
     },
     "metadata": {},
     "output_type": "display_data"
    },
    {
     "data": {
      "text/html": [
       "<pre style=\"white-space:pre;overflow-x:auto;line-height:normal;font-family:Menlo,'DejaVu Sans Mono',consolas,'Courier New',monospace;margin:0px\"><span style=\"background-color: #008000; font-weight: bold\"> Success </span><span style=\"color: #008000; text-decoration-color: #008000; font-weight: bold\"> Found solution for compound=C7861!</span>\n",
       "</pre>\n"
      ],
      "text/plain": [
       "\u001b[1;7;32m Success \u001b[0m\u001b[1;32m Found solution for compound=C7861!\u001b[0m\n"
      ]
     },
     "metadata": {},
     "output_type": "display_data"
    },
    {
     "data": {
      "text/html": [
       "<pre style=\"white-space:pre;overflow-x:auto;line-height:normal;font-family:Menlo,'DejaVu Sans Mono',consolas,'Courier New',monospace;margin:0px\"><span style=\"background-color: #008000; font-weight: bold\"> Success </span><span style=\"color: #008000; text-decoration-color: #008000; font-weight: bold\"> Found solution for compound=C7879!</span>\n",
       "</pre>\n"
      ],
      "text/plain": [
       "\u001b[1;7;32m Success \u001b[0m\u001b[1;32m Found solution for compound=C7879!\u001b[0m\n"
      ]
     },
     "metadata": {},
     "output_type": "display_data"
    },
    {
     "data": {
      "text/html": [
       "<pre style=\"white-space:pre;overflow-x:auto;line-height:normal;font-family:Menlo,'DejaVu Sans Mono',consolas,'Courier New',monospace;margin:0px\"><span style=\"background-color: #800000; font-weight: bold\"> ERROR </span><span style=\"color: #800000; text-decoration-color: #800000; font-weight: bold\"> Reactants not available for reaction=\u001b[1m\u001b[4mR444: C7274 + C7425 -&gt; C7880 via Amidation\u001b[22m\u001b[24m!</span>\n",
       "</pre>\n"
      ],
      "text/plain": [
       "\u001b[1;7;31m ERROR \u001b[0m\u001b[1;31m Reactants not available for reaction=\u001b[1m\u001b[4mR444: C7274 + C7425 -> C7880 via Amidation\u001b[22m\u001b[24m!\u001b[0m\n"
      ]
     },
     "metadata": {},
     "output_type": "display_data"
    },
    {
     "data": {
      "text/html": [
       "<pre style=\"white-space:pre;overflow-x:auto;line-height:normal;font-family:Menlo,'DejaVu Sans Mono',consolas,'Courier New',monospace;margin:0px\"><span style=\"background-color: #800000; font-weight: bold\"> ERROR </span><span style=\"color: #800000; text-decoration-color: #800000; font-weight: bold\"> No solutions for compound=C7880 (comp.reactions.ids=[444])!</span>\n",
       "</pre>\n"
      ],
      "text/plain": [
       "\u001b[1;7;31m ERROR \u001b[0m\u001b[1;31m No solutions for compound=C7880 (comp.reactions.ids=[444])!\u001b[0m\n"
      ]
     },
     "metadata": {},
     "output_type": "display_data"
    },
    {
     "data": {
      "text/html": [
       "<pre style=\"white-space:pre;overflow-x:auto;line-height:normal;font-family:Menlo,'DejaVu Sans Mono',consolas,'Courier New',monospace;margin:0px\"><span style=\"background-color: #008000; font-weight: bold\"> Success </span><span style=\"color: #008000; text-decoration-color: #008000; font-weight: bold\"> Found solution for compound=C7887!</span>\n",
       "</pre>\n"
      ],
      "text/plain": [
       "\u001b[1;7;32m Success \u001b[0m\u001b[1;32m Found solution for compound=C7887!\u001b[0m\n"
      ]
     },
     "metadata": {},
     "output_type": "display_data"
    },
    {
     "data": {
      "text/html": [
       "<pre style=\"white-space:pre;overflow-x:auto;line-height:normal;font-family:Menlo,'DejaVu Sans Mono',consolas,'Courier New',monospace;margin:0px\"><span style=\"background-color: #008000; font-weight: bold\"> Success </span><span style=\"color: #008000; text-decoration-color: #008000; font-weight: bold\"> Found solution for compound=C7889!</span>\n",
       "</pre>\n"
      ],
      "text/plain": [
       "\u001b[1;7;32m Success \u001b[0m\u001b[1;32m Found solution for compound=C7889!\u001b[0m\n"
      ]
     },
     "metadata": {},
     "output_type": "display_data"
    },
    {
     "data": {
      "text/html": [
       "<pre style=\"white-space:pre;overflow-x:auto;line-height:normal;font-family:Menlo,'DejaVu Sans Mono',consolas,'Courier New',monospace;margin:0px\"><span style=\"background-color: #008000; font-weight: bold\"> Success </span><span style=\"color: #008000; text-decoration-color: #008000; font-weight: bold\"> Found solution for compound=C7890!</span>\n",
       "</pre>\n"
      ],
      "text/plain": [
       "\u001b[1;7;32m Success \u001b[0m\u001b[1;32m Found solution for compound=C7890!\u001b[0m\n"
      ]
     },
     "metadata": {},
     "output_type": "display_data"
    },
    {
     "data": {
      "text/html": [
       "<pre style=\"white-space:pre;overflow-x:auto;line-height:normal;font-family:Menlo,'DejaVu Sans Mono',consolas,'Courier New',monospace;margin:0px\"><span style=\"background-color: #008000; font-weight: bold\"> Success </span><span style=\"color: #008000; text-decoration-color: #008000; font-weight: bold\"> Found solution for compound=C7891!</span>\n",
       "</pre>\n"
      ],
      "text/plain": [
       "\u001b[1;7;32m Success \u001b[0m\u001b[1;32m Found solution for compound=C7891!\u001b[0m\n"
      ]
     },
     "metadata": {},
     "output_type": "display_data"
    },
    {
     "data": {
      "text/html": [
       "<pre style=\"white-space:pre;overflow-x:auto;line-height:normal;font-family:Menlo,'DejaVu Sans Mono',consolas,'Courier New',monospace;margin:0px\"><span style=\"background-color: #008000; font-weight: bold\"> Success </span><span style=\"color: #008000; text-decoration-color: #008000; font-weight: bold\"> Found solution for compound=C7894!</span>\n",
       "</pre>\n"
      ],
      "text/plain": [
       "\u001b[1;7;32m Success \u001b[0m\u001b[1;32m Found solution for compound=C7894!\u001b[0m\n"
      ]
     },
     "metadata": {},
     "output_type": "display_data"
    },
    {
     "data": {
      "text/html": [
       "<pre style=\"white-space:pre;overflow-x:auto;line-height:normal;font-family:Menlo,'DejaVu Sans Mono',consolas,'Courier New',monospace;margin:0px\"><span style=\"background-color: #008000; font-weight: bold\"> Success </span><span style=\"color: #008000; text-decoration-color: #008000; font-weight: bold\"> Found solution for compound=C7898!</span>\n",
       "</pre>\n"
      ],
      "text/plain": [
       "\u001b[1;7;32m Success \u001b[0m\u001b[1;32m Found solution for compound=C7898!\u001b[0m\n"
      ]
     },
     "metadata": {},
     "output_type": "display_data"
    },
    {
     "data": {
      "text/html": [
       "<pre style=\"white-space:pre;overflow-x:auto;line-height:normal;font-family:Menlo,'DejaVu Sans Mono',consolas,'Courier New',monospace;margin:0px\"><span style=\"background-color: #008000; font-weight: bold\"> Success </span><span style=\"color: #008000; text-decoration-color: #008000; font-weight: bold\"> Found solution for compound=C8659!</span>\n",
       "</pre>\n"
      ],
      "text/plain": [
       "\u001b[1;7;32m Success \u001b[0m\u001b[1;32m Found solution for compound=C8659!\u001b[0m\n"
      ]
     },
     "metadata": {},
     "output_type": "display_data"
    },
    {
     "data": {
      "text/html": [
       "<pre style=\"white-space:pre;overflow-x:auto;line-height:normal;font-family:Menlo,'DejaVu Sans Mono',consolas,'Courier New',monospace;margin:0px\"><span style=\"background-color: #008000; font-weight: bold\"> Success </span><span style=\"color: #008000; text-decoration-color: #008000; font-weight: bold\"> Found solution for compound=C8662!</span>\n",
       "</pre>\n"
      ],
      "text/plain": [
       "\u001b[1;7;32m Success \u001b[0m\u001b[1;32m Found solution for compound=C8662!\u001b[0m\n"
      ]
     },
     "metadata": {},
     "output_type": "display_data"
    },
    {
     "data": {
      "text/html": [
       "<pre style=\"white-space:pre;overflow-x:auto;line-height:normal;font-family:Menlo,'DejaVu Sans Mono',consolas,'Courier New',monospace;margin:0px\"><span style=\"background-color: #008000; font-weight: bold\"> Success </span><span style=\"color: #008000; text-decoration-color: #008000; font-weight: bold\"> Found solution for compound=C8663!</span>\n",
       "</pre>\n"
      ],
      "text/plain": [
       "\u001b[1;7;32m Success \u001b[0m\u001b[1;32m Found solution for compound=C8663!\u001b[0m\n"
      ]
     },
     "metadata": {},
     "output_type": "display_data"
    },
    {
     "data": {
      "text/html": [
       "<pre style=\"white-space:pre;overflow-x:auto;line-height:normal;font-family:Menlo,'DejaVu Sans Mono',consolas,'Courier New',monospace;margin:0px\"><span style=\"background-color: #008000; font-weight: bold\"> Success </span><span style=\"color: #008000; text-decoration-color: #008000; font-weight: bold\"> Found solution for compound=C8664!</span>\n",
       "</pre>\n"
      ],
      "text/plain": [
       "\u001b[1;7;32m Success \u001b[0m\u001b[1;32m Found solution for compound=C8664!\u001b[0m\n"
      ]
     },
     "metadata": {},
     "output_type": "display_data"
    },
    {
     "data": {
      "text/html": [
       "<pre style=\"white-space:pre;overflow-x:auto;line-height:normal;font-family:Menlo,'DejaVu Sans Mono',consolas,'Courier New',monospace;margin:0px\"><span style=\"background-color: #008000; font-weight: bold\"> Success </span><span style=\"color: #008000; text-decoration-color: #008000; font-weight: bold\"> Found solution for compound=C8667!</span>\n",
       "</pre>\n"
      ],
      "text/plain": [
       "\u001b[1;7;32m Success \u001b[0m\u001b[1;32m Found solution for compound=C8667!\u001b[0m\n"
      ]
     },
     "metadata": {},
     "output_type": "display_data"
    },
    {
     "data": {
      "text/html": [
       "<pre style=\"white-space:pre;overflow-x:auto;line-height:normal;font-family:Menlo,'DejaVu Sans Mono',consolas,'Courier New',monospace;margin:0px\"><span style=\"background-color: #008000; font-weight: bold\"> Success </span><span style=\"color: #008000; text-decoration-color: #008000; font-weight: bold\"> Found solution for compound=C8673!</span>\n",
       "</pre>\n"
      ],
      "text/plain": [
       "\u001b[1;7;32m Success \u001b[0m\u001b[1;32m Found solution for compound=C8673!\u001b[0m\n"
      ]
     },
     "metadata": {},
     "output_type": "display_data"
    },
    {
     "data": {
      "text/html": [
       "<pre style=\"white-space:pre;overflow-x:auto;line-height:normal;font-family:Menlo,'DejaVu Sans Mono',consolas,'Courier New',monospace;margin:0px\"><span style=\"background-color: #008000; font-weight: bold\"> Success </span><span style=\"color: #008000; text-decoration-color: #008000; font-weight: bold\"> Found solution for compound=C8717!</span>\n",
       "</pre>\n"
      ],
      "text/plain": [
       "\u001b[1;7;32m Success \u001b[0m\u001b[1;32m Found solution for compound=C8717!\u001b[0m\n"
      ]
     },
     "metadata": {},
     "output_type": "display_data"
    },
    {
     "data": {
      "text/html": [
       "<pre style=\"white-space:pre;overflow-x:auto;line-height:normal;font-family:Menlo,'DejaVu Sans Mono',consolas,'Courier New',monospace;margin:0px\"><span style=\"background-color: #008000; font-weight: bold\"> Success </span><span style=\"color: #008000; text-decoration-color: #008000; font-weight: bold\"> Found solution for compound=C8720!</span>\n",
       "</pre>\n"
      ],
      "text/plain": [
       "\u001b[1;7;32m Success \u001b[0m\u001b[1;32m Found solution for compound=C8720!\u001b[0m\n"
      ]
     },
     "metadata": {},
     "output_type": "display_data"
    },
    {
     "data": {
      "text/html": [
       "<pre style=\"white-space:pre;overflow-x:auto;line-height:normal;font-family:Menlo,'DejaVu Sans Mono',consolas,'Courier New',monospace;margin:0px\"><span style=\"background-color: #008000; font-weight: bold\"> Success </span><span style=\"color: #008000; text-decoration-color: #008000; font-weight: bold\"> Found solution for compound=C8721!</span>\n",
       "</pre>\n"
      ],
      "text/plain": [
       "\u001b[1;7;32m Success \u001b[0m\u001b[1;32m Found solution for compound=C8721!\u001b[0m\n"
      ]
     },
     "metadata": {},
     "output_type": "display_data"
    },
    {
     "data": {
      "text/html": [
       "<pre style=\"white-space:pre;overflow-x:auto;line-height:normal;font-family:Menlo,'DejaVu Sans Mono',consolas,'Courier New',monospace;margin:0px\"><span style=\"background-color: #800000; font-weight: bold\"> ERROR </span><span style=\"color: #800000; text-decoration-color: #800000; font-weight: bold\"> Reactants not available for reaction=\u001b[1m\u001b[4mR1382: C7328 + C7351 -&gt; C8818 via Amidation\u001b[22m\u001b[24m!</span>\n",
       "</pre>\n"
      ],
      "text/plain": [
       "\u001b[1;7;31m ERROR \u001b[0m\u001b[1;31m Reactants not available for reaction=\u001b[1m\u001b[4mR1382: C7328 + C7351 -> C8818 via Amidation\u001b[22m\u001b[24m!\u001b[0m\n"
      ]
     },
     "metadata": {},
     "output_type": "display_data"
    },
    {
     "data": {
      "text/html": [
       "<pre style=\"white-space:pre;overflow-x:auto;line-height:normal;font-family:Menlo,'DejaVu Sans Mono',consolas,'Courier New',monospace;margin:0px\"><span style=\"background-color: #800000; font-weight: bold\"> ERROR </span><span style=\"color: #800000; text-decoration-color: #800000; font-weight: bold\"> No solutions for compound=C8818 (comp.reactions.ids=[1382])!</span>\n",
       "</pre>\n"
      ],
      "text/plain": [
       "\u001b[1;7;31m ERROR \u001b[0m\u001b[1;31m No solutions for compound=C8818 (comp.reactions.ids=[1382])!\u001b[0m\n"
      ]
     },
     "metadata": {},
     "output_type": "display_data"
    },
    {
     "data": {
      "text/html": [
       "<pre style=\"white-space:pre;overflow-x:auto;line-height:normal;font-family:Menlo,'DejaVu Sans Mono',consolas,'Courier New',monospace;margin:0px\"><span style=\"background-color: #800000; font-weight: bold\"> ERROR </span><span style=\"color: #800000; text-decoration-color: #800000; font-weight: bold\"> Reactants not available for reaction=\u001b[1m\u001b[4mR1385: C7328 + C7348 -&gt; C8821 via Amidation\u001b[22m\u001b[24m!</span>\n",
       "</pre>\n"
      ],
      "text/plain": [
       "\u001b[1;7;31m ERROR \u001b[0m\u001b[1;31m Reactants not available for reaction=\u001b[1m\u001b[4mR1385: C7328 + C7348 -> C8821 via Amidation\u001b[22m\u001b[24m!\u001b[0m\n"
      ]
     },
     "metadata": {},
     "output_type": "display_data"
    },
    {
     "data": {
      "text/html": [
       "<pre style=\"white-space:pre;overflow-x:auto;line-height:normal;font-family:Menlo,'DejaVu Sans Mono',consolas,'Courier New',monospace;margin:0px\"><span style=\"background-color: #800000; font-weight: bold\"> ERROR </span><span style=\"color: #800000; text-decoration-color: #800000; font-weight: bold\"> No solutions for compound=C8821 (comp.reactions.ids=[1385])!</span>\n",
       "</pre>\n"
      ],
      "text/plain": [
       "\u001b[1;7;31m ERROR \u001b[0m\u001b[1;31m No solutions for compound=C8821 (comp.reactions.ids=[1385])!\u001b[0m\n"
      ]
     },
     "metadata": {},
     "output_type": "display_data"
    },
    {
     "data": {
      "text/html": [
       "<pre style=\"white-space:pre;overflow-x:auto;line-height:normal;font-family:Menlo,'DejaVu Sans Mono',consolas,'Courier New',monospace;margin:0px\"><span style=\"background-color: #800000; font-weight: bold\"> ERROR </span><span style=\"color: #800000; text-decoration-color: #800000; font-weight: bold\"> Reactants not available for reaction=\u001b[1m\u001b[4mR1392: C7328 + C7339 -&gt; C8828 via Amidation\u001b[22m\u001b[24m!</span>\n",
       "</pre>\n"
      ],
      "text/plain": [
       "\u001b[1;7;31m ERROR \u001b[0m\u001b[1;31m Reactants not available for reaction=\u001b[1m\u001b[4mR1392: C7328 + C7339 -> C8828 via Amidation\u001b[22m\u001b[24m!\u001b[0m\n"
      ]
     },
     "metadata": {},
     "output_type": "display_data"
    },
    {
     "data": {
      "text/html": [
       "<pre style=\"white-space:pre;overflow-x:auto;line-height:normal;font-family:Menlo,'DejaVu Sans Mono',consolas,'Courier New',monospace;margin:0px\"><span style=\"background-color: #800000; font-weight: bold\"> ERROR </span><span style=\"color: #800000; text-decoration-color: #800000; font-weight: bold\"> No solutions for compound=C8828 (comp.reactions.ids=[1392])!</span>\n",
       "</pre>\n"
      ],
      "text/plain": [
       "\u001b[1;7;31m ERROR \u001b[0m\u001b[1;31m No solutions for compound=C8828 (comp.reactions.ids=[1392])!\u001b[0m\n"
      ]
     },
     "metadata": {},
     "output_type": "display_data"
    },
    {
     "data": {
      "text/html": [
       "<pre style=\"white-space:pre;overflow-x:auto;line-height:normal;font-family:Menlo,'DejaVu Sans Mono',consolas,'Courier New',monospace;margin:0px\"><span style=\"background-color: #008000; font-weight: bold\"> Success </span><span style=\"color: #008000; text-decoration-color: #008000; font-weight: bold\"> Found solution for compound=C13310!</span>\n",
       "</pre>\n"
      ],
      "text/plain": [
       "\u001b[1;7;32m Success \u001b[0m\u001b[1;32m Found solution for compound=C13310!\u001b[0m\n"
      ]
     },
     "metadata": {},
     "output_type": "display_data"
    },
    {
     "data": {
      "text/html": [
       "<pre style=\"white-space:pre;overflow-x:auto;line-height:normal;font-family:Menlo,'DejaVu Sans Mono',consolas,'Courier New',monospace;margin:0px\"><span style=\"background-color: #008000; font-weight: bold\"> Success </span><span style=\"color: #008000; text-decoration-color: #008000; font-weight: bold\"> Found solution for compound=C13312!</span>\n",
       "</pre>\n"
      ],
      "text/plain": [
       "\u001b[1;7;32m Success \u001b[0m\u001b[1;32m Found solution for compound=C13312!\u001b[0m\n"
      ]
     },
     "metadata": {},
     "output_type": "display_data"
    },
    {
     "data": {
      "text/html": [
       "<pre style=\"white-space:pre;overflow-x:auto;line-height:normal;font-family:Menlo,'DejaVu Sans Mono',consolas,'Courier New',monospace;margin:0px\"><span style=\"background-color: #008000; font-weight: bold\"> Success </span><span style=\"color: #008000; text-decoration-color: #008000; font-weight: bold\"> Found solution for compound=C13321!</span>\n",
       "</pre>\n"
      ],
      "text/plain": [
       "\u001b[1;7;32m Success \u001b[0m\u001b[1;32m Found solution for compound=C13321!\u001b[0m\n"
      ]
     },
     "metadata": {},
     "output_type": "display_data"
    },
    {
     "data": {
      "text/html": [
       "<pre style=\"white-space:pre;overflow-x:auto;line-height:normal;font-family:Menlo,'DejaVu Sans Mono',consolas,'Courier New',monospace;margin:0px\"><span style=\"background-color: #008000; font-weight: bold\"> Success </span><span style=\"color: #008000; text-decoration-color: #008000; font-weight: bold\"> Found solution for compound=C13324!</span>\n",
       "</pre>\n"
      ],
      "text/plain": [
       "\u001b[1;7;32m Success \u001b[0m\u001b[1;32m Found solution for compound=C13324!\u001b[0m\n"
      ]
     },
     "metadata": {},
     "output_type": "display_data"
    },
    {
     "data": {
      "text/html": [
       "<pre style=\"white-space:pre;overflow-x:auto;line-height:normal;font-family:Menlo,'DejaVu Sans Mono',consolas,'Courier New',monospace;margin:0px\"><span style=\"background-color: #008000; font-weight: bold\"> Success </span><span style=\"color: #008000; text-decoration-color: #008000; font-weight: bold\"> Found solution for compound=C13328!</span>\n",
       "</pre>\n"
      ],
      "text/plain": [
       "\u001b[1;7;32m Success \u001b[0m\u001b[1;32m Found solution for compound=C13328!\u001b[0m\n"
      ]
     },
     "metadata": {},
     "output_type": "display_data"
    },
    {
     "data": {
      "text/html": [
       "<pre style=\"white-space:pre;overflow-x:auto;line-height:normal;font-family:Menlo,'DejaVu Sans Mono',consolas,'Courier New',monospace;margin:0px\"><span style=\"background-color: #008000; font-weight: bold\"> Success </span><span style=\"color: #008000; text-decoration-color: #008000; font-weight: bold\"> Found solution for compound=C13987!</span>\n",
       "</pre>\n"
      ],
      "text/plain": [
       "\u001b[1;7;32m Success \u001b[0m\u001b[1;32m Found solution for compound=C13987!\u001b[0m\n"
      ]
     },
     "metadata": {},
     "output_type": "display_data"
    },
    {
     "data": {
      "text/html": [
       "<pre style=\"white-space:pre;overflow-x:auto;line-height:normal;font-family:Menlo,'DejaVu Sans Mono',consolas,'Courier New',monospace;margin:0px\"><span style=\"background-color: #008000; font-weight: bold\"> Success </span><span style=\"color: #008000; text-decoration-color: #008000; font-weight: bold\"> Found solution for compound=C13988!</span>\n",
       "</pre>\n"
      ],
      "text/plain": [
       "\u001b[1;7;32m Success \u001b[0m\u001b[1;32m Found solution for compound=C13988!\u001b[0m\n"
      ]
     },
     "metadata": {},
     "output_type": "display_data"
    },
    {
     "data": {
      "text/html": [
       "<pre style=\"white-space:pre;overflow-x:auto;line-height:normal;font-family:Menlo,'DejaVu Sans Mono',consolas,'Courier New',monospace;margin:0px\"><span style=\"background-color: #008000; font-weight: bold\"> Success </span><span style=\"color: #008000; text-decoration-color: #008000; font-weight: bold\"> Found solution for compound=C13992!</span>\n",
       "</pre>\n"
      ],
      "text/plain": [
       "\u001b[1;7;32m Success \u001b[0m\u001b[1;32m Found solution for compound=C13992!\u001b[0m\n"
      ]
     },
     "metadata": {},
     "output_type": "display_data"
    },
    {
     "data": {
      "text/html": [
       "<pre style=\"white-space:pre;overflow-x:auto;line-height:normal;font-family:Menlo,'DejaVu Sans Mono',consolas,'Courier New',monospace;margin:0px\"><span style=\"background-color: #008000; font-weight: bold\"> Success </span><span style=\"color: #008000; text-decoration-color: #008000; font-weight: bold\"> Found solution for compound=C13993!</span>\n",
       "</pre>\n"
      ],
      "text/plain": [
       "\u001b[1;7;32m Success \u001b[0m\u001b[1;32m Found solution for compound=C13993!\u001b[0m\n"
      ]
     },
     "metadata": {},
     "output_type": "display_data"
    },
    {
     "data": {
      "text/html": [
       "<pre style=\"white-space:pre;overflow-x:auto;line-height:normal;font-family:Menlo,'DejaVu Sans Mono',consolas,'Courier New',monospace;margin:0px\"><span style=\"background-color: #008000; font-weight: bold\"> Success </span><span style=\"color: #008000; text-decoration-color: #008000; font-weight: bold\"> Found solution for compound=C13995!</span>\n",
       "</pre>\n"
      ],
      "text/plain": [
       "\u001b[1;7;32m Success \u001b[0m\u001b[1;32m Found solution for compound=C13995!\u001b[0m\n"
      ]
     },
     "metadata": {},
     "output_type": "display_data"
    },
    {
     "data": {
      "text/html": [
       "<pre style=\"white-space:pre;overflow-x:auto;line-height:normal;font-family:Menlo,'DejaVu Sans Mono',consolas,'Courier New',monospace;margin:0px\"><span style=\"background-color: #008000; font-weight: bold\"> Success </span><span style=\"color: #008000; text-decoration-color: #008000; font-weight: bold\"> Found solution for compound=C14051!</span>\n",
       "</pre>\n"
      ],
      "text/plain": [
       "\u001b[1;7;32m Success \u001b[0m\u001b[1;32m Found solution for compound=C14051!\u001b[0m\n"
      ]
     },
     "metadata": {},
     "output_type": "display_data"
    },
    {
     "data": {
      "text/html": [
       "<pre style=\"white-space:pre;overflow-x:auto;line-height:normal;font-family:Menlo,'DejaVu Sans Mono',consolas,'Courier New',monospace;margin:0px\"><span style=\"background-color: #008000; font-weight: bold\"> Success </span><span style=\"color: #008000; text-decoration-color: #008000; font-weight: bold\"> Found solution for compound=C14066!</span>\n",
       "</pre>\n"
      ],
      "text/plain": [
       "\u001b[1;7;32m Success \u001b[0m\u001b[1;32m Found solution for compound=C14066!\u001b[0m\n"
      ]
     },
     "metadata": {},
     "output_type": "display_data"
    },
    {
     "data": {
      "text/html": [
       "<pre style=\"white-space:pre;overflow-x:auto;line-height:normal;font-family:Menlo,'DejaVu Sans Mono',consolas,'Courier New',monospace;margin:0px\"><span style=\"background-color: #008000; font-weight: bold\"> Success </span><span style=\"color: #008000; text-decoration-color: #008000; font-weight: bold\"> Found solution for compound=C14067!</span>\n",
       "</pre>\n"
      ],
      "text/plain": [
       "\u001b[1;7;32m Success \u001b[0m\u001b[1;32m Found solution for compound=C14067!\u001b[0m\n"
      ]
     },
     "metadata": {},
     "output_type": "display_data"
    },
    {
     "data": {
      "text/html": [
       "<pre style=\"white-space:pre;overflow-x:auto;line-height:normal;font-family:Menlo,'DejaVu Sans Mono',consolas,'Courier New',monospace;margin:0px\"><span style=\"background-color: #008000; font-weight: bold\"> Success </span><span style=\"color: #008000; text-decoration-color: #008000; font-weight: bold\"> Found solution for compound=C14080!</span>\n",
       "</pre>\n"
      ],
      "text/plain": [
       "\u001b[1;7;32m Success \u001b[0m\u001b[1;32m Found solution for compound=C14080!\u001b[0m\n"
      ]
     },
     "metadata": {},
     "output_type": "display_data"
    },
    {
     "data": {
      "text/html": [
       "<pre style=\"white-space:pre;overflow-x:auto;line-height:normal;font-family:Menlo,'DejaVu Sans Mono',consolas,'Courier New',monospace;margin:0px\"><span style=\"background-color: #008000; font-weight: bold\"> Success </span><span style=\"color: #008000; text-decoration-color: #008000; font-weight: bold\"> Found solution for compound=C14082!</span>\n",
       "</pre>\n"
      ],
      "text/plain": [
       "\u001b[1;7;32m Success \u001b[0m\u001b[1;32m Found solution for compound=C14082!\u001b[0m\n"
      ]
     },
     "metadata": {},
     "output_type": "display_data"
    },
    {
     "data": {
      "text/html": [
       "<pre style=\"white-space:pre;overflow-x:auto;line-height:normal;font-family:Menlo,'DejaVu Sans Mono',consolas,'Courier New',monospace;margin:0px\"><span style=\"background-color: #008000; font-weight: bold\"> Success </span><span style=\"color: #008000; text-decoration-color: #008000; font-weight: bold\"> Found solution for compound=C14083!</span>\n",
       "</pre>\n"
      ],
      "text/plain": [
       "\u001b[1;7;32m Success \u001b[0m\u001b[1;32m Found solution for compound=C14083!\u001b[0m\n"
      ]
     },
     "metadata": {},
     "output_type": "display_data"
    },
    {
     "data": {
      "text/html": [
       "<pre style=\"white-space:pre;overflow-x:auto;line-height:normal;font-family:Menlo,'DejaVu Sans Mono',consolas,'Courier New',monospace;margin:0px\"><span style=\"background-color: #008000; font-weight: bold\"> Success </span><span style=\"color: #008000; text-decoration-color: #008000; font-weight: bold\"> Found solution for compound=C14088!</span>\n",
       "</pre>\n"
      ],
      "text/plain": [
       "\u001b[1;7;32m Success \u001b[0m\u001b[1;32m Found solution for compound=C14088!\u001b[0m\n"
      ]
     },
     "metadata": {},
     "output_type": "display_data"
    },
    {
     "data": {
      "text/html": [
       "<pre style=\"white-space:pre;overflow-x:auto;line-height:normal;font-family:Menlo,'DejaVu Sans Mono',consolas,'Courier New',monospace;margin:0px\"><span style=\"background-color: #008000; font-weight: bold\"> Success </span><span style=\"color: #008000; text-decoration-color: #008000; font-weight: bold\"> Found solution for compound=C14237!</span>\n",
       "</pre>\n"
      ],
      "text/plain": [
       "\u001b[1;7;32m Success \u001b[0m\u001b[1;32m Found solution for compound=C14237!\u001b[0m\n"
      ]
     },
     "metadata": {},
     "output_type": "display_data"
    },
    {
     "data": {
      "text/html": [
       "<pre style=\"white-space:pre;overflow-x:auto;line-height:normal;font-family:Menlo,'DejaVu Sans Mono',consolas,'Courier New',monospace;margin:0px\"><span style=\"background-color: #008000; font-weight: bold\"> Success </span><span style=\"color: #008000; text-decoration-color: #008000; font-weight: bold\"> Found solution for compound=C14240!</span>\n",
       "</pre>\n"
      ],
      "text/plain": [
       "\u001b[1;7;32m Success \u001b[0m\u001b[1;32m Found solution for compound=C14240!\u001b[0m\n"
      ]
     },
     "metadata": {},
     "output_type": "display_data"
    },
    {
     "data": {
      "text/html": [
       "<pre style=\"white-space:pre;overflow-x:auto;line-height:normal;font-family:Menlo,'DejaVu Sans Mono',consolas,'Courier New',monospace;margin:0px\"><span style=\"background-color: #008000; font-weight: bold\"> Success </span><span style=\"color: #008000; text-decoration-color: #008000; font-weight: bold\"> Found solution for compound=C14248!</span>\n",
       "</pre>\n"
      ],
      "text/plain": [
       "\u001b[1;7;32m Success \u001b[0m\u001b[1;32m Found solution for compound=C14248!\u001b[0m\n"
      ]
     },
     "metadata": {},
     "output_type": "display_data"
    },
    {
     "data": {
      "text/html": [
       "<pre style=\"white-space:pre;overflow-x:auto;line-height:normal;font-family:Menlo,'DejaVu Sans Mono',consolas,'Courier New',monospace;margin:0px\"><span style=\"background-color: #008000; font-weight: bold\"> Success </span><span style=\"color: #008000; text-decoration-color: #008000; font-weight: bold\"> Found solution for compound=C14249!</span>\n",
       "</pre>\n"
      ],
      "text/plain": [
       "\u001b[1;7;32m Success \u001b[0m\u001b[1;32m Found solution for compound=C14249!\u001b[0m\n"
      ]
     },
     "metadata": {},
     "output_type": "display_data"
    },
    {
     "data": {
      "text/html": [
       "<pre style=\"white-space:pre;overflow-x:auto;line-height:normal;font-family:Menlo,'DejaVu Sans Mono',consolas,'Courier New',monospace;margin:0px\"><span style=\"background-color: #008000; font-weight: bold\"> Success </span><span style=\"color: #008000; text-decoration-color: #008000; font-weight: bold\"> Found solution for compound=C14250!</span>\n",
       "</pre>\n"
      ],
      "text/plain": [
       "\u001b[1;7;32m Success \u001b[0m\u001b[1;32m Found solution for compound=C14250!\u001b[0m\n"
      ]
     },
     "metadata": {},
     "output_type": "display_data"
    },
    {
     "data": {
      "text/html": [
       "<pre style=\"white-space:pre;overflow-x:auto;line-height:normal;font-family:Menlo,'DejaVu Sans Mono',consolas,'Courier New',monospace;margin:0px\"><span style=\"background-color: #008000; font-weight: bold\"> Success </span><span style=\"color: #008000; text-decoration-color: #008000; font-weight: bold\"> Found solution for compound=C14251!</span>\n",
       "</pre>\n"
      ],
      "text/plain": [
       "\u001b[1;7;32m Success \u001b[0m\u001b[1;32m Found solution for compound=C14251!\u001b[0m\n"
      ]
     },
     "metadata": {},
     "output_type": "display_data"
    },
    {
     "data": {
      "text/html": [
       "<pre style=\"white-space:pre;overflow-x:auto;line-height:normal;font-family:Menlo,'DejaVu Sans Mono',consolas,'Courier New',monospace;margin:0px\"><span style=\"background-color: #008000; font-weight: bold\"> Success </span><span style=\"color: #008000; text-decoration-color: #008000; font-weight: bold\"> Found solution for compound=C15180!</span>\n",
       "</pre>\n"
      ],
      "text/plain": [
       "\u001b[1;7;32m Success \u001b[0m\u001b[1;32m Found solution for compound=C15180!\u001b[0m\n"
      ]
     },
     "metadata": {},
     "output_type": "display_data"
    },
    {
     "data": {
      "text/html": [
       "<pre style=\"white-space:pre;overflow-x:auto;line-height:normal;font-family:Menlo,'DejaVu Sans Mono',consolas,'Courier New',monospace;margin:0px\"><span style=\"background-color: #008000; font-weight: bold\"> Success </span><span style=\"color: #008000; text-decoration-color: #008000; font-weight: bold\"> Found solution for compound=C15201!</span>\n",
       "</pre>\n"
      ],
      "text/plain": [
       "\u001b[1;7;32m Success \u001b[0m\u001b[1;32m Found solution for compound=C15201!\u001b[0m\n"
      ]
     },
     "metadata": {},
     "output_type": "display_data"
    },
    {
     "data": {
      "text/html": [
       "<pre style=\"white-space:pre;overflow-x:auto;line-height:normal;font-family:Menlo,'DejaVu Sans Mono',consolas,'Courier New',monospace;margin:0px\"><span style=\"background-color: #008000; font-weight: bold\"> Success </span><span style=\"color: #008000; text-decoration-color: #008000; font-weight: bold\"> Found solution for compound=C15218!</span>\n",
       "</pre>\n"
      ],
      "text/plain": [
       "\u001b[1;7;32m Success \u001b[0m\u001b[1;32m Found solution for compound=C15218!\u001b[0m\n"
      ]
     },
     "metadata": {},
     "output_type": "display_data"
    },
    {
     "data": {
      "text/html": [
       "<pre style=\"white-space:pre;overflow-x:auto;line-height:normal;font-family:Menlo,'DejaVu Sans Mono',consolas,'Courier New',monospace;margin:0px\"><span style=\"background-color: #008000; font-weight: bold\"> Success </span><span style=\"color: #008000; text-decoration-color: #008000; font-weight: bold\"> Found solution for compound=C15241!</span>\n",
       "</pre>\n"
      ],
      "text/plain": [
       "\u001b[1;7;32m Success \u001b[0m\u001b[1;32m Found solution for compound=C15241!\u001b[0m\n"
      ]
     },
     "metadata": {},
     "output_type": "display_data"
    },
    {
     "data": {
      "text/html": [
       "<pre style=\"white-space:pre;overflow-x:auto;line-height:normal;font-family:Menlo,'DejaVu Sans Mono',consolas,'Courier New',monospace;margin:0px\"><span style=\"background-color: #008000; font-weight: bold\"> Success </span><span style=\"color: #008000; text-decoration-color: #008000; font-weight: bold\"> Found solution for compound=C15825!</span>\n",
       "</pre>\n"
      ],
      "text/plain": [
       "\u001b[1;7;32m Success \u001b[0m\u001b[1;32m Found solution for compound=C15825!\u001b[0m\n"
      ]
     },
     "metadata": {},
     "output_type": "display_data"
    },
    {
     "data": {
      "text/html": [
       "<pre style=\"white-space:pre;overflow-x:auto;line-height:normal;font-family:Menlo,'DejaVu Sans Mono',consolas,'Courier New',monospace;margin:0px\"><span style=\"background-color: #008000; font-weight: bold\"> Success </span><span style=\"color: #008000; text-decoration-color: #008000; font-weight: bold\"> Found solution for compound=C16186!</span>\n",
       "</pre>\n"
      ],
      "text/plain": [
       "\u001b[1;7;32m Success \u001b[0m\u001b[1;32m Found solution for compound=C16186!\u001b[0m\n"
      ]
     },
     "metadata": {},
     "output_type": "display_data"
    },
    {
     "data": {
      "text/html": [
       "<pre style=\"white-space:pre;overflow-x:auto;line-height:normal;font-family:Menlo,'DejaVu Sans Mono',consolas,'Courier New',monospace;margin:0px\"><span style=\"background-color: #008000; font-weight: bold\"> Success </span><span style=\"color: #008000; text-decoration-color: #008000; font-weight: bold\"> Found solution for compound=C16374!</span>\n",
       "</pre>\n"
      ],
      "text/plain": [
       "\u001b[1;7;32m Success \u001b[0m\u001b[1;32m Found solution for compound=C16374!\u001b[0m\n"
      ]
     },
     "metadata": {},
     "output_type": "display_data"
    },
    {
     "data": {
      "text/html": [
       "<pre style=\"white-space:pre;overflow-x:auto;line-height:normal;font-family:Menlo,'DejaVu Sans Mono',consolas,'Courier New',monospace;margin:0px\"><span style=\"background-color: #008000; font-weight: bold\"> Success </span><span style=\"color: #008000; text-decoration-color: #008000; font-weight: bold\"> Found solution for compound=C16924!</span>\n",
       "</pre>\n"
      ],
      "text/plain": [
       "\u001b[1;7;32m Success \u001b[0m\u001b[1;32m Found solution for compound=C16924!\u001b[0m\n"
      ]
     },
     "metadata": {},
     "output_type": "display_data"
    },
    {
     "data": {
      "text/html": [
       "<pre style=\"white-space:pre;overflow-x:auto;line-height:normal;font-family:Menlo,'DejaVu Sans Mono',consolas,'Courier New',monospace;margin:0px\"><span style=\"background-color: #008000; font-weight: bold\"> Success </span><span style=\"color: #008000; text-decoration-color: #008000; font-weight: bold\"> Found solution for compound=C17117!</span>\n",
       "</pre>\n"
      ],
      "text/plain": [
       "\u001b[1;7;32m Success \u001b[0m\u001b[1;32m Found solution for compound=C17117!\u001b[0m\n"
      ]
     },
     "metadata": {},
     "output_type": "display_data"
    },
    {
     "data": {
      "text/html": [
       "<pre style=\"white-space:pre;overflow-x:auto;line-height:normal;font-family:Menlo,'DejaVu Sans Mono',consolas,'Courier New',monospace;margin:0px\"><span style=\"background-color: #800000; font-weight: bold\"> ERROR </span><span style=\"color: #800000; text-decoration-color: #800000; font-weight: bold\"> Reactants not available for reaction=\u001b[1m\u001b[4mR8821: C18028 + C18083 -&gt; C18171 via </span>\n",
       "<span style=\"color: #800000; text-decoration-color: #800000; font-weight: bold\">Reductive_amination\u001b[22m\u001b[24m!</span>\n",
       "</pre>\n"
      ],
      "text/plain": [
       "\u001b[1;7;31m ERROR \u001b[0m\u001b[1;31m Reactants not available for reaction=\u001b[1m\u001b[4mR8821: C18028 + C18083 -> C18171 via \u001b[0m\n",
       "\u001b[1;31mReductive_amination\u001b[22m\u001b[24m!\u001b[0m\n"
      ]
     },
     "metadata": {},
     "output_type": "display_data"
    },
    {
     "data": {
      "text/html": [
       "<pre style=\"white-space:pre;overflow-x:auto;line-height:normal;font-family:Menlo,'DejaVu Sans Mono',consolas,'Courier New',monospace;margin:0px\"><span style=\"background-color: #800000; font-weight: bold\"> ERROR </span><span style=\"color: #800000; text-decoration-color: #800000; font-weight: bold\"> No solutions for compound=C18171 (comp.reactions.ids=[8821])!</span>\n",
       "</pre>\n"
      ],
      "text/plain": [
       "\u001b[1;7;31m ERROR \u001b[0m\u001b[1;31m No solutions for compound=C18171 (comp.reactions.ids=[8821])!\u001b[0m\n"
      ]
     },
     "metadata": {},
     "output_type": "display_data"
    },
    {
     "data": {
      "text/html": [
       "<pre style=\"white-space:pre;overflow-x:auto;line-height:normal;font-family:Menlo,'DejaVu Sans Mono',consolas,'Courier New',monospace;margin:0px\"><span style=\"background-color: #008000; font-weight: bold\"> Success </span><span style=\"color: #008000; text-decoration-color: #008000; font-weight: bold\"> Found solution for compound=C18331!</span>\n",
       "</pre>\n"
      ],
      "text/plain": [
       "\u001b[1;7;32m Success \u001b[0m\u001b[1;32m Found solution for compound=C18331!\u001b[0m\n"
      ]
     },
     "metadata": {},
     "output_type": "display_data"
    },
    {
     "data": {
      "text/html": [
       "<pre style=\"white-space:pre;overflow-x:auto;line-height:normal;font-family:Menlo,'DejaVu Sans Mono',consolas,'Courier New',monospace;margin:0px\"><span style=\"background-color: #008000; font-weight: bold\"> Success </span><span style=\"color: #008000; text-decoration-color: #008000; font-weight: bold\"> Found solution for compound=C18557!</span>\n",
       "</pre>\n"
      ],
      "text/plain": [
       "\u001b[1;7;32m Success \u001b[0m\u001b[1;32m Found solution for compound=C18557!\u001b[0m\n"
      ]
     },
     "metadata": {},
     "output_type": "display_data"
    },
    {
     "data": {
      "text/html": [
       "<pre style=\"white-space:pre;overflow-x:auto;line-height:normal;font-family:Menlo,'DejaVu Sans Mono',consolas,'Courier New',monospace;margin:0px\"><span style=\"background-color: #800000; font-weight: bold\"> ERROR </span><span style=\"color: #800000; text-decoration-color: #800000; font-weight: bold\"> Reactants not available for reaction=\u001b[1m\u001b[4mR11297: C18083 + C21385 -&gt; C21569 via Amidation\u001b[22m\u001b[24m!</span>\n",
       "</pre>\n"
      ],
      "text/plain": [
       "\u001b[1;7;31m ERROR \u001b[0m\u001b[1;31m Reactants not available for reaction=\u001b[1m\u001b[4mR11297: C18083 + C21385 -> C21569 via Amidation\u001b[22m\u001b[24m!\u001b[0m\n"
      ]
     },
     "metadata": {},
     "output_type": "display_data"
    },
    {
     "data": {
      "text/html": [
       "<pre style=\"white-space:pre;overflow-x:auto;line-height:normal;font-family:Menlo,'DejaVu Sans Mono',consolas,'Courier New',monospace;margin:0px\"><span style=\"background-color: #800000; font-weight: bold\"> ERROR </span><span style=\"color: #800000; text-decoration-color: #800000; font-weight: bold\"> No solutions for compound=C21569 (comp.reactions.ids=[11297])!</span>\n",
       "</pre>\n"
      ],
      "text/plain": [
       "\u001b[1;7;31m ERROR \u001b[0m\u001b[1;31m No solutions for compound=C21569 (comp.reactions.ids=[11297])!\u001b[0m\n"
      ]
     },
     "metadata": {},
     "output_type": "display_data"
    },
    {
     "data": {
      "text/html": [
       "<pre style=\"white-space:pre;overflow-x:auto;line-height:normal;font-family:Menlo,'DejaVu Sans Mono',consolas,'Courier New',monospace;margin:0px\"><span style=\"background-color: #008000; font-weight: bold\"> Success </span><span style=\"color: #008000; text-decoration-color: #008000; font-weight: bold\"> Found solution for compound=C21573!</span>\n",
       "</pre>\n"
      ],
      "text/plain": [
       "\u001b[1;7;32m Success \u001b[0m\u001b[1;32m Found solution for compound=C21573!\u001b[0m\n"
      ]
     },
     "metadata": {},
     "output_type": "display_data"
    },
    {
     "data": {
      "text/html": [
       "<pre style=\"white-space:pre;overflow-x:auto;line-height:normal;font-family:Menlo,'DejaVu Sans Mono',consolas,'Courier New',monospace;margin:0px\"><span style=\"background-color: #008000; font-weight: bold\"> Success </span><span style=\"color: #008000; text-decoration-color: #008000; font-weight: bold\"> Found solution for compound=C21575!</span>\n",
       "</pre>\n"
      ],
      "text/plain": [
       "\u001b[1;7;32m Success \u001b[0m\u001b[1;32m Found solution for compound=C21575!\u001b[0m\n"
      ]
     },
     "metadata": {},
     "output_type": "display_data"
    },
    {
     "data": {
      "text/html": [
       "<pre style=\"white-space:pre;overflow-x:auto;line-height:normal;font-family:Menlo,'DejaVu Sans Mono',consolas,'Courier New',monospace;margin:0px\"><span style=\"background-color: #008000; font-weight: bold\"> Success </span><span style=\"color: #008000; text-decoration-color: #008000; font-weight: bold\"> Found solution for compound=C21581!</span>\n",
       "</pre>\n"
      ],
      "text/plain": [
       "\u001b[1;7;32m Success \u001b[0m\u001b[1;32m Found solution for compound=C21581!\u001b[0m\n"
      ]
     },
     "metadata": {},
     "output_type": "display_data"
    },
    {
     "data": {
      "text/html": [
       "<pre style=\"white-space:pre;overflow-x:auto;line-height:normal;font-family:Menlo,'DejaVu Sans Mono',consolas,'Courier New',monospace;margin:0px\"><span style=\"background-color: #008000; font-weight: bold\"> Success </span><span style=\"color: #008000; text-decoration-color: #008000; font-weight: bold\"> Found solution for compound=C21843!</span>\n",
       "</pre>\n"
      ],
      "text/plain": [
       "\u001b[1;7;32m Success \u001b[0m\u001b[1;32m Found solution for compound=C21843!\u001b[0m\n"
      ]
     },
     "metadata": {},
     "output_type": "display_data"
    },
    {
     "data": {
      "text/html": [
       "<pre style=\"white-space:pre;overflow-x:auto;line-height:normal;font-family:Menlo,'DejaVu Sans Mono',consolas,'Courier New',monospace;margin:0px\"><span style=\"background-color: #800000; font-weight: bold\"> ERROR </span><span style=\"color: #800000; text-decoration-color: #800000; font-weight: bold\"> Reactants not available for reaction=\u001b[1m\u001b[4mR11572: C21385 + C21488 -&gt; C21844 via Amidation\u001b[22m\u001b[24m!</span>\n",
       "</pre>\n"
      ],
      "text/plain": [
       "\u001b[1;7;31m ERROR \u001b[0m\u001b[1;31m Reactants not available for reaction=\u001b[1m\u001b[4mR11572: C21385 + C21488 -> C21844 via Amidation\u001b[22m\u001b[24m!\u001b[0m\n"
      ]
     },
     "metadata": {},
     "output_type": "display_data"
    },
    {
     "data": {
      "text/html": [
       "<pre style=\"white-space:pre;overflow-x:auto;line-height:normal;font-family:Menlo,'DejaVu Sans Mono',consolas,'Courier New',monospace;margin:0px\"><span style=\"background-color: #800000; font-weight: bold\"> ERROR </span><span style=\"color: #800000; text-decoration-color: #800000; font-weight: bold\"> No solutions for compound=C21844 (comp.reactions.ids=[11572])!</span>\n",
       "</pre>\n"
      ],
      "text/plain": [
       "\u001b[1;7;31m ERROR \u001b[0m\u001b[1;31m No solutions for compound=C21844 (comp.reactions.ids=[11572])!\u001b[0m\n"
      ]
     },
     "metadata": {},
     "output_type": "display_data"
    },
    {
     "data": {
      "text/html": [
       "<pre style=\"white-space:pre;overflow-x:auto;line-height:normal;font-family:Menlo,'DejaVu Sans Mono',consolas,'Courier New',monospace;margin:0px\"><span style=\"background-color: #008000; font-weight: bold\"> Success </span><span style=\"color: #008000; text-decoration-color: #008000; font-weight: bold\"> Found solution for compound=C21868!</span>\n",
       "</pre>\n"
      ],
      "text/plain": [
       "\u001b[1;7;32m Success \u001b[0m\u001b[1;32m Found solution for compound=C21868!\u001b[0m\n"
      ]
     },
     "metadata": {},
     "output_type": "display_data"
    },
    {
     "data": {
      "text/html": [
       "<pre style=\"white-space:pre;overflow-x:auto;line-height:normal;font-family:Menlo,'DejaVu Sans Mono',consolas,'Courier New',monospace;margin:0px\"><span style=\"background-color: #008000; font-weight: bold\"> Success </span><span style=\"color: #008000; text-decoration-color: #008000; font-weight: bold\"> Found solution for compound=C28825!</span>\n",
       "</pre>\n"
      ],
      "text/plain": [
       "\u001b[1;7;32m Success \u001b[0m\u001b[1;32m Found solution for compound=C28825!\u001b[0m\n"
      ]
     },
     "metadata": {},
     "output_type": "display_data"
    },
    {
     "data": {
      "text/html": [
       "<pre style=\"white-space:pre;overflow-x:auto;line-height:normal;font-family:Menlo,'DejaVu Sans Mono',consolas,'Courier New',monospace;margin:0px\"><span style=\"background-color: #008000; font-weight: bold\"> Success </span><span style=\"color: #008000; text-decoration-color: #008000; font-weight: bold\"> Found solution for compound=C28826!</span>\n",
       "</pre>\n"
      ],
      "text/plain": [
       "\u001b[1;7;32m Success \u001b[0m\u001b[1;32m Found solution for compound=C28826!\u001b[0m\n"
      ]
     },
     "metadata": {},
     "output_type": "display_data"
    },
    {
     "data": {
      "text/html": [
       "<pre style=\"white-space:pre;overflow-x:auto;line-height:normal;font-family:Menlo,'DejaVu Sans Mono',consolas,'Courier New',monospace;margin:0px\"><span style=\"background-color: #008000; font-weight: bold\"> Success </span><span style=\"color: #008000; text-decoration-color: #008000; font-weight: bold\"> Found solution for compound=C28830!</span>\n",
       "</pre>\n"
      ],
      "text/plain": [
       "\u001b[1;7;32m Success \u001b[0m\u001b[1;32m Found solution for compound=C28830!\u001b[0m\n"
      ]
     },
     "metadata": {},
     "output_type": "display_data"
    },
    {
     "data": {
      "text/html": [
       "<pre style=\"white-space:pre;overflow-x:auto;line-height:normal;font-family:Menlo,'DejaVu Sans Mono',consolas,'Courier New',monospace;margin:0px\"><span style=\"background-color: #008000; font-weight: bold\"> Success </span><span style=\"color: #008000; text-decoration-color: #008000; font-weight: bold\"> Found solution for compound=C28833!</span>\n",
       "</pre>\n"
      ],
      "text/plain": [
       "\u001b[1;7;32m Success \u001b[0m\u001b[1;32m Found solution for compound=C28833!\u001b[0m\n"
      ]
     },
     "metadata": {},
     "output_type": "display_data"
    },
    {
     "data": {
      "text/html": [
       "<pre style=\"white-space:pre;overflow-x:auto;line-height:normal;font-family:Menlo,'DejaVu Sans Mono',consolas,'Courier New',monospace;margin:0px\"><span style=\"background-color: #008000; font-weight: bold\"> Success </span><span style=\"color: #008000; text-decoration-color: #008000; font-weight: bold\"> Found solution for compound=C28835!</span>\n",
       "</pre>\n"
      ],
      "text/plain": [
       "\u001b[1;7;32m Success \u001b[0m\u001b[1;32m Found solution for compound=C28835!\u001b[0m\n"
      ]
     },
     "metadata": {},
     "output_type": "display_data"
    },
    {
     "data": {
      "text/html": [
       "<pre style=\"white-space:pre;overflow-x:auto;line-height:normal;font-family:Menlo,'DejaVu Sans Mono',consolas,'Courier New',monospace;margin:0px\"><span style=\"background-color: #008000; font-weight: bold\"> Success </span><span style=\"color: #008000; text-decoration-color: #008000; font-weight: bold\"> Found solution for compound=C28840!</span>\n",
       "</pre>\n"
      ],
      "text/plain": [
       "\u001b[1;7;32m Success \u001b[0m\u001b[1;32m Found solution for compound=C28840!\u001b[0m\n"
      ]
     },
     "metadata": {},
     "output_type": "display_data"
    },
    {
     "data": {
      "text/html": [
       "<pre style=\"white-space:pre;overflow-x:auto;line-height:normal;font-family:Menlo,'DejaVu Sans Mono',consolas,'Courier New',monospace;margin:0px\"><span style=\"background-color: #008000; font-weight: bold\"> Success </span><span style=\"color: #008000; text-decoration-color: #008000; font-weight: bold\"> Found solution for compound=C28841!</span>\n",
       "</pre>\n"
      ],
      "text/plain": [
       "\u001b[1;7;32m Success \u001b[0m\u001b[1;32m Found solution for compound=C28841!\u001b[0m\n"
      ]
     },
     "metadata": {},
     "output_type": "display_data"
    },
    {
     "data": {
      "text/html": [
       "<pre style=\"white-space:pre;overflow-x:auto;line-height:normal;font-family:Menlo,'DejaVu Sans Mono',consolas,'Courier New',monospace;margin:0px\"><span style=\"background-color: #008000; font-weight: bold\"> Success </span><span style=\"color: #008000; text-decoration-color: #008000; font-weight: bold\"> Found solution for compound=C28844!</span>\n",
       "</pre>\n"
      ],
      "text/plain": [
       "\u001b[1;7;32m Success \u001b[0m\u001b[1;32m Found solution for compound=C28844!\u001b[0m\n"
      ]
     },
     "metadata": {},
     "output_type": "display_data"
    },
    {
     "data": {
      "text/html": [
       "<pre style=\"white-space:pre;overflow-x:auto;line-height:normal;font-family:Menlo,'DejaVu Sans Mono',consolas,'Courier New',monospace;margin:0px\"><span style=\"background-color: #008000; font-weight: bold\"> Success </span><span style=\"color: #008000; text-decoration-color: #008000; font-weight: bold\"> Found solution for compound=C28845!</span>\n",
       "</pre>\n"
      ],
      "text/plain": [
       "\u001b[1;7;32m Success \u001b[0m\u001b[1;32m Found solution for compound=C28845!\u001b[0m\n"
      ]
     },
     "metadata": {},
     "output_type": "display_data"
    },
    {
     "data": {
      "text/html": [
       "<pre style=\"white-space:pre;overflow-x:auto;line-height:normal;font-family:Menlo,'DejaVu Sans Mono',consolas,'Courier New',monospace;margin:0px\"><span style=\"background-color: #008000; font-weight: bold\"> Success </span><span style=\"color: #008000; text-decoration-color: #008000; font-weight: bold\"> Found solution for compound=C28849!</span>\n",
       "</pre>\n"
      ],
      "text/plain": [
       "\u001b[1;7;32m Success \u001b[0m\u001b[1;32m Found solution for compound=C28849!\u001b[0m\n"
      ]
     },
     "metadata": {},
     "output_type": "display_data"
    },
    {
     "data": {
      "text/html": [
       "<pre style=\"white-space:pre;overflow-x:auto;line-height:normal;font-family:Menlo,'DejaVu Sans Mono',consolas,'Courier New',monospace;margin:0px\"><span style=\"background-color: #008000; font-weight: bold\"> Success </span><span style=\"color: #008000; text-decoration-color: #008000; font-weight: bold\"> Found solution for compound=C28851!</span>\n",
       "</pre>\n"
      ],
      "text/plain": [
       "\u001b[1;7;32m Success \u001b[0m\u001b[1;32m Found solution for compound=C28851!\u001b[0m\n"
      ]
     },
     "metadata": {},
     "output_type": "display_data"
    },
    {
     "data": {
      "text/html": [
       "<pre style=\"white-space:pre;overflow-x:auto;line-height:normal;font-family:Menlo,'DejaVu Sans Mono',consolas,'Courier New',monospace;margin:0px\"><span style=\"background-color: #008000; font-weight: bold\"> Success </span><span style=\"color: #008000; text-decoration-color: #008000; font-weight: bold\"> Found solution for compound=C29847!</span>\n",
       "</pre>\n"
      ],
      "text/plain": [
       "\u001b[1;7;32m Success \u001b[0m\u001b[1;32m Found solution for compound=C29847!\u001b[0m\n"
      ]
     },
     "metadata": {},
     "output_type": "display_data"
    },
    {
     "data": {
      "text/html": [
       "<pre style=\"white-space:pre;overflow-x:auto;line-height:normal;font-family:Menlo,'DejaVu Sans Mono',consolas,'Courier New',monospace;margin:0px\"><span style=\"background-color: #008000; font-weight: bold\"> Success </span><span style=\"color: #008000; text-decoration-color: #008000; font-weight: bold\"> Found solution for compound=C29856!</span>\n",
       "</pre>\n"
      ],
      "text/plain": [
       "\u001b[1;7;32m Success \u001b[0m\u001b[1;32m Found solution for compound=C29856!\u001b[0m\n"
      ]
     },
     "metadata": {},
     "output_type": "display_data"
    },
    {
     "data": {
      "text/html": [
       "<pre style=\"white-space:pre;overflow-x:auto;line-height:normal;font-family:Menlo,'DejaVu Sans Mono',consolas,'Courier New',monospace;margin:0px\"><span style=\"background-color: #008000; font-weight: bold\"> Success </span><span style=\"color: #008000; text-decoration-color: #008000; font-weight: bold\"> Found solution for compound=C29865!</span>\n",
       "</pre>\n"
      ],
      "text/plain": [
       "\u001b[1;7;32m Success \u001b[0m\u001b[1;32m Found solution for compound=C29865!\u001b[0m\n"
      ]
     },
     "metadata": {},
     "output_type": "display_data"
    },
    {
     "data": {
      "text/html": [
       "<pre style=\"white-space:pre;overflow-x:auto;line-height:normal;font-family:Menlo,'DejaVu Sans Mono',consolas,'Courier New',monospace;margin:0px\"><span style=\"background-color: #008000; font-weight: bold\"> Success </span><span style=\"color: #008000; text-decoration-color: #008000; font-weight: bold\"> Found solution for compound=C29898!</span>\n",
       "</pre>\n"
      ],
      "text/plain": [
       "\u001b[1;7;32m Success \u001b[0m\u001b[1;32m Found solution for compound=C29898!\u001b[0m\n"
      ]
     },
     "metadata": {},
     "output_type": "display_data"
    },
    {
     "data": {
      "text/html": [
       "<pre style=\"white-space:pre;overflow-x:auto;line-height:normal;font-family:Menlo,'DejaVu Sans Mono',consolas,'Courier New',monospace;margin:0px\"><span style=\"background-color: #800000; font-weight: bold\"> ERROR </span><span style=\"color: #800000; text-decoration-color: #800000; font-weight: bold\"> Reactants not available for reaction=\u001b[1m\u001b[4mR18410: C13126 + C29797 -&gt; C29903 via Amidation\u001b[22m\u001b[24m!</span>\n",
       "</pre>\n"
      ],
      "text/plain": [
       "\u001b[1;7;31m ERROR \u001b[0m\u001b[1;31m Reactants not available for reaction=\u001b[1m\u001b[4mR18410: C13126 + C29797 -> C29903 via Amidation\u001b[22m\u001b[24m!\u001b[0m\n"
      ]
     },
     "metadata": {},
     "output_type": "display_data"
    },
    {
     "data": {
      "text/html": [
       "<pre style=\"white-space:pre;overflow-x:auto;line-height:normal;font-family:Menlo,'DejaVu Sans Mono',consolas,'Courier New',monospace;margin:0px\"><span style=\"background-color: #800000; font-weight: bold\"> ERROR </span><span style=\"color: #800000; text-decoration-color: #800000; font-weight: bold\"> No solutions for compound=C29903 (comp.reactions.ids=[18410])!</span>\n",
       "</pre>\n"
      ],
      "text/plain": [
       "\u001b[1;7;31m ERROR \u001b[0m\u001b[1;31m No solutions for compound=C29903 (comp.reactions.ids=[18410])!\u001b[0m\n"
      ]
     },
     "metadata": {},
     "output_type": "display_data"
    },
    {
     "data": {
      "text/html": [
       "<pre style=\"white-space:pre;overflow-x:auto;line-height:normal;font-family:Menlo,'DejaVu Sans Mono',consolas,'Courier New',monospace;margin:0px\"><span style=\"background-color: #008000; font-weight: bold\"> Success </span><span style=\"color: #008000; text-decoration-color: #008000; font-weight: bold\"> Found solution for compound=C29906!</span>\n",
       "</pre>\n"
      ],
      "text/plain": [
       "\u001b[1;7;32m Success \u001b[0m\u001b[1;32m Found solution for compound=C29906!\u001b[0m\n"
      ]
     },
     "metadata": {},
     "output_type": "display_data"
    },
    {
     "data": {
      "text/html": [
       "<pre style=\"white-space:pre;overflow-x:auto;line-height:normal;font-family:Menlo,'DejaVu Sans Mono',consolas,'Courier New',monospace;margin:0px\"><span style=\"background-color: #008000; font-weight: bold\"> Success </span><span style=\"color: #008000; text-decoration-color: #008000; font-weight: bold\"> Found solution for compound=C30330!</span>\n",
       "</pre>\n"
      ],
      "text/plain": [
       "\u001b[1;7;32m Success \u001b[0m\u001b[1;32m Found solution for compound=C30330!\u001b[0m\n"
      ]
     },
     "metadata": {},
     "output_type": "display_data"
    },
    {
     "data": {
      "text/html": [
       "<pre style=\"white-space:pre;overflow-x:auto;line-height:normal;font-family:Menlo,'DejaVu Sans Mono',consolas,'Courier New',monospace;margin:0px\"><span style=\"background-color: #008000; font-weight: bold\"> Success </span><span style=\"color: #008000; text-decoration-color: #008000; font-weight: bold\"> Found solution for compound=C30333!</span>\n",
       "</pre>\n"
      ],
      "text/plain": [
       "\u001b[1;7;32m Success \u001b[0m\u001b[1;32m Found solution for compound=C30333!\u001b[0m\n"
      ]
     },
     "metadata": {},
     "output_type": "display_data"
    },
    {
     "data": {
      "text/html": [
       "<pre style=\"white-space:pre;overflow-x:auto;line-height:normal;font-family:Menlo,'DejaVu Sans Mono',consolas,'Courier New',monospace;margin:0px\"><span style=\"background-color: #008000; font-weight: bold\"> Success </span><span style=\"color: #008000; text-decoration-color: #008000; font-weight: bold\"> Found solution for compound=C30334!</span>\n",
       "</pre>\n"
      ],
      "text/plain": [
       "\u001b[1;7;32m Success \u001b[0m\u001b[1;32m Found solution for compound=C30334!\u001b[0m\n"
      ]
     },
     "metadata": {},
     "output_type": "display_data"
    },
    {
     "data": {
      "text/html": [
       "<pre style=\"white-space:pre;overflow-x:auto;line-height:normal;font-family:Menlo,'DejaVu Sans Mono',consolas,'Courier New',monospace;margin:0px\"><span style=\"background-color: #008000; font-weight: bold\"> Success </span><span style=\"color: #008000; text-decoration-color: #008000; font-weight: bold\"> Found solution for compound=C30342!</span>\n",
       "</pre>\n"
      ],
      "text/plain": [
       "\u001b[1;7;32m Success \u001b[0m\u001b[1;32m Found solution for compound=C30342!\u001b[0m\n"
      ]
     },
     "metadata": {},
     "output_type": "display_data"
    },
    {
     "data": {
      "text/html": [
       "<pre style=\"white-space:pre;overflow-x:auto;line-height:normal;font-family:Menlo,'DejaVu Sans Mono',consolas,'Courier New',monospace;margin:0px\"><span style=\"background-color: #008000; font-weight: bold\"> Success </span><span style=\"color: #008000; text-decoration-color: #008000; font-weight: bold\"> Found solution for compound=C30346!</span>\n",
       "</pre>\n"
      ],
      "text/plain": [
       "\u001b[1;7;32m Success \u001b[0m\u001b[1;32m Found solution for compound=C30346!\u001b[0m\n"
      ]
     },
     "metadata": {},
     "output_type": "display_data"
    },
    {
     "data": {
      "text/html": [
       "<pre style=\"white-space:pre;overflow-x:auto;line-height:normal;font-family:Menlo,'DejaVu Sans Mono',consolas,'Courier New',monospace;margin:0px\"><span style=\"background-color: #008000; font-weight: bold\"> Success </span><span style=\"color: #008000; text-decoration-color: #008000; font-weight: bold\"> Found solution for compound=C30351!</span>\n",
       "</pre>\n"
      ],
      "text/plain": [
       "\u001b[1;7;32m Success \u001b[0m\u001b[1;32m Found solution for compound=C30351!\u001b[0m\n"
      ]
     },
     "metadata": {},
     "output_type": "display_data"
    },
    {
     "data": {
      "text/html": [
       "<pre style=\"white-space:pre;overflow-x:auto;line-height:normal;font-family:Menlo,'DejaVu Sans Mono',consolas,'Courier New',monospace;margin:0px\"><span style=\"background-color: #008000; font-weight: bold\"> Success </span><span style=\"color: #008000; text-decoration-color: #008000; font-weight: bold\"> Found solution for compound=C30352!</span>\n",
       "</pre>\n"
      ],
      "text/plain": [
       "\u001b[1;7;32m Success \u001b[0m\u001b[1;32m Found solution for compound=C30352!\u001b[0m\n"
      ]
     },
     "metadata": {},
     "output_type": "display_data"
    },
    {
     "data": {
      "text/html": [
       "<pre style=\"white-space:pre;overflow-x:auto;line-height:normal;font-family:Menlo,'DejaVu Sans Mono',consolas,'Courier New',monospace;margin:0px\"><span style=\"background-color: #008000; font-weight: bold\"> Success </span><span style=\"color: #008000; text-decoration-color: #008000; font-weight: bold\"> Found solution for compound=C30364!</span>\n",
       "</pre>\n"
      ],
      "text/plain": [
       "\u001b[1;7;32m Success \u001b[0m\u001b[1;32m Found solution for compound=C30364!\u001b[0m\n"
      ]
     },
     "metadata": {},
     "output_type": "display_data"
    },
    {
     "data": {
      "text/html": [
       "<pre style=\"white-space:pre;overflow-x:auto;line-height:normal;font-family:Menlo,'DejaVu Sans Mono',consolas,'Courier New',monospace;margin:0px\"><span style=\"background-color: #008000; font-weight: bold\"> Success </span><span style=\"color: #008000; text-decoration-color: #008000; font-weight: bold\"> Found solution for compound=C30365!</span>\n",
       "</pre>\n"
      ],
      "text/plain": [
       "\u001b[1;7;32m Success \u001b[0m\u001b[1;32m Found solution for compound=C30365!\u001b[0m\n"
      ]
     },
     "metadata": {},
     "output_type": "display_data"
    },
    {
     "data": {
      "text/html": [
       "<pre style=\"white-space:pre;overflow-x:auto;line-height:normal;font-family:Menlo,'DejaVu Sans Mono',consolas,'Courier New',monospace;margin:0px\"><span style=\"background-color: #008000; font-weight: bold\"> Success </span><span style=\"color: #008000; text-decoration-color: #008000; font-weight: bold\"> Found solution for compound=C30367!</span>\n",
       "</pre>\n"
      ],
      "text/plain": [
       "\u001b[1;7;32m Success \u001b[0m\u001b[1;32m Found solution for compound=C30367!\u001b[0m\n"
      ]
     },
     "metadata": {},
     "output_type": "display_data"
    },
    {
     "data": {
      "text/html": [
       "<pre style=\"white-space:pre;overflow-x:auto;line-height:normal;font-family:Menlo,'DejaVu Sans Mono',consolas,'Courier New',monospace;margin:0px\"><span style=\"background-color: #008000; font-weight: bold\"> Success </span><span style=\"color: #008000; text-decoration-color: #008000; font-weight: bold\"> Found solution for compound=C30383!</span>\n",
       "</pre>\n"
      ],
      "text/plain": [
       "\u001b[1;7;32m Success \u001b[0m\u001b[1;32m Found solution for compound=C30383!\u001b[0m\n"
      ]
     },
     "metadata": {},
     "output_type": "display_data"
    },
    {
     "data": {
      "text/html": [
       "<pre style=\"white-space:pre;overflow-x:auto;line-height:normal;font-family:Menlo,'DejaVu Sans Mono',consolas,'Courier New',monospace;margin:0px\"><span style=\"background-color: #008000; font-weight: bold\"> Success </span><span style=\"color: #008000; text-decoration-color: #008000; font-weight: bold\"> Found solution for compound=C30388!</span>\n",
       "</pre>\n"
      ],
      "text/plain": [
       "\u001b[1;7;32m Success \u001b[0m\u001b[1;32m Found solution for compound=C30388!\u001b[0m\n"
      ]
     },
     "metadata": {},
     "output_type": "display_data"
    },
    {
     "data": {
      "text/html": [
       "<pre style=\"white-space:pre;overflow-x:auto;line-height:normal;font-family:Menlo,'DejaVu Sans Mono',consolas,'Courier New',monospace;margin:0px\"><span style=\"background-color: #008000; font-weight: bold\"> Success </span><span style=\"color: #008000; text-decoration-color: #008000; font-weight: bold\"> Found solution for compound=C30390!</span>\n",
       "</pre>\n"
      ],
      "text/plain": [
       "\u001b[1;7;32m Success \u001b[0m\u001b[1;32m Found solution for compound=C30390!\u001b[0m\n"
      ]
     },
     "metadata": {},
     "output_type": "display_data"
    },
    {
     "data": {
      "text/html": [
       "<pre style=\"white-space:pre;overflow-x:auto;line-height:normal;font-family:Menlo,'DejaVu Sans Mono',consolas,'Courier New',monospace;margin:0px\"><span style=\"background-color: #800000; font-weight: bold\"> ERROR </span><span style=\"color: #800000; text-decoration-color: #800000; font-weight: bold\"> Reactants not available for reaction=\u001b[1m\u001b[4mR20307: C31798 + C31881 -&gt; C31931 via </span>\n",
       "<span style=\"color: #800000; text-decoration-color: #800000; font-weight: bold\">Reductive_amination\u001b[22m\u001b[24m!</span>\n",
       "</pre>\n"
      ],
      "text/plain": [
       "\u001b[1;7;31m ERROR \u001b[0m\u001b[1;31m Reactants not available for reaction=\u001b[1m\u001b[4mR20307: C31798 + C31881 -> C31931 via \u001b[0m\n",
       "\u001b[1;31mReductive_amination\u001b[22m\u001b[24m!\u001b[0m\n"
      ]
     },
     "metadata": {},
     "output_type": "display_data"
    },
    {
     "data": {
      "text/html": [
       "<pre style=\"white-space:pre;overflow-x:auto;line-height:normal;font-family:Menlo,'DejaVu Sans Mono',consolas,'Courier New',monospace;margin:0px\"><span style=\"background-color: #800000; font-weight: bold\"> ERROR </span><span style=\"color: #800000; text-decoration-color: #800000; font-weight: bold\"> No solutions for compound=C31931 (comp.reactions.ids=[20307])!</span>\n",
       "</pre>\n"
      ],
      "text/plain": [
       "\u001b[1;7;31m ERROR \u001b[0m\u001b[1;31m No solutions for compound=C31931 (comp.reactions.ids=[20307])!\u001b[0m\n"
      ]
     },
     "metadata": {},
     "output_type": "display_data"
    },
    {
     "data": {
      "text/html": [
       "<pre style=\"white-space:pre;overflow-x:auto;line-height:normal;font-family:Menlo,'DejaVu Sans Mono',consolas,'Courier New',monospace;margin:0px\"><span style=\"background-color: #800000; font-weight: bold\"> ERROR </span><span style=\"color: #800000; text-decoration-color: #800000; font-weight: bold\"> Reactants not available for reaction=\u001b[1m\u001b[4mR20314: C31801 + C31881 -&gt; C31938 via </span>\n",
       "<span style=\"color: #800000; text-decoration-color: #800000; font-weight: bold\">Reductive_amination\u001b[22m\u001b[24m!</span>\n",
       "</pre>\n"
      ],
      "text/plain": [
       "\u001b[1;7;31m ERROR \u001b[0m\u001b[1;31m Reactants not available for reaction=\u001b[1m\u001b[4mR20314: C31801 + C31881 -> C31938 via \u001b[0m\n",
       "\u001b[1;31mReductive_amination\u001b[22m\u001b[24m!\u001b[0m\n"
      ]
     },
     "metadata": {},
     "output_type": "display_data"
    },
    {
     "data": {
      "text/html": [
       "<pre style=\"white-space:pre;overflow-x:auto;line-height:normal;font-family:Menlo,'DejaVu Sans Mono',consolas,'Courier New',monospace;margin:0px\"><span style=\"background-color: #800000; font-weight: bold\"> ERROR </span><span style=\"color: #800000; text-decoration-color: #800000; font-weight: bold\"> No solutions for compound=C31938 (comp.reactions.ids=[20314])!</span>\n",
       "</pre>\n"
      ],
      "text/plain": [
       "\u001b[1;7;31m ERROR \u001b[0m\u001b[1;31m No solutions for compound=C31938 (comp.reactions.ids=[20314])!\u001b[0m\n"
      ]
     },
     "metadata": {},
     "output_type": "display_data"
    },
    {
     "data": {
      "text/html": [
       "<pre style=\"white-space:pre;overflow-x:auto;line-height:normal;font-family:Menlo,'DejaVu Sans Mono',consolas,'Courier New',monospace;margin:0px\"><span style=\"background-color: #800000; font-weight: bold\"> ERROR </span><span style=\"color: #800000; text-decoration-color: #800000; font-weight: bold\"> Reactants not available for reaction=\u001b[1m\u001b[4mR20317: C31803 + C31881 -&gt; C31941 via </span>\n",
       "<span style=\"color: #800000; text-decoration-color: #800000; font-weight: bold\">Reductive_amination\u001b[22m\u001b[24m!</span>\n",
       "</pre>\n"
      ],
      "text/plain": [
       "\u001b[1;7;31m ERROR \u001b[0m\u001b[1;31m Reactants not available for reaction=\u001b[1m\u001b[4mR20317: C31803 + C31881 -> C31941 via \u001b[0m\n",
       "\u001b[1;31mReductive_amination\u001b[22m\u001b[24m!\u001b[0m\n"
      ]
     },
     "metadata": {},
     "output_type": "display_data"
    },
    {
     "data": {
      "text/html": [
       "<pre style=\"white-space:pre;overflow-x:auto;line-height:normal;font-family:Menlo,'DejaVu Sans Mono',consolas,'Courier New',monospace;margin:0px\"><span style=\"background-color: #800000; font-weight: bold\"> ERROR </span><span style=\"color: #800000; text-decoration-color: #800000; font-weight: bold\"> No solutions for compound=C31941 (comp.reactions.ids=[20317])!</span>\n",
       "</pre>\n"
      ],
      "text/plain": [
       "\u001b[1;7;31m ERROR \u001b[0m\u001b[1;31m No solutions for compound=C31941 (comp.reactions.ids=[20317])!\u001b[0m\n"
      ]
     },
     "metadata": {},
     "output_type": "display_data"
    },
    {
     "data": {
      "text/html": [
       "<pre style=\"white-space:pre;overflow-x:auto;line-height:normal;font-family:Menlo,'DejaVu Sans Mono',consolas,'Courier New',monospace;margin:0px\"><span style=\"background-color: #800000; font-weight: bold\"> ERROR </span><span style=\"color: #800000; text-decoration-color: #800000; font-weight: bold\"> Reactants not available for reaction=\u001b[1m\u001b[4mR20321: C31797 + C31881 -&gt; C31945 via </span>\n",
       "<span style=\"color: #800000; text-decoration-color: #800000; font-weight: bold\">Reductive_amination\u001b[22m\u001b[24m!</span>\n",
       "</pre>\n"
      ],
      "text/plain": [
       "\u001b[1;7;31m ERROR \u001b[0m\u001b[1;31m Reactants not available for reaction=\u001b[1m\u001b[4mR20321: C31797 + C31881 -> C31945 via \u001b[0m\n",
       "\u001b[1;31mReductive_amination\u001b[22m\u001b[24m!\u001b[0m\n"
      ]
     },
     "metadata": {},
     "output_type": "display_data"
    },
    {
     "data": {
      "text/html": [
       "<pre style=\"white-space:pre;overflow-x:auto;line-height:normal;font-family:Menlo,'DejaVu Sans Mono',consolas,'Courier New',monospace;margin:0px\"><span style=\"background-color: #800000; font-weight: bold\"> ERROR </span><span style=\"color: #800000; text-decoration-color: #800000; font-weight: bold\"> No solutions for compound=C31945 (comp.reactions.ids=[20321])!</span>\n",
       "</pre>\n"
      ],
      "text/plain": [
       "\u001b[1;7;31m ERROR \u001b[0m\u001b[1;31m No solutions for compound=C31945 (comp.reactions.ids=[20321])!\u001b[0m\n"
      ]
     },
     "metadata": {},
     "output_type": "display_data"
    },
    {
     "data": {
      "text/html": [
       "<pre style=\"white-space:pre;overflow-x:auto;line-height:normal;font-family:Menlo,'DejaVu Sans Mono',consolas,'Courier New',monospace;margin:0px\"><span style=\"background-color: #800000; font-weight: bold\"> ERROR </span><span style=\"color: #800000; text-decoration-color: #800000; font-weight: bold\"> Reactants not available for reaction=\u001b[1m\u001b[4mR20322: C31805 + C31881 -&gt; C31946 via </span>\n",
       "<span style=\"color: #800000; text-decoration-color: #800000; font-weight: bold\">Reductive_amination\u001b[22m\u001b[24m!</span>\n",
       "</pre>\n"
      ],
      "text/plain": [
       "\u001b[1;7;31m ERROR \u001b[0m\u001b[1;31m Reactants not available for reaction=\u001b[1m\u001b[4mR20322: C31805 + C31881 -> C31946 via \u001b[0m\n",
       "\u001b[1;31mReductive_amination\u001b[22m\u001b[24m!\u001b[0m\n"
      ]
     },
     "metadata": {},
     "output_type": "display_data"
    },
    {
     "data": {
      "text/html": [
       "<pre style=\"white-space:pre;overflow-x:auto;line-height:normal;font-family:Menlo,'DejaVu Sans Mono',consolas,'Courier New',monospace;margin:0px\"><span style=\"background-color: #800000; font-weight: bold\"> ERROR </span><span style=\"color: #800000; text-decoration-color: #800000; font-weight: bold\"> No solutions for compound=C31946 (comp.reactions.ids=[20322])!</span>\n",
       "</pre>\n"
      ],
      "text/plain": [
       "\u001b[1;7;31m ERROR \u001b[0m\u001b[1;31m No solutions for compound=C31946 (comp.reactions.ids=[20322])!\u001b[0m\n"
      ]
     },
     "metadata": {},
     "output_type": "display_data"
    },
    {
     "data": {
      "text/html": [
       "<pre style=\"white-space:pre;overflow-x:auto;line-height:normal;font-family:Menlo,'DejaVu Sans Mono',consolas,'Courier New',monospace;margin:0px\"><span style=\"background-color: #800000; font-weight: bold\"> ERROR </span><span style=\"color: #800000; text-decoration-color: #800000; font-weight: bold\"> Reactants not available for reaction=\u001b[1m\u001b[4mR20325: C31806 + C31881 -&gt; C31949 via </span>\n",
       "<span style=\"color: #800000; text-decoration-color: #800000; font-weight: bold\">Reductive_amination\u001b[22m\u001b[24m!</span>\n",
       "</pre>\n"
      ],
      "text/plain": [
       "\u001b[1;7;31m ERROR \u001b[0m\u001b[1;31m Reactants not available for reaction=\u001b[1m\u001b[4mR20325: C31806 + C31881 -> C31949 via \u001b[0m\n",
       "\u001b[1;31mReductive_amination\u001b[22m\u001b[24m!\u001b[0m\n"
      ]
     },
     "metadata": {},
     "output_type": "display_data"
    },
    {
     "data": {
      "text/html": [
       "<pre style=\"white-space:pre;overflow-x:auto;line-height:normal;font-family:Menlo,'DejaVu Sans Mono',consolas,'Courier New',monospace;margin:0px\"><span style=\"background-color: #800000; font-weight: bold\"> ERROR </span><span style=\"color: #800000; text-decoration-color: #800000; font-weight: bold\"> No solutions for compound=C31949 (comp.reactions.ids=[20325])!</span>\n",
       "</pre>\n"
      ],
      "text/plain": [
       "\u001b[1;7;31m ERROR \u001b[0m\u001b[1;31m No solutions for compound=C31949 (comp.reactions.ids=[20325])!\u001b[0m\n"
      ]
     },
     "metadata": {},
     "output_type": "display_data"
    },
    {
     "data": {
      "text/html": [
       "<pre style=\"white-space:pre;overflow-x:auto;line-height:normal;font-family:Menlo,'DejaVu Sans Mono',consolas,'Courier New',monospace;margin:0px\"><span style=\"background-color: #800000; font-weight: bold\"> ERROR </span><span style=\"color: #800000; text-decoration-color: #800000; font-weight: bold\"> Reactants not available for reaction=\u001b[1m\u001b[4mR20361: C31813 + C31881 -&gt; C31985 via </span>\n",
       "<span style=\"color: #800000; text-decoration-color: #800000; font-weight: bold\">Reductive_amination\u001b[22m\u001b[24m!</span>\n",
       "</pre>\n"
      ],
      "text/plain": [
       "\u001b[1;7;31m ERROR \u001b[0m\u001b[1;31m Reactants not available for reaction=\u001b[1m\u001b[4mR20361: C31813 + C31881 -> C31985 via \u001b[0m\n",
       "\u001b[1;31mReductive_amination\u001b[22m\u001b[24m!\u001b[0m\n"
      ]
     },
     "metadata": {},
     "output_type": "display_data"
    },
    {
     "data": {
      "text/html": [
       "<pre style=\"white-space:pre;overflow-x:auto;line-height:normal;font-family:Menlo,'DejaVu Sans Mono',consolas,'Courier New',monospace;margin:0px\"><span style=\"background-color: #800000; font-weight: bold\"> ERROR </span><span style=\"color: #800000; text-decoration-color: #800000; font-weight: bold\"> No solutions for compound=C31985 (comp.reactions.ids=[20361])!</span>\n",
       "</pre>\n"
      ],
      "text/plain": [
       "\u001b[1;7;31m ERROR \u001b[0m\u001b[1;31m No solutions for compound=C31985 (comp.reactions.ids=[20361])!\u001b[0m\n"
      ]
     },
     "metadata": {},
     "output_type": "display_data"
    },
    {
     "data": {
      "text/html": [
       "<pre style=\"white-space:pre;overflow-x:auto;line-height:normal;font-family:Menlo,'DejaVu Sans Mono',consolas,'Courier New',monospace;margin:0px\"><span style=\"background-color: #800000; font-weight: bold\"> ERROR </span><span style=\"color: #800000; text-decoration-color: #800000; font-weight: bold\"> Reactants not available for reaction=\u001b[1m\u001b[4mR20372: C31817 + C31881 -&gt; C31996 via </span>\n",
       "<span style=\"color: #800000; text-decoration-color: #800000; font-weight: bold\">Reductive_amination\u001b[22m\u001b[24m!</span>\n",
       "</pre>\n"
      ],
      "text/plain": [
       "\u001b[1;7;31m ERROR \u001b[0m\u001b[1;31m Reactants not available for reaction=\u001b[1m\u001b[4mR20372: C31817 + C31881 -> C31996 via \u001b[0m\n",
       "\u001b[1;31mReductive_amination\u001b[22m\u001b[24m!\u001b[0m\n"
      ]
     },
     "metadata": {},
     "output_type": "display_data"
    },
    {
     "data": {
      "text/html": [
       "<pre style=\"white-space:pre;overflow-x:auto;line-height:normal;font-family:Menlo,'DejaVu Sans Mono',consolas,'Courier New',monospace;margin:0px\"><span style=\"background-color: #800000; font-weight: bold\"> ERROR </span><span style=\"color: #800000; text-decoration-color: #800000; font-weight: bold\"> No solutions for compound=C31996 (comp.reactions.ids=[20372])!</span>\n",
       "</pre>\n"
      ],
      "text/plain": [
       "\u001b[1;7;31m ERROR \u001b[0m\u001b[1;31m No solutions for compound=C31996 (comp.reactions.ids=[20372])!\u001b[0m\n"
      ]
     },
     "metadata": {},
     "output_type": "display_data"
    },
    {
     "data": {
      "text/html": [
       "<pre style=\"white-space:pre;overflow-x:auto;line-height:normal;font-family:Menlo,'DejaVu Sans Mono',consolas,'Courier New',monospace;margin:0px\"><span style=\"background-color: #800000; font-weight: bold\"> ERROR </span><span style=\"color: #800000; text-decoration-color: #800000; font-weight: bold\"> Reactants not available for reaction=\u001b[1m\u001b[4mR20374: C31818 + C31881 -&gt; C31998 via </span>\n",
       "<span style=\"color: #800000; text-decoration-color: #800000; font-weight: bold\">Reductive_amination\u001b[22m\u001b[24m!</span>\n",
       "</pre>\n"
      ],
      "text/plain": [
       "\u001b[1;7;31m ERROR \u001b[0m\u001b[1;31m Reactants not available for reaction=\u001b[1m\u001b[4mR20374: C31818 + C31881 -> C31998 via \u001b[0m\n",
       "\u001b[1;31mReductive_amination\u001b[22m\u001b[24m!\u001b[0m\n"
      ]
     },
     "metadata": {},
     "output_type": "display_data"
    },
    {
     "data": {
      "text/html": [
       "<pre style=\"white-space:pre;overflow-x:auto;line-height:normal;font-family:Menlo,'DejaVu Sans Mono',consolas,'Courier New',monospace;margin:0px\"><span style=\"background-color: #800000; font-weight: bold\"> ERROR </span><span style=\"color: #800000; text-decoration-color: #800000; font-weight: bold\"> No solutions for compound=C31998 (comp.reactions.ids=[20374])!</span>\n",
       "</pre>\n"
      ],
      "text/plain": [
       "\u001b[1;7;31m ERROR \u001b[0m\u001b[1;31m No solutions for compound=C31998 (comp.reactions.ids=[20374])!\u001b[0m\n"
      ]
     },
     "metadata": {},
     "output_type": "display_data"
    },
    {
     "data": {
      "text/html": [
       "<pre style=\"white-space:pre;overflow-x:auto;line-height:normal;font-family:Menlo,'DejaVu Sans Mono',consolas,'Courier New',monospace;margin:0px\"><span style=\"background-color: #800000; font-weight: bold\"> ERROR </span><span style=\"color: #800000; text-decoration-color: #800000; font-weight: bold\"> Reactants not available for reaction=\u001b[1m\u001b[4mR20391: C31823 + C31881 -&gt; C32015 via </span>\n",
       "<span style=\"color: #800000; text-decoration-color: #800000; font-weight: bold\">Reductive_amination\u001b[22m\u001b[24m!</span>\n",
       "</pre>\n"
      ],
      "text/plain": [
       "\u001b[1;7;31m ERROR \u001b[0m\u001b[1;31m Reactants not available for reaction=\u001b[1m\u001b[4mR20391: C31823 + C31881 -> C32015 via \u001b[0m\n",
       "\u001b[1;31mReductive_amination\u001b[22m\u001b[24m!\u001b[0m\n"
      ]
     },
     "metadata": {},
     "output_type": "display_data"
    },
    {
     "data": {
      "text/html": [
       "<pre style=\"white-space:pre;overflow-x:auto;line-height:normal;font-family:Menlo,'DejaVu Sans Mono',consolas,'Courier New',monospace;margin:0px\"><span style=\"background-color: #800000; font-weight: bold\"> ERROR </span><span style=\"color: #800000; text-decoration-color: #800000; font-weight: bold\"> No solutions for compound=C32015 (comp.reactions.ids=[20391])!</span>\n",
       "</pre>\n"
      ],
      "text/plain": [
       "\u001b[1;7;31m ERROR \u001b[0m\u001b[1;31m No solutions for compound=C32015 (comp.reactions.ids=[20391])!\u001b[0m\n"
      ]
     },
     "metadata": {},
     "output_type": "display_data"
    },
    {
     "data": {
      "text/html": [
       "<pre style=\"white-space:pre;overflow-x:auto;line-height:normal;font-family:Menlo,'DejaVu Sans Mono',consolas,'Courier New',monospace;margin:0px\"><span style=\"background-color: #800000; font-weight: bold\"> ERROR </span><span style=\"color: #800000; text-decoration-color: #800000; font-weight: bold\"> Reactants not available for reaction=\u001b[1m\u001b[4mR20414: C31829 + C31881 -&gt; C32038 via </span>\n",
       "<span style=\"color: #800000; text-decoration-color: #800000; font-weight: bold\">Reductive_amination\u001b[22m\u001b[24m!</span>\n",
       "</pre>\n"
      ],
      "text/plain": [
       "\u001b[1;7;31m ERROR \u001b[0m\u001b[1;31m Reactants not available for reaction=\u001b[1m\u001b[4mR20414: C31829 + C31881 -> C32038 via \u001b[0m\n",
       "\u001b[1;31mReductive_amination\u001b[22m\u001b[24m!\u001b[0m\n"
      ]
     },
     "metadata": {},
     "output_type": "display_data"
    },
    {
     "data": {
      "text/html": [
       "<pre style=\"white-space:pre;overflow-x:auto;line-height:normal;font-family:Menlo,'DejaVu Sans Mono',consolas,'Courier New',monospace;margin:0px\"><span style=\"background-color: #800000; font-weight: bold\"> ERROR </span><span style=\"color: #800000; text-decoration-color: #800000; font-weight: bold\"> No solutions for compound=C32038 (comp.reactions.ids=[20414])!</span>\n",
       "</pre>\n"
      ],
      "text/plain": [
       "\u001b[1;7;31m ERROR \u001b[0m\u001b[1;31m No solutions for compound=C32038 (comp.reactions.ids=[20414])!\u001b[0m\n"
      ]
     },
     "metadata": {},
     "output_type": "display_data"
    },
    {
     "data": {
      "text/html": [
       "<pre style=\"white-space:pre;overflow-x:auto;line-height:normal;font-family:Menlo,'DejaVu Sans Mono',consolas,'Courier New',monospace;margin:0px\"><span style=\"background-color: #800000; font-weight: bold\"> ERROR </span><span style=\"color: #800000; text-decoration-color: #800000; font-weight: bold\"> Reactants not available for reaction=\u001b[1m\u001b[4mR20430: C31837 + C31881 -&gt; C32054 via </span>\n",
       "<span style=\"color: #800000; text-decoration-color: #800000; font-weight: bold\">Reductive_amination\u001b[22m\u001b[24m!</span>\n",
       "</pre>\n"
      ],
      "text/plain": [
       "\u001b[1;7;31m ERROR \u001b[0m\u001b[1;31m Reactants not available for reaction=\u001b[1m\u001b[4mR20430: C31837 + C31881 -> C32054 via \u001b[0m\n",
       "\u001b[1;31mReductive_amination\u001b[22m\u001b[24m!\u001b[0m\n"
      ]
     },
     "metadata": {},
     "output_type": "display_data"
    },
    {
     "data": {
      "text/html": [
       "<pre style=\"white-space:pre;overflow-x:auto;line-height:normal;font-family:Menlo,'DejaVu Sans Mono',consolas,'Courier New',monospace;margin:0px\"><span style=\"background-color: #800000; font-weight: bold\"> ERROR </span><span style=\"color: #800000; text-decoration-color: #800000; font-weight: bold\"> No solutions for compound=C32054 (comp.reactions.ids=[20430])!</span>\n",
       "</pre>\n"
      ],
      "text/plain": [
       "\u001b[1;7;31m ERROR \u001b[0m\u001b[1;31m No solutions for compound=C32054 (comp.reactions.ids=[20430])!\u001b[0m\n"
      ]
     },
     "metadata": {},
     "output_type": "display_data"
    },
    {
     "data": {
      "text/html": [
       "<pre style=\"white-space:pre;overflow-x:auto;line-height:normal;font-family:Menlo,'DejaVu Sans Mono',consolas,'Courier New',monospace;margin:0px\"><span style=\"background-color: #800000; font-weight: bold\"> ERROR </span><span style=\"color: #800000; text-decoration-color: #800000; font-weight: bold\"> Reactants not available for reaction=\u001b[1m\u001b[4mR20434: C31839 + C31881 -&gt; C32058 via </span>\n",
       "<span style=\"color: #800000; text-decoration-color: #800000; font-weight: bold\">Reductive_amination\u001b[22m\u001b[24m!</span>\n",
       "</pre>\n"
      ],
      "text/plain": [
       "\u001b[1;7;31m ERROR \u001b[0m\u001b[1;31m Reactants not available for reaction=\u001b[1m\u001b[4mR20434: C31839 + C31881 -> C32058 via \u001b[0m\n",
       "\u001b[1;31mReductive_amination\u001b[22m\u001b[24m!\u001b[0m\n"
      ]
     },
     "metadata": {},
     "output_type": "display_data"
    },
    {
     "data": {
      "text/html": [
       "<pre style=\"white-space:pre;overflow-x:auto;line-height:normal;font-family:Menlo,'DejaVu Sans Mono',consolas,'Courier New',monospace;margin:0px\"><span style=\"background-color: #800000; font-weight: bold\"> ERROR </span><span style=\"color: #800000; text-decoration-color: #800000; font-weight: bold\"> No solutions for compound=C32058 (comp.reactions.ids=[20434])!</span>\n",
       "</pre>\n"
      ],
      "text/plain": [
       "\u001b[1;7;31m ERROR \u001b[0m\u001b[1;31m No solutions for compound=C32058 (comp.reactions.ids=[20434])!\u001b[0m\n"
      ]
     },
     "metadata": {},
     "output_type": "display_data"
    },
    {
     "data": {
      "text/html": [
       "<pre style=\"white-space:pre;overflow-x:auto;line-height:normal;font-family:Menlo,'DejaVu Sans Mono',consolas,'Courier New',monospace;margin:0px\"><span style=\"background-color: #800000; font-weight: bold\"> ERROR </span><span style=\"color: #800000; text-decoration-color: #800000; font-weight: bold\"> Reactants not available for reaction=\u001b[1m\u001b[4mR20438: C31841 + C31881 -&gt; C32062 via </span>\n",
       "<span style=\"color: #800000; text-decoration-color: #800000; font-weight: bold\">Reductive_amination\u001b[22m\u001b[24m!</span>\n",
       "</pre>\n"
      ],
      "text/plain": [
       "\u001b[1;7;31m ERROR \u001b[0m\u001b[1;31m Reactants not available for reaction=\u001b[1m\u001b[4mR20438: C31841 + C31881 -> C32062 via \u001b[0m\n",
       "\u001b[1;31mReductive_amination\u001b[22m\u001b[24m!\u001b[0m\n"
      ]
     },
     "metadata": {},
     "output_type": "display_data"
    },
    {
     "data": {
      "text/html": [
       "<pre style=\"white-space:pre;overflow-x:auto;line-height:normal;font-family:Menlo,'DejaVu Sans Mono',consolas,'Courier New',monospace;margin:0px\"><span style=\"background-color: #800000; font-weight: bold\"> ERROR </span><span style=\"color: #800000; text-decoration-color: #800000; font-weight: bold\"> No solutions for compound=C32062 (comp.reactions.ids=[20438])!</span>\n",
       "</pre>\n"
      ],
      "text/plain": [
       "\u001b[1;7;31m ERROR \u001b[0m\u001b[1;31m No solutions for compound=C32062 (comp.reactions.ids=[20438])!\u001b[0m\n"
      ]
     },
     "metadata": {},
     "output_type": "display_data"
    },
    {
     "data": {
      "text/html": [
       "<pre style=\"white-space:pre;overflow-x:auto;line-height:normal;font-family:Menlo,'DejaVu Sans Mono',consolas,'Courier New',monospace;margin:0px\"><span style=\"background-color: #800000; font-weight: bold\"> ERROR </span><span style=\"color: #800000; text-decoration-color: #800000; font-weight: bold\"> Reactants not available for reaction=\u001b[1m\u001b[4mR20442: C31843 + C31881 -&gt; C32066 via </span>\n",
       "<span style=\"color: #800000; text-decoration-color: #800000; font-weight: bold\">Reductive_amination\u001b[22m\u001b[24m!</span>\n",
       "</pre>\n"
      ],
      "text/plain": [
       "\u001b[1;7;31m ERROR \u001b[0m\u001b[1;31m Reactants not available for reaction=\u001b[1m\u001b[4mR20442: C31843 + C31881 -> C32066 via \u001b[0m\n",
       "\u001b[1;31mReductive_amination\u001b[22m\u001b[24m!\u001b[0m\n"
      ]
     },
     "metadata": {},
     "output_type": "display_data"
    },
    {
     "data": {
      "text/html": [
       "<pre style=\"white-space:pre;overflow-x:auto;line-height:normal;font-family:Menlo,'DejaVu Sans Mono',consolas,'Courier New',monospace;margin:0px\"><span style=\"background-color: #800000; font-weight: bold\"> ERROR </span><span style=\"color: #800000; text-decoration-color: #800000; font-weight: bold\"> No solutions for compound=C32066 (comp.reactions.ids=[20442])!</span>\n",
       "</pre>\n"
      ],
      "text/plain": [
       "\u001b[1;7;31m ERROR \u001b[0m\u001b[1;31m No solutions for compound=C32066 (comp.reactions.ids=[20442])!\u001b[0m\n"
      ]
     },
     "metadata": {},
     "output_type": "display_data"
    },
    {
     "data": {
      "text/html": [
       "<pre style=\"white-space:pre;overflow-x:auto;line-height:normal;font-family:Menlo,'DejaVu Sans Mono',consolas,'Courier New',monospace;margin:0px\"><span style=\"background-color: #800000; font-weight: bold\"> ERROR </span><span style=\"color: #800000; text-decoration-color: #800000; font-weight: bold\"> Reactants not available for reaction=\u001b[1m\u001b[4mR20481: C31855 + C31881 -&gt; C32105 via </span>\n",
       "<span style=\"color: #800000; text-decoration-color: #800000; font-weight: bold\">Reductive_amination\u001b[22m\u001b[24m!</span>\n",
       "</pre>\n"
      ],
      "text/plain": [
       "\u001b[1;7;31m ERROR \u001b[0m\u001b[1;31m Reactants not available for reaction=\u001b[1m\u001b[4mR20481: C31855 + C31881 -> C32105 via \u001b[0m\n",
       "\u001b[1;31mReductive_amination\u001b[22m\u001b[24m!\u001b[0m\n"
      ]
     },
     "metadata": {},
     "output_type": "display_data"
    },
    {
     "data": {
      "text/html": [
       "<pre style=\"white-space:pre;overflow-x:auto;line-height:normal;font-family:Menlo,'DejaVu Sans Mono',consolas,'Courier New',monospace;margin:0px\"><span style=\"background-color: #800000; font-weight: bold\"> ERROR </span><span style=\"color: #800000; text-decoration-color: #800000; font-weight: bold\"> No solutions for compound=C32105 (comp.reactions.ids=[20481])!</span>\n",
       "</pre>\n"
      ],
      "text/plain": [
       "\u001b[1;7;31m ERROR \u001b[0m\u001b[1;31m No solutions for compound=C32105 (comp.reactions.ids=[20481])!\u001b[0m\n"
      ]
     },
     "metadata": {},
     "output_type": "display_data"
    },
    {
     "data": {
      "text/html": [
       "<pre style=\"white-space:pre;overflow-x:auto;line-height:normal;font-family:Menlo,'DejaVu Sans Mono',consolas,'Courier New',monospace;margin:0px\"><span style=\"background-color: #800000; font-weight: bold\"> ERROR </span><span style=\"color: #800000; text-decoration-color: #800000; font-weight: bold\"> Reactants not available for reaction=\u001b[1m\u001b[4mR20496: C31858 + C31881 -&gt; C32120 via </span>\n",
       "<span style=\"color: #800000; text-decoration-color: #800000; font-weight: bold\">Reductive_amination\u001b[22m\u001b[24m!</span>\n",
       "</pre>\n"
      ],
      "text/plain": [
       "\u001b[1;7;31m ERROR \u001b[0m\u001b[1;31m Reactants not available for reaction=\u001b[1m\u001b[4mR20496: C31858 + C31881 -> C32120 via \u001b[0m\n",
       "\u001b[1;31mReductive_amination\u001b[22m\u001b[24m!\u001b[0m\n"
      ]
     },
     "metadata": {},
     "output_type": "display_data"
    },
    {
     "data": {
      "text/html": [
       "<pre style=\"white-space:pre;overflow-x:auto;line-height:normal;font-family:Menlo,'DejaVu Sans Mono',consolas,'Courier New',monospace;margin:0px\"><span style=\"background-color: #800000; font-weight: bold\"> ERROR </span><span style=\"color: #800000; text-decoration-color: #800000; font-weight: bold\"> No solutions for compound=C32120 (comp.reactions.ids=[20496])!</span>\n",
       "</pre>\n"
      ],
      "text/plain": [
       "\u001b[1;7;31m ERROR \u001b[0m\u001b[1;31m No solutions for compound=C32120 (comp.reactions.ids=[20496])!\u001b[0m\n"
      ]
     },
     "metadata": {},
     "output_type": "display_data"
    },
    {
     "data": {
      "text/html": [
       "<pre style=\"white-space:pre;overflow-x:auto;line-height:normal;font-family:Menlo,'DejaVu Sans Mono',consolas,'Courier New',monospace;margin:0px\"><span style=\"background-color: #800000; font-weight: bold\"> ERROR </span><span style=\"color: #800000; text-decoration-color: #800000; font-weight: bold\"> Reactants not available for reaction=\u001b[1m\u001b[4mR20524: C31860 + C31881 -&gt; C32148 via </span>\n",
       "<span style=\"color: #800000; text-decoration-color: #800000; font-weight: bold\">Reductive_amination\u001b[22m\u001b[24m!</span>\n",
       "</pre>\n"
      ],
      "text/plain": [
       "\u001b[1;7;31m ERROR \u001b[0m\u001b[1;31m Reactants not available for reaction=\u001b[1m\u001b[4mR20524: C31860 + C31881 -> C32148 via \u001b[0m\n",
       "\u001b[1;31mReductive_amination\u001b[22m\u001b[24m!\u001b[0m\n"
      ]
     },
     "metadata": {},
     "output_type": "display_data"
    },
    {
     "data": {
      "text/html": [
       "<pre style=\"white-space:pre;overflow-x:auto;line-height:normal;font-family:Menlo,'DejaVu Sans Mono',consolas,'Courier New',monospace;margin:0px\"><span style=\"background-color: #800000; font-weight: bold\"> ERROR </span><span style=\"color: #800000; text-decoration-color: #800000; font-weight: bold\"> No solutions for compound=C32148 (comp.reactions.ids=[20524])!</span>\n",
       "</pre>\n"
      ],
      "text/plain": [
       "\u001b[1;7;31m ERROR \u001b[0m\u001b[1;31m No solutions for compound=C32148 (comp.reactions.ids=[20524])!\u001b[0m\n"
      ]
     },
     "metadata": {},
     "output_type": "display_data"
    },
    {
     "data": {
      "text/html": [
       "<pre style=\"white-space:pre;overflow-x:auto;line-height:normal;font-family:Menlo,'DejaVu Sans Mono',consolas,'Courier New',monospace;margin:0px\"><span style=\"background-color: #800000; font-weight: bold\"> ERROR </span><span style=\"color: #800000; text-decoration-color: #800000; font-weight: bold\"> Reactants not available for reaction=\u001b[1m\u001b[4mR20576: C31861 + C31881 -&gt; C32200 via </span>\n",
       "<span style=\"color: #800000; text-decoration-color: #800000; font-weight: bold\">Reductive_amination\u001b[22m\u001b[24m!</span>\n",
       "</pre>\n"
      ],
      "text/plain": [
       "\u001b[1;7;31m ERROR \u001b[0m\u001b[1;31m Reactants not available for reaction=\u001b[1m\u001b[4mR20576: C31861 + C31881 -> C32200 via \u001b[0m\n",
       "\u001b[1;31mReductive_amination\u001b[22m\u001b[24m!\u001b[0m\n"
      ]
     },
     "metadata": {},
     "output_type": "display_data"
    },
    {
     "data": {
      "text/html": [
       "<pre style=\"white-space:pre;overflow-x:auto;line-height:normal;font-family:Menlo,'DejaVu Sans Mono',consolas,'Courier New',monospace;margin:0px\"><span style=\"background-color: #800000; font-weight: bold\"> ERROR </span><span style=\"color: #800000; text-decoration-color: #800000; font-weight: bold\"> No solutions for compound=C32200 (comp.reactions.ids=[20576])!</span>\n",
       "</pre>\n"
      ],
      "text/plain": [
       "\u001b[1;7;31m ERROR \u001b[0m\u001b[1;31m No solutions for compound=C32200 (comp.reactions.ids=[20576])!\u001b[0m\n"
      ]
     },
     "metadata": {},
     "output_type": "display_data"
    },
    {
     "data": {
      "text/html": [
       "<pre style=\"white-space:pre;overflow-x:auto;line-height:normal;font-family:Menlo,'DejaVu Sans Mono',consolas,'Courier New',monospace;margin:0px\"><span style=\"background-color: #800000; font-weight: bold\"> ERROR </span><span style=\"color: #800000; text-decoration-color: #800000; font-weight: bold\"> Reactants not available for reaction=\u001b[1m\u001b[4mR20601: C31864 + C31881 -&gt; C32225 via </span>\n",
       "<span style=\"color: #800000; text-decoration-color: #800000; font-weight: bold\">Reductive_amination\u001b[22m\u001b[24m!</span>\n",
       "</pre>\n"
      ],
      "text/plain": [
       "\u001b[1;7;31m ERROR \u001b[0m\u001b[1;31m Reactants not available for reaction=\u001b[1m\u001b[4mR20601: C31864 + C31881 -> C32225 via \u001b[0m\n",
       "\u001b[1;31mReductive_amination\u001b[22m\u001b[24m!\u001b[0m\n"
      ]
     },
     "metadata": {},
     "output_type": "display_data"
    },
    {
     "data": {
      "text/html": [
       "<pre style=\"white-space:pre;overflow-x:auto;line-height:normal;font-family:Menlo,'DejaVu Sans Mono',consolas,'Courier New',monospace;margin:0px\"><span style=\"background-color: #800000; font-weight: bold\"> ERROR </span><span style=\"color: #800000; text-decoration-color: #800000; font-weight: bold\"> No solutions for compound=C32225 (comp.reactions.ids=[20601])!</span>\n",
       "</pre>\n"
      ],
      "text/plain": [
       "\u001b[1;7;31m ERROR \u001b[0m\u001b[1;31m No solutions for compound=C32225 (comp.reactions.ids=[20601])!\u001b[0m\n"
      ]
     },
     "metadata": {},
     "output_type": "display_data"
    },
    {
     "data": {
      "text/html": [
       "<pre style=\"white-space:pre;overflow-x:auto;line-height:normal;font-family:Menlo,'DejaVu Sans Mono',consolas,'Courier New',monospace;margin:0px\"><span style=\"background-color: #800000; font-weight: bold\"> ERROR </span><span style=\"color: #800000; text-decoration-color: #800000; font-weight: bold\"> Reactants not available for reaction=\u001b[1m\u001b[4mR20641: C31866 + C31881 -&gt; C32265 via </span>\n",
       "<span style=\"color: #800000; text-decoration-color: #800000; font-weight: bold\">Reductive_amination\u001b[22m\u001b[24m!</span>\n",
       "</pre>\n"
      ],
      "text/plain": [
       "\u001b[1;7;31m ERROR \u001b[0m\u001b[1;31m Reactants not available for reaction=\u001b[1m\u001b[4mR20641: C31866 + C31881 -> C32265 via \u001b[0m\n",
       "\u001b[1;31mReductive_amination\u001b[22m\u001b[24m!\u001b[0m\n"
      ]
     },
     "metadata": {},
     "output_type": "display_data"
    },
    {
     "data": {
      "text/html": [
       "<pre style=\"white-space:pre;overflow-x:auto;line-height:normal;font-family:Menlo,'DejaVu Sans Mono',consolas,'Courier New',monospace;margin:0px\"><span style=\"background-color: #800000; font-weight: bold\"> ERROR </span><span style=\"color: #800000; text-decoration-color: #800000; font-weight: bold\"> No solutions for compound=C32265 (comp.reactions.ids=[20641])!</span>\n",
       "</pre>\n"
      ],
      "text/plain": [
       "\u001b[1;7;31m ERROR \u001b[0m\u001b[1;31m No solutions for compound=C32265 (comp.reactions.ids=[20641])!\u001b[0m\n"
      ]
     },
     "metadata": {},
     "output_type": "display_data"
    },
    {
     "data": {
      "text/html": [
       "<pre style=\"white-space:pre;overflow-x:auto;line-height:normal;font-family:Menlo,'DejaVu Sans Mono',consolas,'Courier New',monospace;margin:0px\"><span style=\"background-color: #800000; font-weight: bold\"> ERROR </span><span style=\"color: #800000; text-decoration-color: #800000; font-weight: bold\"> Reactants not available for reaction=\u001b[1m\u001b[4mR20804: C31871 + C31881 -&gt; C32428 via </span>\n",
       "<span style=\"color: #800000; text-decoration-color: #800000; font-weight: bold\">Reductive_amination\u001b[22m\u001b[24m!</span>\n",
       "</pre>\n"
      ],
      "text/plain": [
       "\u001b[1;7;31m ERROR \u001b[0m\u001b[1;31m Reactants not available for reaction=\u001b[1m\u001b[4mR20804: C31871 + C31881 -> C32428 via \u001b[0m\n",
       "\u001b[1;31mReductive_amination\u001b[22m\u001b[24m!\u001b[0m\n"
      ]
     },
     "metadata": {},
     "output_type": "display_data"
    },
    {
     "data": {
      "text/html": [
       "<pre style=\"white-space:pre;overflow-x:auto;line-height:normal;font-family:Menlo,'DejaVu Sans Mono',consolas,'Courier New',monospace;margin:0px\"><span style=\"background-color: #800000; font-weight: bold\"> ERROR </span><span style=\"color: #800000; text-decoration-color: #800000; font-weight: bold\"> No solutions for compound=C32428 (comp.reactions.ids=[20804])!</span>\n",
       "</pre>\n"
      ],
      "text/plain": [
       "\u001b[1;7;31m ERROR \u001b[0m\u001b[1;31m No solutions for compound=C32428 (comp.reactions.ids=[20804])!\u001b[0m\n"
      ]
     },
     "metadata": {},
     "output_type": "display_data"
    },
    {
     "data": {
      "text/html": [
       "<pre style=\"white-space:pre;overflow-x:auto;line-height:normal;font-family:Menlo,'DejaVu Sans Mono',consolas,'Courier New',monospace;margin:0px\"><span style=\"background-color: #800000; font-weight: bold\"> ERROR </span><span style=\"color: #800000; text-decoration-color: #800000; font-weight: bold\"> Reactants not available for reaction=\u001b[1m\u001b[4mR20980: C31863 + C31881 -&gt; C32604 via </span>\n",
       "<span style=\"color: #800000; text-decoration-color: #800000; font-weight: bold\">Reductive_amination\u001b[22m\u001b[24m!</span>\n",
       "</pre>\n"
      ],
      "text/plain": [
       "\u001b[1;7;31m ERROR \u001b[0m\u001b[1;31m Reactants not available for reaction=\u001b[1m\u001b[4mR20980: C31863 + C31881 -> C32604 via \u001b[0m\n",
       "\u001b[1;31mReductive_amination\u001b[22m\u001b[24m!\u001b[0m\n"
      ]
     },
     "metadata": {},
     "output_type": "display_data"
    },
    {
     "data": {
      "text/html": [
       "<pre style=\"white-space:pre;overflow-x:auto;line-height:normal;font-family:Menlo,'DejaVu Sans Mono',consolas,'Courier New',monospace;margin:0px\"><span style=\"background-color: #800000; font-weight: bold\"> ERROR </span><span style=\"color: #800000; text-decoration-color: #800000; font-weight: bold\"> No solutions for compound=C32604 (comp.reactions.ids=[20980])!</span>\n",
       "</pre>\n"
      ],
      "text/plain": [
       "\u001b[1;7;31m ERROR \u001b[0m\u001b[1;31m No solutions for compound=C32604 (comp.reactions.ids=[20980])!\u001b[0m\n"
      ]
     },
     "metadata": {},
     "output_type": "display_data"
    },
    {
     "data": {
      "text/html": [
       "<pre style=\"white-space:pre;overflow-x:auto;line-height:normal;font-family:Menlo,'DejaVu Sans Mono',consolas,'Courier New',monospace;margin:0px\"><span style=\"background-color: #800000; font-weight: bold\"> ERROR </span><span style=\"color: #800000; text-decoration-color: #800000; font-weight: bold\"> Reactants not available for reaction=\u001b[1m\u001b[4mR20994: C31880 + C31881 -&gt; C32618 via </span>\n",
       "<span style=\"color: #800000; text-decoration-color: #800000; font-weight: bold\">Reductive_amination\u001b[22m\u001b[24m!</span>\n",
       "</pre>\n"
      ],
      "text/plain": [
       "\u001b[1;7;31m ERROR \u001b[0m\u001b[1;31m Reactants not available for reaction=\u001b[1m\u001b[4mR20994: C31880 + C31881 -> C32618 via \u001b[0m\n",
       "\u001b[1;31mReductive_amination\u001b[22m\u001b[24m!\u001b[0m\n"
      ]
     },
     "metadata": {},
     "output_type": "display_data"
    },
    {
     "data": {
      "text/html": [
       "<pre style=\"white-space:pre;overflow-x:auto;line-height:normal;font-family:Menlo,'DejaVu Sans Mono',consolas,'Courier New',monospace;margin:0px\"><span style=\"background-color: #800000; font-weight: bold\"> ERROR </span><span style=\"color: #800000; text-decoration-color: #800000; font-weight: bold\"> No solutions for compound=C32618 (comp.reactions.ids=[20994])!</span>\n",
       "</pre>\n"
      ],
      "text/plain": [
       "\u001b[1;7;31m ERROR \u001b[0m\u001b[1;31m No solutions for compound=C32618 (comp.reactions.ids=[20994])!\u001b[0m\n"
      ]
     },
     "metadata": {},
     "output_type": "display_data"
    },
    {
     "data": {
      "text/html": [
       "<pre style=\"white-space:pre;overflow-x:auto;line-height:normal;font-family:Menlo,'DejaVu Sans Mono',consolas,'Courier New',monospace;margin:0px\"><span style=\"background-color: #008000; font-weight: bold\"> Success </span><span style=\"color: #008000; text-decoration-color: #008000; font-weight: bold\"> Found solution for compound=C34889!</span>\n",
       "</pre>\n"
      ],
      "text/plain": [
       "\u001b[1;7;32m Success \u001b[0m\u001b[1;32m Found solution for compound=C34889!\u001b[0m\n"
      ]
     },
     "metadata": {},
     "output_type": "display_data"
    },
    {
     "data": {
      "text/html": [
       "<pre style=\"white-space:pre;overflow-x:auto;line-height:normal;font-family:Menlo,'DejaVu Sans Mono',consolas,'Courier New',monospace;margin:0px\"><span style=\"background-color: #008000; font-weight: bold\"> Success </span><span style=\"color: #008000; text-decoration-color: #008000; font-weight: bold\"> Found solution for compound=C34898!</span>\n",
       "</pre>\n"
      ],
      "text/plain": [
       "\u001b[1;7;32m Success \u001b[0m\u001b[1;32m Found solution for compound=C34898!\u001b[0m\n"
      ]
     },
     "metadata": {},
     "output_type": "display_data"
    },
    {
     "data": {
      "text/html": [
       "<pre style=\"white-space:pre;overflow-x:auto;line-height:normal;font-family:Menlo,'DejaVu Sans Mono',consolas,'Courier New',monospace;margin:0px\"><span style=\"background-color: #008000; font-weight: bold\"> Success </span><span style=\"color: #008000; text-decoration-color: #008000; font-weight: bold\"> Found solution for compound=C35184!</span>\n",
       "</pre>\n"
      ],
      "text/plain": [
       "\u001b[1;7;32m Success \u001b[0m\u001b[1;32m Found solution for compound=C35184!\u001b[0m\n"
      ]
     },
     "metadata": {},
     "output_type": "display_data"
    },
    {
     "data": {
      "text/html": [
       "<pre style=\"white-space:pre;overflow-x:auto;line-height:normal;font-family:Menlo,'DejaVu Sans Mono',consolas,'Courier New',monospace;margin:0px\"><span style=\"background-color: #008000; font-weight: bold\"> Success </span><span style=\"color: #008000; text-decoration-color: #008000; font-weight: bold\"> Found solution for compound=C35227!</span>\n",
       "</pre>\n"
      ],
      "text/plain": [
       "\u001b[1;7;32m Success \u001b[0m\u001b[1;32m Found solution for compound=C35227!\u001b[0m\n"
      ]
     },
     "metadata": {},
     "output_type": "display_data"
    },
    {
     "data": {
      "text/html": [
       "<pre style=\"white-space:pre;overflow-x:auto;line-height:normal;font-family:Menlo,'DejaVu Sans Mono',consolas,'Courier New',monospace;margin:0px\"><span style=\"background-color: #008000; font-weight: bold\"> Success </span><span style=\"color: #008000; text-decoration-color: #008000; font-weight: bold\"> Found solution for compound=C35523!</span>\n",
       "</pre>\n"
      ],
      "text/plain": [
       "\u001b[1;7;32m Success \u001b[0m\u001b[1;32m Found solution for compound=C35523!\u001b[0m\n"
      ]
     },
     "metadata": {},
     "output_type": "display_data"
    },
    {
     "data": {
      "text/html": [
       "<pre style=\"white-space:pre;overflow-x:auto;line-height:normal;font-family:Menlo,'DejaVu Sans Mono',consolas,'Courier New',monospace;margin:0px\"><span style=\"background-color: #008000; font-weight: bold\"> Success </span><span style=\"color: #008000; text-decoration-color: #008000; font-weight: bold\"> Found solution for compound=C35531!</span>\n",
       "</pre>\n"
      ],
      "text/plain": [
       "\u001b[1;7;32m Success \u001b[0m\u001b[1;32m Found solution for compound=C35531!\u001b[0m\n"
      ]
     },
     "metadata": {},
     "output_type": "display_data"
    },
    {
     "data": {
      "text/html": [
       "<pre style=\"white-space:pre;overflow-x:auto;line-height:normal;font-family:Menlo,'DejaVu Sans Mono',consolas,'Courier New',monospace;margin:0px\"><span style=\"background-color: #008000; font-weight: bold\"> Success </span><span style=\"color: #008000; text-decoration-color: #008000; font-weight: bold\"> Found solution for compound=C39102!</span>\n",
       "</pre>\n"
      ],
      "text/plain": [
       "\u001b[1;7;32m Success \u001b[0m\u001b[1;32m Found solution for compound=C39102!\u001b[0m\n"
      ]
     },
     "metadata": {},
     "output_type": "display_data"
    },
    {
     "data": {
      "text/html": [
       "<pre style=\"white-space:pre;overflow-x:auto;line-height:normal;font-family:Menlo,'DejaVu Sans Mono',consolas,'Courier New',monospace;margin:0px\"><span style=\"background-color: #008000; font-weight: bold\"> Success </span><span style=\"color: #008000; text-decoration-color: #008000; font-weight: bold\"> Found solution for compound=C39232!</span>\n",
       "</pre>\n"
      ],
      "text/plain": [
       "\u001b[1;7;32m Success \u001b[0m\u001b[1;32m Found solution for compound=C39232!\u001b[0m\n"
      ]
     },
     "metadata": {},
     "output_type": "display_data"
    },
    {
     "data": {
      "text/html": [
       "<pre style=\"white-space:pre;overflow-x:auto;line-height:normal;font-family:Menlo,'DejaVu Sans Mono',consolas,'Courier New',monospace;margin:0px\"><span style=\"background-color: #008000; font-weight: bold\"> Success </span><span style=\"color: #008000; text-decoration-color: #008000; font-weight: bold\"> Found solution for compound=C39346!</span>\n",
       "</pre>\n"
      ],
      "text/plain": [
       "\u001b[1;7;32m Success \u001b[0m\u001b[1;32m Found solution for compound=C39346!\u001b[0m\n"
      ]
     },
     "metadata": {},
     "output_type": "display_data"
    },
    {
     "data": {
      "text/html": [
       "<pre style=\"white-space:pre;overflow-x:auto;line-height:normal;font-family:Menlo,'DejaVu Sans Mono',consolas,'Courier New',monospace;margin:0px\"><span style=\"background-color: #008000; font-weight: bold\"> Success </span><span style=\"color: #008000; text-decoration-color: #008000; font-weight: bold\"> Found solution for compound=C40167!</span>\n",
       "</pre>\n"
      ],
      "text/plain": [
       "\u001b[1;7;32m Success \u001b[0m\u001b[1;32m Found solution for compound=C40167!\u001b[0m\n"
      ]
     },
     "metadata": {},
     "output_type": "display_data"
    },
    {
     "data": {
      "text/html": [
       "<pre style=\"white-space:pre;overflow-x:auto;line-height:normal;font-family:Menlo,'DejaVu Sans Mono',consolas,'Courier New',monospace;margin:0px\"><span style=\"background-color: #008000; font-weight: bold\"> Success </span><span style=\"color: #008000; text-decoration-color: #008000; font-weight: bold\"> Found solution for compound=C41135!</span>\n",
       "</pre>\n"
      ],
      "text/plain": [
       "\u001b[1;7;32m Success \u001b[0m\u001b[1;32m Found solution for compound=C41135!\u001b[0m\n"
      ]
     },
     "metadata": {},
     "output_type": "display_data"
    },
    {
     "data": {
      "text/html": [
       "<pre style=\"white-space:pre;overflow-x:auto;line-height:normal;font-family:Menlo,'DejaVu Sans Mono',consolas,'Courier New',monospace;margin:0px\"><span style=\"background-color: #008000; font-weight: bold\"> Success </span><span style=\"color: #008000; text-decoration-color: #008000; font-weight: bold\"> Found solution for compound=C41137!</span>\n",
       "</pre>\n"
      ],
      "text/plain": [
       "\u001b[1;7;32m Success \u001b[0m\u001b[1;32m Found solution for compound=C41137!\u001b[0m\n"
      ]
     },
     "metadata": {},
     "output_type": "display_data"
    },
    {
     "data": {
      "text/html": [
       "<pre style=\"white-space:pre;overflow-x:auto;line-height:normal;font-family:Menlo,'DejaVu Sans Mono',consolas,'Courier New',monospace;margin:0px\"><span style=\"background-color: #008000; font-weight: bold\"> Success </span><span style=\"color: #008000; text-decoration-color: #008000; font-weight: bold\"> Found solution for compound=C41158!</span>\n",
       "</pre>\n"
      ],
      "text/plain": [
       "\u001b[1;7;32m Success \u001b[0m\u001b[1;32m Found solution for compound=C41158!\u001b[0m\n"
      ]
     },
     "metadata": {},
     "output_type": "display_data"
    },
    {
     "data": {
      "text/html": [
       "<pre style=\"white-space:pre;overflow-x:auto;line-height:normal;font-family:Menlo,'DejaVu Sans Mono',consolas,'Courier New',monospace;margin:0px\"><span style=\"background-color: #008000; font-weight: bold\"> Success </span><span style=\"color: #008000; text-decoration-color: #008000; font-weight: bold\"> Found solution for compound=C41225!</span>\n",
       "</pre>\n"
      ],
      "text/plain": [
       "\u001b[1;7;32m Success \u001b[0m\u001b[1;32m Found solution for compound=C41225!\u001b[0m\n"
      ]
     },
     "metadata": {},
     "output_type": "display_data"
    },
    {
     "data": {
      "text/html": [
       "<pre style=\"white-space:pre;overflow-x:auto;line-height:normal;font-family:Menlo,'DejaVu Sans Mono',consolas,'Courier New',monospace;margin:0px\"><span style=\"background-color: #008000; font-weight: bold\"> Success </span><span style=\"color: #008000; text-decoration-color: #008000; font-weight: bold\"> Found solution for compound=C41233!</span>\n",
       "</pre>\n"
      ],
      "text/plain": [
       "\u001b[1;7;32m Success \u001b[0m\u001b[1;32m Found solution for compound=C41233!\u001b[0m\n"
      ]
     },
     "metadata": {},
     "output_type": "display_data"
    },
    {
     "data": {
      "text/html": [
       "<pre style=\"white-space:pre;overflow-x:auto;line-height:normal;font-family:Menlo,'DejaVu Sans Mono',consolas,'Courier New',monospace;margin:0px\"><span style=\"background-color: #008000; font-weight: bold\"> Success </span><span style=\"color: #008000; text-decoration-color: #008000; font-weight: bold\"> Found solution for compound=C41255!</span>\n",
       "</pre>\n"
      ],
      "text/plain": [
       "\u001b[1;7;32m Success \u001b[0m\u001b[1;32m Found solution for compound=C41255!\u001b[0m\n"
      ]
     },
     "metadata": {},
     "output_type": "display_data"
    },
    {
     "data": {
      "text/html": [
       "<pre style=\"white-space:pre;overflow-x:auto;line-height:normal;font-family:Menlo,'DejaVu Sans Mono',consolas,'Courier New',monospace;margin:0px\"><span style=\"background-color: #008000; font-weight: bold\"> Success </span><span style=\"color: #008000; text-decoration-color: #008000; font-weight: bold\"> Found solution for compound=C41257!</span>\n",
       "</pre>\n"
      ],
      "text/plain": [
       "\u001b[1;7;32m Success \u001b[0m\u001b[1;32m Found solution for compound=C41257!\u001b[0m\n"
      ]
     },
     "metadata": {},
     "output_type": "display_data"
    },
    {
     "data": {
      "text/html": [
       "<pre style=\"white-space:pre;overflow-x:auto;line-height:normal;font-family:Menlo,'DejaVu Sans Mono',consolas,'Courier New',monospace;margin:0px\"><span style=\"background-color: #008000; font-weight: bold\"> Success </span><span style=\"color: #008000; text-decoration-color: #008000; font-weight: bold\"> Found solution for compound=C41286!</span>\n",
       "</pre>\n"
      ],
      "text/plain": [
       "\u001b[1;7;32m Success \u001b[0m\u001b[1;32m Found solution for compound=C41286!\u001b[0m\n"
      ]
     },
     "metadata": {},
     "output_type": "display_data"
    },
    {
     "data": {
      "text/html": [
       "<pre style=\"white-space:pre;overflow-x:auto;line-height:normal;font-family:Menlo,'DejaVu Sans Mono',consolas,'Courier New',monospace;margin:0px\"><span style=\"background-color: #008000; font-weight: bold\"> Success </span><span style=\"color: #008000; text-decoration-color: #008000; font-weight: bold\"> Found solution for compound=C41305!</span>\n",
       "</pre>\n"
      ],
      "text/plain": [
       "\u001b[1;7;32m Success \u001b[0m\u001b[1;32m Found solution for compound=C41305!\u001b[0m\n"
      ]
     },
     "metadata": {},
     "output_type": "display_data"
    },
    {
     "data": {
      "text/html": [
       "<pre style=\"white-space:pre;overflow-x:auto;line-height:normal;font-family:Menlo,'DejaVu Sans Mono',consolas,'Courier New',monospace;margin:0px\"><span style=\"background-color: #008000; font-weight: bold\"> Success </span><span style=\"color: #008000; text-decoration-color: #008000; font-weight: bold\"> Found solution for compound=C41308!</span>\n",
       "</pre>\n"
      ],
      "text/plain": [
       "\u001b[1;7;32m Success \u001b[0m\u001b[1;32m Found solution for compound=C41308!\u001b[0m\n"
      ]
     },
     "metadata": {},
     "output_type": "display_data"
    },
    {
     "data": {
      "text/html": [
       "<pre style=\"white-space:pre;overflow-x:auto;line-height:normal;font-family:Menlo,'DejaVu Sans Mono',consolas,'Courier New',monospace;margin:0px\"><span style=\"background-color: #008000; font-weight: bold\"> Success </span><span style=\"color: #008000; text-decoration-color: #008000; font-weight: bold\"> Found solution for compound=C41391!</span>\n",
       "</pre>\n"
      ],
      "text/plain": [
       "\u001b[1;7;32m Success \u001b[0m\u001b[1;32m Found solution for compound=C41391!\u001b[0m\n"
      ]
     },
     "metadata": {},
     "output_type": "display_data"
    },
    {
     "data": {
      "text/html": [
       "<pre style=\"white-space:pre;overflow-x:auto;line-height:normal;font-family:Menlo,'DejaVu Sans Mono',consolas,'Courier New',monospace;margin:0px\"><span style=\"background-color: #800000; font-weight: bold\"> ERROR </span><span style=\"color: #800000; text-decoration-color: #800000; font-weight: bold\"> Reactants not available for reaction=\u001b[1m\u001b[4mR29261: C31881 + C41859 -&gt; C41941 via </span>\n",
       "<span style=\"color: #800000; text-decoration-color: #800000; font-weight: bold\">Reductive_amination\u001b[22m\u001b[24m!</span>\n",
       "</pre>\n"
      ],
      "text/plain": [
       "\u001b[1;7;31m ERROR \u001b[0m\u001b[1;31m Reactants not available for reaction=\u001b[1m\u001b[4mR29261: C31881 + C41859 -> C41941 via \u001b[0m\n",
       "\u001b[1;31mReductive_amination\u001b[22m\u001b[24m!\u001b[0m\n"
      ]
     },
     "metadata": {},
     "output_type": "display_data"
    },
    {
     "data": {
      "text/html": [
       "<pre style=\"white-space:pre;overflow-x:auto;line-height:normal;font-family:Menlo,'DejaVu Sans Mono',consolas,'Courier New',monospace;margin:0px\"><span style=\"background-color: #800000; font-weight: bold\"> ERROR </span><span style=\"color: #800000; text-decoration-color: #800000; font-weight: bold\"> No solutions for compound=C41941 (comp.reactions.ids=[29261])!</span>\n",
       "</pre>\n"
      ],
      "text/plain": [
       "\u001b[1;7;31m ERROR \u001b[0m\u001b[1;31m No solutions for compound=C41941 (comp.reactions.ids=[29261])!\u001b[0m\n"
      ]
     },
     "metadata": {},
     "output_type": "display_data"
    },
    {
     "data": {
      "text/html": [
       "<pre style=\"white-space:pre;overflow-x:auto;line-height:normal;font-family:Menlo,'DejaVu Sans Mono',consolas,'Courier New',monospace;margin:0px\"><span style=\"background-color: #800000; font-weight: bold\"> ERROR </span><span style=\"color: #800000; text-decoration-color: #800000; font-weight: bold\"> Reactants not available for reaction=\u001b[1m\u001b[4mR29270: C31881 + C41864 -&gt; C41950 via </span>\n",
       "<span style=\"color: #800000; text-decoration-color: #800000; font-weight: bold\">Reductive_amination\u001b[22m\u001b[24m!</span>\n",
       "</pre>\n"
      ],
      "text/plain": [
       "\u001b[1;7;31m ERROR \u001b[0m\u001b[1;31m Reactants not available for reaction=\u001b[1m\u001b[4mR29270: C31881 + C41864 -> C41950 via \u001b[0m\n",
       "\u001b[1;31mReductive_amination\u001b[22m\u001b[24m!\u001b[0m\n"
      ]
     },
     "metadata": {},
     "output_type": "display_data"
    },
    {
     "data": {
      "text/html": [
       "<pre style=\"white-space:pre;overflow-x:auto;line-height:normal;font-family:Menlo,'DejaVu Sans Mono',consolas,'Courier New',monospace;margin:0px\"><span style=\"background-color: #800000; font-weight: bold\"> ERROR </span><span style=\"color: #800000; text-decoration-color: #800000; font-weight: bold\"> No solutions for compound=C41950 (comp.reactions.ids=[29270])!</span>\n",
       "</pre>\n"
      ],
      "text/plain": [
       "\u001b[1;7;31m ERROR \u001b[0m\u001b[1;31m No solutions for compound=C41950 (comp.reactions.ids=[29270])!\u001b[0m\n"
      ]
     },
     "metadata": {},
     "output_type": "display_data"
    },
    {
     "data": {
      "text/html": [
       "<pre style=\"white-space:pre;overflow-x:auto;line-height:normal;font-family:Menlo,'DejaVu Sans Mono',consolas,'Courier New',monospace;margin:0px\"><span style=\"background-color: #800000; font-weight: bold\"> ERROR </span><span style=\"color: #800000; text-decoration-color: #800000; font-weight: bold\"> Reactants not available for reaction=\u001b[1m\u001b[4mR29277: C31881 + C41867 -&gt; C41957 via </span>\n",
       "<span style=\"color: #800000; text-decoration-color: #800000; font-weight: bold\">Reductive_amination\u001b[22m\u001b[24m!</span>\n",
       "</pre>\n"
      ],
      "text/plain": [
       "\u001b[1;7;31m ERROR \u001b[0m\u001b[1;31m Reactants not available for reaction=\u001b[1m\u001b[4mR29277: C31881 + C41867 -> C41957 via \u001b[0m\n",
       "\u001b[1;31mReductive_amination\u001b[22m\u001b[24m!\u001b[0m\n"
      ]
     },
     "metadata": {},
     "output_type": "display_data"
    },
    {
     "data": {
      "text/html": [
       "<pre style=\"white-space:pre;overflow-x:auto;line-height:normal;font-family:Menlo,'DejaVu Sans Mono',consolas,'Courier New',monospace;margin:0px\"><span style=\"background-color: #800000; font-weight: bold\"> ERROR </span><span style=\"color: #800000; text-decoration-color: #800000; font-weight: bold\"> No solutions for compound=C41957 (comp.reactions.ids=[29277])!</span>\n",
       "</pre>\n"
      ],
      "text/plain": [
       "\u001b[1;7;31m ERROR \u001b[0m\u001b[1;31m No solutions for compound=C41957 (comp.reactions.ids=[29277])!\u001b[0m\n"
      ]
     },
     "metadata": {},
     "output_type": "display_data"
    },
    {
     "data": {
      "text/html": [
       "<pre style=\"white-space:pre;overflow-x:auto;line-height:normal;font-family:Menlo,'DejaVu Sans Mono',consolas,'Courier New',monospace;margin:0px\"><span style=\"background-color: #800000; font-weight: bold\"> ERROR </span><span style=\"color: #800000; text-decoration-color: #800000; font-weight: bold\"> Reactants not available for reaction=\u001b[1m\u001b[4mR29279: C31881 + C41868 -&gt; C41959 via </span>\n",
       "<span style=\"color: #800000; text-decoration-color: #800000; font-weight: bold\">Reductive_amination\u001b[22m\u001b[24m!</span>\n",
       "</pre>\n"
      ],
      "text/plain": [
       "\u001b[1;7;31m ERROR \u001b[0m\u001b[1;31m Reactants not available for reaction=\u001b[1m\u001b[4mR29279: C31881 + C41868 -> C41959 via \u001b[0m\n",
       "\u001b[1;31mReductive_amination\u001b[22m\u001b[24m!\u001b[0m\n"
      ]
     },
     "metadata": {},
     "output_type": "display_data"
    },
    {
     "data": {
      "text/html": [
       "<pre style=\"white-space:pre;overflow-x:auto;line-height:normal;font-family:Menlo,'DejaVu Sans Mono',consolas,'Courier New',monospace;margin:0px\"><span style=\"background-color: #800000; font-weight: bold\"> ERROR </span><span style=\"color: #800000; text-decoration-color: #800000; font-weight: bold\"> No solutions for compound=C41959 (comp.reactions.ids=[29279])!</span>\n",
       "</pre>\n"
      ],
      "text/plain": [
       "\u001b[1;7;31m ERROR \u001b[0m\u001b[1;31m No solutions for compound=C41959 (comp.reactions.ids=[29279])!\u001b[0m\n"
      ]
     },
     "metadata": {},
     "output_type": "display_data"
    },
    {
     "data": {
      "text/html": [
       "<pre style=\"white-space:pre;overflow-x:auto;line-height:normal;font-family:Menlo,'DejaVu Sans Mono',consolas,'Courier New',monospace;margin:0px\"><span style=\"background-color: #800000; font-weight: bold\"> ERROR </span><span style=\"color: #800000; text-decoration-color: #800000; font-weight: bold\"> Reactants not available for reaction=\u001b[1m\u001b[4mR29280: C31881 + C41869 -&gt; C41960 via </span>\n",
       "<span style=\"color: #800000; text-decoration-color: #800000; font-weight: bold\">Reductive_amination\u001b[22m\u001b[24m!</span>\n",
       "</pre>\n"
      ],
      "text/plain": [
       "\u001b[1;7;31m ERROR \u001b[0m\u001b[1;31m Reactants not available for reaction=\u001b[1m\u001b[4mR29280: C31881 + C41869 -> C41960 via \u001b[0m\n",
       "\u001b[1;31mReductive_amination\u001b[22m\u001b[24m!\u001b[0m\n"
      ]
     },
     "metadata": {},
     "output_type": "display_data"
    },
    {
     "data": {
      "text/html": [
       "<pre style=\"white-space:pre;overflow-x:auto;line-height:normal;font-family:Menlo,'DejaVu Sans Mono',consolas,'Courier New',monospace;margin:0px\"><span style=\"background-color: #800000; font-weight: bold\"> ERROR </span><span style=\"color: #800000; text-decoration-color: #800000; font-weight: bold\"> No solutions for compound=C41960 (comp.reactions.ids=[29280])!</span>\n",
       "</pre>\n"
      ],
      "text/plain": [
       "\u001b[1;7;31m ERROR \u001b[0m\u001b[1;31m No solutions for compound=C41960 (comp.reactions.ids=[29280])!\u001b[0m\n"
      ]
     },
     "metadata": {},
     "output_type": "display_data"
    },
    {
     "data": {
      "text/html": [
       "<pre style=\"white-space:pre;overflow-x:auto;line-height:normal;font-family:Menlo,'DejaVu Sans Mono',consolas,'Courier New',monospace;margin:0px\"><span style=\"background-color: #800000; font-weight: bold\"> ERROR </span><span style=\"color: #800000; text-decoration-color: #800000; font-weight: bold\"> Reactants not available for reaction=\u001b[1m\u001b[4mR29295: C31881 + C41874 -&gt; C41975 via </span>\n",
       "<span style=\"color: #800000; text-decoration-color: #800000; font-weight: bold\">Reductive_amination\u001b[22m\u001b[24m!</span>\n",
       "</pre>\n"
      ],
      "text/plain": [
       "\u001b[1;7;31m ERROR \u001b[0m\u001b[1;31m Reactants not available for reaction=\u001b[1m\u001b[4mR29295: C31881 + C41874 -> C41975 via \u001b[0m\n",
       "\u001b[1;31mReductive_amination\u001b[22m\u001b[24m!\u001b[0m\n"
      ]
     },
     "metadata": {},
     "output_type": "display_data"
    },
    {
     "data": {
      "text/html": [
       "<pre style=\"white-space:pre;overflow-x:auto;line-height:normal;font-family:Menlo,'DejaVu Sans Mono',consolas,'Courier New',monospace;margin:0px\"><span style=\"background-color: #800000; font-weight: bold\"> ERROR </span><span style=\"color: #800000; text-decoration-color: #800000; font-weight: bold\"> No solutions for compound=C41975 (comp.reactions.ids=[29295])!</span>\n",
       "</pre>\n"
      ],
      "text/plain": [
       "\u001b[1;7;31m ERROR \u001b[0m\u001b[1;31m No solutions for compound=C41975 (comp.reactions.ids=[29295])!\u001b[0m\n"
      ]
     },
     "metadata": {},
     "output_type": "display_data"
    },
    {
     "data": {
      "text/html": [
       "<pre style=\"white-space:pre;overflow-x:auto;line-height:normal;font-family:Menlo,'DejaVu Sans Mono',consolas,'Courier New',monospace;margin:0px\"><span style=\"background-color: #800000; font-weight: bold\"> ERROR </span><span style=\"color: #800000; text-decoration-color: #800000; font-weight: bold\"> Reactants not available for reaction=\u001b[1m\u001b[4mR29297: C31881 + C41876 -&gt; C41977 via </span>\n",
       "<span style=\"color: #800000; text-decoration-color: #800000; font-weight: bold\">Reductive_amination\u001b[22m\u001b[24m!</span>\n",
       "</pre>\n"
      ],
      "text/plain": [
       "\u001b[1;7;31m ERROR \u001b[0m\u001b[1;31m Reactants not available for reaction=\u001b[1m\u001b[4mR29297: C31881 + C41876 -> C41977 via \u001b[0m\n",
       "\u001b[1;31mReductive_amination\u001b[22m\u001b[24m!\u001b[0m\n"
      ]
     },
     "metadata": {},
     "output_type": "display_data"
    },
    {
     "data": {
      "text/html": [
       "<pre style=\"white-space:pre;overflow-x:auto;line-height:normal;font-family:Menlo,'DejaVu Sans Mono',consolas,'Courier New',monospace;margin:0px\"><span style=\"background-color: #800000; font-weight: bold\"> ERROR </span><span style=\"color: #800000; text-decoration-color: #800000; font-weight: bold\"> No solutions for compound=C41977 (comp.reactions.ids=[29297])!</span>\n",
       "</pre>\n"
      ],
      "text/plain": [
       "\u001b[1;7;31m ERROR \u001b[0m\u001b[1;31m No solutions for compound=C41977 (comp.reactions.ids=[29297])!\u001b[0m\n"
      ]
     },
     "metadata": {},
     "output_type": "display_data"
    },
    {
     "data": {
      "text/html": [
       "<pre style=\"white-space:pre;overflow-x:auto;line-height:normal;font-family:Menlo,'DejaVu Sans Mono',consolas,'Courier New',monospace;margin:0px\"><span style=\"background-color: #800000; font-weight: bold\"> ERROR </span><span style=\"color: #800000; text-decoration-color: #800000; font-weight: bold\"> Reactants not available for reaction=\u001b[1m\u001b[4mR29336: C31881 + C41887 -&gt; C42016 via </span>\n",
       "<span style=\"color: #800000; text-decoration-color: #800000; font-weight: bold\">Reductive_amination\u001b[22m\u001b[24m!</span>\n",
       "</pre>\n"
      ],
      "text/plain": [
       "\u001b[1;7;31m ERROR \u001b[0m\u001b[1;31m Reactants not available for reaction=\u001b[1m\u001b[4mR29336: C31881 + C41887 -> C42016 via \u001b[0m\n",
       "\u001b[1;31mReductive_amination\u001b[22m\u001b[24m!\u001b[0m\n"
      ]
     },
     "metadata": {},
     "output_type": "display_data"
    },
    {
     "data": {
      "text/html": [
       "<pre style=\"white-space:pre;overflow-x:auto;line-height:normal;font-family:Menlo,'DejaVu Sans Mono',consolas,'Courier New',monospace;margin:0px\"><span style=\"background-color: #800000; font-weight: bold\"> ERROR </span><span style=\"color: #800000; text-decoration-color: #800000; font-weight: bold\"> No solutions for compound=C42016 (comp.reactions.ids=[29336])!</span>\n",
       "</pre>\n"
      ],
      "text/plain": [
       "\u001b[1;7;31m ERROR \u001b[0m\u001b[1;31m No solutions for compound=C42016 (comp.reactions.ids=[29336])!\u001b[0m\n"
      ]
     },
     "metadata": {},
     "output_type": "display_data"
    },
    {
     "data": {
      "text/html": [
       "<pre style=\"white-space:pre;overflow-x:auto;line-height:normal;font-family:Menlo,'DejaVu Sans Mono',consolas,'Courier New',monospace;margin:0px\"><span style=\"background-color: #800000; font-weight: bold\"> ERROR </span><span style=\"color: #800000; text-decoration-color: #800000; font-weight: bold\"> Reactants not available for reaction=\u001b[1m\u001b[4mR29342: C31881 + C41890 -&gt; C42022 via </span>\n",
       "<span style=\"color: #800000; text-decoration-color: #800000; font-weight: bold\">Reductive_amination\u001b[22m\u001b[24m!</span>\n",
       "</pre>\n"
      ],
      "text/plain": [
       "\u001b[1;7;31m ERROR \u001b[0m\u001b[1;31m Reactants not available for reaction=\u001b[1m\u001b[4mR29342: C31881 + C41890 -> C42022 via \u001b[0m\n",
       "\u001b[1;31mReductive_amination\u001b[22m\u001b[24m!\u001b[0m\n"
      ]
     },
     "metadata": {},
     "output_type": "display_data"
    },
    {
     "data": {
      "text/html": [
       "<pre style=\"white-space:pre;overflow-x:auto;line-height:normal;font-family:Menlo,'DejaVu Sans Mono',consolas,'Courier New',monospace;margin:0px\"><span style=\"background-color: #800000; font-weight: bold\"> ERROR </span><span style=\"color: #800000; text-decoration-color: #800000; font-weight: bold\"> No solutions for compound=C42022 (comp.reactions.ids=[29342])!</span>\n",
       "</pre>\n"
      ],
      "text/plain": [
       "\u001b[1;7;31m ERROR \u001b[0m\u001b[1;31m No solutions for compound=C42022 (comp.reactions.ids=[29342])!\u001b[0m\n"
      ]
     },
     "metadata": {},
     "output_type": "display_data"
    },
    {
     "data": {
      "text/html": [
       "<pre style=\"white-space:pre;overflow-x:auto;line-height:normal;font-family:Menlo,'DejaVu Sans Mono',consolas,'Courier New',monospace;margin:0px\"><span style=\"background-color: #800000; font-weight: bold\"> ERROR </span><span style=\"color: #800000; text-decoration-color: #800000; font-weight: bold\"> Reactants not available for reaction=\u001b[1m\u001b[4mR29346: C31881 + C41892 -&gt; C42026 via </span>\n",
       "<span style=\"color: #800000; text-decoration-color: #800000; font-weight: bold\">Reductive_amination\u001b[22m\u001b[24m!</span>\n",
       "</pre>\n"
      ],
      "text/plain": [
       "\u001b[1;7;31m ERROR \u001b[0m\u001b[1;31m Reactants not available for reaction=\u001b[1m\u001b[4mR29346: C31881 + C41892 -> C42026 via \u001b[0m\n",
       "\u001b[1;31mReductive_amination\u001b[22m\u001b[24m!\u001b[0m\n"
      ]
     },
     "metadata": {},
     "output_type": "display_data"
    },
    {
     "data": {
      "text/html": [
       "<pre style=\"white-space:pre;overflow-x:auto;line-height:normal;font-family:Menlo,'DejaVu Sans Mono',consolas,'Courier New',monospace;margin:0px\"><span style=\"background-color: #800000; font-weight: bold\"> ERROR </span><span style=\"color: #800000; text-decoration-color: #800000; font-weight: bold\"> No solutions for compound=C42026 (comp.reactions.ids=[29346])!</span>\n",
       "</pre>\n"
      ],
      "text/plain": [
       "\u001b[1;7;31m ERROR \u001b[0m\u001b[1;31m No solutions for compound=C42026 (comp.reactions.ids=[29346])!\u001b[0m\n"
      ]
     },
     "metadata": {},
     "output_type": "display_data"
    },
    {
     "data": {
      "text/html": [
       "<pre style=\"white-space:pre;overflow-x:auto;line-height:normal;font-family:Menlo,'DejaVu Sans Mono',consolas,'Courier New',monospace;margin:0px\"><span style=\"background-color: #800000; font-weight: bold\"> ERROR </span><span style=\"color: #800000; text-decoration-color: #800000; font-weight: bold\"> Reactants not available for reaction=\u001b[1m\u001b[4mR29390: C31881 + C41896 -&gt; C42070 via </span>\n",
       "<span style=\"color: #800000; text-decoration-color: #800000; font-weight: bold\">Reductive_amination\u001b[22m\u001b[24m!</span>\n",
       "</pre>\n"
      ],
      "text/plain": [
       "\u001b[1;7;31m ERROR \u001b[0m\u001b[1;31m Reactants not available for reaction=\u001b[1m\u001b[4mR29390: C31881 + C41896 -> C42070 via \u001b[0m\n",
       "\u001b[1;31mReductive_amination\u001b[22m\u001b[24m!\u001b[0m\n"
      ]
     },
     "metadata": {},
     "output_type": "display_data"
    },
    {
     "data": {
      "text/html": [
       "<pre style=\"white-space:pre;overflow-x:auto;line-height:normal;font-family:Menlo,'DejaVu Sans Mono',consolas,'Courier New',monospace;margin:0px\"><span style=\"background-color: #800000; font-weight: bold\"> ERROR </span><span style=\"color: #800000; text-decoration-color: #800000; font-weight: bold\"> No solutions for compound=C42070 (comp.reactions.ids=[29390])!</span>\n",
       "</pre>\n"
      ],
      "text/plain": [
       "\u001b[1;7;31m ERROR \u001b[0m\u001b[1;31m No solutions for compound=C42070 (comp.reactions.ids=[29390])!\u001b[0m\n"
      ]
     },
     "metadata": {},
     "output_type": "display_data"
    },
    {
     "data": {
      "text/html": [
       "<pre style=\"white-space:pre;overflow-x:auto;line-height:normal;font-family:Menlo,'DejaVu Sans Mono',consolas,'Courier New',monospace;margin:0px\"><span style=\"background-color: #800000; font-weight: bold\"> ERROR </span><span style=\"color: #800000; text-decoration-color: #800000; font-weight: bold\"> Reactants not available for reaction=\u001b[1m\u001b[4mR29402: C31881 + C41894 -&gt; C42082 via </span>\n",
       "<span style=\"color: #800000; text-decoration-color: #800000; font-weight: bold\">Reductive_amination\u001b[22m\u001b[24m!</span>\n",
       "</pre>\n"
      ],
      "text/plain": [
       "\u001b[1;7;31m ERROR \u001b[0m\u001b[1;31m Reactants not available for reaction=\u001b[1m\u001b[4mR29402: C31881 + C41894 -> C42082 via \u001b[0m\n",
       "\u001b[1;31mReductive_amination\u001b[22m\u001b[24m!\u001b[0m\n"
      ]
     },
     "metadata": {},
     "output_type": "display_data"
    },
    {
     "data": {
      "text/html": [
       "<pre style=\"white-space:pre;overflow-x:auto;line-height:normal;font-family:Menlo,'DejaVu Sans Mono',consolas,'Courier New',monospace;margin:0px\"><span style=\"background-color: #800000; font-weight: bold\"> ERROR </span><span style=\"color: #800000; text-decoration-color: #800000; font-weight: bold\"> No solutions for compound=C42082 (comp.reactions.ids=[29402])!</span>\n",
       "</pre>\n"
      ],
      "text/plain": [
       "\u001b[1;7;31m ERROR \u001b[0m\u001b[1;31m No solutions for compound=C42082 (comp.reactions.ids=[29402])!\u001b[0m\n"
      ]
     },
     "metadata": {},
     "output_type": "display_data"
    },
    {
     "data": {
      "text/html": [
       "<pre style=\"white-space:pre;overflow-x:auto;line-height:normal;font-family:Menlo,'DejaVu Sans Mono',consolas,'Courier New',monospace;margin:0px\"><span style=\"background-color: #800000; font-weight: bold\"> ERROR </span><span style=\"color: #800000; text-decoration-color: #800000; font-weight: bold\"> Reactants not available for reaction=\u001b[1m\u001b[4mR29418: C31881 + C41901 -&gt; C42098 via </span>\n",
       "<span style=\"color: #800000; text-decoration-color: #800000; font-weight: bold\">Reductive_amination\u001b[22m\u001b[24m!</span>\n",
       "</pre>\n"
      ],
      "text/plain": [
       "\u001b[1;7;31m ERROR \u001b[0m\u001b[1;31m Reactants not available for reaction=\u001b[1m\u001b[4mR29418: C31881 + C41901 -> C42098 via \u001b[0m\n",
       "\u001b[1;31mReductive_amination\u001b[22m\u001b[24m!\u001b[0m\n"
      ]
     },
     "metadata": {},
     "output_type": "display_data"
    },
    {
     "data": {
      "text/html": [
       "<pre style=\"white-space:pre;overflow-x:auto;line-height:normal;font-family:Menlo,'DejaVu Sans Mono',consolas,'Courier New',monospace;margin:0px\"><span style=\"background-color: #800000; font-weight: bold\"> ERROR </span><span style=\"color: #800000; text-decoration-color: #800000; font-weight: bold\"> No solutions for compound=C42098 (comp.reactions.ids=[29418])!</span>\n",
       "</pre>\n"
      ],
      "text/plain": [
       "\u001b[1;7;31m ERROR \u001b[0m\u001b[1;31m No solutions for compound=C42098 (comp.reactions.ids=[29418])!\u001b[0m\n"
      ]
     },
     "metadata": {},
     "output_type": "display_data"
    },
    {
     "data": {
      "text/html": [
       "<pre style=\"white-space:pre;overflow-x:auto;line-height:normal;font-family:Menlo,'DejaVu Sans Mono',consolas,'Courier New',monospace;margin:0px\"><span style=\"background-color: #800000; font-weight: bold\"> ERROR </span><span style=\"color: #800000; text-decoration-color: #800000; font-weight: bold\"> Reactants not available for reaction=\u001b[1m\u001b[4mR29424: C31881 + C41905 -&gt; C42104 via </span>\n",
       "<span style=\"color: #800000; text-decoration-color: #800000; font-weight: bold\">Reductive_amination\u001b[22m\u001b[24m!</span>\n",
       "</pre>\n"
      ],
      "text/plain": [
       "\u001b[1;7;31m ERROR \u001b[0m\u001b[1;31m Reactants not available for reaction=\u001b[1m\u001b[4mR29424: C31881 + C41905 -> C42104 via \u001b[0m\n",
       "\u001b[1;31mReductive_amination\u001b[22m\u001b[24m!\u001b[0m\n"
      ]
     },
     "metadata": {},
     "output_type": "display_data"
    },
    {
     "data": {
      "text/html": [
       "<pre style=\"white-space:pre;overflow-x:auto;line-height:normal;font-family:Menlo,'DejaVu Sans Mono',consolas,'Courier New',monospace;margin:0px\"><span style=\"background-color: #800000; font-weight: bold\"> ERROR </span><span style=\"color: #800000; text-decoration-color: #800000; font-weight: bold\"> No solutions for compound=C42104 (comp.reactions.ids=[29424])!</span>\n",
       "</pre>\n"
      ],
      "text/plain": [
       "\u001b[1;7;31m ERROR \u001b[0m\u001b[1;31m No solutions for compound=C42104 (comp.reactions.ids=[29424])!\u001b[0m\n"
      ]
     },
     "metadata": {},
     "output_type": "display_data"
    },
    {
     "data": {
      "text/html": [
       "<pre style=\"white-space:pre;overflow-x:auto;line-height:normal;font-family:Menlo,'DejaVu Sans Mono',consolas,'Courier New',monospace;margin:0px\"><span style=\"background-color: #800000; font-weight: bold\"> ERROR </span><span style=\"color: #800000; text-decoration-color: #800000; font-weight: bold\"> Reactants not available for reaction=\u001b[1m\u001b[4mR29434: C31881 + C41904 -&gt; C42114 via </span>\n",
       "<span style=\"color: #800000; text-decoration-color: #800000; font-weight: bold\">Reductive_amination\u001b[22m\u001b[24m!</span>\n",
       "</pre>\n"
      ],
      "text/plain": [
       "\u001b[1;7;31m ERROR \u001b[0m\u001b[1;31m Reactants not available for reaction=\u001b[1m\u001b[4mR29434: C31881 + C41904 -> C42114 via \u001b[0m\n",
       "\u001b[1;31mReductive_amination\u001b[22m\u001b[24m!\u001b[0m\n"
      ]
     },
     "metadata": {},
     "output_type": "display_data"
    },
    {
     "data": {
      "text/html": [
       "<pre style=\"white-space:pre;overflow-x:auto;line-height:normal;font-family:Menlo,'DejaVu Sans Mono',consolas,'Courier New',monospace;margin:0px\"><span style=\"background-color: #800000; font-weight: bold\"> ERROR </span><span style=\"color: #800000; text-decoration-color: #800000; font-weight: bold\"> No solutions for compound=C42114 (comp.reactions.ids=[29434])!</span>\n",
       "</pre>\n"
      ],
      "text/plain": [
       "\u001b[1;7;31m ERROR \u001b[0m\u001b[1;31m No solutions for compound=C42114 (comp.reactions.ids=[29434])!\u001b[0m\n"
      ]
     },
     "metadata": {},
     "output_type": "display_data"
    },
    {
     "data": {
      "text/html": [
       "<pre style=\"white-space:pre;overflow-x:auto;line-height:normal;font-family:Menlo,'DejaVu Sans Mono',consolas,'Courier New',monospace;margin:0px\"><span style=\"background-color: #800000; font-weight: bold\"> ERROR </span><span style=\"color: #800000; text-decoration-color: #800000; font-weight: bold\"> Reactants not available for reaction=\u001b[1m\u001b[4mR29821: C31881 + C41932 -&gt; C42501 via </span>\n",
       "<span style=\"color: #800000; text-decoration-color: #800000; font-weight: bold\">Reductive_amination\u001b[22m\u001b[24m!</span>\n",
       "</pre>\n"
      ],
      "text/plain": [
       "\u001b[1;7;31m ERROR \u001b[0m\u001b[1;31m Reactants not available for reaction=\u001b[1m\u001b[4mR29821: C31881 + C41932 -> C42501 via \u001b[0m\n",
       "\u001b[1;31mReductive_amination\u001b[22m\u001b[24m!\u001b[0m\n"
      ]
     },
     "metadata": {},
     "output_type": "display_data"
    },
    {
     "data": {
      "text/html": [
       "<pre style=\"white-space:pre;overflow-x:auto;line-height:normal;font-family:Menlo,'DejaVu Sans Mono',consolas,'Courier New',monospace;margin:0px\"><span style=\"background-color: #800000; font-weight: bold\"> ERROR </span><span style=\"color: #800000; text-decoration-color: #800000; font-weight: bold\"> No solutions for compound=C42501 (comp.reactions.ids=[29821])!</span>\n",
       "</pre>\n"
      ],
      "text/plain": [
       "\u001b[1;7;31m ERROR \u001b[0m\u001b[1;31m No solutions for compound=C42501 (comp.reactions.ids=[29821])!\u001b[0m\n"
      ]
     },
     "metadata": {},
     "output_type": "display_data"
    },
    {
     "data": {
      "text/html": [
       "<pre style=\"white-space:pre;overflow-x:auto;line-height:normal;font-family:Menlo,'DejaVu Sans Mono',consolas,'Courier New',monospace;margin:0px\"><span style=\"background-color: #008000; font-weight: bold\"> Success </span><span style=\"color: #008000; text-decoration-color: #008000; font-weight: bold\"> Found solution for compound=C44464!</span>\n",
       "</pre>\n"
      ],
      "text/plain": [
       "\u001b[1;7;32m Success \u001b[0m\u001b[1;32m Found solution for compound=C44464!\u001b[0m\n"
      ]
     },
     "metadata": {},
     "output_type": "display_data"
    },
    {
     "data": {
      "text/html": [
       "<pre style=\"white-space:pre;overflow-x:auto;line-height:normal;font-family:Menlo,'DejaVu Sans Mono',consolas,'Courier New',monospace;margin:0px\"><span style=\"background-color: #008000; font-weight: bold\"> Success </span><span style=\"color: #008000; text-decoration-color: #008000; font-weight: bold\"> Found solution for compound=C44475!</span>\n",
       "</pre>\n"
      ],
      "text/plain": [
       "\u001b[1;7;32m Success \u001b[0m\u001b[1;32m Found solution for compound=C44475!\u001b[0m\n"
      ]
     },
     "metadata": {},
     "output_type": "display_data"
    },
    {
     "data": {
      "text/html": [
       "<pre style=\"white-space:pre;overflow-x:auto;line-height:normal;font-family:Menlo,'DejaVu Sans Mono',consolas,'Courier New',monospace;margin:0px\"><span style=\"background-color: #008000; font-weight: bold\"> Success </span><span style=\"color: #008000; text-decoration-color: #008000; font-weight: bold\"> Found solution for compound=C44476!</span>\n",
       "</pre>\n"
      ],
      "text/plain": [
       "\u001b[1;7;32m Success \u001b[0m\u001b[1;32m Found solution for compound=C44476!\u001b[0m\n"
      ]
     },
     "metadata": {},
     "output_type": "display_data"
    },
    {
     "data": {
      "text/html": [
       "<pre style=\"white-space:pre;overflow-x:auto;line-height:normal;font-family:Menlo,'DejaVu Sans Mono',consolas,'Courier New',monospace;margin:0px\"><span style=\"background-color: #008000; font-weight: bold\"> Success </span><span style=\"color: #008000; text-decoration-color: #008000; font-weight: bold\"> Found solution for compound=C44478!</span>\n",
       "</pre>\n"
      ],
      "text/plain": [
       "\u001b[1;7;32m Success \u001b[0m\u001b[1;32m Found solution for compound=C44478!\u001b[0m\n"
      ]
     },
     "metadata": {},
     "output_type": "display_data"
    },
    {
     "data": {
      "text/html": [
       "<pre style=\"white-space:pre;overflow-x:auto;line-height:normal;font-family:Menlo,'DejaVu Sans Mono',consolas,'Courier New',monospace;margin:0px\"><span style=\"background-color: #008000; font-weight: bold\"> Success </span><span style=\"color: #008000; text-decoration-color: #008000; font-weight: bold\"> Found solution for compound=C44479!</span>\n",
       "</pre>\n"
      ],
      "text/plain": [
       "\u001b[1;7;32m Success \u001b[0m\u001b[1;32m Found solution for compound=C44479!\u001b[0m\n"
      ]
     },
     "metadata": {},
     "output_type": "display_data"
    },
    {
     "data": {
      "text/html": [
       "<pre style=\"white-space:pre;overflow-x:auto;line-height:normal;font-family:Menlo,'DejaVu Sans Mono',consolas,'Courier New',monospace;margin:0px\"><span style=\"background-color: #008000; font-weight: bold\"> Success </span><span style=\"color: #008000; text-decoration-color: #008000; font-weight: bold\"> Found solution for compound=C44538!</span>\n",
       "</pre>\n"
      ],
      "text/plain": [
       "\u001b[1;7;32m Success \u001b[0m\u001b[1;32m Found solution for compound=C44538!\u001b[0m\n"
      ]
     },
     "metadata": {},
     "output_type": "display_data"
    },
    {
     "data": {
      "text/html": [
       "<pre style=\"white-space:pre;overflow-x:auto;line-height:normal;font-family:Menlo,'DejaVu Sans Mono',consolas,'Courier New',monospace;margin:0px\"><span style=\"background-color: #008000; font-weight: bold\"> Success </span><span style=\"color: #008000; text-decoration-color: #008000; font-weight: bold\"> Found solution for compound=C44543!</span>\n",
       "</pre>\n"
      ],
      "text/plain": [
       "\u001b[1;7;32m Success \u001b[0m\u001b[1;32m Found solution for compound=C44543!\u001b[0m\n"
      ]
     },
     "metadata": {},
     "output_type": "display_data"
    },
    {
     "data": {
      "text/html": [
       "<pre style=\"white-space:pre;overflow-x:auto;line-height:normal;font-family:Menlo,'DejaVu Sans Mono',consolas,'Courier New',monospace;margin:0px\"><span style=\"background-color: #008000; font-weight: bold\"> Success </span><span style=\"color: #008000; text-decoration-color: #008000; font-weight: bold\"> Found solution for compound=C44545!</span>\n",
       "</pre>\n"
      ],
      "text/plain": [
       "\u001b[1;7;32m Success \u001b[0m\u001b[1;32m Found solution for compound=C44545!\u001b[0m\n"
      ]
     },
     "metadata": {},
     "output_type": "display_data"
    },
    {
     "data": {
      "text/html": [
       "<pre style=\"white-space:pre;overflow-x:auto;line-height:normal;font-family:Menlo,'DejaVu Sans Mono',consolas,'Courier New',monospace;margin:0px\"><span style=\"background-color: #008000; font-weight: bold\"> Success </span><span style=\"color: #008000; text-decoration-color: #008000; font-weight: bold\"> Found solution for compound=C44557!</span>\n",
       "</pre>\n"
      ],
      "text/plain": [
       "\u001b[1;7;32m Success \u001b[0m\u001b[1;32m Found solution for compound=C44557!\u001b[0m\n"
      ]
     },
     "metadata": {},
     "output_type": "display_data"
    },
    {
     "data": {
      "text/html": [
       "<pre style=\"white-space:pre;overflow-x:auto;line-height:normal;font-family:Menlo,'DejaVu Sans Mono',consolas,'Courier New',monospace;margin:0px\"><span style=\"background-color: #008000; font-weight: bold\"> Success </span><span style=\"color: #008000; text-decoration-color: #008000; font-weight: bold\"> Found solution for compound=C44564!</span>\n",
       "</pre>\n"
      ],
      "text/plain": [
       "\u001b[1;7;32m Success \u001b[0m\u001b[1;32m Found solution for compound=C44564!\u001b[0m\n"
      ]
     },
     "metadata": {},
     "output_type": "display_data"
    },
    {
     "data": {
      "text/html": [
       "<pre style=\"white-space:pre;overflow-x:auto;line-height:normal;font-family:Menlo,'DejaVu Sans Mono',consolas,'Courier New',monospace;margin:0px\"><span style=\"background-color: #008000; font-weight: bold\"> Success </span><span style=\"color: #008000; text-decoration-color: #008000; font-weight: bold\"> Found solution for compound=C44807!</span>\n",
       "</pre>\n"
      ],
      "text/plain": [
       "\u001b[1;7;32m Success \u001b[0m\u001b[1;32m Found solution for compound=C44807!\u001b[0m\n"
      ]
     },
     "metadata": {},
     "output_type": "display_data"
    },
    {
     "data": {
      "text/html": [
       "<pre style=\"white-space:pre;overflow-x:auto;line-height:normal;font-family:Menlo,'DejaVu Sans Mono',consolas,'Courier New',monospace;margin:0px\"><span style=\"background-color: #008000; font-weight: bold\"> Success </span><span style=\"color: #008000; text-decoration-color: #008000; font-weight: bold\"> Found solution for compound=C44815!</span>\n",
       "</pre>\n"
      ],
      "text/plain": [
       "\u001b[1;7;32m Success \u001b[0m\u001b[1;32m Found solution for compound=C44815!\u001b[0m\n"
      ]
     },
     "metadata": {},
     "output_type": "display_data"
    },
    {
     "data": {
      "text/html": [
       "<pre style=\"white-space:pre;overflow-x:auto;line-height:normal;font-family:Menlo,'DejaVu Sans Mono',consolas,'Courier New',monospace;margin:0px\"><span style=\"background-color: #008000; font-weight: bold\"> Success </span><span style=\"color: #008000; text-decoration-color: #008000; font-weight: bold\"> Found solution for compound=C44816!</span>\n",
       "</pre>\n"
      ],
      "text/plain": [
       "\u001b[1;7;32m Success \u001b[0m\u001b[1;32m Found solution for compound=C44816!\u001b[0m\n"
      ]
     },
     "metadata": {},
     "output_type": "display_data"
    },
    {
     "data": {
      "text/html": [
       "<pre style=\"white-space:pre;overflow-x:auto;line-height:normal;font-family:Menlo,'DejaVu Sans Mono',consolas,'Courier New',monospace;margin:0px\"><span style=\"background-color: #008000; font-weight: bold\"> Success </span><span style=\"color: #008000; text-decoration-color: #008000; font-weight: bold\"> Found solution for compound=C45425!</span>\n",
       "</pre>\n"
      ],
      "text/plain": [
       "\u001b[1;7;32m Success \u001b[0m\u001b[1;32m Found solution for compound=C45425!\u001b[0m\n"
      ]
     },
     "metadata": {},
     "output_type": "display_data"
    },
    {
     "data": {
      "text/html": [
       "<pre style=\"white-space:pre;overflow-x:auto;line-height:normal;font-family:Menlo,'DejaVu Sans Mono',consolas,'Courier New',monospace;margin:0px\"><span style=\"background-color: #008000; font-weight: bold\"> Success </span><span style=\"color: #008000; text-decoration-color: #008000; font-weight: bold\"> Found solution for compound=C45511!</span>\n",
       "</pre>\n"
      ],
      "text/plain": [
       "\u001b[1;7;32m Success \u001b[0m\u001b[1;32m Found solution for compound=C45511!\u001b[0m\n"
      ]
     },
     "metadata": {},
     "output_type": "display_data"
    },
    {
     "data": {
      "text/html": [
       "<pre style=\"white-space:pre;overflow-x:auto;line-height:normal;font-family:Menlo,'DejaVu Sans Mono',consolas,'Courier New',monospace;margin:0px\"><span style=\"background-color: #008000; font-weight: bold\"> Success </span><span style=\"color: #008000; text-decoration-color: #008000; font-weight: bold\"> Found solution for compound=C45518!</span>\n",
       "</pre>\n"
      ],
      "text/plain": [
       "\u001b[1;7;32m Success \u001b[0m\u001b[1;32m Found solution for compound=C45518!\u001b[0m\n"
      ]
     },
     "metadata": {},
     "output_type": "display_data"
    },
    {
     "data": {
      "text/html": [
       "<pre style=\"white-space:pre;overflow-x:auto;line-height:normal;font-family:Menlo,'DejaVu Sans Mono',consolas,'Courier New',monospace;margin:0px\"><span style=\"background-color: #008000; font-weight: bold\"> Success </span><span style=\"color: #008000; text-decoration-color: #008000; font-weight: bold\"> Found solution for compound=C45521!</span>\n",
       "</pre>\n"
      ],
      "text/plain": [
       "\u001b[1;7;32m Success \u001b[0m\u001b[1;32m Found solution for compound=C45521!\u001b[0m\n"
      ]
     },
     "metadata": {},
     "output_type": "display_data"
    },
    {
     "data": {
      "text/html": [
       "<pre style=\"white-space:pre;overflow-x:auto;line-height:normal;font-family:Menlo,'DejaVu Sans Mono',consolas,'Courier New',monospace;margin:0px\"><span style=\"background-color: #008000; font-weight: bold\"> Success </span><span style=\"color: #008000; text-decoration-color: #008000; font-weight: bold\"> Found solution for compound=C45963!</span>\n",
       "</pre>\n"
      ],
      "text/plain": [
       "\u001b[1;7;32m Success \u001b[0m\u001b[1;32m Found solution for compound=C45963!\u001b[0m\n"
      ]
     },
     "metadata": {},
     "output_type": "display_data"
    },
    {
     "data": {
      "text/html": [
       "<pre style=\"white-space:pre;overflow-x:auto;line-height:normal;font-family:Menlo,'DejaVu Sans Mono',consolas,'Courier New',monospace;margin:0px\"><span style=\"background-color: #008000; font-weight: bold\"> Success </span><span style=\"color: #008000; text-decoration-color: #008000; font-weight: bold\"> Found solution for compound=C46078!</span>\n",
       "</pre>\n"
      ],
      "text/plain": [
       "\u001b[1;7;32m Success \u001b[0m\u001b[1;32m Found solution for compound=C46078!\u001b[0m\n"
      ]
     },
     "metadata": {},
     "output_type": "display_data"
    },
    {
     "data": {
      "text/html": [
       "<pre style=\"white-space:pre;overflow-x:auto;line-height:normal;font-family:Menlo,'DejaVu Sans Mono',consolas,'Courier New',monospace;margin:0px\"><span style=\"background-color: #008000; font-weight: bold\"> Success </span><span style=\"color: #008000; text-decoration-color: #008000; font-weight: bold\"> Found solution for compound=C46139!</span>\n",
       "</pre>\n"
      ],
      "text/plain": [
       "\u001b[1;7;32m Success \u001b[0m\u001b[1;32m Found solution for compound=C46139!\u001b[0m\n"
      ]
     },
     "metadata": {},
     "output_type": "display_data"
    },
    {
     "data": {
      "text/html": [
       "<pre style=\"white-space:pre;overflow-x:auto;line-height:normal;font-family:Menlo,'DejaVu Sans Mono',consolas,'Courier New',monospace;margin:0px\"><span style=\"background-color: #008000; font-weight: bold\"> Success </span><span style=\"color: #008000; text-decoration-color: #008000; font-weight: bold\"> Found solution for compound=C46425!</span>\n",
       "</pre>\n"
      ],
      "text/plain": [
       "\u001b[1;7;32m Success \u001b[0m\u001b[1;32m Found solution for compound=C46425!\u001b[0m\n"
      ]
     },
     "metadata": {},
     "output_type": "display_data"
    },
    {
     "data": {
      "text/html": [
       "<pre style=\"white-space:pre;overflow-x:auto;line-height:normal;font-family:Menlo,'DejaVu Sans Mono',consolas,'Courier New',monospace;margin:0px\"><span style=\"background-color: #008000; font-weight: bold\"> Success </span><span style=\"color: #008000; text-decoration-color: #008000; font-weight: bold\"> Found solution for compound=C46532!</span>\n",
       "</pre>\n"
      ],
      "text/plain": [
       "\u001b[1;7;32m Success \u001b[0m\u001b[1;32m Found solution for compound=C46532!\u001b[0m\n"
      ]
     },
     "metadata": {},
     "output_type": "display_data"
    },
    {
     "data": {
      "text/html": [
       "<pre style=\"white-space:pre;overflow-x:auto;line-height:normal;font-family:Menlo,'DejaVu Sans Mono',consolas,'Courier New',monospace;margin:0px\"><span style=\"background-color: #008000; font-weight: bold\"> Success </span><span style=\"color: #008000; text-decoration-color: #008000; font-weight: bold\"> Found solution for compound=C46911!</span>\n",
       "</pre>\n"
      ],
      "text/plain": [
       "\u001b[1;7;32m Success \u001b[0m\u001b[1;32m Found solution for compound=C46911!\u001b[0m\n"
      ]
     },
     "metadata": {},
     "output_type": "display_data"
    },
    {
     "data": {
      "text/html": [
       "<pre style=\"white-space:pre;overflow-x:auto;line-height:normal;font-family:Menlo,'DejaVu Sans Mono',consolas,'Courier New',monospace;margin:0px\"><span style=\"background-color: #008000; font-weight: bold\"> Success </span><span style=\"color: #008000; text-decoration-color: #008000; font-weight: bold\"> Found solution for compound=C46914!</span>\n",
       "</pre>\n"
      ],
      "text/plain": [
       "\u001b[1;7;32m Success \u001b[0m\u001b[1;32m Found solution for compound=C46914!\u001b[0m\n"
      ]
     },
     "metadata": {},
     "output_type": "display_data"
    },
    {
     "data": {
      "text/html": [
       "<pre style=\"white-space:pre;overflow-x:auto;line-height:normal;font-family:Menlo,'DejaVu Sans Mono',consolas,'Courier New',monospace;margin:0px\"><span style=\"background-color: #008000; font-weight: bold\"> Success </span><span style=\"color: #008000; text-decoration-color: #008000; font-weight: bold\"> Found solution for compound=C47483!</span>\n",
       "</pre>\n"
      ],
      "text/plain": [
       "\u001b[1;7;32m Success \u001b[0m\u001b[1;32m Found solution for compound=C47483!\u001b[0m\n"
      ]
     },
     "metadata": {},
     "output_type": "display_data"
    },
    {
     "data": {
      "text/html": [
       "<pre style=\"white-space:pre;overflow-x:auto;line-height:normal;font-family:Menlo,'DejaVu Sans Mono',consolas,'Courier New',monospace;margin:0px\"><span style=\"background-color: #008000; font-weight: bold\"> Success </span><span style=\"color: #008000; text-decoration-color: #008000; font-weight: bold\"> Found solution for compound=C47527!</span>\n",
       "</pre>\n"
      ],
      "text/plain": [
       "\u001b[1;7;32m Success \u001b[0m\u001b[1;32m Found solution for compound=C47527!\u001b[0m\n"
      ]
     },
     "metadata": {},
     "output_type": "display_data"
    },
    {
     "data": {
      "text/html": [
       "<pre style=\"white-space:pre;overflow-x:auto;line-height:normal;font-family:Menlo,'DejaVu Sans Mono',consolas,'Courier New',monospace;margin:0px\"><span style=\"background-color: #008000; font-weight: bold\"> Success </span><span style=\"color: #008000; text-decoration-color: #008000; font-weight: bold\"> Found solution for compound=C47529!</span>\n",
       "</pre>\n"
      ],
      "text/plain": [
       "\u001b[1;7;32m Success \u001b[0m\u001b[1;32m Found solution for compound=C47529!\u001b[0m\n"
      ]
     },
     "metadata": {},
     "output_type": "display_data"
    },
    {
     "data": {
      "text/html": [
       "<pre style=\"white-space:pre;overflow-x:auto;line-height:normal;font-family:Menlo,'DejaVu Sans Mono',consolas,'Courier New',monospace;margin:0px\"><span style=\"background-color: #008000; font-weight: bold\"> Success </span><span style=\"color: #008000; text-decoration-color: #008000; font-weight: bold\"> Found solution for compound=C52128!</span>\n",
       "</pre>\n"
      ],
      "text/plain": [
       "\u001b[1;7;32m Success \u001b[0m\u001b[1;32m Found solution for compound=C52128!\u001b[0m\n"
      ]
     },
     "metadata": {},
     "output_type": "display_data"
    },
    {
     "data": {
      "text/html": [
       "<pre style=\"white-space:pre;overflow-x:auto;line-height:normal;font-family:Menlo,'DejaVu Sans Mono',consolas,'Courier New',monospace;margin:0px\"><span style=\"background-color: #008000; font-weight: bold\"> Success </span><span style=\"color: #008000; text-decoration-color: #008000; font-weight: bold\"> Found solution for compound=C52131!</span>\n",
       "</pre>\n"
      ],
      "text/plain": [
       "\u001b[1;7;32m Success \u001b[0m\u001b[1;32m Found solution for compound=C52131!\u001b[0m\n"
      ]
     },
     "metadata": {},
     "output_type": "display_data"
    },
    {
     "data": {
      "text/html": [
       "<pre style=\"white-space:pre;overflow-x:auto;line-height:normal;font-family:Menlo,'DejaVu Sans Mono',consolas,'Courier New',monospace;margin:0px\"><span style=\"background-color: #008000; font-weight: bold\"> Success </span><span style=\"color: #008000; text-decoration-color: #008000; font-weight: bold\"> Found solution for compound=C52132!</span>\n",
       "</pre>\n"
      ],
      "text/plain": [
       "\u001b[1;7;32m Success \u001b[0m\u001b[1;32m Found solution for compound=C52132!\u001b[0m\n"
      ]
     },
     "metadata": {},
     "output_type": "display_data"
    },
    {
     "data": {
      "text/html": [
       "<pre style=\"white-space:pre;overflow-x:auto;line-height:normal;font-family:Menlo,'DejaVu Sans Mono',consolas,'Courier New',monospace;margin:0px\"><span style=\"background-color: #008000; font-weight: bold\"> Success </span><span style=\"color: #008000; text-decoration-color: #008000; font-weight: bold\"> Found solution for compound=C52133!</span>\n",
       "</pre>\n"
      ],
      "text/plain": [
       "\u001b[1;7;32m Success \u001b[0m\u001b[1;32m Found solution for compound=C52133!\u001b[0m\n"
      ]
     },
     "metadata": {},
     "output_type": "display_data"
    },
    {
     "data": {
      "text/html": [
       "<pre style=\"white-space:pre;overflow-x:auto;line-height:normal;font-family:Menlo,'DejaVu Sans Mono',consolas,'Courier New',monospace;margin:0px\"><span style=\"background-color: #008000; font-weight: bold\"> Success </span><span style=\"color: #008000; text-decoration-color: #008000; font-weight: bold\"> Found solution for compound=C52137!</span>\n",
       "</pre>\n"
      ],
      "text/plain": [
       "\u001b[1;7;32m Success \u001b[0m\u001b[1;32m Found solution for compound=C52137!\u001b[0m\n"
      ]
     },
     "metadata": {},
     "output_type": "display_data"
    },
    {
     "data": {
      "text/html": [
       "<pre style=\"white-space:pre;overflow-x:auto;line-height:normal;font-family:Menlo,'DejaVu Sans Mono',consolas,'Courier New',monospace;margin:0px\"><span style=\"background-color: #008000; font-weight: bold\"> Success </span><span style=\"color: #008000; text-decoration-color: #008000; font-weight: bold\"> Found solution for compound=C52140!</span>\n",
       "</pre>\n"
      ],
      "text/plain": [
       "\u001b[1;7;32m Success \u001b[0m\u001b[1;32m Found solution for compound=C52140!\u001b[0m\n"
      ]
     },
     "metadata": {},
     "output_type": "display_data"
    },
    {
     "data": {
      "text/html": [
       "<pre style=\"white-space:pre;overflow-x:auto;line-height:normal;font-family:Menlo,'DejaVu Sans Mono',consolas,'Courier New',monospace;margin:0px\"><span style=\"background-color: #800000; font-weight: bold\"> ERROR </span><span style=\"color: #800000; text-decoration-color: #800000; font-weight: bold\"> Reactants not available for reaction=\u001b[1m\u001b[4mR36280: C51607 + C51625 -&gt; C52141 via </span>\n",
       "<span style=\"color: #800000; text-decoration-color: #800000; font-weight: bold\">Epoxide_+_amine_coupling\u001b[22m\u001b[24m!</span>\n",
       "</pre>\n"
      ],
      "text/plain": [
       "\u001b[1;7;31m ERROR \u001b[0m\u001b[1;31m Reactants not available for reaction=\u001b[1m\u001b[4mR36280: C51607 + C51625 -> C52141 via \u001b[0m\n",
       "\u001b[1;31mEpoxide_+_amine_coupling\u001b[22m\u001b[24m!\u001b[0m\n"
      ]
     },
     "metadata": {},
     "output_type": "display_data"
    },
    {
     "data": {
      "text/html": [
       "<pre style=\"white-space:pre;overflow-x:auto;line-height:normal;font-family:Menlo,'DejaVu Sans Mono',consolas,'Courier New',monospace;margin:0px\"><span style=\"background-color: #800000; font-weight: bold\"> ERROR </span><span style=\"color: #800000; text-decoration-color: #800000; font-weight: bold\"> No solutions for compound=C52141 (comp.reactions.ids=[36280])!</span>\n",
       "</pre>\n"
      ],
      "text/plain": [
       "\u001b[1;7;31m ERROR \u001b[0m\u001b[1;31m No solutions for compound=C52141 (comp.reactions.ids=[36280])!\u001b[0m\n"
      ]
     },
     "metadata": {},
     "output_type": "display_data"
    },
    {
     "data": {
      "text/html": [
       "<pre style=\"white-space:pre;overflow-x:auto;line-height:normal;font-family:Menlo,'DejaVu Sans Mono',consolas,'Courier New',monospace;margin:0px\"><span style=\"background-color: #008000; font-weight: bold\"> Success </span><span style=\"color: #008000; text-decoration-color: #008000; font-weight: bold\"> Found solution for compound=C52142!</span>\n",
       "</pre>\n"
      ],
      "text/plain": [
       "\u001b[1;7;32m Success \u001b[0m\u001b[1;32m Found solution for compound=C52142!\u001b[0m\n"
      ]
     },
     "metadata": {},
     "output_type": "display_data"
    },
    {
     "data": {
      "text/html": [
       "<pre style=\"white-space:pre;overflow-x:auto;line-height:normal;font-family:Menlo,'DejaVu Sans Mono',consolas,'Courier New',monospace;margin:0px\"><span style=\"background-color: #008000; font-weight: bold\"> Success </span><span style=\"color: #008000; text-decoration-color: #008000; font-weight: bold\"> Found solution for compound=C52170!</span>\n",
       "</pre>\n"
      ],
      "text/plain": [
       "\u001b[1;7;32m Success \u001b[0m\u001b[1;32m Found solution for compound=C52170!\u001b[0m\n"
      ]
     },
     "metadata": {},
     "output_type": "display_data"
    },
    {
     "data": {
      "text/html": [
       "<pre style=\"white-space:pre;overflow-x:auto;line-height:normal;font-family:Menlo,'DejaVu Sans Mono',consolas,'Courier New',monospace;margin:0px\"><span style=\"background-color: #008000; font-weight: bold\"> Success </span><span style=\"color: #008000; text-decoration-color: #008000; font-weight: bold\"> Found solution for compound=C52171!</span>\n",
       "</pre>\n"
      ],
      "text/plain": [
       "\u001b[1;7;32m Success \u001b[0m\u001b[1;32m Found solution for compound=C52171!\u001b[0m\n"
      ]
     },
     "metadata": {},
     "output_type": "display_data"
    },
    {
     "data": {
      "text/html": [
       "<pre style=\"white-space:pre;overflow-x:auto;line-height:normal;font-family:Menlo,'DejaVu Sans Mono',consolas,'Courier New',monospace;margin:0px\"><span style=\"background-color: #008000; font-weight: bold\"> Success </span><span style=\"color: #008000; text-decoration-color: #008000; font-weight: bold\"> Found solution for compound=C52173!</span>\n",
       "</pre>\n"
      ],
      "text/plain": [
       "\u001b[1;7;32m Success \u001b[0m\u001b[1;32m Found solution for compound=C52173!\u001b[0m\n"
      ]
     },
     "metadata": {},
     "output_type": "display_data"
    },
    {
     "data": {
      "text/html": [
       "<pre style=\"white-space:pre;overflow-x:auto;line-height:normal;font-family:Menlo,'DejaVu Sans Mono',consolas,'Courier New',monospace;margin:0px\"><span style=\"background-color: #008000; font-weight: bold\"> Success </span><span style=\"color: #008000; text-decoration-color: #008000; font-weight: bold\"> Found solution for compound=C52179!</span>\n",
       "</pre>\n"
      ],
      "text/plain": [
       "\u001b[1;7;32m Success \u001b[0m\u001b[1;32m Found solution for compound=C52179!\u001b[0m\n"
      ]
     },
     "metadata": {},
     "output_type": "display_data"
    },
    {
     "data": {
      "text/html": [
       "<pre style=\"white-space:pre;overflow-x:auto;line-height:normal;font-family:Menlo,'DejaVu Sans Mono',consolas,'Courier New',monospace;margin:0px\"><span style=\"background-color: #008000; font-weight: bold\"> Success </span><span style=\"color: #008000; text-decoration-color: #008000; font-weight: bold\"> Found solution for compound=C52184!</span>\n",
       "</pre>\n"
      ],
      "text/plain": [
       "\u001b[1;7;32m Success \u001b[0m\u001b[1;32m Found solution for compound=C52184!\u001b[0m\n"
      ]
     },
     "metadata": {},
     "output_type": "display_data"
    },
    {
     "data": {
      "text/html": [
       "<pre style=\"white-space:pre;overflow-x:auto;line-height:normal;font-family:Menlo,'DejaVu Sans Mono',consolas,'Courier New',monospace;margin:0px\"><span style=\"background-color: #008000; font-weight: bold\"> Success </span><span style=\"color: #008000; text-decoration-color: #008000; font-weight: bold\"> Found solution for compound=C52191!</span>\n",
       "</pre>\n"
      ],
      "text/plain": [
       "\u001b[1;7;32m Success \u001b[0m\u001b[1;32m Found solution for compound=C52191!\u001b[0m\n"
      ]
     },
     "metadata": {},
     "output_type": "display_data"
    },
    {
     "data": {
      "text/html": [
       "<pre style=\"white-space:pre;overflow-x:auto;line-height:normal;font-family:Menlo,'DejaVu Sans Mono',consolas,'Courier New',monospace;margin:0px\"><span style=\"background-color: #008000; font-weight: bold\"> Success </span><span style=\"color: #008000; text-decoration-color: #008000; font-weight: bold\"> Found solution for compound=C52192!</span>\n",
       "</pre>\n"
      ],
      "text/plain": [
       "\u001b[1;7;32m Success \u001b[0m\u001b[1;32m Found solution for compound=C52192!\u001b[0m\n"
      ]
     },
     "metadata": {},
     "output_type": "display_data"
    },
    {
     "data": {
      "text/html": [
       "<pre style=\"white-space:pre;overflow-x:auto;line-height:normal;font-family:Menlo,'DejaVu Sans Mono',consolas,'Courier New',monospace;margin:0px\"><span style=\"background-color: #008000; font-weight: bold\"> Success </span><span style=\"color: #008000; text-decoration-color: #008000; font-weight: bold\"> Found solution for compound=C52204!</span>\n",
       "</pre>\n"
      ],
      "text/plain": [
       "\u001b[1;7;32m Success \u001b[0m\u001b[1;32m Found solution for compound=C52204!\u001b[0m\n"
      ]
     },
     "metadata": {},
     "output_type": "display_data"
    },
    {
     "data": {
      "text/html": [
       "<pre style=\"white-space:pre;overflow-x:auto;line-height:normal;font-family:Menlo,'DejaVu Sans Mono',consolas,'Courier New',monospace;margin:0px\"><span style=\"background-color: #008000; font-weight: bold\"> Success </span><span style=\"color: #008000; text-decoration-color: #008000; font-weight: bold\"> Found solution for compound=C52206!</span>\n",
       "</pre>\n"
      ],
      "text/plain": [
       "\u001b[1;7;32m Success \u001b[0m\u001b[1;32m Found solution for compound=C52206!\u001b[0m\n"
      ]
     },
     "metadata": {},
     "output_type": "display_data"
    },
    {
     "data": {
      "text/html": [
       "<pre style=\"white-space:pre;overflow-x:auto;line-height:normal;font-family:Menlo,'DejaVu Sans Mono',consolas,'Courier New',monospace;margin:0px\"><span style=\"background-color: #008000; font-weight: bold\"> Success </span><span style=\"color: #008000; text-decoration-color: #008000; font-weight: bold\"> Found solution for compound=C52327!</span>\n",
       "</pre>\n"
      ],
      "text/plain": [
       "\u001b[1;7;32m Success \u001b[0m\u001b[1;32m Found solution for compound=C52327!\u001b[0m\n"
      ]
     },
     "metadata": {},
     "output_type": "display_data"
    },
    {
     "data": {
      "text/html": [
       "<pre style=\"white-space:pre;overflow-x:auto;line-height:normal;font-family:Menlo,'DejaVu Sans Mono',consolas,'Courier New',monospace;margin:0px\"><span style=\"background-color: #008000; font-weight: bold\"> Success </span><span style=\"color: #008000; text-decoration-color: #008000; font-weight: bold\"> Found solution for compound=C52359!</span>\n",
       "</pre>\n"
      ],
      "text/plain": [
       "\u001b[1;7;32m Success \u001b[0m\u001b[1;32m Found solution for compound=C52359!\u001b[0m\n"
      ]
     },
     "metadata": {},
     "output_type": "display_data"
    },
    {
     "data": {
      "text/html": [
       "<pre style=\"white-space:pre;overflow-x:auto;line-height:normal;font-family:Menlo,'DejaVu Sans Mono',consolas,'Courier New',monospace;margin:0px\"><span style=\"background-color: #008000; font-weight: bold\"> Success </span><span style=\"color: #008000; text-decoration-color: #008000; font-weight: bold\"> Found solution for compound=C52376!</span>\n",
       "</pre>\n"
      ],
      "text/plain": [
       "\u001b[1;7;32m Success \u001b[0m\u001b[1;32m Found solution for compound=C52376!\u001b[0m\n"
      ]
     },
     "metadata": {},
     "output_type": "display_data"
    },
    {
     "data": {
      "text/html": [
       "<pre style=\"white-space:pre;overflow-x:auto;line-height:normal;font-family:Menlo,'DejaVu Sans Mono',consolas,'Courier New',monospace;margin:0px\"><span style=\"background-color: #008000; font-weight: bold\"> Success </span><span style=\"color: #008000; text-decoration-color: #008000; font-weight: bold\"> Found solution for compound=C52382!</span>\n",
       "</pre>\n"
      ],
      "text/plain": [
       "\u001b[1;7;32m Success \u001b[0m\u001b[1;32m Found solution for compound=C52382!\u001b[0m\n"
      ]
     },
     "metadata": {},
     "output_type": "display_data"
    },
    {
     "data": {
      "text/html": [
       "<pre style=\"white-space:pre;overflow-x:auto;line-height:normal;font-family:Menlo,'DejaVu Sans Mono',consolas,'Courier New',monospace;margin:0px\"><span style=\"background-color: #008000; font-weight: bold\"> Success </span><span style=\"color: #008000; text-decoration-color: #008000; font-weight: bold\"> Found solution for compound=C52399!</span>\n",
       "</pre>\n"
      ],
      "text/plain": [
       "\u001b[1;7;32m Success \u001b[0m\u001b[1;32m Found solution for compound=C52399!\u001b[0m\n"
      ]
     },
     "metadata": {},
     "output_type": "display_data"
    },
    {
     "data": {
      "text/html": [
       "<pre style=\"white-space:pre;overflow-x:auto;line-height:normal;font-family:Menlo,'DejaVu Sans Mono',consolas,'Courier New',monospace;margin:0px\"><span style=\"background-color: #008000; font-weight: bold\"> Success </span><span style=\"color: #008000; text-decoration-color: #008000; font-weight: bold\"> Found solution for compound=C52406!</span>\n",
       "</pre>\n"
      ],
      "text/plain": [
       "\u001b[1;7;32m Success \u001b[0m\u001b[1;32m Found solution for compound=C52406!\u001b[0m\n"
      ]
     },
     "metadata": {},
     "output_type": "display_data"
    },
    {
     "data": {
      "text/html": [
       "<pre style=\"white-space:pre;overflow-x:auto;line-height:normal;font-family:Menlo,'DejaVu Sans Mono',consolas,'Courier New',monospace;margin:0px\"><span style=\"background-color: #008000; font-weight: bold\"> Success </span><span style=\"color: #008000; text-decoration-color: #008000; font-weight: bold\"> Found solution for compound=C52410!</span>\n",
       "</pre>\n"
      ],
      "text/plain": [
       "\u001b[1;7;32m Success \u001b[0m\u001b[1;32m Found solution for compound=C52410!\u001b[0m\n"
      ]
     },
     "metadata": {},
     "output_type": "display_data"
    },
    {
     "data": {
      "text/html": [
       "<pre style=\"white-space:pre;overflow-x:auto;line-height:normal;font-family:Menlo,'DejaVu Sans Mono',consolas,'Courier New',monospace;margin:0px\"><span style=\"background-color: #008000; font-weight: bold\"> Success </span><span style=\"color: #008000; text-decoration-color: #008000; font-weight: bold\"> Found solution for compound=C52412!</span>\n",
       "</pre>\n"
      ],
      "text/plain": [
       "\u001b[1;7;32m Success \u001b[0m\u001b[1;32m Found solution for compound=C52412!\u001b[0m\n"
      ]
     },
     "metadata": {},
     "output_type": "display_data"
    },
    {
     "data": {
      "text/html": [
       "<pre style=\"white-space:pre;overflow-x:auto;line-height:normal;font-family:Menlo,'DejaVu Sans Mono',consolas,'Courier New',monospace;margin:0px\"><span style=\"background-color: #008000; font-weight: bold\"> Success </span><span style=\"color: #008000; text-decoration-color: #008000; font-weight: bold\"> Found solution for compound=C52416!</span>\n",
       "</pre>\n"
      ],
      "text/plain": [
       "\u001b[1;7;32m Success \u001b[0m\u001b[1;32m Found solution for compound=C52416!\u001b[0m\n"
      ]
     },
     "metadata": {},
     "output_type": "display_data"
    },
    {
     "data": {
      "text/html": [
       "<pre style=\"white-space:pre;overflow-x:auto;line-height:normal;font-family:Menlo,'DejaVu Sans Mono',consolas,'Courier New',monospace;margin:0px\"><span style=\"background-color: #008000; font-weight: bold\"> Success </span><span style=\"color: #008000; text-decoration-color: #008000; font-weight: bold\"> Found solution for compound=C52763!</span>\n",
       "</pre>\n"
      ],
      "text/plain": [
       "\u001b[1;7;32m Success \u001b[0m\u001b[1;32m Found solution for compound=C52763!\u001b[0m\n"
      ]
     },
     "metadata": {},
     "output_type": "display_data"
    },
    {
     "data": {
      "text/html": [
       "<pre style=\"white-space:pre;overflow-x:auto;line-height:normal;font-family:Menlo,'DejaVu Sans Mono',consolas,'Courier New',monospace;margin:0px\"><span style=\"background-color: #008000; font-weight: bold\"> Success </span><span style=\"color: #008000; text-decoration-color: #008000; font-weight: bold\"> Found solution for compound=C52764!</span>\n",
       "</pre>\n"
      ],
      "text/plain": [
       "\u001b[1;7;32m Success \u001b[0m\u001b[1;32m Found solution for compound=C52764!\u001b[0m\n"
      ]
     },
     "metadata": {},
     "output_type": "display_data"
    },
    {
     "data": {
      "text/html": [
       "<pre style=\"white-space:pre;overflow-x:auto;line-height:normal;font-family:Menlo,'DejaVu Sans Mono',consolas,'Courier New',monospace;margin:0px\"><span style=\"background-color: #008000; font-weight: bold\"> Success </span><span style=\"color: #008000; text-decoration-color: #008000; font-weight: bold\"> Found solution for compound=C52765!</span>\n",
       "</pre>\n"
      ],
      "text/plain": [
       "\u001b[1;7;32m Success \u001b[0m\u001b[1;32m Found solution for compound=C52765!\u001b[0m\n"
      ]
     },
     "metadata": {},
     "output_type": "display_data"
    },
    {
     "data": {
      "text/html": [
       "<pre style=\"white-space:pre;overflow-x:auto;line-height:normal;font-family:Menlo,'DejaVu Sans Mono',consolas,'Courier New',monospace;margin:0px\"><span style=\"background-color: #008000; font-weight: bold\"> Success </span><span style=\"color: #008000; text-decoration-color: #008000; font-weight: bold\"> Found solution for compound=C52769!</span>\n",
       "</pre>\n"
      ],
      "text/plain": [
       "\u001b[1;7;32m Success \u001b[0m\u001b[1;32m Found solution for compound=C52769!\u001b[0m\n"
      ]
     },
     "metadata": {},
     "output_type": "display_data"
    },
    {
     "data": {
      "text/html": [
       "<pre style=\"white-space:pre;overflow-x:auto;line-height:normal;font-family:Menlo,'DejaVu Sans Mono',consolas,'Courier New',monospace;margin:0px\"><span style=\"background-color: #008000; font-weight: bold\"> Success </span><span style=\"color: #008000; text-decoration-color: #008000; font-weight: bold\"> Found solution for compound=C52771!</span>\n",
       "</pre>\n"
      ],
      "text/plain": [
       "\u001b[1;7;32m Success \u001b[0m\u001b[1;32m Found solution for compound=C52771!\u001b[0m\n"
      ]
     },
     "metadata": {},
     "output_type": "display_data"
    },
    {
     "data": {
      "text/html": [
       "<pre style=\"white-space:pre;overflow-x:auto;line-height:normal;font-family:Menlo,'DejaVu Sans Mono',consolas,'Courier New',monospace;margin:0px\"><span style=\"background-color: #008000; font-weight: bold\"> Success </span><span style=\"color: #008000; text-decoration-color: #008000; font-weight: bold\"> Found solution for compound=C52776!</span>\n",
       "</pre>\n"
      ],
      "text/plain": [
       "\u001b[1;7;32m Success \u001b[0m\u001b[1;32m Found solution for compound=C52776!\u001b[0m\n"
      ]
     },
     "metadata": {},
     "output_type": "display_data"
    },
    {
     "data": {
      "text/html": [
       "<pre style=\"white-space:pre;overflow-x:auto;line-height:normal;font-family:Menlo,'DejaVu Sans Mono',consolas,'Courier New',monospace;margin:0px\"><span style=\"background-color: #800000; font-weight: bold\"> ERROR </span><span style=\"color: #800000; text-decoration-color: #800000; font-weight: bold\"> Reactants not available for reaction=\u001b[1m\u001b[4mR36920: C51607 + C51965 -&gt; C52781 via </span>\n",
       "<span style=\"color: #800000; text-decoration-color: #800000; font-weight: bold\">Epoxide_+_amine_coupling\u001b[22m\u001b[24m!</span>\n",
       "</pre>\n"
      ],
      "text/plain": [
       "\u001b[1;7;31m ERROR \u001b[0m\u001b[1;31m Reactants not available for reaction=\u001b[1m\u001b[4mR36920: C51607 + C51965 -> C52781 via \u001b[0m\n",
       "\u001b[1;31mEpoxide_+_amine_coupling\u001b[22m\u001b[24m!\u001b[0m\n"
      ]
     },
     "metadata": {},
     "output_type": "display_data"
    },
    {
     "data": {
      "text/html": [
       "<pre style=\"white-space:pre;overflow-x:auto;line-height:normal;font-family:Menlo,'DejaVu Sans Mono',consolas,'Courier New',monospace;margin:0px\"><span style=\"background-color: #800000; font-weight: bold\"> ERROR </span><span style=\"color: #800000; text-decoration-color: #800000; font-weight: bold\"> No solutions for compound=C52781 (comp.reactions.ids=[36920])!</span>\n",
       "</pre>\n"
      ],
      "text/plain": [
       "\u001b[1;7;31m ERROR \u001b[0m\u001b[1;31m No solutions for compound=C52781 (comp.reactions.ids=[36920])!\u001b[0m\n"
      ]
     },
     "metadata": {},
     "output_type": "display_data"
    },
    {
     "data": {
      "text/html": [
       "<pre style=\"white-space:pre;overflow-x:auto;line-height:normal;font-family:Menlo,'DejaVu Sans Mono',consolas,'Courier New',monospace;margin:0px\"><span style=\"background-color: #008000; font-weight: bold\"> Success </span><span style=\"color: #008000; text-decoration-color: #008000; font-weight: bold\"> Found solution for compound=C52785!</span>\n",
       "</pre>\n"
      ],
      "text/plain": [
       "\u001b[1;7;32m Success \u001b[0m\u001b[1;32m Found solution for compound=C52785!\u001b[0m\n"
      ]
     },
     "metadata": {},
     "output_type": "display_data"
    },
    {
     "data": {
      "text/html": [
       "<pre style=\"white-space:pre;overflow-x:auto;line-height:normal;font-family:Menlo,'DejaVu Sans Mono',consolas,'Courier New',monospace;margin:0px\"><span style=\"background-color: #008000; font-weight: bold\"> Success </span><span style=\"color: #008000; text-decoration-color: #008000; font-weight: bold\"> Found solution for compound=C52787!</span>\n",
       "</pre>\n"
      ],
      "text/plain": [
       "\u001b[1;7;32m Success \u001b[0m\u001b[1;32m Found solution for compound=C52787!\u001b[0m\n"
      ]
     },
     "metadata": {},
     "output_type": "display_data"
    },
    {
     "data": {
      "text/html": [
       "<pre style=\"white-space:pre;overflow-x:auto;line-height:normal;font-family:Menlo,'DejaVu Sans Mono',consolas,'Courier New',monospace;margin:0px\"><span style=\"background-color: #008000; font-weight: bold\"> Success </span><span style=\"color: #008000; text-decoration-color: #008000; font-weight: bold\"> Found solution for compound=C52795!</span>\n",
       "</pre>\n"
      ],
      "text/plain": [
       "\u001b[1;7;32m Success \u001b[0m\u001b[1;32m Found solution for compound=C52795!\u001b[0m\n"
      ]
     },
     "metadata": {},
     "output_type": "display_data"
    },
    {
     "data": {
      "text/html": [
       "<pre style=\"white-space:pre;overflow-x:auto;line-height:normal;font-family:Menlo,'DejaVu Sans Mono',consolas,'Courier New',monospace;margin:0px\"><span style=\"background-color: #008000; font-weight: bold\"> Success </span><span style=\"color: #008000; text-decoration-color: #008000; font-weight: bold\"> Found solution for compound=C52800!</span>\n",
       "</pre>\n"
      ],
      "text/plain": [
       "\u001b[1;7;32m Success \u001b[0m\u001b[1;32m Found solution for compound=C52800!\u001b[0m\n"
      ]
     },
     "metadata": {},
     "output_type": "display_data"
    },
    {
     "data": {
      "text/html": [
       "<pre style=\"white-space:pre;overflow-x:auto;line-height:normal;font-family:Menlo,'DejaVu Sans Mono',consolas,'Courier New',monospace;margin:0px\"><span style=\"background-color: #008000; font-weight: bold\"> Success </span><span style=\"color: #008000; text-decoration-color: #008000; font-weight: bold\"> Found solution for compound=C52806!</span>\n",
       "</pre>\n"
      ],
      "text/plain": [
       "\u001b[1;7;32m Success \u001b[0m\u001b[1;32m Found solution for compound=C52806!\u001b[0m\n"
      ]
     },
     "metadata": {},
     "output_type": "display_data"
    },
    {
     "data": {
      "text/html": [
       "<pre style=\"white-space:pre;overflow-x:auto;line-height:normal;font-family:Menlo,'DejaVu Sans Mono',consolas,'Courier New',monospace;margin:0px\"><span style=\"background-color: #008000; font-weight: bold\"> Success </span><span style=\"color: #008000; text-decoration-color: #008000; font-weight: bold\"> Found solution for compound=C52809!</span>\n",
       "</pre>\n"
      ],
      "text/plain": [
       "\u001b[1;7;32m Success \u001b[0m\u001b[1;32m Found solution for compound=C52809!\u001b[0m\n"
      ]
     },
     "metadata": {},
     "output_type": "display_data"
    },
    {
     "data": {
      "text/html": [
       "<pre style=\"white-space:pre;overflow-x:auto;line-height:normal;font-family:Menlo,'DejaVu Sans Mono',consolas,'Courier New',monospace;margin:0px\"><span style=\"background-color: #008000; font-weight: bold\"> Success </span><span style=\"color: #008000; text-decoration-color: #008000; font-weight: bold\"> Found solution for compound=C52810!</span>\n",
       "</pre>\n"
      ],
      "text/plain": [
       "\u001b[1;7;32m Success \u001b[0m\u001b[1;32m Found solution for compound=C52810!\u001b[0m\n"
      ]
     },
     "metadata": {},
     "output_type": "display_data"
    },
    {
     "data": {
      "text/html": [
       "<pre style=\"white-space:pre;overflow-x:auto;line-height:normal;font-family:Menlo,'DejaVu Sans Mono',consolas,'Courier New',monospace;margin:0px\"><span style=\"background-color: #008000; font-weight: bold\"> Success </span><span style=\"color: #008000; text-decoration-color: #008000; font-weight: bold\"> Found solution for compound=C52813!</span>\n",
       "</pre>\n"
      ],
      "text/plain": [
       "\u001b[1;7;32m Success \u001b[0m\u001b[1;32m Found solution for compound=C52813!\u001b[0m\n"
      ]
     },
     "metadata": {},
     "output_type": "display_data"
    },
    {
     "data": {
      "text/html": [
       "<pre style=\"white-space:pre;overflow-x:auto;line-height:normal;font-family:Menlo,'DejaVu Sans Mono',consolas,'Courier New',monospace;margin:0px\"><span style=\"background-color: #008000; font-weight: bold\"> Success </span><span style=\"color: #008000; text-decoration-color: #008000; font-weight: bold\"> Found solution for compound=C52814!</span>\n",
       "</pre>\n"
      ],
      "text/plain": [
       "\u001b[1;7;32m Success \u001b[0m\u001b[1;32m Found solution for compound=C52814!\u001b[0m\n"
      ]
     },
     "metadata": {},
     "output_type": "display_data"
    },
    {
     "data": {
      "text/html": [
       "<pre style=\"white-space:pre;overflow-x:auto;line-height:normal;font-family:Menlo,'DejaVu Sans Mono',consolas,'Courier New',monospace;margin:0px\"><span style=\"background-color: #008000; font-weight: bold\"> Success </span><span style=\"color: #008000; text-decoration-color: #008000; font-weight: bold\"> Found solution for compound=C52816!</span>\n",
       "</pre>\n"
      ],
      "text/plain": [
       "\u001b[1;7;32m Success \u001b[0m\u001b[1;32m Found solution for compound=C52816!\u001b[0m\n"
      ]
     },
     "metadata": {},
     "output_type": "display_data"
    },
    {
     "data": {
      "text/html": [
       "<pre style=\"white-space:pre;overflow-x:auto;line-height:normal;font-family:Menlo,'DejaVu Sans Mono',consolas,'Courier New',monospace;margin:0px\"><span style=\"background-color: #008000; font-weight: bold\"> Success </span><span style=\"color: #008000; text-decoration-color: #008000; font-weight: bold\"> Found solution for compound=C52819!</span>\n",
       "</pre>\n"
      ],
      "text/plain": [
       "\u001b[1;7;32m Success \u001b[0m\u001b[1;32m Found solution for compound=C52819!\u001b[0m\n"
      ]
     },
     "metadata": {},
     "output_type": "display_data"
    },
    {
     "data": {
      "text/html": [
       "<pre style=\"white-space:pre;overflow-x:auto;line-height:normal;font-family:Menlo,'DejaVu Sans Mono',consolas,'Courier New',monospace;margin:0px\"><span style=\"background-color: #008000; font-weight: bold\"> Success </span><span style=\"color: #008000; text-decoration-color: #008000; font-weight: bold\"> Found solution for compound=C53172!</span>\n",
       "</pre>\n"
      ],
      "text/plain": [
       "\u001b[1;7;32m Success \u001b[0m\u001b[1;32m Found solution for compound=C53172!\u001b[0m\n"
      ]
     },
     "metadata": {},
     "output_type": "display_data"
    },
    {
     "data": {
      "text/html": [
       "<pre style=\"white-space:pre;overflow-x:auto;line-height:normal;font-family:Menlo,'DejaVu Sans Mono',consolas,'Courier New',monospace;margin:0px\"><span style=\"background-color: #008000; font-weight: bold\"> Success </span><span style=\"color: #008000; text-decoration-color: #008000; font-weight: bold\"> Found solution for compound=C53182!</span>\n",
       "</pre>\n"
      ],
      "text/plain": [
       "\u001b[1;7;32m Success \u001b[0m\u001b[1;32m Found solution for compound=C53182!\u001b[0m\n"
      ]
     },
     "metadata": {},
     "output_type": "display_data"
    },
    {
     "data": {
      "text/html": [
       "<pre style=\"white-space:pre;overflow-x:auto;line-height:normal;font-family:Menlo,'DejaVu Sans Mono',consolas,'Courier New',monospace;margin:0px\"><span style=\"background-color: #008000; font-weight: bold\"> Success </span><span style=\"color: #008000; text-decoration-color: #008000; font-weight: bold\"> Found solution for compound=C53185!</span>\n",
       "</pre>\n"
      ],
      "text/plain": [
       "\u001b[1;7;32m Success \u001b[0m\u001b[1;32m Found solution for compound=C53185!\u001b[0m\n"
      ]
     },
     "metadata": {},
     "output_type": "display_data"
    },
    {
     "data": {
      "text/html": [
       "<pre style=\"white-space:pre;overflow-x:auto;line-height:normal;font-family:Menlo,'DejaVu Sans Mono',consolas,'Courier New',monospace;margin:0px\"><span style=\"background-color: #008000; font-weight: bold\"> Success </span><span style=\"color: #008000; text-decoration-color: #008000; font-weight: bold\"> Found solution for compound=C53188!</span>\n",
       "</pre>\n"
      ],
      "text/plain": [
       "\u001b[1;7;32m Success \u001b[0m\u001b[1;32m Found solution for compound=C53188!\u001b[0m\n"
      ]
     },
     "metadata": {},
     "output_type": "display_data"
    },
    {
     "data": {
      "text/html": [
       "<pre style=\"white-space:pre;overflow-x:auto;line-height:normal;font-family:Menlo,'DejaVu Sans Mono',consolas,'Courier New',monospace;margin:0px\"><span style=\"background-color: #008000; font-weight: bold\"> Success </span><span style=\"color: #008000; text-decoration-color: #008000; font-weight: bold\"> Found solution for compound=C53194!</span>\n",
       "</pre>\n"
      ],
      "text/plain": [
       "\u001b[1;7;32m Success \u001b[0m\u001b[1;32m Found solution for compound=C53194!\u001b[0m\n"
      ]
     },
     "metadata": {},
     "output_type": "display_data"
    },
    {
     "data": {
      "text/html": [
       "<pre style=\"white-space:pre;overflow-x:auto;line-height:normal;font-family:Menlo,'DejaVu Sans Mono',consolas,'Courier New',monospace;margin:0px\"><span style=\"background-color: #008000; font-weight: bold\"> Success </span><span style=\"color: #008000; text-decoration-color: #008000; font-weight: bold\"> Found solution for compound=C53197!</span>\n",
       "</pre>\n"
      ],
      "text/plain": [
       "\u001b[1;7;32m Success \u001b[0m\u001b[1;32m Found solution for compound=C53197!\u001b[0m\n"
      ]
     },
     "metadata": {},
     "output_type": "display_data"
    },
    {
     "data": {
      "text/html": [
       "<pre style=\"white-space:pre;overflow-x:auto;line-height:normal;font-family:Menlo,'DejaVu Sans Mono',consolas,'Courier New',monospace;margin:0px\"><span style=\"background-color: #800000; font-weight: bold\"> ERROR </span><span style=\"color: #800000; text-decoration-color: #800000; font-weight: bold\"> Reactants not available for reaction=\u001b[1m\u001b[4mR37342: C51607 + C52073 -&gt; C53203 via </span>\n",
       "<span style=\"color: #800000; text-decoration-color: #800000; font-weight: bold\">Epoxide_+_amine_coupling\u001b[22m\u001b[24m!</span>\n",
       "</pre>\n"
      ],
      "text/plain": [
       "\u001b[1;7;31m ERROR \u001b[0m\u001b[1;31m Reactants not available for reaction=\u001b[1m\u001b[4mR37342: C51607 + C52073 -> C53203 via \u001b[0m\n",
       "\u001b[1;31mEpoxide_+_amine_coupling\u001b[22m\u001b[24m!\u001b[0m\n"
      ]
     },
     "metadata": {},
     "output_type": "display_data"
    },
    {
     "data": {
      "text/html": [
       "<pre style=\"white-space:pre;overflow-x:auto;line-height:normal;font-family:Menlo,'DejaVu Sans Mono',consolas,'Courier New',monospace;margin:0px\"><span style=\"background-color: #800000; font-weight: bold\"> ERROR </span><span style=\"color: #800000; text-decoration-color: #800000; font-weight: bold\"> No solutions for compound=C53203 (comp.reactions.ids=[37342])!</span>\n",
       "</pre>\n"
      ],
      "text/plain": [
       "\u001b[1;7;31m ERROR \u001b[0m\u001b[1;31m No solutions for compound=C53203 (comp.reactions.ids=[37342])!\u001b[0m\n"
      ]
     },
     "metadata": {},
     "output_type": "display_data"
    },
    {
     "data": {
      "text/html": [
       "<pre style=\"white-space:pre;overflow-x:auto;line-height:normal;font-family:Menlo,'DejaVu Sans Mono',consolas,'Courier New',monospace;margin:0px\"><span style=\"background-color: #008000; font-weight: bold\"> Success </span><span style=\"color: #008000; text-decoration-color: #008000; font-weight: bold\"> Found solution for compound=C53234!</span>\n",
       "</pre>\n"
      ],
      "text/plain": [
       "\u001b[1;7;32m Success \u001b[0m\u001b[1;32m Found solution for compound=C53234!\u001b[0m\n"
      ]
     },
     "metadata": {},
     "output_type": "display_data"
    },
    {
     "data": {
      "text/html": [
       "<pre style=\"white-space:pre;overflow-x:auto;line-height:normal;font-family:Menlo,'DejaVu Sans Mono',consolas,'Courier New',monospace;margin:0px\"><span style=\"background-color: #008000; font-weight: bold\"> Success </span><span style=\"color: #008000; text-decoration-color: #008000; font-weight: bold\"> Found solution for compound=C53235!</span>\n",
       "</pre>\n"
      ],
      "text/plain": [
       "\u001b[1;7;32m Success \u001b[0m\u001b[1;32m Found solution for compound=C53235!\u001b[0m\n"
      ]
     },
     "metadata": {},
     "output_type": "display_data"
    },
    {
     "data": {
      "text/html": [
       "<pre style=\"white-space:pre;overflow-x:auto;line-height:normal;font-family:Menlo,'DejaVu Sans Mono',consolas,'Courier New',monospace;margin:0px\"><span style=\"background-color: #008000; font-weight: bold\"> Success </span><span style=\"color: #008000; text-decoration-color: #008000; font-weight: bold\"> Found solution for compound=C53238!</span>\n",
       "</pre>\n"
      ],
      "text/plain": [
       "\u001b[1;7;32m Success \u001b[0m\u001b[1;32m Found solution for compound=C53238!\u001b[0m\n"
      ]
     },
     "metadata": {},
     "output_type": "display_data"
    },
    {
     "data": {
      "text/html": [
       "<pre style=\"white-space:pre;overflow-x:auto;line-height:normal;font-family:Menlo,'DejaVu Sans Mono',consolas,'Courier New',monospace;margin:0px\"><span style=\"background-color: #008000; font-weight: bold\"> Success </span><span style=\"color: #008000; text-decoration-color: #008000; font-weight: bold\"> Found solution for compound=C53240!</span>\n",
       "</pre>\n"
      ],
      "text/plain": [
       "\u001b[1;7;32m Success \u001b[0m\u001b[1;32m Found solution for compound=C53240!\u001b[0m\n"
      ]
     },
     "metadata": {},
     "output_type": "display_data"
    },
    {
     "data": {
      "text/html": [
       "<pre style=\"white-space:pre;overflow-x:auto;line-height:normal;font-family:Menlo,'DejaVu Sans Mono',consolas,'Courier New',monospace;margin:0px\"><span style=\"background-color: #008000; font-weight: bold\"> Success </span><span style=\"color: #008000; text-decoration-color: #008000; font-weight: bold\"> Found solution for compound=C53242!</span>\n",
       "</pre>\n"
      ],
      "text/plain": [
       "\u001b[1;7;32m Success \u001b[0m\u001b[1;32m Found solution for compound=C53242!\u001b[0m\n"
      ]
     },
     "metadata": {},
     "output_type": "display_data"
    },
    {
     "data": {
      "text/html": [
       "<pre style=\"white-space:pre;overflow-x:auto;line-height:normal;font-family:Menlo,'DejaVu Sans Mono',consolas,'Courier New',monospace;margin:0px\"><span style=\"background-color: #008000; font-weight: bold\"> Success </span><span style=\"color: #008000; text-decoration-color: #008000; font-weight: bold\"> Found solution for compound=C53252!</span>\n",
       "</pre>\n"
      ],
      "text/plain": [
       "\u001b[1;7;32m Success \u001b[0m\u001b[1;32m Found solution for compound=C53252!\u001b[0m\n"
      ]
     },
     "metadata": {},
     "output_type": "display_data"
    },
    {
     "data": {
      "text/html": [
       "<pre style=\"white-space:pre;overflow-x:auto;line-height:normal;font-family:Menlo,'DejaVu Sans Mono',consolas,'Courier New',monospace;margin:0px\"><span style=\"background-color: #008000; font-weight: bold\"> Success </span><span style=\"color: #008000; text-decoration-color: #008000; font-weight: bold\"> Found solution for compound=C53271!</span>\n",
       "</pre>\n"
      ],
      "text/plain": [
       "\u001b[1;7;32m Success \u001b[0m\u001b[1;32m Found solution for compound=C53271!\u001b[0m\n"
      ]
     },
     "metadata": {},
     "output_type": "display_data"
    },
    {
     "data": {
      "text/html": [
       "<pre style=\"white-space:pre;overflow-x:auto;line-height:normal;font-family:Menlo,'DejaVu Sans Mono',consolas,'Courier New',monospace;margin:0px\"><span style=\"background-color: #008000; font-weight: bold\"> Success </span><span style=\"color: #008000; text-decoration-color: #008000; font-weight: bold\"> Found solution for compound=C53881!</span>\n",
       "</pre>\n"
      ],
      "text/plain": [
       "\u001b[1;7;32m Success \u001b[0m\u001b[1;32m Found solution for compound=C53881!\u001b[0m\n"
      ]
     },
     "metadata": {},
     "output_type": "display_data"
    },
    {
     "data": {
      "text/html": [
       "<pre style=\"white-space:pre;overflow-x:auto;line-height:normal;font-family:Menlo,'DejaVu Sans Mono',consolas,'Courier New',monospace;margin:0px\"><span style=\"background-color: #008000; font-weight: bold\"> Success </span><span style=\"color: #008000; text-decoration-color: #008000; font-weight: bold\"> Found solution for compound=C54184!</span>\n",
       "</pre>\n"
      ],
      "text/plain": [
       "\u001b[1;7;32m Success \u001b[0m\u001b[1;32m Found solution for compound=C54184!\u001b[0m\n"
      ]
     },
     "metadata": {},
     "output_type": "display_data"
    },
    {
     "data": {
      "text/html": [
       "<pre style=\"white-space:pre;overflow-x:auto;line-height:normal;font-family:Menlo,'DejaVu Sans Mono',consolas,'Courier New',monospace;margin:0px\"><span style=\"background-color: #008000; font-weight: bold\"> Success </span><span style=\"color: #008000; text-decoration-color: #008000; font-weight: bold\"> Found solution for compound=C54188!</span>\n",
       "</pre>\n"
      ],
      "text/plain": [
       "\u001b[1;7;32m Success \u001b[0m\u001b[1;32m Found solution for compound=C54188!\u001b[0m\n"
      ]
     },
     "metadata": {},
     "output_type": "display_data"
    },
    {
     "data": {
      "text/html": [
       "<pre style=\"white-space:pre;overflow-x:auto;line-height:normal;font-family:Menlo,'DejaVu Sans Mono',consolas,'Courier New',monospace;margin:0px\"><span style=\"background-color: #008000; font-weight: bold\"> Success </span><span style=\"color: #008000; text-decoration-color: #008000; font-weight: bold\"> Found solution for compound=C54191!</span>\n",
       "</pre>\n"
      ],
      "text/plain": [
       "\u001b[1;7;32m Success \u001b[0m\u001b[1;32m Found solution for compound=C54191!\u001b[0m\n"
      ]
     },
     "metadata": {},
     "output_type": "display_data"
    },
    {
     "data": {
      "text/html": [
       "<pre style=\"white-space:pre;overflow-x:auto;line-height:normal;font-family:Menlo,'DejaVu Sans Mono',consolas,'Courier New',monospace;margin:0px\"><span style=\"background-color: #800000; font-weight: bold\"> ERROR </span><span style=\"color: #800000; text-decoration-color: #800000; font-weight: bold\"> Reactants not available for reaction=\u001b[1m\u001b[4mR38735: C7328 + C53805 -&gt; C54773 via </span>\n",
       "<span style=\"color: #800000; text-decoration-color: #800000; font-weight: bold\">Steglich_esterification\u001b[22m\u001b[24m!</span>\n",
       "</pre>\n"
      ],
      "text/plain": [
       "\u001b[1;7;31m ERROR \u001b[0m\u001b[1;31m Reactants not available for reaction=\u001b[1m\u001b[4mR38735: C7328 + C53805 -> C54773 via \u001b[0m\n",
       "\u001b[1;31mSteglich_esterification\u001b[22m\u001b[24m!\u001b[0m\n"
      ]
     },
     "metadata": {},
     "output_type": "display_data"
    },
    {
     "data": {
      "text/html": [
       "<pre style=\"white-space:pre;overflow-x:auto;line-height:normal;font-family:Menlo,'DejaVu Sans Mono',consolas,'Courier New',monospace;margin:0px\"><span style=\"background-color: #800000; font-weight: bold\"> ERROR </span><span style=\"color: #800000; text-decoration-color: #800000; font-weight: bold\"> No solutions for compound=C54773 (comp.reactions.ids=[38735])!</span>\n",
       "</pre>\n"
      ],
      "text/plain": [
       "\u001b[1;7;31m ERROR \u001b[0m\u001b[1;31m No solutions for compound=C54773 (comp.reactions.ids=[38735])!\u001b[0m\n"
      ]
     },
     "metadata": {},
     "output_type": "display_data"
    },
    {
     "data": {
      "text/html": [
       "<pre style=\"white-space:pre;overflow-x:auto;line-height:normal;font-family:Menlo,'DejaVu Sans Mono',consolas,'Courier New',monospace;margin:0px\"><span style=\"background-color: #800000; font-weight: bold\"> ERROR </span><span style=\"color: #800000; text-decoration-color: #800000; font-weight: bold\"> Reactants not available for reaction=\u001b[1m\u001b[4mR38736: C7328 + C53806 -&gt; C54774 via </span>\n",
       "<span style=\"color: #800000; text-decoration-color: #800000; font-weight: bold\">Steglich_esterification\u001b[22m\u001b[24m!</span>\n",
       "</pre>\n"
      ],
      "text/plain": [
       "\u001b[1;7;31m ERROR \u001b[0m\u001b[1;31m Reactants not available for reaction=\u001b[1m\u001b[4mR38736: C7328 + C53806 -> C54774 via \u001b[0m\n",
       "\u001b[1;31mSteglich_esterification\u001b[22m\u001b[24m!\u001b[0m\n"
      ]
     },
     "metadata": {},
     "output_type": "display_data"
    },
    {
     "data": {
      "text/html": [
       "<pre style=\"white-space:pre;overflow-x:auto;line-height:normal;font-family:Menlo,'DejaVu Sans Mono',consolas,'Courier New',monospace;margin:0px\"><span style=\"background-color: #800000; font-weight: bold\"> ERROR </span><span style=\"color: #800000; text-decoration-color: #800000; font-weight: bold\"> No solutions for compound=C54774 (comp.reactions.ids=[38736])!</span>\n",
       "</pre>\n"
      ],
      "text/plain": [
       "\u001b[1;7;31m ERROR \u001b[0m\u001b[1;31m No solutions for compound=C54774 (comp.reactions.ids=[38736])!\u001b[0m\n"
      ]
     },
     "metadata": {},
     "output_type": "display_data"
    },
    {
     "data": {
      "text/html": [
       "<pre style=\"white-space:pre;overflow-x:auto;line-height:normal;font-family:Menlo,'DejaVu Sans Mono',consolas,'Courier New',monospace;margin:0px\"><span style=\"background-color: #008000; font-weight: bold\"> Success </span><span style=\"color: #008000; text-decoration-color: #008000; font-weight: bold\"> Found solution for compound=C54894!</span>\n",
       "</pre>\n"
      ],
      "text/plain": [
       "\u001b[1;7;32m Success \u001b[0m\u001b[1;32m Found solution for compound=C54894!\u001b[0m\n"
      ]
     },
     "metadata": {},
     "output_type": "display_data"
    },
    {
     "data": {
      "text/html": [
       "<pre style=\"white-space:pre;overflow-x:auto;line-height:normal;font-family:Menlo,'DejaVu Sans Mono',consolas,'Courier New',monospace;margin:0px\"><span style=\"background-color: #008000; font-weight: bold\"> Success </span><span style=\"color: #008000; text-decoration-color: #008000; font-weight: bold\"> Found solution for compound=C54909!</span>\n",
       "</pre>\n"
      ],
      "text/plain": [
       "\u001b[1;7;32m Success \u001b[0m\u001b[1;32m Found solution for compound=C54909!\u001b[0m\n"
      ]
     },
     "metadata": {},
     "output_type": "display_data"
    },
    {
     "data": {
      "text/html": [
       "<pre style=\"white-space:pre;overflow-x:auto;line-height:normal;font-family:Menlo,'DejaVu Sans Mono',consolas,'Courier New',monospace;margin:0px\"><span style=\"background-color: #008000; font-weight: bold\"> Success </span><span style=\"color: #008000; text-decoration-color: #008000; font-weight: bold\"> Found solution for compound=C54910!</span>\n",
       "</pre>\n"
      ],
      "text/plain": [
       "\u001b[1;7;32m Success \u001b[0m\u001b[1;32m Found solution for compound=C54910!\u001b[0m\n"
      ]
     },
     "metadata": {},
     "output_type": "display_data"
    },
    {
     "data": {
      "text/html": [
       "<pre style=\"white-space:pre;overflow-x:auto;line-height:normal;font-family:Menlo,'DejaVu Sans Mono',consolas,'Courier New',monospace;margin:0px\"><span style=\"background-color: #008000; font-weight: bold\"> Success </span><span style=\"color: #008000; text-decoration-color: #008000; font-weight: bold\"> Found solution for compound=C54919!</span>\n",
       "</pre>\n"
      ],
      "text/plain": [
       "\u001b[1;7;32m Success \u001b[0m\u001b[1;32m Found solution for compound=C54919!\u001b[0m\n"
      ]
     },
     "metadata": {},
     "output_type": "display_data"
    },
    {
     "data": {
      "text/html": [
       "<pre style=\"white-space:pre;overflow-x:auto;line-height:normal;font-family:Menlo,'DejaVu Sans Mono',consolas,'Courier New',monospace;margin:0px\"><span style=\"background-color: #008000; font-weight: bold\"> Success </span><span style=\"color: #008000; text-decoration-color: #008000; font-weight: bold\"> Found solution for compound=C55068!</span>\n",
       "</pre>\n"
      ],
      "text/plain": [
       "\u001b[1;7;32m Success \u001b[0m\u001b[1;32m Found solution for compound=C55068!\u001b[0m\n"
      ]
     },
     "metadata": {},
     "output_type": "display_data"
    },
    {
     "data": {
      "text/html": [
       "<pre style=\"white-space:pre;overflow-x:auto;line-height:normal;font-family:Menlo,'DejaVu Sans Mono',consolas,'Courier New',monospace;margin:0px\"></pre>\n"
      ],
      "text/plain": []
     },
     "metadata": {},
     "output_type": "display_data"
    },
    {
     "data": {
      "text/html": [
       "<pre style=\"white-space:pre;overflow-x:auto;line-height:normal;font-family:Menlo,'DejaVu Sans Mono',consolas,'Courier New',monospace;margin:0px\"><span style=\"color: #808080; text-decoration-color: #808080\">DEBUG: Calculating prices...</span>\n",
       "</pre>\n"
      ],
      "text/plain": [
       "\u001b[90mDEBUG: Calculating prices...\u001b[0m\n"
      ]
     },
     "metadata": {},
     "output_type": "display_data"
    },
    {
     "data": {
      "text/html": [
       "<pre style=\"white-space:pre;overflow-x:auto;line-height:normal;font-family:Menlo,'DejaVu Sans Mono',consolas,'Courier New',monospace;margin:0px\">Picking cheapest from <span style=\"color: #008080; text-decoration-color: #008080; font-weight: bold\">1</span> options\n",
       "</pre>\n"
      ],
      "text/plain": [
       "Picking cheapest from \u001b[1;36m1\u001b[0m options\n"
      ]
     },
     "metadata": {},
     "output_type": "display_data"
    }
   ],
   "source": [
    "mod_recipe = hippo.Recipe.from_compounds(big_recipe.products.compounds, supplier=\"Enamine\")"
   ]
  },
  {
   "cell_type": "code",
   "execution_count": 33,
   "id": "30218e18-f858-4108-b9a5-2f8e4c38c061",
   "metadata": {},
   "outputs": [
    {
     "data": {
      "text/plain": [
       "\u001b[1m\u001b[4m€11053.00 EUR\u001b[22m\u001b[24m"
      ]
     },
     "execution_count": 33,
     "metadata": {},
     "output_type": "execute_result"
    }
   ],
   "source": [
    "mod_recipe.price"
   ]
  },
  {
   "cell_type": "code",
   "execution_count": 35,
   "id": "cc255020-8a3c-4dae-b69f-7926765f782d",
   "metadata": {},
   "outputs": [
    {
     "data": {
      "text/html": [
       "<pre style=\"white-space:pre;overflow-x:auto;line-height:normal;font-family:Menlo,'DejaVu Sans Mono',consolas,'Courier New',monospace;margin:0px\"><span style=\"background-color: #d7af00; font-weight: bold\"> DISK </span> Writing <span style=\"color: #d7af00; text-decoration-color: #d7af00\">3C_t3c_i1a_entire_recipe_quoted.json</span>...\n",
       "</pre>\n"
      ],
      "text/plain": [
       "\u001b[1;7;38;5;178m DISK \u001b[0m Writing \u001b[38;5;178m3C_t3c_i1a_entire_recipe_quoted.json\u001b[0m...\n"
      ]
     },
     "metadata": {},
     "output_type": "display_data"
    }
   ],
   "source": [
    "mod_recipe.write_json(\"3C_t3c_i1a_entire_recipe_quoted.json\")"
   ]
  },
  {
   "cell_type": "code",
   "execution_count": 36,
   "id": "9e139df7-eb82-4e43-aff5-fc4f3ab3f8cb",
   "metadata": {},
   "outputs": [
    {
     "data": {
      "text/html": [
       "<pre style=\"white-space:pre;overflow-x:auto;line-height:normal;font-family:Menlo,'DejaVu Sans Mono',consolas,'Courier New',monospace;margin:0px\"><span style=\"color: #808080; text-decoration-color: #808080\">DEBUG: Querying database for routes</span>\n",
       "</pre>\n"
      ],
      "text/plain": [
       "\u001b[90mDEBUG: Querying database for routes\u001b[0m\n"
      ]
     },
     "metadata": {},
     "output_type": "display_data"
    },
    {
     "data": {
      "text/html": [
       "<pre style=\"white-space:pre;overflow-x:auto;line-height:normal;font-family:Menlo,'DejaVu Sans Mono',consolas,'Courier New',monospace;margin:0px\"><span style=\"color: #808080; text-decoration-color: #808080\">DEBUG: Assembling route dictionary</span>\n",
       "</pre>\n"
      ],
      "text/plain": [
       "\u001b[90mDEBUG: Assembling route dictionary\u001b[0m\n"
      ]
     },
     "metadata": {},
     "output_type": "display_data"
    },
    {
     "data": {
      "text/html": [
       "<pre style=\"white-space:pre;overflow-x:auto;line-height:normal;font-family:Menlo,'DejaVu Sans Mono',consolas,'Courier New',monospace;margin:0px\"><span style=\"color: #808080; text-decoration-color: #808080\">DEBUG: Checking availability</span>\n",
       "</pre>\n"
      ],
      "text/plain": [
       "\u001b[90mDEBUG: Checking availability\u001b[0m\n"
      ]
     },
     "metadata": {},
     "output_type": "display_data"
    },
    {
     "data": {
      "application/vnd.jupyter.widget-view+json": {
       "model_id": "8fde284532ad4346a4adcff48a9ee700",
       "version_major": 2,
       "version_minor": 0
      },
      "text/plain": [
       "Output()"
      ]
     },
     "metadata": {},
     "output_type": "display_data"
    },
    {
     "data": {
      "text/html": [
       "<pre style=\"white-space:pre;overflow-x:auto;line-height:normal;font-family:Menlo,'DejaVu Sans Mono',consolas,'Courier New',monospace;margin:0px\"></pre>\n"
      ],
      "text/plain": []
     },
     "metadata": {},
     "output_type": "display_data"
    },
    {
     "data": {
      "text/html": [
       "<pre style=\"white-space:pre;overflow-x:auto;line-height:normal;font-family:Menlo,'DejaVu Sans Mono',consolas,'Courier New',monospace;margin:0px\"><span style=\"background-color: #d7af00; font-weight: bold\"> DISK </span> Writing <span style=\"color: #d7af00; text-decoration-color: #d7af00\">/opt/xchem-fragalysis-2/maxwin/3C_FFF/hippo/3C_t3c_i1a_entire_recipe_quoted_CAR_1steps.csv</span>...\n",
       "</pre>\n"
      ],
      "text/plain": [
       "\u001b[1;7;38;5;178m DISK \u001b[0m Writing \u001b[38;5;178m/opt/xchem-fragalysis-2/maxwin/3C_FFF/hippo/3C_t3c_i1a_entire_recipe_quoted_CAR_1steps.csv\u001b[0m...\n"
      ]
     },
     "metadata": {},
     "output_type": "display_data"
    },
    {
     "data": {
      "text/html": [
       "<pre style=\"white-space:pre;overflow-x:auto;line-height:normal;font-family:Menlo,'DejaVu Sans Mono',consolas,'Courier New',monospace;margin:0px\"><span style=\"background-color: #d7af00; font-weight: bold\"> DISK </span> Writing <span style=\"color: #d7af00; text-decoration-color: #d7af00\">/opt/xchem-fragalysis-2/maxwin/3C_FFF/hippo/3C_t3c_i1a_entire_recipe_quoted_CAR.csv</span>...\n",
       "</pre>\n"
      ],
      "text/plain": [
       "\u001b[1;7;38;5;178m DISK \u001b[0m Writing \u001b[38;5;178m/opt/xchem-fragalysis-2/maxwin/3C_FFF/hippo/3C_t3c_i1a_entire_recipe_quoted_CAR.csv\u001b[0m...\n"
      ]
     },
     "metadata": {},
     "output_type": "display_data"
    },
    {
     "data": {
      "text/html": [
       "<div>\n",
       "<style scoped>\n",
       "    .dataframe tbody tr th:only-of-type {\n",
       "        vertical-align: middle;\n",
       "    }\n",
       "\n",
       "    .dataframe tbody tr th {\n",
       "        vertical-align: top;\n",
       "    }\n",
       "\n",
       "    .dataframe thead th {\n",
       "        text-align: right;\n",
       "    }\n",
       "</style>\n",
       "<table border=\"1\" class=\"dataframe\">\n",
       "  <thead>\n",
       "    <tr style=\"text-align: right;\">\n",
       "      <th></th>\n",
       "      <th>target-names</th>\n",
       "      <th>no-steps</th>\n",
       "      <th>concentration-required-mM</th>\n",
       "      <th>amount-required-uL</th>\n",
       "      <th>batch-tag</th>\n",
       "      <th>reactant-1-1</th>\n",
       "      <th>reactant-2-1</th>\n",
       "      <th>reaction-product-smiles-1</th>\n",
       "      <th>reaction-name-1</th>\n",
       "      <th>reaction-recipe-1</th>\n",
       "      <th>reaction-groupby-column-1</th>\n",
       "    </tr>\n",
       "  </thead>\n",
       "  <tbody>\n",
       "    <tr>\n",
       "      <th>0</th>\n",
       "      <td>C2134</td>\n",
       "      <td>1</td>\n",
       "      <td>None</td>\n",
       "      <td>None</td>\n",
       "      <td>None</td>\n",
       "      <td>c1cc2c(cc1COCC1CO1)OCO2</td>\n",
       "      <td>NCc1ccon1</td>\n",
       "      <td>OC(CNCc1ccon1)COCc1ccc2c(c1)OCO2</td>\n",
       "      <td>Epoxide_+_amine_coupling</td>\n",
       "      <td>None</td>\n",
       "      <td>None</td>\n",
       "    </tr>\n",
       "    <tr>\n",
       "      <th>1</th>\n",
       "      <td>C2845</td>\n",
       "      <td>1</td>\n",
       "      <td>None</td>\n",
       "      <td>None</td>\n",
       "      <td>None</td>\n",
       "      <td>O=C(O)C1CCN(c2cc(=O)[nH]cn2)CC1</td>\n",
       "      <td>NCCc1ccno1</td>\n",
       "      <td>O=C(NCCc1ccno1)C1CCN(c2cc(=O)[nH]cn2)CC1</td>\n",
       "      <td>Amidation</td>\n",
       "      <td>None</td>\n",
       "      <td>None</td>\n",
       "    </tr>\n",
       "    <tr>\n",
       "      <th>2</th>\n",
       "      <td>C3233</td>\n",
       "      <td>1</td>\n",
       "      <td>None</td>\n",
       "      <td>None</td>\n",
       "      <td>None</td>\n",
       "      <td>O=C(O)c1cc(CN2CCCCC2)on1</td>\n",
       "      <td>CS(=O)(=O)CCCCCN</td>\n",
       "      <td>CS(=O)(=O)CCCCCNC(=O)c1cc(CN2CCCCC2)on1</td>\n",
       "      <td>Amidation</td>\n",
       "      <td>None</td>\n",
       "      <td>None</td>\n",
       "    </tr>\n",
       "    <tr>\n",
       "      <th>3</th>\n",
       "      <td>C3254</td>\n",
       "      <td>1</td>\n",
       "      <td>None</td>\n",
       "      <td>None</td>\n",
       "      <td>None</td>\n",
       "      <td>O=C(O)c1cc(CN2CCCCC2)on1</td>\n",
       "      <td>COCCN(C)CCCN</td>\n",
       "      <td>COCCN(C)CCCNC(=O)c1cc(CN2CCCCC2)on1</td>\n",
       "      <td>Amidation</td>\n",
       "      <td>None</td>\n",
       "      <td>None</td>\n",
       "    </tr>\n",
       "    <tr>\n",
       "      <th>4</th>\n",
       "      <td>C3264</td>\n",
       "      <td>1</td>\n",
       "      <td>None</td>\n",
       "      <td>None</td>\n",
       "      <td>None</td>\n",
       "      <td>O=C(O)c1cc(CN2CCCCC2)on1</td>\n",
       "      <td>NCCOC(F)F</td>\n",
       "      <td>O=C(NCCOC(F)F)c1cc(CN2CCCCC2)on1</td>\n",
       "      <td>Amidation</td>\n",
       "      <td>None</td>\n",
       "      <td>None</td>\n",
       "    </tr>\n",
       "    <tr>\n",
       "      <th>...</th>\n",
       "      <td>...</td>\n",
       "      <td>...</td>\n",
       "      <td>...</td>\n",
       "      <td>...</td>\n",
       "      <td>...</td>\n",
       "      <td>...</td>\n",
       "      <td>...</td>\n",
       "      <td>...</td>\n",
       "      <td>...</td>\n",
       "      <td>...</td>\n",
       "      <td>...</td>\n",
       "    </tr>\n",
       "    <tr>\n",
       "      <th>213</th>\n",
       "      <td>C54894</td>\n",
       "      <td>1</td>\n",
       "      <td>None</td>\n",
       "      <td>None</td>\n",
       "      <td>None</td>\n",
       "      <td>Cn1cc(C#N)c2ccc(C(=O)O)cc21</td>\n",
       "      <td>CC(CO)N1CCCCC1</td>\n",
       "      <td>CC(COC(=O)c1ccc2c(C#N)cn(C)c2c1)N1CCCCC1</td>\n",
       "      <td>Steglich_esterification</td>\n",
       "      <td>None</td>\n",
       "      <td>None</td>\n",
       "    </tr>\n",
       "    <tr>\n",
       "      <th>214</th>\n",
       "      <td>C54909</td>\n",
       "      <td>1</td>\n",
       "      <td>None</td>\n",
       "      <td>None</td>\n",
       "      <td>None</td>\n",
       "      <td>Cn1cc(C=O)c2ccc(C(=O)O)cc21</td>\n",
       "      <td>CC(CO)N1CCCCC1</td>\n",
       "      <td>CC(COC(=O)c1ccc2c(C=O)cn(C)c2c1)N1CCCCC1</td>\n",
       "      <td>Steglich_esterification</td>\n",
       "      <td>None</td>\n",
       "      <td>None</td>\n",
       "    </tr>\n",
       "    <tr>\n",
       "      <th>215</th>\n",
       "      <td>C54910</td>\n",
       "      <td>1</td>\n",
       "      <td>None</td>\n",
       "      <td>None</td>\n",
       "      <td>None</td>\n",
       "      <td>Cn1cc(C=O)c2ccc(C(=O)O)cc21</td>\n",
       "      <td>CC1C(O)C2CCN1CC2</td>\n",
       "      <td>CC1C(OC(=O)c2ccc3c(C=O)cn(C)c3c2)C2CCN1CC2</td>\n",
       "      <td>Steglich_esterification</td>\n",
       "      <td>None</td>\n",
       "      <td>None</td>\n",
       "    </tr>\n",
       "    <tr>\n",
       "      <th>216</th>\n",
       "      <td>C54919</td>\n",
       "      <td>1</td>\n",
       "      <td>None</td>\n",
       "      <td>None</td>\n",
       "      <td>None</td>\n",
       "      <td>Cn1cc(C#N)c2ccc(C(=O)O)cc21</td>\n",
       "      <td>CC1C(O)C2CCN1CC2</td>\n",
       "      <td>CC1C(OC(=O)c2ccc3c(C#N)cn(C)c3c2)C2CCN1CC2</td>\n",
       "      <td>Steglich_esterification</td>\n",
       "      <td>None</td>\n",
       "      <td>None</td>\n",
       "    </tr>\n",
       "    <tr>\n",
       "      <th>217</th>\n",
       "      <td>C55068</td>\n",
       "      <td>1</td>\n",
       "      <td>None</td>\n",
       "      <td>None</td>\n",
       "      <td>None</td>\n",
       "      <td>CC(C)n1ccc2ccc(C(=O)O)cc21</td>\n",
       "      <td>CC(CO)N1CCCCC1</td>\n",
       "      <td>CC(COC(=O)c1ccc2ccn(C(C)C)c2c1)N1CCCCC1</td>\n",
       "      <td>Steglich_esterification</td>\n",
       "      <td>None</td>\n",
       "      <td>None</td>\n",
       "    </tr>\n",
       "  </tbody>\n",
       "</table>\n",
       "<p>218 rows × 11 columns</p>\n",
       "</div>"
      ],
      "text/plain": [
       "    target-names  no-steps concentration-required-mM amount-required-uL  \\\n",
       "0          C2134         1                      None               None   \n",
       "1          C2845         1                      None               None   \n",
       "2          C3233         1                      None               None   \n",
       "3          C3254         1                      None               None   \n",
       "4          C3264         1                      None               None   \n",
       "..           ...       ...                       ...                ...   \n",
       "213       C54894         1                      None               None   \n",
       "214       C54909         1                      None               None   \n",
       "215       C54910         1                      None               None   \n",
       "216       C54919         1                      None               None   \n",
       "217       C55068         1                      None               None   \n",
       "\n",
       "    batch-tag                     reactant-1-1      reactant-2-1  \\\n",
       "0        None          c1cc2c(cc1COCC1CO1)OCO2         NCc1ccon1   \n",
       "1        None  O=C(O)C1CCN(c2cc(=O)[nH]cn2)CC1        NCCc1ccno1   \n",
       "2        None         O=C(O)c1cc(CN2CCCCC2)on1  CS(=O)(=O)CCCCCN   \n",
       "3        None         O=C(O)c1cc(CN2CCCCC2)on1      COCCN(C)CCCN   \n",
       "4        None         O=C(O)c1cc(CN2CCCCC2)on1         NCCOC(F)F   \n",
       "..        ...                              ...               ...   \n",
       "213      None      Cn1cc(C#N)c2ccc(C(=O)O)cc21    CC(CO)N1CCCCC1   \n",
       "214      None      Cn1cc(C=O)c2ccc(C(=O)O)cc21    CC(CO)N1CCCCC1   \n",
       "215      None      Cn1cc(C=O)c2ccc(C(=O)O)cc21  CC1C(O)C2CCN1CC2   \n",
       "216      None      Cn1cc(C#N)c2ccc(C(=O)O)cc21  CC1C(O)C2CCN1CC2   \n",
       "217      None       CC(C)n1ccc2ccc(C(=O)O)cc21    CC(CO)N1CCCCC1   \n",
       "\n",
       "                      reaction-product-smiles-1           reaction-name-1  \\\n",
       "0              OC(CNCc1ccon1)COCc1ccc2c(c1)OCO2  Epoxide_+_amine_coupling   \n",
       "1      O=C(NCCc1ccno1)C1CCN(c2cc(=O)[nH]cn2)CC1                 Amidation   \n",
       "2       CS(=O)(=O)CCCCCNC(=O)c1cc(CN2CCCCC2)on1                 Amidation   \n",
       "3           COCCN(C)CCCNC(=O)c1cc(CN2CCCCC2)on1                 Amidation   \n",
       "4              O=C(NCCOC(F)F)c1cc(CN2CCCCC2)on1                 Amidation   \n",
       "..                                          ...                       ...   \n",
       "213    CC(COC(=O)c1ccc2c(C#N)cn(C)c2c1)N1CCCCC1   Steglich_esterification   \n",
       "214    CC(COC(=O)c1ccc2c(C=O)cn(C)c2c1)N1CCCCC1   Steglich_esterification   \n",
       "215  CC1C(OC(=O)c2ccc3c(C=O)cn(C)c3c2)C2CCN1CC2   Steglich_esterification   \n",
       "216  CC1C(OC(=O)c2ccc3c(C#N)cn(C)c3c2)C2CCN1CC2   Steglich_esterification   \n",
       "217     CC(COC(=O)c1ccc2ccn(C(C)C)c2c1)N1CCCCC1   Steglich_esterification   \n",
       "\n",
       "    reaction-recipe-1 reaction-groupby-column-1  \n",
       "0                None                      None  \n",
       "1                None                      None  \n",
       "2                None                      None  \n",
       "3                None                      None  \n",
       "4                None                      None  \n",
       "..                ...                       ...  \n",
       "213              None                      None  \n",
       "214              None                      None  \n",
       "215              None                      None  \n",
       "216              None                      None  \n",
       "217              None                      None  \n",
       "\n",
       "[218 rows x 11 columns]"
      ]
     },
     "execution_count": 36,
     "metadata": {},
     "output_type": "execute_result"
    }
   ],
   "source": [
    "mod_recipe.write_CAR_csv(\"3C_t3c_i1a_entire_recipe_quoted_CAR.csv\")"
   ]
  },
  {
   "cell_type": "code",
   "execution_count": 37,
   "id": "e7f03df0-d6b4-4956-be5d-ccf97e3a2894",
   "metadata": {},
   "outputs": [
    {
     "data": {
      "text/html": [
       "<pre style=\"white-space:pre;overflow-x:auto;line-height:normal;font-family:Menlo,'DejaVu Sans Mono',consolas,'Courier New',monospace;margin:0px\"><span style=\"color: #808080; text-decoration-color: #808080\">DEBUG: Querying database for routes</span>\n",
       "</pre>\n"
      ],
      "text/plain": [
       "\u001b[90mDEBUG: Querying database for routes\u001b[0m\n"
      ]
     },
     "metadata": {},
     "output_type": "display_data"
    },
    {
     "data": {
      "text/html": [
       "<pre style=\"white-space:pre;overflow-x:auto;line-height:normal;font-family:Menlo,'DejaVu Sans Mono',consolas,'Courier New',monospace;margin:0px\"><span style=\"color: #808080; text-decoration-color: #808080\">DEBUG: Assembling route dictionary</span>\n",
       "</pre>\n"
      ],
      "text/plain": [
       "\u001b[90mDEBUG: Assembling route dictionary\u001b[0m\n"
      ]
     },
     "metadata": {},
     "output_type": "display_data"
    },
    {
     "data": {
      "text/html": [
       "<pre style=\"white-space:pre;overflow-x:auto;line-height:normal;font-family:Menlo,'DejaVu Sans Mono',consolas,'Courier New',monospace;margin:0px\"><span style=\"color: #808080; text-decoration-color: #808080\">DEBUG: Checking availability</span>\n",
       "</pre>\n"
      ],
      "text/plain": [
       "\u001b[90mDEBUG: Checking availability\u001b[0m\n"
      ]
     },
     "metadata": {},
     "output_type": "display_data"
    },
    {
     "data": {
      "application/vnd.jupyter.widget-view+json": {
       "model_id": "0abd1ab20cb4474c86198c9f6b308c58",
       "version_major": 2,
       "version_minor": 0
      },
      "text/plain": [
       "Output()"
      ]
     },
     "metadata": {},
     "output_type": "display_data"
    },
    {
     "data": {
      "text/html": [
       "<pre style=\"white-space:pre;overflow-x:auto;line-height:normal;font-family:Menlo,'DejaVu Sans Mono',consolas,'Courier New',monospace;margin:0px\"></pre>\n"
      ],
      "text/plain": []
     },
     "metadata": {},
     "output_type": "display_data"
    },
    {
     "data": {
      "application/vnd.jupyter.widget-view+json": {
       "model_id": "e6c4df65ca2c4e9894bf57be5582620f",
       "version_major": 2,
       "version_minor": 0
      },
      "text/plain": [
       "Output()"
      ]
     },
     "metadata": {},
     "output_type": "display_data"
    },
    {
     "data": {
      "text/html": [
       "<pre style=\"white-space:pre;overflow-x:auto;line-height:normal;font-family:Menlo,'DejaVu Sans Mono',consolas,'Courier New',monospace;margin:0px\"></pre>\n"
      ],
      "text/plain": []
     },
     "metadata": {},
     "output_type": "display_data"
    },
    {
     "data": {
      "text/html": [
       "<pre style=\"white-space:pre;overflow-x:auto;line-height:normal;font-family:Menlo,'DejaVu Sans Mono',consolas,'Courier New',monospace;margin:0px\"></pre>\n"
      ],
      "text/plain": []
     },
     "metadata": {},
     "output_type": "display_data"
    },
    {
     "data": {
      "application/vnd.jupyter.widget-view+json": {
       "model_id": "7afa03825ede43c9bb1e7da5bc06b880",
       "version_major": 2,
       "version_minor": 0
      },
      "text/plain": [
       "Output()"
      ]
     },
     "metadata": {},
     "output_type": "display_data"
    },
    {
     "data": {
      "text/html": [
       "<pre style=\"white-space:pre;overflow-x:auto;line-height:normal;font-family:Menlo,'DejaVu Sans Mono',consolas,'Courier New',monospace;margin:0px\"></pre>\n"
      ],
      "text/plain": []
     },
     "metadata": {},
     "output_type": "display_data"
    },
    {
     "data": {
      "text/html": [
       "<pre style=\"white-space:pre;overflow-x:auto;line-height:normal;font-family:Menlo,'DejaVu Sans Mono',consolas,'Courier New',monospace;margin:0px\"><span style=\"background-color: #d7af00; font-weight: bold\"> DISK </span> Writing <span style=\"color: #d7af00; text-decoration-color: #d7af00\">3C_t3c_i1a_entire_recipe_quoted_products.csv</span>...\n",
       "</pre>\n"
      ],
      "text/plain": [
       "\u001b[1;7;38;5;178m DISK \u001b[0m Writing \u001b[38;5;178m3C_t3c_i1a_entire_recipe_quoted_products.csv\u001b[0m...\n"
      ]
     },
     "metadata": {},
     "output_type": "display_data"
    }
   ],
   "source": [
    "mod_recipe.write_product_csv(\"3C_t3c_i1a_entire_recipe_quoted_products.csv\")"
   ]
  },
  {
   "cell_type": "code",
   "execution_count": 38,
   "id": "64793d61-a0aa-48fb-9356-1ea616864e34",
   "metadata": {},
   "outputs": [
    {
     "data": {
      "text/html": [
       "<pre style=\"white-space:pre;overflow-x:auto;line-height:normal;font-family:Menlo,'DejaVu Sans Mono',consolas,'Courier New',monospace;margin:0px\"><span style=\"color: #808080; text-decoration-color: #808080\">DEBUG: Querying database for routes</span>\n",
       "</pre>\n"
      ],
      "text/plain": [
       "\u001b[90mDEBUG: Querying database for routes\u001b[0m\n"
      ]
     },
     "metadata": {},
     "output_type": "display_data"
    },
    {
     "data": {
      "text/html": [
       "<pre style=\"white-space:pre;overflow-x:auto;line-height:normal;font-family:Menlo,'DejaVu Sans Mono',consolas,'Courier New',monospace;margin:0px\"><span style=\"color: #808080; text-decoration-color: #808080\">DEBUG: Assembling route dictionary</span>\n",
       "</pre>\n"
      ],
      "text/plain": [
       "\u001b[90mDEBUG: Assembling route dictionary\u001b[0m\n"
      ]
     },
     "metadata": {},
     "output_type": "display_data"
    },
    {
     "data": {
      "text/html": [
       "<pre style=\"white-space:pre;overflow-x:auto;line-height:normal;font-family:Menlo,'DejaVu Sans Mono',consolas,'Courier New',monospace;margin:0px\"><span style=\"color: #808080; text-decoration-color: #808080\">DEBUG: Checking availability</span>\n",
       "</pre>\n"
      ],
      "text/plain": [
       "\u001b[90mDEBUG: Checking availability\u001b[0m\n"
      ]
     },
     "metadata": {},
     "output_type": "display_data"
    },
    {
     "data": {
      "application/vnd.jupyter.widget-view+json": {
       "model_id": "5a67b3aa73884851a586656ac45e1e95",
       "version_major": 2,
       "version_minor": 0
      },
      "text/plain": [
       "Output()"
      ]
     },
     "metadata": {},
     "output_type": "display_data"
    },
    {
     "data": {
      "text/html": [
       "<pre style=\"white-space:pre;overflow-x:auto;line-height:normal;font-family:Menlo,'DejaVu Sans Mono',consolas,'Courier New',monospace;margin:0px\"></pre>\n"
      ],
      "text/plain": []
     },
     "metadata": {},
     "output_type": "display_data"
    },
    {
     "data": {
      "application/vnd.jupyter.widget-view+json": {
       "model_id": "b509b69704a44033af22043d0e228383",
       "version_major": 2,
       "version_minor": 0
      },
      "text/plain": [
       "Output()"
      ]
     },
     "metadata": {},
     "output_type": "display_data"
    },
    {
     "data": {
      "text/html": [
       "<pre style=\"white-space:pre;overflow-x:auto;line-height:normal;font-family:Menlo,'DejaVu Sans Mono',consolas,'Courier New',monospace;margin:0px\"></pre>\n"
      ],
      "text/plain": []
     },
     "metadata": {},
     "output_type": "display_data"
    },
    {
     "data": {
      "text/html": [
       "<pre style=\"white-space:pre;overflow-x:auto;line-height:normal;font-family:Menlo,'DejaVu Sans Mono',consolas,'Courier New',monospace;margin:0px\"><span style=\"background-color: #d7af00; font-weight: bold\"> DISK </span> Writing <span style=\"color: #d7af00; text-decoration-color: #d7af00\">3C_t3c_i1a_entire_recipe_quotedmod_recipe_reactants.csv</span>...\n",
       "</pre>\n"
      ],
      "text/plain": [
       "\u001b[1;7;38;5;178m DISK \u001b[0m Writing \u001b[38;5;178m3C_t3c_i1a_entire_recipe_quotedmod_recipe_reactants.csv\u001b[0m...\n"
      ]
     },
     "metadata": {},
     "output_type": "display_data"
    }
   ],
   "source": [
    "mod_recipe.write_reactant_csv(\"3C_t3c_i1a_entire_recipe_quotedmod_recipe_reactants.csv\")"
   ]
  },
  {
   "cell_type": "code",
   "execution_count": null,
   "id": "f276595a-c986-4c9d-9b97-a4b5dc787e8a",
   "metadata": {},
   "outputs": [],
   "source": []
  }
 ],
 "metadata": {
  "kernelspec": {
   "display_name": "Python 3 (ipykernel)",
   "language": "python",
   "name": "python3"
  },
  "language_info": {
   "codemirror_mode": {
    "name": "ipython",
    "version": 3
   },
   "file_extension": ".py",
   "mimetype": "text/x-python",
   "name": "python",
   "nbconvert_exporter": "python",
   "pygments_lexer": "ipython3",
   "version": "3.12.8"
  }
 },
 "nbformat": 4,
 "nbformat_minor": 5
}

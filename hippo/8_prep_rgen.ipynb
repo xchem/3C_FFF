{
 "cells": [
  {
   "cell_type": "code",
   "execution_count": 2,
   "id": "575895c1-d151-403f-9533-e904ddb630eb",
   "metadata": {},
   "outputs": [],
   "source": [
    "%load_ext autoreload\n",
    "%autoreload 2\n",
    "from pathlib import Path\n",
    "import pandas as pd\n",
    "from mrich import print\n",
    "import mrich\n",
    "import molparse as mp\n",
    "import hippo\n",
    "import plotly.express as px\n",
    "from hippo.plotting import plot_compound_tsnee, plot_compound_availability_venn"
   ]
  },
  {
   "cell_type": "code",
   "execution_count": 3,
   "id": "6d32deea-e62e-425f-9900-0513eefaa602",
   "metadata": {},
   "outputs": [
    {
     "data": {
      "text/html": [
       "<pre style=\"white-space:pre;overflow-x:auto;line-height:normal;font-family:Menlo,'DejaVu Sans Mono',consolas,'Courier New',monospace;margin:0px\"><span style=\"font-weight: bold\"> Creating HIPPO animal</span>\n",
       "</pre>\n"
      ],
      "text/plain": [
       "\u001b[1m Creating HIPPO animal\u001b[0m\n"
      ]
     },
     "metadata": {},
     "output_type": "display_data"
    },
    {
     "data": {
      "text/html": [
       "<pre style=\"white-space:pre;overflow-x:auto;line-height:normal;font-family:Menlo,'DejaVu Sans Mono',consolas,'Courier New',monospace;margin:0px\"><span style=\"color: #008080; text-decoration-color: #008080; font-weight: bold\">name</span> = <span style=\"color: #00d7af; text-decoration-color: #00d7af\">3C_FFF</span>\n",
       "</pre>\n"
      ],
      "text/plain": [
       "\u001b[1;36mname\u001b[0m = \u001b[38;5;43m3C_FFF\u001b[0m\n"
      ]
     },
     "metadata": {},
     "output_type": "display_data"
    },
    {
     "data": {
      "text/html": [
       "<pre style=\"white-space:pre;overflow-x:auto;line-height:normal;font-family:Menlo,'DejaVu Sans Mono',consolas,'Courier New',monospace;margin:0px\"><span style=\"color: #008080; text-decoration-color: #008080; font-weight: bold\">db_path</span> = <span style=\"color: #d7af00; text-decoration-color: #d7af00\">../../BulkDock/TARGETS/D68EV3C/D68EV3C.sqlite</span>\n",
       "</pre>\n"
      ],
      "text/plain": [
       "\u001b[1;36mdb_path\u001b[0m = \u001b[38;5;178m../../BulkDock/TARGETS/D68EV3C/D68EV3C.sqlite\u001b[0m\n"
      ]
     },
     "metadata": {},
     "output_type": "display_data"
    },
    {
     "data": {
      "text/html": [
       "<pre style=\"white-space:pre;overflow-x:auto;line-height:normal;font-family:Menlo,'DejaVu Sans Mono',consolas,'Courier New',monospace;margin:0px\"><span style=\"color: #808080; text-decoration-color: #808080\">DEBUG: hippo.Database.__init__()</span>\n",
       "</pre>\n"
      ],
      "text/plain": [
       "\u001b[90mDEBUG: hippo.Database.__init__()\u001b[0m\n"
      ]
     },
     "metadata": {},
     "output_type": "display_data"
    },
    {
     "data": {
      "text/html": [
       "<pre style=\"white-space:pre;overflow-x:auto;line-height:normal;font-family:Menlo,'DejaVu Sans Mono',consolas,'Courier New',monospace;margin:0px\"><span style=\"color: #808080; text-decoration-color: #808080\">DEBUG: Database.path = ../../BulkDock/TARGETS/D68EV3C/D68EV3C.sqlite</span>\n",
       "</pre>\n"
      ],
      "text/plain": [
       "\u001b[90mDEBUG: Database.path = ../../BulkDock/TARGETS/D68EV3C/D68EV3C.sqlite\u001b[0m\n"
      ]
     },
     "metadata": {},
     "output_type": "display_data"
    },
    {
     "data": {
      "text/html": [
       "<pre style=\"white-space:pre;overflow-x:auto;line-height:normal;font-family:Menlo,'DejaVu Sans Mono',consolas,'Courier New',monospace;margin:0px\"><span style=\"color: #808080; text-decoration-color: #808080\">DEBUG: hippo.Database.connect()</span>\n",
       "</pre>\n"
      ],
      "text/plain": [
       "\u001b[90mDEBUG: hippo.Database.connect()\u001b[0m\n"
      ]
     },
     "metadata": {},
     "output_type": "display_data"
    },
    {
     "data": {
      "text/html": [
       "<pre style=\"white-space:pre;overflow-x:auto;line-height:normal;font-family:Menlo,'DejaVu Sans Mono',consolas,'Courier New',monospace;margin:0px\"><span style=\"color: #808080; text-decoration-color: #808080\">DEBUG: sqlite3.version='2.6.0'</span>\n",
       "</pre>\n"
      ],
      "text/plain": [
       "\u001b[90mDEBUG: sqlite3.version='2.6.0'\u001b[0m\n"
      ]
     },
     "metadata": {},
     "output_type": "display_data"
    },
    {
     "data": {
      "text/html": [
       "<pre style=\"white-space:pre;overflow-x:auto;line-height:normal;font-family:Menlo,'DejaVu Sans Mono',consolas,'Courier New',monospace;margin:0px\"><span style=\"background-color: #008000; font-weight: bold\"> Success </span><span style=\"color: #008000; text-decoration-color: #008000; font-weight: bold\"> Database connected @</span><span style=\"color: #d7af00; text-decoration-color: #d7af00; font-weight: bold\"> ../../BulkDock/TARGETS/D68EV3C/D68EV3C.sqlite!</span>\n",
       "</pre>\n"
      ],
      "text/plain": [
       "\u001b[1;7;32m Success \u001b[0m\u001b[1;32m Database connected @\u001b[0m\u001b[1;38;5;178m ../../BulkDock/TARGETS/D68EV3C/D68EV3C.sqlite!\u001b[0m\n"
      ]
     },
     "metadata": {},
     "output_type": "display_data"
    },
    {
     "data": {
      "text/html": [
       "<pre style=\"white-space:pre;overflow-x:auto;line-height:normal;font-family:Menlo,'DejaVu Sans Mono',consolas,'Courier New',monospace;margin:0px\"><span style=\"background-color: #008000; font-weight: bold\"> Success </span><span style=\"color: #008000; text-decoration-color: #008000; font-weight: bold\"> Initialised animal</span><span style=\"color: #008080; text-decoration-color: #008080; font-weight: bold\"> HIPPO(\"3C_FFF\")!</span>\n",
       "</pre>\n"
      ],
      "text/plain": [
       "\u001b[1;7;32m Success \u001b[0m\u001b[1;32m Initialised animal\u001b[0m\u001b[1;36m HIPPO(\"3C_FFF\")!\u001b[0m\n"
      ]
     },
     "metadata": {},
     "output_type": "display_data"
    }
   ],
   "source": [
    "animal = hippo.HIPPO(\"3C_FFF\", \"../../BulkDock/TARGETS/D68EV3C/D68EV3C.sqlite\")"
   ]
  },
  {
   "cell_type": "code",
   "execution_count": 4,
   "id": "5f48316d-3ed5-4b5e-ada1-cba42c1458ae",
   "metadata": {},
   "outputs": [
    {
     "data": {
      "text/plain": [
       "\u001b[1m\u001b[4m{C × 274}\u001b[22m\u001b[24m"
      ]
     },
     "execution_count": 4,
     "metadata": {},
     "output_type": "execute_result"
    }
   ],
   "source": [
    "animal.db.get_route_products()"
   ]
  },
  {
   "cell_type": "code",
   "execution_count": 5,
   "id": "bc320e69-cac9-40d0-a008-ea24677596d6",
   "metadata": {},
   "outputs": [
    {
     "data": {
      "text/plain": [
       "{'BulkDock Fragalysis export',\n",
       " 'DF curated YES',\n",
       " 'Fragmenstein placed',\n",
       " 'MW curated YES',\n",
       " 'RL curated YES',\n",
       " 'WT curated YES',\n",
       " '[Other] iter1_frags',\n",
       " '[Other] upload_1 2025-02-11',\n",
       " 'best elaborated iter1 scaffold poses',\n",
       " 'elaborated iter1 scaffold',\n",
       " 'hits',\n",
       " 'iter1 exported merges',\n",
       " 'iter1 scaffolds',\n",
       " 'manual design'}"
      ]
     },
     "execution_count": 5,
     "metadata": {},
     "output_type": "execute_result"
    }
   ],
   "source": [
    "animal.tags.unique"
   ]
  },
  {
   "cell_type": "markdown",
   "id": "ed45707e-e26c-45b5-acd9-a1e58a7fc816",
   "metadata": {},
   "source": [
    "## Starting Recipe"
   ]
  },
  {
   "cell_type": "code",
   "execution_count": 6,
   "id": "634e0980-b544-4375-8049-1efd0277ceee",
   "metadata": {},
   "outputs": [
    {
     "data": {
      "text/plain": [
       "\u001b[1m\u001b[4mcompounds tagged iter1 scaffolds: {C × 99}\u001b[22m\u001b[24m"
      ]
     },
     "execution_count": 6,
     "metadata": {},
     "output_type": "execute_result"
    }
   ],
   "source": [
    "scaffolds = animal.compounds(tag=\"iter1 scaffolds\")\n",
    "scaffolds"
   ]
  },
  {
   "cell_type": "code",
   "execution_count": 7,
   "id": "68945788-9178-4974-8aee-302906a6b365",
   "metadata": {
    "scrolled": true
   },
   "outputs": [
    {
     "data": {
      "text/html": [
       "<pre style=\"white-space:pre;overflow-x:auto;line-height:normal;font-family:Menlo,'DejaVu Sans Mono',consolas,'Courier New',monospace;margin:0px\"><span style=\"color: #008080; text-decoration-color: #008080; font-weight: bold\">#compounds</span> = <span style=\"color: #008080; text-decoration-color: #008080; font-weight: bold\">99</span>\n",
       "</pre>\n"
      ],
      "text/plain": [
       "\u001b[1;36m#compounds\u001b[0m = \u001b[1;36m99\u001b[0m\n"
      ]
     },
     "metadata": {},
     "output_type": "display_data"
    },
    {
     "data": {
      "application/vnd.jupyter.widget-view+json": {
       "model_id": "ca318c4aca2e4cc4bf2ec6ac8ec40bec",
       "version_major": 2,
       "version_minor": 0
      },
      "text/plain": [
       "Output()"
      ]
     },
     "metadata": {},
     "output_type": "display_data"
    },
    {
     "data": {
      "text/html": [
       "<pre style=\"white-space:pre;overflow-x:auto;line-height:normal;font-family:Menlo,'DejaVu Sans Mono',consolas,'Courier New',monospace;margin:0px\"><span style=\"background-color: #800000; font-weight: bold\"> ERROR </span><span style=\"color: #800000; text-decoration-color: #800000; font-weight: bold\"> No solutions for compound=C117 (comp.reactions.ids=[])!</span>\n",
       "</pre>\n"
      ],
      "text/plain": [
       "\u001b[1;7;31m ERROR \u001b[0m\u001b[1;31m No solutions for compound=C117 (comp.reactions.ids=[])!\u001b[0m\n"
      ]
     },
     "metadata": {},
     "output_type": "display_data"
    },
    {
     "data": {
      "text/html": [
       "<pre style=\"white-space:pre;overflow-x:auto;line-height:normal;font-family:Menlo,'DejaVu Sans Mono',consolas,'Courier New',monospace;margin:0px\"><span style=\"background-color: #800000; font-weight: bold\"> ERROR </span><span style=\"color: #800000; text-decoration-color: #800000; font-weight: bold\"> No solutions for compound=C157 (comp.reactions.ids=[])!</span>\n",
       "</pre>\n"
      ],
      "text/plain": [
       "\u001b[1;7;31m ERROR \u001b[0m\u001b[1;31m No solutions for compound=C157 (comp.reactions.ids=[])!\u001b[0m\n"
      ]
     },
     "metadata": {},
     "output_type": "display_data"
    },
    {
     "data": {
      "text/html": [
       "<pre style=\"white-space:pre;overflow-x:auto;line-height:normal;font-family:Menlo,'DejaVu Sans Mono',consolas,'Courier New',monospace;margin:0px\"><span style=\"background-color: #800000; font-weight: bold\"> ERROR </span><span style=\"color: #800000; text-decoration-color: #800000; font-weight: bold\"> No solutions for compound=C170 (comp.reactions.ids=[])!</span>\n",
       "</pre>\n"
      ],
      "text/plain": [
       "\u001b[1;7;31m ERROR \u001b[0m\u001b[1;31m No solutions for compound=C170 (comp.reactions.ids=[])!\u001b[0m\n"
      ]
     },
     "metadata": {},
     "output_type": "display_data"
    },
    {
     "data": {
      "text/html": [
       "<pre style=\"white-space:pre;overflow-x:auto;line-height:normal;font-family:Menlo,'DejaVu Sans Mono',consolas,'Courier New',monospace;margin:0px\"><span style=\"background-color: #800000; font-weight: bold\"> ERROR </span><span style=\"color: #800000; text-decoration-color: #800000; font-weight: bold\"> No solutions for compound=C172 (comp.reactions.ids=[])!</span>\n",
       "</pre>\n"
      ],
      "text/plain": [
       "\u001b[1;7;31m ERROR \u001b[0m\u001b[1;31m No solutions for compound=C172 (comp.reactions.ids=[])!\u001b[0m\n"
      ]
     },
     "metadata": {},
     "output_type": "display_data"
    },
    {
     "data": {
      "text/html": [
       "<pre style=\"white-space:pre;overflow-x:auto;line-height:normal;font-family:Menlo,'DejaVu Sans Mono',consolas,'Courier New',monospace;margin:0px\"><span style=\"background-color: #800000; font-weight: bold\"> ERROR </span><span style=\"color: #800000; text-decoration-color: #800000; font-weight: bold\"> No solutions for compound=C174 (comp.reactions.ids=[])!</span>\n",
       "</pre>\n"
      ],
      "text/plain": [
       "\u001b[1;7;31m ERROR \u001b[0m\u001b[1;31m No solutions for compound=C174 (comp.reactions.ids=[])!\u001b[0m\n"
      ]
     },
     "metadata": {},
     "output_type": "display_data"
    },
    {
     "data": {
      "text/html": [
       "<pre style=\"white-space:pre;overflow-x:auto;line-height:normal;font-family:Menlo,'DejaVu Sans Mono',consolas,'Courier New',monospace;margin:0px\"><span style=\"background-color: #800000; font-weight: bold\"> ERROR </span><span style=\"color: #800000; text-decoration-color: #800000; font-weight: bold\"> No solutions for compound=C178 (comp.reactions.ids=[])!</span>\n",
       "</pre>\n"
      ],
      "text/plain": [
       "\u001b[1;7;31m ERROR \u001b[0m\u001b[1;31m No solutions for compound=C178 (comp.reactions.ids=[])!\u001b[0m\n"
      ]
     },
     "metadata": {},
     "output_type": "display_data"
    },
    {
     "data": {
      "text/html": [
       "<pre style=\"white-space:pre;overflow-x:auto;line-height:normal;font-family:Menlo,'DejaVu Sans Mono',consolas,'Courier New',monospace;margin:0px\"><span style=\"background-color: #800000; font-weight: bold\"> ERROR </span><span style=\"color: #800000; text-decoration-color: #800000; font-weight: bold\"> No solutions for compound=C180 (comp.reactions.ids=[])!</span>\n",
       "</pre>\n"
      ],
      "text/plain": [
       "\u001b[1;7;31m ERROR \u001b[0m\u001b[1;31m No solutions for compound=C180 (comp.reactions.ids=[])!\u001b[0m\n"
      ]
     },
     "metadata": {},
     "output_type": "display_data"
    },
    {
     "data": {
      "text/html": [
       "<pre style=\"white-space:pre;overflow-x:auto;line-height:normal;font-family:Menlo,'DejaVu Sans Mono',consolas,'Courier New',monospace;margin:0px\"><span style=\"background-color: #800000; font-weight: bold\"> ERROR </span><span style=\"color: #800000; text-decoration-color: #800000; font-weight: bold\"> No solutions for compound=C182 (comp.reactions.ids=[])!</span>\n",
       "</pre>\n"
      ],
      "text/plain": [
       "\u001b[1;7;31m ERROR \u001b[0m\u001b[1;31m No solutions for compound=C182 (comp.reactions.ids=[])!\u001b[0m\n"
      ]
     },
     "metadata": {},
     "output_type": "display_data"
    },
    {
     "data": {
      "text/html": [
       "<pre style=\"white-space:pre;overflow-x:auto;line-height:normal;font-family:Menlo,'DejaVu Sans Mono',consolas,'Courier New',monospace;margin:0px\"><span style=\"background-color: #800000; font-weight: bold\"> ERROR </span><span style=\"color: #800000; text-decoration-color: #800000; font-weight: bold\"> No solutions for compound=C257 (comp.reactions.ids=[])!</span>\n",
       "</pre>\n"
      ],
      "text/plain": [
       "\u001b[1;7;31m ERROR \u001b[0m\u001b[1;31m No solutions for compound=C257 (comp.reactions.ids=[])!\u001b[0m\n"
      ]
     },
     "metadata": {},
     "output_type": "display_data"
    },
    {
     "data": {
      "text/html": [
       "<pre style=\"white-space:pre;overflow-x:auto;line-height:normal;font-family:Menlo,'DejaVu Sans Mono',consolas,'Courier New',monospace;margin:0px\"><span style=\"background-color: #800000; font-weight: bold\"> ERROR </span><span style=\"color: #800000; text-decoration-color: #800000; font-weight: bold\"> No solutions for compound=C321 (comp.reactions.ids=[])!</span>\n",
       "</pre>\n"
      ],
      "text/plain": [
       "\u001b[1;7;31m ERROR \u001b[0m\u001b[1;31m No solutions for compound=C321 (comp.reactions.ids=[])!\u001b[0m\n"
      ]
     },
     "metadata": {},
     "output_type": "display_data"
    },
    {
     "data": {
      "text/html": [
       "<pre style=\"white-space:pre;overflow-x:auto;line-height:normal;font-family:Menlo,'DejaVu Sans Mono',consolas,'Courier New',monospace;margin:0px\"><span style=\"background-color: #800000; font-weight: bold\"> ERROR </span><span style=\"color: #800000; text-decoration-color: #800000; font-weight: bold\"> No solutions for compound=C407 (comp.reactions.ids=[])!</span>\n",
       "</pre>\n"
      ],
      "text/plain": [
       "\u001b[1;7;31m ERROR \u001b[0m\u001b[1;31m No solutions for compound=C407 (comp.reactions.ids=[])!\u001b[0m\n"
      ]
     },
     "metadata": {},
     "output_type": "display_data"
    },
    {
     "data": {
      "text/html": [
       "<pre style=\"white-space:pre;overflow-x:auto;line-height:normal;font-family:Menlo,'DejaVu Sans Mono',consolas,'Courier New',monospace;margin:0px\"><span style=\"background-color: #800000; font-weight: bold\"> ERROR </span><span style=\"color: #800000; text-decoration-color: #800000; font-weight: bold\"> No solutions for compound=C469 (comp.reactions.ids=[])!</span>\n",
       "</pre>\n"
      ],
      "text/plain": [
       "\u001b[1;7;31m ERROR \u001b[0m\u001b[1;31m No solutions for compound=C469 (comp.reactions.ids=[])!\u001b[0m\n"
      ]
     },
     "metadata": {},
     "output_type": "display_data"
    },
    {
     "data": {
      "text/html": [
       "<pre style=\"white-space:pre;overflow-x:auto;line-height:normal;font-family:Menlo,'DejaVu Sans Mono',consolas,'Courier New',monospace;margin:0px\"><span style=\"background-color: #800000; font-weight: bold\"> ERROR </span><span style=\"color: #800000; text-decoration-color: #800000; font-weight: bold\"> No solutions for compound=C472 (comp.reactions.ids=[])!</span>\n",
       "</pre>\n"
      ],
      "text/plain": [
       "\u001b[1;7;31m ERROR \u001b[0m\u001b[1;31m No solutions for compound=C472 (comp.reactions.ids=[])!\u001b[0m\n"
      ]
     },
     "metadata": {},
     "output_type": "display_data"
    },
    {
     "data": {
      "text/html": [
       "<pre style=\"white-space:pre;overflow-x:auto;line-height:normal;font-family:Menlo,'DejaVu Sans Mono',consolas,'Courier New',monospace;margin:0px\"><span style=\"background-color: #800000; font-weight: bold\"> ERROR </span><span style=\"color: #800000; text-decoration-color: #800000; font-weight: bold\"> No solutions for compound=C475 (comp.reactions.ids=[])!</span>\n",
       "</pre>\n"
      ],
      "text/plain": [
       "\u001b[1;7;31m ERROR \u001b[0m\u001b[1;31m No solutions for compound=C475 (comp.reactions.ids=[])!\u001b[0m\n"
      ]
     },
     "metadata": {},
     "output_type": "display_data"
    },
    {
     "data": {
      "text/html": [
       "<pre style=\"white-space:pre;overflow-x:auto;line-height:normal;font-family:Menlo,'DejaVu Sans Mono',consolas,'Courier New',monospace;margin:0px\"><span style=\"background-color: #800000; font-weight: bold\"> ERROR </span><span style=\"color: #800000; text-decoration-color: #800000; font-weight: bold\"> No solutions for compound=C477 (comp.reactions.ids=[])!</span>\n",
       "</pre>\n"
      ],
      "text/plain": [
       "\u001b[1;7;31m ERROR \u001b[0m\u001b[1;31m No solutions for compound=C477 (comp.reactions.ids=[])!\u001b[0m\n"
      ]
     },
     "metadata": {},
     "output_type": "display_data"
    },
    {
     "data": {
      "text/html": [
       "<pre style=\"white-space:pre;overflow-x:auto;line-height:normal;font-family:Menlo,'DejaVu Sans Mono',consolas,'Courier New',monospace;margin:0px\"><span style=\"background-color: #800000; font-weight: bold\"> ERROR </span><span style=\"color: #800000; text-decoration-color: #800000; font-weight: bold\"> No solutions for compound=C479 (comp.reactions.ids=[])!</span>\n",
       "</pre>\n"
      ],
      "text/plain": [
       "\u001b[1;7;31m ERROR \u001b[0m\u001b[1;31m No solutions for compound=C479 (comp.reactions.ids=[])!\u001b[0m\n"
      ]
     },
     "metadata": {},
     "output_type": "display_data"
    },
    {
     "data": {
      "text/html": [
       "<pre style=\"white-space:pre;overflow-x:auto;line-height:normal;font-family:Menlo,'DejaVu Sans Mono',consolas,'Courier New',monospace;margin:0px\"><span style=\"background-color: #800000; font-weight: bold\"> ERROR </span><span style=\"color: #800000; text-decoration-color: #800000; font-weight: bold\"> No solutions for compound=C481 (comp.reactions.ids=[])!</span>\n",
       "</pre>\n"
      ],
      "text/plain": [
       "\u001b[1;7;31m ERROR \u001b[0m\u001b[1;31m No solutions for compound=C481 (comp.reactions.ids=[])!\u001b[0m\n"
      ]
     },
     "metadata": {},
     "output_type": "display_data"
    },
    {
     "data": {
      "text/html": [
       "<pre style=\"white-space:pre;overflow-x:auto;line-height:normal;font-family:Menlo,'DejaVu Sans Mono',consolas,'Courier New',monospace;margin:0px\"><span style=\"background-color: #800000; font-weight: bold\"> ERROR </span><span style=\"color: #800000; text-decoration-color: #800000; font-weight: bold\"> No solutions for compound=C485 (comp.reactions.ids=[])!</span>\n",
       "</pre>\n"
      ],
      "text/plain": [
       "\u001b[1;7;31m ERROR \u001b[0m\u001b[1;31m No solutions for compound=C485 (comp.reactions.ids=[])!\u001b[0m\n"
      ]
     },
     "metadata": {},
     "output_type": "display_data"
    },
    {
     "data": {
      "text/html": [
       "<pre style=\"white-space:pre;overflow-x:auto;line-height:normal;font-family:Menlo,'DejaVu Sans Mono',consolas,'Courier New',monospace;margin:0px\"><span style=\"background-color: #800000; font-weight: bold\"> ERROR </span><span style=\"color: #800000; text-decoration-color: #800000; font-weight: bold\"> No solutions for compound=C487 (comp.reactions.ids=[])!</span>\n",
       "</pre>\n"
      ],
      "text/plain": [
       "\u001b[1;7;31m ERROR \u001b[0m\u001b[1;31m No solutions for compound=C487 (comp.reactions.ids=[])!\u001b[0m\n"
      ]
     },
     "metadata": {},
     "output_type": "display_data"
    },
    {
     "data": {
      "text/html": [
       "<pre style=\"white-space:pre;overflow-x:auto;line-height:normal;font-family:Menlo,'DejaVu Sans Mono',consolas,'Courier New',monospace;margin:0px\"><span style=\"background-color: #800000; font-weight: bold\"> ERROR </span><span style=\"color: #800000; text-decoration-color: #800000; font-weight: bold\"> No solutions for compound=C488 (comp.reactions.ids=[])!</span>\n",
       "</pre>\n"
      ],
      "text/plain": [
       "\u001b[1;7;31m ERROR \u001b[0m\u001b[1;31m No solutions for compound=C488 (comp.reactions.ids=[])!\u001b[0m\n"
      ]
     },
     "metadata": {},
     "output_type": "display_data"
    },
    {
     "data": {
      "text/html": [
       "<pre style=\"white-space:pre;overflow-x:auto;line-height:normal;font-family:Menlo,'DejaVu Sans Mono',consolas,'Courier New',monospace;margin:0px\"><span style=\"background-color: #800000; font-weight: bold\"> ERROR </span><span style=\"color: #800000; text-decoration-color: #800000; font-weight: bold\"> No solutions for compound=C491 (comp.reactions.ids=[])!</span>\n",
       "</pre>\n"
      ],
      "text/plain": [
       "\u001b[1;7;31m ERROR \u001b[0m\u001b[1;31m No solutions for compound=C491 (comp.reactions.ids=[])!\u001b[0m\n"
      ]
     },
     "metadata": {},
     "output_type": "display_data"
    },
    {
     "data": {
      "text/html": [
       "<pre style=\"white-space:pre;overflow-x:auto;line-height:normal;font-family:Menlo,'DejaVu Sans Mono',consolas,'Courier New',monospace;margin:0px\"><span style=\"background-color: #800000; font-weight: bold\"> ERROR </span><span style=\"color: #800000; text-decoration-color: #800000; font-weight: bold\"> No solutions for compound=C492 (comp.reactions.ids=[])!</span>\n",
       "</pre>\n"
      ],
      "text/plain": [
       "\u001b[1;7;31m ERROR \u001b[0m\u001b[1;31m No solutions for compound=C492 (comp.reactions.ids=[])!\u001b[0m\n"
      ]
     },
     "metadata": {},
     "output_type": "display_data"
    },
    {
     "data": {
      "text/html": [
       "<pre style=\"white-space:pre;overflow-x:auto;line-height:normal;font-family:Menlo,'DejaVu Sans Mono',consolas,'Courier New',monospace;margin:0px\"><span style=\"background-color: #800000; font-weight: bold\"> ERROR </span><span style=\"color: #800000; text-decoration-color: #800000; font-weight: bold\"> No solutions for compound=C493 (comp.reactions.ids=[])!</span>\n",
       "</pre>\n"
      ],
      "text/plain": [
       "\u001b[1;7;31m ERROR \u001b[0m\u001b[1;31m No solutions for compound=C493 (comp.reactions.ids=[])!\u001b[0m\n"
      ]
     },
     "metadata": {},
     "output_type": "display_data"
    },
    {
     "data": {
      "text/html": [
       "<pre style=\"white-space:pre;overflow-x:auto;line-height:normal;font-family:Menlo,'DejaVu Sans Mono',consolas,'Courier New',monospace;margin:0px\"><span style=\"background-color: #800000; font-weight: bold\"> ERROR </span><span style=\"color: #800000; text-decoration-color: #800000; font-weight: bold\"> No solutions for compound=C494 (comp.reactions.ids=[])!</span>\n",
       "</pre>\n"
      ],
      "text/plain": [
       "\u001b[1;7;31m ERROR \u001b[0m\u001b[1;31m No solutions for compound=C494 (comp.reactions.ids=[])!\u001b[0m\n"
      ]
     },
     "metadata": {},
     "output_type": "display_data"
    },
    {
     "data": {
      "text/html": [
       "<pre style=\"white-space:pre;overflow-x:auto;line-height:normal;font-family:Menlo,'DejaVu Sans Mono',consolas,'Courier New',monospace;margin:0px\"><span style=\"background-color: #800000; font-weight: bold\"> ERROR </span><span style=\"color: #800000; text-decoration-color: #800000; font-weight: bold\"> No solutions for compound=C495 (comp.reactions.ids=[])!</span>\n",
       "</pre>\n"
      ],
      "text/plain": [
       "\u001b[1;7;31m ERROR \u001b[0m\u001b[1;31m No solutions for compound=C495 (comp.reactions.ids=[])!\u001b[0m\n"
      ]
     },
     "metadata": {},
     "output_type": "display_data"
    },
    {
     "data": {
      "text/html": [
       "<pre style=\"white-space:pre;overflow-x:auto;line-height:normal;font-family:Menlo,'DejaVu Sans Mono',consolas,'Courier New',monospace;margin:0px\"><span style=\"background-color: #800000; font-weight: bold\"> ERROR </span><span style=\"color: #800000; text-decoration-color: #800000; font-weight: bold\"> No solutions for compound=C497 (comp.reactions.ids=[])!</span>\n",
       "</pre>\n"
      ],
      "text/plain": [
       "\u001b[1;7;31m ERROR \u001b[0m\u001b[1;31m No solutions for compound=C497 (comp.reactions.ids=[])!\u001b[0m\n"
      ]
     },
     "metadata": {},
     "output_type": "display_data"
    },
    {
     "data": {
      "text/html": [
       "<pre style=\"white-space:pre;overflow-x:auto;line-height:normal;font-family:Menlo,'DejaVu Sans Mono',consolas,'Courier New',monospace;margin:0px\"><span style=\"background-color: #800000; font-weight: bold\"> ERROR </span><span style=\"color: #800000; text-decoration-color: #800000; font-weight: bold\"> No solutions for compound=C498 (comp.reactions.ids=[])!</span>\n",
       "</pre>\n"
      ],
      "text/plain": [
       "\u001b[1;7;31m ERROR \u001b[0m\u001b[1;31m No solutions for compound=C498 (comp.reactions.ids=[])!\u001b[0m\n"
      ]
     },
     "metadata": {},
     "output_type": "display_data"
    },
    {
     "data": {
      "text/html": [
       "<pre style=\"white-space:pre;overflow-x:auto;line-height:normal;font-family:Menlo,'DejaVu Sans Mono',consolas,'Courier New',monospace;margin:0px\"><span style=\"background-color: #800000; font-weight: bold\"> ERROR </span><span style=\"color: #800000; text-decoration-color: #800000; font-weight: bold\"> No solutions for compound=C499 (comp.reactions.ids=[])!</span>\n",
       "</pre>\n"
      ],
      "text/plain": [
       "\u001b[1;7;31m ERROR \u001b[0m\u001b[1;31m No solutions for compound=C499 (comp.reactions.ids=[])!\u001b[0m\n"
      ]
     },
     "metadata": {},
     "output_type": "display_data"
    },
    {
     "data": {
      "text/html": [
       "<pre style=\"white-space:pre;overflow-x:auto;line-height:normal;font-family:Menlo,'DejaVu Sans Mono',consolas,'Courier New',monospace;margin:0px\"><span style=\"background-color: #800000; font-weight: bold\"> ERROR </span><span style=\"color: #800000; text-decoration-color: #800000; font-weight: bold\"> No solutions for compound=C500 (comp.reactions.ids=[])!</span>\n",
       "</pre>\n"
      ],
      "text/plain": [
       "\u001b[1;7;31m ERROR \u001b[0m\u001b[1;31m No solutions for compound=C500 (comp.reactions.ids=[])!\u001b[0m\n"
      ]
     },
     "metadata": {},
     "output_type": "display_data"
    },
    {
     "data": {
      "text/html": [
       "<pre style=\"white-space:pre;overflow-x:auto;line-height:normal;font-family:Menlo,'DejaVu Sans Mono',consolas,'Courier New',monospace;margin:0px\"><span style=\"background-color: #800000; font-weight: bold\"> ERROR </span><span style=\"color: #800000; text-decoration-color: #800000; font-weight: bold\"> No solutions for compound=C501 (comp.reactions.ids=[])!</span>\n",
       "</pre>\n"
      ],
      "text/plain": [
       "\u001b[1;7;31m ERROR \u001b[0m\u001b[1;31m No solutions for compound=C501 (comp.reactions.ids=[])!\u001b[0m\n"
      ]
     },
     "metadata": {},
     "output_type": "display_data"
    },
    {
     "data": {
      "text/html": [
       "<pre style=\"white-space:pre;overflow-x:auto;line-height:normal;font-family:Menlo,'DejaVu Sans Mono',consolas,'Courier New',monospace;margin:0px\"><span style=\"background-color: #800000; font-weight: bold\"> ERROR </span><span style=\"color: #800000; text-decoration-color: #800000; font-weight: bold\"> No solutions for compound=C707 (comp.reactions.ids=[])!</span>\n",
       "</pre>\n"
      ],
      "text/plain": [
       "\u001b[1;7;31m ERROR \u001b[0m\u001b[1;31m No solutions for compound=C707 (comp.reactions.ids=[])!\u001b[0m\n"
      ]
     },
     "metadata": {},
     "output_type": "display_data"
    },
    {
     "data": {
      "text/html": [
       "<pre style=\"white-space:pre;overflow-x:auto;line-height:normal;font-family:Menlo,'DejaVu Sans Mono',consolas,'Courier New',monospace;margin:0px\"><span style=\"background-color: #800000; font-weight: bold\"> ERROR </span><span style=\"color: #800000; text-decoration-color: #800000; font-weight: bold\"> No solutions for compound=C759 (comp.reactions.ids=[])!</span>\n",
       "</pre>\n"
      ],
      "text/plain": [
       "\u001b[1;7;31m ERROR \u001b[0m\u001b[1;31m No solutions for compound=C759 (comp.reactions.ids=[])!\u001b[0m\n"
      ]
     },
     "metadata": {},
     "output_type": "display_data"
    },
    {
     "data": {
      "text/html": [
       "<pre style=\"white-space:pre;overflow-x:auto;line-height:normal;font-family:Menlo,'DejaVu Sans Mono',consolas,'Courier New',monospace;margin:0px\"><span style=\"background-color: #800000; font-weight: bold\"> ERROR </span><span style=\"color: #800000; text-decoration-color: #800000; font-weight: bold\"> No solutions for compound=C824 (comp.reactions.ids=[])!</span>\n",
       "</pre>\n"
      ],
      "text/plain": [
       "\u001b[1;7;31m ERROR \u001b[0m\u001b[1;31m No solutions for compound=C824 (comp.reactions.ids=[])!\u001b[0m\n"
      ]
     },
     "metadata": {},
     "output_type": "display_data"
    },
    {
     "data": {
      "text/html": [
       "<pre style=\"white-space:pre;overflow-x:auto;line-height:normal;font-family:Menlo,'DejaVu Sans Mono',consolas,'Courier New',monospace;margin:0px\"><span style=\"background-color: #800000; font-weight: bold\"> ERROR </span><span style=\"color: #800000; text-decoration-color: #800000; font-weight: bold\"> No solutions for compound=C839 (comp.reactions.ids=[])!</span>\n",
       "</pre>\n"
      ],
      "text/plain": [
       "\u001b[1;7;31m ERROR \u001b[0m\u001b[1;31m No solutions for compound=C839 (comp.reactions.ids=[])!\u001b[0m\n"
      ]
     },
     "metadata": {},
     "output_type": "display_data"
    },
    {
     "data": {
      "text/html": [
       "<pre style=\"white-space:pre;overflow-x:auto;line-height:normal;font-family:Menlo,'DejaVu Sans Mono',consolas,'Courier New',monospace;margin:0px\"><span style=\"background-color: #800000; font-weight: bold\"> ERROR </span><span style=\"color: #800000; text-decoration-color: #800000; font-weight: bold\"> No solutions for compound=C841 (comp.reactions.ids=[])!</span>\n",
       "</pre>\n"
      ],
      "text/plain": [
       "\u001b[1;7;31m ERROR \u001b[0m\u001b[1;31m No solutions for compound=C841 (comp.reactions.ids=[])!\u001b[0m\n"
      ]
     },
     "metadata": {},
     "output_type": "display_data"
    },
    {
     "data": {
      "text/html": [
       "<pre style=\"white-space:pre;overflow-x:auto;line-height:normal;font-family:Menlo,'DejaVu Sans Mono',consolas,'Courier New',monospace;margin:0px\"><span style=\"background-color: #800000; font-weight: bold\"> ERROR </span><span style=\"color: #800000; text-decoration-color: #800000; font-weight: bold\"> No solutions for compound=C898 (comp.reactions.ids=[])!</span>\n",
       "</pre>\n"
      ],
      "text/plain": [
       "\u001b[1;7;31m ERROR \u001b[0m\u001b[1;31m No solutions for compound=C898 (comp.reactions.ids=[])!\u001b[0m\n"
      ]
     },
     "metadata": {},
     "output_type": "display_data"
    },
    {
     "data": {
      "text/html": [
       "<pre style=\"white-space:pre;overflow-x:auto;line-height:normal;font-family:Menlo,'DejaVu Sans Mono',consolas,'Courier New',monospace;margin:0px\"><span style=\"background-color: #800000; font-weight: bold\"> ERROR </span><span style=\"color: #800000; text-decoration-color: #800000; font-weight: bold\"> No solutions for compound=C900 (comp.reactions.ids=[])!</span>\n",
       "</pre>\n"
      ],
      "text/plain": [
       "\u001b[1;7;31m ERROR \u001b[0m\u001b[1;31m No solutions for compound=C900 (comp.reactions.ids=[])!\u001b[0m\n"
      ]
     },
     "metadata": {},
     "output_type": "display_data"
    },
    {
     "data": {
      "text/html": [
       "<pre style=\"white-space:pre;overflow-x:auto;line-height:normal;font-family:Menlo,'DejaVu Sans Mono',consolas,'Courier New',monospace;margin:0px\"><span style=\"background-color: #800000; font-weight: bold\"> ERROR </span><span style=\"color: #800000; text-decoration-color: #800000; font-weight: bold\"> No solutions for compound=C933 (comp.reactions.ids=[])!</span>\n",
       "</pre>\n"
      ],
      "text/plain": [
       "\u001b[1;7;31m ERROR \u001b[0m\u001b[1;31m No solutions for compound=C933 (comp.reactions.ids=[])!\u001b[0m\n"
      ]
     },
     "metadata": {},
     "output_type": "display_data"
    },
    {
     "data": {
      "text/html": [
       "<pre style=\"white-space:pre;overflow-x:auto;line-height:normal;font-family:Menlo,'DejaVu Sans Mono',consolas,'Courier New',monospace;margin:0px\"><span style=\"background-color: #800000; font-weight: bold\"> ERROR </span><span style=\"color: #800000; text-decoration-color: #800000; font-weight: bold\"> No solutions for compound=C962 (comp.reactions.ids=[])!</span>\n",
       "</pre>\n"
      ],
      "text/plain": [
       "\u001b[1;7;31m ERROR \u001b[0m\u001b[1;31m No solutions for compound=C962 (comp.reactions.ids=[])!\u001b[0m\n"
      ]
     },
     "metadata": {},
     "output_type": "display_data"
    },
    {
     "data": {
      "text/html": [
       "<pre style=\"white-space:pre;overflow-x:auto;line-height:normal;font-family:Menlo,'DejaVu Sans Mono',consolas,'Courier New',monospace;margin:0px\"><span style=\"background-color: #800000; font-weight: bold\"> ERROR </span><span style=\"color: #800000; text-decoration-color: #800000; font-weight: bold\"> No solutions for compound=C1033 (comp.reactions.ids=[])!</span>\n",
       "</pre>\n"
      ],
      "text/plain": [
       "\u001b[1;7;31m ERROR \u001b[0m\u001b[1;31m No solutions for compound=C1033 (comp.reactions.ids=[])!\u001b[0m\n"
      ]
     },
     "metadata": {},
     "output_type": "display_data"
    },
    {
     "data": {
      "text/html": [
       "<pre style=\"white-space:pre;overflow-x:auto;line-height:normal;font-family:Menlo,'DejaVu Sans Mono',consolas,'Courier New',monospace;margin:0px\"><span style=\"background-color: #800000; font-weight: bold\"> ERROR </span><span style=\"color: #800000; text-decoration-color: #800000; font-weight: bold\"> No solutions for compound=C1043 (comp.reactions.ids=[])!</span>\n",
       "</pre>\n"
      ],
      "text/plain": [
       "\u001b[1;7;31m ERROR \u001b[0m\u001b[1;31m No solutions for compound=C1043 (comp.reactions.ids=[])!\u001b[0m\n"
      ]
     },
     "metadata": {},
     "output_type": "display_data"
    },
    {
     "data": {
      "text/html": [
       "<pre style=\"white-space:pre;overflow-x:auto;line-height:normal;font-family:Menlo,'DejaVu Sans Mono',consolas,'Courier New',monospace;margin:0px\"><span style=\"background-color: #800000; font-weight: bold\"> ERROR </span><span style=\"color: #800000; text-decoration-color: #800000; font-weight: bold\"> No solutions for compound=C1097 (comp.reactions.ids=[])!</span>\n",
       "</pre>\n"
      ],
      "text/plain": [
       "\u001b[1;7;31m ERROR \u001b[0m\u001b[1;31m No solutions for compound=C1097 (comp.reactions.ids=[])!\u001b[0m\n"
      ]
     },
     "metadata": {},
     "output_type": "display_data"
    },
    {
     "data": {
      "text/html": [
       "<pre style=\"white-space:pre;overflow-x:auto;line-height:normal;font-family:Menlo,'DejaVu Sans Mono',consolas,'Courier New',monospace;margin:0px\"><span style=\"background-color: #800000; font-weight: bold\"> ERROR </span><span style=\"color: #800000; text-decoration-color: #800000; font-weight: bold\"> No solutions for compound=C1098 (comp.reactions.ids=[])!</span>\n",
       "</pre>\n"
      ],
      "text/plain": [
       "\u001b[1;7;31m ERROR \u001b[0m\u001b[1;31m No solutions for compound=C1098 (comp.reactions.ids=[])!\u001b[0m\n"
      ]
     },
     "metadata": {},
     "output_type": "display_data"
    },
    {
     "data": {
      "text/html": [
       "<pre style=\"white-space:pre;overflow-x:auto;line-height:normal;font-family:Menlo,'DejaVu Sans Mono',consolas,'Courier New',monospace;margin:0px\"><span style=\"background-color: #800000; font-weight: bold\"> ERROR </span><span style=\"color: #800000; text-decoration-color: #800000; font-weight: bold\"> No solutions for compound=C1100 (comp.reactions.ids=[])!</span>\n",
       "</pre>\n"
      ],
      "text/plain": [
       "\u001b[1;7;31m ERROR \u001b[0m\u001b[1;31m No solutions for compound=C1100 (comp.reactions.ids=[])!\u001b[0m\n"
      ]
     },
     "metadata": {},
     "output_type": "display_data"
    },
    {
     "data": {
      "text/html": [
       "<pre style=\"white-space:pre;overflow-x:auto;line-height:normal;font-family:Menlo,'DejaVu Sans Mono',consolas,'Courier New',monospace;margin:0px\"><span style=\"background-color: #800000; font-weight: bold\"> ERROR </span><span style=\"color: #800000; text-decoration-color: #800000; font-weight: bold\"> No solutions for compound=C1101 (comp.reactions.ids=[])!</span>\n",
       "</pre>\n"
      ],
      "text/plain": [
       "\u001b[1;7;31m ERROR \u001b[0m\u001b[1;31m No solutions for compound=C1101 (comp.reactions.ids=[])!\u001b[0m\n"
      ]
     },
     "metadata": {},
     "output_type": "display_data"
    },
    {
     "data": {
      "text/html": [
       "<pre style=\"white-space:pre;overflow-x:auto;line-height:normal;font-family:Menlo,'DejaVu Sans Mono',consolas,'Courier New',monospace;margin:0px\"><span style=\"background-color: #800000; font-weight: bold\"> ERROR </span><span style=\"color: #800000; text-decoration-color: #800000; font-weight: bold\"> No solutions for compound=C1121 (comp.reactions.ids=[])!</span>\n",
       "</pre>\n"
      ],
      "text/plain": [
       "\u001b[1;7;31m ERROR \u001b[0m\u001b[1;31m No solutions for compound=C1121 (comp.reactions.ids=[])!\u001b[0m\n"
      ]
     },
     "metadata": {},
     "output_type": "display_data"
    },
    {
     "data": {
      "text/html": [
       "<pre style=\"white-space:pre;overflow-x:auto;line-height:normal;font-family:Menlo,'DejaVu Sans Mono',consolas,'Courier New',monospace;margin:0px\"><span style=\"background-color: #800000; font-weight: bold\"> ERROR </span><span style=\"color: #800000; text-decoration-color: #800000; font-weight: bold\"> No solutions for compound=C1122 (comp.reactions.ids=[])!</span>\n",
       "</pre>\n"
      ],
      "text/plain": [
       "\u001b[1;7;31m ERROR \u001b[0m\u001b[1;31m No solutions for compound=C1122 (comp.reactions.ids=[])!\u001b[0m\n"
      ]
     },
     "metadata": {},
     "output_type": "display_data"
    },
    {
     "data": {
      "text/html": [
       "<pre style=\"white-space:pre;overflow-x:auto;line-height:normal;font-family:Menlo,'DejaVu Sans Mono',consolas,'Courier New',monospace;margin:0px\"><span style=\"background-color: #800000; font-weight: bold\"> ERROR </span><span style=\"color: #800000; text-decoration-color: #800000; font-weight: bold\"> No solutions for compound=C1125 (comp.reactions.ids=[])!</span>\n",
       "</pre>\n"
      ],
      "text/plain": [
       "\u001b[1;7;31m ERROR \u001b[0m\u001b[1;31m No solutions for compound=C1125 (comp.reactions.ids=[])!\u001b[0m\n"
      ]
     },
     "metadata": {},
     "output_type": "display_data"
    },
    {
     "data": {
      "text/html": [
       "<pre style=\"white-space:pre;overflow-x:auto;line-height:normal;font-family:Menlo,'DejaVu Sans Mono',consolas,'Courier New',monospace;margin:0px\"><span style=\"background-color: #800000; font-weight: bold\"> ERROR </span><span style=\"color: #800000; text-decoration-color: #800000; font-weight: bold\"> No solutions for compound=C1280 (comp.reactions.ids=[])!</span>\n",
       "</pre>\n"
      ],
      "text/plain": [
       "\u001b[1;7;31m ERROR \u001b[0m\u001b[1;31m No solutions for compound=C1280 (comp.reactions.ids=[])!\u001b[0m\n"
      ]
     },
     "metadata": {},
     "output_type": "display_data"
    },
    {
     "data": {
      "text/html": [
       "<pre style=\"white-space:pre;overflow-x:auto;line-height:normal;font-family:Menlo,'DejaVu Sans Mono',consolas,'Courier New',monospace;margin:0px\"><span style=\"background-color: #800000; font-weight: bold\"> ERROR </span><span style=\"color: #800000; text-decoration-color: #800000; font-weight: bold\"> No solutions for compound=C1708 (comp.reactions.ids=[])!</span>\n",
       "</pre>\n"
      ],
      "text/plain": [
       "\u001b[1;7;31m ERROR \u001b[0m\u001b[1;31m No solutions for compound=C1708 (comp.reactions.ids=[])!\u001b[0m\n"
      ]
     },
     "metadata": {},
     "output_type": "display_data"
    },
    {
     "data": {
      "text/html": [
       "<pre style=\"white-space:pre;overflow-x:auto;line-height:normal;font-family:Menlo,'DejaVu Sans Mono',consolas,'Courier New',monospace;margin:0px\"><span style=\"background-color: #800000; font-weight: bold\"> ERROR </span><span style=\"color: #800000; text-decoration-color: #800000; font-weight: bold\"> No solutions for compound=C1770 (comp.reactions.ids=[])!</span>\n",
       "</pre>\n"
      ],
      "text/plain": [
       "\u001b[1;7;31m ERROR \u001b[0m\u001b[1;31m No solutions for compound=C1770 (comp.reactions.ids=[])!\u001b[0m\n"
      ]
     },
     "metadata": {},
     "output_type": "display_data"
    },
    {
     "data": {
      "text/html": [
       "<pre style=\"white-space:pre;overflow-x:auto;line-height:normal;font-family:Menlo,'DejaVu Sans Mono',consolas,'Courier New',monospace;margin:0px\"><span style=\"background-color: #800000; font-weight: bold\"> ERROR </span><span style=\"color: #800000; text-decoration-color: #800000; font-weight: bold\"> No solutions for compound=C1811 (comp.reactions.ids=[])!</span>\n",
       "</pre>\n"
      ],
      "text/plain": [
       "\u001b[1;7;31m ERROR \u001b[0m\u001b[1;31m No solutions for compound=C1811 (comp.reactions.ids=[])!\u001b[0m\n"
      ]
     },
     "metadata": {},
     "output_type": "display_data"
    },
    {
     "data": {
      "text/html": [
       "<pre style=\"white-space:pre;overflow-x:auto;line-height:normal;font-family:Menlo,'DejaVu Sans Mono',consolas,'Courier New',monospace;margin:0px\"><span style=\"background-color: #008000; font-weight: bold\"> Success </span><span style=\"color: #008000; text-decoration-color: #008000; font-weight: bold\"> Found solution for compound=C2022!</span>\n",
       "</pre>\n"
      ],
      "text/plain": [
       "\u001b[1;7;32m Success \u001b[0m\u001b[1;32m Found solution for compound=C2022!\u001b[0m\n"
      ]
     },
     "metadata": {},
     "output_type": "display_data"
    },
    {
     "data": {
      "text/html": [
       "<pre style=\"white-space:pre;overflow-x:auto;line-height:normal;font-family:Menlo,'DejaVu Sans Mono',consolas,'Courier New',monospace;margin:0px\"><span style=\"background-color: #800000; font-weight: bold\"> ERROR </span><span style=\"color: #800000; text-decoration-color: #800000; font-weight: bold\"> No solutions for compound=C2074 (comp.reactions.ids=[])!</span>\n",
       "</pre>\n"
      ],
      "text/plain": [
       "\u001b[1;7;31m ERROR \u001b[0m\u001b[1;31m No solutions for compound=C2074 (comp.reactions.ids=[])!\u001b[0m\n"
      ]
     },
     "metadata": {},
     "output_type": "display_data"
    },
    {
     "data": {
      "text/html": [
       "<pre style=\"white-space:pre;overflow-x:auto;line-height:normal;font-family:Menlo,'DejaVu Sans Mono',consolas,'Courier New',monospace;margin:0px\"><span style=\"background-color: #800000; font-weight: bold\"> ERROR </span><span style=\"color: #800000; text-decoration-color: #800000; font-weight: bold\"> No solutions for compound=C2096 (comp.reactions.ids=[])!</span>\n",
       "</pre>\n"
      ],
      "text/plain": [
       "\u001b[1;7;31m ERROR \u001b[0m\u001b[1;31m No solutions for compound=C2096 (comp.reactions.ids=[])!\u001b[0m\n"
      ]
     },
     "metadata": {},
     "output_type": "display_data"
    },
    {
     "data": {
      "text/html": [
       "<pre style=\"white-space:pre;overflow-x:auto;line-height:normal;font-family:Menlo,'DejaVu Sans Mono',consolas,'Courier New',monospace;margin:0px\"><span style=\"background-color: #008000; font-weight: bold\"> Success </span><span style=\"color: #008000; text-decoration-color: #008000; font-weight: bold\"> Found solution for compound=C2134!</span>\n",
       "</pre>\n"
      ],
      "text/plain": [
       "\u001b[1;7;32m Success \u001b[0m\u001b[1;32m Found solution for compound=C2134!\u001b[0m\n"
      ]
     },
     "metadata": {},
     "output_type": "display_data"
    },
    {
     "data": {
      "text/html": [
       "<pre style=\"white-space:pre;overflow-x:auto;line-height:normal;font-family:Menlo,'DejaVu Sans Mono',consolas,'Courier New',monospace;margin:0px\"><span style=\"background-color: #800000; font-weight: bold\"> ERROR </span><span style=\"color: #800000; text-decoration-color: #800000; font-weight: bold\"> No solutions for compound=C2138 (comp.reactions.ids=[])!</span>\n",
       "</pre>\n"
      ],
      "text/plain": [
       "\u001b[1;7;31m ERROR \u001b[0m\u001b[1;31m No solutions for compound=C2138 (comp.reactions.ids=[])!\u001b[0m\n"
      ]
     },
     "metadata": {},
     "output_type": "display_data"
    },
    {
     "data": {
      "text/html": [
       "<pre style=\"white-space:pre;overflow-x:auto;line-height:normal;font-family:Menlo,'DejaVu Sans Mono',consolas,'Courier New',monospace;margin:0px\"><span style=\"background-color: #800000; font-weight: bold\"> ERROR </span><span style=\"color: #800000; text-decoration-color: #800000; font-weight: bold\"> No solutions for compound=C2702 (comp.reactions.ids=[])!</span>\n",
       "</pre>\n"
      ],
      "text/plain": [
       "\u001b[1;7;31m ERROR \u001b[0m\u001b[1;31m No solutions for compound=C2702 (comp.reactions.ids=[])!\u001b[0m\n"
      ]
     },
     "metadata": {},
     "output_type": "display_data"
    },
    {
     "data": {
      "text/html": [
       "<pre style=\"white-space:pre;overflow-x:auto;line-height:normal;font-family:Menlo,'DejaVu Sans Mono',consolas,'Courier New',monospace;margin:0px\"><span style=\"background-color: #800000; font-weight: bold\"> ERROR </span><span style=\"color: #800000; text-decoration-color: #800000; font-weight: bold\"> Reactants not available for reaction=\u001b[1m\u001b[4mR34000: C47757 + C49341 -&gt; C2712 via </span>\n",
       "<span style=\"color: #800000; text-decoration-color: #800000; font-weight: bold\">Buchwald-Hartwig_amidation_with_amide-like_nucleophile\u001b[22m\u001b[24m!</span>\n",
       "</pre>\n"
      ],
      "text/plain": [
       "\u001b[1;7;31m ERROR \u001b[0m\u001b[1;31m Reactants not available for reaction=\u001b[1m\u001b[4mR34000: C47757 + C49341 -> C2712 via \u001b[0m\n",
       "\u001b[1;31mBuchwald-Hartwig_amidation_with_amide-like_nucleophile\u001b[22m\u001b[24m!\u001b[0m\n"
      ]
     },
     "metadata": {},
     "output_type": "display_data"
    },
    {
     "data": {
      "text/html": [
       "<pre style=\"white-space:pre;overflow-x:auto;line-height:normal;font-family:Menlo,'DejaVu Sans Mono',consolas,'Courier New',monospace;margin:0px\"><span style=\"background-color: #800000; font-weight: bold\"> ERROR </span><span style=\"color: #800000; text-decoration-color: #800000; font-weight: bold\"> No solutions for compound=C2712 (comp.reactions.ids=[34000])!</span>\n",
       "</pre>\n"
      ],
      "text/plain": [
       "\u001b[1;7;31m ERROR \u001b[0m\u001b[1;31m No solutions for compound=C2712 (comp.reactions.ids=[34000])!\u001b[0m\n"
      ]
     },
     "metadata": {},
     "output_type": "display_data"
    },
    {
     "data": {
      "text/html": [
       "<pre style=\"white-space:pre;overflow-x:auto;line-height:normal;font-family:Menlo,'DejaVu Sans Mono',consolas,'Courier New',monospace;margin:0px\"><span style=\"background-color: #800000; font-weight: bold\"> ERROR </span><span style=\"color: #800000; text-decoration-color: #800000; font-weight: bold\"> No solutions for compound=C2742 (comp.reactions.ids=[])!</span>\n",
       "</pre>\n"
      ],
      "text/plain": [
       "\u001b[1;7;31m ERROR \u001b[0m\u001b[1;31m No solutions for compound=C2742 (comp.reactions.ids=[])!\u001b[0m\n"
      ]
     },
     "metadata": {},
     "output_type": "display_data"
    },
    {
     "data": {
      "text/html": [
       "<pre style=\"white-space:pre;overflow-x:auto;line-height:normal;font-family:Menlo,'DejaVu Sans Mono',consolas,'Courier New',monospace;margin:0px\"><span style=\"background-color: #008000; font-weight: bold\"> Success </span><span style=\"color: #008000; text-decoration-color: #008000; font-weight: bold\"> Found solution for compound=C2845!</span>\n",
       "</pre>\n"
      ],
      "text/plain": [
       "\u001b[1;7;32m Success \u001b[0m\u001b[1;32m Found solution for compound=C2845!\u001b[0m\n"
      ]
     },
     "metadata": {},
     "output_type": "display_data"
    },
    {
     "data": {
      "text/html": [
       "<pre style=\"white-space:pre;overflow-x:auto;line-height:normal;font-family:Menlo,'DejaVu Sans Mono',consolas,'Courier New',monospace;margin:0px\"><span style=\"background-color: #800000; font-weight: bold\"> ERROR </span><span style=\"color: #800000; text-decoration-color: #800000; font-weight: bold\"> No solutions for compound=C3182 (comp.reactions.ids=[])!</span>\n",
       "</pre>\n"
      ],
      "text/plain": [
       "\u001b[1;7;31m ERROR \u001b[0m\u001b[1;31m No solutions for compound=C3182 (comp.reactions.ids=[])!\u001b[0m\n"
      ]
     },
     "metadata": {},
     "output_type": "display_data"
    },
    {
     "data": {
      "text/html": [
       "<pre style=\"white-space:pre;overflow-x:auto;line-height:normal;font-family:Menlo,'DejaVu Sans Mono',consolas,'Courier New',monospace;margin:0px\"><span style=\"background-color: #800000; font-weight: bold\"> ERROR </span><span style=\"color: #800000; text-decoration-color: #800000; font-weight: bold\"> No solutions for compound=C3183 (comp.reactions.ids=[])!</span>\n",
       "</pre>\n"
      ],
      "text/plain": [
       "\u001b[1;7;31m ERROR \u001b[0m\u001b[1;31m No solutions for compound=C3183 (comp.reactions.ids=[])!\u001b[0m\n"
      ]
     },
     "metadata": {},
     "output_type": "display_data"
    },
    {
     "data": {
      "text/html": [
       "<pre style=\"white-space:pre;overflow-x:auto;line-height:normal;font-family:Menlo,'DejaVu Sans Mono',consolas,'Courier New',monospace;margin:0px\"><span style=\"background-color: #800000; font-weight: bold\"> ERROR </span><span style=\"color: #800000; text-decoration-color: #800000; font-weight: bold\"> No solutions for compound=C3209 (comp.reactions.ids=[])!</span>\n",
       "</pre>\n"
      ],
      "text/plain": [
       "\u001b[1;7;31m ERROR \u001b[0m\u001b[1;31m No solutions for compound=C3209 (comp.reactions.ids=[])!\u001b[0m\n"
      ]
     },
     "metadata": {},
     "output_type": "display_data"
    },
    {
     "data": {
      "text/html": [
       "<pre style=\"white-space:pre;overflow-x:auto;line-height:normal;font-family:Menlo,'DejaVu Sans Mono',consolas,'Courier New',monospace;margin:0px\"><span style=\"background-color: #008000; font-weight: bold\"> Success </span><span style=\"color: #008000; text-decoration-color: #008000; font-weight: bold\"> Found solution for compound=C3233!</span>\n",
       "</pre>\n"
      ],
      "text/plain": [
       "\u001b[1;7;32m Success \u001b[0m\u001b[1;32m Found solution for compound=C3233!\u001b[0m\n"
      ]
     },
     "metadata": {},
     "output_type": "display_data"
    },
    {
     "data": {
      "text/html": [
       "<pre style=\"white-space:pre;overflow-x:auto;line-height:normal;font-family:Menlo,'DejaVu Sans Mono',consolas,'Courier New',monospace;margin:0px\"><span style=\"background-color: #800000; font-weight: bold\"> ERROR </span><span style=\"color: #800000; text-decoration-color: #800000; font-weight: bold\"> No solutions for compound=C3251 (comp.reactions.ids=[])!</span>\n",
       "</pre>\n"
      ],
      "text/plain": [
       "\u001b[1;7;31m ERROR \u001b[0m\u001b[1;31m No solutions for compound=C3251 (comp.reactions.ids=[])!\u001b[0m\n"
      ]
     },
     "metadata": {},
     "output_type": "display_data"
    },
    {
     "data": {
      "text/html": [
       "<pre style=\"white-space:pre;overflow-x:auto;line-height:normal;font-family:Menlo,'DejaVu Sans Mono',consolas,'Courier New',monospace;margin:0px\"><span style=\"background-color: #008000; font-weight: bold\"> Success </span><span style=\"color: #008000; text-decoration-color: #008000; font-weight: bold\"> Found solution for compound=C3254!</span>\n",
       "</pre>\n"
      ],
      "text/plain": [
       "\u001b[1;7;32m Success \u001b[0m\u001b[1;32m Found solution for compound=C3254!\u001b[0m\n"
      ]
     },
     "metadata": {},
     "output_type": "display_data"
    },
    {
     "data": {
      "text/html": [
       "<pre style=\"white-space:pre;overflow-x:auto;line-height:normal;font-family:Menlo,'DejaVu Sans Mono',consolas,'Courier New',monospace;margin:0px\"><span style=\"background-color: #008000; font-weight: bold\"> Success </span><span style=\"color: #008000; text-decoration-color: #008000; font-weight: bold\"> Found solution for compound=C3264!</span>\n",
       "</pre>\n"
      ],
      "text/plain": [
       "\u001b[1;7;32m Success \u001b[0m\u001b[1;32m Found solution for compound=C3264!\u001b[0m\n"
      ]
     },
     "metadata": {},
     "output_type": "display_data"
    },
    {
     "data": {
      "text/html": [
       "<pre style=\"white-space:pre;overflow-x:auto;line-height:normal;font-family:Menlo,'DejaVu Sans Mono',consolas,'Courier New',monospace;margin:0px\"><span style=\"background-color: #800000; font-weight: bold\"> ERROR </span><span style=\"color: #800000; text-decoration-color: #800000; font-weight: bold\"> No solutions for compound=C3324 (comp.reactions.ids=[])!</span>\n",
       "</pre>\n"
      ],
      "text/plain": [
       "\u001b[1;7;31m ERROR \u001b[0m\u001b[1;31m No solutions for compound=C3324 (comp.reactions.ids=[])!\u001b[0m\n"
      ]
     },
     "metadata": {},
     "output_type": "display_data"
    },
    {
     "data": {
      "text/html": [
       "<pre style=\"white-space:pre;overflow-x:auto;line-height:normal;font-family:Menlo,'DejaVu Sans Mono',consolas,'Courier New',monospace;margin:0px\"><span style=\"background-color: #008000; font-weight: bold\"> Success </span><span style=\"color: #008000; text-decoration-color: #008000; font-weight: bold\"> Found solution for compound=C3360!</span>\n",
       "</pre>\n"
      ],
      "text/plain": [
       "\u001b[1;7;32m Success \u001b[0m\u001b[1;32m Found solution for compound=C3360!\u001b[0m\n"
      ]
     },
     "metadata": {},
     "output_type": "display_data"
    },
    {
     "data": {
      "text/html": [
       "<pre style=\"white-space:pre;overflow-x:auto;line-height:normal;font-family:Menlo,'DejaVu Sans Mono',consolas,'Courier New',monospace;margin:0px\"><span style=\"background-color: #800000; font-weight: bold\"> ERROR </span><span style=\"color: #800000; text-decoration-color: #800000; font-weight: bold\"> No solutions for compound=C3495 (comp.reactions.ids=[])!</span>\n",
       "</pre>\n"
      ],
      "text/plain": [
       "\u001b[1;7;31m ERROR \u001b[0m\u001b[1;31m No solutions for compound=C3495 (comp.reactions.ids=[])!\u001b[0m\n"
      ]
     },
     "metadata": {},
     "output_type": "display_data"
    },
    {
     "data": {
      "text/html": [
       "<pre style=\"white-space:pre;overflow-x:auto;line-height:normal;font-family:Menlo,'DejaVu Sans Mono',consolas,'Courier New',monospace;margin:0px\"><span style=\"background-color: #800000; font-weight: bold\"> ERROR </span><span style=\"color: #800000; text-decoration-color: #800000; font-weight: bold\"> No solutions for compound=C3992 (comp.reactions.ids=[])!</span>\n",
       "</pre>\n"
      ],
      "text/plain": [
       "\u001b[1;7;31m ERROR \u001b[0m\u001b[1;31m No solutions for compound=C3992 (comp.reactions.ids=[])!\u001b[0m\n"
      ]
     },
     "metadata": {},
     "output_type": "display_data"
    },
    {
     "data": {
      "text/html": [
       "<pre style=\"white-space:pre;overflow-x:auto;line-height:normal;font-family:Menlo,'DejaVu Sans Mono',consolas,'Courier New',monospace;margin:0px\"><span style=\"background-color: #800000; font-weight: bold\"> ERROR </span><span style=\"color: #800000; text-decoration-color: #800000; font-weight: bold\"> No solutions for compound=C3994 (comp.reactions.ids=[])!</span>\n",
       "</pre>\n"
      ],
      "text/plain": [
       "\u001b[1;7;31m ERROR \u001b[0m\u001b[1;31m No solutions for compound=C3994 (comp.reactions.ids=[])!\u001b[0m\n"
      ]
     },
     "metadata": {},
     "output_type": "display_data"
    },
    {
     "data": {
      "text/html": [
       "<pre style=\"white-space:pre;overflow-x:auto;line-height:normal;font-family:Menlo,'DejaVu Sans Mono',consolas,'Courier New',monospace;margin:0px\"><span style=\"background-color: #008000; font-weight: bold\"> Success </span><span style=\"color: #008000; text-decoration-color: #008000; font-weight: bold\"> Found solution for compound=C3996!</span>\n",
       "</pre>\n"
      ],
      "text/plain": [
       "\u001b[1;7;32m Success \u001b[0m\u001b[1;32m Found solution for compound=C3996!\u001b[0m\n"
      ]
     },
     "metadata": {},
     "output_type": "display_data"
    },
    {
     "data": {
      "text/html": [
       "<pre style=\"white-space:pre;overflow-x:auto;line-height:normal;font-family:Menlo,'DejaVu Sans Mono',consolas,'Courier New',monospace;margin:0px\"><span style=\"background-color: #800000; font-weight: bold\"> ERROR </span><span style=\"color: #800000; text-decoration-color: #800000; font-weight: bold\"> No solutions for compound=C4029 (comp.reactions.ids=[])!</span>\n",
       "</pre>\n"
      ],
      "text/plain": [
       "\u001b[1;7;31m ERROR \u001b[0m\u001b[1;31m No solutions for compound=C4029 (comp.reactions.ids=[])!\u001b[0m\n"
      ]
     },
     "metadata": {},
     "output_type": "display_data"
    },
    {
     "data": {
      "text/html": [
       "<pre style=\"white-space:pre;overflow-x:auto;line-height:normal;font-family:Menlo,'DejaVu Sans Mono',consolas,'Courier New',monospace;margin:0px\"><span style=\"background-color: #800000; font-weight: bold\"> ERROR </span><span style=\"color: #800000; text-decoration-color: #800000; font-weight: bold\"> Reactants not available for reaction=\u001b[1m\u001b[4mR2921: C10853 + C10856 -&gt; C4044 via </span>\n",
       "<span style=\"color: #800000; text-decoration-color: #800000; font-weight: bold\">Nucleophilic_substitution_with_amine\u001b[22m\u001b[24m!</span>\n",
       "</pre>\n"
      ],
      "text/plain": [
       "\u001b[1;7;31m ERROR \u001b[0m\u001b[1;31m Reactants not available for reaction=\u001b[1m\u001b[4mR2921: C10853 + C10856 -> C4044 via \u001b[0m\n",
       "\u001b[1;31mNucleophilic_substitution_with_amine\u001b[22m\u001b[24m!\u001b[0m\n"
      ]
     },
     "metadata": {},
     "output_type": "display_data"
    },
    {
     "data": {
      "text/html": [
       "<pre style=\"white-space:pre;overflow-x:auto;line-height:normal;font-family:Menlo,'DejaVu Sans Mono',consolas,'Courier New',monospace;margin:0px\"><span style=\"background-color: #800000; font-weight: bold\"> ERROR </span><span style=\"color: #800000; text-decoration-color: #800000; font-weight: bold\"> No solutions for compound=C4044 (comp.reactions.ids=[2921])!</span>\n",
       "</pre>\n"
      ],
      "text/plain": [
       "\u001b[1;7;31m ERROR \u001b[0m\u001b[1;31m No solutions for compound=C4044 (comp.reactions.ids=[2921])!\u001b[0m\n"
      ]
     },
     "metadata": {},
     "output_type": "display_data"
    },
    {
     "data": {
      "text/html": [
       "<pre style=\"white-space:pre;overflow-x:auto;line-height:normal;font-family:Menlo,'DejaVu Sans Mono',consolas,'Courier New',monospace;margin:0px\"><span style=\"background-color: #800000; font-weight: bold\"> ERROR </span><span style=\"color: #800000; text-decoration-color: #800000; font-weight: bold\"> No solutions for compound=C4445 (comp.reactions.ids=[])!</span>\n",
       "</pre>\n"
      ],
      "text/plain": [
       "\u001b[1;7;31m ERROR \u001b[0m\u001b[1;31m No solutions for compound=C4445 (comp.reactions.ids=[])!\u001b[0m\n"
      ]
     },
     "metadata": {},
     "output_type": "display_data"
    },
    {
     "data": {
      "text/html": [
       "<pre style=\"white-space:pre;overflow-x:auto;line-height:normal;font-family:Menlo,'DejaVu Sans Mono',consolas,'Courier New',monospace;margin:0px\"><span style=\"background-color: #800000; font-weight: bold\"> ERROR </span><span style=\"color: #800000; text-decoration-color: #800000; font-weight: bold\"> No solutions for compound=C5312 (comp.reactions.ids=[])!</span>\n",
       "</pre>\n"
      ],
      "text/plain": [
       "\u001b[1;7;31m ERROR \u001b[0m\u001b[1;31m No solutions for compound=C5312 (comp.reactions.ids=[])!\u001b[0m\n"
      ]
     },
     "metadata": {},
     "output_type": "display_data"
    },
    {
     "data": {
      "text/html": [
       "<pre style=\"white-space:pre;overflow-x:auto;line-height:normal;font-family:Menlo,'DejaVu Sans Mono',consolas,'Courier New',monospace;margin:0px\"><span style=\"background-color: #800000; font-weight: bold\"> ERROR </span><span style=\"color: #800000; text-decoration-color: #800000; font-weight: bold\"> No solutions for compound=C5314 (comp.reactions.ids=[])!</span>\n",
       "</pre>\n"
      ],
      "text/plain": [
       "\u001b[1;7;31m ERROR \u001b[0m\u001b[1;31m No solutions for compound=C5314 (comp.reactions.ids=[])!\u001b[0m\n"
      ]
     },
     "metadata": {},
     "output_type": "display_data"
    },
    {
     "data": {
      "text/html": [
       "<pre style=\"white-space:pre;overflow-x:auto;line-height:normal;font-family:Menlo,'DejaVu Sans Mono',consolas,'Courier New',monospace;margin:0px\"><span style=\"background-color: #008000; font-weight: bold\"> Success </span><span style=\"color: #008000; text-decoration-color: #008000; font-weight: bold\"> Found solution for compound=C5315!</span>\n",
       "</pre>\n"
      ],
      "text/plain": [
       "\u001b[1;7;32m Success \u001b[0m\u001b[1;32m Found solution for compound=C5315!\u001b[0m\n"
      ]
     },
     "metadata": {},
     "output_type": "display_data"
    },
    {
     "data": {
      "text/html": [
       "<pre style=\"white-space:pre;overflow-x:auto;line-height:normal;font-family:Menlo,'DejaVu Sans Mono',consolas,'Courier New',monospace;margin:0px\"><span style=\"background-color: #008000; font-weight: bold\"> Success </span><span style=\"color: #008000; text-decoration-color: #008000; font-weight: bold\"> Found solution for compound=C5316!</span>\n",
       "</pre>\n"
      ],
      "text/plain": [
       "\u001b[1;7;32m Success \u001b[0m\u001b[1;32m Found solution for compound=C5316!\u001b[0m\n"
      ]
     },
     "metadata": {},
     "output_type": "display_data"
    },
    {
     "data": {
      "text/html": [
       "<pre style=\"white-space:pre;overflow-x:auto;line-height:normal;font-family:Menlo,'DejaVu Sans Mono',consolas,'Courier New',monospace;margin:0px\"><span style=\"background-color: #008000; font-weight: bold\"> Success </span><span style=\"color: #008000; text-decoration-color: #008000; font-weight: bold\"> Found solution for compound=C5327!</span>\n",
       "</pre>\n"
      ],
      "text/plain": [
       "\u001b[1;7;32m Success \u001b[0m\u001b[1;32m Found solution for compound=C5327!\u001b[0m\n"
      ]
     },
     "metadata": {},
     "output_type": "display_data"
    },
    {
     "data": {
      "text/html": [
       "<pre style=\"white-space:pre;overflow-x:auto;line-height:normal;font-family:Menlo,'DejaVu Sans Mono',consolas,'Courier New',monospace;margin:0px\"><span style=\"background-color: #008000; font-weight: bold\"> Success </span><span style=\"color: #008000; text-decoration-color: #008000; font-weight: bold\"> Found solution for compound=C5856!</span>\n",
       "</pre>\n"
      ],
      "text/plain": [
       "\u001b[1;7;32m Success \u001b[0m\u001b[1;32m Found solution for compound=C5856!\u001b[0m\n"
      ]
     },
     "metadata": {},
     "output_type": "display_data"
    },
    {
     "data": {
      "text/html": [
       "<pre style=\"white-space:pre;overflow-x:auto;line-height:normal;font-family:Menlo,'DejaVu Sans Mono',consolas,'Courier New',monospace;margin:0px\"><span style=\"background-color: #800000; font-weight: bold\"> ERROR </span><span style=\"color: #800000; text-decoration-color: #800000; font-weight: bold\"> No solutions for compound=C5867 (comp.reactions.ids=[])!</span>\n",
       "</pre>\n"
      ],
      "text/plain": [
       "\u001b[1;7;31m ERROR \u001b[0m\u001b[1;31m No solutions for compound=C5867 (comp.reactions.ids=[])!\u001b[0m\n"
      ]
     },
     "metadata": {},
     "output_type": "display_data"
    },
    {
     "data": {
      "text/html": [
       "<pre style=\"white-space:pre;overflow-x:auto;line-height:normal;font-family:Menlo,'DejaVu Sans Mono',consolas,'Courier New',monospace;margin:0px\"><span style=\"background-color: #008000; font-weight: bold\"> Success </span><span style=\"color: #008000; text-decoration-color: #008000; font-weight: bold\"> Found solution for compound=C5868!</span>\n",
       "</pre>\n"
      ],
      "text/plain": [
       "\u001b[1;7;32m Success \u001b[0m\u001b[1;32m Found solution for compound=C5868!\u001b[0m\n"
      ]
     },
     "metadata": {},
     "output_type": "display_data"
    },
    {
     "data": {
      "text/html": [
       "<pre style=\"white-space:pre;overflow-x:auto;line-height:normal;font-family:Menlo,'DejaVu Sans Mono',consolas,'Courier New',monospace;margin:0px\"><span style=\"background-color: #008000; font-weight: bold\"> Success </span><span style=\"color: #008000; text-decoration-color: #008000; font-weight: bold\"> Found solution for compound=C5906!</span>\n",
       "</pre>\n"
      ],
      "text/plain": [
       "\u001b[1;7;32m Success \u001b[0m\u001b[1;32m Found solution for compound=C5906!\u001b[0m\n"
      ]
     },
     "metadata": {},
     "output_type": "display_data"
    },
    {
     "data": {
      "text/html": [
       "<pre style=\"white-space:pre;overflow-x:auto;line-height:normal;font-family:Menlo,'DejaVu Sans Mono',consolas,'Courier New',monospace;margin:0px\"><span style=\"background-color: #800000; font-weight: bold\"> ERROR </span><span style=\"color: #800000; text-decoration-color: #800000; font-weight: bold\"> Reactants not available for reaction=\u001b[1m\u001b[4mR12417: C7339 + C22689 -&gt; C5911 via Ester_amidation\u001b[22m\u001b[24m!</span>\n",
       "</pre>\n"
      ],
      "text/plain": [
       "\u001b[1;7;31m ERROR \u001b[0m\u001b[1;31m Reactants not available for reaction=\u001b[1m\u001b[4mR12417: C7339 + C22689 -> C5911 via Ester_amidation\u001b[22m\u001b[24m!\u001b[0m\n"
      ]
     },
     "metadata": {},
     "output_type": "display_data"
    },
    {
     "data": {
      "text/html": [
       "<pre style=\"white-space:pre;overflow-x:auto;line-height:normal;font-family:Menlo,'DejaVu Sans Mono',consolas,'Courier New',monospace;margin:0px\"><span style=\"background-color: #800000; font-weight: bold\"> ERROR </span><span style=\"color: #800000; text-decoration-color: #800000; font-weight: bold\"> Reactants not available for reaction=\u001b[1m\u001b[4mR14035: C7339 + C25693 -&gt; C5911 via Amidation\u001b[22m\u001b[24m!</span>\n",
       "</pre>\n"
      ],
      "text/plain": [
       "\u001b[1;7;31m ERROR \u001b[0m\u001b[1;31m Reactants not available for reaction=\u001b[1m\u001b[4mR14035: C7339 + C25693 -> C5911 via Amidation\u001b[22m\u001b[24m!\u001b[0m\n"
      ]
     },
     "metadata": {},
     "output_type": "display_data"
    },
    {
     "data": {
      "text/html": [
       "<pre style=\"white-space:pre;overflow-x:auto;line-height:normal;font-family:Menlo,'DejaVu Sans Mono',consolas,'Courier New',monospace;margin:0px\"><span style=\"background-color: #800000; font-weight: bold\"> ERROR </span><span style=\"color: #800000; text-decoration-color: #800000; font-weight: bold\"> No solutions for compound=C5911 (comp.reactions.ids=[12417, 14035])!</span>\n",
       "</pre>\n"
      ],
      "text/plain": [
       "\u001b[1;7;31m ERROR \u001b[0m\u001b[1;31m No solutions for compound=C5911 (comp.reactions.ids=[12417, 14035])!\u001b[0m\n"
      ]
     },
     "metadata": {},
     "output_type": "display_data"
    },
    {
     "data": {
      "text/html": [
       "<pre style=\"white-space:pre;overflow-x:auto;line-height:normal;font-family:Menlo,'DejaVu Sans Mono',consolas,'Courier New',monospace;margin:0px\"><span style=\"background-color: #800000; font-weight: bold\"> ERROR </span><span style=\"color: #800000; text-decoration-color: #800000; font-weight: bold\"> No solutions for compound=C6162 (comp.reactions.ids=[])!</span>\n",
       "</pre>\n"
      ],
      "text/plain": [
       "\u001b[1;7;31m ERROR \u001b[0m\u001b[1;31m No solutions for compound=C6162 (comp.reactions.ids=[])!\u001b[0m\n"
      ]
     },
     "metadata": {},
     "output_type": "display_data"
    },
    {
     "data": {
      "text/html": [
       "<pre style=\"white-space:pre;overflow-x:auto;line-height:normal;font-family:Menlo,'DejaVu Sans Mono',consolas,'Courier New',monospace;margin:0px\"><span style=\"background-color: #800000; font-weight: bold\"> ERROR </span><span style=\"color: #800000; text-decoration-color: #800000; font-weight: bold\"> No solutions for compound=C6421 (comp.reactions.ids=[])!</span>\n",
       "</pre>\n"
      ],
      "text/plain": [
       "\u001b[1;7;31m ERROR \u001b[0m\u001b[1;31m No solutions for compound=C6421 (comp.reactions.ids=[])!\u001b[0m\n"
      ]
     },
     "metadata": {},
     "output_type": "display_data"
    },
    {
     "data": {
      "text/html": [
       "<pre style=\"white-space:pre;overflow-x:auto;line-height:normal;font-family:Menlo,'DejaVu Sans Mono',consolas,'Courier New',monospace;margin:0px\"><span style=\"background-color: #800000; font-weight: bold\"> ERROR </span><span style=\"color: #800000; text-decoration-color: #800000; font-weight: bold\"> No solutions for compound=C6717 (comp.reactions.ids=[])!</span>\n",
       "</pre>\n"
      ],
      "text/plain": [
       "\u001b[1;7;31m ERROR \u001b[0m\u001b[1;31m No solutions for compound=C6717 (comp.reactions.ids=[])!\u001b[0m\n"
      ]
     },
     "metadata": {},
     "output_type": "display_data"
    },
    {
     "data": {
      "text/html": [
       "<pre style=\"white-space:pre;overflow-x:auto;line-height:normal;font-family:Menlo,'DejaVu Sans Mono',consolas,'Courier New',monospace;margin:0px\"><span style=\"background-color: #800000; font-weight: bold\"> ERROR </span><span style=\"color: #800000; text-decoration-color: #800000; font-weight: bold\"> No solutions for compound=C6727 (comp.reactions.ids=[])!</span>\n",
       "</pre>\n"
      ],
      "text/plain": [
       "\u001b[1;7;31m ERROR \u001b[0m\u001b[1;31m No solutions for compound=C6727 (comp.reactions.ids=[])!\u001b[0m\n"
      ]
     },
     "metadata": {},
     "output_type": "display_data"
    },
    {
     "data": {
      "text/html": [
       "<pre style=\"white-space:pre;overflow-x:auto;line-height:normal;font-family:Menlo,'DejaVu Sans Mono',consolas,'Courier New',monospace;margin:0px\"><span style=\"background-color: #008000; font-weight: bold\"> Success </span><span style=\"color: #008000; text-decoration-color: #008000; font-weight: bold\"> Found solution for compound=C7035!</span>\n",
       "</pre>\n"
      ],
      "text/plain": [
       "\u001b[1;7;32m Success \u001b[0m\u001b[1;32m Found solution for compound=C7035!\u001b[0m\n"
      ]
     },
     "metadata": {},
     "output_type": "display_data"
    },
    {
     "data": {
      "text/html": [
       "<pre style=\"white-space:pre;overflow-x:auto;line-height:normal;font-family:Menlo,'DejaVu Sans Mono',consolas,'Courier New',monospace;margin:0px\"><span style=\"background-color: #008000; font-weight: bold\"> Success </span><span style=\"color: #008000; text-decoration-color: #008000; font-weight: bold\"> Found solution for compound=C7036!</span>\n",
       "</pre>\n"
      ],
      "text/plain": [
       "\u001b[1;7;32m Success \u001b[0m\u001b[1;32m Found solution for compound=C7036!\u001b[0m\n"
      ]
     },
     "metadata": {},
     "output_type": "display_data"
    },
    {
     "data": {
      "text/html": [
       "<pre style=\"white-space:pre;overflow-x:auto;line-height:normal;font-family:Menlo,'DejaVu Sans Mono',consolas,'Courier New',monospace;margin:0px\"><span style=\"background-color: #008000; font-weight: bold\"> Success </span><span style=\"color: #008000; text-decoration-color: #008000; font-weight: bold\"> Found solution for compound=C7068!</span>\n",
       "</pre>\n"
      ],
      "text/plain": [
       "\u001b[1;7;32m Success \u001b[0m\u001b[1;32m Found solution for compound=C7068!\u001b[0m\n"
      ]
     },
     "metadata": {},
     "output_type": "display_data"
    },
    {
     "data": {
      "text/html": [
       "<pre style=\"white-space:pre;overflow-x:auto;line-height:normal;font-family:Menlo,'DejaVu Sans Mono',consolas,'Courier New',monospace;margin:0px\"><span style=\"background-color: #008000; font-weight: bold\"> Success </span><span style=\"color: #008000; text-decoration-color: #008000; font-weight: bold\"> Found solution for compound=C7190!</span>\n",
       "</pre>\n"
      ],
      "text/plain": [
       "\u001b[1;7;32m Success \u001b[0m\u001b[1;32m Found solution for compound=C7190!\u001b[0m\n"
      ]
     },
     "metadata": {},
     "output_type": "display_data"
    },
    {
     "data": {
      "text/html": [
       "<pre style=\"white-space:pre;overflow-x:auto;line-height:normal;font-family:Menlo,'DejaVu Sans Mono',consolas,'Courier New',monospace;margin:0px\"><span style=\"background-color: #800000; font-weight: bold\"> ERROR </span><span style=\"color: #800000; text-decoration-color: #800000; font-weight: bold\"> No solutions for compound=C7247 (comp.reactions.ids=[])!</span>\n",
       "</pre>\n"
      ],
      "text/plain": [
       "\u001b[1;7;31m ERROR \u001b[0m\u001b[1;31m No solutions for compound=C7247 (comp.reactions.ids=[])!\u001b[0m\n"
      ]
     },
     "metadata": {},
     "output_type": "display_data"
    },
    {
     "data": {
      "text/html": [
       "<pre style=\"white-space:pre;overflow-x:auto;line-height:normal;font-family:Menlo,'DejaVu Sans Mono',consolas,'Courier New',monospace;margin:0px\"><span style=\"background-color: #008000; font-weight: bold\"> Success </span><span style=\"color: #008000; text-decoration-color: #008000; font-weight: bold\"> Found solution for compound=C7248!</span>\n",
       "</pre>\n"
      ],
      "text/plain": [
       "\u001b[1;7;32m Success \u001b[0m\u001b[1;32m Found solution for compound=C7248!\u001b[0m\n"
      ]
     },
     "metadata": {},
     "output_type": "display_data"
    },
    {
     "data": {
      "text/html": [
       "<pre style=\"white-space:pre;overflow-x:auto;line-height:normal;font-family:Menlo,'DejaVu Sans Mono',consolas,'Courier New',monospace;margin:0px\"><span style=\"background-color: #800000; font-weight: bold\"> ERROR </span><span style=\"color: #800000; text-decoration-color: #800000; font-weight: bold\"> No solutions for compound=C7272 (comp.reactions.ids=[])!</span>\n",
       "</pre>\n"
      ],
      "text/plain": [
       "\u001b[1;7;31m ERROR \u001b[0m\u001b[1;31m No solutions for compound=C7272 (comp.reactions.ids=[])!\u001b[0m\n"
      ]
     },
     "metadata": {},
     "output_type": "display_data"
    },
    {
     "data": {
      "text/html": [
       "<pre style=\"white-space:pre;overflow-x:auto;line-height:normal;font-family:Menlo,'DejaVu Sans Mono',consolas,'Courier New',monospace;margin:0px\"><span style=\"background-color: #800000; font-weight: bold\"> ERROR </span><span style=\"color: #800000; text-decoration-color: #800000; font-weight: bold\"> No solutions for compound=C7273 (comp.reactions.ids=[])!</span>\n",
       "</pre>\n"
      ],
      "text/plain": [
       "\u001b[1;7;31m ERROR \u001b[0m\u001b[1;31m No solutions for compound=C7273 (comp.reactions.ids=[])!\u001b[0m\n"
      ]
     },
     "metadata": {},
     "output_type": "display_data"
    },
    {
     "data": {
      "text/html": [
       "<pre style=\"white-space:pre;overflow-x:auto;line-height:normal;font-family:Menlo,'DejaVu Sans Mono',consolas,'Courier New',monospace;margin:0px\"></pre>\n"
      ],
      "text/plain": []
     },
     "metadata": {},
     "output_type": "display_data"
    },
    {
     "data": {
      "text/html": [
       "<pre style=\"white-space:pre;overflow-x:auto;line-height:normal;font-family:Menlo,'DejaVu Sans Mono',consolas,'Courier New',monospace;margin:0px\">Solving recipe combinations<span style=\"color: #808000; text-decoration-color: #808000\">...</span>\n",
       "</pre>\n"
      ],
      "text/plain": [
       "Solving recipe combinations\u001b[33m...\u001b[0m\n"
      ]
     },
     "metadata": {},
     "output_type": "display_data"
    },
    {
     "data": {
      "text/html": [
       "<pre style=\"white-space:pre;overflow-x:auto;line-height:normal;font-family:Menlo,'DejaVu Sans Mono',consolas,'Courier New',monospace;margin:0px\">\n",
       "</pre>\n"
      ],
      "text/plain": [
       "\n"
      ]
     },
     "metadata": {},
     "output_type": "display_data"
    },
    {
     "data": {
      "application/vnd.jupyter.widget-view+json": {
       "model_id": "9212809f6c244793b734ce18ce36245b",
       "version_major": 2,
       "version_minor": 0
      },
      "text/plain": [
       "Output()"
      ]
     },
     "metadata": {},
     "output_type": "display_data"
    },
    {
     "data": {
      "text/html": [
       "<pre style=\"white-space:pre;overflow-x:auto;line-height:normal;font-family:Menlo,'DejaVu Sans Mono',consolas,'Courier New',monospace;margin:0px\"></pre>\n"
      ],
      "text/plain": []
     },
     "metadata": {},
     "output_type": "display_data"
    }
   ],
   "source": [
    "recipes = hippo.Recipe.from_compounds(\n",
    "    scaffolds, \n",
    "    quoted_only=False, \n",
    "    pick_cheapest=False, supplier=\"Enamine\"\n",
    ")"
   ]
  },
  {
   "cell_type": "code",
   "execution_count": 8,
   "id": "cdb01a42-fb8d-4314-af83-396eb8bd49e7",
   "metadata": {},
   "outputs": [
    {
     "data": {
      "text/plain": [
       "[\u001b[1m\u001b[4mRecipe({Ingredient × 31} --> {Ingredient × 19} via {R × 19})\u001b[22m\u001b[24m]"
      ]
     },
     "execution_count": 8,
     "metadata": {},
     "output_type": "execute_result"
    }
   ],
   "source": [
    "recipes"
   ]
  },
  {
   "cell_type": "code",
   "execution_count": 9,
   "id": "d1e2d1c7-a6e0-487c-951f-411095f83b2b",
   "metadata": {},
   "outputs": [],
   "source": [
    "starting_recipe = recipes[0]"
   ]
  },
  {
   "cell_type": "code",
   "execution_count": 10,
   "id": "7996a9b7-b83b-42be-b0a8-130dfd8446e5",
   "metadata": {},
   "outputs": [
    {
     "data": {
      "text/html": [
       "<pre style=\"white-space:pre;overflow-x:auto;line-height:normal;font-family:Menlo,'DejaVu Sans Mono',consolas,'Courier New',monospace;margin:0px\"><span style=\"background-color: #d7af00; font-weight: bold\"> DISK </span> Writing <span style=\"color: #d7af00; text-decoration-color: #d7af00\">iter1_starting_recipe.json</span>...\n",
       "</pre>\n"
      ],
      "text/plain": [
       "\u001b[1;7;38;5;178m DISK \u001b[0m Writing \u001b[38;5;178miter1_starting_recipe.json\u001b[0m...\n"
      ]
     },
     "metadata": {},
     "output_type": "display_data"
    }
   ],
   "source": [
    "starting_recipe.write_json(\"iter1_starting_recipe.json\")"
   ]
  },
  {
   "cell_type": "code",
   "execution_count": 17,
   "id": "e5727bdf-df48-4155-8c11-125f91a19d30",
   "metadata": {},
   "outputs": [
    {
     "data": {
      "text/plain": [
       "\u001b[1m\u001b[4m€4908.00 EUR\u001b[22m\u001b[24m"
      ]
     },
     "execution_count": 17,
     "metadata": {},
     "output_type": "execute_result"
    }
   ],
   "source": [
    "starting_recipe.price"
   ]
  },
  {
   "cell_type": "markdown",
   "id": "5d53b69c-ad1c-48ca-b4cb-3a9f17900fa5",
   "metadata": {},
   "source": [
    "## Entire Recipe"
   ]
  },
  {
   "cell_type": "code",
   "execution_count": 18,
   "id": "1d0a390a-4500-491b-a178-82e046797e8b",
   "metadata": {},
   "outputs": [
    {
     "data": {
      "text/plain": [
       "\u001b[1m\u001b[4m{C × 274}\u001b[22m\u001b[24m"
      ]
     },
     "execution_count": 18,
     "metadata": {},
     "output_type": "execute_result"
    }
   ],
   "source": [
    "products = animal.db.get_route_products()\n",
    "products"
   ]
  },
  {
   "cell_type": "code",
   "execution_count": 20,
   "id": "2750e592-dd3f-4165-ae1a-c9054f7bdd68",
   "metadata": {},
   "outputs": [
    {
     "data": {
      "text/html": [
       "<pre style=\"white-space:pre;overflow-x:auto;line-height:normal;font-family:Menlo,'DejaVu Sans Mono',consolas,'Courier New',monospace;margin:0px\"><span style=\"color: #008080; text-decoration-color: #008080; font-weight: bold\">#compounds</span> = <span style=\"color: #008080; text-decoration-color: #008080; font-weight: bold\">274</span>\n",
       "</pre>\n"
      ],
      "text/plain": [
       "\u001b[1;36m#compounds\u001b[0m = \u001b[1;36m274\u001b[0m\n"
      ]
     },
     "metadata": {},
     "output_type": "display_data"
    },
    {
     "data": {
      "application/vnd.jupyter.widget-view+json": {
       "model_id": "04c8b0b4ea2a470c88d4ee4bdda2194e",
       "version_major": 2,
       "version_minor": 0
      },
      "text/plain": [
       "Output()"
      ]
     },
     "metadata": {},
     "output_type": "display_data"
    },
    {
     "data": {
      "text/html": [
       "<pre style=\"white-space:pre;overflow-x:auto;line-height:normal;font-family:Menlo,'DejaVu Sans Mono',consolas,'Courier New',monospace;margin:0px\"><span style=\"background-color: #008000; font-weight: bold\"> Success </span><span style=\"color: #008000; text-decoration-color: #008000; font-weight: bold\"> Found solution for compound=C2022!</span>\n",
       "</pre>\n"
      ],
      "text/plain": [
       "\u001b[1;7;32m Success \u001b[0m\u001b[1;32m Found solution for compound=C2022!\u001b[0m\n"
      ]
     },
     "metadata": {},
     "output_type": "display_data"
    },
    {
     "data": {
      "text/html": [
       "<pre style=\"white-space:pre;overflow-x:auto;line-height:normal;font-family:Menlo,'DejaVu Sans Mono',consolas,'Courier New',monospace;margin:0px\"><span style=\"background-color: #008000; font-weight: bold\"> Success </span><span style=\"color: #008000; text-decoration-color: #008000; font-weight: bold\"> Found solution for compound=C2134!</span>\n",
       "</pre>\n"
      ],
      "text/plain": [
       "\u001b[1;7;32m Success \u001b[0m\u001b[1;32m Found solution for compound=C2134!\u001b[0m\n"
      ]
     },
     "metadata": {},
     "output_type": "display_data"
    },
    {
     "data": {
      "text/html": [
       "<pre style=\"white-space:pre;overflow-x:auto;line-height:normal;font-family:Menlo,'DejaVu Sans Mono',consolas,'Courier New',monospace;margin:0px\"><span style=\"background-color: #008000; font-weight: bold\"> Success </span><span style=\"color: #008000; text-decoration-color: #008000; font-weight: bold\"> Found solution for compound=C2845!</span>\n",
       "</pre>\n"
      ],
      "text/plain": [
       "\u001b[1;7;32m Success \u001b[0m\u001b[1;32m Found solution for compound=C2845!\u001b[0m\n"
      ]
     },
     "metadata": {},
     "output_type": "display_data"
    },
    {
     "data": {
      "text/html": [
       "<pre style=\"white-space:pre;overflow-x:auto;line-height:normal;font-family:Menlo,'DejaVu Sans Mono',consolas,'Courier New',monospace;margin:0px\"><span style=\"background-color: #008000; font-weight: bold\"> Success </span><span style=\"color: #008000; text-decoration-color: #008000; font-weight: bold\"> Found solution for compound=C3233!</span>\n",
       "</pre>\n"
      ],
      "text/plain": [
       "\u001b[1;7;32m Success \u001b[0m\u001b[1;32m Found solution for compound=C3233!\u001b[0m\n"
      ]
     },
     "metadata": {},
     "output_type": "display_data"
    },
    {
     "data": {
      "text/html": [
       "<pre style=\"white-space:pre;overflow-x:auto;line-height:normal;font-family:Menlo,'DejaVu Sans Mono',consolas,'Courier New',monospace;margin:0px\"><span style=\"background-color: #008000; font-weight: bold\"> Success </span><span style=\"color: #008000; text-decoration-color: #008000; font-weight: bold\"> Found solution for compound=C3254!</span>\n",
       "</pre>\n"
      ],
      "text/plain": [
       "\u001b[1;7;32m Success \u001b[0m\u001b[1;32m Found solution for compound=C3254!\u001b[0m\n"
      ]
     },
     "metadata": {},
     "output_type": "display_data"
    },
    {
     "data": {
      "text/html": [
       "<pre style=\"white-space:pre;overflow-x:auto;line-height:normal;font-family:Menlo,'DejaVu Sans Mono',consolas,'Courier New',monospace;margin:0px\"><span style=\"background-color: #008000; font-weight: bold\"> Success </span><span style=\"color: #008000; text-decoration-color: #008000; font-weight: bold\"> Found solution for compound=C3264!</span>\n",
       "</pre>\n"
      ],
      "text/plain": [
       "\u001b[1;7;32m Success \u001b[0m\u001b[1;32m Found solution for compound=C3264!\u001b[0m\n"
      ]
     },
     "metadata": {},
     "output_type": "display_data"
    },
    {
     "data": {
      "text/html": [
       "<pre style=\"white-space:pre;overflow-x:auto;line-height:normal;font-family:Menlo,'DejaVu Sans Mono',consolas,'Courier New',monospace;margin:0px\"><span style=\"background-color: #008000; font-weight: bold\"> Success </span><span style=\"color: #008000; text-decoration-color: #008000; font-weight: bold\"> Found solution for compound=C3360!</span>\n",
       "</pre>\n"
      ],
      "text/plain": [
       "\u001b[1;7;32m Success \u001b[0m\u001b[1;32m Found solution for compound=C3360!\u001b[0m\n"
      ]
     },
     "metadata": {},
     "output_type": "display_data"
    },
    {
     "data": {
      "text/html": [
       "<pre style=\"white-space:pre;overflow-x:auto;line-height:normal;font-family:Menlo,'DejaVu Sans Mono',consolas,'Courier New',monospace;margin:0px\"><span style=\"background-color: #008000; font-weight: bold\"> Success </span><span style=\"color: #008000; text-decoration-color: #008000; font-weight: bold\"> Found solution for compound=C3996!</span>\n",
       "</pre>\n"
      ],
      "text/plain": [
       "\u001b[1;7;32m Success \u001b[0m\u001b[1;32m Found solution for compound=C3996!\u001b[0m\n"
      ]
     },
     "metadata": {},
     "output_type": "display_data"
    },
    {
     "data": {
      "text/html": [
       "<pre style=\"white-space:pre;overflow-x:auto;line-height:normal;font-family:Menlo,'DejaVu Sans Mono',consolas,'Courier New',monospace;margin:0px\"><span style=\"background-color: #008000; font-weight: bold\"> Success </span><span style=\"color: #008000; text-decoration-color: #008000; font-weight: bold\"> Found solution for compound=C5315!</span>\n",
       "</pre>\n"
      ],
      "text/plain": [
       "\u001b[1;7;32m Success \u001b[0m\u001b[1;32m Found solution for compound=C5315!\u001b[0m\n"
      ]
     },
     "metadata": {},
     "output_type": "display_data"
    },
    {
     "data": {
      "text/html": [
       "<pre style=\"white-space:pre;overflow-x:auto;line-height:normal;font-family:Menlo,'DejaVu Sans Mono',consolas,'Courier New',monospace;margin:0px\"><span style=\"background-color: #008000; font-weight: bold\"> Success </span><span style=\"color: #008000; text-decoration-color: #008000; font-weight: bold\"> Found solution for compound=C5316!</span>\n",
       "</pre>\n"
      ],
      "text/plain": [
       "\u001b[1;7;32m Success \u001b[0m\u001b[1;32m Found solution for compound=C5316!\u001b[0m\n"
      ]
     },
     "metadata": {},
     "output_type": "display_data"
    },
    {
     "data": {
      "text/html": [
       "<pre style=\"white-space:pre;overflow-x:auto;line-height:normal;font-family:Menlo,'DejaVu Sans Mono',consolas,'Courier New',monospace;margin:0px\"><span style=\"background-color: #008000; font-weight: bold\"> Success </span><span style=\"color: #008000; text-decoration-color: #008000; font-weight: bold\"> Found solution for compound=C5327!</span>\n",
       "</pre>\n"
      ],
      "text/plain": [
       "\u001b[1;7;32m Success \u001b[0m\u001b[1;32m Found solution for compound=C5327!\u001b[0m\n"
      ]
     },
     "metadata": {},
     "output_type": "display_data"
    },
    {
     "data": {
      "text/html": [
       "<pre style=\"white-space:pre;overflow-x:auto;line-height:normal;font-family:Menlo,'DejaVu Sans Mono',consolas,'Courier New',monospace;margin:0px\"><span style=\"background-color: #008000; font-weight: bold\"> Success </span><span style=\"color: #008000; text-decoration-color: #008000; font-weight: bold\"> Found solution for compound=C5856!</span>\n",
       "</pre>\n"
      ],
      "text/plain": [
       "\u001b[1;7;32m Success \u001b[0m\u001b[1;32m Found solution for compound=C5856!\u001b[0m\n"
      ]
     },
     "metadata": {},
     "output_type": "display_data"
    },
    {
     "data": {
      "text/html": [
       "<pre style=\"white-space:pre;overflow-x:auto;line-height:normal;font-family:Menlo,'DejaVu Sans Mono',consolas,'Courier New',monospace;margin:0px\"><span style=\"background-color: #008000; font-weight: bold\"> Success </span><span style=\"color: #008000; text-decoration-color: #008000; font-weight: bold\"> Found solution for compound=C5868!</span>\n",
       "</pre>\n"
      ],
      "text/plain": [
       "\u001b[1;7;32m Success \u001b[0m\u001b[1;32m Found solution for compound=C5868!\u001b[0m\n"
      ]
     },
     "metadata": {},
     "output_type": "display_data"
    },
    {
     "data": {
      "text/html": [
       "<pre style=\"white-space:pre;overflow-x:auto;line-height:normal;font-family:Menlo,'DejaVu Sans Mono',consolas,'Courier New',monospace;margin:0px\"><span style=\"background-color: #008000; font-weight: bold\"> Success </span><span style=\"color: #008000; text-decoration-color: #008000; font-weight: bold\"> Found solution for compound=C5906!</span>\n",
       "</pre>\n"
      ],
      "text/plain": [
       "\u001b[1;7;32m Success \u001b[0m\u001b[1;32m Found solution for compound=C5906!\u001b[0m\n"
      ]
     },
     "metadata": {},
     "output_type": "display_data"
    },
    {
     "data": {
      "text/html": [
       "<pre style=\"white-space:pre;overflow-x:auto;line-height:normal;font-family:Menlo,'DejaVu Sans Mono',consolas,'Courier New',monospace;margin:0px\"><span style=\"background-color: #008000; font-weight: bold\"> Success </span><span style=\"color: #008000; text-decoration-color: #008000; font-weight: bold\"> Found solution for compound=C7035!</span>\n",
       "</pre>\n"
      ],
      "text/plain": [
       "\u001b[1;7;32m Success \u001b[0m\u001b[1;32m Found solution for compound=C7035!\u001b[0m\n"
      ]
     },
     "metadata": {},
     "output_type": "display_data"
    },
    {
     "data": {
      "text/html": [
       "<pre style=\"white-space:pre;overflow-x:auto;line-height:normal;font-family:Menlo,'DejaVu Sans Mono',consolas,'Courier New',monospace;margin:0px\"><span style=\"background-color: #008000; font-weight: bold\"> Success </span><span style=\"color: #008000; text-decoration-color: #008000; font-weight: bold\"> Found solution for compound=C7036!</span>\n",
       "</pre>\n"
      ],
      "text/plain": [
       "\u001b[1;7;32m Success \u001b[0m\u001b[1;32m Found solution for compound=C7036!\u001b[0m\n"
      ]
     },
     "metadata": {},
     "output_type": "display_data"
    },
    {
     "data": {
      "text/html": [
       "<pre style=\"white-space:pre;overflow-x:auto;line-height:normal;font-family:Menlo,'DejaVu Sans Mono',consolas,'Courier New',monospace;margin:0px\"><span style=\"background-color: #008000; font-weight: bold\"> Success </span><span style=\"color: #008000; text-decoration-color: #008000; font-weight: bold\"> Found solution for compound=C7068!</span>\n",
       "</pre>\n"
      ],
      "text/plain": [
       "\u001b[1;7;32m Success \u001b[0m\u001b[1;32m Found solution for compound=C7068!\u001b[0m\n"
      ]
     },
     "metadata": {},
     "output_type": "display_data"
    },
    {
     "data": {
      "text/html": [
       "<pre style=\"white-space:pre;overflow-x:auto;line-height:normal;font-family:Menlo,'DejaVu Sans Mono',consolas,'Courier New',monospace;margin:0px\"><span style=\"background-color: #008000; font-weight: bold\"> Success </span><span style=\"color: #008000; text-decoration-color: #008000; font-weight: bold\"> Found solution for compound=C7190!</span>\n",
       "</pre>\n"
      ],
      "text/plain": [
       "\u001b[1;7;32m Success \u001b[0m\u001b[1;32m Found solution for compound=C7190!\u001b[0m\n"
      ]
     },
     "metadata": {},
     "output_type": "display_data"
    },
    {
     "data": {
      "text/html": [
       "<pre style=\"white-space:pre;overflow-x:auto;line-height:normal;font-family:Menlo,'DejaVu Sans Mono',consolas,'Courier New',monospace;margin:0px\"><span style=\"background-color: #008000; font-weight: bold\"> Success </span><span style=\"color: #008000; text-decoration-color: #008000; font-weight: bold\"> Found solution for compound=C7248!</span>\n",
       "</pre>\n"
      ],
      "text/plain": [
       "\u001b[1;7;32m Success \u001b[0m\u001b[1;32m Found solution for compound=C7248!\u001b[0m\n"
      ]
     },
     "metadata": {},
     "output_type": "display_data"
    },
    {
     "data": {
      "text/html": [
       "<pre style=\"white-space:pre;overflow-x:auto;line-height:normal;font-family:Menlo,'DejaVu Sans Mono',consolas,'Courier New',monospace;margin:0px\"><span style=\"background-color: #008000; font-weight: bold\"> Success </span><span style=\"color: #008000; text-decoration-color: #008000; font-weight: bold\"> Found solution for compound=C7446!</span>\n",
       "</pre>\n"
      ],
      "text/plain": [
       "\u001b[1;7;32m Success \u001b[0m\u001b[1;32m Found solution for compound=C7446!\u001b[0m\n"
      ]
     },
     "metadata": {},
     "output_type": "display_data"
    },
    {
     "data": {
      "text/html": [
       "<pre style=\"white-space:pre;overflow-x:auto;line-height:normal;font-family:Menlo,'DejaVu Sans Mono',consolas,'Courier New',monospace;margin:0px\"><span style=\"background-color: #008000; font-weight: bold\"> Success </span><span style=\"color: #008000; text-decoration-color: #008000; font-weight: bold\"> Found solution for compound=C7449!</span>\n",
       "</pre>\n"
      ],
      "text/plain": [
       "\u001b[1;7;32m Success \u001b[0m\u001b[1;32m Found solution for compound=C7449!\u001b[0m\n"
      ]
     },
     "metadata": {},
     "output_type": "display_data"
    },
    {
     "data": {
      "text/html": [
       "<pre style=\"white-space:pre;overflow-x:auto;line-height:normal;font-family:Menlo,'DejaVu Sans Mono',consolas,'Courier New',monospace;margin:0px\"><span style=\"background-color: #008000; font-weight: bold\"> Success </span><span style=\"color: #008000; text-decoration-color: #008000; font-weight: bold\"> Found solution for compound=C7853!</span>\n",
       "</pre>\n"
      ],
      "text/plain": [
       "\u001b[1;7;32m Success \u001b[0m\u001b[1;32m Found solution for compound=C7853!\u001b[0m\n"
      ]
     },
     "metadata": {},
     "output_type": "display_data"
    },
    {
     "data": {
      "text/html": [
       "<pre style=\"white-space:pre;overflow-x:auto;line-height:normal;font-family:Menlo,'DejaVu Sans Mono',consolas,'Courier New',monospace;margin:0px\"><span style=\"background-color: #008000; font-weight: bold\"> Success </span><span style=\"color: #008000; text-decoration-color: #008000; font-weight: bold\"> Found solution for compound=C7854!</span>\n",
       "</pre>\n"
      ],
      "text/plain": [
       "\u001b[1;7;32m Success \u001b[0m\u001b[1;32m Found solution for compound=C7854!\u001b[0m\n"
      ]
     },
     "metadata": {},
     "output_type": "display_data"
    },
    {
     "data": {
      "text/html": [
       "<pre style=\"white-space:pre;overflow-x:auto;line-height:normal;font-family:Menlo,'DejaVu Sans Mono',consolas,'Courier New',monospace;margin:0px\"><span style=\"background-color: #008000; font-weight: bold\"> Success </span><span style=\"color: #008000; text-decoration-color: #008000; font-weight: bold\"> Found solution for compound=C7861!</span>\n",
       "</pre>\n"
      ],
      "text/plain": [
       "\u001b[1;7;32m Success \u001b[0m\u001b[1;32m Found solution for compound=C7861!\u001b[0m\n"
      ]
     },
     "metadata": {},
     "output_type": "display_data"
    },
    {
     "data": {
      "text/html": [
       "<pre style=\"white-space:pre;overflow-x:auto;line-height:normal;font-family:Menlo,'DejaVu Sans Mono',consolas,'Courier New',monospace;margin:0px\"><span style=\"background-color: #008000; font-weight: bold\"> Success </span><span style=\"color: #008000; text-decoration-color: #008000; font-weight: bold\"> Found solution for compound=C7879!</span>\n",
       "</pre>\n"
      ],
      "text/plain": [
       "\u001b[1;7;32m Success \u001b[0m\u001b[1;32m Found solution for compound=C7879!\u001b[0m\n"
      ]
     },
     "metadata": {},
     "output_type": "display_data"
    },
    {
     "data": {
      "text/html": [
       "<pre style=\"white-space:pre;overflow-x:auto;line-height:normal;font-family:Menlo,'DejaVu Sans Mono',consolas,'Courier New',monospace;margin:0px\"><span style=\"background-color: #008000; font-weight: bold\"> Success </span><span style=\"color: #008000; text-decoration-color: #008000; font-weight: bold\"> Found solution for compound=C7880!</span>\n",
       "</pre>\n"
      ],
      "text/plain": [
       "\u001b[1;7;32m Success \u001b[0m\u001b[1;32m Found solution for compound=C7880!\u001b[0m\n"
      ]
     },
     "metadata": {},
     "output_type": "display_data"
    },
    {
     "data": {
      "text/html": [
       "<pre style=\"white-space:pre;overflow-x:auto;line-height:normal;font-family:Menlo,'DejaVu Sans Mono',consolas,'Courier New',monospace;margin:0px\"><span style=\"background-color: #008000; font-weight: bold\"> Success </span><span style=\"color: #008000; text-decoration-color: #008000; font-weight: bold\"> Found solution for compound=C7887!</span>\n",
       "</pre>\n"
      ],
      "text/plain": [
       "\u001b[1;7;32m Success \u001b[0m\u001b[1;32m Found solution for compound=C7887!\u001b[0m\n"
      ]
     },
     "metadata": {},
     "output_type": "display_data"
    },
    {
     "data": {
      "text/html": [
       "<pre style=\"white-space:pre;overflow-x:auto;line-height:normal;font-family:Menlo,'DejaVu Sans Mono',consolas,'Courier New',monospace;margin:0px\"><span style=\"background-color: #008000; font-weight: bold\"> Success </span><span style=\"color: #008000; text-decoration-color: #008000; font-weight: bold\"> Found solution for compound=C7889!</span>\n",
       "</pre>\n"
      ],
      "text/plain": [
       "\u001b[1;7;32m Success \u001b[0m\u001b[1;32m Found solution for compound=C7889!\u001b[0m\n"
      ]
     },
     "metadata": {},
     "output_type": "display_data"
    },
    {
     "data": {
      "text/html": [
       "<pre style=\"white-space:pre;overflow-x:auto;line-height:normal;font-family:Menlo,'DejaVu Sans Mono',consolas,'Courier New',monospace;margin:0px\"><span style=\"background-color: #008000; font-weight: bold\"> Success </span><span style=\"color: #008000; text-decoration-color: #008000; font-weight: bold\"> Found solution for compound=C7890!</span>\n",
       "</pre>\n"
      ],
      "text/plain": [
       "\u001b[1;7;32m Success \u001b[0m\u001b[1;32m Found solution for compound=C7890!\u001b[0m\n"
      ]
     },
     "metadata": {},
     "output_type": "display_data"
    },
    {
     "data": {
      "text/html": [
       "<pre style=\"white-space:pre;overflow-x:auto;line-height:normal;font-family:Menlo,'DejaVu Sans Mono',consolas,'Courier New',monospace;margin:0px\"><span style=\"background-color: #008000; font-weight: bold\"> Success </span><span style=\"color: #008000; text-decoration-color: #008000; font-weight: bold\"> Found solution for compound=C7891!</span>\n",
       "</pre>\n"
      ],
      "text/plain": [
       "\u001b[1;7;32m Success \u001b[0m\u001b[1;32m Found solution for compound=C7891!\u001b[0m\n"
      ]
     },
     "metadata": {},
     "output_type": "display_data"
    },
    {
     "data": {
      "text/html": [
       "<pre style=\"white-space:pre;overflow-x:auto;line-height:normal;font-family:Menlo,'DejaVu Sans Mono',consolas,'Courier New',monospace;margin:0px\"><span style=\"background-color: #008000; font-weight: bold\"> Success </span><span style=\"color: #008000; text-decoration-color: #008000; font-weight: bold\"> Found solution for compound=C7894!</span>\n",
       "</pre>\n"
      ],
      "text/plain": [
       "\u001b[1;7;32m Success \u001b[0m\u001b[1;32m Found solution for compound=C7894!\u001b[0m\n"
      ]
     },
     "metadata": {},
     "output_type": "display_data"
    },
    {
     "data": {
      "text/html": [
       "<pre style=\"white-space:pre;overflow-x:auto;line-height:normal;font-family:Menlo,'DejaVu Sans Mono',consolas,'Courier New',monospace;margin:0px\"><span style=\"background-color: #008000; font-weight: bold\"> Success </span><span style=\"color: #008000; text-decoration-color: #008000; font-weight: bold\"> Found solution for compound=C7898!</span>\n",
       "</pre>\n"
      ],
      "text/plain": [
       "\u001b[1;7;32m Success \u001b[0m\u001b[1;32m Found solution for compound=C7898!\u001b[0m\n"
      ]
     },
     "metadata": {},
     "output_type": "display_data"
    },
    {
     "data": {
      "text/html": [
       "<pre style=\"white-space:pre;overflow-x:auto;line-height:normal;font-family:Menlo,'DejaVu Sans Mono',consolas,'Courier New',monospace;margin:0px\"><span style=\"background-color: #008000; font-weight: bold\"> Success </span><span style=\"color: #008000; text-decoration-color: #008000; font-weight: bold\"> Found solution for compound=C8659!</span>\n",
       "</pre>\n"
      ],
      "text/plain": [
       "\u001b[1;7;32m Success \u001b[0m\u001b[1;32m Found solution for compound=C8659!\u001b[0m\n"
      ]
     },
     "metadata": {},
     "output_type": "display_data"
    },
    {
     "data": {
      "text/html": [
       "<pre style=\"white-space:pre;overflow-x:auto;line-height:normal;font-family:Menlo,'DejaVu Sans Mono',consolas,'Courier New',monospace;margin:0px\"><span style=\"background-color: #008000; font-weight: bold\"> Success </span><span style=\"color: #008000; text-decoration-color: #008000; font-weight: bold\"> Found solution for compound=C8662!</span>\n",
       "</pre>\n"
      ],
      "text/plain": [
       "\u001b[1;7;32m Success \u001b[0m\u001b[1;32m Found solution for compound=C8662!\u001b[0m\n"
      ]
     },
     "metadata": {},
     "output_type": "display_data"
    },
    {
     "data": {
      "text/html": [
       "<pre style=\"white-space:pre;overflow-x:auto;line-height:normal;font-family:Menlo,'DejaVu Sans Mono',consolas,'Courier New',monospace;margin:0px\"><span style=\"background-color: #008000; font-weight: bold\"> Success </span><span style=\"color: #008000; text-decoration-color: #008000; font-weight: bold\"> Found solution for compound=C8663!</span>\n",
       "</pre>\n"
      ],
      "text/plain": [
       "\u001b[1;7;32m Success \u001b[0m\u001b[1;32m Found solution for compound=C8663!\u001b[0m\n"
      ]
     },
     "metadata": {},
     "output_type": "display_data"
    },
    {
     "data": {
      "text/html": [
       "<pre style=\"white-space:pre;overflow-x:auto;line-height:normal;font-family:Menlo,'DejaVu Sans Mono',consolas,'Courier New',monospace;margin:0px\"><span style=\"background-color: #008000; font-weight: bold\"> Success </span><span style=\"color: #008000; text-decoration-color: #008000; font-weight: bold\"> Found solution for compound=C8664!</span>\n",
       "</pre>\n"
      ],
      "text/plain": [
       "\u001b[1;7;32m Success \u001b[0m\u001b[1;32m Found solution for compound=C8664!\u001b[0m\n"
      ]
     },
     "metadata": {},
     "output_type": "display_data"
    },
    {
     "data": {
      "text/html": [
       "<pre style=\"white-space:pre;overflow-x:auto;line-height:normal;font-family:Menlo,'DejaVu Sans Mono',consolas,'Courier New',monospace;margin:0px\"><span style=\"background-color: #008000; font-weight: bold\"> Success </span><span style=\"color: #008000; text-decoration-color: #008000; font-weight: bold\"> Found solution for compound=C8667!</span>\n",
       "</pre>\n"
      ],
      "text/plain": [
       "\u001b[1;7;32m Success \u001b[0m\u001b[1;32m Found solution for compound=C8667!\u001b[0m\n"
      ]
     },
     "metadata": {},
     "output_type": "display_data"
    },
    {
     "data": {
      "text/html": [
       "<pre style=\"white-space:pre;overflow-x:auto;line-height:normal;font-family:Menlo,'DejaVu Sans Mono',consolas,'Courier New',monospace;margin:0px\"><span style=\"background-color: #008000; font-weight: bold\"> Success </span><span style=\"color: #008000; text-decoration-color: #008000; font-weight: bold\"> Found solution for compound=C8673!</span>\n",
       "</pre>\n"
      ],
      "text/plain": [
       "\u001b[1;7;32m Success \u001b[0m\u001b[1;32m Found solution for compound=C8673!\u001b[0m\n"
      ]
     },
     "metadata": {},
     "output_type": "display_data"
    },
    {
     "data": {
      "text/html": [
       "<pre style=\"white-space:pre;overflow-x:auto;line-height:normal;font-family:Menlo,'DejaVu Sans Mono',consolas,'Courier New',monospace;margin:0px\"><span style=\"background-color: #008000; font-weight: bold\"> Success </span><span style=\"color: #008000; text-decoration-color: #008000; font-weight: bold\"> Found solution for compound=C8717!</span>\n",
       "</pre>\n"
      ],
      "text/plain": [
       "\u001b[1;7;32m Success \u001b[0m\u001b[1;32m Found solution for compound=C8717!\u001b[0m\n"
      ]
     },
     "metadata": {},
     "output_type": "display_data"
    },
    {
     "data": {
      "text/html": [
       "<pre style=\"white-space:pre;overflow-x:auto;line-height:normal;font-family:Menlo,'DejaVu Sans Mono',consolas,'Courier New',monospace;margin:0px\"><span style=\"background-color: #008000; font-weight: bold\"> Success </span><span style=\"color: #008000; text-decoration-color: #008000; font-weight: bold\"> Found solution for compound=C8720!</span>\n",
       "</pre>\n"
      ],
      "text/plain": [
       "\u001b[1;7;32m Success \u001b[0m\u001b[1;32m Found solution for compound=C8720!\u001b[0m\n"
      ]
     },
     "metadata": {},
     "output_type": "display_data"
    },
    {
     "data": {
      "text/html": [
       "<pre style=\"white-space:pre;overflow-x:auto;line-height:normal;font-family:Menlo,'DejaVu Sans Mono',consolas,'Courier New',monospace;margin:0px\"><span style=\"background-color: #008000; font-weight: bold\"> Success </span><span style=\"color: #008000; text-decoration-color: #008000; font-weight: bold\"> Found solution for compound=C8721!</span>\n",
       "</pre>\n"
      ],
      "text/plain": [
       "\u001b[1;7;32m Success \u001b[0m\u001b[1;32m Found solution for compound=C8721!\u001b[0m\n"
      ]
     },
     "metadata": {},
     "output_type": "display_data"
    },
    {
     "data": {
      "text/html": [
       "<pre style=\"white-space:pre;overflow-x:auto;line-height:normal;font-family:Menlo,'DejaVu Sans Mono',consolas,'Courier New',monospace;margin:0px\"><span style=\"background-color: #008000; font-weight: bold\"> Success </span><span style=\"color: #008000; text-decoration-color: #008000; font-weight: bold\"> Found solution for compound=C8818!</span>\n",
       "</pre>\n"
      ],
      "text/plain": [
       "\u001b[1;7;32m Success \u001b[0m\u001b[1;32m Found solution for compound=C8818!\u001b[0m\n"
      ]
     },
     "metadata": {},
     "output_type": "display_data"
    },
    {
     "data": {
      "text/html": [
       "<pre style=\"white-space:pre;overflow-x:auto;line-height:normal;font-family:Menlo,'DejaVu Sans Mono',consolas,'Courier New',monospace;margin:0px\"><span style=\"background-color: #008000; font-weight: bold\"> Success </span><span style=\"color: #008000; text-decoration-color: #008000; font-weight: bold\"> Found solution for compound=C8821!</span>\n",
       "</pre>\n"
      ],
      "text/plain": [
       "\u001b[1;7;32m Success \u001b[0m\u001b[1;32m Found solution for compound=C8821!\u001b[0m\n"
      ]
     },
     "metadata": {},
     "output_type": "display_data"
    },
    {
     "data": {
      "text/html": [
       "<pre style=\"white-space:pre;overflow-x:auto;line-height:normal;font-family:Menlo,'DejaVu Sans Mono',consolas,'Courier New',monospace;margin:0px\"><span style=\"background-color: #008000; font-weight: bold\"> Success </span><span style=\"color: #008000; text-decoration-color: #008000; font-weight: bold\"> Found solution for compound=C8828!</span>\n",
       "</pre>\n"
      ],
      "text/plain": [
       "\u001b[1;7;32m Success \u001b[0m\u001b[1;32m Found solution for compound=C8828!\u001b[0m\n"
      ]
     },
     "metadata": {},
     "output_type": "display_data"
    },
    {
     "data": {
      "text/html": [
       "<pre style=\"white-space:pre;overflow-x:auto;line-height:normal;font-family:Menlo,'DejaVu Sans Mono',consolas,'Courier New',monospace;margin:0px\"><span style=\"background-color: #008000; font-weight: bold\"> Success </span><span style=\"color: #008000; text-decoration-color: #008000; font-weight: bold\"> Found solution for compound=C13310!</span>\n",
       "</pre>\n"
      ],
      "text/plain": [
       "\u001b[1;7;32m Success \u001b[0m\u001b[1;32m Found solution for compound=C13310!\u001b[0m\n"
      ]
     },
     "metadata": {},
     "output_type": "display_data"
    },
    {
     "data": {
      "text/html": [
       "<pre style=\"white-space:pre;overflow-x:auto;line-height:normal;font-family:Menlo,'DejaVu Sans Mono',consolas,'Courier New',monospace;margin:0px\"><span style=\"background-color: #008000; font-weight: bold\"> Success </span><span style=\"color: #008000; text-decoration-color: #008000; font-weight: bold\"> Found solution for compound=C13312!</span>\n",
       "</pre>\n"
      ],
      "text/plain": [
       "\u001b[1;7;32m Success \u001b[0m\u001b[1;32m Found solution for compound=C13312!\u001b[0m\n"
      ]
     },
     "metadata": {},
     "output_type": "display_data"
    },
    {
     "data": {
      "text/html": [
       "<pre style=\"white-space:pre;overflow-x:auto;line-height:normal;font-family:Menlo,'DejaVu Sans Mono',consolas,'Courier New',monospace;margin:0px\"><span style=\"background-color: #008000; font-weight: bold\"> Success </span><span style=\"color: #008000; text-decoration-color: #008000; font-weight: bold\"> Found solution for compound=C13321!</span>\n",
       "</pre>\n"
      ],
      "text/plain": [
       "\u001b[1;7;32m Success \u001b[0m\u001b[1;32m Found solution for compound=C13321!\u001b[0m\n"
      ]
     },
     "metadata": {},
     "output_type": "display_data"
    },
    {
     "data": {
      "text/html": [
       "<pre style=\"white-space:pre;overflow-x:auto;line-height:normal;font-family:Menlo,'DejaVu Sans Mono',consolas,'Courier New',monospace;margin:0px\"><span style=\"background-color: #008000; font-weight: bold\"> Success </span><span style=\"color: #008000; text-decoration-color: #008000; font-weight: bold\"> Found solution for compound=C13324!</span>\n",
       "</pre>\n"
      ],
      "text/plain": [
       "\u001b[1;7;32m Success \u001b[0m\u001b[1;32m Found solution for compound=C13324!\u001b[0m\n"
      ]
     },
     "metadata": {},
     "output_type": "display_data"
    },
    {
     "data": {
      "text/html": [
       "<pre style=\"white-space:pre;overflow-x:auto;line-height:normal;font-family:Menlo,'DejaVu Sans Mono',consolas,'Courier New',monospace;margin:0px\"><span style=\"background-color: #008000; font-weight: bold\"> Success </span><span style=\"color: #008000; text-decoration-color: #008000; font-weight: bold\"> Found solution for compound=C13328!</span>\n",
       "</pre>\n"
      ],
      "text/plain": [
       "\u001b[1;7;32m Success \u001b[0m\u001b[1;32m Found solution for compound=C13328!\u001b[0m\n"
      ]
     },
     "metadata": {},
     "output_type": "display_data"
    },
    {
     "data": {
      "text/html": [
       "<pre style=\"white-space:pre;overflow-x:auto;line-height:normal;font-family:Menlo,'DejaVu Sans Mono',consolas,'Courier New',monospace;margin:0px\"><span style=\"background-color: #008000; font-weight: bold\"> Success </span><span style=\"color: #008000; text-decoration-color: #008000; font-weight: bold\"> Found solution for compound=C13987!</span>\n",
       "</pre>\n"
      ],
      "text/plain": [
       "\u001b[1;7;32m Success \u001b[0m\u001b[1;32m Found solution for compound=C13987!\u001b[0m\n"
      ]
     },
     "metadata": {},
     "output_type": "display_data"
    },
    {
     "data": {
      "text/html": [
       "<pre style=\"white-space:pre;overflow-x:auto;line-height:normal;font-family:Menlo,'DejaVu Sans Mono',consolas,'Courier New',monospace;margin:0px\"><span style=\"background-color: #008000; font-weight: bold\"> Success </span><span style=\"color: #008000; text-decoration-color: #008000; font-weight: bold\"> Found solution for compound=C13988!</span>\n",
       "</pre>\n"
      ],
      "text/plain": [
       "\u001b[1;7;32m Success \u001b[0m\u001b[1;32m Found solution for compound=C13988!\u001b[0m\n"
      ]
     },
     "metadata": {},
     "output_type": "display_data"
    },
    {
     "data": {
      "text/html": [
       "<pre style=\"white-space:pre;overflow-x:auto;line-height:normal;font-family:Menlo,'DejaVu Sans Mono',consolas,'Courier New',monospace;margin:0px\"><span style=\"background-color: #008000; font-weight: bold\"> Success </span><span style=\"color: #008000; text-decoration-color: #008000; font-weight: bold\"> Found solution for compound=C13992!</span>\n",
       "</pre>\n"
      ],
      "text/plain": [
       "\u001b[1;7;32m Success \u001b[0m\u001b[1;32m Found solution for compound=C13992!\u001b[0m\n"
      ]
     },
     "metadata": {},
     "output_type": "display_data"
    },
    {
     "data": {
      "text/html": [
       "<pre style=\"white-space:pre;overflow-x:auto;line-height:normal;font-family:Menlo,'DejaVu Sans Mono',consolas,'Courier New',monospace;margin:0px\"><span style=\"background-color: #008000; font-weight: bold\"> Success </span><span style=\"color: #008000; text-decoration-color: #008000; font-weight: bold\"> Found solution for compound=C13993!</span>\n",
       "</pre>\n"
      ],
      "text/plain": [
       "\u001b[1;7;32m Success \u001b[0m\u001b[1;32m Found solution for compound=C13993!\u001b[0m\n"
      ]
     },
     "metadata": {},
     "output_type": "display_data"
    },
    {
     "data": {
      "text/html": [
       "<pre style=\"white-space:pre;overflow-x:auto;line-height:normal;font-family:Menlo,'DejaVu Sans Mono',consolas,'Courier New',monospace;margin:0px\"><span style=\"background-color: #008000; font-weight: bold\"> Success </span><span style=\"color: #008000; text-decoration-color: #008000; font-weight: bold\"> Found solution for compound=C13995!</span>\n",
       "</pre>\n"
      ],
      "text/plain": [
       "\u001b[1;7;32m Success \u001b[0m\u001b[1;32m Found solution for compound=C13995!\u001b[0m\n"
      ]
     },
     "metadata": {},
     "output_type": "display_data"
    },
    {
     "data": {
      "text/html": [
       "<pre style=\"white-space:pre;overflow-x:auto;line-height:normal;font-family:Menlo,'DejaVu Sans Mono',consolas,'Courier New',monospace;margin:0px\"><span style=\"background-color: #008000; font-weight: bold\"> Success </span><span style=\"color: #008000; text-decoration-color: #008000; font-weight: bold\"> Found solution for compound=C14051!</span>\n",
       "</pre>\n"
      ],
      "text/plain": [
       "\u001b[1;7;32m Success \u001b[0m\u001b[1;32m Found solution for compound=C14051!\u001b[0m\n"
      ]
     },
     "metadata": {},
     "output_type": "display_data"
    },
    {
     "data": {
      "text/html": [
       "<pre style=\"white-space:pre;overflow-x:auto;line-height:normal;font-family:Menlo,'DejaVu Sans Mono',consolas,'Courier New',monospace;margin:0px\"><span style=\"background-color: #008000; font-weight: bold\"> Success </span><span style=\"color: #008000; text-decoration-color: #008000; font-weight: bold\"> Found solution for compound=C14066!</span>\n",
       "</pre>\n"
      ],
      "text/plain": [
       "\u001b[1;7;32m Success \u001b[0m\u001b[1;32m Found solution for compound=C14066!\u001b[0m\n"
      ]
     },
     "metadata": {},
     "output_type": "display_data"
    },
    {
     "data": {
      "text/html": [
       "<pre style=\"white-space:pre;overflow-x:auto;line-height:normal;font-family:Menlo,'DejaVu Sans Mono',consolas,'Courier New',monospace;margin:0px\"><span style=\"background-color: #008000; font-weight: bold\"> Success </span><span style=\"color: #008000; text-decoration-color: #008000; font-weight: bold\"> Found solution for compound=C14067!</span>\n",
       "</pre>\n"
      ],
      "text/plain": [
       "\u001b[1;7;32m Success \u001b[0m\u001b[1;32m Found solution for compound=C14067!\u001b[0m\n"
      ]
     },
     "metadata": {},
     "output_type": "display_data"
    },
    {
     "data": {
      "text/html": [
       "<pre style=\"white-space:pre;overflow-x:auto;line-height:normal;font-family:Menlo,'DejaVu Sans Mono',consolas,'Courier New',monospace;margin:0px\"><span style=\"background-color: #008000; font-weight: bold\"> Success </span><span style=\"color: #008000; text-decoration-color: #008000; font-weight: bold\"> Found solution for compound=C14080!</span>\n",
       "</pre>\n"
      ],
      "text/plain": [
       "\u001b[1;7;32m Success \u001b[0m\u001b[1;32m Found solution for compound=C14080!\u001b[0m\n"
      ]
     },
     "metadata": {},
     "output_type": "display_data"
    },
    {
     "data": {
      "text/html": [
       "<pre style=\"white-space:pre;overflow-x:auto;line-height:normal;font-family:Menlo,'DejaVu Sans Mono',consolas,'Courier New',monospace;margin:0px\"><span style=\"background-color: #008000; font-weight: bold\"> Success </span><span style=\"color: #008000; text-decoration-color: #008000; font-weight: bold\"> Found solution for compound=C14082!</span>\n",
       "</pre>\n"
      ],
      "text/plain": [
       "\u001b[1;7;32m Success \u001b[0m\u001b[1;32m Found solution for compound=C14082!\u001b[0m\n"
      ]
     },
     "metadata": {},
     "output_type": "display_data"
    },
    {
     "data": {
      "text/html": [
       "<pre style=\"white-space:pre;overflow-x:auto;line-height:normal;font-family:Menlo,'DejaVu Sans Mono',consolas,'Courier New',monospace;margin:0px\"><span style=\"background-color: #008000; font-weight: bold\"> Success </span><span style=\"color: #008000; text-decoration-color: #008000; font-weight: bold\"> Found solution for compound=C14083!</span>\n",
       "</pre>\n"
      ],
      "text/plain": [
       "\u001b[1;7;32m Success \u001b[0m\u001b[1;32m Found solution for compound=C14083!\u001b[0m\n"
      ]
     },
     "metadata": {},
     "output_type": "display_data"
    },
    {
     "data": {
      "text/html": [
       "<pre style=\"white-space:pre;overflow-x:auto;line-height:normal;font-family:Menlo,'DejaVu Sans Mono',consolas,'Courier New',monospace;margin:0px\"><span style=\"background-color: #008000; font-weight: bold\"> Success </span><span style=\"color: #008000; text-decoration-color: #008000; font-weight: bold\"> Found solution for compound=C14088!</span>\n",
       "</pre>\n"
      ],
      "text/plain": [
       "\u001b[1;7;32m Success \u001b[0m\u001b[1;32m Found solution for compound=C14088!\u001b[0m\n"
      ]
     },
     "metadata": {},
     "output_type": "display_data"
    },
    {
     "data": {
      "text/html": [
       "<pre style=\"white-space:pre;overflow-x:auto;line-height:normal;font-family:Menlo,'DejaVu Sans Mono',consolas,'Courier New',monospace;margin:0px\"><span style=\"background-color: #008000; font-weight: bold\"> Success </span><span style=\"color: #008000; text-decoration-color: #008000; font-weight: bold\"> Found solution for compound=C14237!</span>\n",
       "</pre>\n"
      ],
      "text/plain": [
       "\u001b[1;7;32m Success \u001b[0m\u001b[1;32m Found solution for compound=C14237!\u001b[0m\n"
      ]
     },
     "metadata": {},
     "output_type": "display_data"
    },
    {
     "data": {
      "text/html": [
       "<pre style=\"white-space:pre;overflow-x:auto;line-height:normal;font-family:Menlo,'DejaVu Sans Mono',consolas,'Courier New',monospace;margin:0px\"><span style=\"background-color: #008000; font-weight: bold\"> Success </span><span style=\"color: #008000; text-decoration-color: #008000; font-weight: bold\"> Found solution for compound=C14240!</span>\n",
       "</pre>\n"
      ],
      "text/plain": [
       "\u001b[1;7;32m Success \u001b[0m\u001b[1;32m Found solution for compound=C14240!\u001b[0m\n"
      ]
     },
     "metadata": {},
     "output_type": "display_data"
    },
    {
     "data": {
      "text/html": [
       "<pre style=\"white-space:pre;overflow-x:auto;line-height:normal;font-family:Menlo,'DejaVu Sans Mono',consolas,'Courier New',monospace;margin:0px\"><span style=\"background-color: #008000; font-weight: bold\"> Success </span><span style=\"color: #008000; text-decoration-color: #008000; font-weight: bold\"> Found solution for compound=C14248!</span>\n",
       "</pre>\n"
      ],
      "text/plain": [
       "\u001b[1;7;32m Success \u001b[0m\u001b[1;32m Found solution for compound=C14248!\u001b[0m\n"
      ]
     },
     "metadata": {},
     "output_type": "display_data"
    },
    {
     "data": {
      "text/html": [
       "<pre style=\"white-space:pre;overflow-x:auto;line-height:normal;font-family:Menlo,'DejaVu Sans Mono',consolas,'Courier New',monospace;margin:0px\"><span style=\"background-color: #008000; font-weight: bold\"> Success </span><span style=\"color: #008000; text-decoration-color: #008000; font-weight: bold\"> Found solution for compound=C14249!</span>\n",
       "</pre>\n"
      ],
      "text/plain": [
       "\u001b[1;7;32m Success \u001b[0m\u001b[1;32m Found solution for compound=C14249!\u001b[0m\n"
      ]
     },
     "metadata": {},
     "output_type": "display_data"
    },
    {
     "data": {
      "text/html": [
       "<pre style=\"white-space:pre;overflow-x:auto;line-height:normal;font-family:Menlo,'DejaVu Sans Mono',consolas,'Courier New',monospace;margin:0px\"><span style=\"background-color: #008000; font-weight: bold\"> Success </span><span style=\"color: #008000; text-decoration-color: #008000; font-weight: bold\"> Found solution for compound=C14250!</span>\n",
       "</pre>\n"
      ],
      "text/plain": [
       "\u001b[1;7;32m Success \u001b[0m\u001b[1;32m Found solution for compound=C14250!\u001b[0m\n"
      ]
     },
     "metadata": {},
     "output_type": "display_data"
    },
    {
     "data": {
      "text/html": [
       "<pre style=\"white-space:pre;overflow-x:auto;line-height:normal;font-family:Menlo,'DejaVu Sans Mono',consolas,'Courier New',monospace;margin:0px\"><span style=\"background-color: #008000; font-weight: bold\"> Success </span><span style=\"color: #008000; text-decoration-color: #008000; font-weight: bold\"> Found solution for compound=C14251!</span>\n",
       "</pre>\n"
      ],
      "text/plain": [
       "\u001b[1;7;32m Success \u001b[0m\u001b[1;32m Found solution for compound=C14251!\u001b[0m\n"
      ]
     },
     "metadata": {},
     "output_type": "display_data"
    },
    {
     "data": {
      "text/html": [
       "<pre style=\"white-space:pre;overflow-x:auto;line-height:normal;font-family:Menlo,'DejaVu Sans Mono',consolas,'Courier New',monospace;margin:0px\"><span style=\"background-color: #008000; font-weight: bold\"> Success </span><span style=\"color: #008000; text-decoration-color: #008000; font-weight: bold\"> Found solution for compound=C15180!</span>\n",
       "</pre>\n"
      ],
      "text/plain": [
       "\u001b[1;7;32m Success \u001b[0m\u001b[1;32m Found solution for compound=C15180!\u001b[0m\n"
      ]
     },
     "metadata": {},
     "output_type": "display_data"
    },
    {
     "data": {
      "text/html": [
       "<pre style=\"white-space:pre;overflow-x:auto;line-height:normal;font-family:Menlo,'DejaVu Sans Mono',consolas,'Courier New',monospace;margin:0px\"><span style=\"background-color: #008000; font-weight: bold\"> Success </span><span style=\"color: #008000; text-decoration-color: #008000; font-weight: bold\"> Found solution for compound=C15201!</span>\n",
       "</pre>\n"
      ],
      "text/plain": [
       "\u001b[1;7;32m Success \u001b[0m\u001b[1;32m Found solution for compound=C15201!\u001b[0m\n"
      ]
     },
     "metadata": {},
     "output_type": "display_data"
    },
    {
     "data": {
      "text/html": [
       "<pre style=\"white-space:pre;overflow-x:auto;line-height:normal;font-family:Menlo,'DejaVu Sans Mono',consolas,'Courier New',monospace;margin:0px\"><span style=\"background-color: #008000; font-weight: bold\"> Success </span><span style=\"color: #008000; text-decoration-color: #008000; font-weight: bold\"> Found solution for compound=C15218!</span>\n",
       "</pre>\n"
      ],
      "text/plain": [
       "\u001b[1;7;32m Success \u001b[0m\u001b[1;32m Found solution for compound=C15218!\u001b[0m\n"
      ]
     },
     "metadata": {},
     "output_type": "display_data"
    },
    {
     "data": {
      "text/html": [
       "<pre style=\"white-space:pre;overflow-x:auto;line-height:normal;font-family:Menlo,'DejaVu Sans Mono',consolas,'Courier New',monospace;margin:0px\"><span style=\"background-color: #008000; font-weight: bold\"> Success </span><span style=\"color: #008000; text-decoration-color: #008000; font-weight: bold\"> Found solution for compound=C15241!</span>\n",
       "</pre>\n"
      ],
      "text/plain": [
       "\u001b[1;7;32m Success \u001b[0m\u001b[1;32m Found solution for compound=C15241!\u001b[0m\n"
      ]
     },
     "metadata": {},
     "output_type": "display_data"
    },
    {
     "data": {
      "text/html": [
       "<pre style=\"white-space:pre;overflow-x:auto;line-height:normal;font-family:Menlo,'DejaVu Sans Mono',consolas,'Courier New',monospace;margin:0px\"><span style=\"background-color: #008000; font-weight: bold\"> Success </span><span style=\"color: #008000; text-decoration-color: #008000; font-weight: bold\"> Found solution for compound=C15825!</span>\n",
       "</pre>\n"
      ],
      "text/plain": [
       "\u001b[1;7;32m Success \u001b[0m\u001b[1;32m Found solution for compound=C15825!\u001b[0m\n"
      ]
     },
     "metadata": {},
     "output_type": "display_data"
    },
    {
     "data": {
      "text/html": [
       "<pre style=\"white-space:pre;overflow-x:auto;line-height:normal;font-family:Menlo,'DejaVu Sans Mono',consolas,'Courier New',monospace;margin:0px\"><span style=\"background-color: #008000; font-weight: bold\"> Success </span><span style=\"color: #008000; text-decoration-color: #008000; font-weight: bold\"> Found solution for compound=C16186!</span>\n",
       "</pre>\n"
      ],
      "text/plain": [
       "\u001b[1;7;32m Success \u001b[0m\u001b[1;32m Found solution for compound=C16186!\u001b[0m\n"
      ]
     },
     "metadata": {},
     "output_type": "display_data"
    },
    {
     "data": {
      "text/html": [
       "<pre style=\"white-space:pre;overflow-x:auto;line-height:normal;font-family:Menlo,'DejaVu Sans Mono',consolas,'Courier New',monospace;margin:0px\"><span style=\"background-color: #008000; font-weight: bold\"> Success </span><span style=\"color: #008000; text-decoration-color: #008000; font-weight: bold\"> Found solution for compound=C16374!</span>\n",
       "</pre>\n"
      ],
      "text/plain": [
       "\u001b[1;7;32m Success \u001b[0m\u001b[1;32m Found solution for compound=C16374!\u001b[0m\n"
      ]
     },
     "metadata": {},
     "output_type": "display_data"
    },
    {
     "data": {
      "text/html": [
       "<pre style=\"white-space:pre;overflow-x:auto;line-height:normal;font-family:Menlo,'DejaVu Sans Mono',consolas,'Courier New',monospace;margin:0px\"><span style=\"background-color: #008000; font-weight: bold\"> Success </span><span style=\"color: #008000; text-decoration-color: #008000; font-weight: bold\"> Found solution for compound=C16924!</span>\n",
       "</pre>\n"
      ],
      "text/plain": [
       "\u001b[1;7;32m Success \u001b[0m\u001b[1;32m Found solution for compound=C16924!\u001b[0m\n"
      ]
     },
     "metadata": {},
     "output_type": "display_data"
    },
    {
     "data": {
      "text/html": [
       "<pre style=\"white-space:pre;overflow-x:auto;line-height:normal;font-family:Menlo,'DejaVu Sans Mono',consolas,'Courier New',monospace;margin:0px\"><span style=\"background-color: #008000; font-weight: bold\"> Success </span><span style=\"color: #008000; text-decoration-color: #008000; font-weight: bold\"> Found solution for compound=C17117!</span>\n",
       "</pre>\n"
      ],
      "text/plain": [
       "\u001b[1;7;32m Success \u001b[0m\u001b[1;32m Found solution for compound=C17117!\u001b[0m\n"
      ]
     },
     "metadata": {},
     "output_type": "display_data"
    },
    {
     "data": {
      "text/html": [
       "<pre style=\"white-space:pre;overflow-x:auto;line-height:normal;font-family:Menlo,'DejaVu Sans Mono',consolas,'Courier New',monospace;margin:0px\"><span style=\"background-color: #008000; font-weight: bold\"> Success </span><span style=\"color: #008000; text-decoration-color: #008000; font-weight: bold\"> Found solution for compound=C18171!</span>\n",
       "</pre>\n"
      ],
      "text/plain": [
       "\u001b[1;7;32m Success \u001b[0m\u001b[1;32m Found solution for compound=C18171!\u001b[0m\n"
      ]
     },
     "metadata": {},
     "output_type": "display_data"
    },
    {
     "data": {
      "text/html": [
       "<pre style=\"white-space:pre;overflow-x:auto;line-height:normal;font-family:Menlo,'DejaVu Sans Mono',consolas,'Courier New',monospace;margin:0px\"><span style=\"background-color: #008000; font-weight: bold\"> Success </span><span style=\"color: #008000; text-decoration-color: #008000; font-weight: bold\"> Found solution for compound=C18331!</span>\n",
       "</pre>\n"
      ],
      "text/plain": [
       "\u001b[1;7;32m Success \u001b[0m\u001b[1;32m Found solution for compound=C18331!\u001b[0m\n"
      ]
     },
     "metadata": {},
     "output_type": "display_data"
    },
    {
     "data": {
      "text/html": [
       "<pre style=\"white-space:pre;overflow-x:auto;line-height:normal;font-family:Menlo,'DejaVu Sans Mono',consolas,'Courier New',monospace;margin:0px\"><span style=\"background-color: #008000; font-weight: bold\"> Success </span><span style=\"color: #008000; text-decoration-color: #008000; font-weight: bold\"> Found solution for compound=C18557!</span>\n",
       "</pre>\n"
      ],
      "text/plain": [
       "\u001b[1;7;32m Success \u001b[0m\u001b[1;32m Found solution for compound=C18557!\u001b[0m\n"
      ]
     },
     "metadata": {},
     "output_type": "display_data"
    },
    {
     "data": {
      "text/html": [
       "<pre style=\"white-space:pre;overflow-x:auto;line-height:normal;font-family:Menlo,'DejaVu Sans Mono',consolas,'Courier New',monospace;margin:0px\"><span style=\"background-color: #008000; font-weight: bold\"> Success </span><span style=\"color: #008000; text-decoration-color: #008000; font-weight: bold\"> Found solution for compound=C21569!</span>\n",
       "</pre>\n"
      ],
      "text/plain": [
       "\u001b[1;7;32m Success \u001b[0m\u001b[1;32m Found solution for compound=C21569!\u001b[0m\n"
      ]
     },
     "metadata": {},
     "output_type": "display_data"
    },
    {
     "data": {
      "text/html": [
       "<pre style=\"white-space:pre;overflow-x:auto;line-height:normal;font-family:Menlo,'DejaVu Sans Mono',consolas,'Courier New',monospace;margin:0px\"><span style=\"background-color: #008000; font-weight: bold\"> Success </span><span style=\"color: #008000; text-decoration-color: #008000; font-weight: bold\"> Found solution for compound=C21573!</span>\n",
       "</pre>\n"
      ],
      "text/plain": [
       "\u001b[1;7;32m Success \u001b[0m\u001b[1;32m Found solution for compound=C21573!\u001b[0m\n"
      ]
     },
     "metadata": {},
     "output_type": "display_data"
    },
    {
     "data": {
      "text/html": [
       "<pre style=\"white-space:pre;overflow-x:auto;line-height:normal;font-family:Menlo,'DejaVu Sans Mono',consolas,'Courier New',monospace;margin:0px\"><span style=\"background-color: #008000; font-weight: bold\"> Success </span><span style=\"color: #008000; text-decoration-color: #008000; font-weight: bold\"> Found solution for compound=C21575!</span>\n",
       "</pre>\n"
      ],
      "text/plain": [
       "\u001b[1;7;32m Success \u001b[0m\u001b[1;32m Found solution for compound=C21575!\u001b[0m\n"
      ]
     },
     "metadata": {},
     "output_type": "display_data"
    },
    {
     "data": {
      "text/html": [
       "<pre style=\"white-space:pre;overflow-x:auto;line-height:normal;font-family:Menlo,'DejaVu Sans Mono',consolas,'Courier New',monospace;margin:0px\"><span style=\"background-color: #008000; font-weight: bold\"> Success </span><span style=\"color: #008000; text-decoration-color: #008000; font-weight: bold\"> Found solution for compound=C21581!</span>\n",
       "</pre>\n"
      ],
      "text/plain": [
       "\u001b[1;7;32m Success \u001b[0m\u001b[1;32m Found solution for compound=C21581!\u001b[0m\n"
      ]
     },
     "metadata": {},
     "output_type": "display_data"
    },
    {
     "data": {
      "text/html": [
       "<pre style=\"white-space:pre;overflow-x:auto;line-height:normal;font-family:Menlo,'DejaVu Sans Mono',consolas,'Courier New',monospace;margin:0px\"><span style=\"background-color: #008000; font-weight: bold\"> Success </span><span style=\"color: #008000; text-decoration-color: #008000; font-weight: bold\"> Found solution for compound=C21843!</span>\n",
       "</pre>\n"
      ],
      "text/plain": [
       "\u001b[1;7;32m Success \u001b[0m\u001b[1;32m Found solution for compound=C21843!\u001b[0m\n"
      ]
     },
     "metadata": {},
     "output_type": "display_data"
    },
    {
     "data": {
      "text/html": [
       "<pre style=\"white-space:pre;overflow-x:auto;line-height:normal;font-family:Menlo,'DejaVu Sans Mono',consolas,'Courier New',monospace;margin:0px\"><span style=\"background-color: #008000; font-weight: bold\"> Success </span><span style=\"color: #008000; text-decoration-color: #008000; font-weight: bold\"> Found solution for compound=C21844!</span>\n",
       "</pre>\n"
      ],
      "text/plain": [
       "\u001b[1;7;32m Success \u001b[0m\u001b[1;32m Found solution for compound=C21844!\u001b[0m\n"
      ]
     },
     "metadata": {},
     "output_type": "display_data"
    },
    {
     "data": {
      "text/html": [
       "<pre style=\"white-space:pre;overflow-x:auto;line-height:normal;font-family:Menlo,'DejaVu Sans Mono',consolas,'Courier New',monospace;margin:0px\"><span style=\"background-color: #008000; font-weight: bold\"> Success </span><span style=\"color: #008000; text-decoration-color: #008000; font-weight: bold\"> Found solution for compound=C21868!</span>\n",
       "</pre>\n"
      ],
      "text/plain": [
       "\u001b[1;7;32m Success \u001b[0m\u001b[1;32m Found solution for compound=C21868!\u001b[0m\n"
      ]
     },
     "metadata": {},
     "output_type": "display_data"
    },
    {
     "data": {
      "text/html": [
       "<pre style=\"white-space:pre;overflow-x:auto;line-height:normal;font-family:Menlo,'DejaVu Sans Mono',consolas,'Courier New',monospace;margin:0px\"><span style=\"background-color: #008000; font-weight: bold\"> Success </span><span style=\"color: #008000; text-decoration-color: #008000; font-weight: bold\"> Found solution for compound=C28825!</span>\n",
       "</pre>\n"
      ],
      "text/plain": [
       "\u001b[1;7;32m Success \u001b[0m\u001b[1;32m Found solution for compound=C28825!\u001b[0m\n"
      ]
     },
     "metadata": {},
     "output_type": "display_data"
    },
    {
     "data": {
      "text/html": [
       "<pre style=\"white-space:pre;overflow-x:auto;line-height:normal;font-family:Menlo,'DejaVu Sans Mono',consolas,'Courier New',monospace;margin:0px\"><span style=\"background-color: #008000; font-weight: bold\"> Success </span><span style=\"color: #008000; text-decoration-color: #008000; font-weight: bold\"> Found solution for compound=C28826!</span>\n",
       "</pre>\n"
      ],
      "text/plain": [
       "\u001b[1;7;32m Success \u001b[0m\u001b[1;32m Found solution for compound=C28826!\u001b[0m\n"
      ]
     },
     "metadata": {},
     "output_type": "display_data"
    },
    {
     "data": {
      "text/html": [
       "<pre style=\"white-space:pre;overflow-x:auto;line-height:normal;font-family:Menlo,'DejaVu Sans Mono',consolas,'Courier New',monospace;margin:0px\"><span style=\"background-color: #008000; font-weight: bold\"> Success </span><span style=\"color: #008000; text-decoration-color: #008000; font-weight: bold\"> Found solution for compound=C28830!</span>\n",
       "</pre>\n"
      ],
      "text/plain": [
       "\u001b[1;7;32m Success \u001b[0m\u001b[1;32m Found solution for compound=C28830!\u001b[0m\n"
      ]
     },
     "metadata": {},
     "output_type": "display_data"
    },
    {
     "data": {
      "text/html": [
       "<pre style=\"white-space:pre;overflow-x:auto;line-height:normal;font-family:Menlo,'DejaVu Sans Mono',consolas,'Courier New',monospace;margin:0px\"><span style=\"background-color: #008000; font-weight: bold\"> Success </span><span style=\"color: #008000; text-decoration-color: #008000; font-weight: bold\"> Found solution for compound=C28833!</span>\n",
       "</pre>\n"
      ],
      "text/plain": [
       "\u001b[1;7;32m Success \u001b[0m\u001b[1;32m Found solution for compound=C28833!\u001b[0m\n"
      ]
     },
     "metadata": {},
     "output_type": "display_data"
    },
    {
     "data": {
      "text/html": [
       "<pre style=\"white-space:pre;overflow-x:auto;line-height:normal;font-family:Menlo,'DejaVu Sans Mono',consolas,'Courier New',monospace;margin:0px\"><span style=\"background-color: #008000; font-weight: bold\"> Success </span><span style=\"color: #008000; text-decoration-color: #008000; font-weight: bold\"> Found solution for compound=C28835!</span>\n",
       "</pre>\n"
      ],
      "text/plain": [
       "\u001b[1;7;32m Success \u001b[0m\u001b[1;32m Found solution for compound=C28835!\u001b[0m\n"
      ]
     },
     "metadata": {},
     "output_type": "display_data"
    },
    {
     "data": {
      "text/html": [
       "<pre style=\"white-space:pre;overflow-x:auto;line-height:normal;font-family:Menlo,'DejaVu Sans Mono',consolas,'Courier New',monospace;margin:0px\"><span style=\"background-color: #008000; font-weight: bold\"> Success </span><span style=\"color: #008000; text-decoration-color: #008000; font-weight: bold\"> Found solution for compound=C28840!</span>\n",
       "</pre>\n"
      ],
      "text/plain": [
       "\u001b[1;7;32m Success \u001b[0m\u001b[1;32m Found solution for compound=C28840!\u001b[0m\n"
      ]
     },
     "metadata": {},
     "output_type": "display_data"
    },
    {
     "data": {
      "text/html": [
       "<pre style=\"white-space:pre;overflow-x:auto;line-height:normal;font-family:Menlo,'DejaVu Sans Mono',consolas,'Courier New',monospace;margin:0px\"><span style=\"background-color: #008000; font-weight: bold\"> Success </span><span style=\"color: #008000; text-decoration-color: #008000; font-weight: bold\"> Found solution for compound=C28841!</span>\n",
       "</pre>\n"
      ],
      "text/plain": [
       "\u001b[1;7;32m Success \u001b[0m\u001b[1;32m Found solution for compound=C28841!\u001b[0m\n"
      ]
     },
     "metadata": {},
     "output_type": "display_data"
    },
    {
     "data": {
      "text/html": [
       "<pre style=\"white-space:pre;overflow-x:auto;line-height:normal;font-family:Menlo,'DejaVu Sans Mono',consolas,'Courier New',monospace;margin:0px\"><span style=\"background-color: #008000; font-weight: bold\"> Success </span><span style=\"color: #008000; text-decoration-color: #008000; font-weight: bold\"> Found solution for compound=C28844!</span>\n",
       "</pre>\n"
      ],
      "text/plain": [
       "\u001b[1;7;32m Success \u001b[0m\u001b[1;32m Found solution for compound=C28844!\u001b[0m\n"
      ]
     },
     "metadata": {},
     "output_type": "display_data"
    },
    {
     "data": {
      "text/html": [
       "<pre style=\"white-space:pre;overflow-x:auto;line-height:normal;font-family:Menlo,'DejaVu Sans Mono',consolas,'Courier New',monospace;margin:0px\"><span style=\"background-color: #008000; font-weight: bold\"> Success </span><span style=\"color: #008000; text-decoration-color: #008000; font-weight: bold\"> Found solution for compound=C28845!</span>\n",
       "</pre>\n"
      ],
      "text/plain": [
       "\u001b[1;7;32m Success \u001b[0m\u001b[1;32m Found solution for compound=C28845!\u001b[0m\n"
      ]
     },
     "metadata": {},
     "output_type": "display_data"
    },
    {
     "data": {
      "text/html": [
       "<pre style=\"white-space:pre;overflow-x:auto;line-height:normal;font-family:Menlo,'DejaVu Sans Mono',consolas,'Courier New',monospace;margin:0px\"><span style=\"background-color: #008000; font-weight: bold\"> Success </span><span style=\"color: #008000; text-decoration-color: #008000; font-weight: bold\"> Found solution for compound=C28849!</span>\n",
       "</pre>\n"
      ],
      "text/plain": [
       "\u001b[1;7;32m Success \u001b[0m\u001b[1;32m Found solution for compound=C28849!\u001b[0m\n"
      ]
     },
     "metadata": {},
     "output_type": "display_data"
    },
    {
     "data": {
      "text/html": [
       "<pre style=\"white-space:pre;overflow-x:auto;line-height:normal;font-family:Menlo,'DejaVu Sans Mono',consolas,'Courier New',monospace;margin:0px\"><span style=\"background-color: #008000; font-weight: bold\"> Success </span><span style=\"color: #008000; text-decoration-color: #008000; font-weight: bold\"> Found solution for compound=C28851!</span>\n",
       "</pre>\n"
      ],
      "text/plain": [
       "\u001b[1;7;32m Success \u001b[0m\u001b[1;32m Found solution for compound=C28851!\u001b[0m\n"
      ]
     },
     "metadata": {},
     "output_type": "display_data"
    },
    {
     "data": {
      "text/html": [
       "<pre style=\"white-space:pre;overflow-x:auto;line-height:normal;font-family:Menlo,'DejaVu Sans Mono',consolas,'Courier New',monospace;margin:0px\"><span style=\"background-color: #008000; font-weight: bold\"> Success </span><span style=\"color: #008000; text-decoration-color: #008000; font-weight: bold\"> Found solution for compound=C29847!</span>\n",
       "</pre>\n"
      ],
      "text/plain": [
       "\u001b[1;7;32m Success \u001b[0m\u001b[1;32m Found solution for compound=C29847!\u001b[0m\n"
      ]
     },
     "metadata": {},
     "output_type": "display_data"
    },
    {
     "data": {
      "text/html": [
       "<pre style=\"white-space:pre;overflow-x:auto;line-height:normal;font-family:Menlo,'DejaVu Sans Mono',consolas,'Courier New',monospace;margin:0px\"><span style=\"background-color: #008000; font-weight: bold\"> Success </span><span style=\"color: #008000; text-decoration-color: #008000; font-weight: bold\"> Found solution for compound=C29856!</span>\n",
       "</pre>\n"
      ],
      "text/plain": [
       "\u001b[1;7;32m Success \u001b[0m\u001b[1;32m Found solution for compound=C29856!\u001b[0m\n"
      ]
     },
     "metadata": {},
     "output_type": "display_data"
    },
    {
     "data": {
      "text/html": [
       "<pre style=\"white-space:pre;overflow-x:auto;line-height:normal;font-family:Menlo,'DejaVu Sans Mono',consolas,'Courier New',monospace;margin:0px\"><span style=\"background-color: #008000; font-weight: bold\"> Success </span><span style=\"color: #008000; text-decoration-color: #008000; font-weight: bold\"> Found solution for compound=C29865!</span>\n",
       "</pre>\n"
      ],
      "text/plain": [
       "\u001b[1;7;32m Success \u001b[0m\u001b[1;32m Found solution for compound=C29865!\u001b[0m\n"
      ]
     },
     "metadata": {},
     "output_type": "display_data"
    },
    {
     "data": {
      "text/html": [
       "<pre style=\"white-space:pre;overflow-x:auto;line-height:normal;font-family:Menlo,'DejaVu Sans Mono',consolas,'Courier New',monospace;margin:0px\"><span style=\"background-color: #008000; font-weight: bold\"> Success </span><span style=\"color: #008000; text-decoration-color: #008000; font-weight: bold\"> Found solution for compound=C29898!</span>\n",
       "</pre>\n"
      ],
      "text/plain": [
       "\u001b[1;7;32m Success \u001b[0m\u001b[1;32m Found solution for compound=C29898!\u001b[0m\n"
      ]
     },
     "metadata": {},
     "output_type": "display_data"
    },
    {
     "data": {
      "text/html": [
       "<pre style=\"white-space:pre;overflow-x:auto;line-height:normal;font-family:Menlo,'DejaVu Sans Mono',consolas,'Courier New',monospace;margin:0px\"><span style=\"background-color: #008000; font-weight: bold\"> Success </span><span style=\"color: #008000; text-decoration-color: #008000; font-weight: bold\"> Found solution for compound=C29903!</span>\n",
       "</pre>\n"
      ],
      "text/plain": [
       "\u001b[1;7;32m Success \u001b[0m\u001b[1;32m Found solution for compound=C29903!\u001b[0m\n"
      ]
     },
     "metadata": {},
     "output_type": "display_data"
    },
    {
     "data": {
      "text/html": [
       "<pre style=\"white-space:pre;overflow-x:auto;line-height:normal;font-family:Menlo,'DejaVu Sans Mono',consolas,'Courier New',monospace;margin:0px\"><span style=\"background-color: #008000; font-weight: bold\"> Success </span><span style=\"color: #008000; text-decoration-color: #008000; font-weight: bold\"> Found solution for compound=C29906!</span>\n",
       "</pre>\n"
      ],
      "text/plain": [
       "\u001b[1;7;32m Success \u001b[0m\u001b[1;32m Found solution for compound=C29906!\u001b[0m\n"
      ]
     },
     "metadata": {},
     "output_type": "display_data"
    },
    {
     "data": {
      "text/html": [
       "<pre style=\"white-space:pre;overflow-x:auto;line-height:normal;font-family:Menlo,'DejaVu Sans Mono',consolas,'Courier New',monospace;margin:0px\"><span style=\"background-color: #008000; font-weight: bold\"> Success </span><span style=\"color: #008000; text-decoration-color: #008000; font-weight: bold\"> Found solution for compound=C30330!</span>\n",
       "</pre>\n"
      ],
      "text/plain": [
       "\u001b[1;7;32m Success \u001b[0m\u001b[1;32m Found solution for compound=C30330!\u001b[0m\n"
      ]
     },
     "metadata": {},
     "output_type": "display_data"
    },
    {
     "data": {
      "text/html": [
       "<pre style=\"white-space:pre;overflow-x:auto;line-height:normal;font-family:Menlo,'DejaVu Sans Mono',consolas,'Courier New',monospace;margin:0px\"><span style=\"background-color: #008000; font-weight: bold\"> Success </span><span style=\"color: #008000; text-decoration-color: #008000; font-weight: bold\"> Found solution for compound=C30333!</span>\n",
       "</pre>\n"
      ],
      "text/plain": [
       "\u001b[1;7;32m Success \u001b[0m\u001b[1;32m Found solution for compound=C30333!\u001b[0m\n"
      ]
     },
     "metadata": {},
     "output_type": "display_data"
    },
    {
     "data": {
      "text/html": [
       "<pre style=\"white-space:pre;overflow-x:auto;line-height:normal;font-family:Menlo,'DejaVu Sans Mono',consolas,'Courier New',monospace;margin:0px\"><span style=\"background-color: #008000; font-weight: bold\"> Success </span><span style=\"color: #008000; text-decoration-color: #008000; font-weight: bold\"> Found solution for compound=C30334!</span>\n",
       "</pre>\n"
      ],
      "text/plain": [
       "\u001b[1;7;32m Success \u001b[0m\u001b[1;32m Found solution for compound=C30334!\u001b[0m\n"
      ]
     },
     "metadata": {},
     "output_type": "display_data"
    },
    {
     "data": {
      "text/html": [
       "<pre style=\"white-space:pre;overflow-x:auto;line-height:normal;font-family:Menlo,'DejaVu Sans Mono',consolas,'Courier New',monospace;margin:0px\"><span style=\"background-color: #008000; font-weight: bold\"> Success </span><span style=\"color: #008000; text-decoration-color: #008000; font-weight: bold\"> Found solution for compound=C30342!</span>\n",
       "</pre>\n"
      ],
      "text/plain": [
       "\u001b[1;7;32m Success \u001b[0m\u001b[1;32m Found solution for compound=C30342!\u001b[0m\n"
      ]
     },
     "metadata": {},
     "output_type": "display_data"
    },
    {
     "data": {
      "text/html": [
       "<pre style=\"white-space:pre;overflow-x:auto;line-height:normal;font-family:Menlo,'DejaVu Sans Mono',consolas,'Courier New',monospace;margin:0px\"><span style=\"background-color: #008000; font-weight: bold\"> Success </span><span style=\"color: #008000; text-decoration-color: #008000; font-weight: bold\"> Found solution for compound=C30346!</span>\n",
       "</pre>\n"
      ],
      "text/plain": [
       "\u001b[1;7;32m Success \u001b[0m\u001b[1;32m Found solution for compound=C30346!\u001b[0m\n"
      ]
     },
     "metadata": {},
     "output_type": "display_data"
    },
    {
     "data": {
      "text/html": [
       "<pre style=\"white-space:pre;overflow-x:auto;line-height:normal;font-family:Menlo,'DejaVu Sans Mono',consolas,'Courier New',monospace;margin:0px\"><span style=\"background-color: #008000; font-weight: bold\"> Success </span><span style=\"color: #008000; text-decoration-color: #008000; font-weight: bold\"> Found solution for compound=C30351!</span>\n",
       "</pre>\n"
      ],
      "text/plain": [
       "\u001b[1;7;32m Success \u001b[0m\u001b[1;32m Found solution for compound=C30351!\u001b[0m\n"
      ]
     },
     "metadata": {},
     "output_type": "display_data"
    },
    {
     "data": {
      "text/html": [
       "<pre style=\"white-space:pre;overflow-x:auto;line-height:normal;font-family:Menlo,'DejaVu Sans Mono',consolas,'Courier New',monospace;margin:0px\"><span style=\"background-color: #008000; font-weight: bold\"> Success </span><span style=\"color: #008000; text-decoration-color: #008000; font-weight: bold\"> Found solution for compound=C30352!</span>\n",
       "</pre>\n"
      ],
      "text/plain": [
       "\u001b[1;7;32m Success \u001b[0m\u001b[1;32m Found solution for compound=C30352!\u001b[0m\n"
      ]
     },
     "metadata": {},
     "output_type": "display_data"
    },
    {
     "data": {
      "text/html": [
       "<pre style=\"white-space:pre;overflow-x:auto;line-height:normal;font-family:Menlo,'DejaVu Sans Mono',consolas,'Courier New',monospace;margin:0px\"><span style=\"background-color: #008000; font-weight: bold\"> Success </span><span style=\"color: #008000; text-decoration-color: #008000; font-weight: bold\"> Found solution for compound=C30364!</span>\n",
       "</pre>\n"
      ],
      "text/plain": [
       "\u001b[1;7;32m Success \u001b[0m\u001b[1;32m Found solution for compound=C30364!\u001b[0m\n"
      ]
     },
     "metadata": {},
     "output_type": "display_data"
    },
    {
     "data": {
      "text/html": [
       "<pre style=\"white-space:pre;overflow-x:auto;line-height:normal;font-family:Menlo,'DejaVu Sans Mono',consolas,'Courier New',monospace;margin:0px\"><span style=\"background-color: #008000; font-weight: bold\"> Success </span><span style=\"color: #008000; text-decoration-color: #008000; font-weight: bold\"> Found solution for compound=C30365!</span>\n",
       "</pre>\n"
      ],
      "text/plain": [
       "\u001b[1;7;32m Success \u001b[0m\u001b[1;32m Found solution for compound=C30365!\u001b[0m\n"
      ]
     },
     "metadata": {},
     "output_type": "display_data"
    },
    {
     "data": {
      "text/html": [
       "<pre style=\"white-space:pre;overflow-x:auto;line-height:normal;font-family:Menlo,'DejaVu Sans Mono',consolas,'Courier New',monospace;margin:0px\"><span style=\"background-color: #008000; font-weight: bold\"> Success </span><span style=\"color: #008000; text-decoration-color: #008000; font-weight: bold\"> Found solution for compound=C30367!</span>\n",
       "</pre>\n"
      ],
      "text/plain": [
       "\u001b[1;7;32m Success \u001b[0m\u001b[1;32m Found solution for compound=C30367!\u001b[0m\n"
      ]
     },
     "metadata": {},
     "output_type": "display_data"
    },
    {
     "data": {
      "text/html": [
       "<pre style=\"white-space:pre;overflow-x:auto;line-height:normal;font-family:Menlo,'DejaVu Sans Mono',consolas,'Courier New',monospace;margin:0px\"><span style=\"background-color: #008000; font-weight: bold\"> Success </span><span style=\"color: #008000; text-decoration-color: #008000; font-weight: bold\"> Found solution for compound=C30383!</span>\n",
       "</pre>\n"
      ],
      "text/plain": [
       "\u001b[1;7;32m Success \u001b[0m\u001b[1;32m Found solution for compound=C30383!\u001b[0m\n"
      ]
     },
     "metadata": {},
     "output_type": "display_data"
    },
    {
     "data": {
      "text/html": [
       "<pre style=\"white-space:pre;overflow-x:auto;line-height:normal;font-family:Menlo,'DejaVu Sans Mono',consolas,'Courier New',monospace;margin:0px\"><span style=\"background-color: #008000; font-weight: bold\"> Success </span><span style=\"color: #008000; text-decoration-color: #008000; font-weight: bold\"> Found solution for compound=C30388!</span>\n",
       "</pre>\n"
      ],
      "text/plain": [
       "\u001b[1;7;32m Success \u001b[0m\u001b[1;32m Found solution for compound=C30388!\u001b[0m\n"
      ]
     },
     "metadata": {},
     "output_type": "display_data"
    },
    {
     "data": {
      "text/html": [
       "<pre style=\"white-space:pre;overflow-x:auto;line-height:normal;font-family:Menlo,'DejaVu Sans Mono',consolas,'Courier New',monospace;margin:0px\"><span style=\"background-color: #008000; font-weight: bold\"> Success </span><span style=\"color: #008000; text-decoration-color: #008000; font-weight: bold\"> Found solution for compound=C30390!</span>\n",
       "</pre>\n"
      ],
      "text/plain": [
       "\u001b[1;7;32m Success \u001b[0m\u001b[1;32m Found solution for compound=C30390!\u001b[0m\n"
      ]
     },
     "metadata": {},
     "output_type": "display_data"
    },
    {
     "data": {
      "text/html": [
       "<pre style=\"white-space:pre;overflow-x:auto;line-height:normal;font-family:Menlo,'DejaVu Sans Mono',consolas,'Courier New',monospace;margin:0px\"><span style=\"background-color: #008000; font-weight: bold\"> Success </span><span style=\"color: #008000; text-decoration-color: #008000; font-weight: bold\"> Found solution for compound=C31931!</span>\n",
       "</pre>\n"
      ],
      "text/plain": [
       "\u001b[1;7;32m Success \u001b[0m\u001b[1;32m Found solution for compound=C31931!\u001b[0m\n"
      ]
     },
     "metadata": {},
     "output_type": "display_data"
    },
    {
     "data": {
      "text/html": [
       "<pre style=\"white-space:pre;overflow-x:auto;line-height:normal;font-family:Menlo,'DejaVu Sans Mono',consolas,'Courier New',monospace;margin:0px\"><span style=\"background-color: #008000; font-weight: bold\"> Success </span><span style=\"color: #008000; text-decoration-color: #008000; font-weight: bold\"> Found solution for compound=C31938!</span>\n",
       "</pre>\n"
      ],
      "text/plain": [
       "\u001b[1;7;32m Success \u001b[0m\u001b[1;32m Found solution for compound=C31938!\u001b[0m\n"
      ]
     },
     "metadata": {},
     "output_type": "display_data"
    },
    {
     "data": {
      "text/html": [
       "<pre style=\"white-space:pre;overflow-x:auto;line-height:normal;font-family:Menlo,'DejaVu Sans Mono',consolas,'Courier New',monospace;margin:0px\"><span style=\"background-color: #008000; font-weight: bold\"> Success </span><span style=\"color: #008000; text-decoration-color: #008000; font-weight: bold\"> Found solution for compound=C31941!</span>\n",
       "</pre>\n"
      ],
      "text/plain": [
       "\u001b[1;7;32m Success \u001b[0m\u001b[1;32m Found solution for compound=C31941!\u001b[0m\n"
      ]
     },
     "metadata": {},
     "output_type": "display_data"
    },
    {
     "data": {
      "text/html": [
       "<pre style=\"white-space:pre;overflow-x:auto;line-height:normal;font-family:Menlo,'DejaVu Sans Mono',consolas,'Courier New',monospace;margin:0px\"><span style=\"background-color: #008000; font-weight: bold\"> Success </span><span style=\"color: #008000; text-decoration-color: #008000; font-weight: bold\"> Found solution for compound=C31945!</span>\n",
       "</pre>\n"
      ],
      "text/plain": [
       "\u001b[1;7;32m Success \u001b[0m\u001b[1;32m Found solution for compound=C31945!\u001b[0m\n"
      ]
     },
     "metadata": {},
     "output_type": "display_data"
    },
    {
     "data": {
      "text/html": [
       "<pre style=\"white-space:pre;overflow-x:auto;line-height:normal;font-family:Menlo,'DejaVu Sans Mono',consolas,'Courier New',monospace;margin:0px\"><span style=\"background-color: #008000; font-weight: bold\"> Success </span><span style=\"color: #008000; text-decoration-color: #008000; font-weight: bold\"> Found solution for compound=C31946!</span>\n",
       "</pre>\n"
      ],
      "text/plain": [
       "\u001b[1;7;32m Success \u001b[0m\u001b[1;32m Found solution for compound=C31946!\u001b[0m\n"
      ]
     },
     "metadata": {},
     "output_type": "display_data"
    },
    {
     "data": {
      "text/html": [
       "<pre style=\"white-space:pre;overflow-x:auto;line-height:normal;font-family:Menlo,'DejaVu Sans Mono',consolas,'Courier New',monospace;margin:0px\"><span style=\"background-color: #008000; font-weight: bold\"> Success </span><span style=\"color: #008000; text-decoration-color: #008000; font-weight: bold\"> Found solution for compound=C31949!</span>\n",
       "</pre>\n"
      ],
      "text/plain": [
       "\u001b[1;7;32m Success \u001b[0m\u001b[1;32m Found solution for compound=C31949!\u001b[0m\n"
      ]
     },
     "metadata": {},
     "output_type": "display_data"
    },
    {
     "data": {
      "text/html": [
       "<pre style=\"white-space:pre;overflow-x:auto;line-height:normal;font-family:Menlo,'DejaVu Sans Mono',consolas,'Courier New',monospace;margin:0px\"><span style=\"background-color: #008000; font-weight: bold\"> Success </span><span style=\"color: #008000; text-decoration-color: #008000; font-weight: bold\"> Found solution for compound=C31985!</span>\n",
       "</pre>\n"
      ],
      "text/plain": [
       "\u001b[1;7;32m Success \u001b[0m\u001b[1;32m Found solution for compound=C31985!\u001b[0m\n"
      ]
     },
     "metadata": {},
     "output_type": "display_data"
    },
    {
     "data": {
      "text/html": [
       "<pre style=\"white-space:pre;overflow-x:auto;line-height:normal;font-family:Menlo,'DejaVu Sans Mono',consolas,'Courier New',monospace;margin:0px\"><span style=\"background-color: #008000; font-weight: bold\"> Success </span><span style=\"color: #008000; text-decoration-color: #008000; font-weight: bold\"> Found solution for compound=C31996!</span>\n",
       "</pre>\n"
      ],
      "text/plain": [
       "\u001b[1;7;32m Success \u001b[0m\u001b[1;32m Found solution for compound=C31996!\u001b[0m\n"
      ]
     },
     "metadata": {},
     "output_type": "display_data"
    },
    {
     "data": {
      "text/html": [
       "<pre style=\"white-space:pre;overflow-x:auto;line-height:normal;font-family:Menlo,'DejaVu Sans Mono',consolas,'Courier New',monospace;margin:0px\"><span style=\"background-color: #008000; font-weight: bold\"> Success </span><span style=\"color: #008000; text-decoration-color: #008000; font-weight: bold\"> Found solution for compound=C31998!</span>\n",
       "</pre>\n"
      ],
      "text/plain": [
       "\u001b[1;7;32m Success \u001b[0m\u001b[1;32m Found solution for compound=C31998!\u001b[0m\n"
      ]
     },
     "metadata": {},
     "output_type": "display_data"
    },
    {
     "data": {
      "text/html": [
       "<pre style=\"white-space:pre;overflow-x:auto;line-height:normal;font-family:Menlo,'DejaVu Sans Mono',consolas,'Courier New',monospace;margin:0px\"><span style=\"background-color: #008000; font-weight: bold\"> Success </span><span style=\"color: #008000; text-decoration-color: #008000; font-weight: bold\"> Found solution for compound=C32015!</span>\n",
       "</pre>\n"
      ],
      "text/plain": [
       "\u001b[1;7;32m Success \u001b[0m\u001b[1;32m Found solution for compound=C32015!\u001b[0m\n"
      ]
     },
     "metadata": {},
     "output_type": "display_data"
    },
    {
     "data": {
      "text/html": [
       "<pre style=\"white-space:pre;overflow-x:auto;line-height:normal;font-family:Menlo,'DejaVu Sans Mono',consolas,'Courier New',monospace;margin:0px\"><span style=\"background-color: #008000; font-weight: bold\"> Success </span><span style=\"color: #008000; text-decoration-color: #008000; font-weight: bold\"> Found solution for compound=C32038!</span>\n",
       "</pre>\n"
      ],
      "text/plain": [
       "\u001b[1;7;32m Success \u001b[0m\u001b[1;32m Found solution for compound=C32038!\u001b[0m\n"
      ]
     },
     "metadata": {},
     "output_type": "display_data"
    },
    {
     "data": {
      "text/html": [
       "<pre style=\"white-space:pre;overflow-x:auto;line-height:normal;font-family:Menlo,'DejaVu Sans Mono',consolas,'Courier New',monospace;margin:0px\"><span style=\"background-color: #008000; font-weight: bold\"> Success </span><span style=\"color: #008000; text-decoration-color: #008000; font-weight: bold\"> Found solution for compound=C32054!</span>\n",
       "</pre>\n"
      ],
      "text/plain": [
       "\u001b[1;7;32m Success \u001b[0m\u001b[1;32m Found solution for compound=C32054!\u001b[0m\n"
      ]
     },
     "metadata": {},
     "output_type": "display_data"
    },
    {
     "data": {
      "text/html": [
       "<pre style=\"white-space:pre;overflow-x:auto;line-height:normal;font-family:Menlo,'DejaVu Sans Mono',consolas,'Courier New',monospace;margin:0px\"><span style=\"background-color: #008000; font-weight: bold\"> Success </span><span style=\"color: #008000; text-decoration-color: #008000; font-weight: bold\"> Found solution for compound=C32058!</span>\n",
       "</pre>\n"
      ],
      "text/plain": [
       "\u001b[1;7;32m Success \u001b[0m\u001b[1;32m Found solution for compound=C32058!\u001b[0m\n"
      ]
     },
     "metadata": {},
     "output_type": "display_data"
    },
    {
     "data": {
      "text/html": [
       "<pre style=\"white-space:pre;overflow-x:auto;line-height:normal;font-family:Menlo,'DejaVu Sans Mono',consolas,'Courier New',monospace;margin:0px\"><span style=\"background-color: #008000; font-weight: bold\"> Success </span><span style=\"color: #008000; text-decoration-color: #008000; font-weight: bold\"> Found solution for compound=C32062!</span>\n",
       "</pre>\n"
      ],
      "text/plain": [
       "\u001b[1;7;32m Success \u001b[0m\u001b[1;32m Found solution for compound=C32062!\u001b[0m\n"
      ]
     },
     "metadata": {},
     "output_type": "display_data"
    },
    {
     "data": {
      "text/html": [
       "<pre style=\"white-space:pre;overflow-x:auto;line-height:normal;font-family:Menlo,'DejaVu Sans Mono',consolas,'Courier New',monospace;margin:0px\"><span style=\"background-color: #008000; font-weight: bold\"> Success </span><span style=\"color: #008000; text-decoration-color: #008000; font-weight: bold\"> Found solution for compound=C32066!</span>\n",
       "</pre>\n"
      ],
      "text/plain": [
       "\u001b[1;7;32m Success \u001b[0m\u001b[1;32m Found solution for compound=C32066!\u001b[0m\n"
      ]
     },
     "metadata": {},
     "output_type": "display_data"
    },
    {
     "data": {
      "text/html": [
       "<pre style=\"white-space:pre;overflow-x:auto;line-height:normal;font-family:Menlo,'DejaVu Sans Mono',consolas,'Courier New',monospace;margin:0px\"><span style=\"background-color: #008000; font-weight: bold\"> Success </span><span style=\"color: #008000; text-decoration-color: #008000; font-weight: bold\"> Found solution for compound=C32105!</span>\n",
       "</pre>\n"
      ],
      "text/plain": [
       "\u001b[1;7;32m Success \u001b[0m\u001b[1;32m Found solution for compound=C32105!\u001b[0m\n"
      ]
     },
     "metadata": {},
     "output_type": "display_data"
    },
    {
     "data": {
      "text/html": [
       "<pre style=\"white-space:pre;overflow-x:auto;line-height:normal;font-family:Menlo,'DejaVu Sans Mono',consolas,'Courier New',monospace;margin:0px\"><span style=\"background-color: #008000; font-weight: bold\"> Success </span><span style=\"color: #008000; text-decoration-color: #008000; font-weight: bold\"> Found solution for compound=C32120!</span>\n",
       "</pre>\n"
      ],
      "text/plain": [
       "\u001b[1;7;32m Success \u001b[0m\u001b[1;32m Found solution for compound=C32120!\u001b[0m\n"
      ]
     },
     "metadata": {},
     "output_type": "display_data"
    },
    {
     "data": {
      "text/html": [
       "<pre style=\"white-space:pre;overflow-x:auto;line-height:normal;font-family:Menlo,'DejaVu Sans Mono',consolas,'Courier New',monospace;margin:0px\"><span style=\"background-color: #008000; font-weight: bold\"> Success </span><span style=\"color: #008000; text-decoration-color: #008000; font-weight: bold\"> Found solution for compound=C32148!</span>\n",
       "</pre>\n"
      ],
      "text/plain": [
       "\u001b[1;7;32m Success \u001b[0m\u001b[1;32m Found solution for compound=C32148!\u001b[0m\n"
      ]
     },
     "metadata": {},
     "output_type": "display_data"
    },
    {
     "data": {
      "text/html": [
       "<pre style=\"white-space:pre;overflow-x:auto;line-height:normal;font-family:Menlo,'DejaVu Sans Mono',consolas,'Courier New',monospace;margin:0px\"><span style=\"background-color: #008000; font-weight: bold\"> Success </span><span style=\"color: #008000; text-decoration-color: #008000; font-weight: bold\"> Found solution for compound=C32200!</span>\n",
       "</pre>\n"
      ],
      "text/plain": [
       "\u001b[1;7;32m Success \u001b[0m\u001b[1;32m Found solution for compound=C32200!\u001b[0m\n"
      ]
     },
     "metadata": {},
     "output_type": "display_data"
    },
    {
     "data": {
      "text/html": [
       "<pre style=\"white-space:pre;overflow-x:auto;line-height:normal;font-family:Menlo,'DejaVu Sans Mono',consolas,'Courier New',monospace;margin:0px\"><span style=\"background-color: #008000; font-weight: bold\"> Success </span><span style=\"color: #008000; text-decoration-color: #008000; font-weight: bold\"> Found solution for compound=C32225!</span>\n",
       "</pre>\n"
      ],
      "text/plain": [
       "\u001b[1;7;32m Success \u001b[0m\u001b[1;32m Found solution for compound=C32225!\u001b[0m\n"
      ]
     },
     "metadata": {},
     "output_type": "display_data"
    },
    {
     "data": {
      "text/html": [
       "<pre style=\"white-space:pre;overflow-x:auto;line-height:normal;font-family:Menlo,'DejaVu Sans Mono',consolas,'Courier New',monospace;margin:0px\"><span style=\"background-color: #008000; font-weight: bold\"> Success </span><span style=\"color: #008000; text-decoration-color: #008000; font-weight: bold\"> Found solution for compound=C32265!</span>\n",
       "</pre>\n"
      ],
      "text/plain": [
       "\u001b[1;7;32m Success \u001b[0m\u001b[1;32m Found solution for compound=C32265!\u001b[0m\n"
      ]
     },
     "metadata": {},
     "output_type": "display_data"
    },
    {
     "data": {
      "text/html": [
       "<pre style=\"white-space:pre;overflow-x:auto;line-height:normal;font-family:Menlo,'DejaVu Sans Mono',consolas,'Courier New',monospace;margin:0px\"><span style=\"background-color: #008000; font-weight: bold\"> Success </span><span style=\"color: #008000; text-decoration-color: #008000; font-weight: bold\"> Found solution for compound=C32428!</span>\n",
       "</pre>\n"
      ],
      "text/plain": [
       "\u001b[1;7;32m Success \u001b[0m\u001b[1;32m Found solution for compound=C32428!\u001b[0m\n"
      ]
     },
     "metadata": {},
     "output_type": "display_data"
    },
    {
     "data": {
      "text/html": [
       "<pre style=\"white-space:pre;overflow-x:auto;line-height:normal;font-family:Menlo,'DejaVu Sans Mono',consolas,'Courier New',monospace;margin:0px\"><span style=\"background-color: #008000; font-weight: bold\"> Success </span><span style=\"color: #008000; text-decoration-color: #008000; font-weight: bold\"> Found solution for compound=C32604!</span>\n",
       "</pre>\n"
      ],
      "text/plain": [
       "\u001b[1;7;32m Success \u001b[0m\u001b[1;32m Found solution for compound=C32604!\u001b[0m\n"
      ]
     },
     "metadata": {},
     "output_type": "display_data"
    },
    {
     "data": {
      "text/html": [
       "<pre style=\"white-space:pre;overflow-x:auto;line-height:normal;font-family:Menlo,'DejaVu Sans Mono',consolas,'Courier New',monospace;margin:0px\"><span style=\"background-color: #008000; font-weight: bold\"> Success </span><span style=\"color: #008000; text-decoration-color: #008000; font-weight: bold\"> Found solution for compound=C32618!</span>\n",
       "</pre>\n"
      ],
      "text/plain": [
       "\u001b[1;7;32m Success \u001b[0m\u001b[1;32m Found solution for compound=C32618!\u001b[0m\n"
      ]
     },
     "metadata": {},
     "output_type": "display_data"
    },
    {
     "data": {
      "text/html": [
       "<pre style=\"white-space:pre;overflow-x:auto;line-height:normal;font-family:Menlo,'DejaVu Sans Mono',consolas,'Courier New',monospace;margin:0px\"><span style=\"background-color: #008000; font-weight: bold\"> Success </span><span style=\"color: #008000; text-decoration-color: #008000; font-weight: bold\"> Found solution for compound=C34889!</span>\n",
       "</pre>\n"
      ],
      "text/plain": [
       "\u001b[1;7;32m Success \u001b[0m\u001b[1;32m Found solution for compound=C34889!\u001b[0m\n"
      ]
     },
     "metadata": {},
     "output_type": "display_data"
    },
    {
     "data": {
      "text/html": [
       "<pre style=\"white-space:pre;overflow-x:auto;line-height:normal;font-family:Menlo,'DejaVu Sans Mono',consolas,'Courier New',monospace;margin:0px\"><span style=\"background-color: #008000; font-weight: bold\"> Success </span><span style=\"color: #008000; text-decoration-color: #008000; font-weight: bold\"> Found solution for compound=C34898!</span>\n",
       "</pre>\n"
      ],
      "text/plain": [
       "\u001b[1;7;32m Success \u001b[0m\u001b[1;32m Found solution for compound=C34898!\u001b[0m\n"
      ]
     },
     "metadata": {},
     "output_type": "display_data"
    },
    {
     "data": {
      "text/html": [
       "<pre style=\"white-space:pre;overflow-x:auto;line-height:normal;font-family:Menlo,'DejaVu Sans Mono',consolas,'Courier New',monospace;margin:0px\"><span style=\"background-color: #008000; font-weight: bold\"> Success </span><span style=\"color: #008000; text-decoration-color: #008000; font-weight: bold\"> Found solution for compound=C35184!</span>\n",
       "</pre>\n"
      ],
      "text/plain": [
       "\u001b[1;7;32m Success \u001b[0m\u001b[1;32m Found solution for compound=C35184!\u001b[0m\n"
      ]
     },
     "metadata": {},
     "output_type": "display_data"
    },
    {
     "data": {
      "text/html": [
       "<pre style=\"white-space:pre;overflow-x:auto;line-height:normal;font-family:Menlo,'DejaVu Sans Mono',consolas,'Courier New',monospace;margin:0px\"><span style=\"background-color: #008000; font-weight: bold\"> Success </span><span style=\"color: #008000; text-decoration-color: #008000; font-weight: bold\"> Found solution for compound=C35227!</span>\n",
       "</pre>\n"
      ],
      "text/plain": [
       "\u001b[1;7;32m Success \u001b[0m\u001b[1;32m Found solution for compound=C35227!\u001b[0m\n"
      ]
     },
     "metadata": {},
     "output_type": "display_data"
    },
    {
     "data": {
      "text/html": [
       "<pre style=\"white-space:pre;overflow-x:auto;line-height:normal;font-family:Menlo,'DejaVu Sans Mono',consolas,'Courier New',monospace;margin:0px\"><span style=\"background-color: #008000; font-weight: bold\"> Success </span><span style=\"color: #008000; text-decoration-color: #008000; font-weight: bold\"> Found solution for compound=C35523!</span>\n",
       "</pre>\n"
      ],
      "text/plain": [
       "\u001b[1;7;32m Success \u001b[0m\u001b[1;32m Found solution for compound=C35523!\u001b[0m\n"
      ]
     },
     "metadata": {},
     "output_type": "display_data"
    },
    {
     "data": {
      "text/html": [
       "<pre style=\"white-space:pre;overflow-x:auto;line-height:normal;font-family:Menlo,'DejaVu Sans Mono',consolas,'Courier New',monospace;margin:0px\"><span style=\"background-color: #008000; font-weight: bold\"> Success </span><span style=\"color: #008000; text-decoration-color: #008000; font-weight: bold\"> Found solution for compound=C35531!</span>\n",
       "</pre>\n"
      ],
      "text/plain": [
       "\u001b[1;7;32m Success \u001b[0m\u001b[1;32m Found solution for compound=C35531!\u001b[0m\n"
      ]
     },
     "metadata": {},
     "output_type": "display_data"
    },
    {
     "data": {
      "text/html": [
       "<pre style=\"white-space:pre;overflow-x:auto;line-height:normal;font-family:Menlo,'DejaVu Sans Mono',consolas,'Courier New',monospace;margin:0px\"><span style=\"background-color: #008000; font-weight: bold\"> Success </span><span style=\"color: #008000; text-decoration-color: #008000; font-weight: bold\"> Found solution for compound=C39102!</span>\n",
       "</pre>\n"
      ],
      "text/plain": [
       "\u001b[1;7;32m Success \u001b[0m\u001b[1;32m Found solution for compound=C39102!\u001b[0m\n"
      ]
     },
     "metadata": {},
     "output_type": "display_data"
    },
    {
     "data": {
      "text/html": [
       "<pre style=\"white-space:pre;overflow-x:auto;line-height:normal;font-family:Menlo,'DejaVu Sans Mono',consolas,'Courier New',monospace;margin:0px\"><span style=\"background-color: #008000; font-weight: bold\"> Success </span><span style=\"color: #008000; text-decoration-color: #008000; font-weight: bold\"> Found solution for compound=C39232!</span>\n",
       "</pre>\n"
      ],
      "text/plain": [
       "\u001b[1;7;32m Success \u001b[0m\u001b[1;32m Found solution for compound=C39232!\u001b[0m\n"
      ]
     },
     "metadata": {},
     "output_type": "display_data"
    },
    {
     "data": {
      "text/html": [
       "<pre style=\"white-space:pre;overflow-x:auto;line-height:normal;font-family:Menlo,'DejaVu Sans Mono',consolas,'Courier New',monospace;margin:0px\"><span style=\"background-color: #008000; font-weight: bold\"> Success </span><span style=\"color: #008000; text-decoration-color: #008000; font-weight: bold\"> Found solution for compound=C39346!</span>\n",
       "</pre>\n"
      ],
      "text/plain": [
       "\u001b[1;7;32m Success \u001b[0m\u001b[1;32m Found solution for compound=C39346!\u001b[0m\n"
      ]
     },
     "metadata": {},
     "output_type": "display_data"
    },
    {
     "data": {
      "text/html": [
       "<pre style=\"white-space:pre;overflow-x:auto;line-height:normal;font-family:Menlo,'DejaVu Sans Mono',consolas,'Courier New',monospace;margin:0px\"><span style=\"background-color: #008000; font-weight: bold\"> Success </span><span style=\"color: #008000; text-decoration-color: #008000; font-weight: bold\"> Found solution for compound=C40167!</span>\n",
       "</pre>\n"
      ],
      "text/plain": [
       "\u001b[1;7;32m Success \u001b[0m\u001b[1;32m Found solution for compound=C40167!\u001b[0m\n"
      ]
     },
     "metadata": {},
     "output_type": "display_data"
    },
    {
     "data": {
      "text/html": [
       "<pre style=\"white-space:pre;overflow-x:auto;line-height:normal;font-family:Menlo,'DejaVu Sans Mono',consolas,'Courier New',monospace;margin:0px\"><span style=\"background-color: #008000; font-weight: bold\"> Success </span><span style=\"color: #008000; text-decoration-color: #008000; font-weight: bold\"> Found solution for compound=C41135!</span>\n",
       "</pre>\n"
      ],
      "text/plain": [
       "\u001b[1;7;32m Success \u001b[0m\u001b[1;32m Found solution for compound=C41135!\u001b[0m\n"
      ]
     },
     "metadata": {},
     "output_type": "display_data"
    },
    {
     "data": {
      "text/html": [
       "<pre style=\"white-space:pre;overflow-x:auto;line-height:normal;font-family:Menlo,'DejaVu Sans Mono',consolas,'Courier New',monospace;margin:0px\"><span style=\"background-color: #008000; font-weight: bold\"> Success </span><span style=\"color: #008000; text-decoration-color: #008000; font-weight: bold\"> Found solution for compound=C41137!</span>\n",
       "</pre>\n"
      ],
      "text/plain": [
       "\u001b[1;7;32m Success \u001b[0m\u001b[1;32m Found solution for compound=C41137!\u001b[0m\n"
      ]
     },
     "metadata": {},
     "output_type": "display_data"
    },
    {
     "data": {
      "text/html": [
       "<pre style=\"white-space:pre;overflow-x:auto;line-height:normal;font-family:Menlo,'DejaVu Sans Mono',consolas,'Courier New',monospace;margin:0px\"><span style=\"background-color: #008000; font-weight: bold\"> Success </span><span style=\"color: #008000; text-decoration-color: #008000; font-weight: bold\"> Found solution for compound=C41158!</span>\n",
       "</pre>\n"
      ],
      "text/plain": [
       "\u001b[1;7;32m Success \u001b[0m\u001b[1;32m Found solution for compound=C41158!\u001b[0m\n"
      ]
     },
     "metadata": {},
     "output_type": "display_data"
    },
    {
     "data": {
      "text/html": [
       "<pre style=\"white-space:pre;overflow-x:auto;line-height:normal;font-family:Menlo,'DejaVu Sans Mono',consolas,'Courier New',monospace;margin:0px\"><span style=\"background-color: #008000; font-weight: bold\"> Success </span><span style=\"color: #008000; text-decoration-color: #008000; font-weight: bold\"> Found solution for compound=C41225!</span>\n",
       "</pre>\n"
      ],
      "text/plain": [
       "\u001b[1;7;32m Success \u001b[0m\u001b[1;32m Found solution for compound=C41225!\u001b[0m\n"
      ]
     },
     "metadata": {},
     "output_type": "display_data"
    },
    {
     "data": {
      "text/html": [
       "<pre style=\"white-space:pre;overflow-x:auto;line-height:normal;font-family:Menlo,'DejaVu Sans Mono',consolas,'Courier New',monospace;margin:0px\"><span style=\"background-color: #008000; font-weight: bold\"> Success </span><span style=\"color: #008000; text-decoration-color: #008000; font-weight: bold\"> Found solution for compound=C41233!</span>\n",
       "</pre>\n"
      ],
      "text/plain": [
       "\u001b[1;7;32m Success \u001b[0m\u001b[1;32m Found solution for compound=C41233!\u001b[0m\n"
      ]
     },
     "metadata": {},
     "output_type": "display_data"
    },
    {
     "data": {
      "text/html": [
       "<pre style=\"white-space:pre;overflow-x:auto;line-height:normal;font-family:Menlo,'DejaVu Sans Mono',consolas,'Courier New',monospace;margin:0px\"><span style=\"background-color: #008000; font-weight: bold\"> Success </span><span style=\"color: #008000; text-decoration-color: #008000; font-weight: bold\"> Found solution for compound=C41255!</span>\n",
       "</pre>\n"
      ],
      "text/plain": [
       "\u001b[1;7;32m Success \u001b[0m\u001b[1;32m Found solution for compound=C41255!\u001b[0m\n"
      ]
     },
     "metadata": {},
     "output_type": "display_data"
    },
    {
     "data": {
      "text/html": [
       "<pre style=\"white-space:pre;overflow-x:auto;line-height:normal;font-family:Menlo,'DejaVu Sans Mono',consolas,'Courier New',monospace;margin:0px\"><span style=\"background-color: #008000; font-weight: bold\"> Success </span><span style=\"color: #008000; text-decoration-color: #008000; font-weight: bold\"> Found solution for compound=C41257!</span>\n",
       "</pre>\n"
      ],
      "text/plain": [
       "\u001b[1;7;32m Success \u001b[0m\u001b[1;32m Found solution for compound=C41257!\u001b[0m\n"
      ]
     },
     "metadata": {},
     "output_type": "display_data"
    },
    {
     "data": {
      "text/html": [
       "<pre style=\"white-space:pre;overflow-x:auto;line-height:normal;font-family:Menlo,'DejaVu Sans Mono',consolas,'Courier New',monospace;margin:0px\"><span style=\"background-color: #008000; font-weight: bold\"> Success </span><span style=\"color: #008000; text-decoration-color: #008000; font-weight: bold\"> Found solution for compound=C41286!</span>\n",
       "</pre>\n"
      ],
      "text/plain": [
       "\u001b[1;7;32m Success \u001b[0m\u001b[1;32m Found solution for compound=C41286!\u001b[0m\n"
      ]
     },
     "metadata": {},
     "output_type": "display_data"
    },
    {
     "data": {
      "text/html": [
       "<pre style=\"white-space:pre;overflow-x:auto;line-height:normal;font-family:Menlo,'DejaVu Sans Mono',consolas,'Courier New',monospace;margin:0px\"><span style=\"background-color: #008000; font-weight: bold\"> Success </span><span style=\"color: #008000; text-decoration-color: #008000; font-weight: bold\"> Found solution for compound=C41305!</span>\n",
       "</pre>\n"
      ],
      "text/plain": [
       "\u001b[1;7;32m Success \u001b[0m\u001b[1;32m Found solution for compound=C41305!\u001b[0m\n"
      ]
     },
     "metadata": {},
     "output_type": "display_data"
    },
    {
     "data": {
      "text/html": [
       "<pre style=\"white-space:pre;overflow-x:auto;line-height:normal;font-family:Menlo,'DejaVu Sans Mono',consolas,'Courier New',monospace;margin:0px\"><span style=\"background-color: #008000; font-weight: bold\"> Success </span><span style=\"color: #008000; text-decoration-color: #008000; font-weight: bold\"> Found solution for compound=C41308!</span>\n",
       "</pre>\n"
      ],
      "text/plain": [
       "\u001b[1;7;32m Success \u001b[0m\u001b[1;32m Found solution for compound=C41308!\u001b[0m\n"
      ]
     },
     "metadata": {},
     "output_type": "display_data"
    },
    {
     "data": {
      "text/html": [
       "<pre style=\"white-space:pre;overflow-x:auto;line-height:normal;font-family:Menlo,'DejaVu Sans Mono',consolas,'Courier New',monospace;margin:0px\"><span style=\"background-color: #008000; font-weight: bold\"> Success </span><span style=\"color: #008000; text-decoration-color: #008000; font-weight: bold\"> Found solution for compound=C41391!</span>\n",
       "</pre>\n"
      ],
      "text/plain": [
       "\u001b[1;7;32m Success \u001b[0m\u001b[1;32m Found solution for compound=C41391!\u001b[0m\n"
      ]
     },
     "metadata": {},
     "output_type": "display_data"
    },
    {
     "data": {
      "text/html": [
       "<pre style=\"white-space:pre;overflow-x:auto;line-height:normal;font-family:Menlo,'DejaVu Sans Mono',consolas,'Courier New',monospace;margin:0px\"><span style=\"background-color: #008000; font-weight: bold\"> Success </span><span style=\"color: #008000; text-decoration-color: #008000; font-weight: bold\"> Found solution for compound=C41941!</span>\n",
       "</pre>\n"
      ],
      "text/plain": [
       "\u001b[1;7;32m Success \u001b[0m\u001b[1;32m Found solution for compound=C41941!\u001b[0m\n"
      ]
     },
     "metadata": {},
     "output_type": "display_data"
    },
    {
     "data": {
      "text/html": [
       "<pre style=\"white-space:pre;overflow-x:auto;line-height:normal;font-family:Menlo,'DejaVu Sans Mono',consolas,'Courier New',monospace;margin:0px\"><span style=\"background-color: #008000; font-weight: bold\"> Success </span><span style=\"color: #008000; text-decoration-color: #008000; font-weight: bold\"> Found solution for compound=C41950!</span>\n",
       "</pre>\n"
      ],
      "text/plain": [
       "\u001b[1;7;32m Success \u001b[0m\u001b[1;32m Found solution for compound=C41950!\u001b[0m\n"
      ]
     },
     "metadata": {},
     "output_type": "display_data"
    },
    {
     "data": {
      "text/html": [
       "<pre style=\"white-space:pre;overflow-x:auto;line-height:normal;font-family:Menlo,'DejaVu Sans Mono',consolas,'Courier New',monospace;margin:0px\"><span style=\"background-color: #008000; font-weight: bold\"> Success </span><span style=\"color: #008000; text-decoration-color: #008000; font-weight: bold\"> Found solution for compound=C41957!</span>\n",
       "</pre>\n"
      ],
      "text/plain": [
       "\u001b[1;7;32m Success \u001b[0m\u001b[1;32m Found solution for compound=C41957!\u001b[0m\n"
      ]
     },
     "metadata": {},
     "output_type": "display_data"
    },
    {
     "data": {
      "text/html": [
       "<pre style=\"white-space:pre;overflow-x:auto;line-height:normal;font-family:Menlo,'DejaVu Sans Mono',consolas,'Courier New',monospace;margin:0px\"><span style=\"background-color: #008000; font-weight: bold\"> Success </span><span style=\"color: #008000; text-decoration-color: #008000; font-weight: bold\"> Found solution for compound=C41959!</span>\n",
       "</pre>\n"
      ],
      "text/plain": [
       "\u001b[1;7;32m Success \u001b[0m\u001b[1;32m Found solution for compound=C41959!\u001b[0m\n"
      ]
     },
     "metadata": {},
     "output_type": "display_data"
    },
    {
     "data": {
      "text/html": [
       "<pre style=\"white-space:pre;overflow-x:auto;line-height:normal;font-family:Menlo,'DejaVu Sans Mono',consolas,'Courier New',monospace;margin:0px\"><span style=\"background-color: #008000; font-weight: bold\"> Success </span><span style=\"color: #008000; text-decoration-color: #008000; font-weight: bold\"> Found solution for compound=C41960!</span>\n",
       "</pre>\n"
      ],
      "text/plain": [
       "\u001b[1;7;32m Success \u001b[0m\u001b[1;32m Found solution for compound=C41960!\u001b[0m\n"
      ]
     },
     "metadata": {},
     "output_type": "display_data"
    },
    {
     "data": {
      "text/html": [
       "<pre style=\"white-space:pre;overflow-x:auto;line-height:normal;font-family:Menlo,'DejaVu Sans Mono',consolas,'Courier New',monospace;margin:0px\"><span style=\"background-color: #008000; font-weight: bold\"> Success </span><span style=\"color: #008000; text-decoration-color: #008000; font-weight: bold\"> Found solution for compound=C41975!</span>\n",
       "</pre>\n"
      ],
      "text/plain": [
       "\u001b[1;7;32m Success \u001b[0m\u001b[1;32m Found solution for compound=C41975!\u001b[0m\n"
      ]
     },
     "metadata": {},
     "output_type": "display_data"
    },
    {
     "data": {
      "text/html": [
       "<pre style=\"white-space:pre;overflow-x:auto;line-height:normal;font-family:Menlo,'DejaVu Sans Mono',consolas,'Courier New',monospace;margin:0px\"><span style=\"background-color: #008000; font-weight: bold\"> Success </span><span style=\"color: #008000; text-decoration-color: #008000; font-weight: bold\"> Found solution for compound=C41977!</span>\n",
       "</pre>\n"
      ],
      "text/plain": [
       "\u001b[1;7;32m Success \u001b[0m\u001b[1;32m Found solution for compound=C41977!\u001b[0m\n"
      ]
     },
     "metadata": {},
     "output_type": "display_data"
    },
    {
     "data": {
      "text/html": [
       "<pre style=\"white-space:pre;overflow-x:auto;line-height:normal;font-family:Menlo,'DejaVu Sans Mono',consolas,'Courier New',monospace;margin:0px\"><span style=\"background-color: #008000; font-weight: bold\"> Success </span><span style=\"color: #008000; text-decoration-color: #008000; font-weight: bold\"> Found solution for compound=C42016!</span>\n",
       "</pre>\n"
      ],
      "text/plain": [
       "\u001b[1;7;32m Success \u001b[0m\u001b[1;32m Found solution for compound=C42016!\u001b[0m\n"
      ]
     },
     "metadata": {},
     "output_type": "display_data"
    },
    {
     "data": {
      "text/html": [
       "<pre style=\"white-space:pre;overflow-x:auto;line-height:normal;font-family:Menlo,'DejaVu Sans Mono',consolas,'Courier New',monospace;margin:0px\"><span style=\"background-color: #008000; font-weight: bold\"> Success </span><span style=\"color: #008000; text-decoration-color: #008000; font-weight: bold\"> Found solution for compound=C42022!</span>\n",
       "</pre>\n"
      ],
      "text/plain": [
       "\u001b[1;7;32m Success \u001b[0m\u001b[1;32m Found solution for compound=C42022!\u001b[0m\n"
      ]
     },
     "metadata": {},
     "output_type": "display_data"
    },
    {
     "data": {
      "text/html": [
       "<pre style=\"white-space:pre;overflow-x:auto;line-height:normal;font-family:Menlo,'DejaVu Sans Mono',consolas,'Courier New',monospace;margin:0px\"><span style=\"background-color: #008000; font-weight: bold\"> Success </span><span style=\"color: #008000; text-decoration-color: #008000; font-weight: bold\"> Found solution for compound=C42026!</span>\n",
       "</pre>\n"
      ],
      "text/plain": [
       "\u001b[1;7;32m Success \u001b[0m\u001b[1;32m Found solution for compound=C42026!\u001b[0m\n"
      ]
     },
     "metadata": {},
     "output_type": "display_data"
    },
    {
     "data": {
      "text/html": [
       "<pre style=\"white-space:pre;overflow-x:auto;line-height:normal;font-family:Menlo,'DejaVu Sans Mono',consolas,'Courier New',monospace;margin:0px\"><span style=\"background-color: #008000; font-weight: bold\"> Success </span><span style=\"color: #008000; text-decoration-color: #008000; font-weight: bold\"> Found solution for compound=C42070!</span>\n",
       "</pre>\n"
      ],
      "text/plain": [
       "\u001b[1;7;32m Success \u001b[0m\u001b[1;32m Found solution for compound=C42070!\u001b[0m\n"
      ]
     },
     "metadata": {},
     "output_type": "display_data"
    },
    {
     "data": {
      "text/html": [
       "<pre style=\"white-space:pre;overflow-x:auto;line-height:normal;font-family:Menlo,'DejaVu Sans Mono',consolas,'Courier New',monospace;margin:0px\"><span style=\"background-color: #008000; font-weight: bold\"> Success </span><span style=\"color: #008000; text-decoration-color: #008000; font-weight: bold\"> Found solution for compound=C42082!</span>\n",
       "</pre>\n"
      ],
      "text/plain": [
       "\u001b[1;7;32m Success \u001b[0m\u001b[1;32m Found solution for compound=C42082!\u001b[0m\n"
      ]
     },
     "metadata": {},
     "output_type": "display_data"
    },
    {
     "data": {
      "text/html": [
       "<pre style=\"white-space:pre;overflow-x:auto;line-height:normal;font-family:Menlo,'DejaVu Sans Mono',consolas,'Courier New',monospace;margin:0px\"><span style=\"background-color: #008000; font-weight: bold\"> Success </span><span style=\"color: #008000; text-decoration-color: #008000; font-weight: bold\"> Found solution for compound=C42098!</span>\n",
       "</pre>\n"
      ],
      "text/plain": [
       "\u001b[1;7;32m Success \u001b[0m\u001b[1;32m Found solution for compound=C42098!\u001b[0m\n"
      ]
     },
     "metadata": {},
     "output_type": "display_data"
    },
    {
     "data": {
      "text/html": [
       "<pre style=\"white-space:pre;overflow-x:auto;line-height:normal;font-family:Menlo,'DejaVu Sans Mono',consolas,'Courier New',monospace;margin:0px\"><span style=\"background-color: #008000; font-weight: bold\"> Success </span><span style=\"color: #008000; text-decoration-color: #008000; font-weight: bold\"> Found solution for compound=C42104!</span>\n",
       "</pre>\n"
      ],
      "text/plain": [
       "\u001b[1;7;32m Success \u001b[0m\u001b[1;32m Found solution for compound=C42104!\u001b[0m\n"
      ]
     },
     "metadata": {},
     "output_type": "display_data"
    },
    {
     "data": {
      "text/html": [
       "<pre style=\"white-space:pre;overflow-x:auto;line-height:normal;font-family:Menlo,'DejaVu Sans Mono',consolas,'Courier New',monospace;margin:0px\"><span style=\"background-color: #008000; font-weight: bold\"> Success </span><span style=\"color: #008000; text-decoration-color: #008000; font-weight: bold\"> Found solution for compound=C42114!</span>\n",
       "</pre>\n"
      ],
      "text/plain": [
       "\u001b[1;7;32m Success \u001b[0m\u001b[1;32m Found solution for compound=C42114!\u001b[0m\n"
      ]
     },
     "metadata": {},
     "output_type": "display_data"
    },
    {
     "data": {
      "text/html": [
       "<pre style=\"white-space:pre;overflow-x:auto;line-height:normal;font-family:Menlo,'DejaVu Sans Mono',consolas,'Courier New',monospace;margin:0px\"><span style=\"background-color: #008000; font-weight: bold\"> Success </span><span style=\"color: #008000; text-decoration-color: #008000; font-weight: bold\"> Found solution for compound=C42501!</span>\n",
       "</pre>\n"
      ],
      "text/plain": [
       "\u001b[1;7;32m Success \u001b[0m\u001b[1;32m Found solution for compound=C42501!\u001b[0m\n"
      ]
     },
     "metadata": {},
     "output_type": "display_data"
    },
    {
     "data": {
      "text/html": [
       "<pre style=\"white-space:pre;overflow-x:auto;line-height:normal;font-family:Menlo,'DejaVu Sans Mono',consolas,'Courier New',monospace;margin:0px\"><span style=\"background-color: #008000; font-weight: bold\"> Success </span><span style=\"color: #008000; text-decoration-color: #008000; font-weight: bold\"> Found solution for compound=C44464!</span>\n",
       "</pre>\n"
      ],
      "text/plain": [
       "\u001b[1;7;32m Success \u001b[0m\u001b[1;32m Found solution for compound=C44464!\u001b[0m\n"
      ]
     },
     "metadata": {},
     "output_type": "display_data"
    },
    {
     "data": {
      "text/html": [
       "<pre style=\"white-space:pre;overflow-x:auto;line-height:normal;font-family:Menlo,'DejaVu Sans Mono',consolas,'Courier New',monospace;margin:0px\"><span style=\"background-color: #008000; font-weight: bold\"> Success </span><span style=\"color: #008000; text-decoration-color: #008000; font-weight: bold\"> Found solution for compound=C44475!</span>\n",
       "</pre>\n"
      ],
      "text/plain": [
       "\u001b[1;7;32m Success \u001b[0m\u001b[1;32m Found solution for compound=C44475!\u001b[0m\n"
      ]
     },
     "metadata": {},
     "output_type": "display_data"
    },
    {
     "data": {
      "text/html": [
       "<pre style=\"white-space:pre;overflow-x:auto;line-height:normal;font-family:Menlo,'DejaVu Sans Mono',consolas,'Courier New',monospace;margin:0px\"><span style=\"background-color: #008000; font-weight: bold\"> Success </span><span style=\"color: #008000; text-decoration-color: #008000; font-weight: bold\"> Found solution for compound=C44476!</span>\n",
       "</pre>\n"
      ],
      "text/plain": [
       "\u001b[1;7;32m Success \u001b[0m\u001b[1;32m Found solution for compound=C44476!\u001b[0m\n"
      ]
     },
     "metadata": {},
     "output_type": "display_data"
    },
    {
     "data": {
      "text/html": [
       "<pre style=\"white-space:pre;overflow-x:auto;line-height:normal;font-family:Menlo,'DejaVu Sans Mono',consolas,'Courier New',monospace;margin:0px\"><span style=\"background-color: #008000; font-weight: bold\"> Success </span><span style=\"color: #008000; text-decoration-color: #008000; font-weight: bold\"> Found solution for compound=C44478!</span>\n",
       "</pre>\n"
      ],
      "text/plain": [
       "\u001b[1;7;32m Success \u001b[0m\u001b[1;32m Found solution for compound=C44478!\u001b[0m\n"
      ]
     },
     "metadata": {},
     "output_type": "display_data"
    },
    {
     "data": {
      "text/html": [
       "<pre style=\"white-space:pre;overflow-x:auto;line-height:normal;font-family:Menlo,'DejaVu Sans Mono',consolas,'Courier New',monospace;margin:0px\"><span style=\"background-color: #008000; font-weight: bold\"> Success </span><span style=\"color: #008000; text-decoration-color: #008000; font-weight: bold\"> Found solution for compound=C44479!</span>\n",
       "</pre>\n"
      ],
      "text/plain": [
       "\u001b[1;7;32m Success \u001b[0m\u001b[1;32m Found solution for compound=C44479!\u001b[0m\n"
      ]
     },
     "metadata": {},
     "output_type": "display_data"
    },
    {
     "data": {
      "text/html": [
       "<pre style=\"white-space:pre;overflow-x:auto;line-height:normal;font-family:Menlo,'DejaVu Sans Mono',consolas,'Courier New',monospace;margin:0px\"><span style=\"background-color: #008000; font-weight: bold\"> Success </span><span style=\"color: #008000; text-decoration-color: #008000; font-weight: bold\"> Found solution for compound=C44538!</span>\n",
       "</pre>\n"
      ],
      "text/plain": [
       "\u001b[1;7;32m Success \u001b[0m\u001b[1;32m Found solution for compound=C44538!\u001b[0m\n"
      ]
     },
     "metadata": {},
     "output_type": "display_data"
    },
    {
     "data": {
      "text/html": [
       "<pre style=\"white-space:pre;overflow-x:auto;line-height:normal;font-family:Menlo,'DejaVu Sans Mono',consolas,'Courier New',monospace;margin:0px\"><span style=\"background-color: #008000; font-weight: bold\"> Success </span><span style=\"color: #008000; text-decoration-color: #008000; font-weight: bold\"> Found solution for compound=C44543!</span>\n",
       "</pre>\n"
      ],
      "text/plain": [
       "\u001b[1;7;32m Success \u001b[0m\u001b[1;32m Found solution for compound=C44543!\u001b[0m\n"
      ]
     },
     "metadata": {},
     "output_type": "display_data"
    },
    {
     "data": {
      "text/html": [
       "<pre style=\"white-space:pre;overflow-x:auto;line-height:normal;font-family:Menlo,'DejaVu Sans Mono',consolas,'Courier New',monospace;margin:0px\"><span style=\"background-color: #008000; font-weight: bold\"> Success </span><span style=\"color: #008000; text-decoration-color: #008000; font-weight: bold\"> Found solution for compound=C44545!</span>\n",
       "</pre>\n"
      ],
      "text/plain": [
       "\u001b[1;7;32m Success \u001b[0m\u001b[1;32m Found solution for compound=C44545!\u001b[0m\n"
      ]
     },
     "metadata": {},
     "output_type": "display_data"
    },
    {
     "data": {
      "text/html": [
       "<pre style=\"white-space:pre;overflow-x:auto;line-height:normal;font-family:Menlo,'DejaVu Sans Mono',consolas,'Courier New',monospace;margin:0px\"><span style=\"background-color: #008000; font-weight: bold\"> Success </span><span style=\"color: #008000; text-decoration-color: #008000; font-weight: bold\"> Found solution for compound=C44557!</span>\n",
       "</pre>\n"
      ],
      "text/plain": [
       "\u001b[1;7;32m Success \u001b[0m\u001b[1;32m Found solution for compound=C44557!\u001b[0m\n"
      ]
     },
     "metadata": {},
     "output_type": "display_data"
    },
    {
     "data": {
      "text/html": [
       "<pre style=\"white-space:pre;overflow-x:auto;line-height:normal;font-family:Menlo,'DejaVu Sans Mono',consolas,'Courier New',monospace;margin:0px\"><span style=\"background-color: #008000; font-weight: bold\"> Success </span><span style=\"color: #008000; text-decoration-color: #008000; font-weight: bold\"> Found solution for compound=C44564!</span>\n",
       "</pre>\n"
      ],
      "text/plain": [
       "\u001b[1;7;32m Success \u001b[0m\u001b[1;32m Found solution for compound=C44564!\u001b[0m\n"
      ]
     },
     "metadata": {},
     "output_type": "display_data"
    },
    {
     "data": {
      "text/html": [
       "<pre style=\"white-space:pre;overflow-x:auto;line-height:normal;font-family:Menlo,'DejaVu Sans Mono',consolas,'Courier New',monospace;margin:0px\"><span style=\"background-color: #008000; font-weight: bold\"> Success </span><span style=\"color: #008000; text-decoration-color: #008000; font-weight: bold\"> Found solution for compound=C44807!</span>\n",
       "</pre>\n"
      ],
      "text/plain": [
       "\u001b[1;7;32m Success \u001b[0m\u001b[1;32m Found solution for compound=C44807!\u001b[0m\n"
      ]
     },
     "metadata": {},
     "output_type": "display_data"
    },
    {
     "data": {
      "text/html": [
       "<pre style=\"white-space:pre;overflow-x:auto;line-height:normal;font-family:Menlo,'DejaVu Sans Mono',consolas,'Courier New',monospace;margin:0px\"><span style=\"background-color: #008000; font-weight: bold\"> Success </span><span style=\"color: #008000; text-decoration-color: #008000; font-weight: bold\"> Found solution for compound=C44815!</span>\n",
       "</pre>\n"
      ],
      "text/plain": [
       "\u001b[1;7;32m Success \u001b[0m\u001b[1;32m Found solution for compound=C44815!\u001b[0m\n"
      ]
     },
     "metadata": {},
     "output_type": "display_data"
    },
    {
     "data": {
      "text/html": [
       "<pre style=\"white-space:pre;overflow-x:auto;line-height:normal;font-family:Menlo,'DejaVu Sans Mono',consolas,'Courier New',monospace;margin:0px\"><span style=\"background-color: #008000; font-weight: bold\"> Success </span><span style=\"color: #008000; text-decoration-color: #008000; font-weight: bold\"> Found solution for compound=C44816!</span>\n",
       "</pre>\n"
      ],
      "text/plain": [
       "\u001b[1;7;32m Success \u001b[0m\u001b[1;32m Found solution for compound=C44816!\u001b[0m\n"
      ]
     },
     "metadata": {},
     "output_type": "display_data"
    },
    {
     "data": {
      "text/html": [
       "<pre style=\"white-space:pre;overflow-x:auto;line-height:normal;font-family:Menlo,'DejaVu Sans Mono',consolas,'Courier New',monospace;margin:0px\"><span style=\"background-color: #008000; font-weight: bold\"> Success </span><span style=\"color: #008000; text-decoration-color: #008000; font-weight: bold\"> Found solution for compound=C45425!</span>\n",
       "</pre>\n"
      ],
      "text/plain": [
       "\u001b[1;7;32m Success \u001b[0m\u001b[1;32m Found solution for compound=C45425!\u001b[0m\n"
      ]
     },
     "metadata": {},
     "output_type": "display_data"
    },
    {
     "data": {
      "text/html": [
       "<pre style=\"white-space:pre;overflow-x:auto;line-height:normal;font-family:Menlo,'DejaVu Sans Mono',consolas,'Courier New',monospace;margin:0px\"><span style=\"background-color: #008000; font-weight: bold\"> Success </span><span style=\"color: #008000; text-decoration-color: #008000; font-weight: bold\"> Found solution for compound=C45511!</span>\n",
       "</pre>\n"
      ],
      "text/plain": [
       "\u001b[1;7;32m Success \u001b[0m\u001b[1;32m Found solution for compound=C45511!\u001b[0m\n"
      ]
     },
     "metadata": {},
     "output_type": "display_data"
    },
    {
     "data": {
      "text/html": [
       "<pre style=\"white-space:pre;overflow-x:auto;line-height:normal;font-family:Menlo,'DejaVu Sans Mono',consolas,'Courier New',monospace;margin:0px\"><span style=\"background-color: #008000; font-weight: bold\"> Success </span><span style=\"color: #008000; text-decoration-color: #008000; font-weight: bold\"> Found solution for compound=C45518!</span>\n",
       "</pre>\n"
      ],
      "text/plain": [
       "\u001b[1;7;32m Success \u001b[0m\u001b[1;32m Found solution for compound=C45518!\u001b[0m\n"
      ]
     },
     "metadata": {},
     "output_type": "display_data"
    },
    {
     "data": {
      "text/html": [
       "<pre style=\"white-space:pre;overflow-x:auto;line-height:normal;font-family:Menlo,'DejaVu Sans Mono',consolas,'Courier New',monospace;margin:0px\"><span style=\"background-color: #008000; font-weight: bold\"> Success </span><span style=\"color: #008000; text-decoration-color: #008000; font-weight: bold\"> Found solution for compound=C45521!</span>\n",
       "</pre>\n"
      ],
      "text/plain": [
       "\u001b[1;7;32m Success \u001b[0m\u001b[1;32m Found solution for compound=C45521!\u001b[0m\n"
      ]
     },
     "metadata": {},
     "output_type": "display_data"
    },
    {
     "data": {
      "text/html": [
       "<pre style=\"white-space:pre;overflow-x:auto;line-height:normal;font-family:Menlo,'DejaVu Sans Mono',consolas,'Courier New',monospace;margin:0px\"><span style=\"background-color: #008000; font-weight: bold\"> Success </span><span style=\"color: #008000; text-decoration-color: #008000; font-weight: bold\"> Found solution for compound=C45963!</span>\n",
       "</pre>\n"
      ],
      "text/plain": [
       "\u001b[1;7;32m Success \u001b[0m\u001b[1;32m Found solution for compound=C45963!\u001b[0m\n"
      ]
     },
     "metadata": {},
     "output_type": "display_data"
    },
    {
     "data": {
      "text/html": [
       "<pre style=\"white-space:pre;overflow-x:auto;line-height:normal;font-family:Menlo,'DejaVu Sans Mono',consolas,'Courier New',monospace;margin:0px\"><span style=\"background-color: #008000; font-weight: bold\"> Success </span><span style=\"color: #008000; text-decoration-color: #008000; font-weight: bold\"> Found solution for compound=C46078!</span>\n",
       "</pre>\n"
      ],
      "text/plain": [
       "\u001b[1;7;32m Success \u001b[0m\u001b[1;32m Found solution for compound=C46078!\u001b[0m\n"
      ]
     },
     "metadata": {},
     "output_type": "display_data"
    },
    {
     "data": {
      "text/html": [
       "<pre style=\"white-space:pre;overflow-x:auto;line-height:normal;font-family:Menlo,'DejaVu Sans Mono',consolas,'Courier New',monospace;margin:0px\"><span style=\"background-color: #008000; font-weight: bold\"> Success </span><span style=\"color: #008000; text-decoration-color: #008000; font-weight: bold\"> Found solution for compound=C46139!</span>\n",
       "</pre>\n"
      ],
      "text/plain": [
       "\u001b[1;7;32m Success \u001b[0m\u001b[1;32m Found solution for compound=C46139!\u001b[0m\n"
      ]
     },
     "metadata": {},
     "output_type": "display_data"
    },
    {
     "data": {
      "text/html": [
       "<pre style=\"white-space:pre;overflow-x:auto;line-height:normal;font-family:Menlo,'DejaVu Sans Mono',consolas,'Courier New',monospace;margin:0px\"><span style=\"background-color: #008000; font-weight: bold\"> Success </span><span style=\"color: #008000; text-decoration-color: #008000; font-weight: bold\"> Found solution for compound=C46425!</span>\n",
       "</pre>\n"
      ],
      "text/plain": [
       "\u001b[1;7;32m Success \u001b[0m\u001b[1;32m Found solution for compound=C46425!\u001b[0m\n"
      ]
     },
     "metadata": {},
     "output_type": "display_data"
    },
    {
     "data": {
      "text/html": [
       "<pre style=\"white-space:pre;overflow-x:auto;line-height:normal;font-family:Menlo,'DejaVu Sans Mono',consolas,'Courier New',monospace;margin:0px\"><span style=\"background-color: #008000; font-weight: bold\"> Success </span><span style=\"color: #008000; text-decoration-color: #008000; font-weight: bold\"> Found solution for compound=C46532!</span>\n",
       "</pre>\n"
      ],
      "text/plain": [
       "\u001b[1;7;32m Success \u001b[0m\u001b[1;32m Found solution for compound=C46532!\u001b[0m\n"
      ]
     },
     "metadata": {},
     "output_type": "display_data"
    },
    {
     "data": {
      "text/html": [
       "<pre style=\"white-space:pre;overflow-x:auto;line-height:normal;font-family:Menlo,'DejaVu Sans Mono',consolas,'Courier New',monospace;margin:0px\"><span style=\"background-color: #008000; font-weight: bold\"> Success </span><span style=\"color: #008000; text-decoration-color: #008000; font-weight: bold\"> Found solution for compound=C46911!</span>\n",
       "</pre>\n"
      ],
      "text/plain": [
       "\u001b[1;7;32m Success \u001b[0m\u001b[1;32m Found solution for compound=C46911!\u001b[0m\n"
      ]
     },
     "metadata": {},
     "output_type": "display_data"
    },
    {
     "data": {
      "text/html": [
       "<pre style=\"white-space:pre;overflow-x:auto;line-height:normal;font-family:Menlo,'DejaVu Sans Mono',consolas,'Courier New',monospace;margin:0px\"><span style=\"background-color: #008000; font-weight: bold\"> Success </span><span style=\"color: #008000; text-decoration-color: #008000; font-weight: bold\"> Found solution for compound=C46914!</span>\n",
       "</pre>\n"
      ],
      "text/plain": [
       "\u001b[1;7;32m Success \u001b[0m\u001b[1;32m Found solution for compound=C46914!\u001b[0m\n"
      ]
     },
     "metadata": {},
     "output_type": "display_data"
    },
    {
     "data": {
      "text/html": [
       "<pre style=\"white-space:pre;overflow-x:auto;line-height:normal;font-family:Menlo,'DejaVu Sans Mono',consolas,'Courier New',monospace;margin:0px\"><span style=\"background-color: #008000; font-weight: bold\"> Success </span><span style=\"color: #008000; text-decoration-color: #008000; font-weight: bold\"> Found solution for compound=C47483!</span>\n",
       "</pre>\n"
      ],
      "text/plain": [
       "\u001b[1;7;32m Success \u001b[0m\u001b[1;32m Found solution for compound=C47483!\u001b[0m\n"
      ]
     },
     "metadata": {},
     "output_type": "display_data"
    },
    {
     "data": {
      "text/html": [
       "<pre style=\"white-space:pre;overflow-x:auto;line-height:normal;font-family:Menlo,'DejaVu Sans Mono',consolas,'Courier New',monospace;margin:0px\"><span style=\"background-color: #008000; font-weight: bold\"> Success </span><span style=\"color: #008000; text-decoration-color: #008000; font-weight: bold\"> Found solution for compound=C47527!</span>\n",
       "</pre>\n"
      ],
      "text/plain": [
       "\u001b[1;7;32m Success \u001b[0m\u001b[1;32m Found solution for compound=C47527!\u001b[0m\n"
      ]
     },
     "metadata": {},
     "output_type": "display_data"
    },
    {
     "data": {
      "text/html": [
       "<pre style=\"white-space:pre;overflow-x:auto;line-height:normal;font-family:Menlo,'DejaVu Sans Mono',consolas,'Courier New',monospace;margin:0px\"><span style=\"background-color: #008000; font-weight: bold\"> Success </span><span style=\"color: #008000; text-decoration-color: #008000; font-weight: bold\"> Found solution for compound=C47529!</span>\n",
       "</pre>\n"
      ],
      "text/plain": [
       "\u001b[1;7;32m Success \u001b[0m\u001b[1;32m Found solution for compound=C47529!\u001b[0m\n"
      ]
     },
     "metadata": {},
     "output_type": "display_data"
    },
    {
     "data": {
      "text/html": [
       "<pre style=\"white-space:pre;overflow-x:auto;line-height:normal;font-family:Menlo,'DejaVu Sans Mono',consolas,'Courier New',monospace;margin:0px\"><span style=\"background-color: #008000; font-weight: bold\"> Success </span><span style=\"color: #008000; text-decoration-color: #008000; font-weight: bold\"> Found solution for compound=C52128!</span>\n",
       "</pre>\n"
      ],
      "text/plain": [
       "\u001b[1;7;32m Success \u001b[0m\u001b[1;32m Found solution for compound=C52128!\u001b[0m\n"
      ]
     },
     "metadata": {},
     "output_type": "display_data"
    },
    {
     "data": {
      "text/html": [
       "<pre style=\"white-space:pre;overflow-x:auto;line-height:normal;font-family:Menlo,'DejaVu Sans Mono',consolas,'Courier New',monospace;margin:0px\"><span style=\"background-color: #008000; font-weight: bold\"> Success </span><span style=\"color: #008000; text-decoration-color: #008000; font-weight: bold\"> Found solution for compound=C52131!</span>\n",
       "</pre>\n"
      ],
      "text/plain": [
       "\u001b[1;7;32m Success \u001b[0m\u001b[1;32m Found solution for compound=C52131!\u001b[0m\n"
      ]
     },
     "metadata": {},
     "output_type": "display_data"
    },
    {
     "data": {
      "text/html": [
       "<pre style=\"white-space:pre;overflow-x:auto;line-height:normal;font-family:Menlo,'DejaVu Sans Mono',consolas,'Courier New',monospace;margin:0px\"><span style=\"background-color: #008000; font-weight: bold\"> Success </span><span style=\"color: #008000; text-decoration-color: #008000; font-weight: bold\"> Found solution for compound=C52132!</span>\n",
       "</pre>\n"
      ],
      "text/plain": [
       "\u001b[1;7;32m Success \u001b[0m\u001b[1;32m Found solution for compound=C52132!\u001b[0m\n"
      ]
     },
     "metadata": {},
     "output_type": "display_data"
    },
    {
     "data": {
      "text/html": [
       "<pre style=\"white-space:pre;overflow-x:auto;line-height:normal;font-family:Menlo,'DejaVu Sans Mono',consolas,'Courier New',monospace;margin:0px\"><span style=\"background-color: #008000; font-weight: bold\"> Success </span><span style=\"color: #008000; text-decoration-color: #008000; font-weight: bold\"> Found solution for compound=C52133!</span>\n",
       "</pre>\n"
      ],
      "text/plain": [
       "\u001b[1;7;32m Success \u001b[0m\u001b[1;32m Found solution for compound=C52133!\u001b[0m\n"
      ]
     },
     "metadata": {},
     "output_type": "display_data"
    },
    {
     "data": {
      "text/html": [
       "<pre style=\"white-space:pre;overflow-x:auto;line-height:normal;font-family:Menlo,'DejaVu Sans Mono',consolas,'Courier New',monospace;margin:0px\"><span style=\"background-color: #008000; font-weight: bold\"> Success </span><span style=\"color: #008000; text-decoration-color: #008000; font-weight: bold\"> Found solution for compound=C52137!</span>\n",
       "</pre>\n"
      ],
      "text/plain": [
       "\u001b[1;7;32m Success \u001b[0m\u001b[1;32m Found solution for compound=C52137!\u001b[0m\n"
      ]
     },
     "metadata": {},
     "output_type": "display_data"
    },
    {
     "data": {
      "text/html": [
       "<pre style=\"white-space:pre;overflow-x:auto;line-height:normal;font-family:Menlo,'DejaVu Sans Mono',consolas,'Courier New',monospace;margin:0px\"><span style=\"background-color: #008000; font-weight: bold\"> Success </span><span style=\"color: #008000; text-decoration-color: #008000; font-weight: bold\"> Found solution for compound=C52140!</span>\n",
       "</pre>\n"
      ],
      "text/plain": [
       "\u001b[1;7;32m Success \u001b[0m\u001b[1;32m Found solution for compound=C52140!\u001b[0m\n"
      ]
     },
     "metadata": {},
     "output_type": "display_data"
    },
    {
     "data": {
      "text/html": [
       "<pre style=\"white-space:pre;overflow-x:auto;line-height:normal;font-family:Menlo,'DejaVu Sans Mono',consolas,'Courier New',monospace;margin:0px\"><span style=\"background-color: #008000; font-weight: bold\"> Success </span><span style=\"color: #008000; text-decoration-color: #008000; font-weight: bold\"> Found solution for compound=C52141!</span>\n",
       "</pre>\n"
      ],
      "text/plain": [
       "\u001b[1;7;32m Success \u001b[0m\u001b[1;32m Found solution for compound=C52141!\u001b[0m\n"
      ]
     },
     "metadata": {},
     "output_type": "display_data"
    },
    {
     "data": {
      "text/html": [
       "<pre style=\"white-space:pre;overflow-x:auto;line-height:normal;font-family:Menlo,'DejaVu Sans Mono',consolas,'Courier New',monospace;margin:0px\"><span style=\"background-color: #008000; font-weight: bold\"> Success </span><span style=\"color: #008000; text-decoration-color: #008000; font-weight: bold\"> Found solution for compound=C52142!</span>\n",
       "</pre>\n"
      ],
      "text/plain": [
       "\u001b[1;7;32m Success \u001b[0m\u001b[1;32m Found solution for compound=C52142!\u001b[0m\n"
      ]
     },
     "metadata": {},
     "output_type": "display_data"
    },
    {
     "data": {
      "text/html": [
       "<pre style=\"white-space:pre;overflow-x:auto;line-height:normal;font-family:Menlo,'DejaVu Sans Mono',consolas,'Courier New',monospace;margin:0px\"><span style=\"background-color: #008000; font-weight: bold\"> Success </span><span style=\"color: #008000; text-decoration-color: #008000; font-weight: bold\"> Found solution for compound=C52170!</span>\n",
       "</pre>\n"
      ],
      "text/plain": [
       "\u001b[1;7;32m Success \u001b[0m\u001b[1;32m Found solution for compound=C52170!\u001b[0m\n"
      ]
     },
     "metadata": {},
     "output_type": "display_data"
    },
    {
     "data": {
      "text/html": [
       "<pre style=\"white-space:pre;overflow-x:auto;line-height:normal;font-family:Menlo,'DejaVu Sans Mono',consolas,'Courier New',monospace;margin:0px\"><span style=\"background-color: #008000; font-weight: bold\"> Success </span><span style=\"color: #008000; text-decoration-color: #008000; font-weight: bold\"> Found solution for compound=C52171!</span>\n",
       "</pre>\n"
      ],
      "text/plain": [
       "\u001b[1;7;32m Success \u001b[0m\u001b[1;32m Found solution for compound=C52171!\u001b[0m\n"
      ]
     },
     "metadata": {},
     "output_type": "display_data"
    },
    {
     "data": {
      "text/html": [
       "<pre style=\"white-space:pre;overflow-x:auto;line-height:normal;font-family:Menlo,'DejaVu Sans Mono',consolas,'Courier New',monospace;margin:0px\"><span style=\"background-color: #008000; font-weight: bold\"> Success </span><span style=\"color: #008000; text-decoration-color: #008000; font-weight: bold\"> Found solution for compound=C52173!</span>\n",
       "</pre>\n"
      ],
      "text/plain": [
       "\u001b[1;7;32m Success \u001b[0m\u001b[1;32m Found solution for compound=C52173!\u001b[0m\n"
      ]
     },
     "metadata": {},
     "output_type": "display_data"
    },
    {
     "data": {
      "text/html": [
       "<pre style=\"white-space:pre;overflow-x:auto;line-height:normal;font-family:Menlo,'DejaVu Sans Mono',consolas,'Courier New',monospace;margin:0px\"><span style=\"background-color: #008000; font-weight: bold\"> Success </span><span style=\"color: #008000; text-decoration-color: #008000; font-weight: bold\"> Found solution for compound=C52179!</span>\n",
       "</pre>\n"
      ],
      "text/plain": [
       "\u001b[1;7;32m Success \u001b[0m\u001b[1;32m Found solution for compound=C52179!\u001b[0m\n"
      ]
     },
     "metadata": {},
     "output_type": "display_data"
    },
    {
     "data": {
      "text/html": [
       "<pre style=\"white-space:pre;overflow-x:auto;line-height:normal;font-family:Menlo,'DejaVu Sans Mono',consolas,'Courier New',monospace;margin:0px\"><span style=\"background-color: #008000; font-weight: bold\"> Success </span><span style=\"color: #008000; text-decoration-color: #008000; font-weight: bold\"> Found solution for compound=C52184!</span>\n",
       "</pre>\n"
      ],
      "text/plain": [
       "\u001b[1;7;32m Success \u001b[0m\u001b[1;32m Found solution for compound=C52184!\u001b[0m\n"
      ]
     },
     "metadata": {},
     "output_type": "display_data"
    },
    {
     "data": {
      "text/html": [
       "<pre style=\"white-space:pre;overflow-x:auto;line-height:normal;font-family:Menlo,'DejaVu Sans Mono',consolas,'Courier New',monospace;margin:0px\"><span style=\"background-color: #008000; font-weight: bold\"> Success </span><span style=\"color: #008000; text-decoration-color: #008000; font-weight: bold\"> Found solution for compound=C52191!</span>\n",
       "</pre>\n"
      ],
      "text/plain": [
       "\u001b[1;7;32m Success \u001b[0m\u001b[1;32m Found solution for compound=C52191!\u001b[0m\n"
      ]
     },
     "metadata": {},
     "output_type": "display_data"
    },
    {
     "data": {
      "text/html": [
       "<pre style=\"white-space:pre;overflow-x:auto;line-height:normal;font-family:Menlo,'DejaVu Sans Mono',consolas,'Courier New',monospace;margin:0px\"><span style=\"background-color: #008000; font-weight: bold\"> Success </span><span style=\"color: #008000; text-decoration-color: #008000; font-weight: bold\"> Found solution for compound=C52192!</span>\n",
       "</pre>\n"
      ],
      "text/plain": [
       "\u001b[1;7;32m Success \u001b[0m\u001b[1;32m Found solution for compound=C52192!\u001b[0m\n"
      ]
     },
     "metadata": {},
     "output_type": "display_data"
    },
    {
     "data": {
      "text/html": [
       "<pre style=\"white-space:pre;overflow-x:auto;line-height:normal;font-family:Menlo,'DejaVu Sans Mono',consolas,'Courier New',monospace;margin:0px\"><span style=\"background-color: #008000; font-weight: bold\"> Success </span><span style=\"color: #008000; text-decoration-color: #008000; font-weight: bold\"> Found solution for compound=C52204!</span>\n",
       "</pre>\n"
      ],
      "text/plain": [
       "\u001b[1;7;32m Success \u001b[0m\u001b[1;32m Found solution for compound=C52204!\u001b[0m\n"
      ]
     },
     "metadata": {},
     "output_type": "display_data"
    },
    {
     "data": {
      "text/html": [
       "<pre style=\"white-space:pre;overflow-x:auto;line-height:normal;font-family:Menlo,'DejaVu Sans Mono',consolas,'Courier New',monospace;margin:0px\"><span style=\"background-color: #008000; font-weight: bold\"> Success </span><span style=\"color: #008000; text-decoration-color: #008000; font-weight: bold\"> Found solution for compound=C52206!</span>\n",
       "</pre>\n"
      ],
      "text/plain": [
       "\u001b[1;7;32m Success \u001b[0m\u001b[1;32m Found solution for compound=C52206!\u001b[0m\n"
      ]
     },
     "metadata": {},
     "output_type": "display_data"
    },
    {
     "data": {
      "text/html": [
       "<pre style=\"white-space:pre;overflow-x:auto;line-height:normal;font-family:Menlo,'DejaVu Sans Mono',consolas,'Courier New',monospace;margin:0px\"><span style=\"background-color: #008000; font-weight: bold\"> Success </span><span style=\"color: #008000; text-decoration-color: #008000; font-weight: bold\"> Found solution for compound=C52327!</span>\n",
       "</pre>\n"
      ],
      "text/plain": [
       "\u001b[1;7;32m Success \u001b[0m\u001b[1;32m Found solution for compound=C52327!\u001b[0m\n"
      ]
     },
     "metadata": {},
     "output_type": "display_data"
    },
    {
     "data": {
      "text/html": [
       "<pre style=\"white-space:pre;overflow-x:auto;line-height:normal;font-family:Menlo,'DejaVu Sans Mono',consolas,'Courier New',monospace;margin:0px\"><span style=\"background-color: #008000; font-weight: bold\"> Success </span><span style=\"color: #008000; text-decoration-color: #008000; font-weight: bold\"> Found solution for compound=C52359!</span>\n",
       "</pre>\n"
      ],
      "text/plain": [
       "\u001b[1;7;32m Success \u001b[0m\u001b[1;32m Found solution for compound=C52359!\u001b[0m\n"
      ]
     },
     "metadata": {},
     "output_type": "display_data"
    },
    {
     "data": {
      "text/html": [
       "<pre style=\"white-space:pre;overflow-x:auto;line-height:normal;font-family:Menlo,'DejaVu Sans Mono',consolas,'Courier New',monospace;margin:0px\"><span style=\"background-color: #008000; font-weight: bold\"> Success </span><span style=\"color: #008000; text-decoration-color: #008000; font-weight: bold\"> Found solution for compound=C52376!</span>\n",
       "</pre>\n"
      ],
      "text/plain": [
       "\u001b[1;7;32m Success \u001b[0m\u001b[1;32m Found solution for compound=C52376!\u001b[0m\n"
      ]
     },
     "metadata": {},
     "output_type": "display_data"
    },
    {
     "data": {
      "text/html": [
       "<pre style=\"white-space:pre;overflow-x:auto;line-height:normal;font-family:Menlo,'DejaVu Sans Mono',consolas,'Courier New',monospace;margin:0px\"><span style=\"background-color: #008000; font-weight: bold\"> Success </span><span style=\"color: #008000; text-decoration-color: #008000; font-weight: bold\"> Found solution for compound=C52382!</span>\n",
       "</pre>\n"
      ],
      "text/plain": [
       "\u001b[1;7;32m Success \u001b[0m\u001b[1;32m Found solution for compound=C52382!\u001b[0m\n"
      ]
     },
     "metadata": {},
     "output_type": "display_data"
    },
    {
     "data": {
      "text/html": [
       "<pre style=\"white-space:pre;overflow-x:auto;line-height:normal;font-family:Menlo,'DejaVu Sans Mono',consolas,'Courier New',monospace;margin:0px\"><span style=\"background-color: #008000; font-weight: bold\"> Success </span><span style=\"color: #008000; text-decoration-color: #008000; font-weight: bold\"> Found solution for compound=C52399!</span>\n",
       "</pre>\n"
      ],
      "text/plain": [
       "\u001b[1;7;32m Success \u001b[0m\u001b[1;32m Found solution for compound=C52399!\u001b[0m\n"
      ]
     },
     "metadata": {},
     "output_type": "display_data"
    },
    {
     "data": {
      "text/html": [
       "<pre style=\"white-space:pre;overflow-x:auto;line-height:normal;font-family:Menlo,'DejaVu Sans Mono',consolas,'Courier New',monospace;margin:0px\"><span style=\"background-color: #008000; font-weight: bold\"> Success </span><span style=\"color: #008000; text-decoration-color: #008000; font-weight: bold\"> Found solution for compound=C52406!</span>\n",
       "</pre>\n"
      ],
      "text/plain": [
       "\u001b[1;7;32m Success \u001b[0m\u001b[1;32m Found solution for compound=C52406!\u001b[0m\n"
      ]
     },
     "metadata": {},
     "output_type": "display_data"
    },
    {
     "data": {
      "text/html": [
       "<pre style=\"white-space:pre;overflow-x:auto;line-height:normal;font-family:Menlo,'DejaVu Sans Mono',consolas,'Courier New',monospace;margin:0px\"><span style=\"background-color: #008000; font-weight: bold\"> Success </span><span style=\"color: #008000; text-decoration-color: #008000; font-weight: bold\"> Found solution for compound=C52410!</span>\n",
       "</pre>\n"
      ],
      "text/plain": [
       "\u001b[1;7;32m Success \u001b[0m\u001b[1;32m Found solution for compound=C52410!\u001b[0m\n"
      ]
     },
     "metadata": {},
     "output_type": "display_data"
    },
    {
     "data": {
      "text/html": [
       "<pre style=\"white-space:pre;overflow-x:auto;line-height:normal;font-family:Menlo,'DejaVu Sans Mono',consolas,'Courier New',monospace;margin:0px\"><span style=\"background-color: #008000; font-weight: bold\"> Success </span><span style=\"color: #008000; text-decoration-color: #008000; font-weight: bold\"> Found solution for compound=C52412!</span>\n",
       "</pre>\n"
      ],
      "text/plain": [
       "\u001b[1;7;32m Success \u001b[0m\u001b[1;32m Found solution for compound=C52412!\u001b[0m\n"
      ]
     },
     "metadata": {},
     "output_type": "display_data"
    },
    {
     "data": {
      "text/html": [
       "<pre style=\"white-space:pre;overflow-x:auto;line-height:normal;font-family:Menlo,'DejaVu Sans Mono',consolas,'Courier New',monospace;margin:0px\"><span style=\"background-color: #008000; font-weight: bold\"> Success </span><span style=\"color: #008000; text-decoration-color: #008000; font-weight: bold\"> Found solution for compound=C52416!</span>\n",
       "</pre>\n"
      ],
      "text/plain": [
       "\u001b[1;7;32m Success \u001b[0m\u001b[1;32m Found solution for compound=C52416!\u001b[0m\n"
      ]
     },
     "metadata": {},
     "output_type": "display_data"
    },
    {
     "data": {
      "text/html": [
       "<pre style=\"white-space:pre;overflow-x:auto;line-height:normal;font-family:Menlo,'DejaVu Sans Mono',consolas,'Courier New',monospace;margin:0px\"><span style=\"background-color: #008000; font-weight: bold\"> Success </span><span style=\"color: #008000; text-decoration-color: #008000; font-weight: bold\"> Found solution for compound=C52763!</span>\n",
       "</pre>\n"
      ],
      "text/plain": [
       "\u001b[1;7;32m Success \u001b[0m\u001b[1;32m Found solution for compound=C52763!\u001b[0m\n"
      ]
     },
     "metadata": {},
     "output_type": "display_data"
    },
    {
     "data": {
      "text/html": [
       "<pre style=\"white-space:pre;overflow-x:auto;line-height:normal;font-family:Menlo,'DejaVu Sans Mono',consolas,'Courier New',monospace;margin:0px\"><span style=\"background-color: #008000; font-weight: bold\"> Success </span><span style=\"color: #008000; text-decoration-color: #008000; font-weight: bold\"> Found solution for compound=C52764!</span>\n",
       "</pre>\n"
      ],
      "text/plain": [
       "\u001b[1;7;32m Success \u001b[0m\u001b[1;32m Found solution for compound=C52764!\u001b[0m\n"
      ]
     },
     "metadata": {},
     "output_type": "display_data"
    },
    {
     "data": {
      "text/html": [
       "<pre style=\"white-space:pre;overflow-x:auto;line-height:normal;font-family:Menlo,'DejaVu Sans Mono',consolas,'Courier New',monospace;margin:0px\"><span style=\"background-color: #008000; font-weight: bold\"> Success </span><span style=\"color: #008000; text-decoration-color: #008000; font-weight: bold\"> Found solution for compound=C52765!</span>\n",
       "</pre>\n"
      ],
      "text/plain": [
       "\u001b[1;7;32m Success \u001b[0m\u001b[1;32m Found solution for compound=C52765!\u001b[0m\n"
      ]
     },
     "metadata": {},
     "output_type": "display_data"
    },
    {
     "data": {
      "text/html": [
       "<pre style=\"white-space:pre;overflow-x:auto;line-height:normal;font-family:Menlo,'DejaVu Sans Mono',consolas,'Courier New',monospace;margin:0px\"><span style=\"background-color: #008000; font-weight: bold\"> Success </span><span style=\"color: #008000; text-decoration-color: #008000; font-weight: bold\"> Found solution for compound=C52769!</span>\n",
       "</pre>\n"
      ],
      "text/plain": [
       "\u001b[1;7;32m Success \u001b[0m\u001b[1;32m Found solution for compound=C52769!\u001b[0m\n"
      ]
     },
     "metadata": {},
     "output_type": "display_data"
    },
    {
     "data": {
      "text/html": [
       "<pre style=\"white-space:pre;overflow-x:auto;line-height:normal;font-family:Menlo,'DejaVu Sans Mono',consolas,'Courier New',monospace;margin:0px\"><span style=\"background-color: #008000; font-weight: bold\"> Success </span><span style=\"color: #008000; text-decoration-color: #008000; font-weight: bold\"> Found solution for compound=C52771!</span>\n",
       "</pre>\n"
      ],
      "text/plain": [
       "\u001b[1;7;32m Success \u001b[0m\u001b[1;32m Found solution for compound=C52771!\u001b[0m\n"
      ]
     },
     "metadata": {},
     "output_type": "display_data"
    },
    {
     "data": {
      "text/html": [
       "<pre style=\"white-space:pre;overflow-x:auto;line-height:normal;font-family:Menlo,'DejaVu Sans Mono',consolas,'Courier New',monospace;margin:0px\"><span style=\"background-color: #008000; font-weight: bold\"> Success </span><span style=\"color: #008000; text-decoration-color: #008000; font-weight: bold\"> Found solution for compound=C52776!</span>\n",
       "</pre>\n"
      ],
      "text/plain": [
       "\u001b[1;7;32m Success \u001b[0m\u001b[1;32m Found solution for compound=C52776!\u001b[0m\n"
      ]
     },
     "metadata": {},
     "output_type": "display_data"
    },
    {
     "data": {
      "text/html": [
       "<pre style=\"white-space:pre;overflow-x:auto;line-height:normal;font-family:Menlo,'DejaVu Sans Mono',consolas,'Courier New',monospace;margin:0px\"><span style=\"background-color: #008000; font-weight: bold\"> Success </span><span style=\"color: #008000; text-decoration-color: #008000; font-weight: bold\"> Found solution for compound=C52781!</span>\n",
       "</pre>\n"
      ],
      "text/plain": [
       "\u001b[1;7;32m Success \u001b[0m\u001b[1;32m Found solution for compound=C52781!\u001b[0m\n"
      ]
     },
     "metadata": {},
     "output_type": "display_data"
    },
    {
     "data": {
      "text/html": [
       "<pre style=\"white-space:pre;overflow-x:auto;line-height:normal;font-family:Menlo,'DejaVu Sans Mono',consolas,'Courier New',monospace;margin:0px\"><span style=\"background-color: #008000; font-weight: bold\"> Success </span><span style=\"color: #008000; text-decoration-color: #008000; font-weight: bold\"> Found solution for compound=C52785!</span>\n",
       "</pre>\n"
      ],
      "text/plain": [
       "\u001b[1;7;32m Success \u001b[0m\u001b[1;32m Found solution for compound=C52785!\u001b[0m\n"
      ]
     },
     "metadata": {},
     "output_type": "display_data"
    },
    {
     "data": {
      "text/html": [
       "<pre style=\"white-space:pre;overflow-x:auto;line-height:normal;font-family:Menlo,'DejaVu Sans Mono',consolas,'Courier New',monospace;margin:0px\"><span style=\"background-color: #008000; font-weight: bold\"> Success </span><span style=\"color: #008000; text-decoration-color: #008000; font-weight: bold\"> Found solution for compound=C52787!</span>\n",
       "</pre>\n"
      ],
      "text/plain": [
       "\u001b[1;7;32m Success \u001b[0m\u001b[1;32m Found solution for compound=C52787!\u001b[0m\n"
      ]
     },
     "metadata": {},
     "output_type": "display_data"
    },
    {
     "data": {
      "text/html": [
       "<pre style=\"white-space:pre;overflow-x:auto;line-height:normal;font-family:Menlo,'DejaVu Sans Mono',consolas,'Courier New',monospace;margin:0px\"><span style=\"background-color: #008000; font-weight: bold\"> Success </span><span style=\"color: #008000; text-decoration-color: #008000; font-weight: bold\"> Found solution for compound=C52795!</span>\n",
       "</pre>\n"
      ],
      "text/plain": [
       "\u001b[1;7;32m Success \u001b[0m\u001b[1;32m Found solution for compound=C52795!\u001b[0m\n"
      ]
     },
     "metadata": {},
     "output_type": "display_data"
    },
    {
     "data": {
      "text/html": [
       "<pre style=\"white-space:pre;overflow-x:auto;line-height:normal;font-family:Menlo,'DejaVu Sans Mono',consolas,'Courier New',monospace;margin:0px\"><span style=\"background-color: #008000; font-weight: bold\"> Success </span><span style=\"color: #008000; text-decoration-color: #008000; font-weight: bold\"> Found solution for compound=C52800!</span>\n",
       "</pre>\n"
      ],
      "text/plain": [
       "\u001b[1;7;32m Success \u001b[0m\u001b[1;32m Found solution for compound=C52800!\u001b[0m\n"
      ]
     },
     "metadata": {},
     "output_type": "display_data"
    },
    {
     "data": {
      "text/html": [
       "<pre style=\"white-space:pre;overflow-x:auto;line-height:normal;font-family:Menlo,'DejaVu Sans Mono',consolas,'Courier New',monospace;margin:0px\"><span style=\"background-color: #008000; font-weight: bold\"> Success </span><span style=\"color: #008000; text-decoration-color: #008000; font-weight: bold\"> Found solution for compound=C52806!</span>\n",
       "</pre>\n"
      ],
      "text/plain": [
       "\u001b[1;7;32m Success \u001b[0m\u001b[1;32m Found solution for compound=C52806!\u001b[0m\n"
      ]
     },
     "metadata": {},
     "output_type": "display_data"
    },
    {
     "data": {
      "text/html": [
       "<pre style=\"white-space:pre;overflow-x:auto;line-height:normal;font-family:Menlo,'DejaVu Sans Mono',consolas,'Courier New',monospace;margin:0px\"><span style=\"background-color: #008000; font-weight: bold\"> Success </span><span style=\"color: #008000; text-decoration-color: #008000; font-weight: bold\"> Found solution for compound=C52809!</span>\n",
       "</pre>\n"
      ],
      "text/plain": [
       "\u001b[1;7;32m Success \u001b[0m\u001b[1;32m Found solution for compound=C52809!\u001b[0m\n"
      ]
     },
     "metadata": {},
     "output_type": "display_data"
    },
    {
     "data": {
      "text/html": [
       "<pre style=\"white-space:pre;overflow-x:auto;line-height:normal;font-family:Menlo,'DejaVu Sans Mono',consolas,'Courier New',monospace;margin:0px\"><span style=\"background-color: #008000; font-weight: bold\"> Success </span><span style=\"color: #008000; text-decoration-color: #008000; font-weight: bold\"> Found solution for compound=C52810!</span>\n",
       "</pre>\n"
      ],
      "text/plain": [
       "\u001b[1;7;32m Success \u001b[0m\u001b[1;32m Found solution for compound=C52810!\u001b[0m\n"
      ]
     },
     "metadata": {},
     "output_type": "display_data"
    },
    {
     "data": {
      "text/html": [
       "<pre style=\"white-space:pre;overflow-x:auto;line-height:normal;font-family:Menlo,'DejaVu Sans Mono',consolas,'Courier New',monospace;margin:0px\"><span style=\"background-color: #008000; font-weight: bold\"> Success </span><span style=\"color: #008000; text-decoration-color: #008000; font-weight: bold\"> Found solution for compound=C52813!</span>\n",
       "</pre>\n"
      ],
      "text/plain": [
       "\u001b[1;7;32m Success \u001b[0m\u001b[1;32m Found solution for compound=C52813!\u001b[0m\n"
      ]
     },
     "metadata": {},
     "output_type": "display_data"
    },
    {
     "data": {
      "text/html": [
       "<pre style=\"white-space:pre;overflow-x:auto;line-height:normal;font-family:Menlo,'DejaVu Sans Mono',consolas,'Courier New',monospace;margin:0px\"><span style=\"background-color: #008000; font-weight: bold\"> Success </span><span style=\"color: #008000; text-decoration-color: #008000; font-weight: bold\"> Found solution for compound=C52814!</span>\n",
       "</pre>\n"
      ],
      "text/plain": [
       "\u001b[1;7;32m Success \u001b[0m\u001b[1;32m Found solution for compound=C52814!\u001b[0m\n"
      ]
     },
     "metadata": {},
     "output_type": "display_data"
    },
    {
     "data": {
      "text/html": [
       "<pre style=\"white-space:pre;overflow-x:auto;line-height:normal;font-family:Menlo,'DejaVu Sans Mono',consolas,'Courier New',monospace;margin:0px\"><span style=\"background-color: #008000; font-weight: bold\"> Success </span><span style=\"color: #008000; text-decoration-color: #008000; font-weight: bold\"> Found solution for compound=C52816!</span>\n",
       "</pre>\n"
      ],
      "text/plain": [
       "\u001b[1;7;32m Success \u001b[0m\u001b[1;32m Found solution for compound=C52816!\u001b[0m\n"
      ]
     },
     "metadata": {},
     "output_type": "display_data"
    },
    {
     "data": {
      "text/html": [
       "<pre style=\"white-space:pre;overflow-x:auto;line-height:normal;font-family:Menlo,'DejaVu Sans Mono',consolas,'Courier New',monospace;margin:0px\"><span style=\"background-color: #008000; font-weight: bold\"> Success </span><span style=\"color: #008000; text-decoration-color: #008000; font-weight: bold\"> Found solution for compound=C52819!</span>\n",
       "</pre>\n"
      ],
      "text/plain": [
       "\u001b[1;7;32m Success \u001b[0m\u001b[1;32m Found solution for compound=C52819!\u001b[0m\n"
      ]
     },
     "metadata": {},
     "output_type": "display_data"
    },
    {
     "data": {
      "text/html": [
       "<pre style=\"white-space:pre;overflow-x:auto;line-height:normal;font-family:Menlo,'DejaVu Sans Mono',consolas,'Courier New',monospace;margin:0px\"><span style=\"background-color: #008000; font-weight: bold\"> Success </span><span style=\"color: #008000; text-decoration-color: #008000; font-weight: bold\"> Found solution for compound=C53172!</span>\n",
       "</pre>\n"
      ],
      "text/plain": [
       "\u001b[1;7;32m Success \u001b[0m\u001b[1;32m Found solution for compound=C53172!\u001b[0m\n"
      ]
     },
     "metadata": {},
     "output_type": "display_data"
    },
    {
     "data": {
      "text/html": [
       "<pre style=\"white-space:pre;overflow-x:auto;line-height:normal;font-family:Menlo,'DejaVu Sans Mono',consolas,'Courier New',monospace;margin:0px\"><span style=\"background-color: #008000; font-weight: bold\"> Success </span><span style=\"color: #008000; text-decoration-color: #008000; font-weight: bold\"> Found solution for compound=C53182!</span>\n",
       "</pre>\n"
      ],
      "text/plain": [
       "\u001b[1;7;32m Success \u001b[0m\u001b[1;32m Found solution for compound=C53182!\u001b[0m\n"
      ]
     },
     "metadata": {},
     "output_type": "display_data"
    },
    {
     "data": {
      "text/html": [
       "<pre style=\"white-space:pre;overflow-x:auto;line-height:normal;font-family:Menlo,'DejaVu Sans Mono',consolas,'Courier New',monospace;margin:0px\"><span style=\"background-color: #008000; font-weight: bold\"> Success </span><span style=\"color: #008000; text-decoration-color: #008000; font-weight: bold\"> Found solution for compound=C53185!</span>\n",
       "</pre>\n"
      ],
      "text/plain": [
       "\u001b[1;7;32m Success \u001b[0m\u001b[1;32m Found solution for compound=C53185!\u001b[0m\n"
      ]
     },
     "metadata": {},
     "output_type": "display_data"
    },
    {
     "data": {
      "text/html": [
       "<pre style=\"white-space:pre;overflow-x:auto;line-height:normal;font-family:Menlo,'DejaVu Sans Mono',consolas,'Courier New',monospace;margin:0px\"><span style=\"background-color: #008000; font-weight: bold\"> Success </span><span style=\"color: #008000; text-decoration-color: #008000; font-weight: bold\"> Found solution for compound=C53188!</span>\n",
       "</pre>\n"
      ],
      "text/plain": [
       "\u001b[1;7;32m Success \u001b[0m\u001b[1;32m Found solution for compound=C53188!\u001b[0m\n"
      ]
     },
     "metadata": {},
     "output_type": "display_data"
    },
    {
     "data": {
      "text/html": [
       "<pre style=\"white-space:pre;overflow-x:auto;line-height:normal;font-family:Menlo,'DejaVu Sans Mono',consolas,'Courier New',monospace;margin:0px\"><span style=\"background-color: #008000; font-weight: bold\"> Success </span><span style=\"color: #008000; text-decoration-color: #008000; font-weight: bold\"> Found solution for compound=C53194!</span>\n",
       "</pre>\n"
      ],
      "text/plain": [
       "\u001b[1;7;32m Success \u001b[0m\u001b[1;32m Found solution for compound=C53194!\u001b[0m\n"
      ]
     },
     "metadata": {},
     "output_type": "display_data"
    },
    {
     "data": {
      "text/html": [
       "<pre style=\"white-space:pre;overflow-x:auto;line-height:normal;font-family:Menlo,'DejaVu Sans Mono',consolas,'Courier New',monospace;margin:0px\"><span style=\"background-color: #008000; font-weight: bold\"> Success </span><span style=\"color: #008000; text-decoration-color: #008000; font-weight: bold\"> Found solution for compound=C53197!</span>\n",
       "</pre>\n"
      ],
      "text/plain": [
       "\u001b[1;7;32m Success \u001b[0m\u001b[1;32m Found solution for compound=C53197!\u001b[0m\n"
      ]
     },
     "metadata": {},
     "output_type": "display_data"
    },
    {
     "data": {
      "text/html": [
       "<pre style=\"white-space:pre;overflow-x:auto;line-height:normal;font-family:Menlo,'DejaVu Sans Mono',consolas,'Courier New',monospace;margin:0px\"><span style=\"background-color: #008000; font-weight: bold\"> Success </span><span style=\"color: #008000; text-decoration-color: #008000; font-weight: bold\"> Found solution for compound=C53203!</span>\n",
       "</pre>\n"
      ],
      "text/plain": [
       "\u001b[1;7;32m Success \u001b[0m\u001b[1;32m Found solution for compound=C53203!\u001b[0m\n"
      ]
     },
     "metadata": {},
     "output_type": "display_data"
    },
    {
     "data": {
      "text/html": [
       "<pre style=\"white-space:pre;overflow-x:auto;line-height:normal;font-family:Menlo,'DejaVu Sans Mono',consolas,'Courier New',monospace;margin:0px\"><span style=\"background-color: #008000; font-weight: bold\"> Success </span><span style=\"color: #008000; text-decoration-color: #008000; font-weight: bold\"> Found solution for compound=C53210!</span>\n",
       "</pre>\n"
      ],
      "text/plain": [
       "\u001b[1;7;32m Success \u001b[0m\u001b[1;32m Found solution for compound=C53210!\u001b[0m\n"
      ]
     },
     "metadata": {},
     "output_type": "display_data"
    },
    {
     "data": {
      "text/html": [
       "<pre style=\"white-space:pre;overflow-x:auto;line-height:normal;font-family:Menlo,'DejaVu Sans Mono',consolas,'Courier New',monospace;margin:0px\"><span style=\"background-color: #008000; font-weight: bold\"> Success </span><span style=\"color: #008000; text-decoration-color: #008000; font-weight: bold\"> Found solution for compound=C53234!</span>\n",
       "</pre>\n"
      ],
      "text/plain": [
       "\u001b[1;7;32m Success \u001b[0m\u001b[1;32m Found solution for compound=C53234!\u001b[0m\n"
      ]
     },
     "metadata": {},
     "output_type": "display_data"
    },
    {
     "data": {
      "text/html": [
       "<pre style=\"white-space:pre;overflow-x:auto;line-height:normal;font-family:Menlo,'DejaVu Sans Mono',consolas,'Courier New',monospace;margin:0px\"><span style=\"background-color: #008000; font-weight: bold\"> Success </span><span style=\"color: #008000; text-decoration-color: #008000; font-weight: bold\"> Found solution for compound=C53235!</span>\n",
       "</pre>\n"
      ],
      "text/plain": [
       "\u001b[1;7;32m Success \u001b[0m\u001b[1;32m Found solution for compound=C53235!\u001b[0m\n"
      ]
     },
     "metadata": {},
     "output_type": "display_data"
    },
    {
     "data": {
      "text/html": [
       "<pre style=\"white-space:pre;overflow-x:auto;line-height:normal;font-family:Menlo,'DejaVu Sans Mono',consolas,'Courier New',monospace;margin:0px\"><span style=\"background-color: #008000; font-weight: bold\"> Success </span><span style=\"color: #008000; text-decoration-color: #008000; font-weight: bold\"> Found solution for compound=C53238!</span>\n",
       "</pre>\n"
      ],
      "text/plain": [
       "\u001b[1;7;32m Success \u001b[0m\u001b[1;32m Found solution for compound=C53238!\u001b[0m\n"
      ]
     },
     "metadata": {},
     "output_type": "display_data"
    },
    {
     "data": {
      "text/html": [
       "<pre style=\"white-space:pre;overflow-x:auto;line-height:normal;font-family:Menlo,'DejaVu Sans Mono',consolas,'Courier New',monospace;margin:0px\"><span style=\"background-color: #008000; font-weight: bold\"> Success </span><span style=\"color: #008000; text-decoration-color: #008000; font-weight: bold\"> Found solution for compound=C53240!</span>\n",
       "</pre>\n"
      ],
      "text/plain": [
       "\u001b[1;7;32m Success \u001b[0m\u001b[1;32m Found solution for compound=C53240!\u001b[0m\n"
      ]
     },
     "metadata": {},
     "output_type": "display_data"
    },
    {
     "data": {
      "text/html": [
       "<pre style=\"white-space:pre;overflow-x:auto;line-height:normal;font-family:Menlo,'DejaVu Sans Mono',consolas,'Courier New',monospace;margin:0px\"><span style=\"background-color: #008000; font-weight: bold\"> Success </span><span style=\"color: #008000; text-decoration-color: #008000; font-weight: bold\"> Found solution for compound=C53242!</span>\n",
       "</pre>\n"
      ],
      "text/plain": [
       "\u001b[1;7;32m Success \u001b[0m\u001b[1;32m Found solution for compound=C53242!\u001b[0m\n"
      ]
     },
     "metadata": {},
     "output_type": "display_data"
    },
    {
     "data": {
      "text/html": [
       "<pre style=\"white-space:pre;overflow-x:auto;line-height:normal;font-family:Menlo,'DejaVu Sans Mono',consolas,'Courier New',monospace;margin:0px\"><span style=\"background-color: #008000; font-weight: bold\"> Success </span><span style=\"color: #008000; text-decoration-color: #008000; font-weight: bold\"> Found solution for compound=C53252!</span>\n",
       "</pre>\n"
      ],
      "text/plain": [
       "\u001b[1;7;32m Success \u001b[0m\u001b[1;32m Found solution for compound=C53252!\u001b[0m\n"
      ]
     },
     "metadata": {},
     "output_type": "display_data"
    },
    {
     "data": {
      "text/html": [
       "<pre style=\"white-space:pre;overflow-x:auto;line-height:normal;font-family:Menlo,'DejaVu Sans Mono',consolas,'Courier New',monospace;margin:0px\"><span style=\"background-color: #008000; font-weight: bold\"> Success </span><span style=\"color: #008000; text-decoration-color: #008000; font-weight: bold\"> Found solution for compound=C53271!</span>\n",
       "</pre>\n"
      ],
      "text/plain": [
       "\u001b[1;7;32m Success \u001b[0m\u001b[1;32m Found solution for compound=C53271!\u001b[0m\n"
      ]
     },
     "metadata": {},
     "output_type": "display_data"
    },
    {
     "data": {
      "text/html": [
       "<pre style=\"white-space:pre;overflow-x:auto;line-height:normal;font-family:Menlo,'DejaVu Sans Mono',consolas,'Courier New',monospace;margin:0px\"><span style=\"background-color: #008000; font-weight: bold\"> Success </span><span style=\"color: #008000; text-decoration-color: #008000; font-weight: bold\"> Found solution for compound=C53881!</span>\n",
       "</pre>\n"
      ],
      "text/plain": [
       "\u001b[1;7;32m Success \u001b[0m\u001b[1;32m Found solution for compound=C53881!\u001b[0m\n"
      ]
     },
     "metadata": {},
     "output_type": "display_data"
    },
    {
     "data": {
      "text/html": [
       "<pre style=\"white-space:pre;overflow-x:auto;line-height:normal;font-family:Menlo,'DejaVu Sans Mono',consolas,'Courier New',monospace;margin:0px\"><span style=\"background-color: #008000; font-weight: bold\"> Success </span><span style=\"color: #008000; text-decoration-color: #008000; font-weight: bold\"> Found solution for compound=C54184!</span>\n",
       "</pre>\n"
      ],
      "text/plain": [
       "\u001b[1;7;32m Success \u001b[0m\u001b[1;32m Found solution for compound=C54184!\u001b[0m\n"
      ]
     },
     "metadata": {},
     "output_type": "display_data"
    },
    {
     "data": {
      "text/html": [
       "<pre style=\"white-space:pre;overflow-x:auto;line-height:normal;font-family:Menlo,'DejaVu Sans Mono',consolas,'Courier New',monospace;margin:0px\"><span style=\"background-color: #008000; font-weight: bold\"> Success </span><span style=\"color: #008000; text-decoration-color: #008000; font-weight: bold\"> Found solution for compound=C54188!</span>\n",
       "</pre>\n"
      ],
      "text/plain": [
       "\u001b[1;7;32m Success \u001b[0m\u001b[1;32m Found solution for compound=C54188!\u001b[0m\n"
      ]
     },
     "metadata": {},
     "output_type": "display_data"
    },
    {
     "data": {
      "text/html": [
       "<pre style=\"white-space:pre;overflow-x:auto;line-height:normal;font-family:Menlo,'DejaVu Sans Mono',consolas,'Courier New',monospace;margin:0px\"><span style=\"background-color: #008000; font-weight: bold\"> Success </span><span style=\"color: #008000; text-decoration-color: #008000; font-weight: bold\"> Found solution for compound=C54191!</span>\n",
       "</pre>\n"
      ],
      "text/plain": [
       "\u001b[1;7;32m Success \u001b[0m\u001b[1;32m Found solution for compound=C54191!\u001b[0m\n"
      ]
     },
     "metadata": {},
     "output_type": "display_data"
    },
    {
     "data": {
      "text/html": [
       "<pre style=\"white-space:pre;overflow-x:auto;line-height:normal;font-family:Menlo,'DejaVu Sans Mono',consolas,'Courier New',monospace;margin:0px\"><span style=\"background-color: #008000; font-weight: bold\"> Success </span><span style=\"color: #008000; text-decoration-color: #008000; font-weight: bold\"> Found solution for compound=C54773!</span>\n",
       "</pre>\n"
      ],
      "text/plain": [
       "\u001b[1;7;32m Success \u001b[0m\u001b[1;32m Found solution for compound=C54773!\u001b[0m\n"
      ]
     },
     "metadata": {},
     "output_type": "display_data"
    },
    {
     "data": {
      "text/html": [
       "<pre style=\"white-space:pre;overflow-x:auto;line-height:normal;font-family:Menlo,'DejaVu Sans Mono',consolas,'Courier New',monospace;margin:0px\"><span style=\"background-color: #008000; font-weight: bold\"> Success </span><span style=\"color: #008000; text-decoration-color: #008000; font-weight: bold\"> Found solution for compound=C54774!</span>\n",
       "</pre>\n"
      ],
      "text/plain": [
       "\u001b[1;7;32m Success \u001b[0m\u001b[1;32m Found solution for compound=C54774!\u001b[0m\n"
      ]
     },
     "metadata": {},
     "output_type": "display_data"
    },
    {
     "data": {
      "text/html": [
       "<pre style=\"white-space:pre;overflow-x:auto;line-height:normal;font-family:Menlo,'DejaVu Sans Mono',consolas,'Courier New',monospace;margin:0px\"><span style=\"background-color: #008000; font-weight: bold\"> Success </span><span style=\"color: #008000; text-decoration-color: #008000; font-weight: bold\"> Found solution for compound=C54894!</span>\n",
       "</pre>\n"
      ],
      "text/plain": [
       "\u001b[1;7;32m Success \u001b[0m\u001b[1;32m Found solution for compound=C54894!\u001b[0m\n"
      ]
     },
     "metadata": {},
     "output_type": "display_data"
    },
    {
     "data": {
      "text/html": [
       "<pre style=\"white-space:pre;overflow-x:auto;line-height:normal;font-family:Menlo,'DejaVu Sans Mono',consolas,'Courier New',monospace;margin:0px\"><span style=\"background-color: #008000; font-weight: bold\"> Success </span><span style=\"color: #008000; text-decoration-color: #008000; font-weight: bold\"> Found solution for compound=C54909!</span>\n",
       "</pre>\n"
      ],
      "text/plain": [
       "\u001b[1;7;32m Success \u001b[0m\u001b[1;32m Found solution for compound=C54909!\u001b[0m\n"
      ]
     },
     "metadata": {},
     "output_type": "display_data"
    },
    {
     "data": {
      "text/html": [
       "<pre style=\"white-space:pre;overflow-x:auto;line-height:normal;font-family:Menlo,'DejaVu Sans Mono',consolas,'Courier New',monospace;margin:0px\"><span style=\"background-color: #008000; font-weight: bold\"> Success </span><span style=\"color: #008000; text-decoration-color: #008000; font-weight: bold\"> Found solution for compound=C54910!</span>\n",
       "</pre>\n"
      ],
      "text/plain": [
       "\u001b[1;7;32m Success \u001b[0m\u001b[1;32m Found solution for compound=C54910!\u001b[0m\n"
      ]
     },
     "metadata": {},
     "output_type": "display_data"
    },
    {
     "data": {
      "text/html": [
       "<pre style=\"white-space:pre;overflow-x:auto;line-height:normal;font-family:Menlo,'DejaVu Sans Mono',consolas,'Courier New',monospace;margin:0px\"><span style=\"background-color: #008000; font-weight: bold\"> Success </span><span style=\"color: #008000; text-decoration-color: #008000; font-weight: bold\"> Found solution for compound=C54919!</span>\n",
       "</pre>\n"
      ],
      "text/plain": [
       "\u001b[1;7;32m Success \u001b[0m\u001b[1;32m Found solution for compound=C54919!\u001b[0m\n"
      ]
     },
     "metadata": {},
     "output_type": "display_data"
    },
    {
     "data": {
      "text/html": [
       "<pre style=\"white-space:pre;overflow-x:auto;line-height:normal;font-family:Menlo,'DejaVu Sans Mono',consolas,'Courier New',monospace;margin:0px\"><span style=\"background-color: #008000; font-weight: bold\"> Success </span><span style=\"color: #008000; text-decoration-color: #008000; font-weight: bold\"> Found solution for compound=C55068!</span>\n",
       "</pre>\n"
      ],
      "text/plain": [
       "\u001b[1;7;32m Success \u001b[0m\u001b[1;32m Found solution for compound=C55068!\u001b[0m\n"
      ]
     },
     "metadata": {},
     "output_type": "display_data"
    },
    {
     "data": {
      "text/html": [
       "<pre style=\"white-space:pre;overflow-x:auto;line-height:normal;font-family:Menlo,'DejaVu Sans Mono',consolas,'Courier New',monospace;margin:0px\"></pre>\n"
      ],
      "text/plain": []
     },
     "metadata": {},
     "output_type": "display_data"
    },
    {
     "data": {
      "text/html": [
       "<pre style=\"white-space:pre;overflow-x:auto;line-height:normal;font-family:Menlo,'DejaVu Sans Mono',consolas,'Courier New',monospace;margin:0px\">Solving recipe combinations<span style=\"color: #808000; text-decoration-color: #808000\">...</span>\n",
       "</pre>\n"
      ],
      "text/plain": [
       "Solving recipe combinations\u001b[33m...\u001b[0m\n"
      ]
     },
     "metadata": {},
     "output_type": "display_data"
    },
    {
     "data": {
      "text/html": [
       "<pre style=\"white-space:pre;overflow-x:auto;line-height:normal;font-family:Menlo,'DejaVu Sans Mono',consolas,'Courier New',monospace;margin:0px\">\n",
       "</pre>\n"
      ],
      "text/plain": [
       "\n"
      ]
     },
     "metadata": {},
     "output_type": "display_data"
    },
    {
     "data": {
      "application/vnd.jupyter.widget-view+json": {
       "model_id": "be68fd10ace749bd970e9bf992c06b93",
       "version_major": 2,
       "version_minor": 0
      },
      "text/plain": [
       "Output()"
      ]
     },
     "metadata": {},
     "output_type": "display_data"
    },
    {
     "data": {
      "text/html": [
       "<pre style=\"white-space:pre;overflow-x:auto;line-height:normal;font-family:Menlo,'DejaVu Sans Mono',consolas,'Courier New',monospace;margin:0px\"></pre>\n"
      ],
      "text/plain": []
     },
     "metadata": {},
     "output_type": "display_data"
    },
    {
     "data": {
      "text/html": [
       "<pre style=\"white-space:pre;overflow-x:auto;line-height:normal;font-family:Menlo,'DejaVu Sans Mono',consolas,'Courier New',monospace;margin:0px\"><span style=\"color: #808080; text-decoration-color: #808080\">DEBUG: Calculating prices...</span>\n",
       "</pre>\n"
      ],
      "text/plain": [
       "\u001b[90mDEBUG: Calculating prices...\u001b[0m\n"
      ]
     },
     "metadata": {},
     "output_type": "display_data"
    },
    {
     "data": {
      "text/html": [
       "<pre style=\"white-space:pre;overflow-x:auto;line-height:normal;font-family:Menlo,'DejaVu Sans Mono',consolas,'Courier New',monospace;margin:0px\">Picking cheapest from <span style=\"color: #008080; text-decoration-color: #008080; font-weight: bold\">1</span> options\n",
       "</pre>\n"
      ],
      "text/plain": [
       "Picking cheapest from \u001b[1;36m1\u001b[0m options\n"
      ]
     },
     "metadata": {},
     "output_type": "display_data"
    }
   ],
   "source": [
    "big_recipe = hippo.Recipe.from_compounds(\n",
    "    products, \n",
    "    quoted_only=True, \n",
    "    pick_cheapest=True, supplier=\"Enamine\"\n",
    ")"
   ]
  },
  {
   "cell_type": "code",
   "execution_count": 21,
   "id": "f3228c27-a4be-4bff-a9e8-4f1bc2ab13b7",
   "metadata": {},
   "outputs": [
    {
     "data": {
      "text/plain": [
       "\u001b[1m\u001b[4mRecipe({Ingredient × 250} --> {Ingredient × 274} via {R × 274})\u001b[22m\u001b[24m"
      ]
     },
     "execution_count": 21,
     "metadata": {},
     "output_type": "execute_result"
    }
   ],
   "source": [
    "big_recipe"
   ]
  },
  {
   "cell_type": "code",
   "execution_count": 23,
   "id": "a342cc6a-8c62-478f-8d06-695e42801257",
   "metadata": {},
   "outputs": [
    {
     "data": {
      "text/html": [
       "<div>\n",
       "<style scoped>\n",
       "    .dataframe tbody tr th:only-of-type {\n",
       "        vertical-align: middle;\n",
       "    }\n",
       "\n",
       "    .dataframe tbody tr th {\n",
       "        vertical-align: top;\n",
       "    }\n",
       "\n",
       "    .dataframe thead th {\n",
       "        text-align: right;\n",
       "    }\n",
       "</style>\n",
       "<table border=\"1\" class=\"dataframe\">\n",
       "  <thead>\n",
       "    <tr style=\"text-align: right;\">\n",
       "      <th></th>\n",
       "      <th>compound_id</th>\n",
       "      <th>amount</th>\n",
       "      <th>quote_id</th>\n",
       "      <th>supplier</th>\n",
       "      <th>max_lead_time</th>\n",
       "      <th>quoted_amount</th>\n",
       "    </tr>\n",
       "  </thead>\n",
       "  <tbody>\n",
       "    <tr>\n",
       "      <th>0</th>\n",
       "      <td>18027</td>\n",
       "      <td>2.0</td>\n",
       "      <td>9121</td>\n",
       "      <td>Enamine</td>\n",
       "      <td>None</td>\n",
       "      <td>100.0</td>\n",
       "    </tr>\n",
       "    <tr>\n",
       "      <th>1</th>\n",
       "      <td>18083</td>\n",
       "      <td>3.0</td>\n",
       "      <td>8953</td>\n",
       "      <td>Enamine</td>\n",
       "      <td>None</td>\n",
       "      <td>100.0</td>\n",
       "    </tr>\n",
       "    <tr>\n",
       "      <th>2</th>\n",
       "      <td>51607</td>\n",
       "      <td>60.0</td>\n",
       "      <td>5677</td>\n",
       "      <td>Enamine</td>\n",
       "      <td>None</td>\n",
       "      <td>100.0</td>\n",
       "    </tr>\n",
       "    <tr>\n",
       "      <th>3</th>\n",
       "      <td>51611</td>\n",
       "      <td>1.0</td>\n",
       "      <td>9394</td>\n",
       "      <td>Enamine</td>\n",
       "      <td>None</td>\n",
       "      <td>50.0</td>\n",
       "    </tr>\n",
       "    <tr>\n",
       "      <th>4</th>\n",
       "      <td>21385</td>\n",
       "      <td>8.0</td>\n",
       "      <td>10274</td>\n",
       "      <td>Enamine</td>\n",
       "      <td>None</td>\n",
       "      <td>50.0</td>\n",
       "    </tr>\n",
       "    <tr>\n",
       "      <th>...</th>\n",
       "      <td>...</td>\n",
       "      <td>...</td>\n",
       "      <td>...</td>\n",
       "      <td>...</td>\n",
       "      <td>...</td>\n",
       "      <td>...</td>\n",
       "    </tr>\n",
       "    <tr>\n",
       "      <th>245</th>\n",
       "      <td>52124</td>\n",
       "      <td>1.0</td>\n",
       "      <td>8498</td>\n",
       "      <td>Enamine</td>\n",
       "      <td>None</td>\n",
       "      <td>100.0</td>\n",
       "    </tr>\n",
       "    <tr>\n",
       "      <th>246</th>\n",
       "      <td>53806</td>\n",
       "      <td>4.0</td>\n",
       "      <td>10513</td>\n",
       "      <td>Enamine</td>\n",
       "      <td>None</td>\n",
       "      <td>50.0</td>\n",
       "    </tr>\n",
       "    <tr>\n",
       "      <th>247</th>\n",
       "      <td>53873</td>\n",
       "      <td>1.0</td>\n",
       "      <td>6664</td>\n",
       "      <td>Enamine</td>\n",
       "      <td>None</td>\n",
       "      <td>100.0</td>\n",
       "    </tr>\n",
       "    <tr>\n",
       "      <th>248</th>\n",
       "      <td>53876</td>\n",
       "      <td>1.0</td>\n",
       "      <td>6349</td>\n",
       "      <td>Enamine</td>\n",
       "      <td>None</td>\n",
       "      <td>100.0</td>\n",
       "    </tr>\n",
       "    <tr>\n",
       "      <th>249</th>\n",
       "      <td>53879</td>\n",
       "      <td>1.0</td>\n",
       "      <td>5992</td>\n",
       "      <td>Enamine</td>\n",
       "      <td>None</td>\n",
       "      <td>100.0</td>\n",
       "    </tr>\n",
       "  </tbody>\n",
       "</table>\n",
       "<p>250 rows × 6 columns</p>\n",
       "</div>"
      ],
      "text/plain": [
       "    compound_id amount quote_id supplier max_lead_time quoted_amount\n",
       "0         18027    2.0     9121  Enamine          None         100.0\n",
       "1         18083    3.0     8953  Enamine          None         100.0\n",
       "2         51607   60.0     5677  Enamine          None         100.0\n",
       "3         51611    1.0     9394  Enamine          None          50.0\n",
       "4         21385    8.0    10274  Enamine          None          50.0\n",
       "..          ...    ...      ...      ...           ...           ...\n",
       "245       52124    1.0     8498  Enamine          None         100.0\n",
       "246       53806    4.0    10513  Enamine          None          50.0\n",
       "247       53873    1.0     6664  Enamine          None         100.0\n",
       "248       53876    1.0     6349  Enamine          None         100.0\n",
       "249       53879    1.0     5992  Enamine          None         100.0\n",
       "\n",
       "[250 rows x 6 columns]"
      ]
     },
     "execution_count": 23,
     "metadata": {},
     "output_type": "execute_result"
    }
   ],
   "source": [
    "big_recipe.reactants.df"
   ]
  },
  {
   "cell_type": "code",
   "execution_count": 24,
   "id": "743dfae3-8656-433b-b514-f068b000f385",
   "metadata": {},
   "outputs": [
    {
     "data": {
      "text/html": [
       "<pre style=\"white-space:pre;overflow-x:auto;line-height:normal;font-family:Menlo,'DejaVu Sans Mono',consolas,'Courier New',monospace;margin:0px\"><span style=\"background-color: #d7af00; font-weight: bold\"> DISK </span> Writing <span style=\"color: #d7af00; text-decoration-color: #d7af00\">3C_t3c_i1a_entire_recipe.json</span>...\n",
       "</pre>\n"
      ],
      "text/plain": [
       "\u001b[1;7;38;5;178m DISK \u001b[0m Writing \u001b[38;5;178m3C_t3c_i1a_entire_recipe.json\u001b[0m...\n"
      ]
     },
     "metadata": {},
     "output_type": "display_data"
    }
   ],
   "source": [
    "big_recipe.write_json(\"3C_t3c_i1a_entire_recipe.json\")"
   ]
  },
  {
   "cell_type": "code",
   "execution_count": 26,
   "id": "662c6f7e-c281-4dae-82a8-c39a20be91e7",
   "metadata": {},
   "outputs": [
    {
     "data": {
      "text/html": [
       "<pre style=\"white-space:pre;overflow-x:auto;line-height:normal;font-family:Menlo,'DejaVu Sans Mono',consolas,'Courier New',monospace;margin:0px\"><span style=\"color: #808080; text-decoration-color: #808080\">DEBUG: Querying database for routes</span>\n",
       "</pre>\n"
      ],
      "text/plain": [
       "\u001b[90mDEBUG: Querying database for routes\u001b[0m\n"
      ]
     },
     "metadata": {},
     "output_type": "display_data"
    },
    {
     "data": {
      "text/html": [
       "<pre style=\"white-space:pre;overflow-x:auto;line-height:normal;font-family:Menlo,'DejaVu Sans Mono',consolas,'Courier New',monospace;margin:0px\"><span style=\"color: #808080; text-decoration-color: #808080\">DEBUG: Assembling route dictionary</span>\n",
       "</pre>\n"
      ],
      "text/plain": [
       "\u001b[90mDEBUG: Assembling route dictionary\u001b[0m\n"
      ]
     },
     "metadata": {},
     "output_type": "display_data"
    },
    {
     "data": {
      "text/html": [
       "<pre style=\"white-space:pre;overflow-x:auto;line-height:normal;font-family:Menlo,'DejaVu Sans Mono',consolas,'Courier New',monospace;margin:0px\"><span style=\"color: #808080; text-decoration-color: #808080\">DEBUG: Checking availability</span>\n",
       "</pre>\n"
      ],
      "text/plain": [
       "\u001b[90mDEBUG: Checking availability\u001b[0m\n"
      ]
     },
     "metadata": {},
     "output_type": "display_data"
    },
    {
     "data": {
      "application/vnd.jupyter.widget-view+json": {
       "model_id": "a4c21c59151646b6a47af9cd38307f11",
       "version_major": 2,
       "version_minor": 0
      },
      "text/plain": [
       "Output()"
      ]
     },
     "metadata": {},
     "output_type": "display_data"
    },
    {
     "data": {
      "text/html": [
       "<pre style=\"white-space:pre;overflow-x:auto;line-height:normal;font-family:Menlo,'DejaVu Sans Mono',consolas,'Courier New',monospace;margin:0px\"></pre>\n"
      ],
      "text/plain": []
     },
     "metadata": {},
     "output_type": "display_data"
    },
    {
     "data": {
      "text/html": [
       "<pre style=\"white-space:pre;overflow-x:auto;line-height:normal;font-family:Menlo,'DejaVu Sans Mono',consolas,'Courier New',monospace;margin:0px\"><span style=\"background-color: #d7af00; font-weight: bold\"> DISK </span> Writing <span style=\"color: #d7af00; text-decoration-color: #d7af00\">/opt/xchem-fragalysis-2/maxwin/3C_FFF/hippo/3C_t3c_i1a_entire_recipe_CAR_1steps.csv</span>...\n",
       "</pre>\n"
      ],
      "text/plain": [
       "\u001b[1;7;38;5;178m DISK \u001b[0m Writing \u001b[38;5;178m/opt/xchem-fragalysis-2/maxwin/3C_FFF/hippo/3C_t3c_i1a_entire_recipe_CAR_1steps.csv\u001b[0m...\n"
      ]
     },
     "metadata": {},
     "output_type": "display_data"
    },
    {
     "data": {
      "text/html": [
       "<pre style=\"white-space:pre;overflow-x:auto;line-height:normal;font-family:Menlo,'DejaVu Sans Mono',consolas,'Courier New',monospace;margin:0px\"><span style=\"background-color: #d7af00; font-weight: bold\"> DISK </span> Writing <span style=\"color: #d7af00; text-decoration-color: #d7af00\">/opt/xchem-fragalysis-2/maxwin/3C_FFF/hippo/3C_t3c_i1a_entire_recipe_CAR.csv</span>...\n",
       "</pre>\n"
      ],
      "text/plain": [
       "\u001b[1;7;38;5;178m DISK \u001b[0m Writing \u001b[38;5;178m/opt/xchem-fragalysis-2/maxwin/3C_FFF/hippo/3C_t3c_i1a_entire_recipe_CAR.csv\u001b[0m...\n"
      ]
     },
     "metadata": {},
     "output_type": "display_data"
    },
    {
     "data": {
      "text/html": [
       "<div>\n",
       "<style scoped>\n",
       "    .dataframe tbody tr th:only-of-type {\n",
       "        vertical-align: middle;\n",
       "    }\n",
       "\n",
       "    .dataframe tbody tr th {\n",
       "        vertical-align: top;\n",
       "    }\n",
       "\n",
       "    .dataframe thead th {\n",
       "        text-align: right;\n",
       "    }\n",
       "</style>\n",
       "<table border=\"1\" class=\"dataframe\">\n",
       "  <thead>\n",
       "    <tr style=\"text-align: right;\">\n",
       "      <th></th>\n",
       "      <th>target-names</th>\n",
       "      <th>no-steps</th>\n",
       "      <th>concentration-required-mM</th>\n",
       "      <th>amount-required-uL</th>\n",
       "      <th>batch-tag</th>\n",
       "      <th>reactant-1-1</th>\n",
       "      <th>reactant-2-1</th>\n",
       "      <th>reaction-product-smiles-1</th>\n",
       "      <th>reaction-name-1</th>\n",
       "      <th>reaction-recipe-1</th>\n",
       "      <th>reaction-groupby-column-1</th>\n",
       "    </tr>\n",
       "  </thead>\n",
       "  <tbody>\n",
       "    <tr>\n",
       "      <th>0</th>\n",
       "      <td>C2022</td>\n",
       "      <td>1</td>\n",
       "      <td>None</td>\n",
       "      <td>None</td>\n",
       "      <td>None</td>\n",
       "      <td>COc1cc(C=O)cc2c1OCO2</td>\n",
       "      <td>CC(N)Cc1ccno1</td>\n",
       "      <td>COc1cc(CNC(C)Cc2ccno2)cc2c1OCO2</td>\n",
       "      <td>Reductive_amination</td>\n",
       "      <td>None</td>\n",
       "      <td>None</td>\n",
       "    </tr>\n",
       "    <tr>\n",
       "      <th>1</th>\n",
       "      <td>C2134</td>\n",
       "      <td>1</td>\n",
       "      <td>None</td>\n",
       "      <td>None</td>\n",
       "      <td>None</td>\n",
       "      <td>c1cc2c(cc1COCC1CO1)OCO2</td>\n",
       "      <td>NCc1ccon1</td>\n",
       "      <td>OC(CNCc1ccon1)COCc1ccc2c(c1)OCO2</td>\n",
       "      <td>Epoxide_+_amine_coupling</td>\n",
       "      <td>None</td>\n",
       "      <td>None</td>\n",
       "    </tr>\n",
       "    <tr>\n",
       "      <th>2</th>\n",
       "      <td>C2845</td>\n",
       "      <td>1</td>\n",
       "      <td>None</td>\n",
       "      <td>None</td>\n",
       "      <td>None</td>\n",
       "      <td>O=C(O)C1CCN(c2cc(=O)[nH]cn2)CC1</td>\n",
       "      <td>NCCc1ccno1</td>\n",
       "      <td>O=C(NCCc1ccno1)C1CCN(c2cc(=O)[nH]cn2)CC1</td>\n",
       "      <td>Amidation</td>\n",
       "      <td>None</td>\n",
       "      <td>None</td>\n",
       "    </tr>\n",
       "    <tr>\n",
       "      <th>3</th>\n",
       "      <td>C3233</td>\n",
       "      <td>1</td>\n",
       "      <td>None</td>\n",
       "      <td>None</td>\n",
       "      <td>None</td>\n",
       "      <td>O=C(O)c1cc(CN2CCCCC2)on1</td>\n",
       "      <td>CS(=O)(=O)CCCCCN</td>\n",
       "      <td>CS(=O)(=O)CCCCCNC(=O)c1cc(CN2CCCCC2)on1</td>\n",
       "      <td>Amidation</td>\n",
       "      <td>None</td>\n",
       "      <td>None</td>\n",
       "    </tr>\n",
       "    <tr>\n",
       "      <th>4</th>\n",
       "      <td>C3254</td>\n",
       "      <td>1</td>\n",
       "      <td>None</td>\n",
       "      <td>None</td>\n",
       "      <td>None</td>\n",
       "      <td>O=C(O)c1cc(CN2CCCCC2)on1</td>\n",
       "      <td>COCCN(C)CCCN</td>\n",
       "      <td>COCCN(C)CCCNC(=O)c1cc(CN2CCCCC2)on1</td>\n",
       "      <td>Amidation</td>\n",
       "      <td>None</td>\n",
       "      <td>None</td>\n",
       "    </tr>\n",
       "    <tr>\n",
       "      <th>...</th>\n",
       "      <td>...</td>\n",
       "      <td>...</td>\n",
       "      <td>...</td>\n",
       "      <td>...</td>\n",
       "      <td>...</td>\n",
       "      <td>...</td>\n",
       "      <td>...</td>\n",
       "      <td>...</td>\n",
       "      <td>...</td>\n",
       "      <td>...</td>\n",
       "      <td>...</td>\n",
       "    </tr>\n",
       "    <tr>\n",
       "      <th>269</th>\n",
       "      <td>C54894</td>\n",
       "      <td>1</td>\n",
       "      <td>None</td>\n",
       "      <td>None</td>\n",
       "      <td>None</td>\n",
       "      <td>Cn1cc(C#N)c2ccc(C(=O)O)cc21</td>\n",
       "      <td>CC(CO)N1CCCCC1</td>\n",
       "      <td>CC(COC(=O)c1ccc2c(C#N)cn(C)c2c1)N1CCCCC1</td>\n",
       "      <td>Steglich_esterification</td>\n",
       "      <td>None</td>\n",
       "      <td>None</td>\n",
       "    </tr>\n",
       "    <tr>\n",
       "      <th>270</th>\n",
       "      <td>C54909</td>\n",
       "      <td>1</td>\n",
       "      <td>None</td>\n",
       "      <td>None</td>\n",
       "      <td>None</td>\n",
       "      <td>Cn1cc(C=O)c2ccc(C(=O)O)cc21</td>\n",
       "      <td>CC(CO)N1CCCCC1</td>\n",
       "      <td>CC(COC(=O)c1ccc2c(C=O)cn(C)c2c1)N1CCCCC1</td>\n",
       "      <td>Steglich_esterification</td>\n",
       "      <td>None</td>\n",
       "      <td>None</td>\n",
       "    </tr>\n",
       "    <tr>\n",
       "      <th>271</th>\n",
       "      <td>C54910</td>\n",
       "      <td>1</td>\n",
       "      <td>None</td>\n",
       "      <td>None</td>\n",
       "      <td>None</td>\n",
       "      <td>Cn1cc(C=O)c2ccc(C(=O)O)cc21</td>\n",
       "      <td>CC1C(O)C2CCN1CC2</td>\n",
       "      <td>CC1C(OC(=O)c2ccc3c(C=O)cn(C)c3c2)C2CCN1CC2</td>\n",
       "      <td>Steglich_esterification</td>\n",
       "      <td>None</td>\n",
       "      <td>None</td>\n",
       "    </tr>\n",
       "    <tr>\n",
       "      <th>272</th>\n",
       "      <td>C54919</td>\n",
       "      <td>1</td>\n",
       "      <td>None</td>\n",
       "      <td>None</td>\n",
       "      <td>None</td>\n",
       "      <td>Cn1cc(C#N)c2ccc(C(=O)O)cc21</td>\n",
       "      <td>CC1C(O)C2CCN1CC2</td>\n",
       "      <td>CC1C(OC(=O)c2ccc3c(C#N)cn(C)c3c2)C2CCN1CC2</td>\n",
       "      <td>Steglich_esterification</td>\n",
       "      <td>None</td>\n",
       "      <td>None</td>\n",
       "    </tr>\n",
       "    <tr>\n",
       "      <th>273</th>\n",
       "      <td>C55068</td>\n",
       "      <td>1</td>\n",
       "      <td>None</td>\n",
       "      <td>None</td>\n",
       "      <td>None</td>\n",
       "      <td>CC(C)n1ccc2ccc(C(=O)O)cc21</td>\n",
       "      <td>CC(CO)N1CCCCC1</td>\n",
       "      <td>CC(COC(=O)c1ccc2ccn(C(C)C)c2c1)N1CCCCC1</td>\n",
       "      <td>Steglich_esterification</td>\n",
       "      <td>None</td>\n",
       "      <td>None</td>\n",
       "    </tr>\n",
       "  </tbody>\n",
       "</table>\n",
       "<p>274 rows × 11 columns</p>\n",
       "</div>"
      ],
      "text/plain": [
       "    target-names  no-steps concentration-required-mM amount-required-uL  \\\n",
       "0          C2022         1                      None               None   \n",
       "1          C2134         1                      None               None   \n",
       "2          C2845         1                      None               None   \n",
       "3          C3233         1                      None               None   \n",
       "4          C3254         1                      None               None   \n",
       "..           ...       ...                       ...                ...   \n",
       "269       C54894         1                      None               None   \n",
       "270       C54909         1                      None               None   \n",
       "271       C54910         1                      None               None   \n",
       "272       C54919         1                      None               None   \n",
       "273       C55068         1                      None               None   \n",
       "\n",
       "    batch-tag                     reactant-1-1      reactant-2-1  \\\n",
       "0        None             COc1cc(C=O)cc2c1OCO2     CC(N)Cc1ccno1   \n",
       "1        None          c1cc2c(cc1COCC1CO1)OCO2         NCc1ccon1   \n",
       "2        None  O=C(O)C1CCN(c2cc(=O)[nH]cn2)CC1        NCCc1ccno1   \n",
       "3        None         O=C(O)c1cc(CN2CCCCC2)on1  CS(=O)(=O)CCCCCN   \n",
       "4        None         O=C(O)c1cc(CN2CCCCC2)on1      COCCN(C)CCCN   \n",
       "..        ...                              ...               ...   \n",
       "269      None      Cn1cc(C#N)c2ccc(C(=O)O)cc21    CC(CO)N1CCCCC1   \n",
       "270      None      Cn1cc(C=O)c2ccc(C(=O)O)cc21    CC(CO)N1CCCCC1   \n",
       "271      None      Cn1cc(C=O)c2ccc(C(=O)O)cc21  CC1C(O)C2CCN1CC2   \n",
       "272      None      Cn1cc(C#N)c2ccc(C(=O)O)cc21  CC1C(O)C2CCN1CC2   \n",
       "273      None       CC(C)n1ccc2ccc(C(=O)O)cc21    CC(CO)N1CCCCC1   \n",
       "\n",
       "                      reaction-product-smiles-1           reaction-name-1  \\\n",
       "0               COc1cc(CNC(C)Cc2ccno2)cc2c1OCO2       Reductive_amination   \n",
       "1              OC(CNCc1ccon1)COCc1ccc2c(c1)OCO2  Epoxide_+_amine_coupling   \n",
       "2      O=C(NCCc1ccno1)C1CCN(c2cc(=O)[nH]cn2)CC1                 Amidation   \n",
       "3       CS(=O)(=O)CCCCCNC(=O)c1cc(CN2CCCCC2)on1                 Amidation   \n",
       "4           COCCN(C)CCCNC(=O)c1cc(CN2CCCCC2)on1                 Amidation   \n",
       "..                                          ...                       ...   \n",
       "269    CC(COC(=O)c1ccc2c(C#N)cn(C)c2c1)N1CCCCC1   Steglich_esterification   \n",
       "270    CC(COC(=O)c1ccc2c(C=O)cn(C)c2c1)N1CCCCC1   Steglich_esterification   \n",
       "271  CC1C(OC(=O)c2ccc3c(C=O)cn(C)c3c2)C2CCN1CC2   Steglich_esterification   \n",
       "272  CC1C(OC(=O)c2ccc3c(C#N)cn(C)c3c2)C2CCN1CC2   Steglich_esterification   \n",
       "273     CC(COC(=O)c1ccc2ccn(C(C)C)c2c1)N1CCCCC1   Steglich_esterification   \n",
       "\n",
       "    reaction-recipe-1 reaction-groupby-column-1  \n",
       "0                None                      None  \n",
       "1                None                      None  \n",
       "2                None                      None  \n",
       "3                None                      None  \n",
       "4                None                      None  \n",
       "..                ...                       ...  \n",
       "269              None                      None  \n",
       "270              None                      None  \n",
       "271              None                      None  \n",
       "272              None                      None  \n",
       "273              None                      None  \n",
       "\n",
       "[274 rows x 11 columns]"
      ]
     },
     "execution_count": 26,
     "metadata": {},
     "output_type": "execute_result"
    }
   ],
   "source": [
    "big_recipe.write_CAR_csv(\"3C_t3c_i1a_entire_recipe_CAR.csv\")"
   ]
  },
  {
   "cell_type": "code",
   "execution_count": 27,
   "id": "e375d96e-03b4-435f-98bc-efbb0241ba1f",
   "metadata": {},
   "outputs": [
    {
     "data": {
      "text/html": [
       "<pre style=\"white-space:pre;overflow-x:auto;line-height:normal;font-family:Menlo,'DejaVu Sans Mono',consolas,'Courier New',monospace;margin:0px\"><span style=\"color: #808080; text-decoration-color: #808080\">DEBUG: Querying database for routes</span>\n",
       "</pre>\n"
      ],
      "text/plain": [
       "\u001b[90mDEBUG: Querying database for routes\u001b[0m\n"
      ]
     },
     "metadata": {},
     "output_type": "display_data"
    },
    {
     "data": {
      "text/html": [
       "<pre style=\"white-space:pre;overflow-x:auto;line-height:normal;font-family:Menlo,'DejaVu Sans Mono',consolas,'Courier New',monospace;margin:0px\"><span style=\"color: #808080; text-decoration-color: #808080\">DEBUG: Assembling route dictionary</span>\n",
       "</pre>\n"
      ],
      "text/plain": [
       "\u001b[90mDEBUG: Assembling route dictionary\u001b[0m\n"
      ]
     },
     "metadata": {},
     "output_type": "display_data"
    },
    {
     "data": {
      "text/html": [
       "<pre style=\"white-space:pre;overflow-x:auto;line-height:normal;font-family:Menlo,'DejaVu Sans Mono',consolas,'Courier New',monospace;margin:0px\"><span style=\"color: #808080; text-decoration-color: #808080\">DEBUG: Checking availability</span>\n",
       "</pre>\n"
      ],
      "text/plain": [
       "\u001b[90mDEBUG: Checking availability\u001b[0m\n"
      ]
     },
     "metadata": {},
     "output_type": "display_data"
    },
    {
     "data": {
      "application/vnd.jupyter.widget-view+json": {
       "model_id": "79aa555653a34dcfa6d821db4895b1bb",
       "version_major": 2,
       "version_minor": 0
      },
      "text/plain": [
       "Output()"
      ]
     },
     "metadata": {},
     "output_type": "display_data"
    },
    {
     "data": {
      "text/html": [
       "<pre style=\"white-space:pre;overflow-x:auto;line-height:normal;font-family:Menlo,'DejaVu Sans Mono',consolas,'Courier New',monospace;margin:0px\"></pre>\n"
      ],
      "text/plain": []
     },
     "metadata": {},
     "output_type": "display_data"
    },
    {
     "data": {
      "application/vnd.jupyter.widget-view+json": {
       "model_id": "c7306263c748466d8137149e699d2fc3",
       "version_major": 2,
       "version_minor": 0
      },
      "text/plain": [
       "Output()"
      ]
     },
     "metadata": {},
     "output_type": "display_data"
    },
    {
     "data": {
      "text/html": [
       "<pre style=\"white-space:pre;overflow-x:auto;line-height:normal;font-family:Menlo,'DejaVu Sans Mono',consolas,'Courier New',monospace;margin:0px\"></pre>\n"
      ],
      "text/plain": []
     },
     "metadata": {},
     "output_type": "display_data"
    },
    {
     "data": {
      "application/vnd.jupyter.widget-view+json": {
       "model_id": "353ff7ce5b8c4f94b6a53022a36e4421",
       "version_major": 2,
       "version_minor": 0
      },
      "text/plain": [
       "Output()"
      ]
     },
     "metadata": {},
     "output_type": "display_data"
    },
    {
     "data": {
      "text/html": [
       "<pre style=\"white-space:pre;overflow-x:auto;line-height:normal;font-family:Menlo,'DejaVu Sans Mono',consolas,'Courier New',monospace;margin:0px\"></pre>\n"
      ],
      "text/plain": []
     },
     "metadata": {},
     "output_type": "display_data"
    },
    {
     "data": {
      "text/html": [
       "<pre style=\"white-space:pre;overflow-x:auto;line-height:normal;font-family:Menlo,'DejaVu Sans Mono',consolas,'Courier New',monospace;margin:0px\"><span style=\"background-color: #d7af00; font-weight: bold\"> DISK </span> Writing <span style=\"color: #d7af00; text-decoration-color: #d7af00\">3C_t3c_i1a_entire_recipe_products.csv</span>...\n",
       "</pre>\n"
      ],
      "text/plain": [
       "\u001b[1;7;38;5;178m DISK \u001b[0m Writing \u001b[38;5;178m3C_t3c_i1a_entire_recipe_products.csv\u001b[0m...\n"
      ]
     },
     "metadata": {},
     "output_type": "display_data"
    }
   ],
   "source": [
    "big_recipe.write_product_csv(\"3C_t3c_i1a_entire_recipe_products.csv\")"
   ]
  },
  {
   "cell_type": "code",
   "execution_count": null,
   "id": "a4bd533b-7d8b-4b4a-8c99-31eea29ff2fb",
   "metadata": {},
   "outputs": [
    {
     "data": {
      "text/html": [
       "<pre style=\"white-space:pre;overflow-x:auto;line-height:normal;font-family:Menlo,'DejaVu Sans Mono',consolas,'Courier New',monospace;margin:0px\"><span style=\"color: #808080; text-decoration-color: #808080\">DEBUG: Querying database for routes</span>\n",
       "</pre>\n"
      ],
      "text/plain": [
       "\u001b[90mDEBUG: Querying database for routes\u001b[0m\n"
      ]
     },
     "metadata": {},
     "output_type": "display_data"
    },
    {
     "data": {
      "text/html": [
       "<pre style=\"white-space:pre;overflow-x:auto;line-height:normal;font-family:Menlo,'DejaVu Sans Mono',consolas,'Courier New',monospace;margin:0px\"><span style=\"color: #808080; text-decoration-color: #808080\">DEBUG: Assembling route dictionary</span>\n",
       "</pre>\n"
      ],
      "text/plain": [
       "\u001b[90mDEBUG: Assembling route dictionary\u001b[0m\n"
      ]
     },
     "metadata": {},
     "output_type": "display_data"
    },
    {
     "data": {
      "text/html": [
       "<pre style=\"white-space:pre;overflow-x:auto;line-height:normal;font-family:Menlo,'DejaVu Sans Mono',consolas,'Courier New',monospace;margin:0px\"><span style=\"color: #808080; text-decoration-color: #808080\">DEBUG: Checking availability</span>\n",
       "</pre>\n"
      ],
      "text/plain": [
       "\u001b[90mDEBUG: Checking availability\u001b[0m\n"
      ]
     },
     "metadata": {},
     "output_type": "display_data"
    },
    {
     "data": {
      "application/vnd.jupyter.widget-view+json": {
       "model_id": "c9e8663781244703a7b6c7e0cef710e8",
       "version_major": 2,
       "version_minor": 0
      },
      "text/plain": [
       "Output()"
      ]
     },
     "metadata": {},
     "output_type": "display_data"
    },
    {
     "data": {
      "text/html": [
       "<pre style=\"white-space:pre;overflow-x:auto;line-height:normal;font-family:Menlo,'DejaVu Sans Mono',consolas,'Courier New',monospace;margin:0px\"></pre>\n"
      ],
      "text/plain": []
     },
     "metadata": {},
     "output_type": "display_data"
    },
    {
     "data": {
      "application/vnd.jupyter.widget-view+json": {
       "model_id": "23678592b1784d39a30bc0cccf3d13f3",
       "version_major": 2,
       "version_minor": 0
      },
      "text/plain": [
       "Output()"
      ]
     },
     "metadata": {},
     "output_type": "display_data"
    }
   ],
   "source": [
    "big_recipe.write_reactant_csv(\"3C_t3c_i1a_entire_recipe_reactants.csv\")"
   ]
  },
  {
   "cell_type": "code",
   "execution_count": 32,
   "id": "3babf517-e835-4a7e-90b6-31c9805441ff",
   "metadata": {},
   "outputs": [
    {
     "data": {
      "application/vnd.jupyter.widget-view+json": {
       "model_id": "949f902d6e234881a5ea7820aee44369",
       "version_major": 2,
       "version_minor": 0
      },
      "text/plain": [
       "Output()"
      ]
     },
     "metadata": {},
     "output_type": "display_data"
    },
    {
     "data": {
      "text/html": [
       "<pre style=\"white-space:pre;overflow-x:auto;line-height:normal;font-family:Menlo,'DejaVu Sans Mono',consolas,'Courier New',monospace;margin:0px\"></pre>\n"
      ],
      "text/plain": []
     },
     "metadata": {},
     "output_type": "display_data"
    },
    {
     "data": {
      "application/vnd.plotly.v1+json": {
       "config": {
        "plotlyServerURL": "https://plot.ly"
       },
       "data": [
        {
         "customdata": [
          [
           2022,
           "COc1cc(CNC(C)Cc2ccno2)cc2c1OCO2",
           "ZBTYMXBQBXMSMR-UHFFFAOYSA-N",
           null,
           "2022",
           "base"
          ]
         ],
         "hovertemplate": "cluster=%{customdata[4]}<br>type=%{customdata[5]}<br>PC1=%{x}<br>PC2=%{y}<br>id=%{customdata[0]}<br>smiles=%{customdata[1]}<br>inchikey=%{customdata[2]}<br>bases=%{customdata[3]}<extra></extra>",
         "legendgroup": "2022, base",
         "marker": {
          "color": "#636efa",
          "symbol": "circle"
         },
         "mode": "markers",
         "name": "2022, base",
         "orientation": "v",
         "showlegend": true,
         "type": "scatter",
         "x": [
          1.1693782806396484
         ],
         "xaxis": "x",
         "y": [
          -0.1341717392206192
         ],
         "yaxis": "y"
        },
        {
         "customdata": [
          [
           18171,
           "COc1cc(C(O)NC(C)Cc2ccno2)cc2c1OCO2",
           "IVBFZPWESONDIQ-UHFFFAOYSA-N",
           [
            2022
           ],
           "2022",
           "elaboration"
          ],
          [
           18331,
           "COc1cc(CNC(Cc2ccno2)C(=O)O)cc2c1OCO2",
           "TYUGKPCIZQEPKZ-UHFFFAOYSA-N",
           [
            2022
           ],
           "2022",
           "elaboration"
          ],
          [
           18557,
           "COc1cc(C(O)NC(Cc2ccno2)C(=O)O)cc2c1OCO2",
           "PVZIWXKFZYMVMM-UHFFFAOYSA-N",
           [
            2022
           ],
           "2022",
           "elaboration"
          ]
         ],
         "hovertemplate": "cluster=%{customdata[4]}<br>type=%{customdata[5]}<br>PC1=%{x}<br>PC2=%{y}<br>id=%{customdata[0]}<br>smiles=%{customdata[1]}<br>inchikey=%{customdata[2]}<br>bases=%{customdata[3]}<extra></extra>",
         "legendgroup": "2022, elaboration",
         "marker": {
          "color": "#636efa",
          "symbol": "diamond"
         },
         "mode": "markers",
         "name": "2022, elaboration",
         "orientation": "v",
         "showlegend": true,
         "type": "scatter",
         "x": [
          1.560657024383545,
          1.202006459236145,
          1.6056243181228638
         ],
         "xaxis": "x",
         "y": [
          -0.30036959052085876,
          -0.09706391394138336,
          -0.24223317205905914
         ],
         "yaxis": "y"
        },
        {
         "customdata": [
          [
           2134,
           "OC(CNCc1ccon1)COCc1ccc2c(c1)OCO2",
           "HJCSXYYFDUKRNW-UHFFFAOYSA-N",
           null,
           "2134",
           "base"
          ]
         ],
         "hovertemplate": "cluster=%{customdata[4]}<br>type=%{customdata[5]}<br>PC1=%{x}<br>PC2=%{y}<br>id=%{customdata[0]}<br>smiles=%{customdata[1]}<br>inchikey=%{customdata[2]}<br>bases=%{customdata[3]}<extra></extra>",
         "legendgroup": "2134, base",
         "marker": {
          "color": "#EF553B",
          "symbol": "circle"
         },
         "mode": "markers",
         "name": "2134, base",
         "orientation": "v",
         "showlegend": true,
         "type": "scatter",
         "x": [
          3.335728168487549
         ],
         "xaxis": "x",
         "y": [
          0.4066959321498871
         ],
         "yaxis": "y"
        },
        {
         "customdata": [
          [
           52128,
           "OC(CNCc1cc(Br)on1)COCc1ccc2c(c1)OCO2",
           "GFWFAFQXARBMKL-UHFFFAOYSA-N",
           [
            2134
           ],
           "2134",
           "elaboration"
          ],
          [
           52131,
           "OC(CNCc1nocc1Cl)COCc1ccc2c(c1)OCO2",
           "YYVICCQJLNSPQK-UHFFFAOYSA-N",
           [
            2134
           ],
           "2134",
           "elaboration"
          ],
          [
           52132,
           "OC(CNCc1nocc1Br)COCc1ccc2c(c1)OCO2",
           "UKFIJTXHPCHVDG-UHFFFAOYSA-N",
           [
            2134
           ],
           "2134",
           "elaboration"
          ],
          [
           52133,
           "CC(NCC(O)COCc1ccc2c(c1)OCO2)c1ccon1",
           "YXMDQVLZRLJCAL-UHFFFAOYSA-N",
           [
            2134
           ],
           "2134",
           "elaboration"
          ],
          [
           52137,
           "Cc1cc(CNCC(O)COCc2ccc3c(c2)OCO3)no1",
           "OSCQBHCTNFVIHM-UHFFFAOYSA-N",
           [
            2134
           ],
           "2134",
           "elaboration"
          ],
          [
           52140,
           "O=C(NCC(O)COCc1ccc2c(c1)OCO2)c1ccon1",
           "YPEKLCQXTRQGEO-UHFFFAOYSA-N",
           [
            2134
           ],
           "2134",
           "elaboration"
          ],
          [
           52141,
           "N=C(NCC(O)COCc1ccc2c(c1)OCO2)c1ccon1",
           "OOQXBBZICHWXDU-UHFFFAOYSA-N",
           [
            2134
           ],
           "2134",
           "elaboration"
          ],
          [
           52142,
           "Cc1conc1CNCC(O)COCc1ccc2c(c1)OCO2",
           "GNCDHLXVDGYKNW-UHFFFAOYSA-N",
           [
            2134
           ],
           "2134",
           "elaboration"
          ],
          [
           52170,
           "Cc1cc(C(=O)NCC(O)COCc2ccc3c(c2)OCO3)no1",
           "NASKTKQHQZNUMF-UHFFFAOYSA-N",
           [
            2134
           ],
           "2134",
           "elaboration"
          ],
          [
           52171,
           "CCc1cc(CNCC(O)COCc2ccc3c(c2)OCO3)no1",
           "ZGQDKDSTWVTGIX-UHFFFAOYSA-N",
           [
            2134
           ],
           "2134",
           "elaboration"
          ],
          [
           52173,
           "Cc1cc(C(C)NCC(O)COCc2ccc3c(c2)OCO3)no1",
           "ZONCKRDSKJHXML-UHFFFAOYSA-N",
           [
            2134
           ],
           "2134",
           "elaboration"
          ],
          [
           52179,
           "NN(CC(O)COCc1ccc2c(c1)OCO2)C(=O)c1ccon1",
           "FWCHWYKZNVZJSQ-UHFFFAOYSA-N",
           [
            2134
           ],
           "2134",
           "elaboration"
          ],
          [
           52184,
           "Cc1cc(C(=S)NCC(O)COCc2ccc3c(c2)OCO3)no1",
           "JQUMRGRIZXEWQJ-UHFFFAOYSA-N",
           [
            2134
           ],
           "2134",
           "elaboration"
          ],
          [
           52191,
           "Cc1onc(CNCC(O)COCc2ccc3c(c2)OCO3)c1Br",
           "NGUWBBCBHBPXGR-UHFFFAOYSA-N",
           [
            2134
           ],
           "2134",
           "elaboration"
          ],
          [
           52192,
           "CC(C)(NCC(O)COCc1ccc2c(c1)OCO2)c1ccon1",
           "ROGIYJWVQDNUHM-UHFFFAOYSA-N",
           [
            2134
           ],
           "2134",
           "elaboration"
          ],
          [
           52204,
           "CCc1conc1CNCC(O)COCc1ccc2c(c1)OCO2",
           "XBHAIJHUGXLEAJ-UHFFFAOYSA-N",
           [
            2134
           ],
           "2134",
           "elaboration"
          ],
          [
           52206,
           "OCc1cc(CNCC(O)COCc2ccc3c(c2)OCO3)no1",
           "NIIZYAOPGZWXFG-UHFFFAOYSA-N",
           [
            2134
           ],
           "2134",
           "elaboration"
          ],
          [
           52327,
           "OC(CNCc1cc(C2CC2)on1)COCc1ccc2c(c1)OCO2",
           "FKKIYKBSFHZELP-UHFFFAOYSA-N",
           [
            2134
           ],
           "2134",
           "elaboration"
          ],
          [
           52359,
           "OC(CNCc1noc2c1CCC2)COCc1ccc2c(c1)OCO2",
           "BXGRPGAJSDDHQT-UHFFFAOYSA-N",
           [
            2134
           ],
           "2134",
           "elaboration"
          ],
          [
           52376,
           "CC(C)c1cc(CNCC(O)COCc2ccc3c(c2)OCO3)no1",
           "WZERGSBAUXZWNO-UHFFFAOYSA-N",
           [
            2134
           ],
           "2134",
           "elaboration"
          ],
          [
           52382,
           "Cc1cc(C(=O)N(N)CC(O)COCc2ccc3c(c2)OCO3)no1",
           "DQVWWFMRHDAAKM-UHFFFAOYSA-N",
           [
            2134
           ],
           "2134",
           "elaboration"
          ],
          [
           52399,
           "CC(C)c1conc1CNCC(O)COCc1ccc2c(c1)OCO2",
           "ACEJOIDWBUABKD-UHFFFAOYSA-N",
           [
            2134
           ],
           "2134",
           "elaboration"
          ],
          [
           52406,
           "O=C(O)c1conc1CNCC(O)COCc1ccc2c(c1)OCO2",
           "JXMXKEILSHWVSK-UHFFFAOYSA-N",
           [
            2134
           ],
           "2134",
           "elaboration"
          ],
          [
           52410,
           "COCc1cc(CNCC(O)COCc2ccc3c(c2)OCO3)no1",
           "XHILQPOZQCELRU-UHFFFAOYSA-N",
           [
            2134
           ],
           "2134",
           "elaboration"
          ],
          [
           52412,
           "OC(CNCc1cc(C(F)F)on1)COCc1ccc2c(c1)OCO2",
           "XYHSQAQIBMQZTH-UHFFFAOYSA-N",
           [
            2134
           ],
           "2134",
           "elaboration"
          ],
          [
           52416,
           "O=C(O)c1cc(CNCC(O)COCc2ccc3c(c2)OCO3)no1",
           "FRVPWMJJDNPQPH-UHFFFAOYSA-N",
           [
            2134
           ],
           "2134",
           "elaboration"
          ],
          [
           52763,
           "COC(=O)c1conc1CNCC(O)COCc1ccc2c(c1)OCO2",
           "PIDJZEYHNBKPHV-UHFFFAOYSA-N",
           [
            2134
           ],
           "2134",
           "elaboration"
          ],
          [
           52764,
           "CC(C)(NCC(O)COCc1ccc2c(c1)OCO2)c1cc(CO)on1",
           "NMTBOFYUHPEFJN-UHFFFAOYSA-N",
           [
            2134
           ],
           "2134",
           "elaboration"
          ],
          [
           52765,
           "CC(F)(F)c1cc(CNCC(O)COCc2ccc3c(c2)OCO3)no1",
           "XULAPSJJOGAXAD-UHFFFAOYSA-N",
           [
            2134
           ],
           "2134",
           "elaboration"
          ],
          [
           52769,
           "OC(CNCc1cc(C(F)(F)F)on1)COCc1ccc2c(c1)OCO2",
           "NDURFNWHAWMNJN-UHFFFAOYSA-N",
           [
            2134
           ],
           "2134",
           "elaboration"
          ],
          [
           52771,
           "CC(C)Cc1cc(CNCC(O)COCc2ccc3c(c2)OCO3)no1",
           "AJSUYBZEJJYGCZ-UHFFFAOYSA-N",
           [
            2134
           ],
           "2134",
           "elaboration"
          ],
          [
           52776,
           "COC(=O)c1cc(CNCC(O)COCc2ccc3c(c2)OCO3)no1",
           "GDZCMGGHURUEEE-UHFFFAOYSA-N",
           [
            2134
           ],
           "2134",
           "elaboration"
          ],
          [
           52781,
           "COCc1cc(C(=O)NCC(O)COCc2ccc3c(c2)OCO3)no1",
           "ZBNMXRUHQWFAKI-UHFFFAOYSA-N",
           [
            2134
           ],
           "2134",
           "elaboration"
          ],
          [
           52785,
           "[N-]=[N+]=NCc1cc(CNCC(O)COCc2ccc3c(c2)OCO3)no1",
           "MDTLUAWJUVRGSV-UHFFFAOYSA-N",
           [
            2134
           ],
           "2134",
           "elaboration"
          ],
          [
           52787,
           "CC(C)(C)c1conc1CNCC(O)COCc1ccc2c(c1)OCO2",
           "UFGXJFSXJRTXOK-UHFFFAOYSA-N",
           [
            2134
           ],
           "2134",
           "elaboration"
          ],
          [
           52795,
           "[N-]=[N+]=NCc1cc(CNCC(O)COCc2ccc3c(c2)OCO3)on1",
           "NEMRHPKZQFNURV-UHFFFAOYSA-N",
           [
            2134
           ],
           "2134",
           "elaboration"
          ],
          [
           52800,
           "OC(CNCc1cc(CC2CC2)on1)COCc1ccc2c(c1)OCO2",
           "IMVQJIVKGXHKAV-UHFFFAOYSA-N",
           [
            2134
           ],
           "2134",
           "elaboration"
          ],
          [
           52806,
           "OC(CNCc1noc2c1COCC2)COCc1ccc2c(c1)OCO2",
           "HKCWSSAWZOMABC-UHFFFAOYSA-N",
           [
            2134
           ],
           "2134",
           "elaboration"
          ],
          [
           52809,
           "OC(CNCc1noc2ccccc12)COCc1ccc2c(c1)OCO2",
           "JMLHMPZULOJANB-UHFFFAOYSA-N",
           [
            2134
           ],
           "2134",
           "elaboration"
          ],
          [
           52810,
           "OC(CNCc1noc2c1CCCC2)COCc1ccc2c(c1)OCO2",
           "DBBFULBMZPOILQ-UHFFFAOYSA-N",
           [
            2134
           ],
           "2134",
           "elaboration"
          ],
          [
           52813,
           "CC(C)(C)c1cc(CNCC(O)COCc2ccc3c(c2)OCO3)no1",
           "SNOYWNZDPXYZTG-UHFFFAOYSA-N",
           [
            2134
           ],
           "2134",
           "elaboration"
          ],
          [
           52814,
           "O=C(NCC(O)COCc1ccc2c(c1)OCO2)c1cc(C(=O)O)on1",
           "CNRDWCOQJNHRAG-UHFFFAOYSA-N",
           [
            2134
           ],
           "2134",
           "elaboration"
          ],
          [
           52816,
           "CC(NCC(O)COCc1ccc2c(c1)OCO2)c1nocc1C(=O)O",
           "WKTYSNGYVJNUGB-UHFFFAOYSA-N",
           [
            2134
           ],
           "2134",
           "elaboration"
          ],
          [
           52819,
           "O=C(NCC(O)COCc1ccc2c(c1)OCO2)c1cc(C2CC2)on1",
           "ZCILEOZSYIHPNN-UHFFFAOYSA-N",
           [
            2134
           ],
           "2134",
           "elaboration"
          ],
          [
           53172,
           "CC(C)(NCC(O)COCc1ccc2c(c1)OCO2)c1cc(C(F)F)on1",
           "WQRBOLVFKYKQHV-UHFFFAOYSA-N",
           [
            2134
           ],
           "2134",
           "elaboration"
          ],
          [
           53182,
           "OC(CNCc1cc(-c2ccco2)on1)COCc1ccc2c(c1)OCO2",
           "CMKJBIDKCFEUJX-UHFFFAOYSA-N",
           [
            2134
           ],
           "2134",
           "elaboration"
          ],
          [
           53185,
           "OC(CNCc1cc(C2CCCC2)on1)COCc1ccc2c(c1)OCO2",
           "YCLPYXBRTLECDO-UHFFFAOYSA-N",
           [
            2134
           ],
           "2134",
           "elaboration"
          ],
          [
           53188,
           "CC(C)(NCC(O)COCc1ccc2c(c1)OCO2)c1nocc1C(=O)O",
           "MZLBQPTUCXFKIV-UHFFFAOYSA-N",
           [
            2134
           ],
           "2134",
           "elaboration"
          ],
          [
           53194,
           "NS(=O)(=O)c1cc(C(=O)NCC(O)COCc2ccc3c(c2)OCO3)no1",
           "GOBIZMXFRILIEJ-UHFFFAOYSA-N",
           [
            2134
           ],
           "2134",
           "elaboration"
          ],
          [
           53197,
           "CC(C)(NCC(O)COCc1ccc2c(c1)OCO2)c1cc(C(=O)O)on1",
           "AUMBHWKSRLTLQN-UHFFFAOYSA-N",
           [
            2134
           ],
           "2134",
           "elaboration"
          ],
          [
           53203,
           "Cc1cc(C(NCC(O)COCc2ccc3c(c2)OCO3)C(F)(F)F)no1",
           "WJVWIAHAYJEZLT-UHFFFAOYSA-N",
           [
            2134
           ],
           "2134",
           "elaboration"
          ],
          [
           53210,
           "OC(CNCc1cc(-c2cccs2)on1)COCc1ccc2c(c1)OCO2",
           "XEZYJZVYECBKNC-UHFFFAOYSA-N",
           [
            2134
           ],
           "2134",
           "elaboration"
          ],
          [
           53234,
           "OC(CNCc1noc2cc(F)ccc12)COCc1ccc2c(c1)OCO2",
           "YSSXKQABABRQOV-UHFFFAOYSA-N",
           [
            2134
           ],
           "2134",
           "elaboration"
          ],
          [
           53235,
           "ON=C(NCC(O)COCc1ccc2c(c1)OCO2)c1cc(C2CC2)on1",
           "ZKRCANBCERNKGL-UHFFFAOYSA-N",
           [
            2134
           ],
           "2134",
           "elaboration"
          ],
          [
           53238,
           "OC(CNCc1cc(-c2ccoc2)on1)COCc1ccc2c(c1)OCO2",
           "MUMXQHDJYXUPPN-UHFFFAOYSA-N",
           [
            2134
           ],
           "2134",
           "elaboration"
          ],
          [
           53240,
           "OC(CNCc1noc2ccc(F)cc12)COCc1ccc2c(c1)OCO2",
           "RMMBGNQHPUKMIR-UHFFFAOYSA-N",
           [
            2134
           ],
           "2134",
           "elaboration"
          ],
          [
           53242,
           "OC(CNCc1noc2c1CCCCC2)COCc1ccc2c(c1)OCO2",
           "NEEAAPDZDWJCPX-UHFFFAOYSA-N",
           [
            2134
           ],
           "2134",
           "elaboration"
          ],
          [
           53252,
           "CC1CCc2onc(CNCC(O)COCc3ccc4c(c3)OCO4)c2C1",
           "FORKVXASPOHOMM-UHFFFAOYSA-N",
           [
            2134
           ],
           "2134",
           "elaboration"
          ],
          [
           53271,
           "CCOC(=O)c1conc1CNCC(O)COCc1ccc2c(c1)OCO2",
           "BBFAOIHLDWUGME-UHFFFAOYSA-N",
           [
            2134
           ],
           "2134",
           "elaboration"
          ]
         ],
         "hovertemplate": "cluster=%{customdata[4]}<br>type=%{customdata[5]}<br>PC1=%{x}<br>PC2=%{y}<br>id=%{customdata[0]}<br>smiles=%{customdata[1]}<br>inchikey=%{customdata[2]}<br>bases=%{customdata[3]}<extra></extra>",
         "legendgroup": "2134, elaboration",
         "marker": {
          "color": "#EF553B",
          "symbol": "diamond"
         },
         "mode": "markers",
         "name": "2134, elaboration",
         "orientation": "v",
         "showlegend": true,
         "type": "scatter",
         "x": [
          3.2611615657806396,
          3.3164896965026855,
          3.3164896965026855,
          2.991010904312134,
          3.239412546157837,
          1.9293792247772217,
          2.5726077556610107,
          3.367762804031372,
          1.8330638408660889,
          3.183382034301758,
          2.894695520401001,
          2.3325629234313965,
          2.4470837116241455,
          3.2338707447052,
          2.9906303882598877,
          3.3197450637817383,
          3.2384796142578125,
          2.9836158752441406,
          3.129336357116699,
          3.119781255722046,
          2.2362477779388428,
          3.2542715072631836,
          3.2291576862335205,
          3.2080559730529785,
          3.1719651222229004,
          3.1793463230133057,
          3.348510503768921,
          2.982478141784668,
          3.1465532779693604,
          3.1897099018096924,
          3.0628254413604736,
          3.2084810733795166,
          1.8017076253890991,
          3.0831141471862793,
          3.275787115097046,
          2.9131951332092285,
          2.863156795501709,
          3.307361125946045,
          3.073749542236328,
          3.1273128986358643,
          3.151247978210449,
          1.874172568321228,
          2.9194350242614746,
          1.5772677659988403,
          2.8268678188323975,
          3.3304741382598877,
          2.823216199874878,
          2.924464225769043,
          1.8057621717453003,
          2.8342487812042236,
          2.9237842559814453,
          3.3304741382598877,
          3.1250393390655518,
          2.199537992477417,
          3.3113315105438232,
          3.1250393390655518,
          2.9669132232666016,
          2.9605202674865723,
          3.2703745365142822
         ],
         "xaxis": "x",
         "y": [
          0.44527241587638855,
          0.40623635053634644,
          0.40623635053634644,
          0.24862873554229736,
          0.6328753232955933,
          0.09400641173124313,
          -0.14533011615276337,
          0.3429733216762543,
          0.3201853334903717,
          0.626252293586731,
          0.4748077690601349,
          -0.009439202025532722,
          0.0729086771607399,
          0.6307520270347595,
          0.2269899845123291,
          0.3353632390499115,
          0.6070441007614136,
          0.7812783122062683,
          0.6403861045837402,
          0.7104504108428955,
          0.2167396992444992,
          0.422276109457016,
          0.4378143846988678,
          0.6786174774169922,
          0.7428238987922668,
          0.5148437023162842,
          0.2829136252403259,
          0.46599236130714417,
          0.7208284139633179,
          0.7538146376609802,
          0.7007094621658325,
          0.5695118308067322,
          0.36592748761177063,
          0.6951419711112976,
          0.36245694756507874,
          0.6066627502441406,
          0.8334382772445679,
          0.604550302028656,
          -0.028553860262036324,
          0.6434687376022339,
          0.6369341611862183,
          0.1798737347126007,
          0.3126526176929474,
          0.46858856081962585,
          0.5631175637245178,
          0.3961270749568939,
          0.796806812286377,
          0.289914071559906,
          0.33048301935195923,
          0.33513757586479187,
          0.6252269148826599,
          0.3961270749568939,
          -0.0047423867508769035,
          0.19833265244960785,
          0.36487895250320435,
          -0.0047423867508769035,
          0.6589971780776978,
          0.6947723627090454,
          0.19753718376159668
         ],
         "yaxis": "y"
        },
        {
         "customdata": [
          [
           2845,
           "O=C(NCCc1ccno1)C1CCN(c2cc(=O)[nH]cn2)CC1",
           "HCYWIZPHWLZGBJ-UHFFFAOYSA-N",
           null,
           "2845",
           "base"
          ]
         ],
         "hovertemplate": "cluster=%{customdata[4]}<br>type=%{customdata[5]}<br>PC1=%{x}<br>PC2=%{y}<br>id=%{customdata[0]}<br>smiles=%{customdata[1]}<br>inchikey=%{customdata[2]}<br>bases=%{customdata[3]}<extra></extra>",
         "legendgroup": "2845, base",
         "marker": {
          "color": "#00cc96",
          "symbol": "circle"
         },
         "mode": "markers",
         "name": "2845, base",
         "orientation": "v",
         "showlegend": true,
         "type": "scatter",
         "x": [
          -1.2263504266738892
         ],
         "xaxis": "x",
         "y": [
          0.13888761401176453
         ],
         "yaxis": "y"
        },
        {
         "customdata": [
          [
           21569,
           "CC(Cc1ccno1)NC(=O)C1CCN(c2cc(=O)[nH]cn2)CC1",
           "YUPCSPONIWJXDG-UHFFFAOYSA-N",
           [
            2845
           ],
           "2845",
           "elaboration"
          ],
          [
           21573,
           "O=C(NCCc1cc(=O)[nH]o1)C1CCN(c2cc(=O)[nH]cn2)CC1",
           "FIXGUODFRKSCGK-UHFFFAOYSA-N",
           [
            2845
           ],
           "2845",
           "elaboration"
          ],
          [
           21575,
           "Cc1cc(CCNC(=O)C2CCN(c3cc(=O)[nH]cn3)CC2)on1",
           "JNVBKCUXWUSIBK-UHFFFAOYSA-N",
           [
            2845
           ],
           "2845",
           "elaboration"
          ],
          [
           21581,
           "O=C(NCCc1cc(Br)no1)C1CCN(c2cc(=O)[nH]cn2)CC1",
           "WNUGIRPQRJWHHM-UHFFFAOYSA-N",
           [
            2845
           ],
           "2845",
           "elaboration"
          ],
          [
           21843,
           "O=C(C1CCN(c2cc(=O)[nH]cn2)CC1)N1CCC(c2ccno2)C1",
           "HUZIGXAYLCXCDF-UHFFFAOYSA-N",
           [
            2845
           ],
           "2845",
           "elaboration"
          ],
          [
           21844,
           "O=C(C1CCN(c2cc(=O)[nH]cn2)CC1)N1CCc2onc(O)c2C1",
           "GBNXZNANYCPBIQ-UHFFFAOYSA-N",
           [
            2845
           ],
           "2845",
           "elaboration"
          ],
          [
           21868,
           "CCc1cc(CCNC(=O)C2CCN(c3cc(=O)[nH]cn3)CC2)on1",
           "OQONDSIPEMTPGN-UHFFFAOYSA-N",
           [
            2845
           ],
           "2845",
           "elaboration"
          ]
         ],
         "hovertemplate": "cluster=%{customdata[4]}<br>type=%{customdata[5]}<br>PC1=%{x}<br>PC2=%{y}<br>id=%{customdata[0]}<br>smiles=%{customdata[1]}<br>inchikey=%{customdata[2]}<br>bases=%{customdata[3]}<extra></extra>",
         "legendgroup": "2845, elaboration",
         "marker": {
          "color": "#00cc96",
          "symbol": "diamond"
         },
         "mode": "markers",
         "name": "2845, elaboration",
         "orientation": "v",
         "showlegend": true,
         "type": "scatter",
         "x": [
          -1.2443349361419678,
          -1.4100165367126465,
          -1.352452039718628,
          -1.3609142303466797,
          -1.1447651386260986,
          -0.8476447463035583,
          -1.4223978519439697
         ],
         "xaxis": "x",
         "y": [
          0.07699816673994064,
          -0.1074182465672493,
          0.7873864769935608,
          0.22018471360206604,
          0.25549426674842834,
          0.2755992114543915,
          0.7338904142379761
         ],
         "yaxis": "y"
        },
        {
         "customdata": [
          [
           3233,
           "CS(=O)(=O)CCCCCNC(=O)c1cc(CN2CCCCC2)on1",
           "AQKDVGWHSYNMMI-UHFFFAOYSA-N",
           null,
           "3233",
           "base"
          ]
         ],
         "hovertemplate": "cluster=%{customdata[4]}<br>type=%{customdata[5]}<br>PC1=%{x}<br>PC2=%{y}<br>id=%{customdata[0]}<br>smiles=%{customdata[1]}<br>inchikey=%{customdata[2]}<br>bases=%{customdata[3]}<extra></extra>",
         "legendgroup": "3233, base",
         "marker": {
          "color": "#ab63fa",
          "symbol": "circle"
         },
         "mode": "markers",
         "name": "3233, base",
         "orientation": "v",
         "showlegend": true,
         "type": "scatter",
         "x": [
          -2.6022419929504395
         ],
         "xaxis": "x",
         "y": [
          0.8339642286300659
         ],
         "yaxis": "y"
        },
        {
         "customdata": [
          [
           28825,
           "O=C(c1cc(CN2CCCCC2)on1)N1CCC2CS(=O)(=O)CC21",
           "LQTGAVIRZZOVGO-UHFFFAOYSA-N",
           [
            3233
           ],
           "3233",
           "elaboration"
          ],
          [
           28826,
           "O=C(NCC12CC1CS(=O)(=O)C2)c1cc(CN2CCCCC2)on1",
           "QYSRMTIQRZROKG-UHFFFAOYSA-N",
           [
            3233
           ],
           "3233",
           "elaboration"
          ],
          [
           28830,
           "O=C(c1cc(CN2CCCCC2)on1)N1C2CCC1CS(=O)(=O)C2",
           "ZXGMKLJJGIIODC-UHFFFAOYSA-N",
           [
            3233
           ],
           "3233",
           "elaboration"
          ],
          [
           28833,
           "O=C(c1cc(CN2CCCCC2)on1)N1CCC12CCS(=O)(=O)C2",
           "ISWIILXWOROIIX-UHFFFAOYSA-N",
           [
            3233
           ],
           "3233",
           "elaboration"
          ],
          [
           28835,
           "O=C(c1cc(CN2CCCCC2)on1)N1CC2CC1CS(=O)(=O)C2",
           "UNXBWAMOYBLEKD-UHFFFAOYSA-N",
           [
            3233
           ],
           "3233",
           "elaboration"
          ],
          [
           28840,
           "O=C(NCCC1CCS(=O)(=O)C1)c1cc(CN2CCCCC2)on1",
           "XJNULZKASYUAOQ-UHFFFAOYSA-N",
           [
            3233
           ],
           "3233",
           "elaboration"
          ],
          [
           28841,
           "O=C(NCC1CCCS(=O)(=O)C1)c1cc(CN2CCCCC2)on1",
           "MTUZGXZGYCTZOZ-UHFFFAOYSA-N",
           [
            3233
           ],
           "3233",
           "elaboration"
          ],
          [
           28844,
           "CS(=O)(=O)CC1CCCN1C(=O)c1cc(CN2CCCCC2)on1",
           "WFDQVHVETDCJPX-UHFFFAOYSA-N",
           [
            3233
           ],
           "3233",
           "elaboration"
          ],
          [
           28845,
           "CS(=O)(=O)CCC1CCN1C(=O)c1cc(CN2CCCCC2)on1",
           "PFLDFSLDUWNQFY-UHFFFAOYSA-N",
           [
            3233
           ],
           "3233",
           "elaboration"
          ],
          [
           28849,
           "CS(=O)(=O)CC1CCC1NC(=O)c1cc(CN2CCCCC2)on1",
           "QYIPDJMTYCTKFB-UHFFFAOYSA-N",
           [
            3233
           ],
           "3233",
           "elaboration"
          ],
          [
           28851,
           "CS(=O)(=O)C1CCCC1NC(=O)c1cc(CN2CCCCC2)on1",
           "OZOGMJSGBWYBAX-UHFFFAOYSA-N",
           [
            3233
           ],
           "3233",
           "elaboration"
          ]
         ],
         "hovertemplate": "cluster=%{customdata[4]}<br>type=%{customdata[5]}<br>PC1=%{x}<br>PC2=%{y}<br>id=%{customdata[0]}<br>smiles=%{customdata[1]}<br>inchikey=%{customdata[2]}<br>bases=%{customdata[3]}<extra></extra>",
         "legendgroup": "3233, elaboration",
         "marker": {
          "color": "#ab63fa",
          "symbol": "diamond"
         },
         "mode": "markers",
         "name": "3233, elaboration",
         "orientation": "v",
         "showlegend": true,
         "type": "scatter",
         "x": [
          -2.3419573307037354,
          -2.4552547931671143,
          -2.3274929523468018,
          -2.3239328861236572,
          -2.302485704421997,
          -2.7243361473083496,
          -2.719921112060547,
          -2.391777753829956,
          -2.391777753829956,
          -2.7474114894866943,
          -2.4944615364074707
         ],
         "xaxis": "x",
         "y": [
          0.9473700523376465,
          0.9476290941238403,
          0.9264412522315979,
          0.9755637049674988,
          0.8927088379859924,
          0.9907919764518738,
          0.9818232655525208,
          0.9152670502662659,
          0.9152670502662659,
          0.8643831610679626,
          0.8479890823364258
         ],
         "yaxis": "y"
        },
        {
         "customdata": [
          [
           3254,
           "COCCN(C)CCCNC(=O)c1cc(CN2CCCCC2)on1",
           "FTXYGSXUURDKCD-UHFFFAOYSA-N",
           null,
           "3254",
           "base"
          ]
         ],
         "hovertemplate": "cluster=%{customdata[4]}<br>type=%{customdata[5]}<br>PC1=%{x}<br>PC2=%{y}<br>id=%{customdata[0]}<br>smiles=%{customdata[1]}<br>inchikey=%{customdata[2]}<br>bases=%{customdata[3]}<extra></extra>",
         "legendgroup": "3254, base",
         "marker": {
          "color": "#FFA15A",
          "symbol": "circle"
         },
         "mode": "markers",
         "name": "3254, base",
         "orientation": "v",
         "showlegend": true,
         "type": "scatter",
         "x": [
          -2.3154149055480957
         ],
         "xaxis": "x",
         "y": [
          1.05935800075531
         ],
         "yaxis": "y"
        },
        {
         "customdata": [
          [
           13310,
           "O=C(NC1CC1N1CCOCC1)c1cc(CN2CCCCC2)on1",
           "KKECSMHUQGIVOT-UHFFFAOYSA-N",
           [
            3254
           ],
           "3254",
           "elaboration"
          ],
          [
           13312,
           "O=C(NC1CCN(C2COC2)C1)c1cc(CN2CCCCC2)on1",
           "SXORLJMZHDMEID-UHFFFAOYSA-N",
           [
            3254
           ],
           "3254",
           "elaboration"
          ],
          [
           13321,
           "O=C(NCC1CN(C2COC2)C1)c1cc(CN2CCCCC2)on1",
           "WJOXKRWQHHLJAZ-UHFFFAOYSA-N",
           [
            3254
           ],
           "3254",
           "elaboration"
          ],
          [
           13324,
           "COCCN1CCC(NC(=O)c2cc(CN3CCCCC3)on2)C1",
           "VCUAXASQGBCQBJ-UHFFFAOYSA-N",
           [
            3254
           ],
           "3254",
           "elaboration"
          ],
          [
           13328,
           "O=C(NCCCN1CCOCC1)c1cc(CN2CCCCC2)on1",
           "AIPQMSPSDXFFBB-UHFFFAOYSA-N",
           [
            3254
           ],
           "3254",
           "elaboration"
          ],
          [
           13987,
           "O=C(NCCCN1CCCOCC1)c1cc(CN2CCCCC2)on1",
           "DKKVUQMAPQYOOL-UHFFFAOYSA-N",
           [
            3254
           ],
           "3254",
           "elaboration"
          ],
          [
           13988,
           "O=C(NCC(O)CN1CCOCC1)c1cc(CN2CCCCC2)on1",
           "UAVBEODVPOAYFV-UHFFFAOYSA-N",
           [
            3254
           ],
           "3254",
           "elaboration"
          ],
          [
           13992,
           "COCCN1CCC(CNC(=O)c2cc(CN3CCCCC3)on2)C1",
           "VJWAJVDJKRUCBM-UHFFFAOYSA-N",
           [
            3254
           ],
           "3254",
           "elaboration"
          ],
          [
           13993,
           "O=C(NCCC(=O)N1CCOCC1)c1cc(CN2CCCCC2)on1",
           "ZGCWZJOJNMLXDF-UHFFFAOYSA-N",
           [
            3254
           ],
           "3254",
           "elaboration"
          ],
          [
           13995,
           "COCCN1CCCN(C(=O)c2cc(CN3CCCCC3)on2)CC1",
           "DOXSZVZMPMFNKM-UHFFFAOYSA-N",
           [
            3254
           ],
           "3254",
           "elaboration"
          ],
          [
           14051,
           "CC(CCN1CCOCC1)NC(=O)c1cc(CN2CCCCC2)on1",
           "HKSGSOQBGLONQI-UHFFFAOYSA-N",
           [
            3254
           ],
           "3254",
           "elaboration"
          ],
          [
           14066,
           "CN(CCCN1CCOCC1)C(=O)c1cc(CN2CCCCC2)on1",
           "TYJSRXAARYJPHU-UHFFFAOYSA-N",
           [
            3254
           ],
           "3254",
           "elaboration"
          ],
          [
           14067,
           "CN1CCCN(C(=O)c2cc(CN3CCCCC3)on2)CCOCC1",
           "MJPOULWVLLRQJQ-UHFFFAOYSA-N",
           [
            3254
           ],
           "3254",
           "elaboration"
          ],
          [
           14080,
           "COCC(=O)N1CC(CNC(=O)c2cc(CN3CCCCC3)on2)C1",
           "SAYQKQCCLGMMOF-UHFFFAOYSA-N",
           [
            3254
           ],
           "3254",
           "elaboration"
          ],
          [
           14082,
           "COCCN1CCC(NC(=O)c2cc(CN3CCCCC3)on2)CC1",
           "FSARTZOWQGORGS-UHFFFAOYSA-N",
           [
            3254
           ],
           "3254",
           "elaboration"
          ],
          [
           14083,
           "CC(CCNC(=O)c1cc(CN2CCCCC2)on1)N1CCOCC1",
           "SMTDFQSJFPVIEF-UHFFFAOYSA-N",
           [
            3254
           ],
           "3254",
           "elaboration"
          ],
          [
           14088,
           "CC(CNC(=O)c1cc(CN2CCCCC2)on1)CN1CCOCC1",
           "PKAPNVAXJXQXDM-UHFFFAOYSA-N",
           [
            3254
           ],
           "3254",
           "elaboration"
          ],
          [
           14237,
           "O=C(c1cc(CN2CCCCC2)on1)N1CC(CN2CCOCC2)C1",
           "LMBQRJAXCDRWTO-UHFFFAOYSA-N",
           [
            3254
           ],
           "3254",
           "elaboration"
          ],
          [
           14240,
           "O=C(c1cc(CN2CCCCC2)on1)N1CCCN(C2COC2)CC1",
           "BNSLHHYCAGBPSU-UHFFFAOYSA-N",
           [
            3254
           ],
           "3254",
           "elaboration"
          ],
          [
           14248,
           "O=C1CCN(C(=O)c2cc(CN3CCCCC3)on2)C2COCCN12",
           "KGBMGVXGPGYMEQ-UHFFFAOYSA-N",
           [
            3254
           ],
           "3254",
           "elaboration"
          ],
          [
           14249,
           "CN(C(=O)c1cc(CN2CCCCC2)on1)C1CCN2CCOC1C2",
           "CYQJPOWEXUHRJC-UHFFFAOYSA-N",
           [
            3254
           ],
           "3254",
           "elaboration"
          ],
          [
           14250,
           "O=C(c1cc(CN2CCCCC2)on1)N1CCC(N2CCOCC2)C1",
           "ODLRRJBKNQYOHH-UHFFFAOYSA-N",
           [
            3254
           ],
           "3254",
           "elaboration"
          ],
          [
           14251,
           "O=C(NC1CC(N2CCOCC2)C1)c1cc(CN2CCCCC2)on1",
           "JUKXPTFESKKXBU-UHFFFAOYSA-N",
           [
            3254
           ],
           "3254",
           "elaboration"
          ]
         ],
         "hovertemplate": "cluster=%{customdata[4]}<br>type=%{customdata[5]}<br>PC1=%{x}<br>PC2=%{y}<br>id=%{customdata[0]}<br>smiles=%{customdata[1]}<br>inchikey=%{customdata[2]}<br>bases=%{customdata[3]}<extra></extra>",
         "legendgroup": "3254, elaboration",
         "marker": {
          "color": "#FFA15A",
          "symbol": "diamond"
         },
         "mode": "markers",
         "name": "3254, elaboration",
         "orientation": "v",
         "showlegend": true,
         "type": "scatter",
         "x": [
          -2.423588514328003,
          -2.3879876136779785,
          -2.556551218032837,
          -2.3599371910095215,
          -2.3881301879882812,
          -2.412853956222534,
          -1.7874752283096313,
          -2.5506420135498047,
          -2.492020606994629,
          -2.2377824783325195,
          -2.39363694190979,
          -2.215066432952881,
          -2.170397996902466,
          -2.49037766456604,
          -2.359647512435913,
          -2.492318630218506,
          -2.5693345069885254,
          -2.1766340732574463,
          -2.2658329010009766,
          -2.1669273376464844,
          -2.2500381469726562,
          -2.3074350357055664,
          -2.4493823051452637
         ],
         "xaxis": "x",
         "y": [
          0.7848914861679077,
          0.8356119990348816,
          0.9894148111343384,
          1.0574921369552612,
          1.08892023563385,
          1.1465399265289307,
          0.8923106789588928,
          1.1499401330947876,
          1.2142871618270874,
          1.1717610359191895,
          0.97556072473526,
          1.1390587091445923,
          1.1780116558074951,
          1.2171446084976196,
          1.0290251970291138,
          0.8613954186439514,
          1.137178897857666,
          1.1257333755493164,
          0.9498811960220337,
          1.1943585872650146,
          1.0742225646972656,
          0.8647471070289612,
          0.6882258057594299
         ],
         "yaxis": "y"
        },
        {
         "customdata": [
          [
           3264,
           "O=C(NCCOC(F)F)c1cc(CN2CCCCC2)on1",
           "LBXRJYKIHOQRLN-UHFFFAOYSA-N",
           null,
           "3264",
           "base"
          ]
         ],
         "hovertemplate": "cluster=%{customdata[4]}<br>type=%{customdata[5]}<br>PC1=%{x}<br>PC2=%{y}<br>id=%{customdata[0]}<br>smiles=%{customdata[1]}<br>inchikey=%{customdata[2]}<br>bases=%{customdata[3]}<extra></extra>",
         "legendgroup": "3264, base",
         "marker": {
          "color": "#19d3f3",
          "symbol": "circle"
         },
         "mode": "markers",
         "name": "3264, base",
         "orientation": "v",
         "showlegend": true,
         "type": "scatter",
         "x": [
          -2.3528923988342285
         ],
         "xaxis": "x",
         "y": [
          1.1482560634613037
         ],
         "yaxis": "y"
        },
        {
         "customdata": [
          [
           29847,
           "CC(CNC(=O)c1cc(CN2CCCCC2)on1)OC(F)F",
           "YVCCKHFHRXNLIT-UHFFFAOYSA-N",
           [
            3264
           ],
           "3264",
           "elaboration"
          ],
          [
           29856,
           "CN(CCOC(F)F)C(=O)c1cc(CN2CCCCC2)on1",
           "JKHPYAUOXCKQIQ-UHFFFAOYSA-N",
           [
            3264
           ],
           "3264",
           "elaboration"
          ],
          [
           29865,
           "O=C(NCCOC(F)(F)F)c1cc(CN2CCCCC2)on1",
           "GDZQOVOGAZBATI-UHFFFAOYSA-N",
           [
            3264
           ],
           "3264",
           "elaboration"
          ],
          [
           29898,
           "O=C(c1cc(CN2CCCCC2)on1)N1CCOC(F)(F)C1",
           "ANSSRBXCJLVZPC-UHFFFAOYSA-N",
           [
            3264
           ],
           "3264",
           "elaboration"
          ],
          [
           29903,
           "CC(COC(F)F)NC(=O)c1cc(CN2CCCCC2)on1",
           "ZUONHPVKZAIBHU-UHFFFAOYSA-N",
           [
            3264
           ],
           "3264",
           "elaboration"
          ],
          [
           29906,
           "O=C(c1cc(CN2CCCCC2)on1)N1CC(OC(F)F)C1",
           "GCQUHNDOIMHJOP-UHFFFAOYSA-N",
           [
            3264
           ],
           "3264",
           "elaboration"
          ],
          [
           30330,
           "O=C(c1cc(CN2CCCCC2)on1)N1CCC1COC(F)F",
           "ZZEDDDDMFIEEFC-UHFFFAOYSA-N",
           [
            3264
           ],
           "3264",
           "elaboration"
          ],
          [
           30333,
           "O=C(NCCOC(F)(F)CBr)c1cc(CN2CCCCC2)on1",
           "WSFNUFNDAYIJHT-UHFFFAOYSA-N",
           [
            3264
           ],
           "3264",
           "elaboration"
          ],
          [
           30334,
           "CC(C)(CNC(=O)c1cc(CN2CCCCC2)on1)OC(F)F",
           "OQZXEKKPMHGRKU-UHFFFAOYSA-N",
           [
            3264
           ],
           "3264",
           "elaboration"
          ],
          [
           30342,
           "O=C(c1cc(CN2CCCCC2)on1)N1CC(OC(F)(F)F)C1",
           "ZXFCUYQDIXQXJE-UHFFFAOYSA-N",
           [
            3264
           ],
           "3264",
           "elaboration"
          ],
          [
           30346,
           "CC(F)(F)OC1CN(C(=O)c2cc(CN3CCCCC3)on2)C1",
           "NABOOFYDXXNFHG-UHFFFAOYSA-N",
           [
            3264
           ],
           "3264",
           "elaboration"
          ],
          [
           30351,
           "CC(CNC(=O)c1cc(CN2CCCCC2)on1)OC(F)(F)F",
           "SMTZPAJFKKLVMW-UHFFFAOYSA-N",
           [
            3264
           ],
           "3264",
           "elaboration"
          ],
          [
           30352,
           "CN(CCOC(F)(F)F)C(=O)c1cc(CN2CCCCC2)on1",
           "YIIMXKPQLXDOSY-UHFFFAOYSA-N",
           [
            3264
           ],
           "3264",
           "elaboration"
          ],
          [
           30364,
           "O=C(NC(CO)COC(F)F)c1cc(CN2CCCCC2)on1",
           "KMLXQOXXNXLZKV-UHFFFAOYSA-N",
           [
            3264
           ],
           "3264",
           "elaboration"
          ],
          [
           30365,
           "O=C(c1cc(CN2CCCCC2)on1)N1CCC(OC(F)F)C1",
           "SXOQDCUCEVLWCF-UHFFFAOYSA-N",
           [
            3264
           ],
           "3264",
           "elaboration"
          ],
          [
           30367,
           "CC1(OC(F)F)CN(C(=O)c2cc(CN3CCCCC3)on2)C1",
           "SSNLCAJGLGZWBC-UHFFFAOYSA-N",
           [
            3264
           ],
           "3264",
           "elaboration"
          ],
          [
           30383,
           "CC(COC(F)(F)F)NC(=O)c1cc(CN2CCCCC2)on1",
           "POWZVKFROKQQBU-UHFFFAOYSA-N",
           [
            3264
           ],
           "3264",
           "elaboration"
          ],
          [
           30388,
           "CC1COC(F)(F)CN1C(=O)c1cc(CN2CCCCC2)on1",
           "LPMKRVKMAVAUDN-UHFFFAOYSA-N",
           [
            3264
           ],
           "3264",
           "elaboration"
          ],
          [
           30390,
           "CC1CN(C(=O)c2cc(CN3CCCCC3)on2)CC(F)(F)O1",
           "RBYKXGPIHJWGHT-UHFFFAOYSA-N",
           [
            3264
           ],
           "3264",
           "elaboration"
          ]
         ],
         "hovertemplate": "cluster=%{customdata[4]}<br>type=%{customdata[5]}<br>PC1=%{x}<br>PC2=%{y}<br>id=%{customdata[0]}<br>smiles=%{customdata[1]}<br>inchikey=%{customdata[2]}<br>bases=%{customdata[3]}<extra></extra>",
         "legendgroup": "3264, elaboration",
         "marker": {
          "color": "#19d3f3",
          "symbol": "diamond"
         },
         "mode": "markers",
         "name": "3264, elaboration",
         "orientation": "v",
         "showlegend": true,
         "type": "scatter",
         "x": [
          -2.5605571269989014,
          -2.1879286766052246,
          -2.3262174129486084,
          -2.168210744857788,
          -2.372225284576416,
          -2.300173282623291,
          -2.052868604660034,
          -2.340108633041382,
          -2.5357413291931152,
          -2.299619197845459,
          -2.324127435684204,
          -2.560002326965332,
          -2.1612532138824463,
          -1.9147849082946777,
          -2.3513996601104736,
          -2.2969861030578613,
          -2.345550537109375,
          -2.1498990058898926,
          -2.3294260501861572
         ],
         "xaxis": "x",
         "y": [
          1.114928960800171,
          1.2395014762878418,
          1.169039249420166,
          1.2654004096984863,
          1.0520514249801636,
          1.1899558305740356,
          1.3270330429077148,
          1.1333194971084595,
          1.0430288314819336,
          1.2279001474380493,
          1.1342735290527344,
          1.1528737545013428,
          1.2602850198745728,
          1.0413745641708374,
          1.2545701265335083,
          1.1320666074752808,
          1.0728352069854736,
          1.181638479232788,
          1.16705322265625
         ],
         "yaxis": "y"
        },
        {
         "customdata": [
          [
           3360,
           "c1nc2n(n1)CCN(Cc1cc(C3CCNCC3)no1)C2",
           "XRJYMIJOWMWRJH-UHFFFAOYSA-N",
           null,
           "3360",
           "base"
          ]
         ],
         "hovertemplate": "cluster=%{customdata[4]}<br>type=%{customdata[5]}<br>PC1=%{x}<br>PC2=%{y}<br>id=%{customdata[0]}<br>smiles=%{customdata[1]}<br>inchikey=%{customdata[2]}<br>bases=%{customdata[3]}<extra></extra>",
         "legendgroup": "3360, base",
         "marker": {
          "color": "#FF6692",
          "symbol": "circle"
         },
         "mode": "markers",
         "name": "3360, base",
         "orientation": "v",
         "showlegend": true,
         "type": "scatter",
         "x": [
          -0.8405396938323975
         ],
         "xaxis": "x",
         "y": [
          1.17299222946167
         ],
         "yaxis": "y"
        },
        {
         "customdata": [
          [
           46911,
           "Brc1nc2n(n1)CCN(Cc1cc(C3CCNCC3)no1)C2",
           "MSNXJTHVVDQZPU-UHFFFAOYSA-N",
           [
            3360
           ],
           "3360",
           "elaboration"
          ],
          [
           46914,
           "Cc1nc2n(n1)CCN(Cc1cc(C3CCNCC3)no1)C2",
           "PYCFTXFHGVQTKC-UHFFFAOYSA-N",
           [
            3360
           ],
           "3360",
           "elaboration"
          ],
          [
           47483,
           "CC(C)(C)OC(=O)N1CCC(c2cc(CN3CCn4ncnc4C3)on2)CC1",
           "BWYZVNWGWGVPCJ-UHFFFAOYSA-N",
           [
            3360
           ],
           "3360",
           "elaboration"
          ],
          [
           47527,
           "CC(C)(C)OC(=O)N1CCC(c2cc(CN3CCn4nc(Br)nc4C3)on2)CC1",
           "REVQLPSRBZYWEK-UHFFFAOYSA-N",
           [
            3360
           ],
           "3360",
           "elaboration"
          ],
          [
           47529,
           "Cc1nc2n(n1)CCN(Cc1cc(C3CCN(C(=O)OC(C)(C)C)CC3)no1)C2",
           "AJPCXRMAZIBIMQ-UHFFFAOYSA-N",
           [
            3360
           ],
           "3360",
           "elaboration"
          ]
         ],
         "hovertemplate": "cluster=%{customdata[4]}<br>type=%{customdata[5]}<br>PC1=%{x}<br>PC2=%{y}<br>id=%{customdata[0]}<br>smiles=%{customdata[1]}<br>inchikey=%{customdata[2]}<br>bases=%{customdata[3]}<extra></extra>",
         "legendgroup": "3360, elaboration",
         "marker": {
          "color": "#FF6692",
          "symbol": "diamond"
         },
         "mode": "markers",
         "name": "3360, elaboration",
         "orientation": "v",
         "showlegend": true,
         "type": "scatter",
         "x": [
          -1.0171442031860352,
          -1.0063652992248535,
          -1.2673393487930298,
          -1.5347187519073486,
          -1.5239399671554565
         ],
         "xaxis": "x",
         "y": [
          1.2239595651626587,
          1.1651471853256226,
          1.5003677606582642,
          1.412716031074524,
          1.3539034128189087
         ],
         "yaxis": "y"
        },
        {
         "customdata": [
          [
           3996,
           "O=C(CCc1ccc2c(c1)OCCO2)OCCSCc1ccno1",
           "FIUPIBHCUISCGY-UHFFFAOYSA-N",
           null,
           "3996",
           "base"
          ]
         ],
         "hovertemplate": "cluster=%{customdata[4]}<br>type=%{customdata[5]}<br>PC1=%{x}<br>PC2=%{y}<br>id=%{customdata[0]}<br>smiles=%{customdata[1]}<br>inchikey=%{customdata[2]}<br>bases=%{customdata[3]}<extra></extra>",
         "legendgroup": "3996, base",
         "marker": {
          "color": "#B6E880",
          "symbol": "circle"
         },
         "mode": "markers",
         "name": "3996, base",
         "orientation": "v",
         "showlegend": true,
         "type": "scatter",
         "x": [
          1.008845329284668
         ],
         "xaxis": "x",
         "y": [
          0.06896272301673889
         ],
         "yaxis": "y"
        },
        {
         "customdata": [
          [
           35523,
           "CC(CC(=O)OCCSCc1ccno1)c1ccc2c(c1)OCCO2",
           "KGYFXDLSHZSPMC-UHFFFAOYSA-N",
           [
            3996
           ],
           "3996",
           "elaboration"
          ],
          [
           35531,
           "O=C(OCCSCc1ccno1)C1CC1c1ccc2c(c1)OCCO2",
           "IQEBODGTOZVVFT-UHFFFAOYSA-N",
           [
            3996
           ],
           "3996",
           "elaboration"
          ]
         ],
         "hovertemplate": "cluster=%{customdata[4]}<br>type=%{customdata[5]}<br>PC1=%{x}<br>PC2=%{y}<br>id=%{customdata[0]}<br>smiles=%{customdata[1]}<br>inchikey=%{customdata[2]}<br>bases=%{customdata[3]}<extra></extra>",
         "legendgroup": "3996, elaboration",
         "marker": {
          "color": "#B6E880",
          "symbol": "diamond"
         },
         "mode": "markers",
         "name": "3996, elaboration",
         "orientation": "v",
         "showlegend": true,
         "type": "scatter",
         "x": [
          0.8548142910003662,
          0.751964807510376
         ],
         "xaxis": "x",
         "y": [
          0.060074582695961,
          0.24366293847560883
         ],
         "yaxis": "y"
        },
        {
         "customdata": [
          [
           5315,
           "COC(CNC(=O)c1cc(C2CNC2)no1)C1CCC1",
           "MRUVLVYVOKTPDH-UHFFFAOYSA-N",
           null,
           "5315",
           "base"
          ]
         ],
         "hovertemplate": "cluster=%{customdata[4]}<br>type=%{customdata[5]}<br>PC1=%{x}<br>PC2=%{y}<br>id=%{customdata[0]}<br>smiles=%{customdata[1]}<br>inchikey=%{customdata[2]}<br>bases=%{customdata[3]}<extra></extra>",
         "legendgroup": "5315, base",
         "marker": {
          "color": "#FF97FF",
          "symbol": "circle"
         },
         "mode": "markers",
         "name": "5315, base",
         "orientation": "v",
         "showlegend": true,
         "type": "scatter",
         "x": [
          -1.4077812433242798
         ],
         "xaxis": "x",
         "y": [
          1.6316299438476562
         ],
         "yaxis": "y"
        },
        {
         "customdata": [
          [
           44464,
           "COC1C(NC(=O)c2cc(C3CNC3)no2)CC12CCC2",
           "MVTRYMVXMCNLRI-UHFFFAOYSA-N",
           [
            5315
           ],
           "5315",
           "elaboration"
          ],
          [
           44475,
           "COC1CN(C(=O)c2cc(C3CNC3)no2)CC12CCC2",
           "HDSYLMIPKZKPFI-UHFFFAOYSA-N",
           [
            5315
           ],
           "5315",
           "elaboration"
          ],
          [
           44476,
           "O=C(c1cc(C2CNC2)no1)N1CCOC(C2CCC2)C1",
           "CLBARKQARCKERQ-UHFFFAOYSA-N",
           [
            5315
           ],
           "5315",
           "elaboration"
          ],
          [
           44478,
           "COC(CN(C)C(=O)c1cc(C2CNC2)no1)C1CCC1",
           "DNFXUUQPZNRUNL-UHFFFAOYSA-N",
           [
            5315
           ],
           "5315",
           "elaboration"
          ],
          [
           44479,
           "CCOC(CNC(=O)c1cc(C2CNC2)no1)C1CCC1",
           "LGHYVNLTRSIHMH-UHFFFAOYSA-N",
           [
            5315
           ],
           "5315",
           "elaboration"
          ],
          [
           44538,
           "O=C(c1cc(C2CNC2)no1)N1CCCOC(C2CCC2)C1",
           "IMJYIMSJZRFXLC-UHFFFAOYSA-N",
           [
            5315
           ],
           "5315",
           "elaboration"
          ],
          [
           44543,
           "COC1C(NC(=O)c2cc(C3CNC3)no2)COC12CCC2",
           "HIVCNNYWYQUFBR-UHFFFAOYSA-N",
           [
            5315
           ],
           "5315",
           "elaboration"
          ],
          [
           44545,
           "COC(CNC(=O)c1cc(C2CNC2)no1)C1CC(C)(C)C1",
           "AAYKTAVLJVPOBW-UHFFFAOYSA-N",
           [
            5315
           ],
           "5315",
           "elaboration"
          ],
          [
           44557,
           "COC(CNC(=O)c1cc(C2CNC2)no1)C1CC(F)(F)C1",
           "RDJSTSMBPDAGRL-UHFFFAOYSA-N",
           [
            5315
           ],
           "5315",
           "elaboration"
          ],
          [
           44564,
           "O=C(NCC1OCCOC12CCC2)c1cc(C2CNC2)no1",
           "HXGYKGWSICOSKC-UHFFFAOYSA-N",
           [
            5315
           ],
           "5315",
           "elaboration"
          ],
          [
           44807,
           "CCOC(CNC(=O)c1cc(C2CNC2)no1)C1CC(F)(F)C1",
           "RELARXCEEVSFBF-UHFFFAOYSA-N",
           [
            5315
           ],
           "5315",
           "elaboration"
          ],
          [
           44815,
           "O=C(c1cc(C2CNC2)no1)N1CCOC(C2CC(F)(F)C2)C1",
           "FJQZCROGNCUTMU-UHFFFAOYSA-N",
           [
            5315
           ],
           "5315",
           "elaboration"
          ],
          [
           44816,
           "O=C1NC2(CCC2)C2(CN(C(=O)c3cc(C4CNC4)no3)C2)O1",
           "ARGXNJJDOCLHIS-UHFFFAOYSA-N",
           [
            5315
           ],
           "5315",
           "elaboration"
          ],
          [
           45425,
           "O=C(NC1CC2(CCC2)C1OCc1ccccc1)c1cc(C2CNC2)no1",
           "LAOUUGJFHOKPPR-UHFFFAOYSA-N",
           [
            5315
           ],
           "5315",
           "elaboration"
          ],
          [
           45511,
           "CC(C)(C)OC(=O)N1CC(c2cc(C(=O)N3CCOC(C4CCC4)C3)on2)C1",
           "TXLMGYHTQQIPHD-UHFFFAOYSA-N",
           [
            5315
           ],
           "5315",
           "elaboration"
          ],
          [
           45518,
           "COC1CN(C(=O)c2cc(C3CN(C(=O)OC(C)(C)C)C3)no2)CC12CCC2",
           "WPEVDPCATHFEDA-UHFFFAOYSA-N",
           [
            5315
           ],
           "5315",
           "elaboration"
          ],
          [
           45521,
           "COC1C(NC(=O)c2cc(C3CN(C(=O)OC(C)(C)C)C3)no2)CC12CCC2",
           "ATHKOTGESWBYPH-UHFFFAOYSA-N",
           [
            5315
           ],
           "5315",
           "elaboration"
          ]
         ],
         "hovertemplate": "cluster=%{customdata[4]}<br>type=%{customdata[5]}<br>PC1=%{x}<br>PC2=%{y}<br>id=%{customdata[0]}<br>smiles=%{customdata[1]}<br>inchikey=%{customdata[2]}<br>bases=%{customdata[3]}<extra></extra>",
         "legendgroup": "5315, elaboration",
         "marker": {
          "color": "#FF97FF",
          "symbol": "diamond"
         },
         "mode": "markers",
         "name": "5315, elaboration",
         "orientation": "v",
         "showlegend": true,
         "type": "scatter",
         "x": [
          -1.1955217123031616,
          -0.9860544204711914,
          -0.9910857677459717,
          -1.0611953735351562,
          -1.3493735790252686,
          -0.964472770690918,
          -1.101034164428711,
          -1.2380486726760864,
          -1.228897213935852,
          -1.1329258680343628,
          -1.1704894304275513,
          -0.8122015595436096,
          -1.223620891571045,
          -0.6457905769348145,
          -1.2919729948043823,
          -1.286941647529602,
          -1.6203986406326294
         ],
         "xaxis": "x",
         "y": [
          1.45169198513031,
          1.742576003074646,
          1.8913249969482422,
          1.7141095399856567,
          1.676398754119873,
          1.857550859451294,
          1.5572881698608398,
          1.5615097284317017,
          1.7120190858840942,
          1.6354823112487793,
          1.7567880153656006,
          1.9717143774032593,
          1.4644526243209839,
          1.1592673063278198,
          1.8242108821868896,
          1.6754615306854248,
          1.4553196430206299
         ],
         "yaxis": "y"
        },
        {
         "customdata": [
          [
           5316,
           "COCC(NC(=O)c1cc(C2CNC2)no1)c1nnn[nH]1",
           "SOJYOVUYESCPEI-UHFFFAOYSA-N",
           null,
           "5316",
           "base"
          ]
         ],
         "hovertemplate": "cluster=%{customdata[4]}<br>type=%{customdata[5]}<br>PC1=%{x}<br>PC2=%{y}<br>id=%{customdata[0]}<br>smiles=%{customdata[1]}<br>inchikey=%{customdata[2]}<br>bases=%{customdata[3]}<extra></extra>",
         "legendgroup": "5316, base",
         "marker": {
          "color": "#FECB52",
          "symbol": "circle"
         },
         "mode": "markers",
         "name": "5316, base",
         "orientation": "v",
         "showlegend": true,
         "type": "scatter",
         "x": [
          -0.6352342367172241
         ],
         "xaxis": "x",
         "y": [
          1.3446528911590576
         ],
         "yaxis": "y"
        },
        {
         "customdata": [
          [
           41135,
           "O=C(NC1(c2nnn[nH]2)CCOC1)c1cc(C2CNC2)no1",
           "DBRGZBNZYZSGJJ-UHFFFAOYSA-N",
           [
            5316
           ],
           "5316",
           "elaboration"
          ],
          [
           41137,
           "O=C(c1cc(C2CNC2)no1)N1CCOCC1c1nnn[nH]1",
           "KJHGXHQIIPGVGN-UHFFFAOYSA-N",
           [
            5316
           ],
           "5316",
           "elaboration"
          ],
          [
           41158,
           "CCOC(=O)C(NC(=O)c1cc(C2CNC2)no1)c1nnn[nH]1",
           "LEERKNDKMYRCGR-UHFFFAOYSA-N",
           [
            5316
           ],
           "5316",
           "elaboration"
          ],
          [
           41225,
           "COCC(NC(=O)c1cc(C2CN(C(=O)OC(C)(C)C)C2)no1)c1nnn[nH]1",
           "WAQUXYVLROBQJD-UHFFFAOYSA-N",
           [
            5316
           ],
           "5316",
           "elaboration"
          ],
          [
           41233,
           "COCC(NC(=O)c1cc(C2(C)CN(C(=O)OC(C)(C)C)C2)no1)c1nnn[nH]1",
           "VJZOMMUKSBSWLU-UHFFFAOYSA-N",
           [
            5316
           ],
           "5316",
           "elaboration"
          ],
          [
           41255,
           "CC(C)(C)OC(=O)N1CC(c2cc(C(=O)NC3(c4nnn[nH]4)CCOC3)on2)C1",
           "CBBJFZIOFYYWGG-UHFFFAOYSA-N",
           [
            5316
           ],
           "5316",
           "elaboration"
          ],
          [
           41257,
           "CC(C)(C)OC(=O)N1CC(c2cc(C(=O)N3CCOCC3c3nnn[nH]3)on2)C1",
           "YHEOPLAROLPSHW-UHFFFAOYSA-N",
           [
            5316
           ],
           "5316",
           "elaboration"
          ],
          [
           41286,
           "CCOC(=O)C(NC(=O)c1cc(C2CN(C(=O)OC(C)(C)C)C2)no1)c1nnn[nH]1",
           "TUWBOOLPMTVJEX-UHFFFAOYSA-N",
           [
            5316
           ],
           "5316",
           "elaboration"
          ],
          [
           41305,
           "CC(C)(C)OC(=O)N1CC(C)(c2cc(C(=O)NC3(c4nnn[nH]4)CCOC3)on2)C1",
           "BWDGQPXXHYUINP-UHFFFAOYSA-N",
           [
            5316
           ],
           "5316",
           "elaboration"
          ],
          [
           41308,
           "CC(C)(C)OC(=O)N1CC(C)(c2cc(C(=O)N3CCOCC3c3nnn[nH]3)on2)C1",
           "QBGMUOFVQKKKTI-UHFFFAOYSA-N",
           [
            5316
           ],
           "5316",
           "elaboration"
          ],
          [
           41391,
           "CCOC(=O)C(NC(=O)c1cc(C2(C)CN(C(=O)OC(C)(C)C)C2)no1)c1nnn[nH]1",
           "CRMRVZUSLYAKBI-UHFFFAOYSA-N",
           [
            5316
           ],
           "5316",
           "elaboration"
          ]
         ],
         "hovertemplate": "cluster=%{customdata[4]}<br>type=%{customdata[5]}<br>PC1=%{x}<br>PC2=%{y}<br>id=%{customdata[0]}<br>smiles=%{customdata[1]}<br>inchikey=%{customdata[2]}<br>bases=%{customdata[3]}<extra></extra>",
         "legendgroup": "5316, elaboration",
         "marker": {
          "color": "#FECB52",
          "symbol": "diamond"
         },
         "mode": "markers",
         "name": "5316, elaboration",
         "orientation": "v",
         "showlegend": true,
         "type": "scatter",
         "x": [
          -0.9612261652946472,
          -0.7826170921325684,
          -0.6449915170669556,
          -1.1575955152511597,
          -1.1996294260025024,
          -1.295328140258789,
          -0.9927295446395874,
          -1.091475486755371,
          -1.3373618125915527,
          -1.095934510231018,
          -1.1335092782974243
         ],
         "xaxis": "x",
         "y": [
          1.5109410285949707,
          1.6424660682678223,
          1.5723713636398315,
          1.5138617753982544,
          1.4992499351501465,
          1.653187870979309,
          1.71397066116333,
          1.697740912437439,
          1.6385765075683594,
          1.6528618335723877,
          1.6831297874450684
         ],
         "yaxis": "y"
        },
        {
         "customdata": [
          [
           5327,
           "O=C(NCC(O)COCC1CC1)c1cc(C2CNC2)no1",
           "MPKNORZLORHROU-UHFFFAOYSA-N",
           null,
           "5327",
           "base"
          ]
         ],
         "hovertemplate": "cluster=%{customdata[4]}<br>type=%{customdata[5]}<br>PC1=%{x}<br>PC2=%{y}<br>id=%{customdata[0]}<br>smiles=%{customdata[1]}<br>inchikey=%{customdata[2]}<br>bases=%{customdata[3]}<extra></extra>",
         "legendgroup": "5327, base",
         "marker": {
          "color": "#636efa",
          "symbol": "circle"
         },
         "mode": "markers",
         "name": "5327, base",
         "orientation": "v",
         "showlegend": true,
         "type": "scatter",
         "x": [
          -0.43198999762535095
         ],
         "xaxis": "x",
         "y": [
          1.4558320045471191
         ],
         "yaxis": "y"
        },
        {
         "customdata": [
          [
           45963,
           "O=C(c1cc(C2CNC2)no1)N1CCOC(COCC2CC2)C1",
           "PLIILKANTWBTLQ-UHFFFAOYSA-N",
           [
            5327
           ],
           "5327",
           "elaboration"
          ],
          [
           46078,
           "CC(C)(C)OC(=O)N1CC(c2cc(C(=O)NCC(O)COCC3CC3)on2)C1",
           "ZVGVIBCCBHCABT-UHFFFAOYSA-N",
           [
            5327
           ],
           "5327",
           "elaboration"
          ],
          [
           46139,
           "CC(C)(C)OC(=O)N1CC(C)(c2cc(C(=O)NCC(O)COCC3CC3)on2)C1",
           "CYOSXZCJOWYTSG-UHFFFAOYSA-N",
           [
            5327
           ],
           "5327",
           "elaboration"
          ],
          [
           46425,
           "CC(C)(C)OC(=O)N1CC(c2cc(C(=O)N3CCOC(COCC4CC4)C3)on2)C1",
           "SPMDDLYHSMLEQA-UHFFFAOYSA-N",
           [
            5327
           ],
           "5327",
           "elaboration"
          ],
          [
           46532,
           "CC(C)(C)OC(=O)N1CC(C)(c2cc(C(=O)N3CCOC(COCC4CC4)C3)on2)C1",
           "VAFQBCAFDTUBBR-UHFFFAOYSA-N",
           [
            5327
           ],
           "5327",
           "elaboration"
          ]
         ],
         "hovertemplate": "cluster=%{customdata[4]}<br>type=%{customdata[5]}<br>PC1=%{x}<br>PC2=%{y}<br>id=%{customdata[0]}<br>smiles=%{customdata[1]}<br>inchikey=%{customdata[2]}<br>bases=%{customdata[3]}<extra></extra>",
         "legendgroup": "5327, elaboration",
         "marker": {
          "color": "#636efa",
          "symbol": "diamond"
         },
         "mode": "markers",
         "name": "5327, elaboration",
         "orientation": "v",
         "showlegend": true,
         "type": "scatter",
         "x": [
          -0.8069141507148743,
          -0.7328775525093079,
          -0.7749114036560059,
          -1.1078014373779297,
          -1.1721097230911255
         ],
         "xaxis": "x",
         "y": [
          1.8071916103363037,
          1.3887174129486084,
          1.3741055727005005,
          1.740077018737793,
          1.5895174741744995
         ],
         "yaxis": "y"
        },
        {
         "customdata": [
          [
           5856,
           "CC(CNC(=O)c1ccc2ccn(C)c2c1)N1CCCCC1",
           "GWPDEXDIWDHEPZ-UHFFFAOYSA-N",
           null,
           "5856",
           "base"
          ]
         ],
         "hovertemplate": "cluster=%{customdata[4]}<br>type=%{customdata[5]}<br>PC1=%{x}<br>PC2=%{y}<br>id=%{customdata[0]}<br>smiles=%{customdata[1]}<br>inchikey=%{customdata[2]}<br>bases=%{customdata[3]}<extra></extra>",
         "legendgroup": "5856, base",
         "marker": {
          "color": "#EF553B",
          "symbol": "circle"
         },
         "mode": "markers",
         "name": "5856, base",
         "orientation": "v",
         "showlegend": true,
         "type": "scatter",
         "x": [
          -2.1852076053619385
         ],
         "xaxis": "x",
         "y": [
          -3.0759663581848145
         ],
         "yaxis": "y"
        },
        {
         "customdata": [
          [
           7446,
           "CC1C(NC(=O)c2ccc3ccn(C)c3c2)C2CCN1CC2",
           "JBUAQCDZFZUBEB-UHFFFAOYSA-N",
           [
            5856
           ],
           "5856",
           "elaboration"
          ],
          [
           7449,
           "Cn1ccc2ccc(C(=O)N3CC(N4CCCCC4)C3)cc21",
           "KRGWDGPROVXLFW-UHFFFAOYSA-N",
           [
            5856
           ],
           "5856",
           "elaboration"
          ],
          [
           7853,
           "CC1CCN(C2CN(C(=O)c3ccc4ccn(C)c4c3)C2)CC1",
           "UBXJQODBZMEZJG-UHFFFAOYSA-N",
           [
            5856
           ],
           "5856",
           "elaboration"
          ],
          [
           7854,
           "Cn1ccc2ccc(C(=O)N3CC(N4CCC(O)CC4)C3)cc21",
           "IAGHOMWPWLYUIG-UHFFFAOYSA-N",
           [
            5856
           ],
           "5856",
           "elaboration"
          ],
          [
           7861,
           "Cn1ccc2ccc(C(=O)N3CC(C)(N4CCCCC4)C3)cc21",
           "ZQFQQLYKXHOQPU-UHFFFAOYSA-N",
           [
            5856
           ],
           "5856",
           "elaboration"
          ],
          [
           7879,
           "CCC(CNC(=O)c1ccc2ccn(C)c2c1)N1CCCCC1",
           "HLHPZZLQCFBJRN-UHFFFAOYSA-N",
           [
            5856
           ],
           "5856",
           "elaboration"
          ],
          [
           7880,
           "CC1CCCCN1C(C)CNC(=O)c1ccc2ccn(C)c2c1",
           "YBDCGQMCRMYVNF-UHFFFAOYSA-N",
           [
            5856
           ],
           "5856",
           "elaboration"
          ],
          [
           7887,
           "Cn1ccc2ccc(C(=O)N3CCC(N4CCCCC4)C3)cc21",
           "RTXHSQQNQOYLDP-UHFFFAOYSA-N",
           [
            5856
           ],
           "5856",
           "elaboration"
          ],
          [
           7889,
           "Cn1ccc2ccc(C(=O)NCC(C)(C)N3CCCCC3)cc21",
           "KGGBILOQBDXVSA-UHFFFAOYSA-N",
           [
            5856
           ],
           "5856",
           "elaboration"
          ],
          [
           7890,
           "CC(CNC(=O)c1ccc2ccn(C)c2c1)N1CCCCC1=O",
           "OMGJFMWCVNPBMQ-UHFFFAOYSA-N",
           [
            5856
           ],
           "5856",
           "elaboration"
          ],
          [
           7891,
           "CC1CCCN(C(C)CNC(=O)c2ccc3ccn(C)c3c2)C1",
           "ZHRDDOOQJONLHH-UHFFFAOYSA-N",
           [
            5856
           ],
           "5856",
           "elaboration"
          ],
          [
           7894,
           "CC1CCN(C(C)CNC(=O)c2ccc3ccn(C)c3c2)CC1",
           "LYPNPCYJKKPXGI-UHFFFAOYSA-N",
           [
            5856
           ],
           "5856",
           "elaboration"
          ],
          [
           7898,
           "Cn1ccc2ccc(C(=O)N3CC(N4CCCCC4=O)C3)cc21",
           "NKBOBEUUEYKPDT-UHFFFAOYSA-N",
           [
            5856
           ],
           "5856",
           "elaboration"
          ],
          [
           8659,
           "CC1C(NC(=O)c2ccc3ccn(C(C)C)c3c2)C2CCN1CC2",
           "QGCVPBAUZAGZHK-UHFFFAOYSA-N",
           [
            5856
           ],
           "5856",
           "elaboration"
          ],
          [
           8662,
           "CC(C)n1ccc2ccc(C(=O)N3CC(N4CCCCC4)C3)cc21",
           "UCYUBMCCLMSLHW-UHFFFAOYSA-N",
           [
            5856
           ],
           "5856",
           "elaboration"
          ],
          [
           8663,
           "CC(CNC(=O)c1ccc2c(C=O)cn(C)c2c1)N1CCCCC1",
           "QAAHKIZDGKEMBQ-UHFFFAOYSA-N",
           [
            5856
           ],
           "5856",
           "elaboration"
          ],
          [
           8664,
           "Cn1cc(C=O)c2ccc(C(=O)N3CC(N4CCCCC4)C3)cc21",
           "LKCDTXFBUOBQRY-UHFFFAOYSA-N",
           [
            5856
           ],
           "5856",
           "elaboration"
          ],
          [
           8667,
           "CC1C(NC(=O)c2ccc3c(C=O)cn(C)c3c2)C2CCN1CC2",
           "PMEDXFZMVOHSRE-UHFFFAOYSA-N",
           [
            5856
           ],
           "5856",
           "elaboration"
          ],
          [
           8673,
           "CC(CNC(=O)c1ccc2ccn(C(C)C)c2c1)N1CCCCC1",
           "XZUDOAIWLFOJGA-UHFFFAOYSA-N",
           [
            5856
           ],
           "5856",
           "elaboration"
          ],
          [
           8717,
           "CC1C(NC(=O)c2ccc3c(C#N)cn(C)c3c2)C2CCN1CC2",
           "APPPBZQRFDDQRV-UHFFFAOYSA-N",
           [
            5856
           ],
           "5856",
           "elaboration"
          ],
          [
           8720,
           "Cn1cc(C#N)c2ccc(C(=O)N3CC(N4CCCCC4)C3)cc21",
           "GFGLNFQXRIYLEC-UHFFFAOYSA-N",
           [
            5856
           ],
           "5856",
           "elaboration"
          ],
          [
           8721,
           "CC(CNC(=O)c1ccc2c(C#N)cn(C)c2c1)N1CCCCC1",
           "UWVXEJXANOKCRT-UHFFFAOYSA-N",
           [
            5856
           ],
           "5856",
           "elaboration"
          ],
          [
           8818,
           "N#CCn1ccc2ccc(C(=O)N3CC(N4CCCCC4)C3)cc21",
           "IPYVBEGVHIQNBA-UHFFFAOYSA-N",
           [
            5856
           ],
           "5856",
           "elaboration"
          ],
          [
           8821,
           "CC1C(NC(=O)c2ccc3ccn(CC#N)c3c2)C2CCN1CC2",
           "PXMILPRHSAJUOG-UHFFFAOYSA-N",
           [
            5856
           ],
           "5856",
           "elaboration"
          ],
          [
           8828,
           "CC(CNC(=O)c1ccc2ccn(CC#N)c2c1)N1CCCCC1",
           "CSJQMWWPXMICDF-UHFFFAOYSA-N",
           [
            5856
           ],
           "5856",
           "elaboration"
          ]
         ],
         "hovertemplate": "cluster=%{customdata[4]}<br>type=%{customdata[5]}<br>PC1=%{x}<br>PC2=%{y}<br>id=%{customdata[0]}<br>smiles=%{customdata[1]}<br>inchikey=%{customdata[2]}<br>bases=%{customdata[3]}<extra></extra>",
         "legendgroup": "5856, elaboration",
         "marker": {
          "color": "#EF553B",
          "symbol": "diamond"
         },
         "mode": "markers",
         "name": "5856, elaboration",
         "orientation": "v",
         "showlegend": true,
         "type": "scatter",
         "x": [
          -2.1062121391296387,
          -1.904467225074768,
          -1.6629607677459717,
          -0.994340717792511,
          -1.7876982688903809,
          -2.295227527618408,
          -2.1276774406433105,
          -1.96091890335083,
          -2.146902084350586,
          -1.7289999723434448,
          -2.208653450012207,
          -2.0171358585357666,
          -1.1969712972640991,
          -2.038749933242798,
          -1.8875601291656494,
          -2.3318142890930176,
          -2.0510740280151367,
          -2.2528185844421387,
          -2.1177456378936768,
          -2.2598226070404053,
          -2.0580782890319824,
          -2.3388185501098633,
          -1.8717488050460815,
          -2.073493719100952,
          -2.15248966217041
         ],
         "xaxis": "x",
         "y": [
          -3.196505546569824,
          -2.814336061477661,
          -2.869382858276367,
          -2.8530726432800293,
          -2.6524903774261475,
          -3.168550729751587,
          -2.911008596420288,
          -2.7528607845306396,
          -3.0143606662750244,
          -2.259796619415283,
          -2.9455039501190186,
          -3.036125421524048,
          -1.948745608329773,
          -2.961026668548584,
          -2.6030023097991943,
          -2.7960731983184814,
          -2.53444242477417,
          -2.9166126251220703,
          -2.840486526489258,
          -2.9423298835754395,
          -2.560159921646118,
          -2.8217906951904297,
          -2.682189464569092,
          -3.0643579959869385,
          -2.943819999694824
         ],
         "yaxis": "y"
        },
        {
         "customdata": [
          [
           5868,
           "O=C(NC1CC(N2CCCCC2)C1)c1ccc2cc[nH]c2c1",
           "KQLYWQIIZPHKEG-UHFFFAOYSA-N",
           null,
           "5868",
           "base"
          ]
         ],
         "hovertemplate": "cluster=%{customdata[4]}<br>type=%{customdata[5]}<br>PC1=%{x}<br>PC2=%{y}<br>id=%{customdata[0]}<br>smiles=%{customdata[1]}<br>inchikey=%{customdata[2]}<br>bases=%{customdata[3]}<extra></extra>",
         "legendgroup": "5868, base",
         "marker": {
          "color": "#00cc96",
          "symbol": "circle"
         },
         "mode": "markers",
         "name": "5868, base",
         "orientation": "v",
         "showlegend": true,
         "type": "scatter",
         "x": [
          -2.426198720932007
         ],
         "xaxis": "x",
         "y": [
          -1.9738492965698242
         ],
         "yaxis": "y"
        },
        {
         "customdata": [
          [
           15180,
           "Cc1c[nH]c2cc(C(=O)NC3CC(N4CCCCC4)C3)ccc12",
           "JJPKFAJHPLXRJE-UHFFFAOYSA-N",
           [
            5868
           ],
           "5868",
           "elaboration"
          ],
          [
           15201,
           "Cn1ccc2ccc(C(=O)NC3CC(N4CCCCC4)C3)cc21",
           "IJHQRLOFKGWOPG-UHFFFAOYSA-N",
           [
            5868
           ],
           "5868",
           "elaboration"
          ],
          [
           15218,
           "O=C(NC1CC(N2CCCCC2)C1)c1ccc2cc[nH]c2c1F",
           "LMOQTVBBPQJTPW-UHFFFAOYSA-N",
           [
            5868
           ],
           "5868",
           "elaboration"
          ],
          [
           15241,
           "O=C(NC1CC(N2CCCCC2)C1)c1cc(F)c2cc[nH]c2c1",
           "SNMPVSMZPBNWLO-UHFFFAOYSA-N",
           [
            5868
           ],
           "5868",
           "elaboration"
          ],
          [
           15825,
           "COc1cc2cc[nH]c2cc1C(=O)NC1CC(N2CCCCC2)C1",
           "YWOZJVROCQRJAK-UHFFFAOYSA-N",
           [
            5868
           ],
           "5868",
           "elaboration"
          ],
          [
           16186,
           "O=Cc1c[nH]c2cc(C(=O)NC3CC(N4CCCCC4)C3)ccc12",
           "PVBDMIONHKJMTO-UHFFFAOYSA-N",
           [
            5868
           ],
           "5868",
           "elaboration"
          ],
          [
           16374,
           "N#Cc1c[nH]c2cc(C(=O)NC3CC(N4CCCCC4)C3)ccc12",
           "DHHBAYJSOYLDEE-UHFFFAOYSA-N",
           [
            5868
           ],
           "5868",
           "elaboration"
          ]
         ],
         "hovertemplate": "cluster=%{customdata[4]}<br>type=%{customdata[5]}<br>PC1=%{x}<br>PC2=%{y}<br>id=%{customdata[0]}<br>smiles=%{customdata[1]}<br>inchikey=%{customdata[2]}<br>bases=%{customdata[3]}<extra></extra>",
         "legendgroup": "5868, elaboration",
         "marker": {
          "color": "#00cc96",
          "symbol": "diamond"
         },
         "mode": "markers",
         "name": "5868, elaboration",
         "orientation": "v",
         "showlegend": true,
         "type": "scatter",
         "x": [
          -2.440016984939575,
          -2.243345260620117,
          -2.3370730876922607,
          -2.4539642333984375,
          -2.085756301879883,
          -2.430718421936035,
          -2.4411559104919434
         ],
         "xaxis": "x",
         "y": [
          -1.9248921871185303,
          -3.254892349243164,
          -1.7903213500976562,
          -1.5389012098312378,
          -1.70128333568573,
          -2.025691270828247,
          -2.0656580924987793
         ],
         "yaxis": "y"
        },
        {
         "customdata": [
          [
           5906,
           "CC(COC(=O)c1ccc2ccn(C)c2c1)N1CCCCC1",
           "QLLFKTQWEOSFEX-UHFFFAOYSA-N",
           null,
           "5906",
           "base"
          ]
         ],
         "hovertemplate": "cluster=%{customdata[4]}<br>type=%{customdata[5]}<br>PC1=%{x}<br>PC2=%{y}<br>id=%{customdata[0]}<br>smiles=%{customdata[1]}<br>inchikey=%{customdata[2]}<br>bases=%{customdata[3]}<extra></extra>",
         "legendgroup": "5906, base",
         "marker": {
          "color": "#ab63fa",
          "symbol": "circle"
         },
         "mode": "markers",
         "name": "5906, base",
         "orientation": "v",
         "showlegend": true,
         "type": "scatter",
         "x": [
          -1.6181825399398804
         ],
         "xaxis": "x",
         "y": [
          -2.968461036682129
         ],
         "yaxis": "y"
        },
        {
         "customdata": [
          [
           53881,
           "CC1C(OC(=O)c2ccc3ccn(C)c3c2)C2CCN1CC2",
           "XXHIYSYREFNUOT-UHFFFAOYSA-N",
           [
            5906
           ],
           "5906",
           "elaboration"
          ],
          [
           54184,
           "C=CC(COC(=O)c1ccc2ccn(C)c2c1)N1CCCCC1",
           "GDZPXAULMQRJNO-UHFFFAOYSA-N",
           [
            5906
           ],
           "5906",
           "elaboration"
          ],
          [
           54188,
           "Cn1ccc2ccc(C(=O)OCC3CCC4CCCCN43)cc21",
           "NDZFUGUQMJKASP-UHFFFAOYSA-N",
           [
            5906
           ],
           "5906",
           "elaboration"
          ],
          [
           54191,
           "Cn1ccc2ccc(C(=O)OC3CCN(C4COC4)CC3)cc21",
           "QKJSMIVKLRDHGO-UHFFFAOYSA-N",
           [
            5906
           ],
           "5906",
           "elaboration"
          ],
          [
           54773,
           "CC(COC(=O)c1ccc2ccn(CC#N)c2c1)N1CCCCC1",
           "BRNLJRAQDSKKRZ-UHFFFAOYSA-N",
           [
            5906
           ],
           "5906",
           "elaboration"
          ],
          [
           54774,
           "CC1C(OC(=O)c2ccc3ccn(CC#N)c3c2)C2CCN1CC2",
           "QFAXMMXNAYCMNV-UHFFFAOYSA-N",
           [
            5906
           ],
           "5906",
           "elaboration"
          ],
          [
           54894,
           "CC(COC(=O)c1ccc2c(C#N)cn(C)c2c1)N1CCCCC1",
           "KFOSNUWKODSRHY-UHFFFAOYSA-N",
           [
            5906
           ],
           "5906",
           "elaboration"
          ],
          [
           54909,
           "CC(COC(=O)c1ccc2c(C=O)cn(C)c2c1)N1CCCCC1",
           "NCXDRRAGPLHRDG-UHFFFAOYSA-N",
           [
            5906
           ],
           "5906",
           "elaboration"
          ],
          [
           54910,
           "CC1C(OC(=O)c2ccc3c(C=O)cn(C)c3c2)C2CCN1CC2",
           "KSWFDAVXCVQXIT-UHFFFAOYSA-N",
           [
            5906
           ],
           "5906",
           "elaboration"
          ],
          [
           54919,
           "CC1C(OC(=O)c2ccc3c(C#N)cn(C)c3c2)C2CCN1CC2",
           "QADDCRTVVFPYFD-UHFFFAOYSA-N",
           [
            5906
           ],
           "5906",
           "elaboration"
          ],
          [
           55068,
           "CC(COC(=O)c1ccc2ccn(C(C)C)c2c1)N1CCCCC1",
           "FZJDPVCOOBSYOS-UHFFFAOYSA-N",
           [
            5906
           ],
           "5906",
           "elaboration"
          ]
         ],
         "hovertemplate": "cluster=%{customdata[4]}<br>type=%{customdata[5]}<br>PC1=%{x}<br>PC2=%{y}<br>id=%{customdata[0]}<br>smiles=%{customdata[1]}<br>inchikey=%{customdata[2]}<br>bases=%{customdata[3]}<extra></extra>",
         "legendgroup": "5906, elaboration",
         "marker": {
          "color": "#ab63fa",
          "symbol": "diamond"
         },
         "mode": "markers",
         "name": "5906, elaboration",
         "orientation": "v",
         "showlegend": true,
         "type": "scatter",
         "x": [
          -1.589213252067566,
          -1.5584553480148315,
          -1.5390194654464722,
          -1.3160895109176636,
          -1.5854647159576416,
          -1.5564955472946167,
          -1.7717937231063843,
          -1.7647897005081177,
          -1.7358204126358032,
          -1.7428245544433594,
          -1.5507210493087769
         ],
         "xaxis": "x",
         "y": [
          -3.012932300567627,
          -2.940737247467041,
          -2.8255550861358643,
          -2.8311164379119873,
          -2.8363144397735596,
          -2.880786180496216,
          -2.714284896850586,
          -2.688567638397217,
          -2.7330398559570312,
          -2.7587568759918213,
          -2.7329814434051514
         ],
         "yaxis": "y"
        },
        {
         "customdata": [
          [
           7035,
           "CN(Cc1cnco1)CC(O)COCc1ccc2c(c1)OCO2",
           "WUZZWWHAUMZBOV-UHFFFAOYSA-N",
           null,
           "7035",
           "base"
          ]
         ],
         "hovertemplate": "cluster=%{customdata[4]}<br>type=%{customdata[5]}<br>PC1=%{x}<br>PC2=%{y}<br>id=%{customdata[0]}<br>smiles=%{customdata[1]}<br>inchikey=%{customdata[2]}<br>bases=%{customdata[3]}<extra></extra>",
         "legendgroup": "7035, base",
         "marker": {
          "color": "#FFA15A",
          "symbol": "circle"
         },
         "mode": "markers",
         "name": "7035, base",
         "orientation": "v",
         "showlegend": true,
         "type": "scatter",
         "x": [
          2.139822244644165
         ],
         "xaxis": "x",
         "y": [
          -0.7958000302314758
         ],
         "yaxis": "y"
        },
        {
         "customdata": [
          [
           31931,
           "CN(Cc1cnc(N)o1)CC(O)COCc1ccc2c(c1)OCO2",
           "AJVWNKLQLIMPPW-UHFFFAOYSA-N",
           [
            7035
           ],
           "7035",
           "elaboration"
          ],
          [
           31938,
           "Cc1ncoc1CN(C)CC(O)COCc1ccc2c(c1)OCO2",
           "ARUGTVYGHPHFQL-UHFFFAOYSA-N",
           [
            7035
           ],
           "7035",
           "elaboration"
          ],
          [
           31941,
           "Cc1ncc(CN(C)CC(O)COCc2ccc3c(c2)OCO3)o1",
           "RCQWMOHZXCWIDX-UHFFFAOYSA-N",
           [
            7035
           ],
           "7035",
           "elaboration"
          ],
          [
           31945,
           "CN(CC(O)COCc1ccc2c(c1)OCO2)C(O)c1cnco1",
           "JBMBKDNOAGDIOH-UHFFFAOYSA-N",
           [
            7035
           ],
           "7035",
           "elaboration"
          ],
          [
           31946,
           "CN(CC(O)COCc1ccc2c(c1)OCO2)C(N)c1cnco1",
           "QMLNVIZDGMSWLM-UHFFFAOYSA-N",
           [
            7035
           ],
           "7035",
           "elaboration"
          ],
          [
           31949,
           "CN(Cc1ocnc1Br)CC(O)COCc1ccc2c(c1)OCO2",
           "XJEHHKLDUWEMEM-UHFFFAOYSA-N",
           [
            7035
           ],
           "7035",
           "elaboration"
          ],
          [
           31985,
           "CCc1ncoc1CN(C)CC(O)COCc1ccc2c(c1)OCO2",
           "UCLYATQOEVHJJR-UHFFFAOYSA-N",
           [
            7035
           ],
           "7035",
           "elaboration"
          ],
          [
           31996,
           "Cc1ncoc1C(Cl)N(C)CC(O)COCc1ccc2c(c1)OCO2",
           "RYVACDSNQZTPQP-UHFFFAOYSA-N",
           [
            7035
           ],
           "7035",
           "elaboration"
          ],
          [
           31998,
           "CN(CC(O)COCc1ccc2c(c1)OCO2)C(O)c1ocnc1Br",
           "VCSVQFWZFQNWTF-UHFFFAOYSA-N",
           [
            7035
           ],
           "7035",
           "elaboration"
          ],
          [
           32015,
           "Cc1nc(C)c(CN(C)CC(O)COCc2ccc3c(c2)OCO3)o1",
           "DYPFDPXGZCLWRD-UHFFFAOYSA-N",
           [
            7035
           ],
           "7035",
           "elaboration"
          ],
          [
           32038,
           "COc1ncc(CN(C)CC(O)COCc2ccc3c(c2)OCO3)o1",
           "BHYQLYQUEPFEDF-UHFFFAOYSA-N",
           [
            7035
           ],
           "7035",
           "elaboration"
          ],
          [
           32054,
           "CN(CC(O)COCc1ccc2c(c1)OCO2)C(O)c1cnc(N)o1",
           "DRMPJVXQUNNEDD-UHFFFAOYSA-N",
           [
            7035
           ],
           "7035",
           "elaboration"
          ],
          [
           32058,
           "Cc1ncoc1C(O)N(C)CC(O)COCc1ccc2c(c1)OCO2",
           "OOMLNFFNRDBOPV-UHFFFAOYSA-N",
           [
            7035
           ],
           "7035",
           "elaboration"
          ],
          [
           32062,
           "Cc1ncc(C(O)N(C)CC(O)COCc2ccc3c(c2)OCO3)o1",
           "UTQPOMLFASUIKV-UHFFFAOYSA-N",
           [
            7035
           ],
           "7035",
           "elaboration"
          ],
          [
           32066,
           "CCc1ncc(CN(C)CC(O)COCc2ccc3c(c2)OCO3)o1",
           "DIQYXMVWYPHPGS-UHFFFAOYSA-N",
           [
            7035
           ],
           "7035",
           "elaboration"
          ],
          [
           32105,
           "CN(CC(O)COCc1ccc2c(c1)OCO2)C(O)c1cnc(Br)o1",
           "LBCAKIUYUFPMMG-UHFFFAOYSA-N",
           [
            7035
           ],
           "7035",
           "elaboration"
          ],
          [
           32120,
           "CN(CC(O)COCc1ccc2c(c1)OCO2)C(O)c1c[nH]c(=O)o1",
           "LWVAAEVBEOSSAV-UHFFFAOYSA-N",
           [
            7035
           ],
           "7035",
           "elaboration"
          ],
          [
           32148,
           "Cc1nc(C)c(C(O)N(C)CC(O)COCc2ccc3c(c2)OCO3)o1",
           "INIZEIODKZBNIF-UHFFFAOYSA-N",
           [
            7035
           ],
           "7035",
           "elaboration"
          ],
          [
           32200,
           "CCOC(c1cnco1)N(C)CC(O)COCc1ccc2c(c1)OCO2",
           "SWRXEKMHCFJWCA-UHFFFAOYSA-N",
           [
            7035
           ],
           "7035",
           "elaboration"
          ],
          [
           32225,
           "CNc1ncc(C(O)N(C)CC(O)COCc2ccc3c(c2)OCO3)o1",
           "HCHQDJDEVDXEGI-UHFFFAOYSA-N",
           [
            7035
           ],
           "7035",
           "elaboration"
          ],
          [
           32265,
           "COC(c1cnc(N)o1)N(C)CC(O)COCc1ccc2c(c1)OCO2",
           "WVWGTLRSIIBFRQ-UHFFFAOYSA-N",
           [
            7035
           ],
           "7035",
           "elaboration"
          ],
          [
           32428,
           "CCc1ncoc1C(O)N(C)CC(O)COCc1ccc2c(c1)OCO2",
           "RRWFBORTULDOFO-UHFFFAOYSA-N",
           [
            7035
           ],
           "7035",
           "elaboration"
          ],
          [
           32604,
           "C#Cc1ncoc1C(O)N(C)CC(O)COCc1ccc2c(c1)OCO2",
           "ILBMVQIWCJQJLK-UHFFFAOYSA-N",
           [
            7035
           ],
           "7035",
           "elaboration"
          ],
          [
           32618,
           "Cc1nc(C)c(C(N)N(C)CC(O)COCc2ccc3c(c2)OCO3)o1",
           "VMEFFDBLMVOCEA-UHFFFAOYSA-N",
           [
            7035
           ],
           "7035",
           "elaboration"
          ]
         ],
         "hovertemplate": "cluster=%{customdata[4]}<br>type=%{customdata[5]}<br>PC1=%{x}<br>PC2=%{y}<br>id=%{customdata[0]}<br>smiles=%{customdata[1]}<br>inchikey=%{customdata[2]}<br>bases=%{customdata[3]}<extra></extra>",
         "legendgroup": "7035, elaboration",
         "marker": {
          "color": "#FFA15A",
          "symbol": "diamond"
         },
         "mode": "markers",
         "name": "7035, elaboration",
         "orientation": "v",
         "showlegend": true,
         "type": "scatter",
         "x": [
          2.105170726776123,
          2.2228991985321045,
          1.9503499269485474,
          2.48933482170105,
          2.4823005199432373,
          2.2534101009368896,
          2.1649584770202637,
          2.3276586532592773,
          2.490849018096924,
          2.1226987838745117,
          1.980900526046753,
          2.454684019088745,
          2.4666249752044678,
          2.299862861633301,
          1.9060206413269043,
          2.3559131622314453,
          2.0918185710906982,
          2.366425037384033,
          2.3337597846984863,
          2.4300317764282227,
          2.3517813682556152,
          2.408684730529785,
          2.4356234073638916,
          2.368739604949951
         ],
         "xaxis": "x",
         "y": [
          -0.7075466513633728,
          -0.7923155426979065,
          -0.3623512089252472,
          -1.191898226737976,
          -1.0397546291351318,
          -1.083675742149353,
          -0.80000239610672,
          -0.8777613043785095,
          -1.3511483669281006,
          -0.8109325170516968,
          -0.7208091616630554,
          -1.1036444902420044,
          -1.0680464506149292,
          -0.7584490776062012,
          -0.4089743196964264,
          -1.1106830835342407,
          -1.5203243494033813,
          -1.0866636037826538,
          -1.0819309949874878,
          -1.075793743133545,
          -0.9485412836074829,
          -1.0757334232330322,
          -1.0559512376785278,
          -0.9459601044654846
         ],
         "yaxis": "y"
        },
        {
         "customdata": [
          [
           7036,
           "CN(Cc1ccns1)CC(O)COCc1ccc2c(c1)OCO2",
           "WQOUBXWIDJZODR-UHFFFAOYSA-N",
           null,
           "7036",
           "base"
          ]
         ],
         "hovertemplate": "cluster=%{customdata[4]}<br>type=%{customdata[5]}<br>PC1=%{x}<br>PC2=%{y}<br>id=%{customdata[0]}<br>smiles=%{customdata[1]}<br>inchikey=%{customdata[2]}<br>bases=%{customdata[3]}<extra></extra>",
         "legendgroup": "7036, base",
         "marker": {
          "color": "#19d3f3",
          "symbol": "circle"
         },
         "mode": "markers",
         "name": "7036, base",
         "orientation": "v",
         "showlegend": true,
         "type": "scatter",
         "x": [
          2.139822244644165
         ],
         "xaxis": "x",
         "y": [
          -0.7958000302314758
         ],
         "yaxis": "y"
        },
        {
         "customdata": [
          [
           41941,
           "CN(CC(O)COCc1ccc2c(c1)OCO2)C(O)c1ccns1",
           "OYVBSDZDHMNEQT-UHFFFAOYSA-N",
           [
            7036
           ],
           "7036",
           "elaboration"
          ],
          [
           41950,
           "Cc1cc(CN(C)CC(O)COCc2ccc3c(c2)OCO3)sn1",
           "YEKYRJGRWCHDMR-UHFFFAOYSA-N",
           [
            7036
           ],
           "7036",
           "elaboration"
          ],
          [
           41957,
           "CN(CC(O)COCc1ccc2c(c1)OCO2)C(Cl)c1ccns1",
           "GDVQNHXJLKOXCK-UHFFFAOYSA-N",
           [
            7036
           ],
           "7036",
           "elaboration"
          ],
          [
           41959,
           "CN(Cc1sncc1Br)CC(O)COCc1ccc2c(c1)OCO2",
           "NEKAJJTVFNHBOZ-UHFFFAOYSA-N",
           [
            7036
           ],
           "7036",
           "elaboration"
          ],
          [
           41960,
           "Cc1cnsc1CN(C)CC(O)COCc1ccc2c(c1)OCO2",
           "COVMVAIDOCPLGL-UHFFFAOYSA-N",
           [
            7036
           ],
           "7036",
           "elaboration"
          ],
          [
           41975,
           "Cc1cnsc1C(O)N(C)CC(O)COCc1ccc2c(c1)OCO2",
           "ZRRWXOJWWLQKFK-UHFFFAOYSA-N",
           [
            7036
           ],
           "7036",
           "elaboration"
          ],
          [
           41977,
           "COC(c1ccns1)N(C)CC(O)COCc1ccc2c(c1)OCO2",
           "KZNSZZQDDXVSSX-UHFFFAOYSA-N",
           [
            7036
           ],
           "7036",
           "elaboration"
          ],
          [
           42016,
           "CN(Cc1snc(Cl)c1Cl)CC(O)COCc1ccc2c(c1)OCO2",
           "HYDNXEDTGNAMHG-UHFFFAOYSA-N",
           [
            7036
           ],
           "7036",
           "elaboration"
          ],
          [
           42022,
           "Cc1cc(C(O)N(C)CC(O)COCc2ccc3c(c2)OCO3)sn1",
           "APZCCFPOYNYOHA-UHFFFAOYSA-N",
           [
            7036
           ],
           "7036",
           "elaboration"
          ],
          [
           42026,
           "COc1cc(CN(C)CC(O)COCc2ccc3c(c2)OCO3)sn1",
           "ASZJJKYVVFBIGE-UHFFFAOYSA-N",
           [
            7036
           ],
           "7036",
           "elaboration"
          ],
          [
           42070,
           "CN(CC(O)COCc1ccc2c(c1)OCO2)C(O)c1cc(O)ns1",
           "XXXYLJSSZJXIAC-UHFFFAOYSA-N",
           [
            7036
           ],
           "7036",
           "elaboration"
          ],
          [
           42082,
           "CN(CC(O)COCc1ccc2c(c1)OCO2)C(N)c1sncc1N",
           "JQOBTHNBQBPJCC-UHFFFAOYSA-N",
           [
            7036
           ],
           "7036",
           "elaboration"
          ],
          [
           42098,
           "CN(CC(O)COCc1ccc2c(c1)OCO2)C(O)c1cc(Cl)ns1",
           "NMGRLWJKYCHHET-UHFFFAOYSA-N",
           [
            7036
           ],
           "7036",
           "elaboration"
          ],
          [
           42104,
           "CN(CC(O)COCc1ccc2c(c1)OCO2)C(O)c1sncc1Br",
           "AQBNHHFJFRBSKZ-UHFFFAOYSA-N",
           [
            7036
           ],
           "7036",
           "elaboration"
          ],
          [
           42114,
           "CCc1cnsc1CN(C)CC(O)COCc1ccc2c(c1)OCO2",
           "PZIAGXWHLAYNME-UHFFFAOYSA-N",
           [
            7036
           ],
           "7036",
           "elaboration"
          ],
          [
           42501,
           "CN(CC(O)COCc1ccc2c(c1)OCO2)C(O)c1snc(O)c1Cl",
           "IQDNPQHZDFZECA-UHFFFAOYSA-N",
           [
            7036
           ],
           "7036",
           "elaboration"
          ]
         ],
         "hovertemplate": "cluster=%{customdata[4]}<br>type=%{customdata[5]}<br>PC1=%{x}<br>PC2=%{y}<br>id=%{customdata[0]}<br>smiles=%{customdata[1]}<br>inchikey=%{customdata[2]}<br>bases=%{customdata[3]}<extra></extra>",
         "legendgroup": "7036, elaboration",
         "marker": {
          "color": "#19d3f3",
          "symbol": "diamond"
         },
         "mode": "markers",
         "name": "7036, elaboration",
         "orientation": "v",
         "showlegend": true,
         "type": "scatter",
         "x": [
          2.489335060119629,
          1.9503498077392578,
          2.344907283782959,
          2.142029047012329,
          2.133031129837036,
          2.3523550033569336,
          2.3864331245422363,
          2.1128618717193604,
          2.299862861633301,
          1.980900526046753,
          2.435499429702759,
          2.3464136123657227,
          2.3559131622314453,
          2.3838133811950684,
          2.1702516078948975,
          2.4414472579956055
         ],
         "xaxis": "x",
         "y": [
          -1.191898226737976,
          -0.36235126852989197,
          -1.0086647272109985,
          -0.8409420847892761,
          -0.8807660937309265,
          -1.0890848636627197,
          -1.0367951393127441,
          -0.8601683378219604,
          -0.7584490776062012,
          -0.7208091616630554,
          -1.066982626914978,
          -1.008150577545166,
          -1.1106830835342407,
          -1.1141490936279297,
          -0.8988535404205322,
          -1.0103394985198975
         ],
         "yaxis": "y"
        },
        {
         "customdata": [
          [
           7068,
           "COc1cc2c(cc1CNCC(F)(F)c1cccnc1)OCO2",
           "ODWLANMSUKTAMB-UHFFFAOYSA-N",
           null,
           "7068",
           "base"
          ]
         ],
         "hovertemplate": "cluster=%{customdata[4]}<br>type=%{customdata[5]}<br>PC1=%{x}<br>PC2=%{y}<br>id=%{customdata[0]}<br>smiles=%{customdata[1]}<br>inchikey=%{customdata[2]}<br>bases=%{customdata[3]}<extra></extra>",
         "legendgroup": "7068, base",
         "marker": {
          "color": "#FF6692",
          "symbol": "circle"
         },
         "mode": "markers",
         "name": "7068, base",
         "orientation": "v",
         "showlegend": true,
         "type": "scatter",
         "x": [
          1.5341992378234863
         ],
         "xaxis": "x",
         "y": [
          -0.05498877167701721
         ],
         "yaxis": "y"
        },
        {
         "customdata": [
          [
           39102,
           "COc1cc2c(cc1C(O)NCC(F)(F)c1cccnc1)OCO2",
           "QVROVOFILLDPBQ-UHFFFAOYSA-N",
           [
            7068
           ],
           "7068",
           "elaboration"
          ],
          [
           39232,
           "FC(F)Oc1cc2c(cc1CNCC(F)(F)c1cccnc1)OCO2",
           "FHGPNKUOEFRZNI-UHFFFAOYSA-N",
           [
            7068
           ],
           "7068",
           "elaboration"
          ],
          [
           39346,
           "COc1cc2c(cc1CNC(=O)C(F)(F)c1ccc(Cl)nc1)OCO2",
           "IMMSBKVPIYRMHZ-UHFFFAOYSA-N",
           [
            7068
           ],
           "7068",
           "elaboration"
          ],
          [
           40167,
           "COc1cc2c(cc1C(O)NC(=O)C(F)(F)c1ccc(Cl)nc1)OCO2",
           "VRRHDIGCIQSJLS-UHFFFAOYSA-N",
           [
            7068
           ],
           "7068",
           "elaboration"
          ]
         ],
         "hovertemplate": "cluster=%{customdata[4]}<br>type=%{customdata[5]}<br>PC1=%{x}<br>PC2=%{y}<br>id=%{customdata[0]}<br>smiles=%{customdata[1]}<br>inchikey=%{customdata[2]}<br>bases=%{customdata[3]}<extra></extra>",
         "legendgroup": "7068, elaboration",
         "marker": {
          "color": "#FF6692",
          "symbol": "diamond"
         },
         "mode": "markers",
         "name": "7068, elaboration",
         "orientation": "v",
         "showlegend": true,
         "type": "scatter",
         "x": [
          1.8173984289169312,
          1.550311803817749,
          0.8338139057159424,
          1.170088768005371
         ],
         "xaxis": "x",
         "y": [
          -0.2151021659374237,
          -0.09733749181032181,
          -0.2704601287841797,
          -0.45372021198272705
         ],
         "yaxis": "y"
        },
        {
         "customdata": [
          [
           7190,
           "O=C(NCC1CCCCS1)c1cc(C2CCC2)no1",
           "CQPABNWZTLMXPK-UHFFFAOYSA-N",
           null,
           "7190",
           "base"
          ]
         ],
         "hovertemplate": "cluster=%{customdata[4]}<br>type=%{customdata[5]}<br>PC1=%{x}<br>PC2=%{y}<br>id=%{customdata[0]}<br>smiles=%{customdata[1]}<br>inchikey=%{customdata[2]}<br>bases=%{customdata[3]}<extra></extra>",
         "legendgroup": "7190, base",
         "marker": {
          "color": "#B6E880",
          "symbol": "circle"
         },
         "mode": "markers",
         "name": "7190, base",
         "orientation": "v",
         "showlegend": true,
         "type": "scatter",
         "x": [
          -1.2753769159317017
         ],
         "xaxis": "x",
         "y": [
          1.184466004371643
         ],
         "yaxis": "y"
        },
        {
         "customdata": [
          [
           16924,
           "O=C(NCC1CCCCS1(=O)=O)c1cc(C2CCC2)no1",
           "NCFPDJLFBMQEDN-UHFFFAOYSA-N",
           [
            7190
           ],
           "7190",
           "elaboration"
          ],
          [
           17117,
           "O=C(c1cc(C2CCC2)no1)N1CC2CCCS(=O)(=O)C2C1",
           "NTDABVASAIKMAP-UHFFFAOYSA-N",
           [
            7190
           ],
           "7190",
           "elaboration"
          ]
         ],
         "hovertemplate": "cluster=%{customdata[4]}<br>type=%{customdata[5]}<br>PC1=%{x}<br>PC2=%{y}<br>id=%{customdata[0]}<br>smiles=%{customdata[1]}<br>inchikey=%{customdata[2]}<br>bases=%{customdata[3]}<extra></extra>",
         "legendgroup": "7190, elaboration",
         "marker": {
          "color": "#B6E880",
          "symbol": "diamond"
         },
         "mode": "markers",
         "name": "7190, elaboration",
         "orientation": "v",
         "showlegend": true,
         "type": "scatter",
         "x": [
          -1.6044553518295288,
          -1.238838791847229
         ],
         "xaxis": "x",
         "y": [
          0.9909350275993347,
          1.0942858457565308
         ],
         "yaxis": "y"
        },
        {
         "customdata": [
          [
           7248,
           "O=C(NC(CF)C(F)(F)F)c1cc(C2CNC2)no1",
           "JHPNHSYIQHUBJI-UHFFFAOYSA-N",
           null,
           "7248",
           "base"
          ]
         ],
         "hovertemplate": "cluster=%{customdata[4]}<br>type=%{customdata[5]}<br>PC1=%{x}<br>PC2=%{y}<br>id=%{customdata[0]}<br>smiles=%{customdata[1]}<br>inchikey=%{customdata[2]}<br>bases=%{customdata[3]}<extra></extra>",
         "legendgroup": "7248, base",
         "marker": {
          "color": "#FF97FF",
          "symbol": "circle"
         },
         "mode": "markers",
         "name": "7248, base",
         "orientation": "v",
         "showlegend": true,
         "type": "scatter",
         "x": [
          -0.8857009410858154
         ],
         "xaxis": "x",
         "y": [
          1.275870442390442
         ],
         "yaxis": "y"
        },
        {
         "customdata": [
          [
           34889,
           "O=C(c1cc(C2CNC2)no1)N1CC(F)(F)C1C(F)(F)F",
           "UEBUHDWCCCWSNN-UHFFFAOYSA-N",
           [
            7248
           ],
           "7248",
           "elaboration"
          ],
          [
           34898,
           "O=C(NC(C(F)(F)F)C(F)(F)F)c1cc(C2CNC2)no1",
           "DZJVTBCEPLPLFS-UHFFFAOYSA-N",
           [
            7248
           ],
           "7248",
           "elaboration"
          ],
          [
           35184,
           "CC(C)(C)OC(=O)N1CC(c2cc(C(=O)N3CC(F)(F)C3C(F)(F)F)on2)C1",
           "WWLVOQUOHOTJAW-UHFFFAOYSA-N",
           [
            7248
           ],
           "7248",
           "elaboration"
          ],
          [
           35227,
           "CC(C)(C)OC(=O)N1CC(C)(c2cc(C(=O)N3CC(F)(F)C3C(F)(F)F)on2)C1",
           "RMRWGOFDPAQASL-UHFFFAOYSA-N",
           [
            7248
           ],
           "7248",
           "elaboration"
          ]
         ],
         "hovertemplate": "cluster=%{customdata[4]}<br>type=%{customdata[5]}<br>PC1=%{x}<br>PC2=%{y}<br>id=%{customdata[0]}<br>smiles=%{customdata[1]}<br>inchikey=%{customdata[2]}<br>bases=%{customdata[3]}<extra></extra>",
         "legendgroup": "7248, elaboration",
         "marker": {
          "color": "#FF97FF",
          "symbol": "diamond"
         },
         "mode": "markers",
         "name": "7248, elaboration",
         "orientation": "v",
         "showlegend": true,
         "type": "scatter",
         "x": [
          -1.0078861713409424,
          -0.7922513484954834,
          -1.2285796403884888,
          -1.2928879261016846
         ],
         "xaxis": "x",
         "y": [
          1.5863829851150513,
          1.252193808555603,
          1.6365957260131836,
          1.486035704612732
         ],
         "yaxis": "y"
        }
       ],
       "layout": {
        "legend": {
         "title": {
          "text": "cluster, type"
         },
         "tracegroupgap": 0
        },
        "margin": {
         "t": 60
        },
        "showlegend": false,
        "template": {
         "data": {
          "bar": [
           {
            "error_x": {
             "color": "#2a3f5f"
            },
            "error_y": {
             "color": "#2a3f5f"
            },
            "marker": {
             "line": {
              "color": "#E5ECF6",
              "width": 0.5
             },
             "pattern": {
              "fillmode": "overlay",
              "size": 10,
              "solidity": 0.2
             }
            },
            "type": "bar"
           }
          ],
          "barpolar": [
           {
            "marker": {
             "line": {
              "color": "#E5ECF6",
              "width": 0.5
             },
             "pattern": {
              "fillmode": "overlay",
              "size": 10,
              "solidity": 0.2
             }
            },
            "type": "barpolar"
           }
          ],
          "carpet": [
           {
            "aaxis": {
             "endlinecolor": "#2a3f5f",
             "gridcolor": "white",
             "linecolor": "white",
             "minorgridcolor": "white",
             "startlinecolor": "#2a3f5f"
            },
            "baxis": {
             "endlinecolor": "#2a3f5f",
             "gridcolor": "white",
             "linecolor": "white",
             "minorgridcolor": "white",
             "startlinecolor": "#2a3f5f"
            },
            "type": "carpet"
           }
          ],
          "choropleth": [
           {
            "colorbar": {
             "outlinewidth": 0,
             "ticks": ""
            },
            "type": "choropleth"
           }
          ],
          "contour": [
           {
            "colorbar": {
             "outlinewidth": 0,
             "ticks": ""
            },
            "colorscale": [
             [
              0,
              "#0d0887"
             ],
             [
              0.1111111111111111,
              "#46039f"
             ],
             [
              0.2222222222222222,
              "#7201a8"
             ],
             [
              0.3333333333333333,
              "#9c179e"
             ],
             [
              0.4444444444444444,
              "#bd3786"
             ],
             [
              0.5555555555555556,
              "#d8576b"
             ],
             [
              0.6666666666666666,
              "#ed7953"
             ],
             [
              0.7777777777777778,
              "#fb9f3a"
             ],
             [
              0.8888888888888888,
              "#fdca26"
             ],
             [
              1,
              "#f0f921"
             ]
            ],
            "type": "contour"
           }
          ],
          "contourcarpet": [
           {
            "colorbar": {
             "outlinewidth": 0,
             "ticks": ""
            },
            "type": "contourcarpet"
           }
          ],
          "heatmap": [
           {
            "colorbar": {
             "outlinewidth": 0,
             "ticks": ""
            },
            "colorscale": [
             [
              0,
              "#0d0887"
             ],
             [
              0.1111111111111111,
              "#46039f"
             ],
             [
              0.2222222222222222,
              "#7201a8"
             ],
             [
              0.3333333333333333,
              "#9c179e"
             ],
             [
              0.4444444444444444,
              "#bd3786"
             ],
             [
              0.5555555555555556,
              "#d8576b"
             ],
             [
              0.6666666666666666,
              "#ed7953"
             ],
             [
              0.7777777777777778,
              "#fb9f3a"
             ],
             [
              0.8888888888888888,
              "#fdca26"
             ],
             [
              1,
              "#f0f921"
             ]
            ],
            "type": "heatmap"
           }
          ],
          "heatmapgl": [
           {
            "colorbar": {
             "outlinewidth": 0,
             "ticks": ""
            },
            "colorscale": [
             [
              0,
              "#0d0887"
             ],
             [
              0.1111111111111111,
              "#46039f"
             ],
             [
              0.2222222222222222,
              "#7201a8"
             ],
             [
              0.3333333333333333,
              "#9c179e"
             ],
             [
              0.4444444444444444,
              "#bd3786"
             ],
             [
              0.5555555555555556,
              "#d8576b"
             ],
             [
              0.6666666666666666,
              "#ed7953"
             ],
             [
              0.7777777777777778,
              "#fb9f3a"
             ],
             [
              0.8888888888888888,
              "#fdca26"
             ],
             [
              1,
              "#f0f921"
             ]
            ],
            "type": "heatmapgl"
           }
          ],
          "histogram": [
           {
            "marker": {
             "pattern": {
              "fillmode": "overlay",
              "size": 10,
              "solidity": 0.2
             }
            },
            "type": "histogram"
           }
          ],
          "histogram2d": [
           {
            "colorbar": {
             "outlinewidth": 0,
             "ticks": ""
            },
            "colorscale": [
             [
              0,
              "#0d0887"
             ],
             [
              0.1111111111111111,
              "#46039f"
             ],
             [
              0.2222222222222222,
              "#7201a8"
             ],
             [
              0.3333333333333333,
              "#9c179e"
             ],
             [
              0.4444444444444444,
              "#bd3786"
             ],
             [
              0.5555555555555556,
              "#d8576b"
             ],
             [
              0.6666666666666666,
              "#ed7953"
             ],
             [
              0.7777777777777778,
              "#fb9f3a"
             ],
             [
              0.8888888888888888,
              "#fdca26"
             ],
             [
              1,
              "#f0f921"
             ]
            ],
            "type": "histogram2d"
           }
          ],
          "histogram2dcontour": [
           {
            "colorbar": {
             "outlinewidth": 0,
             "ticks": ""
            },
            "colorscale": [
             [
              0,
              "#0d0887"
             ],
             [
              0.1111111111111111,
              "#46039f"
             ],
             [
              0.2222222222222222,
              "#7201a8"
             ],
             [
              0.3333333333333333,
              "#9c179e"
             ],
             [
              0.4444444444444444,
              "#bd3786"
             ],
             [
              0.5555555555555556,
              "#d8576b"
             ],
             [
              0.6666666666666666,
              "#ed7953"
             ],
             [
              0.7777777777777778,
              "#fb9f3a"
             ],
             [
              0.8888888888888888,
              "#fdca26"
             ],
             [
              1,
              "#f0f921"
             ]
            ],
            "type": "histogram2dcontour"
           }
          ],
          "mesh3d": [
           {
            "colorbar": {
             "outlinewidth": 0,
             "ticks": ""
            },
            "type": "mesh3d"
           }
          ],
          "parcoords": [
           {
            "line": {
             "colorbar": {
              "outlinewidth": 0,
              "ticks": ""
             }
            },
            "type": "parcoords"
           }
          ],
          "pie": [
           {
            "automargin": true,
            "type": "pie"
           }
          ],
          "scatter": [
           {
            "fillpattern": {
             "fillmode": "overlay",
             "size": 10,
             "solidity": 0.2
            },
            "type": "scatter"
           }
          ],
          "scatter3d": [
           {
            "line": {
             "colorbar": {
              "outlinewidth": 0,
              "ticks": ""
             }
            },
            "marker": {
             "colorbar": {
              "outlinewidth": 0,
              "ticks": ""
             }
            },
            "type": "scatter3d"
           }
          ],
          "scattercarpet": [
           {
            "marker": {
             "colorbar": {
              "outlinewidth": 0,
              "ticks": ""
             }
            },
            "type": "scattercarpet"
           }
          ],
          "scattergeo": [
           {
            "marker": {
             "colorbar": {
              "outlinewidth": 0,
              "ticks": ""
             }
            },
            "type": "scattergeo"
           }
          ],
          "scattergl": [
           {
            "marker": {
             "colorbar": {
              "outlinewidth": 0,
              "ticks": ""
             }
            },
            "type": "scattergl"
           }
          ],
          "scattermapbox": [
           {
            "marker": {
             "colorbar": {
              "outlinewidth": 0,
              "ticks": ""
             }
            },
            "type": "scattermapbox"
           }
          ],
          "scatterpolar": [
           {
            "marker": {
             "colorbar": {
              "outlinewidth": 0,
              "ticks": ""
             }
            },
            "type": "scatterpolar"
           }
          ],
          "scatterpolargl": [
           {
            "marker": {
             "colorbar": {
              "outlinewidth": 0,
              "ticks": ""
             }
            },
            "type": "scatterpolargl"
           }
          ],
          "scatterternary": [
           {
            "marker": {
             "colorbar": {
              "outlinewidth": 0,
              "ticks": ""
             }
            },
            "type": "scatterternary"
           }
          ],
          "surface": [
           {
            "colorbar": {
             "outlinewidth": 0,
             "ticks": ""
            },
            "colorscale": [
             [
              0,
              "#0d0887"
             ],
             [
              0.1111111111111111,
              "#46039f"
             ],
             [
              0.2222222222222222,
              "#7201a8"
             ],
             [
              0.3333333333333333,
              "#9c179e"
             ],
             [
              0.4444444444444444,
              "#bd3786"
             ],
             [
              0.5555555555555556,
              "#d8576b"
             ],
             [
              0.6666666666666666,
              "#ed7953"
             ],
             [
              0.7777777777777778,
              "#fb9f3a"
             ],
             [
              0.8888888888888888,
              "#fdca26"
             ],
             [
              1,
              "#f0f921"
             ]
            ],
            "type": "surface"
           }
          ],
          "table": [
           {
            "cells": {
             "fill": {
              "color": "#EBF0F8"
             },
             "line": {
              "color": "white"
             }
            },
            "header": {
             "fill": {
              "color": "#C8D4E3"
             },
             "line": {
              "color": "white"
             }
            },
            "type": "table"
           }
          ]
         },
         "layout": {
          "annotationdefaults": {
           "arrowcolor": "#2a3f5f",
           "arrowhead": 0,
           "arrowwidth": 1
          },
          "autotypenumbers": "strict",
          "coloraxis": {
           "colorbar": {
            "outlinewidth": 0,
            "ticks": ""
           }
          },
          "colorscale": {
           "diverging": [
            [
             0,
             "#8e0152"
            ],
            [
             0.1,
             "#c51b7d"
            ],
            [
             0.2,
             "#de77ae"
            ],
            [
             0.3,
             "#f1b6da"
            ],
            [
             0.4,
             "#fde0ef"
            ],
            [
             0.5,
             "#f7f7f7"
            ],
            [
             0.6,
             "#e6f5d0"
            ],
            [
             0.7,
             "#b8e186"
            ],
            [
             0.8,
             "#7fbc41"
            ],
            [
             0.9,
             "#4d9221"
            ],
            [
             1,
             "#276419"
            ]
           ],
           "sequential": [
            [
             0,
             "#0d0887"
            ],
            [
             0.1111111111111111,
             "#46039f"
            ],
            [
             0.2222222222222222,
             "#7201a8"
            ],
            [
             0.3333333333333333,
             "#9c179e"
            ],
            [
             0.4444444444444444,
             "#bd3786"
            ],
            [
             0.5555555555555556,
             "#d8576b"
            ],
            [
             0.6666666666666666,
             "#ed7953"
            ],
            [
             0.7777777777777778,
             "#fb9f3a"
            ],
            [
             0.8888888888888888,
             "#fdca26"
            ],
            [
             1,
             "#f0f921"
            ]
           ],
           "sequentialminus": [
            [
             0,
             "#0d0887"
            ],
            [
             0.1111111111111111,
             "#46039f"
            ],
            [
             0.2222222222222222,
             "#7201a8"
            ],
            [
             0.3333333333333333,
             "#9c179e"
            ],
            [
             0.4444444444444444,
             "#bd3786"
            ],
            [
             0.5555555555555556,
             "#d8576b"
            ],
            [
             0.6666666666666666,
             "#ed7953"
            ],
            [
             0.7777777777777778,
             "#fb9f3a"
            ],
            [
             0.8888888888888888,
             "#fdca26"
            ],
            [
             1,
             "#f0f921"
            ]
           ]
          },
          "colorway": [
           "#636efa",
           "#EF553B",
           "#00cc96",
           "#ab63fa",
           "#FFA15A",
           "#19d3f3",
           "#FF6692",
           "#B6E880",
           "#FF97FF",
           "#FECB52"
          ],
          "font": {
           "color": "#2a3f5f"
          },
          "geo": {
           "bgcolor": "white",
           "lakecolor": "white",
           "landcolor": "#E5ECF6",
           "showlakes": true,
           "showland": true,
           "subunitcolor": "white"
          },
          "hoverlabel": {
           "align": "left"
          },
          "hovermode": "closest",
          "mapbox": {
           "style": "light"
          },
          "paper_bgcolor": "white",
          "plot_bgcolor": "#E5ECF6",
          "polar": {
           "angularaxis": {
            "gridcolor": "white",
            "linecolor": "white",
            "ticks": ""
           },
           "bgcolor": "#E5ECF6",
           "radialaxis": {
            "gridcolor": "white",
            "linecolor": "white",
            "ticks": ""
           }
          },
          "scene": {
           "xaxis": {
            "backgroundcolor": "#E5ECF6",
            "gridcolor": "white",
            "gridwidth": 2,
            "linecolor": "white",
            "showbackground": true,
            "ticks": "",
            "zerolinecolor": "white"
           },
           "yaxis": {
            "backgroundcolor": "#E5ECF6",
            "gridcolor": "white",
            "gridwidth": 2,
            "linecolor": "white",
            "showbackground": true,
            "ticks": "",
            "zerolinecolor": "white"
           },
           "zaxis": {
            "backgroundcolor": "#E5ECF6",
            "gridcolor": "white",
            "gridwidth": 2,
            "linecolor": "white",
            "showbackground": true,
            "ticks": "",
            "zerolinecolor": "white"
           }
          },
          "shapedefaults": {
           "line": {
            "color": "#2a3f5f"
           }
          },
          "ternary": {
           "aaxis": {
            "gridcolor": "white",
            "linecolor": "white",
            "ticks": ""
           },
           "baxis": {
            "gridcolor": "white",
            "linecolor": "white",
            "ticks": ""
           },
           "bgcolor": "#E5ECF6",
           "caxis": {
            "gridcolor": "white",
            "linecolor": "white",
            "ticks": ""
           }
          },
          "title": {
           "x": 0.05
          },
          "xaxis": {
           "automargin": true,
           "gridcolor": "white",
           "linecolor": "white",
           "ticks": "",
           "title": {
            "standoff": 15
           },
           "zerolinecolor": "white",
           "zerolinewidth": 2
          },
          "yaxis": {
           "automargin": true,
           "gridcolor": "white",
           "linecolor": "white",
           "ticks": "",
           "title": {
            "standoff": 15
           },
           "zerolinecolor": "white",
           "zerolinewidth": 2
          }
         }
        },
        "title": {
         "text": "{C × 274} PCA<br><br><sup><i>#compounds=274</i></sup>"
        },
        "xaxis": {
         "anchor": "y",
         "domain": [
          0,
          1
         ],
         "title": {
          "text": "PC1"
         }
        },
        "yaxis": {
         "anchor": "x",
         "domain": [
          0,
          1
         ],
         "title": {
          "text": "PC2"
         }
        }
       }
      },
      "image/png": "[encoded data removed]",
      "text/html": [
       "<div>                            <div id=\"2d0362fe-db89-4c0f-9256-84a4926506bc\" class=\"plotly-graph-div\" style=\"height:525px; width:100%;\"></div>            <script type=\"text/javascript\">                require([\"plotly\"], function(Plotly) {                    window.PLOTLYENV=window.PLOTLYENV || {};                                    if (document.getElementById(\"2d0362fe-db89-4c0f-9256-84a4926506bc\")) {                    Plotly.newPlot(                        \"2d0362fe-db89-4c0f-9256-84a4926506bc\",                        [{\"customdata\":[[2022,\"COc1cc(CNC(C)Cc2ccno2)cc2c1OCO2\",\"ZBTYMXBQBXMSMR-UHFFFAOYSA-N\",null,\"2022\",\"base\"]],\"hovertemplate\":\"cluster=%{customdata[4]}\\u003cbr\\u003etype=%{customdata[5]}\\u003cbr\\u003ePC1=%{x}\\u003cbr\\u003ePC2=%{y}\\u003cbr\\u003eid=%{customdata[0]}\\u003cbr\\u003esmiles=%{customdata[1]}\\u003cbr\\u003einchikey=%{customdata[2]}\\u003cbr\\u003ebases=%{customdata[3]}\\u003cextra\\u003e\\u003c\\u002fextra\\u003e\",\"legendgroup\":\"2022, base\",\"marker\":{\"color\":\"#636efa\",\"symbol\":\"circle\"},\"mode\":\"markers\",\"name\":\"2022, base\",\"orientation\":\"v\",\"showlegend\":true,\"x\":[1.1693782806396484],\"xaxis\":\"x\",\"y\":[-0.1341717392206192],\"yaxis\":\"y\",\"type\":\"scatter\"},{\"customdata\":[[18171,\"COc1cc(C(O)NC(C)Cc2ccno2)cc2c1OCO2\",\"IVBFZPWESONDIQ-UHFFFAOYSA-N\",[2022],\"2022\",\"elaboration\"],[18331,\"COc1cc(CNC(Cc2ccno2)C(=O)O)cc2c1OCO2\",\"TYUGKPCIZQEPKZ-UHFFFAOYSA-N\",[2022],\"2022\",\"elaboration\"],[18557,\"COc1cc(C(O)NC(Cc2ccno2)C(=O)O)cc2c1OCO2\",\"PVZIWXKFZYMVMM-UHFFFAOYSA-N\",[2022],\"2022\",\"elaboration\"]],\"hovertemplate\":\"cluster=%{customdata[4]}\\u003cbr\\u003etype=%{customdata[5]}\\u003cbr\\u003ePC1=%{x}\\u003cbr\\u003ePC2=%{y}\\u003cbr\\u003eid=%{customdata[0]}\\u003cbr\\u003esmiles=%{customdata[1]}\\u003cbr\\u003einchikey=%{customdata[2]}\\u003cbr\\u003ebases=%{customdata[3]}\\u003cextra\\u003e\\u003c\\u002fextra\\u003e\",\"legendgroup\":\"2022, elaboration\",\"marker\":{\"color\":\"#636efa\",\"symbol\":\"diamond\"},\"mode\":\"markers\",\"name\":\"2022, elaboration\",\"orientation\":\"v\",\"showlegend\":true,\"x\":[1.560657024383545,1.202006459236145,1.6056243181228638],\"xaxis\":\"x\",\"y\":[-0.30036959052085876,-0.09706391394138336,-0.24223317205905914],\"yaxis\":\"y\",\"type\":\"scatter\"},{\"customdata\":[[2134,\"OC(CNCc1ccon1)COCc1ccc2c(c1)OCO2\",\"HJCSXYYFDUKRNW-UHFFFAOYSA-N\",null,\"2134\",\"base\"]],\"hovertemplate\":\"cluster=%{customdata[4]}\\u003cbr\\u003etype=%{customdata[5]}\\u003cbr\\u003ePC1=%{x}\\u003cbr\\u003ePC2=%{y}\\u003cbr\\u003eid=%{customdata[0]}\\u003cbr\\u003esmiles=%{customdata[1]}\\u003cbr\\u003einchikey=%{customdata[2]}\\u003cbr\\u003ebases=%{customdata[3]}\\u003cextra\\u003e\\u003c\\u002fextra\\u003e\",\"legendgroup\":\"2134, base\",\"marker\":{\"color\":\"#EF553B\",\"symbol\":\"circle\"},\"mode\":\"markers\",\"name\":\"2134, base\",\"orientation\":\"v\",\"showlegend\":true,\"x\":[3.335728168487549],\"xaxis\":\"x\",\"y\":[0.4066959321498871],\"yaxis\":\"y\",\"type\":\"scatter\"},{\"customdata\":[[52128,\"OC(CNCc1cc(Br)on1)COCc1ccc2c(c1)OCO2\",\"GFWFAFQXARBMKL-UHFFFAOYSA-N\",[2134],\"2134\",\"elaboration\"],[52131,\"OC(CNCc1nocc1Cl)COCc1ccc2c(c1)OCO2\",\"YYVICCQJLNSPQK-UHFFFAOYSA-N\",[2134],\"2134\",\"elaboration\"],[52132,\"OC(CNCc1nocc1Br)COCc1ccc2c(c1)OCO2\",\"UKFIJTXHPCHVDG-UHFFFAOYSA-N\",[2134],\"2134\",\"elaboration\"],[52133,\"CC(NCC(O)COCc1ccc2c(c1)OCO2)c1ccon1\",\"YXMDQVLZRLJCAL-UHFFFAOYSA-N\",[2134],\"2134\",\"elaboration\"],[52137,\"Cc1cc(CNCC(O)COCc2ccc3c(c2)OCO3)no1\",\"OSCQBHCTNFVIHM-UHFFFAOYSA-N\",[2134],\"2134\",\"elaboration\"],[52140,\"O=C(NCC(O)COCc1ccc2c(c1)OCO2)c1ccon1\",\"YPEKLCQXTRQGEO-UHFFFAOYSA-N\",[2134],\"2134\",\"elaboration\"],[52141,\"N=C(NCC(O)COCc1ccc2c(c1)OCO2)c1ccon1\",\"OOQXBBZICHWXDU-UHFFFAOYSA-N\",[2134],\"2134\",\"elaboration\"],[52142,\"Cc1conc1CNCC(O)COCc1ccc2c(c1)OCO2\",\"GNCDHLXVDGYKNW-UHFFFAOYSA-N\",[2134],\"2134\",\"elaboration\"],[52170,\"Cc1cc(C(=O)NCC(O)COCc2ccc3c(c2)OCO3)no1\",\"NASKTKQHQZNUMF-UHFFFAOYSA-N\",[2134],\"2134\",\"elaboration\"],[52171,\"CCc1cc(CNCC(O)COCc2ccc3c(c2)OCO3)no1\",\"ZGQDKDSTWVTGIX-UHFFFAOYSA-N\",[2134],\"2134\",\"elaboration\"],[52173,\"Cc1cc(C(C)NCC(O)COCc2ccc3c(c2)OCO3)no1\",\"ZONCKRDSKJHXML-UHFFFAOYSA-N\",[2134],\"2134\",\"elaboration\"],[52179,\"NN(CC(O)COCc1ccc2c(c1)OCO2)C(=O)c1ccon1\",\"FWCHWYKZNVZJSQ-UHFFFAOYSA-N\",[2134],\"2134\",\"elaboration\"],[52184,\"Cc1cc(C(=S)NCC(O)COCc2ccc3c(c2)OCO3)no1\",\"JQUMRGRIZXEWQJ-UHFFFAOYSA-N\",[2134],\"2134\",\"elaboration\"],[52191,\"Cc1onc(CNCC(O)COCc2ccc3c(c2)OCO3)c1Br\",\"NGUWBBCBHBPXGR-UHFFFAOYSA-N\",[2134],\"2134\",\"elaboration\"],[52192,\"CC(C)(NCC(O)COCc1ccc2c(c1)OCO2)c1ccon1\",\"ROGIYJWVQDNUHM-UHFFFAOYSA-N\",[2134],\"2134\",\"elaboration\"],[52204,\"CCc1conc1CNCC(O)COCc1ccc2c(c1)OCO2\",\"XBHAIJHUGXLEAJ-UHFFFAOYSA-N\",[2134],\"2134\",\"elaboration\"],[52206,\"OCc1cc(CNCC(O)COCc2ccc3c(c2)OCO3)no1\",\"NIIZYAOPGZWXFG-UHFFFAOYSA-N\",[2134],\"2134\",\"elaboration\"],[52327,\"OC(CNCc1cc(C2CC2)on1)COCc1ccc2c(c1)OCO2\",\"FKKIYKBSFHZELP-UHFFFAOYSA-N\",[2134],\"2134\",\"elaboration\"],[52359,\"OC(CNCc1noc2c1CCC2)COCc1ccc2c(c1)OCO2\",\"BXGRPGAJSDDHQT-UHFFFAOYSA-N\",[2134],\"2134\",\"elaboration\"],[52376,\"CC(C)c1cc(CNCC(O)COCc2ccc3c(c2)OCO3)no1\",\"WZERGSBAUXZWNO-UHFFFAOYSA-N\",[2134],\"2134\",\"elaboration\"],[52382,\"Cc1cc(C(=O)N(N)CC(O)COCc2ccc3c(c2)OCO3)no1\",\"DQVWWFMRHDAAKM-UHFFFAOYSA-N\",[2134],\"2134\",\"elaboration\"],[52399,\"CC(C)c1conc1CNCC(O)COCc1ccc2c(c1)OCO2\",\"ACEJOIDWBUABKD-UHFFFAOYSA-N\",[2134],\"2134\",\"elaboration\"],[52406,\"O=C(O)c1conc1CNCC(O)COCc1ccc2c(c1)OCO2\",\"JXMXKEILSHWVSK-UHFFFAOYSA-N\",[2134],\"2134\",\"elaboration\"],[52410,\"COCc1cc(CNCC(O)COCc2ccc3c(c2)OCO3)no1\",\"XHILQPOZQCELRU-UHFFFAOYSA-N\",[2134],\"2134\",\"elaboration\"],[52412,\"OC(CNCc1cc(C(F)F)on1)COCc1ccc2c(c1)OCO2\",\"XYHSQAQIBMQZTH-UHFFFAOYSA-N\",[2134],\"2134\",\"elaboration\"],[52416,\"O=C(O)c1cc(CNCC(O)COCc2ccc3c(c2)OCO3)no1\",\"FRVPWMJJDNPQPH-UHFFFAOYSA-N\",[2134],\"2134\",\"elaboration\"],[52763,\"COC(=O)c1conc1CNCC(O)COCc1ccc2c(c1)OCO2\",\"PIDJZEYHNBKPHV-UHFFFAOYSA-N\",[2134],\"2134\",\"elaboration\"],[52764,\"CC(C)(NCC(O)COCc1ccc2c(c1)OCO2)c1cc(CO)on1\",\"NMTBOFYUHPEFJN-UHFFFAOYSA-N\",[2134],\"2134\",\"elaboration\"],[52765,\"CC(F)(F)c1cc(CNCC(O)COCc2ccc3c(c2)OCO3)no1\",\"XULAPSJJOGAXAD-UHFFFAOYSA-N\",[2134],\"2134\",\"elaboration\"],[52769,\"OC(CNCc1cc(C(F)(F)F)on1)COCc1ccc2c(c1)OCO2\",\"NDURFNWHAWMNJN-UHFFFAOYSA-N\",[2134],\"2134\",\"elaboration\"],[52771,\"CC(C)Cc1cc(CNCC(O)COCc2ccc3c(c2)OCO3)no1\",\"AJSUYBZEJJYGCZ-UHFFFAOYSA-N\",[2134],\"2134\",\"elaboration\"],[52776,\"COC(=O)c1cc(CNCC(O)COCc2ccc3c(c2)OCO3)no1\",\"GDZCMGGHURUEEE-UHFFFAOYSA-N\",[2134],\"2134\",\"elaboration\"],[52781,\"COCc1cc(C(=O)NCC(O)COCc2ccc3c(c2)OCO3)no1\",\"ZBNMXRUHQWFAKI-UHFFFAOYSA-N\",[2134],\"2134\",\"elaboration\"],[52785,\"[N-]=[N+]=NCc1cc(CNCC(O)COCc2ccc3c(c2)OCO3)no1\",\"MDTLUAWJUVRGSV-UHFFFAOYSA-N\",[2134],\"2134\",\"elaboration\"],[52787,\"CC(C)(C)c1conc1CNCC(O)COCc1ccc2c(c1)OCO2\",\"UFGXJFSXJRTXOK-UHFFFAOYSA-N\",[2134],\"2134\",\"elaboration\"],[52795,\"[N-]=[N+]=NCc1cc(CNCC(O)COCc2ccc3c(c2)OCO3)on1\",\"NEMRHPKZQFNURV-UHFFFAOYSA-N\",[2134],\"2134\",\"elaboration\"],[52800,\"OC(CNCc1cc(CC2CC2)on1)COCc1ccc2c(c1)OCO2\",\"IMVQJIVKGXHKAV-UHFFFAOYSA-N\",[2134],\"2134\",\"elaboration\"],[52806,\"OC(CNCc1noc2c1COCC2)COCc1ccc2c(c1)OCO2\",\"HKCWSSAWZOMABC-UHFFFAOYSA-N\",[2134],\"2134\",\"elaboration\"],[52809,\"OC(CNCc1noc2ccccc12)COCc1ccc2c(c1)OCO2\",\"JMLHMPZULOJANB-UHFFFAOYSA-N\",[2134],\"2134\",\"elaboration\"],[52810,\"OC(CNCc1noc2c1CCCC2)COCc1ccc2c(c1)OCO2\",\"DBBFULBMZPOILQ-UHFFFAOYSA-N\",[2134],\"2134\",\"elaboration\"],[52813,\"CC(C)(C)c1cc(CNCC(O)COCc2ccc3c(c2)OCO3)no1\",\"SNOYWNZDPXYZTG-UHFFFAOYSA-N\",[2134],\"2134\",\"elaboration\"],[52814,\"O=C(NCC(O)COCc1ccc2c(c1)OCO2)c1cc(C(=O)O)on1\",\"CNRDWCOQJNHRAG-UHFFFAOYSA-N\",[2134],\"2134\",\"elaboration\"],[52816,\"CC(NCC(O)COCc1ccc2c(c1)OCO2)c1nocc1C(=O)O\",\"WKTYSNGYVJNUGB-UHFFFAOYSA-N\",[2134],\"2134\",\"elaboration\"],[52819,\"O=C(NCC(O)COCc1ccc2c(c1)OCO2)c1cc(C2CC2)on1\",\"ZCILEOZSYIHPNN-UHFFFAOYSA-N\",[2134],\"2134\",\"elaboration\"],[53172,\"CC(C)(NCC(O)COCc1ccc2c(c1)OCO2)c1cc(C(F)F)on1\",\"WQRBOLVFKYKQHV-UHFFFAOYSA-N\",[2134],\"2134\",\"elaboration\"],[53182,\"OC(CNCc1cc(-c2ccco2)on1)COCc1ccc2c(c1)OCO2\",\"CMKJBIDKCFEUJX-UHFFFAOYSA-N\",[2134],\"2134\",\"elaboration\"],[53185,\"OC(CNCc1cc(C2CCCC2)on1)COCc1ccc2c(c1)OCO2\",\"YCLPYXBRTLECDO-UHFFFAOYSA-N\",[2134],\"2134\",\"elaboration\"],[53188,\"CC(C)(NCC(O)COCc1ccc2c(c1)OCO2)c1nocc1C(=O)O\",\"MZLBQPTUCXFKIV-UHFFFAOYSA-N\",[2134],\"2134\",\"elaboration\"],[53194,\"NS(=O)(=O)c1cc(C(=O)NCC(O)COCc2ccc3c(c2)OCO3)no1\",\"GOBIZMXFRILIEJ-UHFFFAOYSA-N\",[2134],\"2134\",\"elaboration\"],[53197,\"CC(C)(NCC(O)COCc1ccc2c(c1)OCO2)c1cc(C(=O)O)on1\",\"AUMBHWKSRLTLQN-UHFFFAOYSA-N\",[2134],\"2134\",\"elaboration\"],[53203,\"Cc1cc(C(NCC(O)COCc2ccc3c(c2)OCO3)C(F)(F)F)no1\",\"WJVWIAHAYJEZLT-UHFFFAOYSA-N\",[2134],\"2134\",\"elaboration\"],[53210,\"OC(CNCc1cc(-c2cccs2)on1)COCc1ccc2c(c1)OCO2\",\"XEZYJZVYECBKNC-UHFFFAOYSA-N\",[2134],\"2134\",\"elaboration\"],[53234,\"OC(CNCc1noc2cc(F)ccc12)COCc1ccc2c(c1)OCO2\",\"YSSXKQABABRQOV-UHFFFAOYSA-N\",[2134],\"2134\",\"elaboration\"],[53235,\"ON=C(NCC(O)COCc1ccc2c(c1)OCO2)c1cc(C2CC2)on1\",\"ZKRCANBCERNKGL-UHFFFAOYSA-N\",[2134],\"2134\",\"elaboration\"],[53238,\"OC(CNCc1cc(-c2ccoc2)on1)COCc1ccc2c(c1)OCO2\",\"MUMXQHDJYXUPPN-UHFFFAOYSA-N\",[2134],\"2134\",\"elaboration\"],[53240,\"OC(CNCc1noc2ccc(F)cc12)COCc1ccc2c(c1)OCO2\",\"RMMBGNQHPUKMIR-UHFFFAOYSA-N\",[2134],\"2134\",\"elaboration\"],[53242,\"OC(CNCc1noc2c1CCCCC2)COCc1ccc2c(c1)OCO2\",\"NEEAAPDZDWJCPX-UHFFFAOYSA-N\",[2134],\"2134\",\"elaboration\"],[53252,\"CC1CCc2onc(CNCC(O)COCc3ccc4c(c3)OCO4)c2C1\",\"FORKVXASPOHOMM-UHFFFAOYSA-N\",[2134],\"2134\",\"elaboration\"],[53271,\"CCOC(=O)c1conc1CNCC(O)COCc1ccc2c(c1)OCO2\",\"BBFAOIHLDWUGME-UHFFFAOYSA-N\",[2134],\"2134\",\"elaboration\"]],\"hovertemplate\":\"cluster=%{customdata[4]}\\u003cbr\\u003etype=%{customdata[5]}\\u003cbr\\u003ePC1=%{x}\\u003cbr\\u003ePC2=%{y}\\u003cbr\\u003eid=%{customdata[0]}\\u003cbr\\u003esmiles=%{customdata[1]}\\u003cbr\\u003einchikey=%{customdata[2]}\\u003cbr\\u003ebases=%{customdata[3]}\\u003cextra\\u003e\\u003c\\u002fextra\\u003e\",\"legendgroup\":\"2134, elaboration\",\"marker\":{\"color\":\"#EF553B\",\"symbol\":\"diamond\"},\"mode\":\"markers\",\"name\":\"2134, elaboration\",\"orientation\":\"v\",\"showlegend\":true,\"x\":[3.2611615657806396,3.3164896965026855,3.3164896965026855,2.991010904312134,3.239412546157837,1.9293792247772217,2.5726077556610107,3.367762804031372,1.8330638408660889,3.183382034301758,2.894695520401001,2.3325629234313965,2.4470837116241455,3.2338707447052,2.9906303882598877,3.3197450637817383,3.2384796142578125,2.9836158752441406,3.129336357116699,3.119781255722046,2.2362477779388428,3.2542715072631836,3.2291576862335205,3.2080559730529785,3.1719651222229004,3.1793463230133057,3.348510503768921,2.982478141784668,3.1465532779693604,3.1897099018096924,3.0628254413604736,3.2084810733795166,1.8017076253890991,3.0831141471862793,3.275787115097046,2.9131951332092285,2.863156795501709,3.307361125946045,3.073749542236328,3.1273128986358643,3.151247978210449,1.874172568321228,2.9194350242614746,1.5772677659988403,2.8268678188323975,3.3304741382598877,2.823216199874878,2.924464225769043,1.8057621717453003,2.8342487812042236,2.9237842559814453,3.3304741382598877,3.1250393390655518,2.199537992477417,3.3113315105438232,3.1250393390655518,2.9669132232666016,2.9605202674865723,3.2703745365142822],\"xaxis\":\"x\",\"y\":[0.44527241587638855,0.40623635053634644,0.40623635053634644,0.24862873554229736,0.6328753232955933,0.09400641173124313,-0.14533011615276337,0.3429733216762543,0.3201853334903717,0.626252293586731,0.4748077690601349,-0.009439202025532722,0.0729086771607399,0.6307520270347595,0.2269899845123291,0.3353632390499115,0.6070441007614136,0.7812783122062683,0.6403861045837402,0.7104504108428955,0.2167396992444992,0.422276109457016,0.4378143846988678,0.6786174774169922,0.7428238987922668,0.5148437023162842,0.2829136252403259,0.46599236130714417,0.7208284139633179,0.7538146376609802,0.7007094621658325,0.5695118308067322,0.36592748761177063,0.6951419711112976,0.36245694756507874,0.6066627502441406,0.8334382772445679,0.604550302028656,-0.028553860262036324,0.6434687376022339,0.6369341611862183,0.1798737347126007,0.3126526176929474,0.46858856081962585,0.5631175637245178,0.3961270749568939,0.796806812286377,0.289914071559906,0.33048301935195923,0.33513757586479187,0.6252269148826599,0.3961270749568939,-0.0047423867508769035,0.19833265244960785,0.36487895250320435,-0.0047423867508769035,0.6589971780776978,0.6947723627090454,0.19753718376159668],\"yaxis\":\"y\",\"type\":\"scatter\"},{\"customdata\":[[2845,\"O=C(NCCc1ccno1)C1CCN(c2cc(=O)[nH]cn2)CC1\",\"HCYWIZPHWLZGBJ-UHFFFAOYSA-N\",null,\"2845\",\"base\"]],\"hovertemplate\":\"cluster=%{customdata[4]}\\u003cbr\\u003etype=%{customdata[5]}\\u003cbr\\u003ePC1=%{x}\\u003cbr\\u003ePC2=%{y}\\u003cbr\\u003eid=%{customdata[0]}\\u003cbr\\u003esmiles=%{customdata[1]}\\u003cbr\\u003einchikey=%{customdata[2]}\\u003cbr\\u003ebases=%{customdata[3]}\\u003cextra\\u003e\\u003c\\u002fextra\\u003e\",\"legendgroup\":\"2845, base\",\"marker\":{\"color\":\"#00cc96\",\"symbol\":\"circle\"},\"mode\":\"markers\",\"name\":\"2845, base\",\"orientation\":\"v\",\"showlegend\":true,\"x\":[-1.2263504266738892],\"xaxis\":\"x\",\"y\":[0.13888761401176453],\"yaxis\":\"y\",\"type\":\"scatter\"},{\"customdata\":[[21569,\"CC(Cc1ccno1)NC(=O)C1CCN(c2cc(=O)[nH]cn2)CC1\",\"YUPCSPONIWJXDG-UHFFFAOYSA-N\",[2845],\"2845\",\"elaboration\"],[21573,\"O=C(NCCc1cc(=O)[nH]o1)C1CCN(c2cc(=O)[nH]cn2)CC1\",\"FIXGUODFRKSCGK-UHFFFAOYSA-N\",[2845],\"2845\",\"elaboration\"],[21575,\"Cc1cc(CCNC(=O)C2CCN(c3cc(=O)[nH]cn3)CC2)on1\",\"JNVBKCUXWUSIBK-UHFFFAOYSA-N\",[2845],\"2845\",\"elaboration\"],[21581,\"O=C(NCCc1cc(Br)no1)C1CCN(c2cc(=O)[nH]cn2)CC1\",\"WNUGIRPQRJWHHM-UHFFFAOYSA-N\",[2845],\"2845\",\"elaboration\"],[21843,\"O=C(C1CCN(c2cc(=O)[nH]cn2)CC1)N1CCC(c2ccno2)C1\",\"HUZIGXAYLCXCDF-UHFFFAOYSA-N\",[2845],\"2845\",\"elaboration\"],[21844,\"O=C(C1CCN(c2cc(=O)[nH]cn2)CC1)N1CCc2onc(O)c2C1\",\"GBNXZNANYCPBIQ-UHFFFAOYSA-N\",[2845],\"2845\",\"elaboration\"],[21868,\"CCc1cc(CCNC(=O)C2CCN(c3cc(=O)[nH]cn3)CC2)on1\",\"OQONDSIPEMTPGN-UHFFFAOYSA-N\",[2845],\"2845\",\"elaboration\"]],\"hovertemplate\":\"cluster=%{customdata[4]}\\u003cbr\\u003etype=%{customdata[5]}\\u003cbr\\u003ePC1=%{x}\\u003cbr\\u003ePC2=%{y}\\u003cbr\\u003eid=%{customdata[0]}\\u003cbr\\u003esmiles=%{customdata[1]}\\u003cbr\\u003einchikey=%{customdata[2]}\\u003cbr\\u003ebases=%{customdata[3]}\\u003cextra\\u003e\\u003c\\u002fextra\\u003e\",\"legendgroup\":\"2845, elaboration\",\"marker\":{\"color\":\"#00cc96\",\"symbol\":\"diamond\"},\"mode\":\"markers\",\"name\":\"2845, elaboration\",\"orientation\":\"v\",\"showlegend\":true,\"x\":[-1.2443349361419678,-1.4100165367126465,-1.352452039718628,-1.3609142303466797,-1.1447651386260986,-0.8476447463035583,-1.4223978519439697],\"xaxis\":\"x\",\"y\":[0.07699816673994064,-0.1074182465672493,0.7873864769935608,0.22018471360206604,0.25549426674842834,0.2755992114543915,0.7338904142379761],\"yaxis\":\"y\",\"type\":\"scatter\"},{\"customdata\":[[3233,\"CS(=O)(=O)CCCCCNC(=O)c1cc(CN2CCCCC2)on1\",\"AQKDVGWHSYNMMI-UHFFFAOYSA-N\",null,\"3233\",\"base\"]],\"hovertemplate\":\"cluster=%{customdata[4]}\\u003cbr\\u003etype=%{customdata[5]}\\u003cbr\\u003ePC1=%{x}\\u003cbr\\u003ePC2=%{y}\\u003cbr\\u003eid=%{customdata[0]}\\u003cbr\\u003esmiles=%{customdata[1]}\\u003cbr\\u003einchikey=%{customdata[2]}\\u003cbr\\u003ebases=%{customdata[3]}\\u003cextra\\u003e\\u003c\\u002fextra\\u003e\",\"legendgroup\":\"3233, base\",\"marker\":{\"color\":\"#ab63fa\",\"symbol\":\"circle\"},\"mode\":\"markers\",\"name\":\"3233, base\",\"orientation\":\"v\",\"showlegend\":true,\"x\":[-2.6022419929504395],\"xaxis\":\"x\",\"y\":[0.8339642286300659],\"yaxis\":\"y\",\"type\":\"scatter\"},{\"customdata\":[[28825,\"O=C(c1cc(CN2CCCCC2)on1)N1CCC2CS(=O)(=O)CC21\",\"LQTGAVIRZZOVGO-UHFFFAOYSA-N\",[3233],\"3233\",\"elaboration\"],[28826,\"O=C(NCC12CC1CS(=O)(=O)C2)c1cc(CN2CCCCC2)on1\",\"QYSRMTIQRZROKG-UHFFFAOYSA-N\",[3233],\"3233\",\"elaboration\"],[28830,\"O=C(c1cc(CN2CCCCC2)on1)N1C2CCC1CS(=O)(=O)C2\",\"ZXGMKLJJGIIODC-UHFFFAOYSA-N\",[3233],\"3233\",\"elaboration\"],[28833,\"O=C(c1cc(CN2CCCCC2)on1)N1CCC12CCS(=O)(=O)C2\",\"ISWIILXWOROIIX-UHFFFAOYSA-N\",[3233],\"3233\",\"elaboration\"],[28835,\"O=C(c1cc(CN2CCCCC2)on1)N1CC2CC1CS(=O)(=O)C2\",\"UNXBWAMOYBLEKD-UHFFFAOYSA-N\",[3233],\"3233\",\"elaboration\"],[28840,\"O=C(NCCC1CCS(=O)(=O)C1)c1cc(CN2CCCCC2)on1\",\"XJNULZKASYUAOQ-UHFFFAOYSA-N\",[3233],\"3233\",\"elaboration\"],[28841,\"O=C(NCC1CCCS(=O)(=O)C1)c1cc(CN2CCCCC2)on1\",\"MTUZGXZGYCTZOZ-UHFFFAOYSA-N\",[3233],\"3233\",\"elaboration\"],[28844,\"CS(=O)(=O)CC1CCCN1C(=O)c1cc(CN2CCCCC2)on1\",\"WFDQVHVETDCJPX-UHFFFAOYSA-N\",[3233],\"3233\",\"elaboration\"],[28845,\"CS(=O)(=O)CCC1CCN1C(=O)c1cc(CN2CCCCC2)on1\",\"PFLDFSLDUWNQFY-UHFFFAOYSA-N\",[3233],\"3233\",\"elaboration\"],[28849,\"CS(=O)(=O)CC1CCC1NC(=O)c1cc(CN2CCCCC2)on1\",\"QYIPDJMTYCTKFB-UHFFFAOYSA-N\",[3233],\"3233\",\"elaboration\"],[28851,\"CS(=O)(=O)C1CCCC1NC(=O)c1cc(CN2CCCCC2)on1\",\"OZOGMJSGBWYBAX-UHFFFAOYSA-N\",[3233],\"3233\",\"elaboration\"]],\"hovertemplate\":\"cluster=%{customdata[4]}\\u003cbr\\u003etype=%{customdata[5]}\\u003cbr\\u003ePC1=%{x}\\u003cbr\\u003ePC2=%{y}\\u003cbr\\u003eid=%{customdata[0]}\\u003cbr\\u003esmiles=%{customdata[1]}\\u003cbr\\u003einchikey=%{customdata[2]}\\u003cbr\\u003ebases=%{customdata[3]}\\u003cextra\\u003e\\u003c\\u002fextra\\u003e\",\"legendgroup\":\"3233, elaboration\",\"marker\":{\"color\":\"#ab63fa\",\"symbol\":\"diamond\"},\"mode\":\"markers\",\"name\":\"3233, elaboration\",\"orientation\":\"v\",\"showlegend\":true,\"x\":[-2.3419573307037354,-2.4552547931671143,-2.3274929523468018,-2.3239328861236572,-2.302485704421997,-2.7243361473083496,-2.719921112060547,-2.391777753829956,-2.391777753829956,-2.7474114894866943,-2.4944615364074707],\"xaxis\":\"x\",\"y\":[0.9473700523376465,0.9476290941238403,0.9264412522315979,0.9755637049674988,0.8927088379859924,0.9907919764518738,0.9818232655525208,0.9152670502662659,0.9152670502662659,0.8643831610679626,0.8479890823364258],\"yaxis\":\"y\",\"type\":\"scatter\"},{\"customdata\":[[3254,\"COCCN(C)CCCNC(=O)c1cc(CN2CCCCC2)on1\",\"FTXYGSXUURDKCD-UHFFFAOYSA-N\",null,\"3254\",\"base\"]],\"hovertemplate\":\"cluster=%{customdata[4]}\\u003cbr\\u003etype=%{customdata[5]}\\u003cbr\\u003ePC1=%{x}\\u003cbr\\u003ePC2=%{y}\\u003cbr\\u003eid=%{customdata[0]}\\u003cbr\\u003esmiles=%{customdata[1]}\\u003cbr\\u003einchikey=%{customdata[2]}\\u003cbr\\u003ebases=%{customdata[3]}\\u003cextra\\u003e\\u003c\\u002fextra\\u003e\",\"legendgroup\":\"3254, base\",\"marker\":{\"color\":\"#FFA15A\",\"symbol\":\"circle\"},\"mode\":\"markers\",\"name\":\"3254, base\",\"orientation\":\"v\",\"showlegend\":true,\"x\":[-2.3154149055480957],\"xaxis\":\"x\",\"y\":[1.05935800075531],\"yaxis\":\"y\",\"type\":\"scatter\"},{\"customdata\":[[13310,\"O=C(NC1CC1N1CCOCC1)c1cc(CN2CCCCC2)on1\",\"KKECSMHUQGIVOT-UHFFFAOYSA-N\",[3254],\"3254\",\"elaboration\"],[13312,\"O=C(NC1CCN(C2COC2)C1)c1cc(CN2CCCCC2)on1\",\"SXORLJMZHDMEID-UHFFFAOYSA-N\",[3254],\"3254\",\"elaboration\"],[13321,\"O=C(NCC1CN(C2COC2)C1)c1cc(CN2CCCCC2)on1\",\"WJOXKRWQHHLJAZ-UHFFFAOYSA-N\",[3254],\"3254\",\"elaboration\"],[13324,\"COCCN1CCC(NC(=O)c2cc(CN3CCCCC3)on2)C1\",\"VCUAXASQGBCQBJ-UHFFFAOYSA-N\",[3254],\"3254\",\"elaboration\"],[13328,\"O=C(NCCCN1CCOCC1)c1cc(CN2CCCCC2)on1\",\"AIPQMSPSDXFFBB-UHFFFAOYSA-N\",[3254],\"3254\",\"elaboration\"],[13987,\"O=C(NCCCN1CCCOCC1)c1cc(CN2CCCCC2)on1\",\"DKKVUQMAPQYOOL-UHFFFAOYSA-N\",[3254],\"3254\",\"elaboration\"],[13988,\"O=C(NCC(O)CN1CCOCC1)c1cc(CN2CCCCC2)on1\",\"UAVBEODVPOAYFV-UHFFFAOYSA-N\",[3254],\"3254\",\"elaboration\"],[13992,\"COCCN1CCC(CNC(=O)c2cc(CN3CCCCC3)on2)C1\",\"VJWAJVDJKRUCBM-UHFFFAOYSA-N\",[3254],\"3254\",\"elaboration\"],[13993,\"O=C(NCCC(=O)N1CCOCC1)c1cc(CN2CCCCC2)on1\",\"ZGCWZJOJNMLXDF-UHFFFAOYSA-N\",[3254],\"3254\",\"elaboration\"],[13995,\"COCCN1CCCN(C(=O)c2cc(CN3CCCCC3)on2)CC1\",\"DOXSZVZMPMFNKM-UHFFFAOYSA-N\",[3254],\"3254\",\"elaboration\"],[14051,\"CC(CCN1CCOCC1)NC(=O)c1cc(CN2CCCCC2)on1\",\"HKSGSOQBGLONQI-UHFFFAOYSA-N\",[3254],\"3254\",\"elaboration\"],[14066,\"CN(CCCN1CCOCC1)C(=O)c1cc(CN2CCCCC2)on1\",\"TYJSRXAARYJPHU-UHFFFAOYSA-N\",[3254],\"3254\",\"elaboration\"],[14067,\"CN1CCCN(C(=O)c2cc(CN3CCCCC3)on2)CCOCC1\",\"MJPOULWVLLRQJQ-UHFFFAOYSA-N\",[3254],\"3254\",\"elaboration\"],[14080,\"COCC(=O)N1CC(CNC(=O)c2cc(CN3CCCCC3)on2)C1\",\"SAYQKQCCLGMMOF-UHFFFAOYSA-N\",[3254],\"3254\",\"elaboration\"],[14082,\"COCCN1CCC(NC(=O)c2cc(CN3CCCCC3)on2)CC1\",\"FSARTZOWQGORGS-UHFFFAOYSA-N\",[3254],\"3254\",\"elaboration\"],[14083,\"CC(CCNC(=O)c1cc(CN2CCCCC2)on1)N1CCOCC1\",\"SMTDFQSJFPVIEF-UHFFFAOYSA-N\",[3254],\"3254\",\"elaboration\"],[14088,\"CC(CNC(=O)c1cc(CN2CCCCC2)on1)CN1CCOCC1\",\"PKAPNVAXJXQXDM-UHFFFAOYSA-N\",[3254],\"3254\",\"elaboration\"],[14237,\"O=C(c1cc(CN2CCCCC2)on1)N1CC(CN2CCOCC2)C1\",\"LMBQRJAXCDRWTO-UHFFFAOYSA-N\",[3254],\"3254\",\"elaboration\"],[14240,\"O=C(c1cc(CN2CCCCC2)on1)N1CCCN(C2COC2)CC1\",\"BNSLHHYCAGBPSU-UHFFFAOYSA-N\",[3254],\"3254\",\"elaboration\"],[14248,\"O=C1CCN(C(=O)c2cc(CN3CCCCC3)on2)C2COCCN12\",\"KGBMGVXGPGYMEQ-UHFFFAOYSA-N\",[3254],\"3254\",\"elaboration\"],[14249,\"CN(C(=O)c1cc(CN2CCCCC2)on1)C1CCN2CCOC1C2\",\"CYQJPOWEXUHRJC-UHFFFAOYSA-N\",[3254],\"3254\",\"elaboration\"],[14250,\"O=C(c1cc(CN2CCCCC2)on1)N1CCC(N2CCOCC2)C1\",\"ODLRRJBKNQYOHH-UHFFFAOYSA-N\",[3254],\"3254\",\"elaboration\"],[14251,\"O=C(NC1CC(N2CCOCC2)C1)c1cc(CN2CCCCC2)on1\",\"JUKXPTFESKKXBU-UHFFFAOYSA-N\",[3254],\"3254\",\"elaboration\"]],\"hovertemplate\":\"cluster=%{customdata[4]}\\u003cbr\\u003etype=%{customdata[5]}\\u003cbr\\u003ePC1=%{x}\\u003cbr\\u003ePC2=%{y}\\u003cbr\\u003eid=%{customdata[0]}\\u003cbr\\u003esmiles=%{customdata[1]}\\u003cbr\\u003einchikey=%{customdata[2]}\\u003cbr\\u003ebases=%{customdata[3]}\\u003cextra\\u003e\\u003c\\u002fextra\\u003e\",\"legendgroup\":\"3254, elaboration\",\"marker\":{\"color\":\"#FFA15A\",\"symbol\":\"diamond\"},\"mode\":\"markers\",\"name\":\"3254, elaboration\",\"orientation\":\"v\",\"showlegend\":true,\"x\":[-2.423588514328003,-2.3879876136779785,-2.556551218032837,-2.3599371910095215,-2.3881301879882812,-2.412853956222534,-1.7874752283096313,-2.5506420135498047,-2.492020606994629,-2.2377824783325195,-2.39363694190979,-2.215066432952881,-2.170397996902466,-2.49037766456604,-2.359647512435913,-2.492318630218506,-2.5693345069885254,-2.1766340732574463,-2.2658329010009766,-2.1669273376464844,-2.2500381469726562,-2.3074350357055664,-2.4493823051452637],\"xaxis\":\"x\",\"y\":[0.7848914861679077,0.8356119990348816,0.9894148111343384,1.0574921369552612,1.08892023563385,1.1465399265289307,0.8923106789588928,1.1499401330947876,1.2142871618270874,1.1717610359191895,0.97556072473526,1.1390587091445923,1.1780116558074951,1.2171446084976196,1.0290251970291138,0.8613954186439514,1.137178897857666,1.1257333755493164,0.9498811960220337,1.1943585872650146,1.0742225646972656,0.8647471070289612,0.6882258057594299],\"yaxis\":\"y\",\"type\":\"scatter\"},{\"customdata\":[[3264,\"O=C(NCCOC(F)F)c1cc(CN2CCCCC2)on1\",\"LBXRJYKIHOQRLN-UHFFFAOYSA-N\",null,\"3264\",\"base\"]],\"hovertemplate\":\"cluster=%{customdata[4]}\\u003cbr\\u003etype=%{customdata[5]}\\u003cbr\\u003ePC1=%{x}\\u003cbr\\u003ePC2=%{y}\\u003cbr\\u003eid=%{customdata[0]}\\u003cbr\\u003esmiles=%{customdata[1]}\\u003cbr\\u003einchikey=%{customdata[2]}\\u003cbr\\u003ebases=%{customdata[3]}\\u003cextra\\u003e\\u003c\\u002fextra\\u003e\",\"legendgroup\":\"3264, base\",\"marker\":{\"color\":\"#19d3f3\",\"symbol\":\"circle\"},\"mode\":\"markers\",\"name\":\"3264, base\",\"orientation\":\"v\",\"showlegend\":true,\"x\":[-2.3528923988342285],\"xaxis\":\"x\",\"y\":[1.1482560634613037],\"yaxis\":\"y\",\"type\":\"scatter\"},{\"customdata\":[[29847,\"CC(CNC(=O)c1cc(CN2CCCCC2)on1)OC(F)F\",\"YVCCKHFHRXNLIT-UHFFFAOYSA-N\",[3264],\"3264\",\"elaboration\"],[29856,\"CN(CCOC(F)F)C(=O)c1cc(CN2CCCCC2)on1\",\"JKHPYAUOXCKQIQ-UHFFFAOYSA-N\",[3264],\"3264\",\"elaboration\"],[29865,\"O=C(NCCOC(F)(F)F)c1cc(CN2CCCCC2)on1\",\"GDZQOVOGAZBATI-UHFFFAOYSA-N\",[3264],\"3264\",\"elaboration\"],[29898,\"O=C(c1cc(CN2CCCCC2)on1)N1CCOC(F)(F)C1\",\"ANSSRBXCJLVZPC-UHFFFAOYSA-N\",[3264],\"3264\",\"elaboration\"],[29903,\"CC(COC(F)F)NC(=O)c1cc(CN2CCCCC2)on1\",\"ZUONHPVKZAIBHU-UHFFFAOYSA-N\",[3264],\"3264\",\"elaboration\"],[29906,\"O=C(c1cc(CN2CCCCC2)on1)N1CC(OC(F)F)C1\",\"GCQUHNDOIMHJOP-UHFFFAOYSA-N\",[3264],\"3264\",\"elaboration\"],[30330,\"O=C(c1cc(CN2CCCCC2)on1)N1CCC1COC(F)F\",\"ZZEDDDDMFIEEFC-UHFFFAOYSA-N\",[3264],\"3264\",\"elaboration\"],[30333,\"O=C(NCCOC(F)(F)CBr)c1cc(CN2CCCCC2)on1\",\"WSFNUFNDAYIJHT-UHFFFAOYSA-N\",[3264],\"3264\",\"elaboration\"],[30334,\"CC(C)(CNC(=O)c1cc(CN2CCCCC2)on1)OC(F)F\",\"OQZXEKKPMHGRKU-UHFFFAOYSA-N\",[3264],\"3264\",\"elaboration\"],[30342,\"O=C(c1cc(CN2CCCCC2)on1)N1CC(OC(F)(F)F)C1\",\"ZXFCUYQDIXQXJE-UHFFFAOYSA-N\",[3264],\"3264\",\"elaboration\"],[30346,\"CC(F)(F)OC1CN(C(=O)c2cc(CN3CCCCC3)on2)C1\",\"NABOOFYDXXNFHG-UHFFFAOYSA-N\",[3264],\"3264\",\"elaboration\"],[30351,\"CC(CNC(=O)c1cc(CN2CCCCC2)on1)OC(F)(F)F\",\"SMTZPAJFKKLVMW-UHFFFAOYSA-N\",[3264],\"3264\",\"elaboration\"],[30352,\"CN(CCOC(F)(F)F)C(=O)c1cc(CN2CCCCC2)on1\",\"YIIMXKPQLXDOSY-UHFFFAOYSA-N\",[3264],\"3264\",\"elaboration\"],[30364,\"O=C(NC(CO)COC(F)F)c1cc(CN2CCCCC2)on1\",\"KMLXQOXXNXLZKV-UHFFFAOYSA-N\",[3264],\"3264\",\"elaboration\"],[30365,\"O=C(c1cc(CN2CCCCC2)on1)N1CCC(OC(F)F)C1\",\"SXOQDCUCEVLWCF-UHFFFAOYSA-N\",[3264],\"3264\",\"elaboration\"],[30367,\"CC1(OC(F)F)CN(C(=O)c2cc(CN3CCCCC3)on2)C1\",\"SSNLCAJGLGZWBC-UHFFFAOYSA-N\",[3264],\"3264\",\"elaboration\"],[30383,\"CC(COC(F)(F)F)NC(=O)c1cc(CN2CCCCC2)on1\",\"POWZVKFROKQQBU-UHFFFAOYSA-N\",[3264],\"3264\",\"elaboration\"],[30388,\"CC1COC(F)(F)CN1C(=O)c1cc(CN2CCCCC2)on1\",\"LPMKRVKMAVAUDN-UHFFFAOYSA-N\",[3264],\"3264\",\"elaboration\"],[30390,\"CC1CN(C(=O)c2cc(CN3CCCCC3)on2)CC(F)(F)O1\",\"RBYKXGPIHJWGHT-UHFFFAOYSA-N\",[3264],\"3264\",\"elaboration\"]],\"hovertemplate\":\"cluster=%{customdata[4]}\\u003cbr\\u003etype=%{customdata[5]}\\u003cbr\\u003ePC1=%{x}\\u003cbr\\u003ePC2=%{y}\\u003cbr\\u003eid=%{customdata[0]}\\u003cbr\\u003esmiles=%{customdata[1]}\\u003cbr\\u003einchikey=%{customdata[2]}\\u003cbr\\u003ebases=%{customdata[3]}\\u003cextra\\u003e\\u003c\\u002fextra\\u003e\",\"legendgroup\":\"3264, elaboration\",\"marker\":{\"color\":\"#19d3f3\",\"symbol\":\"diamond\"},\"mode\":\"markers\",\"name\":\"3264, elaboration\",\"orientation\":\"v\",\"showlegend\":true,\"x\":[-2.5605571269989014,-2.1879286766052246,-2.3262174129486084,-2.168210744857788,-2.372225284576416,-2.300173282623291,-2.052868604660034,-2.340108633041382,-2.5357413291931152,-2.299619197845459,-2.324127435684204,-2.560002326965332,-2.1612532138824463,-1.9147849082946777,-2.3513996601104736,-2.2969861030578613,-2.345550537109375,-2.1498990058898926,-2.3294260501861572],\"xaxis\":\"x\",\"y\":[1.114928960800171,1.2395014762878418,1.169039249420166,1.2654004096984863,1.0520514249801636,1.1899558305740356,1.3270330429077148,1.1333194971084595,1.0430288314819336,1.2279001474380493,1.1342735290527344,1.1528737545013428,1.2602850198745728,1.0413745641708374,1.2545701265335083,1.1320666074752808,1.0728352069854736,1.181638479232788,1.16705322265625],\"yaxis\":\"y\",\"type\":\"scatter\"},{\"customdata\":[[3360,\"c1nc2n(n1)CCN(Cc1cc(C3CCNCC3)no1)C2\",\"XRJYMIJOWMWRJH-UHFFFAOYSA-N\",null,\"3360\",\"base\"]],\"hovertemplate\":\"cluster=%{customdata[4]}\\u003cbr\\u003etype=%{customdata[5]}\\u003cbr\\u003ePC1=%{x}\\u003cbr\\u003ePC2=%{y}\\u003cbr\\u003eid=%{customdata[0]}\\u003cbr\\u003esmiles=%{customdata[1]}\\u003cbr\\u003einchikey=%{customdata[2]}\\u003cbr\\u003ebases=%{customdata[3]}\\u003cextra\\u003e\\u003c\\u002fextra\\u003e\",\"legendgroup\":\"3360, base\",\"marker\":{\"color\":\"#FF6692\",\"symbol\":\"circle\"},\"mode\":\"markers\",\"name\":\"3360, base\",\"orientation\":\"v\",\"showlegend\":true,\"x\":[-0.8405396938323975],\"xaxis\":\"x\",\"y\":[1.17299222946167],\"yaxis\":\"y\",\"type\":\"scatter\"},{\"customdata\":[[46911,\"Brc1nc2n(n1)CCN(Cc1cc(C3CCNCC3)no1)C2\",\"MSNXJTHVVDQZPU-UHFFFAOYSA-N\",[3360],\"3360\",\"elaboration\"],[46914,\"Cc1nc2n(n1)CCN(Cc1cc(C3CCNCC3)no1)C2\",\"PYCFTXFHGVQTKC-UHFFFAOYSA-N\",[3360],\"3360\",\"elaboration\"],[47483,\"CC(C)(C)OC(=O)N1CCC(c2cc(CN3CCn4ncnc4C3)on2)CC1\",\"BWYZVNWGWGVPCJ-UHFFFAOYSA-N\",[3360],\"3360\",\"elaboration\"],[47527,\"CC(C)(C)OC(=O)N1CCC(c2cc(CN3CCn4nc(Br)nc4C3)on2)CC1\",\"REVQLPSRBZYWEK-UHFFFAOYSA-N\",[3360],\"3360\",\"elaboration\"],[47529,\"Cc1nc2n(n1)CCN(Cc1cc(C3CCN(C(=O)OC(C)(C)C)CC3)no1)C2\",\"AJPCXRMAZIBIMQ-UHFFFAOYSA-N\",[3360],\"3360\",\"elaboration\"]],\"hovertemplate\":\"cluster=%{customdata[4]}\\u003cbr\\u003etype=%{customdata[5]}\\u003cbr\\u003ePC1=%{x}\\u003cbr\\u003ePC2=%{y}\\u003cbr\\u003eid=%{customdata[0]}\\u003cbr\\u003esmiles=%{customdata[1]}\\u003cbr\\u003einchikey=%{customdata[2]}\\u003cbr\\u003ebases=%{customdata[3]}\\u003cextra\\u003e\\u003c\\u002fextra\\u003e\",\"legendgroup\":\"3360, elaboration\",\"marker\":{\"color\":\"#FF6692\",\"symbol\":\"diamond\"},\"mode\":\"markers\",\"name\":\"3360, elaboration\",\"orientation\":\"v\",\"showlegend\":true,\"x\":[-1.0171442031860352,-1.0063652992248535,-1.2673393487930298,-1.5347187519073486,-1.5239399671554565],\"xaxis\":\"x\",\"y\":[1.2239595651626587,1.1651471853256226,1.5003677606582642,1.412716031074524,1.3539034128189087],\"yaxis\":\"y\",\"type\":\"scatter\"},{\"customdata\":[[3996,\"O=C(CCc1ccc2c(c1)OCCO2)OCCSCc1ccno1\",\"FIUPIBHCUISCGY-UHFFFAOYSA-N\",null,\"3996\",\"base\"]],\"hovertemplate\":\"cluster=%{customdata[4]}\\u003cbr\\u003etype=%{customdata[5]}\\u003cbr\\u003ePC1=%{x}\\u003cbr\\u003ePC2=%{y}\\u003cbr\\u003eid=%{customdata[0]}\\u003cbr\\u003esmiles=%{customdata[1]}\\u003cbr\\u003einchikey=%{customdata[2]}\\u003cbr\\u003ebases=%{customdata[3]}\\u003cextra\\u003e\\u003c\\u002fextra\\u003e\",\"legendgroup\":\"3996, base\",\"marker\":{\"color\":\"#B6E880\",\"symbol\":\"circle\"},\"mode\":\"markers\",\"name\":\"3996, base\",\"orientation\":\"v\",\"showlegend\":true,\"x\":[1.008845329284668],\"xaxis\":\"x\",\"y\":[0.06896272301673889],\"yaxis\":\"y\",\"type\":\"scatter\"},{\"customdata\":[[35523,\"CC(CC(=O)OCCSCc1ccno1)c1ccc2c(c1)OCCO2\",\"KGYFXDLSHZSPMC-UHFFFAOYSA-N\",[3996],\"3996\",\"elaboration\"],[35531,\"O=C(OCCSCc1ccno1)C1CC1c1ccc2c(c1)OCCO2\",\"IQEBODGTOZVVFT-UHFFFAOYSA-N\",[3996],\"3996\",\"elaboration\"]],\"hovertemplate\":\"cluster=%{customdata[4]}\\u003cbr\\u003etype=%{customdata[5]}\\u003cbr\\u003ePC1=%{x}\\u003cbr\\u003ePC2=%{y}\\u003cbr\\u003eid=%{customdata[0]}\\u003cbr\\u003esmiles=%{customdata[1]}\\u003cbr\\u003einchikey=%{customdata[2]}\\u003cbr\\u003ebases=%{customdata[3]}\\u003cextra\\u003e\\u003c\\u002fextra\\u003e\",\"legendgroup\":\"3996, elaboration\",\"marker\":{\"color\":\"#B6E880\",\"symbol\":\"diamond\"},\"mode\":\"markers\",\"name\":\"3996, elaboration\",\"orientation\":\"v\",\"showlegend\":true,\"x\":[0.8548142910003662,0.751964807510376],\"xaxis\":\"x\",\"y\":[0.060074582695961,0.24366293847560883],\"yaxis\":\"y\",\"type\":\"scatter\"},{\"customdata\":[[5315,\"COC(CNC(=O)c1cc(C2CNC2)no1)C1CCC1\",\"MRUVLVYVOKTPDH-UHFFFAOYSA-N\",null,\"5315\",\"base\"]],\"hovertemplate\":\"cluster=%{customdata[4]}\\u003cbr\\u003etype=%{customdata[5]}\\u003cbr\\u003ePC1=%{x}\\u003cbr\\u003ePC2=%{y}\\u003cbr\\u003eid=%{customdata[0]}\\u003cbr\\u003esmiles=%{customdata[1]}\\u003cbr\\u003einchikey=%{customdata[2]}\\u003cbr\\u003ebases=%{customdata[3]}\\u003cextra\\u003e\\u003c\\u002fextra\\u003e\",\"legendgroup\":\"5315, base\",\"marker\":{\"color\":\"#FF97FF\",\"symbol\":\"circle\"},\"mode\":\"markers\",\"name\":\"5315, base\",\"orientation\":\"v\",\"showlegend\":true,\"x\":[-1.4077812433242798],\"xaxis\":\"x\",\"y\":[1.6316299438476562],\"yaxis\":\"y\",\"type\":\"scatter\"},{\"customdata\":[[44464,\"COC1C(NC(=O)c2cc(C3CNC3)no2)CC12CCC2\",\"MVTRYMVXMCNLRI-UHFFFAOYSA-N\",[5315],\"5315\",\"elaboration\"],[44475,\"COC1CN(C(=O)c2cc(C3CNC3)no2)CC12CCC2\",\"HDSYLMIPKZKPFI-UHFFFAOYSA-N\",[5315],\"5315\",\"elaboration\"],[44476,\"O=C(c1cc(C2CNC2)no1)N1CCOC(C2CCC2)C1\",\"CLBARKQARCKERQ-UHFFFAOYSA-N\",[5315],\"5315\",\"elaboration\"],[44478,\"COC(CN(C)C(=O)c1cc(C2CNC2)no1)C1CCC1\",\"DNFXUUQPZNRUNL-UHFFFAOYSA-N\",[5315],\"5315\",\"elaboration\"],[44479,\"CCOC(CNC(=O)c1cc(C2CNC2)no1)C1CCC1\",\"LGHYVNLTRSIHMH-UHFFFAOYSA-N\",[5315],\"5315\",\"elaboration\"],[44538,\"O=C(c1cc(C2CNC2)no1)N1CCCOC(C2CCC2)C1\",\"IMJYIMSJZRFXLC-UHFFFAOYSA-N\",[5315],\"5315\",\"elaboration\"],[44543,\"COC1C(NC(=O)c2cc(C3CNC3)no2)COC12CCC2\",\"HIVCNNYWYQUFBR-UHFFFAOYSA-N\",[5315],\"5315\",\"elaboration\"],[44545,\"COC(CNC(=O)c1cc(C2CNC2)no1)C1CC(C)(C)C1\",\"AAYKTAVLJVPOBW-UHFFFAOYSA-N\",[5315],\"5315\",\"elaboration\"],[44557,\"COC(CNC(=O)c1cc(C2CNC2)no1)C1CC(F)(F)C1\",\"RDJSTSMBPDAGRL-UHFFFAOYSA-N\",[5315],\"5315\",\"elaboration\"],[44564,\"O=C(NCC1OCCOC12CCC2)c1cc(C2CNC2)no1\",\"HXGYKGWSICOSKC-UHFFFAOYSA-N\",[5315],\"5315\",\"elaboration\"],[44807,\"CCOC(CNC(=O)c1cc(C2CNC2)no1)C1CC(F)(F)C1\",\"RELARXCEEVSFBF-UHFFFAOYSA-N\",[5315],\"5315\",\"elaboration\"],[44815,\"O=C(c1cc(C2CNC2)no1)N1CCOC(C2CC(F)(F)C2)C1\",\"FJQZCROGNCUTMU-UHFFFAOYSA-N\",[5315],\"5315\",\"elaboration\"],[44816,\"O=C1NC2(CCC2)C2(CN(C(=O)c3cc(C4CNC4)no3)C2)O1\",\"ARGXNJJDOCLHIS-UHFFFAOYSA-N\",[5315],\"5315\",\"elaboration\"],[45425,\"O=C(NC1CC2(CCC2)C1OCc1ccccc1)c1cc(C2CNC2)no1\",\"LAOUUGJFHOKPPR-UHFFFAOYSA-N\",[5315],\"5315\",\"elaboration\"],[45511,\"CC(C)(C)OC(=O)N1CC(c2cc(C(=O)N3CCOC(C4CCC4)C3)on2)C1\",\"TXLMGYHTQQIPHD-UHFFFAOYSA-N\",[5315],\"5315\",\"elaboration\"],[45518,\"COC1CN(C(=O)c2cc(C3CN(C(=O)OC(C)(C)C)C3)no2)CC12CCC2\",\"WPEVDPCATHFEDA-UHFFFAOYSA-N\",[5315],\"5315\",\"elaboration\"],[45521,\"COC1C(NC(=O)c2cc(C3CN(C(=O)OC(C)(C)C)C3)no2)CC12CCC2\",\"ATHKOTGESWBYPH-UHFFFAOYSA-N\",[5315],\"5315\",\"elaboration\"]],\"hovertemplate\":\"cluster=%{customdata[4]}\\u003cbr\\u003etype=%{customdata[5]}\\u003cbr\\u003ePC1=%{x}\\u003cbr\\u003ePC2=%{y}\\u003cbr\\u003eid=%{customdata[0]}\\u003cbr\\u003esmiles=%{customdata[1]}\\u003cbr\\u003einchikey=%{customdata[2]}\\u003cbr\\u003ebases=%{customdata[3]}\\u003cextra\\u003e\\u003c\\u002fextra\\u003e\",\"legendgroup\":\"5315, elaboration\",\"marker\":{\"color\":\"#FF97FF\",\"symbol\":\"diamond\"},\"mode\":\"markers\",\"name\":\"5315, elaboration\",\"orientation\":\"v\",\"showlegend\":true,\"x\":[-1.1955217123031616,-0.9860544204711914,-0.9910857677459717,-1.0611953735351562,-1.3493735790252686,-0.964472770690918,-1.101034164428711,-1.2380486726760864,-1.228897213935852,-1.1329258680343628,-1.1704894304275513,-0.8122015595436096,-1.223620891571045,-0.6457905769348145,-1.2919729948043823,-1.286941647529602,-1.6203986406326294],\"xaxis\":\"x\",\"y\":[1.45169198513031,1.742576003074646,1.8913249969482422,1.7141095399856567,1.676398754119873,1.857550859451294,1.5572881698608398,1.5615097284317017,1.7120190858840942,1.6354823112487793,1.7567880153656006,1.9717143774032593,1.4644526243209839,1.1592673063278198,1.8242108821868896,1.6754615306854248,1.4553196430206299],\"yaxis\":\"y\",\"type\":\"scatter\"},{\"customdata\":[[5316,\"COCC(NC(=O)c1cc(C2CNC2)no1)c1nnn[nH]1\",\"SOJYOVUYESCPEI-UHFFFAOYSA-N\",null,\"5316\",\"base\"]],\"hovertemplate\":\"cluster=%{customdata[4]}\\u003cbr\\u003etype=%{customdata[5]}\\u003cbr\\u003ePC1=%{x}\\u003cbr\\u003ePC2=%{y}\\u003cbr\\u003eid=%{customdata[0]}\\u003cbr\\u003esmiles=%{customdata[1]}\\u003cbr\\u003einchikey=%{customdata[2]}\\u003cbr\\u003ebases=%{customdata[3]}\\u003cextra\\u003e\\u003c\\u002fextra\\u003e\",\"legendgroup\":\"5316, base\",\"marker\":{\"color\":\"#FECB52\",\"symbol\":\"circle\"},\"mode\":\"markers\",\"name\":\"5316, base\",\"orientation\":\"v\",\"showlegend\":true,\"x\":[-0.6352342367172241],\"xaxis\":\"x\",\"y\":[1.3446528911590576],\"yaxis\":\"y\",\"type\":\"scatter\"},{\"customdata\":[[41135,\"O=C(NC1(c2nnn[nH]2)CCOC1)c1cc(C2CNC2)no1\",\"DBRGZBNZYZSGJJ-UHFFFAOYSA-N\",[5316],\"5316\",\"elaboration\"],[41137,\"O=C(c1cc(C2CNC2)no1)N1CCOCC1c1nnn[nH]1\",\"KJHGXHQIIPGVGN-UHFFFAOYSA-N\",[5316],\"5316\",\"elaboration\"],[41158,\"CCOC(=O)C(NC(=O)c1cc(C2CNC2)no1)c1nnn[nH]1\",\"LEERKNDKMYRCGR-UHFFFAOYSA-N\",[5316],\"5316\",\"elaboration\"],[41225,\"COCC(NC(=O)c1cc(C2CN(C(=O)OC(C)(C)C)C2)no1)c1nnn[nH]1\",\"WAQUXYVLROBQJD-UHFFFAOYSA-N\",[5316],\"5316\",\"elaboration\"],[41233,\"COCC(NC(=O)c1cc(C2(C)CN(C(=O)OC(C)(C)C)C2)no1)c1nnn[nH]1\",\"VJZOMMUKSBSWLU-UHFFFAOYSA-N\",[5316],\"5316\",\"elaboration\"],[41255,\"CC(C)(C)OC(=O)N1CC(c2cc(C(=O)NC3(c4nnn[nH]4)CCOC3)on2)C1\",\"CBBJFZIOFYYWGG-UHFFFAOYSA-N\",[5316],\"5316\",\"elaboration\"],[41257,\"CC(C)(C)OC(=O)N1CC(c2cc(C(=O)N3CCOCC3c3nnn[nH]3)on2)C1\",\"YHEOPLAROLPSHW-UHFFFAOYSA-N\",[5316],\"5316\",\"elaboration\"],[41286,\"CCOC(=O)C(NC(=O)c1cc(C2CN(C(=O)OC(C)(C)C)C2)no1)c1nnn[nH]1\",\"TUWBOOLPMTVJEX-UHFFFAOYSA-N\",[5316],\"5316\",\"elaboration\"],[41305,\"CC(C)(C)OC(=O)N1CC(C)(c2cc(C(=O)NC3(c4nnn[nH]4)CCOC3)on2)C1\",\"BWDGQPXXHYUINP-UHFFFAOYSA-N\",[5316],\"5316\",\"elaboration\"],[41308,\"CC(C)(C)OC(=O)N1CC(C)(c2cc(C(=O)N3CCOCC3c3nnn[nH]3)on2)C1\",\"QBGMUOFVQKKKTI-UHFFFAOYSA-N\",[5316],\"5316\",\"elaboration\"],[41391,\"CCOC(=O)C(NC(=O)c1cc(C2(C)CN(C(=O)OC(C)(C)C)C2)no1)c1nnn[nH]1\",\"CRMRVZUSLYAKBI-UHFFFAOYSA-N\",[5316],\"5316\",\"elaboration\"]],\"hovertemplate\":\"cluster=%{customdata[4]}\\u003cbr\\u003etype=%{customdata[5]}\\u003cbr\\u003ePC1=%{x}\\u003cbr\\u003ePC2=%{y}\\u003cbr\\u003eid=%{customdata[0]}\\u003cbr\\u003esmiles=%{customdata[1]}\\u003cbr\\u003einchikey=%{customdata[2]}\\u003cbr\\u003ebases=%{customdata[3]}\\u003cextra\\u003e\\u003c\\u002fextra\\u003e\",\"legendgroup\":\"5316, elaboration\",\"marker\":{\"color\":\"#FECB52\",\"symbol\":\"diamond\"},\"mode\":\"markers\",\"name\":\"5316, elaboration\",\"orientation\":\"v\",\"showlegend\":true,\"x\":[-0.9612261652946472,-0.7826170921325684,-0.6449915170669556,-1.1575955152511597,-1.1996294260025024,-1.295328140258789,-0.9927295446395874,-1.091475486755371,-1.3373618125915527,-1.095934510231018,-1.1335092782974243],\"xaxis\":\"x\",\"y\":[1.5109410285949707,1.6424660682678223,1.5723713636398315,1.5138617753982544,1.4992499351501465,1.653187870979309,1.71397066116333,1.697740912437439,1.6385765075683594,1.6528618335723877,1.6831297874450684],\"yaxis\":\"y\",\"type\":\"scatter\"},{\"customdata\":[[5327,\"O=C(NCC(O)COCC1CC1)c1cc(C2CNC2)no1\",\"MPKNORZLORHROU-UHFFFAOYSA-N\",null,\"5327\",\"base\"]],\"hovertemplate\":\"cluster=%{customdata[4]}\\u003cbr\\u003etype=%{customdata[5]}\\u003cbr\\u003ePC1=%{x}\\u003cbr\\u003ePC2=%{y}\\u003cbr\\u003eid=%{customdata[0]}\\u003cbr\\u003esmiles=%{customdata[1]}\\u003cbr\\u003einchikey=%{customdata[2]}\\u003cbr\\u003ebases=%{customdata[3]}\\u003cextra\\u003e\\u003c\\u002fextra\\u003e\",\"legendgroup\":\"5327, base\",\"marker\":{\"color\":\"#636efa\",\"symbol\":\"circle\"},\"mode\":\"markers\",\"name\":\"5327, base\",\"orientation\":\"v\",\"showlegend\":true,\"x\":[-0.43198999762535095],\"xaxis\":\"x\",\"y\":[1.4558320045471191],\"yaxis\":\"y\",\"type\":\"scatter\"},{\"customdata\":[[45963,\"O=C(c1cc(C2CNC2)no1)N1CCOC(COCC2CC2)C1\",\"PLIILKANTWBTLQ-UHFFFAOYSA-N\",[5327],\"5327\",\"elaboration\"],[46078,\"CC(C)(C)OC(=O)N1CC(c2cc(C(=O)NCC(O)COCC3CC3)on2)C1\",\"ZVGVIBCCBHCABT-UHFFFAOYSA-N\",[5327],\"5327\",\"elaboration\"],[46139,\"CC(C)(C)OC(=O)N1CC(C)(c2cc(C(=O)NCC(O)COCC3CC3)on2)C1\",\"CYOSXZCJOWYTSG-UHFFFAOYSA-N\",[5327],\"5327\",\"elaboration\"],[46425,\"CC(C)(C)OC(=O)N1CC(c2cc(C(=O)N3CCOC(COCC4CC4)C3)on2)C1\",\"SPMDDLYHSMLEQA-UHFFFAOYSA-N\",[5327],\"5327\",\"elaboration\"],[46532,\"CC(C)(C)OC(=O)N1CC(C)(c2cc(C(=O)N3CCOC(COCC4CC4)C3)on2)C1\",\"VAFQBCAFDTUBBR-UHFFFAOYSA-N\",[5327],\"5327\",\"elaboration\"]],\"hovertemplate\":\"cluster=%{customdata[4]}\\u003cbr\\u003etype=%{customdata[5]}\\u003cbr\\u003ePC1=%{x}\\u003cbr\\u003ePC2=%{y}\\u003cbr\\u003eid=%{customdata[0]}\\u003cbr\\u003esmiles=%{customdata[1]}\\u003cbr\\u003einchikey=%{customdata[2]}\\u003cbr\\u003ebases=%{customdata[3]}\\u003cextra\\u003e\\u003c\\u002fextra\\u003e\",\"legendgroup\":\"5327, elaboration\",\"marker\":{\"color\":\"#636efa\",\"symbol\":\"diamond\"},\"mode\":\"markers\",\"name\":\"5327, elaboration\",\"orientation\":\"v\",\"showlegend\":true,\"x\":[-0.8069141507148743,-0.7328775525093079,-0.7749114036560059,-1.1078014373779297,-1.1721097230911255],\"xaxis\":\"x\",\"y\":[1.8071916103363037,1.3887174129486084,1.3741055727005005,1.740077018737793,1.5895174741744995],\"yaxis\":\"y\",\"type\":\"scatter\"},{\"customdata\":[[5856,\"CC(CNC(=O)c1ccc2ccn(C)c2c1)N1CCCCC1\",\"GWPDEXDIWDHEPZ-UHFFFAOYSA-N\",null,\"5856\",\"base\"]],\"hovertemplate\":\"cluster=%{customdata[4]}\\u003cbr\\u003etype=%{customdata[5]}\\u003cbr\\u003ePC1=%{x}\\u003cbr\\u003ePC2=%{y}\\u003cbr\\u003eid=%{customdata[0]}\\u003cbr\\u003esmiles=%{customdata[1]}\\u003cbr\\u003einchikey=%{customdata[2]}\\u003cbr\\u003ebases=%{customdata[3]}\\u003cextra\\u003e\\u003c\\u002fextra\\u003e\",\"legendgroup\":\"5856, base\",\"marker\":{\"color\":\"#EF553B\",\"symbol\":\"circle\"},\"mode\":\"markers\",\"name\":\"5856, base\",\"orientation\":\"v\",\"showlegend\":true,\"x\":[-2.1852076053619385],\"xaxis\":\"x\",\"y\":[-3.0759663581848145],\"yaxis\":\"y\",\"type\":\"scatter\"},{\"customdata\":[[7446,\"CC1C(NC(=O)c2ccc3ccn(C)c3c2)C2CCN1CC2\",\"JBUAQCDZFZUBEB-UHFFFAOYSA-N\",[5856],\"5856\",\"elaboration\"],[7449,\"Cn1ccc2ccc(C(=O)N3CC(N4CCCCC4)C3)cc21\",\"KRGWDGPROVXLFW-UHFFFAOYSA-N\",[5856],\"5856\",\"elaboration\"],[7853,\"CC1CCN(C2CN(C(=O)c3ccc4ccn(C)c4c3)C2)CC1\",\"UBXJQODBZMEZJG-UHFFFAOYSA-N\",[5856],\"5856\",\"elaboration\"],[7854,\"Cn1ccc2ccc(C(=O)N3CC(N4CCC(O)CC4)C3)cc21\",\"IAGHOMWPWLYUIG-UHFFFAOYSA-N\",[5856],\"5856\",\"elaboration\"],[7861,\"Cn1ccc2ccc(C(=O)N3CC(C)(N4CCCCC4)C3)cc21\",\"ZQFQQLYKXHOQPU-UHFFFAOYSA-N\",[5856],\"5856\",\"elaboration\"],[7879,\"CCC(CNC(=O)c1ccc2ccn(C)c2c1)N1CCCCC1\",\"HLHPZZLQCFBJRN-UHFFFAOYSA-N\",[5856],\"5856\",\"elaboration\"],[7880,\"CC1CCCCN1C(C)CNC(=O)c1ccc2ccn(C)c2c1\",\"YBDCGQMCRMYVNF-UHFFFAOYSA-N\",[5856],\"5856\",\"elaboration\"],[7887,\"Cn1ccc2ccc(C(=O)N3CCC(N4CCCCC4)C3)cc21\",\"RTXHSQQNQOYLDP-UHFFFAOYSA-N\",[5856],\"5856\",\"elaboration\"],[7889,\"Cn1ccc2ccc(C(=O)NCC(C)(C)N3CCCCC3)cc21\",\"KGGBILOQBDXVSA-UHFFFAOYSA-N\",[5856],\"5856\",\"elaboration\"],[7890,\"CC(CNC(=O)c1ccc2ccn(C)c2c1)N1CCCCC1=O\",\"OMGJFMWCVNPBMQ-UHFFFAOYSA-N\",[5856],\"5856\",\"elaboration\"],[7891,\"CC1CCCN(C(C)CNC(=O)c2ccc3ccn(C)c3c2)C1\",\"ZHRDDOOQJONLHH-UHFFFAOYSA-N\",[5856],\"5856\",\"elaboration\"],[7894,\"CC1CCN(C(C)CNC(=O)c2ccc3ccn(C)c3c2)CC1\",\"LYPNPCYJKKPXGI-UHFFFAOYSA-N\",[5856],\"5856\",\"elaboration\"],[7898,\"Cn1ccc2ccc(C(=O)N3CC(N4CCCCC4=O)C3)cc21\",\"NKBOBEUUEYKPDT-UHFFFAOYSA-N\",[5856],\"5856\",\"elaboration\"],[8659,\"CC1C(NC(=O)c2ccc3ccn(C(C)C)c3c2)C2CCN1CC2\",\"QGCVPBAUZAGZHK-UHFFFAOYSA-N\",[5856],\"5856\",\"elaboration\"],[8662,\"CC(C)n1ccc2ccc(C(=O)N3CC(N4CCCCC4)C3)cc21\",\"UCYUBMCCLMSLHW-UHFFFAOYSA-N\",[5856],\"5856\",\"elaboration\"],[8663,\"CC(CNC(=O)c1ccc2c(C=O)cn(C)c2c1)N1CCCCC1\",\"QAAHKIZDGKEMBQ-UHFFFAOYSA-N\",[5856],\"5856\",\"elaboration\"],[8664,\"Cn1cc(C=O)c2ccc(C(=O)N3CC(N4CCCCC4)C3)cc21\",\"LKCDTXFBUOBQRY-UHFFFAOYSA-N\",[5856],\"5856\",\"elaboration\"],[8667,\"CC1C(NC(=O)c2ccc3c(C=O)cn(C)c3c2)C2CCN1CC2\",\"PMEDXFZMVOHSRE-UHFFFAOYSA-N\",[5856],\"5856\",\"elaboration\"],[8673,\"CC(CNC(=O)c1ccc2ccn(C(C)C)c2c1)N1CCCCC1\",\"XZUDOAIWLFOJGA-UHFFFAOYSA-N\",[5856],\"5856\",\"elaboration\"],[8717,\"CC1C(NC(=O)c2ccc3c(C#N)cn(C)c3c2)C2CCN1CC2\",\"APPPBZQRFDDQRV-UHFFFAOYSA-N\",[5856],\"5856\",\"elaboration\"],[8720,\"Cn1cc(C#N)c2ccc(C(=O)N3CC(N4CCCCC4)C3)cc21\",\"GFGLNFQXRIYLEC-UHFFFAOYSA-N\",[5856],\"5856\",\"elaboration\"],[8721,\"CC(CNC(=O)c1ccc2c(C#N)cn(C)c2c1)N1CCCCC1\",\"UWVXEJXANOKCRT-UHFFFAOYSA-N\",[5856],\"5856\",\"elaboration\"],[8818,\"N#CCn1ccc2ccc(C(=O)N3CC(N4CCCCC4)C3)cc21\",\"IPYVBEGVHIQNBA-UHFFFAOYSA-N\",[5856],\"5856\",\"elaboration\"],[8821,\"CC1C(NC(=O)c2ccc3ccn(CC#N)c3c2)C2CCN1CC2\",\"PXMILPRHSAJUOG-UHFFFAOYSA-N\",[5856],\"5856\",\"elaboration\"],[8828,\"CC(CNC(=O)c1ccc2ccn(CC#N)c2c1)N1CCCCC1\",\"CSJQMWWPXMICDF-UHFFFAOYSA-N\",[5856],\"5856\",\"elaboration\"]],\"hovertemplate\":\"cluster=%{customdata[4]}\\u003cbr\\u003etype=%{customdata[5]}\\u003cbr\\u003ePC1=%{x}\\u003cbr\\u003ePC2=%{y}\\u003cbr\\u003eid=%{customdata[0]}\\u003cbr\\u003esmiles=%{customdata[1]}\\u003cbr\\u003einchikey=%{customdata[2]}\\u003cbr\\u003ebases=%{customdata[3]}\\u003cextra\\u003e\\u003c\\u002fextra\\u003e\",\"legendgroup\":\"5856, elaboration\",\"marker\":{\"color\":\"#EF553B\",\"symbol\":\"diamond\"},\"mode\":\"markers\",\"name\":\"5856, elaboration\",\"orientation\":\"v\",\"showlegend\":true,\"x\":[-2.1062121391296387,-1.904467225074768,-1.6629607677459717,-0.994340717792511,-1.7876982688903809,-2.295227527618408,-2.1276774406433105,-1.96091890335083,-2.146902084350586,-1.7289999723434448,-2.208653450012207,-2.0171358585357666,-1.1969712972640991,-2.038749933242798,-1.8875601291656494,-2.3318142890930176,-2.0510740280151367,-2.2528185844421387,-2.1177456378936768,-2.2598226070404053,-2.0580782890319824,-2.3388185501098633,-1.8717488050460815,-2.073493719100952,-2.15248966217041],\"xaxis\":\"x\",\"y\":[-3.196505546569824,-2.814336061477661,-2.869382858276367,-2.8530726432800293,-2.6524903774261475,-3.168550729751587,-2.911008596420288,-2.7528607845306396,-3.0143606662750244,-2.259796619415283,-2.9455039501190186,-3.036125421524048,-1.948745608329773,-2.961026668548584,-2.6030023097991943,-2.7960731983184814,-2.53444242477417,-2.9166126251220703,-2.840486526489258,-2.9423298835754395,-2.560159921646118,-2.8217906951904297,-2.682189464569092,-3.0643579959869385,-2.943819999694824],\"yaxis\":\"y\",\"type\":\"scatter\"},{\"customdata\":[[5868,\"O=C(NC1CC(N2CCCCC2)C1)c1ccc2cc[nH]c2c1\",\"KQLYWQIIZPHKEG-UHFFFAOYSA-N\",null,\"5868\",\"base\"]],\"hovertemplate\":\"cluster=%{customdata[4]}\\u003cbr\\u003etype=%{customdata[5]}\\u003cbr\\u003ePC1=%{x}\\u003cbr\\u003ePC2=%{y}\\u003cbr\\u003eid=%{customdata[0]}\\u003cbr\\u003esmiles=%{customdata[1]}\\u003cbr\\u003einchikey=%{customdata[2]}\\u003cbr\\u003ebases=%{customdata[3]}\\u003cextra\\u003e\\u003c\\u002fextra\\u003e\",\"legendgroup\":\"5868, base\",\"marker\":{\"color\":\"#00cc96\",\"symbol\":\"circle\"},\"mode\":\"markers\",\"name\":\"5868, base\",\"orientation\":\"v\",\"showlegend\":true,\"x\":[-2.426198720932007],\"xaxis\":\"x\",\"y\":[-1.9738492965698242],\"yaxis\":\"y\",\"type\":\"scatter\"},{\"customdata\":[[15180,\"Cc1c[nH]c2cc(C(=O)NC3CC(N4CCCCC4)C3)ccc12\",\"JJPKFAJHPLXRJE-UHFFFAOYSA-N\",[5868],\"5868\",\"elaboration\"],[15201,\"Cn1ccc2ccc(C(=O)NC3CC(N4CCCCC4)C3)cc21\",\"IJHQRLOFKGWOPG-UHFFFAOYSA-N\",[5868],\"5868\",\"elaboration\"],[15218,\"O=C(NC1CC(N2CCCCC2)C1)c1ccc2cc[nH]c2c1F\",\"LMOQTVBBPQJTPW-UHFFFAOYSA-N\",[5868],\"5868\",\"elaboration\"],[15241,\"O=C(NC1CC(N2CCCCC2)C1)c1cc(F)c2cc[nH]c2c1\",\"SNMPVSMZPBNWLO-UHFFFAOYSA-N\",[5868],\"5868\",\"elaboration\"],[15825,\"COc1cc2cc[nH]c2cc1C(=O)NC1CC(N2CCCCC2)C1\",\"YWOZJVROCQRJAK-UHFFFAOYSA-N\",[5868],\"5868\",\"elaboration\"],[16186,\"O=Cc1c[nH]c2cc(C(=O)NC3CC(N4CCCCC4)C3)ccc12\",\"PVBDMIONHKJMTO-UHFFFAOYSA-N\",[5868],\"5868\",\"elaboration\"],[16374,\"N#Cc1c[nH]c2cc(C(=O)NC3CC(N4CCCCC4)C3)ccc12\",\"DHHBAYJSOYLDEE-UHFFFAOYSA-N\",[5868],\"5868\",\"elaboration\"]],\"hovertemplate\":\"cluster=%{customdata[4]}\\u003cbr\\u003etype=%{customdata[5]}\\u003cbr\\u003ePC1=%{x}\\u003cbr\\u003ePC2=%{y}\\u003cbr\\u003eid=%{customdata[0]}\\u003cbr\\u003esmiles=%{customdata[1]}\\u003cbr\\u003einchikey=%{customdata[2]}\\u003cbr\\u003ebases=%{customdata[3]}\\u003cextra\\u003e\\u003c\\u002fextra\\u003e\",\"legendgroup\":\"5868, elaboration\",\"marker\":{\"color\":\"#00cc96\",\"symbol\":\"diamond\"},\"mode\":\"markers\",\"name\":\"5868, elaboration\",\"orientation\":\"v\",\"showlegend\":true,\"x\":[-2.440016984939575,-2.243345260620117,-2.3370730876922607,-2.4539642333984375,-2.085756301879883,-2.430718421936035,-2.4411559104919434],\"xaxis\":\"x\",\"y\":[-1.9248921871185303,-3.254892349243164,-1.7903213500976562,-1.5389012098312378,-1.70128333568573,-2.025691270828247,-2.0656580924987793],\"yaxis\":\"y\",\"type\":\"scatter\"},{\"customdata\":[[5906,\"CC(COC(=O)c1ccc2ccn(C)c2c1)N1CCCCC1\",\"QLLFKTQWEOSFEX-UHFFFAOYSA-N\",null,\"5906\",\"base\"]],\"hovertemplate\":\"cluster=%{customdata[4]}\\u003cbr\\u003etype=%{customdata[5]}\\u003cbr\\u003ePC1=%{x}\\u003cbr\\u003ePC2=%{y}\\u003cbr\\u003eid=%{customdata[0]}\\u003cbr\\u003esmiles=%{customdata[1]}\\u003cbr\\u003einchikey=%{customdata[2]}\\u003cbr\\u003ebases=%{customdata[3]}\\u003cextra\\u003e\\u003c\\u002fextra\\u003e\",\"legendgroup\":\"5906, base\",\"marker\":{\"color\":\"#ab63fa\",\"symbol\":\"circle\"},\"mode\":\"markers\",\"name\":\"5906, base\",\"orientation\":\"v\",\"showlegend\":true,\"x\":[-1.6181825399398804],\"xaxis\":\"x\",\"y\":[-2.968461036682129],\"yaxis\":\"y\",\"type\":\"scatter\"},{\"customdata\":[[53881,\"CC1C(OC(=O)c2ccc3ccn(C)c3c2)C2CCN1CC2\",\"XXHIYSYREFNUOT-UHFFFAOYSA-N\",[5906],\"5906\",\"elaboration\"],[54184,\"C=CC(COC(=O)c1ccc2ccn(C)c2c1)N1CCCCC1\",\"GDZPXAULMQRJNO-UHFFFAOYSA-N\",[5906],\"5906\",\"elaboration\"],[54188,\"Cn1ccc2ccc(C(=O)OCC3CCC4CCCCN43)cc21\",\"NDZFUGUQMJKASP-UHFFFAOYSA-N\",[5906],\"5906\",\"elaboration\"],[54191,\"Cn1ccc2ccc(C(=O)OC3CCN(C4COC4)CC3)cc21\",\"QKJSMIVKLRDHGO-UHFFFAOYSA-N\",[5906],\"5906\",\"elaboration\"],[54773,\"CC(COC(=O)c1ccc2ccn(CC#N)c2c1)N1CCCCC1\",\"BRNLJRAQDSKKRZ-UHFFFAOYSA-N\",[5906],\"5906\",\"elaboration\"],[54774,\"CC1C(OC(=O)c2ccc3ccn(CC#N)c3c2)C2CCN1CC2\",\"QFAXMMXNAYCMNV-UHFFFAOYSA-N\",[5906],\"5906\",\"elaboration\"],[54894,\"CC(COC(=O)c1ccc2c(C#N)cn(C)c2c1)N1CCCCC1\",\"KFOSNUWKODSRHY-UHFFFAOYSA-N\",[5906],\"5906\",\"elaboration\"],[54909,\"CC(COC(=O)c1ccc2c(C=O)cn(C)c2c1)N1CCCCC1\",\"NCXDRRAGPLHRDG-UHFFFAOYSA-N\",[5906],\"5906\",\"elaboration\"],[54910,\"CC1C(OC(=O)c2ccc3c(C=O)cn(C)c3c2)C2CCN1CC2\",\"KSWFDAVXCVQXIT-UHFFFAOYSA-N\",[5906],\"5906\",\"elaboration\"],[54919,\"CC1C(OC(=O)c2ccc3c(C#N)cn(C)c3c2)C2CCN1CC2\",\"QADDCRTVVFPYFD-UHFFFAOYSA-N\",[5906],\"5906\",\"elaboration\"],[55068,\"CC(COC(=O)c1ccc2ccn(C(C)C)c2c1)N1CCCCC1\",\"FZJDPVCOOBSYOS-UHFFFAOYSA-N\",[5906],\"5906\",\"elaboration\"]],\"hovertemplate\":\"cluster=%{customdata[4]}\\u003cbr\\u003etype=%{customdata[5]}\\u003cbr\\u003ePC1=%{x}\\u003cbr\\u003ePC2=%{y}\\u003cbr\\u003eid=%{customdata[0]}\\u003cbr\\u003esmiles=%{customdata[1]}\\u003cbr\\u003einchikey=%{customdata[2]}\\u003cbr\\u003ebases=%{customdata[3]}\\u003cextra\\u003e\\u003c\\u002fextra\\u003e\",\"legendgroup\":\"5906, elaboration\",\"marker\":{\"color\":\"#ab63fa\",\"symbol\":\"diamond\"},\"mode\":\"markers\",\"name\":\"5906, elaboration\",\"orientation\":\"v\",\"showlegend\":true,\"x\":[-1.589213252067566,-1.5584553480148315,-1.5390194654464722,-1.3160895109176636,-1.5854647159576416,-1.5564955472946167,-1.7717937231063843,-1.7647897005081177,-1.7358204126358032,-1.7428245544433594,-1.5507210493087769],\"xaxis\":\"x\",\"y\":[-3.012932300567627,-2.940737247467041,-2.8255550861358643,-2.8311164379119873,-2.8363144397735596,-2.880786180496216,-2.714284896850586,-2.688567638397217,-2.7330398559570312,-2.7587568759918213,-2.7329814434051514],\"yaxis\":\"y\",\"type\":\"scatter\"},{\"customdata\":[[7035,\"CN(Cc1cnco1)CC(O)COCc1ccc2c(c1)OCO2\",\"WUZZWWHAUMZBOV-UHFFFAOYSA-N\",null,\"7035\",\"base\"]],\"hovertemplate\":\"cluster=%{customdata[4]}\\u003cbr\\u003etype=%{customdata[5]}\\u003cbr\\u003ePC1=%{x}\\u003cbr\\u003ePC2=%{y}\\u003cbr\\u003eid=%{customdata[0]}\\u003cbr\\u003esmiles=%{customdata[1]}\\u003cbr\\u003einchikey=%{customdata[2]}\\u003cbr\\u003ebases=%{customdata[3]}\\u003cextra\\u003e\\u003c\\u002fextra\\u003e\",\"legendgroup\":\"7035, base\",\"marker\":{\"color\":\"#FFA15A\",\"symbol\":\"circle\"},\"mode\":\"markers\",\"name\":\"7035, base\",\"orientation\":\"v\",\"showlegend\":true,\"x\":[2.139822244644165],\"xaxis\":\"x\",\"y\":[-0.7958000302314758],\"yaxis\":\"y\",\"type\":\"scatter\"},{\"customdata\":[[31931,\"CN(Cc1cnc(N)o1)CC(O)COCc1ccc2c(c1)OCO2\",\"AJVWNKLQLIMPPW-UHFFFAOYSA-N\",[7035],\"7035\",\"elaboration\"],[31938,\"Cc1ncoc1CN(C)CC(O)COCc1ccc2c(c1)OCO2\",\"ARUGTVYGHPHFQL-UHFFFAOYSA-N\",[7035],\"7035\",\"elaboration\"],[31941,\"Cc1ncc(CN(C)CC(O)COCc2ccc3c(c2)OCO3)o1\",\"RCQWMOHZXCWIDX-UHFFFAOYSA-N\",[7035],\"7035\",\"elaboration\"],[31945,\"CN(CC(O)COCc1ccc2c(c1)OCO2)C(O)c1cnco1\",\"JBMBKDNOAGDIOH-UHFFFAOYSA-N\",[7035],\"7035\",\"elaboration\"],[31946,\"CN(CC(O)COCc1ccc2c(c1)OCO2)C(N)c1cnco1\",\"QMLNVIZDGMSWLM-UHFFFAOYSA-N\",[7035],\"7035\",\"elaboration\"],[31949,\"CN(Cc1ocnc1Br)CC(O)COCc1ccc2c(c1)OCO2\",\"XJEHHKLDUWEMEM-UHFFFAOYSA-N\",[7035],\"7035\",\"elaboration\"],[31985,\"CCc1ncoc1CN(C)CC(O)COCc1ccc2c(c1)OCO2\",\"UCLYATQOEVHJJR-UHFFFAOYSA-N\",[7035],\"7035\",\"elaboration\"],[31996,\"Cc1ncoc1C(Cl)N(C)CC(O)COCc1ccc2c(c1)OCO2\",\"RYVACDSNQZTPQP-UHFFFAOYSA-N\",[7035],\"7035\",\"elaboration\"],[31998,\"CN(CC(O)COCc1ccc2c(c1)OCO2)C(O)c1ocnc1Br\",\"VCSVQFWZFQNWTF-UHFFFAOYSA-N\",[7035],\"7035\",\"elaboration\"],[32015,\"Cc1nc(C)c(CN(C)CC(O)COCc2ccc3c(c2)OCO3)o1\",\"DYPFDPXGZCLWRD-UHFFFAOYSA-N\",[7035],\"7035\",\"elaboration\"],[32038,\"COc1ncc(CN(C)CC(O)COCc2ccc3c(c2)OCO3)o1\",\"BHYQLYQUEPFEDF-UHFFFAOYSA-N\",[7035],\"7035\",\"elaboration\"],[32054,\"CN(CC(O)COCc1ccc2c(c1)OCO2)C(O)c1cnc(N)o1\",\"DRMPJVXQUNNEDD-UHFFFAOYSA-N\",[7035],\"7035\",\"elaboration\"],[32058,\"Cc1ncoc1C(O)N(C)CC(O)COCc1ccc2c(c1)OCO2\",\"OOMLNFFNRDBOPV-UHFFFAOYSA-N\",[7035],\"7035\",\"elaboration\"],[32062,\"Cc1ncc(C(O)N(C)CC(O)COCc2ccc3c(c2)OCO3)o1\",\"UTQPOMLFASUIKV-UHFFFAOYSA-N\",[7035],\"7035\",\"elaboration\"],[32066,\"CCc1ncc(CN(C)CC(O)COCc2ccc3c(c2)OCO3)o1\",\"DIQYXMVWYPHPGS-UHFFFAOYSA-N\",[7035],\"7035\",\"elaboration\"],[32105,\"CN(CC(O)COCc1ccc2c(c1)OCO2)C(O)c1cnc(Br)o1\",\"LBCAKIUYUFPMMG-UHFFFAOYSA-N\",[7035],\"7035\",\"elaboration\"],[32120,\"CN(CC(O)COCc1ccc2c(c1)OCO2)C(O)c1c[nH]c(=O)o1\",\"LWVAAEVBEOSSAV-UHFFFAOYSA-N\",[7035],\"7035\",\"elaboration\"],[32148,\"Cc1nc(C)c(C(O)N(C)CC(O)COCc2ccc3c(c2)OCO3)o1\",\"INIZEIODKZBNIF-UHFFFAOYSA-N\",[7035],\"7035\",\"elaboration\"],[32200,\"CCOC(c1cnco1)N(C)CC(O)COCc1ccc2c(c1)OCO2\",\"SWRXEKMHCFJWCA-UHFFFAOYSA-N\",[7035],\"7035\",\"elaboration\"],[32225,\"CNc1ncc(C(O)N(C)CC(O)COCc2ccc3c(c2)OCO3)o1\",\"HCHQDJDEVDXEGI-UHFFFAOYSA-N\",[7035],\"7035\",\"elaboration\"],[32265,\"COC(c1cnc(N)o1)N(C)CC(O)COCc1ccc2c(c1)OCO2\",\"WVWGTLRSIIBFRQ-UHFFFAOYSA-N\",[7035],\"7035\",\"elaboration\"],[32428,\"CCc1ncoc1C(O)N(C)CC(O)COCc1ccc2c(c1)OCO2\",\"RRWFBORTULDOFO-UHFFFAOYSA-N\",[7035],\"7035\",\"elaboration\"],[32604,\"C#Cc1ncoc1C(O)N(C)CC(O)COCc1ccc2c(c1)OCO2\",\"ILBMVQIWCJQJLK-UHFFFAOYSA-N\",[7035],\"7035\",\"elaboration\"],[32618,\"Cc1nc(C)c(C(N)N(C)CC(O)COCc2ccc3c(c2)OCO3)o1\",\"VMEFFDBLMVOCEA-UHFFFAOYSA-N\",[7035],\"7035\",\"elaboration\"]],\"hovertemplate\":\"cluster=%{customdata[4]}\\u003cbr\\u003etype=%{customdata[5]}\\u003cbr\\u003ePC1=%{x}\\u003cbr\\u003ePC2=%{y}\\u003cbr\\u003eid=%{customdata[0]}\\u003cbr\\u003esmiles=%{customdata[1]}\\u003cbr\\u003einchikey=%{customdata[2]}\\u003cbr\\u003ebases=%{customdata[3]}\\u003cextra\\u003e\\u003c\\u002fextra\\u003e\",\"legendgroup\":\"7035, elaboration\",\"marker\":{\"color\":\"#FFA15A\",\"symbol\":\"diamond\"},\"mode\":\"markers\",\"name\":\"7035, elaboration\",\"orientation\":\"v\",\"showlegend\":true,\"x\":[2.105170726776123,2.2228991985321045,1.9503499269485474,2.48933482170105,2.4823005199432373,2.2534101009368896,2.1649584770202637,2.3276586532592773,2.490849018096924,2.1226987838745117,1.980900526046753,2.454684019088745,2.4666249752044678,2.299862861633301,1.9060206413269043,2.3559131622314453,2.0918185710906982,2.366425037384033,2.3337597846984863,2.4300317764282227,2.3517813682556152,2.408684730529785,2.4356234073638916,2.368739604949951],\"xaxis\":\"x\",\"y\":[-0.7075466513633728,-0.7923155426979065,-0.3623512089252472,-1.191898226737976,-1.0397546291351318,-1.083675742149353,-0.80000239610672,-0.8777613043785095,-1.3511483669281006,-0.8109325170516968,-0.7208091616630554,-1.1036444902420044,-1.0680464506149292,-0.7584490776062012,-0.4089743196964264,-1.1106830835342407,-1.5203243494033813,-1.0866636037826538,-1.0819309949874878,-1.075793743133545,-0.9485412836074829,-1.0757334232330322,-1.0559512376785278,-0.9459601044654846],\"yaxis\":\"y\",\"type\":\"scatter\"},{\"customdata\":[[7036,\"CN(Cc1ccns1)CC(O)COCc1ccc2c(c1)OCO2\",\"WQOUBXWIDJZODR-UHFFFAOYSA-N\",null,\"7036\",\"base\"]],\"hovertemplate\":\"cluster=%{customdata[4]}\\u003cbr\\u003etype=%{customdata[5]}\\u003cbr\\u003ePC1=%{x}\\u003cbr\\u003ePC2=%{y}\\u003cbr\\u003eid=%{customdata[0]}\\u003cbr\\u003esmiles=%{customdata[1]}\\u003cbr\\u003einchikey=%{customdata[2]}\\u003cbr\\u003ebases=%{customdata[3]}\\u003cextra\\u003e\\u003c\\u002fextra\\u003e\",\"legendgroup\":\"7036, base\",\"marker\":{\"color\":\"#19d3f3\",\"symbol\":\"circle\"},\"mode\":\"markers\",\"name\":\"7036, base\",\"orientation\":\"v\",\"showlegend\":true,\"x\":[2.139822244644165],\"xaxis\":\"x\",\"y\":[-0.7958000302314758],\"yaxis\":\"y\",\"type\":\"scatter\"},{\"customdata\":[[41941,\"CN(CC(O)COCc1ccc2c(c1)OCO2)C(O)c1ccns1\",\"OYVBSDZDHMNEQT-UHFFFAOYSA-N\",[7036],\"7036\",\"elaboration\"],[41950,\"Cc1cc(CN(C)CC(O)COCc2ccc3c(c2)OCO3)sn1\",\"YEKYRJGRWCHDMR-UHFFFAOYSA-N\",[7036],\"7036\",\"elaboration\"],[41957,\"CN(CC(O)COCc1ccc2c(c1)OCO2)C(Cl)c1ccns1\",\"GDVQNHXJLKOXCK-UHFFFAOYSA-N\",[7036],\"7036\",\"elaboration\"],[41959,\"CN(Cc1sncc1Br)CC(O)COCc1ccc2c(c1)OCO2\",\"NEKAJJTVFNHBOZ-UHFFFAOYSA-N\",[7036],\"7036\",\"elaboration\"],[41960,\"Cc1cnsc1CN(C)CC(O)COCc1ccc2c(c1)OCO2\",\"COVMVAIDOCPLGL-UHFFFAOYSA-N\",[7036],\"7036\",\"elaboration\"],[41975,\"Cc1cnsc1C(O)N(C)CC(O)COCc1ccc2c(c1)OCO2\",\"ZRRWXOJWWLQKFK-UHFFFAOYSA-N\",[7036],\"7036\",\"elaboration\"],[41977,\"COC(c1ccns1)N(C)CC(O)COCc1ccc2c(c1)OCO2\",\"KZNSZZQDDXVSSX-UHFFFAOYSA-N\",[7036],\"7036\",\"elaboration\"],[42016,\"CN(Cc1snc(Cl)c1Cl)CC(O)COCc1ccc2c(c1)OCO2\",\"HYDNXEDTGNAMHG-UHFFFAOYSA-N\",[7036],\"7036\",\"elaboration\"],[42022,\"Cc1cc(C(O)N(C)CC(O)COCc2ccc3c(c2)OCO3)sn1\",\"APZCCFPOYNYOHA-UHFFFAOYSA-N\",[7036],\"7036\",\"elaboration\"],[42026,\"COc1cc(CN(C)CC(O)COCc2ccc3c(c2)OCO3)sn1\",\"ASZJJKYVVFBIGE-UHFFFAOYSA-N\",[7036],\"7036\",\"elaboration\"],[42070,\"CN(CC(O)COCc1ccc2c(c1)OCO2)C(O)c1cc(O)ns1\",\"XXXYLJSSZJXIAC-UHFFFAOYSA-N\",[7036],\"7036\",\"elaboration\"],[42082,\"CN(CC(O)COCc1ccc2c(c1)OCO2)C(N)c1sncc1N\",\"JQOBTHNBQBPJCC-UHFFFAOYSA-N\",[7036],\"7036\",\"elaboration\"],[42098,\"CN(CC(O)COCc1ccc2c(c1)OCO2)C(O)c1cc(Cl)ns1\",\"NMGRLWJKYCHHET-UHFFFAOYSA-N\",[7036],\"7036\",\"elaboration\"],[42104,\"CN(CC(O)COCc1ccc2c(c1)OCO2)C(O)c1sncc1Br\",\"AQBNHHFJFRBSKZ-UHFFFAOYSA-N\",[7036],\"7036\",\"elaboration\"],[42114,\"CCc1cnsc1CN(C)CC(O)COCc1ccc2c(c1)OCO2\",\"PZIAGXWHLAYNME-UHFFFAOYSA-N\",[7036],\"7036\",\"elaboration\"],[42501,\"CN(CC(O)COCc1ccc2c(c1)OCO2)C(O)c1snc(O)c1Cl\",\"IQDNPQHZDFZECA-UHFFFAOYSA-N\",[7036],\"7036\",\"elaboration\"]],\"hovertemplate\":\"cluster=%{customdata[4]}\\u003cbr\\u003etype=%{customdata[5]}\\u003cbr\\u003ePC1=%{x}\\u003cbr\\u003ePC2=%{y}\\u003cbr\\u003eid=%{customdata[0]}\\u003cbr\\u003esmiles=%{customdata[1]}\\u003cbr\\u003einchikey=%{customdata[2]}\\u003cbr\\u003ebases=%{customdata[3]}\\u003cextra\\u003e\\u003c\\u002fextra\\u003e\",\"legendgroup\":\"7036, elaboration\",\"marker\":{\"color\":\"#19d3f3\",\"symbol\":\"diamond\"},\"mode\":\"markers\",\"name\":\"7036, elaboration\",\"orientation\":\"v\",\"showlegend\":true,\"x\":[2.489335060119629,1.9503498077392578,2.344907283782959,2.142029047012329,2.133031129837036,2.3523550033569336,2.3864331245422363,2.1128618717193604,2.299862861633301,1.980900526046753,2.435499429702759,2.3464136123657227,2.3559131622314453,2.3838133811950684,2.1702516078948975,2.4414472579956055],\"xaxis\":\"x\",\"y\":[-1.191898226737976,-0.36235126852989197,-1.0086647272109985,-0.8409420847892761,-0.8807660937309265,-1.0890848636627197,-1.0367951393127441,-0.8601683378219604,-0.7584490776062012,-0.7208091616630554,-1.066982626914978,-1.008150577545166,-1.1106830835342407,-1.1141490936279297,-0.8988535404205322,-1.0103394985198975],\"yaxis\":\"y\",\"type\":\"scatter\"},{\"customdata\":[[7068,\"COc1cc2c(cc1CNCC(F)(F)c1cccnc1)OCO2\",\"ODWLANMSUKTAMB-UHFFFAOYSA-N\",null,\"7068\",\"base\"]],\"hovertemplate\":\"cluster=%{customdata[4]}\\u003cbr\\u003etype=%{customdata[5]}\\u003cbr\\u003ePC1=%{x}\\u003cbr\\u003ePC2=%{y}\\u003cbr\\u003eid=%{customdata[0]}\\u003cbr\\u003esmiles=%{customdata[1]}\\u003cbr\\u003einchikey=%{customdata[2]}\\u003cbr\\u003ebases=%{customdata[3]}\\u003cextra\\u003e\\u003c\\u002fextra\\u003e\",\"legendgroup\":\"7068, base\",\"marker\":{\"color\":\"#FF6692\",\"symbol\":\"circle\"},\"mode\":\"markers\",\"name\":\"7068, base\",\"orientation\":\"v\",\"showlegend\":true,\"x\":[1.5341992378234863],\"xaxis\":\"x\",\"y\":[-0.05498877167701721],\"yaxis\":\"y\",\"type\":\"scatter\"},{\"customdata\":[[39102,\"COc1cc2c(cc1C(O)NCC(F)(F)c1cccnc1)OCO2\",\"QVROVOFILLDPBQ-UHFFFAOYSA-N\",[7068],\"7068\",\"elaboration\"],[39232,\"FC(F)Oc1cc2c(cc1CNCC(F)(F)c1cccnc1)OCO2\",\"FHGPNKUOEFRZNI-UHFFFAOYSA-N\",[7068],\"7068\",\"elaboration\"],[39346,\"COc1cc2c(cc1CNC(=O)C(F)(F)c1ccc(Cl)nc1)OCO2\",\"IMMSBKVPIYRMHZ-UHFFFAOYSA-N\",[7068],\"7068\",\"elaboration\"],[40167,\"COc1cc2c(cc1C(O)NC(=O)C(F)(F)c1ccc(Cl)nc1)OCO2\",\"VRRHDIGCIQSJLS-UHFFFAOYSA-N\",[7068],\"7068\",\"elaboration\"]],\"hovertemplate\":\"cluster=%{customdata[4]}\\u003cbr\\u003etype=%{customdata[5]}\\u003cbr\\u003ePC1=%{x}\\u003cbr\\u003ePC2=%{y}\\u003cbr\\u003eid=%{customdata[0]}\\u003cbr\\u003esmiles=%{customdata[1]}\\u003cbr\\u003einchikey=%{customdata[2]}\\u003cbr\\u003ebases=%{customdata[3]}\\u003cextra\\u003e\\u003c\\u002fextra\\u003e\",\"legendgroup\":\"7068, elaboration\",\"marker\":{\"color\":\"#FF6692\",\"symbol\":\"diamond\"},\"mode\":\"markers\",\"name\":\"7068, elaboration\",\"orientation\":\"v\",\"showlegend\":true,\"x\":[1.8173984289169312,1.550311803817749,0.8338139057159424,1.170088768005371],\"xaxis\":\"x\",\"y\":[-0.2151021659374237,-0.09733749181032181,-0.2704601287841797,-0.45372021198272705],\"yaxis\":\"y\",\"type\":\"scatter\"},{\"customdata\":[[7190,\"O=C(NCC1CCCCS1)c1cc(C2CCC2)no1\",\"CQPABNWZTLMXPK-UHFFFAOYSA-N\",null,\"7190\",\"base\"]],\"hovertemplate\":\"cluster=%{customdata[4]}\\u003cbr\\u003etype=%{customdata[5]}\\u003cbr\\u003ePC1=%{x}\\u003cbr\\u003ePC2=%{y}\\u003cbr\\u003eid=%{customdata[0]}\\u003cbr\\u003esmiles=%{customdata[1]}\\u003cbr\\u003einchikey=%{customdata[2]}\\u003cbr\\u003ebases=%{customdata[3]}\\u003cextra\\u003e\\u003c\\u002fextra\\u003e\",\"legendgroup\":\"7190, base\",\"marker\":{\"color\":\"#B6E880\",\"symbol\":\"circle\"},\"mode\":\"markers\",\"name\":\"7190, base\",\"orientation\":\"v\",\"showlegend\":true,\"x\":[-1.2753769159317017],\"xaxis\":\"x\",\"y\":[1.184466004371643],\"yaxis\":\"y\",\"type\":\"scatter\"},{\"customdata\":[[16924,\"O=C(NCC1CCCCS1(=O)=O)c1cc(C2CCC2)no1\",\"NCFPDJLFBMQEDN-UHFFFAOYSA-N\",[7190],\"7190\",\"elaboration\"],[17117,\"O=C(c1cc(C2CCC2)no1)N1CC2CCCS(=O)(=O)C2C1\",\"NTDABVASAIKMAP-UHFFFAOYSA-N\",[7190],\"7190\",\"elaboration\"]],\"hovertemplate\":\"cluster=%{customdata[4]}\\u003cbr\\u003etype=%{customdata[5]}\\u003cbr\\u003ePC1=%{x}\\u003cbr\\u003ePC2=%{y}\\u003cbr\\u003eid=%{customdata[0]}\\u003cbr\\u003esmiles=%{customdata[1]}\\u003cbr\\u003einchikey=%{customdata[2]}\\u003cbr\\u003ebases=%{customdata[3]}\\u003cextra\\u003e\\u003c\\u002fextra\\u003e\",\"legendgroup\":\"7190, elaboration\",\"marker\":{\"color\":\"#B6E880\",\"symbol\":\"diamond\"},\"mode\":\"markers\",\"name\":\"7190, elaboration\",\"orientation\":\"v\",\"showlegend\":true,\"x\":[-1.6044553518295288,-1.238838791847229],\"xaxis\":\"x\",\"y\":[0.9909350275993347,1.0942858457565308],\"yaxis\":\"y\",\"type\":\"scatter\"},{\"customdata\":[[7248,\"O=C(NC(CF)C(F)(F)F)c1cc(C2CNC2)no1\",\"JHPNHSYIQHUBJI-UHFFFAOYSA-N\",null,\"7248\",\"base\"]],\"hovertemplate\":\"cluster=%{customdata[4]}\\u003cbr\\u003etype=%{customdata[5]}\\u003cbr\\u003ePC1=%{x}\\u003cbr\\u003ePC2=%{y}\\u003cbr\\u003eid=%{customdata[0]}\\u003cbr\\u003esmiles=%{customdata[1]}\\u003cbr\\u003einchikey=%{customdata[2]}\\u003cbr\\u003ebases=%{customdata[3]}\\u003cextra\\u003e\\u003c\\u002fextra\\u003e\",\"legendgroup\":\"7248, base\",\"marker\":{\"color\":\"#FF97FF\",\"symbol\":\"circle\"},\"mode\":\"markers\",\"name\":\"7248, base\",\"orientation\":\"v\",\"showlegend\":true,\"x\":[-0.8857009410858154],\"xaxis\":\"x\",\"y\":[1.275870442390442],\"yaxis\":\"y\",\"type\":\"scatter\"},{\"customdata\":[[34889,\"O=C(c1cc(C2CNC2)no1)N1CC(F)(F)C1C(F)(F)F\",\"UEBUHDWCCCWSNN-UHFFFAOYSA-N\",[7248],\"7248\",\"elaboration\"],[34898,\"O=C(NC(C(F)(F)F)C(F)(F)F)c1cc(C2CNC2)no1\",\"DZJVTBCEPLPLFS-UHFFFAOYSA-N\",[7248],\"7248\",\"elaboration\"],[35184,\"CC(C)(C)OC(=O)N1CC(c2cc(C(=O)N3CC(F)(F)C3C(F)(F)F)on2)C1\",\"WWLVOQUOHOTJAW-UHFFFAOYSA-N\",[7248],\"7248\",\"elaboration\"],[35227,\"CC(C)(C)OC(=O)N1CC(C)(c2cc(C(=O)N3CC(F)(F)C3C(F)(F)F)on2)C1\",\"RMRWGOFDPAQASL-UHFFFAOYSA-N\",[7248],\"7248\",\"elaboration\"]],\"hovertemplate\":\"cluster=%{customdata[4]}\\u003cbr\\u003etype=%{customdata[5]}\\u003cbr\\u003ePC1=%{x}\\u003cbr\\u003ePC2=%{y}\\u003cbr\\u003eid=%{customdata[0]}\\u003cbr\\u003esmiles=%{customdata[1]}\\u003cbr\\u003einchikey=%{customdata[2]}\\u003cbr\\u003ebases=%{customdata[3]}\\u003cextra\\u003e\\u003c\\u002fextra\\u003e\",\"legendgroup\":\"7248, elaboration\",\"marker\":{\"color\":\"#FF97FF\",\"symbol\":\"diamond\"},\"mode\":\"markers\",\"name\":\"7248, elaboration\",\"orientation\":\"v\",\"showlegend\":true,\"x\":[-1.0078861713409424,-0.7922513484954834,-1.2285796403884888,-1.2928879261016846],\"xaxis\":\"x\",\"y\":[1.5863829851150513,1.252193808555603,1.6365957260131836,1.486035704612732],\"yaxis\":\"y\",\"type\":\"scatter\"}],                        {\"template\":{\"data\":{\"histogram2dcontour\":[{\"type\":\"histogram2dcontour\",\"colorbar\":{\"outlinewidth\":0,\"ticks\":\"\"},\"colorscale\":[[0.0,\"#0d0887\"],[0.1111111111111111,\"#46039f\"],[0.2222222222222222,\"#7201a8\"],[0.3333333333333333,\"#9c179e\"],[0.4444444444444444,\"#bd3786\"],[0.5555555555555556,\"#d8576b\"],[0.6666666666666666,\"#ed7953\"],[0.7777777777777778,\"#fb9f3a\"],[0.8888888888888888,\"#fdca26\"],[1.0,\"#f0f921\"]]}],\"choropleth\":[{\"type\":\"choropleth\",\"colorbar\":{\"outlinewidth\":0,\"ticks\":\"\"}}],\"histogram2d\":[{\"type\":\"histogram2d\",\"colorbar\":{\"outlinewidth\":0,\"ticks\":\"\"},\"colorscale\":[[0.0,\"#0d0887\"],[0.1111111111111111,\"#46039f\"],[0.2222222222222222,\"#7201a8\"],[0.3333333333333333,\"#9c179e\"],[0.4444444444444444,\"#bd3786\"],[0.5555555555555556,\"#d8576b\"],[0.6666666666666666,\"#ed7953\"],[0.7777777777777778,\"#fb9f3a\"],[0.8888888888888888,\"#fdca26\"],[1.0,\"#f0f921\"]]}],\"heatmap\":[{\"type\":\"heatmap\",\"colorbar\":{\"outlinewidth\":0,\"ticks\":\"\"},\"colorscale\":[[0.0,\"#0d0887\"],[0.1111111111111111,\"#46039f\"],[0.2222222222222222,\"#7201a8\"],[0.3333333333333333,\"#9c179e\"],[0.4444444444444444,\"#bd3786\"],[0.5555555555555556,\"#d8576b\"],[0.6666666666666666,\"#ed7953\"],[0.7777777777777778,\"#fb9f3a\"],[0.8888888888888888,\"#fdca26\"],[1.0,\"#f0f921\"]]}],\"heatmapgl\":[{\"type\":\"heatmapgl\",\"colorbar\":{\"outlinewidth\":0,\"ticks\":\"\"},\"colorscale\":[[0.0,\"#0d0887\"],[0.1111111111111111,\"#46039f\"],[0.2222222222222222,\"#7201a8\"],[0.3333333333333333,\"#9c179e\"],[0.4444444444444444,\"#bd3786\"],[0.5555555555555556,\"#d8576b\"],[0.6666666666666666,\"#ed7953\"],[0.7777777777777778,\"#fb9f3a\"],[0.8888888888888888,\"#fdca26\"],[1.0,\"#f0f921\"]]}],\"contourcarpet\":[{\"type\":\"contourcarpet\",\"colorbar\":{\"outlinewidth\":0,\"ticks\":\"\"}}],\"contour\":[{\"type\":\"contour\",\"colorbar\":{\"outlinewidth\":0,\"ticks\":\"\"},\"colorscale\":[[0.0,\"#0d0887\"],[0.1111111111111111,\"#46039f\"],[0.2222222222222222,\"#7201a8\"],[0.3333333333333333,\"#9c179e\"],[0.4444444444444444,\"#bd3786\"],[0.5555555555555556,\"#d8576b\"],[0.6666666666666666,\"#ed7953\"],[0.7777777777777778,\"#fb9f3a\"],[0.8888888888888888,\"#fdca26\"],[1.0,\"#f0f921\"]]}],\"surface\":[{\"type\":\"surface\",\"colorbar\":{\"outlinewidth\":0,\"ticks\":\"\"},\"colorscale\":[[0.0,\"#0d0887\"],[0.1111111111111111,\"#46039f\"],[0.2222222222222222,\"#7201a8\"],[0.3333333333333333,\"#9c179e\"],[0.4444444444444444,\"#bd3786\"],[0.5555555555555556,\"#d8576b\"],[0.6666666666666666,\"#ed7953\"],[0.7777777777777778,\"#fb9f3a\"],[0.8888888888888888,\"#fdca26\"],[1.0,\"#f0f921\"]]}],\"mesh3d\":[{\"type\":\"mesh3d\",\"colorbar\":{\"outlinewidth\":0,\"ticks\":\"\"}}],\"scatter\":[{\"fillpattern\":{\"fillmode\":\"overlay\",\"size\":10,\"solidity\":0.2},\"type\":\"scatter\"}],\"parcoords\":[{\"type\":\"parcoords\",\"line\":{\"colorbar\":{\"outlinewidth\":0,\"ticks\":\"\"}}}],\"scatterpolargl\":[{\"type\":\"scatterpolargl\",\"marker\":{\"colorbar\":{\"outlinewidth\":0,\"ticks\":\"\"}}}],\"bar\":[{\"error_x\":{\"color\":\"#2a3f5f\"},\"error_y\":{\"color\":\"#2a3f5f\"},\"marker\":{\"line\":{\"color\":\"#E5ECF6\",\"width\":0.5},\"pattern\":{\"fillmode\":\"overlay\",\"size\":10,\"solidity\":0.2}},\"type\":\"bar\"}],\"scattergeo\":[{\"type\":\"scattergeo\",\"marker\":{\"colorbar\":{\"outlinewidth\":0,\"ticks\":\"\"}}}],\"scatterpolar\":[{\"type\":\"scatterpolar\",\"marker\":{\"colorbar\":{\"outlinewidth\":0,\"ticks\":\"\"}}}],\"histogram\":[{\"marker\":{\"pattern\":{\"fillmode\":\"overlay\",\"size\":10,\"solidity\":0.2}},\"type\":\"histogram\"}],\"scattergl\":[{\"type\":\"scattergl\",\"marker\":{\"colorbar\":{\"outlinewidth\":0,\"ticks\":\"\"}}}],\"scatter3d\":[{\"type\":\"scatter3d\",\"line\":{\"colorbar\":{\"outlinewidth\":0,\"ticks\":\"\"}},\"marker\":{\"colorbar\":{\"outlinewidth\":0,\"ticks\":\"\"}}}],\"scattermapbox\":[{\"type\":\"scattermapbox\",\"marker\":{\"colorbar\":{\"outlinewidth\":0,\"ticks\":\"\"}}}],\"scatterternary\":[{\"type\":\"scatterternary\",\"marker\":{\"colorbar\":{\"outlinewidth\":0,\"ticks\":\"\"}}}],\"scattercarpet\":[{\"type\":\"scattercarpet\",\"marker\":{\"colorbar\":{\"outlinewidth\":0,\"ticks\":\"\"}}}],\"carpet\":[{\"aaxis\":{\"endlinecolor\":\"#2a3f5f\",\"gridcolor\":\"white\",\"linecolor\":\"white\",\"minorgridcolor\":\"white\",\"startlinecolor\":\"#2a3f5f\"},\"baxis\":{\"endlinecolor\":\"#2a3f5f\",\"gridcolor\":\"white\",\"linecolor\":\"white\",\"minorgridcolor\":\"white\",\"startlinecolor\":\"#2a3f5f\"},\"type\":\"carpet\"}],\"table\":[{\"cells\":{\"fill\":{\"color\":\"#EBF0F8\"},\"line\":{\"color\":\"white\"}},\"header\":{\"fill\":{\"color\":\"#C8D4E3\"},\"line\":{\"color\":\"white\"}},\"type\":\"table\"}],\"barpolar\":[{\"marker\":{\"line\":{\"color\":\"#E5ECF6\",\"width\":0.5},\"pattern\":{\"fillmode\":\"overlay\",\"size\":10,\"solidity\":0.2}},\"type\":\"barpolar\"}],\"pie\":[{\"automargin\":true,\"type\":\"pie\"}]},\"layout\":{\"autotypenumbers\":\"strict\",\"colorway\":[\"#636efa\",\"#EF553B\",\"#00cc96\",\"#ab63fa\",\"#FFA15A\",\"#19d3f3\",\"#FF6692\",\"#B6E880\",\"#FF97FF\",\"#FECB52\"],\"font\":{\"color\":\"#2a3f5f\"},\"hovermode\":\"closest\",\"hoverlabel\":{\"align\":\"left\"},\"paper_bgcolor\":\"white\",\"plot_bgcolor\":\"#E5ECF6\",\"polar\":{\"bgcolor\":\"#E5ECF6\",\"angularaxis\":{\"gridcolor\":\"white\",\"linecolor\":\"white\",\"ticks\":\"\"},\"radialaxis\":{\"gridcolor\":\"white\",\"linecolor\":\"white\",\"ticks\":\"\"}},\"ternary\":{\"bgcolor\":\"#E5ECF6\",\"aaxis\":{\"gridcolor\":\"white\",\"linecolor\":\"white\",\"ticks\":\"\"},\"baxis\":{\"gridcolor\":\"white\",\"linecolor\":\"white\",\"ticks\":\"\"},\"caxis\":{\"gridcolor\":\"white\",\"linecolor\":\"white\",\"ticks\":\"\"}},\"coloraxis\":{\"colorbar\":{\"outlinewidth\":0,\"ticks\":\"\"}},\"colorscale\":{\"sequential\":[[0.0,\"#0d0887\"],[0.1111111111111111,\"#46039f\"],[0.2222222222222222,\"#7201a8\"],[0.3333333333333333,\"#9c179e\"],[0.4444444444444444,\"#bd3786\"],[0.5555555555555556,\"#d8576b\"],[0.6666666666666666,\"#ed7953\"],[0.7777777777777778,\"#fb9f3a\"],[0.8888888888888888,\"#fdca26\"],[1.0,\"#f0f921\"]],\"sequentialminus\":[[0.0,\"#0d0887\"],[0.1111111111111111,\"#46039f\"],[0.2222222222222222,\"#7201a8\"],[0.3333333333333333,\"#9c179e\"],[0.4444444444444444,\"#bd3786\"],[0.5555555555555556,\"#d8576b\"],[0.6666666666666666,\"#ed7953\"],[0.7777777777777778,\"#fb9f3a\"],[0.8888888888888888,\"#fdca26\"],[1.0,\"#f0f921\"]],\"diverging\":[[0,\"#8e0152\"],[0.1,\"#c51b7d\"],[0.2,\"#de77ae\"],[0.3,\"#f1b6da\"],[0.4,\"#fde0ef\"],[0.5,\"#f7f7f7\"],[0.6,\"#e6f5d0\"],[0.7,\"#b8e186\"],[0.8,\"#7fbc41\"],[0.9,\"#4d9221\"],[1,\"#276419\"]]},\"xaxis\":{\"gridcolor\":\"white\",\"linecolor\":\"white\",\"ticks\":\"\",\"title\":{\"standoff\":15},\"zerolinecolor\":\"white\",\"automargin\":true,\"zerolinewidth\":2},\"yaxis\":{\"gridcolor\":\"white\",\"linecolor\":\"white\",\"ticks\":\"\",\"title\":{\"standoff\":15},\"zerolinecolor\":\"white\",\"automargin\":true,\"zerolinewidth\":2},\"scene\":{\"xaxis\":{\"backgroundcolor\":\"#E5ECF6\",\"gridcolor\":\"white\",\"linecolor\":\"white\",\"showbackground\":true,\"ticks\":\"\",\"zerolinecolor\":\"white\",\"gridwidth\":2},\"yaxis\":{\"backgroundcolor\":\"#E5ECF6\",\"gridcolor\":\"white\",\"linecolor\":\"white\",\"showbackground\":true,\"ticks\":\"\",\"zerolinecolor\":\"white\",\"gridwidth\":2},\"zaxis\":{\"backgroundcolor\":\"#E5ECF6\",\"gridcolor\":\"white\",\"linecolor\":\"white\",\"showbackground\":true,\"ticks\":\"\",\"zerolinecolor\":\"white\",\"gridwidth\":2}},\"shapedefaults\":{\"line\":{\"color\":\"#2a3f5f\"}},\"annotationdefaults\":{\"arrowcolor\":\"#2a3f5f\",\"arrowhead\":0,\"arrowwidth\":1},\"geo\":{\"bgcolor\":\"white\",\"landcolor\":\"#E5ECF6\",\"subunitcolor\":\"white\",\"showland\":true,\"showlakes\":true,\"lakecolor\":\"white\"},\"title\":{\"x\":0.05},\"mapbox\":{\"style\":\"light\"}}},\"xaxis\":{\"anchor\":\"y\",\"domain\":[0.0,1.0],\"title\":{\"text\":\"PC1\"}},\"yaxis\":{\"anchor\":\"x\",\"domain\":[0.0,1.0],\"title\":{\"text\":\"PC2\"}},\"legend\":{\"title\":{\"text\":\"cluster, type\"},\"tracegroupgap\":0},\"margin\":{\"t\":60},\"title\":{\"text\":\"{C \\u00d7 274} PCA\\u003cbr\\u003e\\u003cbr\\u003e\\u003csup\\u003e\\u003ci\\u003e#compounds=274\\u003c\\u002fi\\u003e\\u003c\\u002fsup\\u003e\"},\"showlegend\":false},                        {\"responsive\": true}                    ).then(function(){\n",
       "                            \n",
       "var gd = document.getElementById('2d0362fe-db89-4c0f-9256-84a4926506bc');\n",
       "var x = new MutationObserver(function (mutations, observer) {{\n",
       "        var display = window.getComputedStyle(gd).display;\n",
       "        if (!display || display === 'none') {{\n",
       "            console.log([gd, 'removed!']);\n",
       "            Plotly.purge(gd);\n",
       "            observer.disconnect();\n",
       "        }}\n",
       "}});\n",
       "\n",
       "// Listen for the removal of the full notebook cells\n",
       "var notebookContainer = gd.closest('#notebook-container');\n",
       "if (notebookContainer) {{\n",
       "    x.observe(notebookContainer, {childList: true});\n",
       "}}\n",
       "\n",
       "// Listen for the clearing of the current output cell\n",
       "var outputEl = gd.closest('.output');\n",
       "if (outputEl) {{\n",
       "    x.observe(outputEl, {childList: true});\n",
       "}}\n",
       "\n",
       "                        })                };                });            </script>        </div>"
      ]
     },
     "metadata": {},
     "output_type": "display_data"
    }
   ],
   "source": [
    "plot_compound_tsnee(big_recipe.products.compounds, logo=False)"
   ]
  },
  {
   "cell_type": "markdown",
   "id": "dadea6da-ac3d-4e9c-8b0e-1afe4aaf4793",
   "metadata": {},
   "source": [
    "## RRG"
   ]
  },
  {
   "cell_type": "code",
   "execution_count": 11,
   "id": "776b9384-e888-418e-860d-2f8b7a352c93",
   "metadata": {},
   "outputs": [
    {
     "data": {
      "text/html": [
       "<pre style=\"white-space:pre;overflow-x:auto;line-height:normal;font-family:Menlo,'DejaVu Sans Mono',consolas,'Courier New',monospace;margin:0px\"><span style=\"background-color: #d7af00; font-weight: bold\"> DISK </span> Reading <span style=\"color: #d7af00; text-decoration-color: #d7af00\">iter1_starting_recipe.json</span>...\n",
       "</pre>\n"
      ],
      "text/plain": [
       "\u001b[1;7;38;5;178m DISK \u001b[0m Reading \u001b[38;5;178miter1_starting_recipe.json\u001b[0m...\n"
      ]
     },
     "metadata": {},
     "output_type": "display_data"
    },
    {
     "data": {
      "text/html": [
       "<pre style=\"white-space:pre;overflow-x:auto;line-height:normal;font-family:Menlo,'DejaVu Sans Mono',consolas,'Courier New',monospace;margin:0px\">Recipe was generated at: <span style=\"color: #008080; text-decoration-color: #008080; font-weight: bold\">2025</span>-<span style=\"color: #008080; text-decoration-color: #008080; font-weight: bold\">03</span>-<span style=\"color: #008080; text-decoration-color: #008080; font-weight: bold\">14</span> <span style=\"color: #00ff00; text-decoration-color: #00ff00; font-weight: bold\">11:31:56</span>.<span style=\"color: #008080; text-decoration-color: #008080; font-weight: bold\">550273</span>\n",
       "</pre>\n"
      ],
      "text/plain": [
       "Recipe was generated at: \u001b[1;36m2025\u001b[0m-\u001b[1;36m03\u001b[0m-\u001b[1;36m14\u001b[0m \u001b[1;92m11:31:56\u001b[0m.\u001b[1;36m550273\u001b[0m\n"
      ]
     },
     "metadata": {},
     "output_type": "display_data"
    },
    {
     "data": {
      "text/html": [
       "<pre style=\"white-space:pre;overflow-x:auto;line-height:normal;font-family:Menlo,'DejaVu Sans Mono',consolas,'Courier New',monospace;margin:0px\"><span style=\"color: #008080; text-decoration-color: #008080; font-weight: bold\">reactants</span> = <span style=\"font-weight: bold; text-decoration: underline\">{Ingredient × 31}</span>\n",
       "</pre>\n"
      ],
      "text/plain": [
       "\u001b[1;36mreactants\u001b[0m = \u001b[1;4m{Ingredient × 31}\u001b[0m\n"
      ]
     },
     "metadata": {},
     "output_type": "display_data"
    },
    {
     "data": {
      "text/html": [
       "<pre style=\"white-space:pre;overflow-x:auto;line-height:normal;font-family:Menlo,'DejaVu Sans Mono',consolas,'Courier New',monospace;margin:0px\"><span style=\"color: #008080; text-decoration-color: #008080; font-weight: bold\">intermediates</span> = <span style=\"font-weight: bold; text-decoration: underline\">{Ingredient × 0}</span>\n",
       "</pre>\n"
      ],
      "text/plain": [
       "\u001b[1;36mintermediates\u001b[0m = \u001b[1;4m{Ingredient × 0}\u001b[0m\n"
      ]
     },
     "metadata": {},
     "output_type": "display_data"
    },
    {
     "data": {
      "text/html": [
       "<pre style=\"white-space:pre;overflow-x:auto;line-height:normal;font-family:Menlo,'DejaVu Sans Mono',consolas,'Courier New',monospace;margin:0px\"><span style=\"color: #008080; text-decoration-color: #008080; font-weight: bold\">products</span> = <span style=\"font-weight: bold; text-decoration: underline\">{Ingredient × 19}</span>\n",
       "</pre>\n"
      ],
      "text/plain": [
       "\u001b[1;36mproducts\u001b[0m = \u001b[1;4m{Ingredient × 19}\u001b[0m\n"
      ]
     },
     "metadata": {},
     "output_type": "display_data"
    },
    {
     "data": {
      "text/html": [
       "<pre style=\"white-space:pre;overflow-x:auto;line-height:normal;font-family:Menlo,'DejaVu Sans Mono',consolas,'Courier New',monospace;margin:0px\"><span style=\"color: #008080; text-decoration-color: #008080; font-weight: bold\">reactions</span> = <span style=\"font-weight: bold; text-decoration: underline\">{R × 19}</span>\n",
       "</pre>\n"
      ],
      "text/plain": [
       "\u001b[1;36mreactions\u001b[0m = \u001b[1;4m{R × 19}\u001b[0m\n"
      ]
     },
     "metadata": {},
     "output_type": "display_data"
    },
    {
     "data": {
      "text/html": [
       "<pre style=\"white-space:pre;overflow-x:auto;line-height:normal;font-family:Menlo,'DejaVu Sans Mono',consolas,'Courier New',monospace;margin:0px\"><span style=\"color: #808080; text-decoration-color: #808080\">DEBUG: RandomRecipeGenerator.__init__()</span>\n",
       "</pre>\n"
      ],
      "text/plain": [
       "\u001b[90mDEBUG: RandomRecipeGenerator.__init__()\u001b[0m\n"
      ]
     },
     "metadata": {},
     "output_type": "display_data"
    },
    {
     "data": {
      "text/html": [
       "<pre style=\"white-space:pre;overflow-x:auto;line-height:normal;font-family:Menlo,'DejaVu Sans Mono',consolas,'Courier New',monospace;margin:0px\"><span style=\"color: #008080; text-decoration-color: #008080; font-weight: bold\">database</span> = <span style=\"color: #d7af00; text-decoration-color: #d7af00\">../../BulkDock/TARGETS/D68EV3C/D68EV3C.sqlite</span>\n",
       "</pre>\n"
      ],
      "text/plain": [
       "\u001b[1;36mdatabase\u001b[0m = \u001b[38;5;178m../../BulkDock/TARGETS/D68EV3C/D68EV3C.sqlite\u001b[0m\n"
      ]
     },
     "metadata": {},
     "output_type": "display_data"
    },
    {
     "data": {
      "text/html": [
       "<pre style=\"white-space:pre;overflow-x:auto;line-height:normal;font-family:Menlo,'DejaVu Sans Mono',consolas,'Courier New',monospace;margin:0px\"><span style=\"color: #008080; text-decoration-color: #008080; font-weight: bold\">max_lead_time</span> = <span style=\"color: #800080; text-decoration-color: #800080; font-style: italic\">None</span>\n",
       "</pre>\n"
      ],
      "text/plain": [
       "\u001b[1;36mmax_lead_time\u001b[0m = \u001b[3;35mNone\u001b[0m\n"
      ]
     },
     "metadata": {},
     "output_type": "display_data"
    },
    {
     "data": {
      "text/html": [
       "<pre style=\"white-space:pre;overflow-x:auto;line-height:normal;font-family:Menlo,'DejaVu Sans Mono',consolas,'Courier New',monospace;margin:0px\"><span style=\"color: #008080; text-decoration-color: #008080; font-weight: bold\">suppliers</span> =\n",
       "<span style=\"font-weight: bold\">[</span><span style=\"color: #008000; text-decoration-color: #008000\">'Stock'</span>, <span style=\"color: #008000; text-decoration-color: #008000\">'Enamine'</span><span style=\"font-weight: bold\">]</span>\n",
       "</pre>\n"
      ],
      "text/plain": [
       "\u001b[1;36msuppliers\u001b[0m =\n",
       "\u001b[1m[\u001b[0m\u001b[32m'Stock'\u001b[0m, \u001b[32m'Enamine'\u001b[0m\u001b[1m]\u001b[0m\n"
      ]
     },
     "metadata": {},
     "output_type": "display_data"
    },
    {
     "data": {
      "text/html": [
       "<pre style=\"white-space:pre;overflow-x:auto;line-height:normal;font-family:Menlo,'DejaVu Sans Mono',consolas,'Courier New',monospace;margin:0px\"><span style=\"background-color: #d7af00; font-weight: bold\"> DISK </span> Writing <span style=\"color: #d7af00; text-decoration-color: #d7af00\">D68EV3C_recipes/</span>...\n",
       "</pre>\n"
      ],
      "text/plain": [
       "\u001b[1;7;38;5;178m DISK \u001b[0m Writing \u001b[38;5;178mD68EV3C_recipes/\u001b[0m...\n"
      ]
     },
     "metadata": {},
     "output_type": "display_data"
    },
    {
     "data": {
      "text/html": [
       "<pre style=\"white-space:pre;overflow-x:auto;line-height:normal;font-family:Menlo,'DejaVu Sans Mono',consolas,'Courier New',monospace;margin:0px\"><span style=\"color: #808080; text-decoration-color: #808080\">DEBUG: Solving route pool...</span>\n",
       "</pre>\n"
      ],
      "text/plain": [
       "\u001b[90mDEBUG: Solving route pool...\u001b[0m\n"
      ]
     },
     "metadata": {},
     "output_type": "display_data"
    },
    {
     "data": {
      "application/vnd.jupyter.widget-view+json": {
       "model_id": "d5a69bd3bb3244868ea4eae4afa5a6dd",
       "version_major": 2,
       "version_minor": 0
      },
      "text/plain": [
       "Output()"
      ]
     },
     "metadata": {},
     "output_type": "display_data"
    },
    {
     "data": {
      "text/html": [
       "<pre style=\"white-space:pre;overflow-x:auto;line-height:normal;font-family:Menlo,'DejaVu Sans Mono',consolas,'Courier New',monospace;margin:0px\"></pre>\n"
      ],
      "text/plain": []
     },
     "metadata": {},
     "output_type": "display_data"
    },
    {
     "data": {
      "text/html": [
       "<pre style=\"white-space:pre;overflow-x:auto;line-height:normal;font-family:Menlo,'DejaVu Sans Mono',consolas,'Courier New',monospace;margin:0px\"><span style=\"background-color: #d7af00; font-weight: bold\"> DISK </span> Writing <span style=\"color: #d7af00; text-decoration-color: #d7af00\">D68EV3C_rgen.json</span>...\n",
       "</pre>\n"
      ],
      "text/plain": [
       "\u001b[1;7;38;5;178m DISK \u001b[0m Writing \u001b[38;5;178mD68EV3C_rgen.json\u001b[0m...\n"
      ]
     },
     "metadata": {},
     "output_type": "display_data"
    },
    {
     "data": {
      "text/plain": [
       "\u001b[1m\u001b[4mRandomRecipeGenerator(recipe_dir=D68EV3C_recipes)\u001b[22m\u001b[24m"
      ]
     },
     "execution_count": 11,
     "metadata": {},
     "output_type": "execute_result"
    }
   ],
   "source": [
    "starting_recipe = hippo.Recipe.from_json(\n",
    "    animal.db, \n",
    "    \"iter1_starting_recipe.json\"\n",
    ")\n",
    "\n",
    "rgen = hippo.RandomRecipeGenerator(\n",
    "    db=animal.db, \n",
    "    max_lead_time=None, \n",
    "    suppliers=[\"Stock\", \"Enamine\"], \n",
    "    start_with=starting_recipe\n",
    ")\n",
    "\n",
    "rgen"
   ]
  },
  {
   "cell_type": "code",
   "execution_count": 13,
   "id": "736acacd-f66b-4699-8fe4-a9976d5aac02",
   "metadata": {},
   "outputs": [
    {
     "data": {
      "text/html": [
       "<pre style=\"white-space:pre;overflow-x:auto;line-height:normal;font-family:Menlo,'DejaVu Sans Mono',consolas,'Courier New',monospace;margin:0px\"><span style=\"color: #808080; text-decoration-color: #808080\">DEBUG: Shuffling Route pool</span>\n",
       "</pre>\n"
      ],
      "text/plain": [
       "\u001b[90mDEBUG: Shuffling Route pool\u001b[0m\n"
      ]
     },
     "metadata": {},
     "output_type": "display_data"
    },
    {
     "data": {
      "text/html": [
       "<pre style=\"white-space:pre;overflow-x:auto;line-height:normal;font-family:Menlo,'DejaVu Sans Mono',consolas,'Courier New',monospace;margin:0px\"><span style=\"color: #008080; text-decoration-color: #008080; font-weight: bold\">route pool</span> = <span style=\"color: #008080; text-decoration-color: #008080; font-weight: bold\">274</span>\n",
       "</pre>\n"
      ],
      "text/plain": [
       "\u001b[1;36mroute pool\u001b[0m = \u001b[1;36m274\u001b[0m\n"
      ]
     },
     "metadata": {},
     "output_type": "display_data"
    },
    {
     "data": {
      "text/html": [
       "<pre style=\"white-space:pre;overflow-x:auto;line-height:normal;font-family:Menlo,'DejaVu Sans Mono',consolas,'Courier New',monospace;margin:0px\"><span style=\"color: #008080; text-decoration-color: #008080; font-weight: bold\">max_iter</span> = <span style=\"color: #008080; text-decoration-color: #008080; font-weight: bold\">275</span>\n",
       "</pre>\n"
      ],
      "text/plain": [
       "\u001b[1;36mmax_iter\u001b[0m = \u001b[1;36m275\u001b[0m\n"
      ]
     },
     "metadata": {},
     "output_type": "display_data"
    },
    {
     "data": {
      "application/vnd.jupyter.widget-view+json": {
       "model_id": "6c9dcbcda29f4d42b178147f428bec45",
       "version_major": 2,
       "version_minor": 0
      },
      "text/plain": [
       "Output()"
      ]
     },
     "metadata": {},
     "output_type": "display_data"
    },
    {
     "data": {
      "text/html": [
       "<pre style=\"white-space:pre;overflow-x:auto;line-height:normal;font-family:Menlo,'DejaVu Sans Mono',consolas,'Courier New',monospace;margin:0px\"><span style=\"background-color: #008000; font-weight: bold\"> Success </span><span style=\"color: #008000; text-decoration-color: #008000; font-weight: bold\"> Product pool depleted!</span>\n",
       "</pre>\n"
      ],
      "text/plain": [
       "\u001b[1;7;32m Success \u001b[0m\u001b[1;32m Product pool depleted!\u001b[0m\n"
      ]
     },
     "metadata": {},
     "output_type": "display_data"
    },
    {
     "data": {
      "text/html": [
       "<pre style=\"white-space:pre;overflow-x:auto;line-height:normal;font-family:Menlo,'DejaVu Sans Mono',consolas,'Courier New',monospace;margin:0px\"></pre>\n"
      ],
      "text/plain": []
     },
     "metadata": {},
     "output_type": "display_data"
    },
    {
     "data": {
      "text/html": [
       "<pre style=\"white-space:pre;overflow-x:auto;line-height:normal;font-family:Menlo,'DejaVu Sans Mono',consolas,'Courier New',monospace;margin:0px\"><span style=\"background-color: #008000; font-weight: bold\"> Success </span><span style=\"color: #008000; text-decoration-color: #008000; font-weight: bold\"> Completed after 273 iterations!</span>\n",
       "</pre>\n"
      ],
      "text/plain": [
       "\u001b[1;7;32m Success \u001b[0m\u001b[1;32m Completed after 273 iterations!\u001b[0m\n"
      ]
     },
     "metadata": {},
     "output_type": "display_data"
    },
    {
     "data": {
      "text/html": [
       "<pre style=\"white-space:pre;overflow-x:auto;line-height:normal;font-family:Menlo,'DejaVu Sans Mono',consolas,'Courier New',monospace;margin:0px\"><span style=\"background-color: #d7af00; font-weight: bold\"> DISK </span> Writing <span style=\"color: #d7af00; text-decoration-color: #d7af00\">D68EV3C_recipes/Recipe_0FV3U2Q.json</span>...\n",
       "</pre>\n"
      ],
      "text/plain": [
       "\u001b[1;7;38;5;178m DISK \u001b[0m Writing \u001b[38;5;178mD68EV3C_recipes/Recipe_0FV3U2Q.json\u001b[0m...\n"
      ]
     },
     "metadata": {},
     "output_type": "display_data"
    }
   ],
   "source": [
    "r = rgen.generate(\n",
    "                budget=10_000,\n",
    "                currency=\"EUR\",\n",
    "                max_products=3000,\n",
    "                max_reactions=6000,\n",
    "                debug=False,\n",
    "                max_iter=len(rgen.route_pool)+1,\n",
    "                shuffle=True,\n",
    "                balance_clusters=False,\n",
    "                permitted_clusters=None,\n",
    "            )"
   ]
  },
  {
   "cell_type": "code",
   "execution_count": 14,
   "id": "db901322-43d7-44cc-af43-1721c206792e",
   "metadata": {},
   "outputs": [
    {
     "data": {
      "text/plain": [
       "\u001b[1m\u001b[4mRecipe({Ingredient × 55} --> {Ingredient × 48} via {R × 48})\u001b[22m\u001b[24m"
      ]
     },
     "execution_count": 14,
     "metadata": {},
     "output_type": "execute_result"
    }
   ],
   "source": [
    "r"
   ]
  },
  {
   "cell_type": "code",
   "execution_count": 16,
   "id": "5bce58ed-a2fc-44df-91c1-46b8b9ced6e5",
   "metadata": {},
   "outputs": [
    {
     "data": {
      "text/html": [
       "<div>\n",
       "<style scoped>\n",
       "    .dataframe tbody tr th:only-of-type {\n",
       "        vertical-align: middle;\n",
       "    }\n",
       "\n",
       "    .dataframe tbody tr th {\n",
       "        vertical-align: top;\n",
       "    }\n",
       "\n",
       "    .dataframe thead th {\n",
       "        text-align: right;\n",
       "    }\n",
       "</style>\n",
       "<table border=\"1\" class=\"dataframe\">\n",
       "  <thead>\n",
       "    <tr style=\"text-align: right;\">\n",
       "      <th></th>\n",
       "      <th>compound_id</th>\n",
       "      <th>amount</th>\n",
       "      <th>quote_id</th>\n",
       "      <th>supplier</th>\n",
       "      <th>max_lead_time</th>\n",
       "      <th>quoted_amount</th>\n",
       "      <th>price</th>\n",
       "    </tr>\n",
       "  </thead>\n",
       "  <tbody>\n",
       "    <tr>\n",
       "      <th>0</th>\n",
       "      <td>18027</td>\n",
       "      <td>1.0</td>\n",
       "      <td>9121</td>\n",
       "      <td>Enamine</td>\n",
       "      <td>None</td>\n",
       "      <td>100.0</td>\n",
       "      <td>€18.00 EUR</td>\n",
       "    </tr>\n",
       "    <tr>\n",
       "      <th>1</th>\n",
       "      <td>18083</td>\n",
       "      <td>3.0</td>\n",
       "      <td>8953</td>\n",
       "      <td>Enamine</td>\n",
       "      <td>None</td>\n",
       "      <td>100.0</td>\n",
       "      <td>€435.00 EUR</td>\n",
       "    </tr>\n",
       "    <tr>\n",
       "      <th>2</th>\n",
       "      <td>51607</td>\n",
       "      <td>5.0</td>\n",
       "      <td>9226</td>\n",
       "      <td>Enamine</td>\n",
       "      <td>None</td>\n",
       "      <td>50.0</td>\n",
       "      <td>€44.00 EUR</td>\n",
       "    </tr>\n",
       "    <tr>\n",
       "      <th>3</th>\n",
       "      <td>51611</td>\n",
       "      <td>1.0</td>\n",
       "      <td>9394</td>\n",
       "      <td>Enamine</td>\n",
       "      <td>None</td>\n",
       "      <td>50.0</td>\n",
       "      <td>€21.00 EUR</td>\n",
       "    </tr>\n",
       "    <tr>\n",
       "      <th>4</th>\n",
       "      <td>21385</td>\n",
       "      <td>3.0</td>\n",
       "      <td>10274</td>\n",
       "      <td>Enamine</td>\n",
       "      <td>None</td>\n",
       "      <td>50.0</td>\n",
       "      <td>€208.00 EUR</td>\n",
       "    </tr>\n",
       "    <tr>\n",
       "      <th>5</th>\n",
       "      <td>21471</td>\n",
       "      <td>1.0</td>\n",
       "      <td>11299</td>\n",
       "      <td>Enamine</td>\n",
       "      <td>None</td>\n",
       "      <td>50.0</td>\n",
       "      <td>€250.00 EUR</td>\n",
       "    </tr>\n",
       "    <tr>\n",
       "      <th>6</th>\n",
       "      <td>13126</td>\n",
       "      <td>8.0</td>\n",
       "      <td>9626</td>\n",
       "      <td>Enamine</td>\n",
       "      <td>None</td>\n",
       "      <td>50.0</td>\n",
       "      <td>€202.00 EUR</td>\n",
       "    </tr>\n",
       "    <tr>\n",
       "      <th>7</th>\n",
       "      <td>28670</td>\n",
       "      <td>1.0</td>\n",
       "      <td>11277</td>\n",
       "      <td>Enamine</td>\n",
       "      <td>None</td>\n",
       "      <td>50.0</td>\n",
       "      <td>€173.00 EUR</td>\n",
       "    </tr>\n",
       "    <tr>\n",
       "      <th>8</th>\n",
       "      <td>13159</td>\n",
       "      <td>1.0</td>\n",
       "      <td>9264</td>\n",
       "      <td>Enamine</td>\n",
       "      <td>None</td>\n",
       "      <td>50.0</td>\n",
       "      <td>€129.00 EUR</td>\n",
       "    </tr>\n",
       "    <tr>\n",
       "      <th>9</th>\n",
       "      <td>29789</td>\n",
       "      <td>1.0</td>\n",
       "      <td>9594</td>\n",
       "      <td>Enamine</td>\n",
       "      <td>None</td>\n",
       "      <td>50.0</td>\n",
       "      <td>€244.00 EUR</td>\n",
       "    </tr>\n",
       "    <tr>\n",
       "      <th>10</th>\n",
       "      <td>14284</td>\n",
       "      <td>1.0</td>\n",
       "      <td>10185</td>\n",
       "      <td>Enamine</td>\n",
       "      <td>None</td>\n",
       "      <td>50.0</td>\n",
       "      <td>€206.00 EUR</td>\n",
       "    </tr>\n",
       "    <tr>\n",
       "      <th>11</th>\n",
       "      <td>46569</td>\n",
       "      <td>1.0</td>\n",
       "      <td>9975</td>\n",
       "      <td>Enamine</td>\n",
       "      <td>None</td>\n",
       "      <td>50.0</td>\n",
       "      <td>€18.00 EUR</td>\n",
       "    </tr>\n",
       "    <tr>\n",
       "      <th>12</th>\n",
       "      <td>35318</td>\n",
       "      <td>1.0</td>\n",
       "      <td>9240</td>\n",
       "      <td>Enamine</td>\n",
       "      <td>None</td>\n",
       "      <td>50.0</td>\n",
       "      <td>€91.00 EUR</td>\n",
       "    </tr>\n",
       "    <tr>\n",
       "      <th>13</th>\n",
       "      <td>35417</td>\n",
       "      <td>1.0</td>\n",
       "      <td>10123</td>\n",
       "      <td>Enamine</td>\n",
       "      <td>None</td>\n",
       "      <td>50.0</td>\n",
       "      <td>€202.00 EUR</td>\n",
       "    </tr>\n",
       "    <tr>\n",
       "      <th>14</th>\n",
       "      <td>14291</td>\n",
       "      <td>6.0</td>\n",
       "      <td>7035</td>\n",
       "      <td>Enamine</td>\n",
       "      <td>None</td>\n",
       "      <td>100.0</td>\n",
       "      <td>€310.00 EUR</td>\n",
       "    </tr>\n",
       "    <tr>\n",
       "      <th>15</th>\n",
       "      <td>43823</td>\n",
       "      <td>1.0</td>\n",
       "      <td>9924</td>\n",
       "      <td>Enamine</td>\n",
       "      <td>None</td>\n",
       "      <td>50.0</td>\n",
       "      <td>€193.00 EUR</td>\n",
       "    </tr>\n",
       "    <tr>\n",
       "      <th>16</th>\n",
       "      <td>41039</td>\n",
       "      <td>1.0</td>\n",
       "      <td>9850</td>\n",
       "      <td>Enamine</td>\n",
       "      <td>None</td>\n",
       "      <td>50.0</td>\n",
       "      <td>€208.00 EUR</td>\n",
       "    </tr>\n",
       "    <tr>\n",
       "      <th>17</th>\n",
       "      <td>45808</td>\n",
       "      <td>1.0</td>\n",
       "      <td>9427</td>\n",
       "      <td>Enamine</td>\n",
       "      <td>None</td>\n",
       "      <td>50.0</td>\n",
       "      <td>€84.00 EUR</td>\n",
       "    </tr>\n",
       "    <tr>\n",
       "      <th>18</th>\n",
       "      <td>7274</td>\n",
       "      <td>4.0</td>\n",
       "      <td>9567</td>\n",
       "      <td>Enamine</td>\n",
       "      <td>None</td>\n",
       "      <td>50.0</td>\n",
       "      <td>€18.00 EUR</td>\n",
       "    </tr>\n",
       "    <tr>\n",
       "      <th>19</th>\n",
       "      <td>7339</td>\n",
       "      <td>3.0</td>\n",
       "      <td>9946</td>\n",
       "      <td>Enamine</td>\n",
       "      <td>None</td>\n",
       "      <td>50.0</td>\n",
       "      <td>€61.00 EUR</td>\n",
       "    </tr>\n",
       "    <tr>\n",
       "      <th>20</th>\n",
       "      <td>14991</td>\n",
       "      <td>1.0</td>\n",
       "      <td>7504</td>\n",
       "      <td>Enamine</td>\n",
       "      <td>None</td>\n",
       "      <td>100.0</td>\n",
       "      <td>€18.00 EUR</td>\n",
       "    </tr>\n",
       "    <tr>\n",
       "      <th>21</th>\n",
       "      <td>15074</td>\n",
       "      <td>3.0</td>\n",
       "      <td>9551</td>\n",
       "      <td>Enamine</td>\n",
       "      <td>None</td>\n",
       "      <td>50.0</td>\n",
       "      <td>€233.00 EUR</td>\n",
       "    </tr>\n",
       "    <tr>\n",
       "      <th>22</th>\n",
       "      <td>53805</td>\n",
       "      <td>3.0</td>\n",
       "      <td>6314</td>\n",
       "      <td>Enamine</td>\n",
       "      <td>None</td>\n",
       "      <td>100.0</td>\n",
       "      <td>€125.00 EUR</td>\n",
       "    </tr>\n",
       "    <tr>\n",
       "      <th>23</th>\n",
       "      <td>31795</td>\n",
       "      <td>1.0</td>\n",
       "      <td>7133</td>\n",
       "      <td>Enamine</td>\n",
       "      <td>None</td>\n",
       "      <td>100.0</td>\n",
       "      <td>€18.00 EUR</td>\n",
       "    </tr>\n",
       "    <tr>\n",
       "      <th>24</th>\n",
       "      <td>31881</td>\n",
       "      <td>8.0</td>\n",
       "      <td>5747</td>\n",
       "      <td>Enamine</td>\n",
       "      <td>None</td>\n",
       "      <td>100.0</td>\n",
       "      <td>€193.00 EUR</td>\n",
       "    </tr>\n",
       "    <tr>\n",
       "      <th>25</th>\n",
       "      <td>41858</td>\n",
       "      <td>1.0</td>\n",
       "      <td>9760</td>\n",
       "      <td>Enamine</td>\n",
       "      <td>None</td>\n",
       "      <td>50.0</td>\n",
       "      <td>€65.00 EUR</td>\n",
       "    </tr>\n",
       "    <tr>\n",
       "      <th>26</th>\n",
       "      <td>38944</td>\n",
       "      <td>1.0</td>\n",
       "      <td>7357</td>\n",
       "      <td>Enamine</td>\n",
       "      <td>None</td>\n",
       "      <td>100.0</td>\n",
       "      <td>€18.00 EUR</td>\n",
       "    </tr>\n",
       "    <tr>\n",
       "      <th>27</th>\n",
       "      <td>39005</td>\n",
       "      <td>1.0</td>\n",
       "      <td>10782</td>\n",
       "      <td>Enamine</td>\n",
       "      <td>None</td>\n",
       "      <td>50.0</td>\n",
       "      <td>€451.00 EUR</td>\n",
       "    </tr>\n",
       "    <tr>\n",
       "      <th>28</th>\n",
       "      <td>16650</td>\n",
       "      <td>1.0</td>\n",
       "      <td>10761</td>\n",
       "      <td>Enamine</td>\n",
       "      <td>None</td>\n",
       "      <td>50.0</td>\n",
       "      <td>€237.00 EUR</td>\n",
       "    </tr>\n",
       "    <tr>\n",
       "      <th>29</th>\n",
       "      <td>16700</td>\n",
       "      <td>1.0</td>\n",
       "      <td>9479</td>\n",
       "      <td>Enamine</td>\n",
       "      <td>None</td>\n",
       "      <td>50.0</td>\n",
       "      <td>€208.00 EUR</td>\n",
       "    </tr>\n",
       "    <tr>\n",
       "      <th>30</th>\n",
       "      <td>34614</td>\n",
       "      <td>1.0</td>\n",
       "      <td>11230</td>\n",
       "      <td>Enamine</td>\n",
       "      <td>None</td>\n",
       "      <td>50.0</td>\n",
       "      <td>€227.00 EUR</td>\n",
       "    </tr>\n",
       "    <tr>\n",
       "      <th>31</th>\n",
       "      <td>52001</td>\n",
       "      <td>1.0</td>\n",
       "      <td>6363</td>\n",
       "      <td>[Stock, Enamine]</td>\n",
       "      <td>None</td>\n",
       "      <td>100.0</td>\n",
       "      <td>€230.00 EUR</td>\n",
       "    </tr>\n",
       "    <tr>\n",
       "      <th>32</th>\n",
       "      <td>51970</td>\n",
       "      <td>1.0</td>\n",
       "      <td>10484</td>\n",
       "      <td>[Stock, Enamine]</td>\n",
       "      <td>None</td>\n",
       "      <td>50.0</td>\n",
       "      <td>€202.00 EUR</td>\n",
       "    </tr>\n",
       "    <tr>\n",
       "      <th>33</th>\n",
       "      <td>7319</td>\n",
       "      <td>4.0</td>\n",
       "      <td>11263</td>\n",
       "      <td>[Stock, Enamine]</td>\n",
       "      <td>None</td>\n",
       "      <td>50.0</td>\n",
       "      <td>€190.00 EUR</td>\n",
       "    </tr>\n",
       "    <tr>\n",
       "      <th>34</th>\n",
       "      <td>53806</td>\n",
       "      <td>2.0</td>\n",
       "      <td>10513</td>\n",
       "      <td>[Stock, Enamine]</td>\n",
       "      <td>None</td>\n",
       "      <td>50.0</td>\n",
       "      <td>€165.00 EUR</td>\n",
       "    </tr>\n",
       "    <tr>\n",
       "      <th>35</th>\n",
       "      <td>31866</td>\n",
       "      <td>1.0</td>\n",
       "      <td>6538</td>\n",
       "      <td>[Stock, Enamine]</td>\n",
       "      <td>None</td>\n",
       "      <td>100.0</td>\n",
       "      <td>€18.00 EUR</td>\n",
       "    </tr>\n",
       "    <tr>\n",
       "      <th>36</th>\n",
       "      <td>21506</td>\n",
       "      <td>1.0</td>\n",
       "      <td>8106</td>\n",
       "      <td>[Stock, Enamine]</td>\n",
       "      <td>None</td>\n",
       "      <td>100.0</td>\n",
       "      <td>€284.00 EUR</td>\n",
       "    </tr>\n",
       "    <tr>\n",
       "      <th>37</th>\n",
       "      <td>51673</td>\n",
       "      <td>1.0</td>\n",
       "      <td>8666</td>\n",
       "      <td>[Stock, Enamine]</td>\n",
       "      <td>None</td>\n",
       "      <td>100.0</td>\n",
       "      <td>€259.00 EUR</td>\n",
       "    </tr>\n",
       "    <tr>\n",
       "      <th>38</th>\n",
       "      <td>13170</td>\n",
       "      <td>1.0</td>\n",
       "      <td>8281</td>\n",
       "      <td>[Stock, Enamine]</td>\n",
       "      <td>None</td>\n",
       "      <td>100.0</td>\n",
       "      <td>€339.00 EUR</td>\n",
       "    </tr>\n",
       "    <tr>\n",
       "      <th>39</th>\n",
       "      <td>31863</td>\n",
       "      <td>1.0</td>\n",
       "      <td>8757</td>\n",
       "      <td>[Stock, Enamine]</td>\n",
       "      <td>None</td>\n",
       "      <td>100.0</td>\n",
       "      <td>€491.00 EUR</td>\n",
       "    </tr>\n",
       "    <tr>\n",
       "      <th>40</th>\n",
       "      <td>29797</td>\n",
       "      <td>1.0</td>\n",
       "      <td>7847</td>\n",
       "      <td>[Stock, Enamine]</td>\n",
       "      <td>None</td>\n",
       "      <td>100.0</td>\n",
       "      <td>€444.00 EUR</td>\n",
       "    </tr>\n",
       "    <tr>\n",
       "      <th>41</th>\n",
       "      <td>28671</td>\n",
       "      <td>1.0</td>\n",
       "      <td>7497</td>\n",
       "      <td>[Stock, Enamine]</td>\n",
       "      <td>None</td>\n",
       "      <td>100.0</td>\n",
       "      <td>€349.00 EUR</td>\n",
       "    </tr>\n",
       "    <tr>\n",
       "      <th>42</th>\n",
       "      <td>41896</td>\n",
       "      <td>1.0</td>\n",
       "      <td>8365</td>\n",
       "      <td>[Stock, Enamine]</td>\n",
       "      <td>None</td>\n",
       "      <td>100.0</td>\n",
       "      <td>€406.00 EUR</td>\n",
       "    </tr>\n",
       "    <tr>\n",
       "      <th>43</th>\n",
       "      <td>31843</td>\n",
       "      <td>1.0</td>\n",
       "      <td>11256</td>\n",
       "      <td>[Stock, Enamine]</td>\n",
       "      <td>None</td>\n",
       "      <td>50.0</td>\n",
       "      <td>€177.00 EUR</td>\n",
       "    </tr>\n",
       "    <tr>\n",
       "      <th>44</th>\n",
       "      <td>15045</td>\n",
       "      <td>1.0</td>\n",
       "      <td>9918</td>\n",
       "      <td>[Stock, Enamine]</td>\n",
       "      <td>None</td>\n",
       "      <td>50.0</td>\n",
       "      <td>€123.00 EUR</td>\n",
       "    </tr>\n",
       "    <tr>\n",
       "      <th>45</th>\n",
       "      <td>41904</td>\n",
       "      <td>1.0</td>\n",
       "      <td>8351</td>\n",
       "      <td>[Stock, Enamine]</td>\n",
       "      <td>None</td>\n",
       "      <td>100.0</td>\n",
       "      <td>€406.00 EUR</td>\n",
       "    </tr>\n",
       "    <tr>\n",
       "      <th>46</th>\n",
       "      <td>43840</td>\n",
       "      <td>1.0</td>\n",
       "      <td>10431</td>\n",
       "      <td>[Stock, Enamine]</td>\n",
       "      <td>None</td>\n",
       "      <td>50.0</td>\n",
       "      <td>€218.00 EUR</td>\n",
       "    </tr>\n",
       "    <tr>\n",
       "      <th>47</th>\n",
       "      <td>31829</td>\n",
       "      <td>1.0</td>\n",
       "      <td>8743</td>\n",
       "      <td>[Stock, Enamine]</td>\n",
       "      <td>None</td>\n",
       "      <td>100.0</td>\n",
       "      <td>€359.00 EUR</td>\n",
       "    </tr>\n",
       "    <tr>\n",
       "      <th>48</th>\n",
       "      <td>28692</td>\n",
       "      <td>1.0</td>\n",
       "      <td>9559</td>\n",
       "      <td>[Stock, Enamine]</td>\n",
       "      <td>None</td>\n",
       "      <td>50.0</td>\n",
       "      <td>€141.00 EUR</td>\n",
       "    </tr>\n",
       "    <tr>\n",
       "      <th>49</th>\n",
       "      <td>13230</td>\n",
       "      <td>1.0</td>\n",
       "      <td>10677</td>\n",
       "      <td>[Stock, Enamine]</td>\n",
       "      <td>None</td>\n",
       "      <td>50.0</td>\n",
       "      <td>€18.00 EUR</td>\n",
       "    </tr>\n",
       "    <tr>\n",
       "      <th>50</th>\n",
       "      <td>51638</td>\n",
       "      <td>1.0</td>\n",
       "      <td>10251</td>\n",
       "      <td>[Stock, Enamine]</td>\n",
       "      <td>None</td>\n",
       "      <td>50.0</td>\n",
       "      <td>€173.00 EUR</td>\n",
       "    </tr>\n",
       "    <tr>\n",
       "      <th>51</th>\n",
       "      <td>18028</td>\n",
       "      <td>1.0</td>\n",
       "      <td>10006</td>\n",
       "      <td>[Stock, Enamine]</td>\n",
       "      <td>None</td>\n",
       "      <td>50.0</td>\n",
       "      <td>€26.00 EUR</td>\n",
       "    </tr>\n",
       "    <tr>\n",
       "      <th>52</th>\n",
       "      <td>7316</td>\n",
       "      <td>2.0</td>\n",
       "      <td>10629</td>\n",
       "      <td>[Stock, Enamine]</td>\n",
       "      <td>None</td>\n",
       "      <td>50.0</td>\n",
       "      <td>€38.00 EUR</td>\n",
       "    </tr>\n",
       "    <tr>\n",
       "      <th>53</th>\n",
       "      <td>34630</td>\n",
       "      <td>1.0</td>\n",
       "      <td>9878</td>\n",
       "      <td>[Stock, Enamine]</td>\n",
       "      <td>None</td>\n",
       "      <td>50.0</td>\n",
       "      <td>€20.00 EUR</td>\n",
       "    </tr>\n",
       "    <tr>\n",
       "      <th>54</th>\n",
       "      <td>7351</td>\n",
       "      <td>1.0</td>\n",
       "      <td>10947</td>\n",
       "      <td>[Stock, Enamine]</td>\n",
       "      <td>None</td>\n",
       "      <td>50.0</td>\n",
       "      <td>€47.00 EUR</td>\n",
       "    </tr>\n",
       "  </tbody>\n",
       "</table>\n",
       "</div>"
      ],
      "text/plain": [
       "   compound_id amount quote_id          supplier max_lead_time quoted_amount  \\\n",
       "0        18027    1.0     9121           Enamine          None         100.0   \n",
       "1        18083    3.0     8953           Enamine          None         100.0   \n",
       "2        51607    5.0     9226           Enamine          None          50.0   \n",
       "3        51611    1.0     9394           Enamine          None          50.0   \n",
       "4        21385    3.0    10274           Enamine          None          50.0   \n",
       "5        21471    1.0    11299           Enamine          None          50.0   \n",
       "6        13126    8.0     9626           Enamine          None          50.0   \n",
       "7        28670    1.0    11277           Enamine          None          50.0   \n",
       "8        13159    1.0     9264           Enamine          None          50.0   \n",
       "9        29789    1.0     9594           Enamine          None          50.0   \n",
       "10       14284    1.0    10185           Enamine          None          50.0   \n",
       "11       46569    1.0     9975           Enamine          None          50.0   \n",
       "12       35318    1.0     9240           Enamine          None          50.0   \n",
       "13       35417    1.0    10123           Enamine          None          50.0   \n",
       "14       14291    6.0     7035           Enamine          None         100.0   \n",
       "15       43823    1.0     9924           Enamine          None          50.0   \n",
       "16       41039    1.0     9850           Enamine          None          50.0   \n",
       "17       45808    1.0     9427           Enamine          None          50.0   \n",
       "18        7274    4.0     9567           Enamine          None          50.0   \n",
       "19        7339    3.0     9946           Enamine          None          50.0   \n",
       "20       14991    1.0     7504           Enamine          None         100.0   \n",
       "21       15074    3.0     9551           Enamine          None          50.0   \n",
       "22       53805    3.0     6314           Enamine          None         100.0   \n",
       "23       31795    1.0     7133           Enamine          None         100.0   \n",
       "24       31881    8.0     5747           Enamine          None         100.0   \n",
       "25       41858    1.0     9760           Enamine          None          50.0   \n",
       "26       38944    1.0     7357           Enamine          None         100.0   \n",
       "27       39005    1.0    10782           Enamine          None          50.0   \n",
       "28       16650    1.0    10761           Enamine          None          50.0   \n",
       "29       16700    1.0     9479           Enamine          None          50.0   \n",
       "30       34614    1.0    11230           Enamine          None          50.0   \n",
       "31       52001    1.0     6363  [Stock, Enamine]          None         100.0   \n",
       "32       51970    1.0    10484  [Stock, Enamine]          None          50.0   \n",
       "33        7319    4.0    11263  [Stock, Enamine]          None          50.0   \n",
       "34       53806    2.0    10513  [Stock, Enamine]          None          50.0   \n",
       "35       31866    1.0     6538  [Stock, Enamine]          None         100.0   \n",
       "36       21506    1.0     8106  [Stock, Enamine]          None         100.0   \n",
       "37       51673    1.0     8666  [Stock, Enamine]          None         100.0   \n",
       "38       13170    1.0     8281  [Stock, Enamine]          None         100.0   \n",
       "39       31863    1.0     8757  [Stock, Enamine]          None         100.0   \n",
       "40       29797    1.0     7847  [Stock, Enamine]          None         100.0   \n",
       "41       28671    1.0     7497  [Stock, Enamine]          None         100.0   \n",
       "42       41896    1.0     8365  [Stock, Enamine]          None         100.0   \n",
       "43       31843    1.0    11256  [Stock, Enamine]          None          50.0   \n",
       "44       15045    1.0     9918  [Stock, Enamine]          None          50.0   \n",
       "45       41904    1.0     8351  [Stock, Enamine]          None         100.0   \n",
       "46       43840    1.0    10431  [Stock, Enamine]          None          50.0   \n",
       "47       31829    1.0     8743  [Stock, Enamine]          None         100.0   \n",
       "48       28692    1.0     9559  [Stock, Enamine]          None          50.0   \n",
       "49       13230    1.0    10677  [Stock, Enamine]          None          50.0   \n",
       "50       51638    1.0    10251  [Stock, Enamine]          None          50.0   \n",
       "51       18028    1.0    10006  [Stock, Enamine]          None          50.0   \n",
       "52        7316    2.0    10629  [Stock, Enamine]          None          50.0   \n",
       "53       34630    1.0     9878  [Stock, Enamine]          None          50.0   \n",
       "54        7351    1.0    10947  [Stock, Enamine]          None          50.0   \n",
       "\n",
       "          price  \n",
       "0    €18.00 EUR  \n",
       "1   €435.00 EUR  \n",
       "2    €44.00 EUR  \n",
       "3    €21.00 EUR  \n",
       "4   €208.00 EUR  \n",
       "5   €250.00 EUR  \n",
       "6   €202.00 EUR  \n",
       "7   €173.00 EUR  \n",
       "8   €129.00 EUR  \n",
       "9   €244.00 EUR  \n",
       "10  €206.00 EUR  \n",
       "11   €18.00 EUR  \n",
       "12   €91.00 EUR  \n",
       "13  €202.00 EUR  \n",
       "14  €310.00 EUR  \n",
       "15  €193.00 EUR  \n",
       "16  €208.00 EUR  \n",
       "17   €84.00 EUR  \n",
       "18   €18.00 EUR  \n",
       "19   €61.00 EUR  \n",
       "20   €18.00 EUR  \n",
       "21  €233.00 EUR  \n",
       "22  €125.00 EUR  \n",
       "23   €18.00 EUR  \n",
       "24  €193.00 EUR  \n",
       "25   €65.00 EUR  \n",
       "26   €18.00 EUR  \n",
       "27  €451.00 EUR  \n",
       "28  €237.00 EUR  \n",
       "29  €208.00 EUR  \n",
       "30  €227.00 EUR  \n",
       "31  €230.00 EUR  \n",
       "32  €202.00 EUR  \n",
       "33  €190.00 EUR  \n",
       "34  €165.00 EUR  \n",
       "35   €18.00 EUR  \n",
       "36  €284.00 EUR  \n",
       "37  €259.00 EUR  \n",
       "38  €339.00 EUR  \n",
       "39  €491.00 EUR  \n",
       "40  €444.00 EUR  \n",
       "41  €349.00 EUR  \n",
       "42  €406.00 EUR  \n",
       "43  €177.00 EUR  \n",
       "44  €123.00 EUR  \n",
       "45  €406.00 EUR  \n",
       "46  €218.00 EUR  \n",
       "47  €359.00 EUR  \n",
       "48  €141.00 EUR  \n",
       "49   €18.00 EUR  \n",
       "50  €173.00 EUR  \n",
       "51   €26.00 EUR  \n",
       "52   €38.00 EUR  \n",
       "53   €20.00 EUR  \n",
       "54   €47.00 EUR  "
      ]
     },
     "execution_count": 16,
     "metadata": {},
     "output_type": "execute_result"
    }
   ],
   "source": [
    "r.reactants.price_df"
   ]
  },
  {
   "cell_type": "code",
   "execution_count": null,
   "id": "cb768f47-c13c-4f35-8e63-74d8da7b1c34",
   "metadata": {},
   "outputs": [],
   "source": []
  }
 ],
 "metadata": {
  "kernelspec": {
   "display_name": "Python 3 (ipykernel)",
   "language": "python",
   "name": "python3"
  },
  "language_info": {
   "codemirror_mode": {
    "name": "ipython",
    "version": 3
   },
   "file_extension": ".py",
   "mimetype": "text/x-python",
   "name": "python",
   "nbconvert_exporter": "python",
   "pygments_lexer": "ipython3",
   "version": "3.12.8"
  }
 },
 "nbformat": 4,
 "nbformat_minor": 5
}

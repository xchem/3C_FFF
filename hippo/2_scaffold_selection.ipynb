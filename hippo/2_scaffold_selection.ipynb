{
 "cells": [
  {
   "cell_type": "markdown",
   "id": "ea8ae5f6-bb9b-4d77-a5d4-aaf64b16ecb7",
   "metadata": {},
   "source": [
    "# FFF Step 2: Scaffold selection"
   ]
  },
  {
   "cell_type": "markdown",
   "id": "241b0471-3eab-4514-9942-9ab0aa9e0842",
   "metadata": {},
   "source": [
    "## Pre-requisites\n",
    "\n",
    "- [ ] BulkDock & HIPPO set up for Target\n",
    "- [ ] Algorithmic merges generated and placed\n",
    "- [ ] Merges uploaded to Fragalysis and curated"
   ]
  },
  {
   "cell_type": "code",
   "execution_count": 5,
   "id": "12eb1bd6-7e10-4886-8af0-4117f9989d3a",
   "metadata": {},
   "outputs": [],
   "source": [
    "%load_ext autoreload\n",
    "%autoreload 2\n",
    "import hippo\n",
    "from os import environ, system\n",
    "from pathlib import Path\n",
    "import pandas as pd\n",
    "import json\n",
    "from mrich import print\n",
    "import mrich\n",
    "import shutil\n",
    "import molparse as mp"
   ]
  },
  {
   "cell_type": "code",
   "execution_count": 17,
   "id": "b2dc5a49-f048-4076-9459-4ea54e8fc7aa",
   "metadata": {},
   "outputs": [],
   "source": [
    "target_name = \"D68EV3C\""
   ]
  },
  {
   "cell_type": "code",
   "execution_count": 18,
   "id": "dd962280-0f18-45b1-b889-d1ae88d250c0",
   "metadata": {},
   "outputs": [
    {
     "data": {
      "text/html": [
       "<pre style=\"white-space:pre;overflow-x:auto;line-height:normal;font-family:Menlo,'DejaVu Sans Mono',consolas,'Courier New',monospace;margin:0px\"><span style=\"font-weight: bold\"> Creating HIPPO animal</span>\n",
       "</pre>\n"
      ],
      "text/plain": [
       "\u001b[1m Creating HIPPO animal\u001b[0m\n"
      ]
     },
     "metadata": {},
     "output_type": "display_data"
    },
    {
     "data": {
      "text/html": [
       "<pre style=\"white-space:pre;overflow-x:auto;line-height:normal;font-family:Menlo,'DejaVu Sans Mono',consolas,'Courier New',monospace;margin:0px\"><span style=\"color: #008080; text-decoration-color: #008080; font-weight: bold\">name</span> = <span style=\"color: #00d7af; text-decoration-color: #00d7af\">D68EV3C</span>\n",
       "</pre>\n"
      ],
      "text/plain": [
       "\u001b[1;36mname\u001b[0m = \u001b[38;5;43mD68EV3C\u001b[0m\n"
      ]
     },
     "metadata": {},
     "output_type": "display_data"
    },
    {
     "data": {
      "text/html": [
       "<pre style=\"white-space:pre;overflow-x:auto;line-height:normal;font-family:Menlo,'DejaVu Sans Mono',consolas,'Courier New',monospace;margin:0px\"><span style=\"color: #008080; text-decoration-color: #008080; font-weight: bold\">db_path</span> = <span style=\"color: #d7af00; text-decoration-color: #d7af00\">/opt/xchem-fragalysis-2/maxwin/BulkDock/TARGETS/D68EV3C/D68EV3C.sqlite</span>\n",
       "</pre>\n"
      ],
      "text/plain": [
       "\u001b[1;36mdb_path\u001b[0m = \u001b[38;5;178m/opt/xchem-fragalysis-2/maxwin/BulkDock/TARGETS/D68EV3C/D68EV3C.sqlite\u001b[0m\n"
      ]
     },
     "metadata": {},
     "output_type": "display_data"
    },
    {
     "data": {
      "text/html": [
       "<pre style=\"white-space:pre;overflow-x:auto;line-height:normal;font-family:Menlo,'DejaVu Sans Mono',consolas,'Courier New',monospace;margin:0px\"><span style=\"color: #808080; text-decoration-color: #808080\">DEBUG: hippo.Database.__init__()</span>\n",
       "</pre>\n"
      ],
      "text/plain": [
       "\u001b[90mDEBUG: hippo.Database.__init__()\u001b[0m\n"
      ]
     },
     "metadata": {},
     "output_type": "display_data"
    },
    {
     "data": {
      "text/html": [
       "<pre style=\"white-space:pre;overflow-x:auto;line-height:normal;font-family:Menlo,'DejaVu Sans Mono',consolas,'Courier New',monospace;margin:0px\"><span style=\"color: #808080; text-decoration-color: #808080\">DEBUG: Database.path = /opt/xchem-fragalysis-2/maxwin/BulkDock/TARGETS/D68EV3C/D68EV3C.sqlite</span>\n",
       "</pre>\n"
      ],
      "text/plain": [
       "\u001b[90mDEBUG: Database.path = /opt/xchem-fragalysis-2/maxwin/BulkDock/TARGETS/D68EV3C/D68EV3C.sqlite\u001b[0m\n"
      ]
     },
     "metadata": {},
     "output_type": "display_data"
    },
    {
     "data": {
      "text/html": [
       "<pre style=\"white-space:pre;overflow-x:auto;line-height:normal;font-family:Menlo,'DejaVu Sans Mono',consolas,'Courier New',monospace;margin:0px\"><span style=\"color: #808080; text-decoration-color: #808080\">DEBUG: hippo.Database.connect()</span>\n",
       "</pre>\n"
      ],
      "text/plain": [
       "\u001b[90mDEBUG: hippo.Database.connect()\u001b[0m\n"
      ]
     },
     "metadata": {},
     "output_type": "display_data"
    },
    {
     "data": {
      "text/html": [
       "<pre style=\"white-space:pre;overflow-x:auto;line-height:normal;font-family:Menlo,'DejaVu Sans Mono',consolas,'Courier New',monospace;margin:0px\"><span style=\"color: #808080; text-decoration-color: #808080\">DEBUG: sqlite3.version='2.6.0'</span>\n",
       "</pre>\n"
      ],
      "text/plain": [
       "\u001b[90mDEBUG: sqlite3.version='2.6.0'\u001b[0m\n"
      ]
     },
     "metadata": {},
     "output_type": "display_data"
    },
    {
     "data": {
      "text/html": [
       "<pre style=\"white-space:pre;overflow-x:auto;line-height:normal;font-family:Menlo,'DejaVu Sans Mono',consolas,'Courier New',monospace;margin:0px\"><span style=\"background-color: #008000; font-weight: bold\"> Success </span><span style=\"color: #008000; text-decoration-color: #008000; font-weight: bold\"> Database connected @</span><span style=\"color: #d7af00; text-decoration-color: #d7af00; font-weight: bold\"> /opt/xchem-fragalysis-2/maxwin/BulkDock/TARGETS/D68EV3C/D68EV3C.sqlite!</span>\n",
       "</pre>\n"
      ],
      "text/plain": [
       "\u001b[1;7;32m Success \u001b[0m\u001b[1;32m Database connected @\u001b[0m\u001b[1;38;5;178m /opt/xchem-fragalysis-2/maxwin/BulkDock/TARGETS/D68EV3C/D68EV3C.sqlite!\u001b[0m\n"
      ]
     },
     "metadata": {},
     "output_type": "display_data"
    },
    {
     "data": {
      "text/html": [
       "<pre style=\"white-space:pre;overflow-x:auto;line-height:normal;font-family:Menlo,'DejaVu Sans Mono',consolas,'Courier New',monospace;margin:0px\"><span style=\"background-color: #008000; font-weight: bold\"> Success </span><span style=\"color: #008000; text-decoration-color: #008000; font-weight: bold\"> Initialised animal</span><span style=\"color: #008080; text-decoration-color: #008080; font-weight: bold\"> HIPPO(\"D68EV3C\")!</span>\n",
       "</pre>\n"
      ],
      "text/plain": [
       "\u001b[1;7;32m Success \u001b[0m\u001b[1;32m Initialised animal\u001b[0m\u001b[1;36m HIPPO(\"D68EV3C\")!\u001b[0m\n"
      ]
     },
     "metadata": {},
     "output_type": "display_data"
    }
   ],
   "source": [
    "animal = hippo.HIPPO(target_name, Path(environ[\"BULK\"])/\"TARGETS\"/target_name/f\"{target_name}.sqlite\")"
   ]
  },
  {
   "cell_type": "markdown",
   "id": "9ee73b24-e25c-425f-a925-93ffb4678eec",
   "metadata": {},
   "source": [
    "## Add Manual designs"
   ]
  },
  {
   "cell_type": "code",
   "execution_count": 81,
   "id": "4d74179d-6b9b-4277-822c-2b0608638d90",
   "metadata": {},
   "outputs": [],
   "source": [
    "manual_designs = [\n",
    "    # populate tuples in this format:\n",
    "    # (smiles, alias, inspirations),\n",
    "    (\"CCS(=O)(=Nc1ccn2cnnc2c1)NCc1ccc2c(c1)OCO2\", \"v25-MW-mod\",['7gp9-a', 'B0738a']),\n",
    "    (\"NC(=O)C1CCCN1COc1ccc2[nH]c(Sc3cccc4nncn34)nc2c1\", \"v34-MW-mod\",['7gpf-a', 'B1219a']),\n",
    "]"
   ]
  },
  {
   "cell_type": "code",
   "execution_count": 93,
   "id": "ee3a88c1-d56d-43e5-b755-16efb231320e",
   "metadata": {},
   "outputs": [
    {
     "data": {
      "text/html": [
       "<pre style=\"white-space:pre;overflow-x:auto;line-height:normal;font-family:Menlo,'DejaVu Sans Mono',consolas,'Courier New',monospace;margin:0px\"><span style=\"font-weight: bold; text-decoration: underline\">C7272 </span><span style=\"color: #008000; text-decoration-color: #008000; font-weight: bold; text-decoration: underline\">\"v25-MW-mod\"</span>\n",
       "</pre>\n"
      ],
      "text/plain": [
       "\u001b[1;4mC7272 \u001b[0m\u001b[1;4;32m\"v25-MW-mod\"\u001b[0m\n"
      ]
     },
     "metadata": {},
     "output_type": "display_data"
    },
    {
     "data": {
      "image/png": "[encoded data removed]",
      "text/plain": [
       "<rdkit.Chem.rdchem.Mol at 0x7fca10335e40>"
      ]
     },
     "metadata": {},
     "output_type": "display_data"
    },
    {
     "data": {
      "text/html": [
       "<pre style=\"white-space:pre;overflow-x:auto;line-height:normal;font-family:Menlo,'DejaVu Sans Mono',consolas,'Courier New',monospace;margin:0px\"><span style=\"font-weight: bold; text-decoration: underline\">C7273 </span><span style=\"color: #008000; text-decoration-color: #008000; font-weight: bold; text-decoration: underline\">\"v34-MW-mod\"</span>\n",
       "</pre>\n"
      ],
      "text/plain": [
       "\u001b[1;4mC7273 \u001b[0m\u001b[1;4;32m\"v34-MW-mod\"\u001b[0m\n"
      ]
     },
     "metadata": {},
     "output_type": "display_data"
    },
    {
     "data": {
      "image/png": "[encoded data removed]",
      "text/plain": [
       "<rdkit.Chem.rdchem.Mol at 0x7fca10335e40>"
      ]
     },
     "metadata": {},
     "output_type": "display_data"
    },
    {
     "data": {
      "text/html": [
       "<div>\n",
       "<style scoped>\n",
       "    .dataframe tbody tr th:only-of-type {\n",
       "        vertical-align: middle;\n",
       "    }\n",
       "\n",
       "    .dataframe tbody tr th {\n",
       "        vertical-align: top;\n",
       "    }\n",
       "\n",
       "    .dataframe thead th {\n",
       "        text-align: right;\n",
       "    }\n",
       "</style>\n",
       "<table border=\"1\" class=\"dataframe\">\n",
       "  <thead>\n",
       "    <tr style=\"text-align: right;\">\n",
       "      <th></th>\n",
       "      <th>smiles</th>\n",
       "      <th>hit1</th>\n",
       "      <th>hit2</th>\n",
       "    </tr>\n",
       "  </thead>\n",
       "  <tbody>\n",
       "    <tr>\n",
       "      <th>0</th>\n",
       "      <td>CCS(=O)(=Nc1ccn2cnnc2c1)NCc1ccc2c(c1)OCO2</td>\n",
       "      <td>7gp9-a</td>\n",
       "      <td>B0738a</td>\n",
       "    </tr>\n",
       "    <tr>\n",
       "      <th>1</th>\n",
       "      <td>NC(=O)C1CCCN1COc1ccc2[nH]c(Sc3cccc4nncn34)nc2c1</td>\n",
       "      <td>7gpf-a</td>\n",
       "      <td>B1219a</td>\n",
       "    </tr>\n",
       "  </tbody>\n",
       "</table>\n",
       "</div>"
      ],
      "text/plain": [
       "                                            smiles    hit1    hit2\n",
       "0        CCS(=O)(=Nc1ccn2cnnc2c1)NCc1ccc2c(c1)OCO2  7gp9-a  B0738a\n",
       "1  NC(=O)C1CCCN1COc1ccc2[nH]c(Sc3cccc4nncn34)nc2c1  7gpf-a  B1219a"
      ]
     },
     "execution_count": 93,
     "metadata": {},
     "output_type": "execute_result"
    }
   ],
   "source": [
    "data = []\n",
    "for smiles, alias, inspirations in manual_designs:\n",
    "    c = animal.register_compound(smiles=smiles, alias=alias)\n",
    "    print(c)\n",
    "    c.draw()\n",
    "    d = dict(smiles=c.smiles)\n",
    "    for i,inspiration in enumerate(inspirations):\n",
    "        pose = animal.poses[inspiration]\n",
    "        assert pose\n",
    "        d[f\"hit{i+1}\"] = pose.name\n",
    "    data.append(d)\n",
    "\n",
    "df = pd.DataFrame(data)\n",
    "df.to_csv(\"iter1_manuals.csv\", index=False)\n",
    "df"
   ]
  },
  {
   "cell_type": "code",
   "execution_count": 92,
   "id": "8bfb80ae-0ac5-4fef-891b-664c97145f3f",
   "metadata": {},
   "outputs": [
    {
     "data": {
      "text/plain": [
       "\u001b[1m\u001b[4mC7273's poses: {P × 0}\u001b[22m\u001b[24m"
      ]
     },
     "execution_count": 92,
     "metadata": {},
     "output_type": "execute_result"
    }
   ],
   "source": [
    "animal.compounds[\"v25-MW-mod\"].poses\n",
    "animal.compounds[\"v34-MW-mod\"].poses"
   ]
  },
  {
   "cell_type": "markdown",
   "id": "fabcd4f3-d656-48a1-a1fa-27a22b850459",
   "metadata": {},
   "source": [
    "## Parse Curation CSVs\n",
    "\n",
    "Instruct Fragalysis reviewers to label all their 'picks' as a certain colour. Then populate the dictionary below"
   ]
  },
  {
   "cell_type": "code",
   "execution_count": 48,
   "id": "258d4308-5a9e-44bd-8b9e-8eb4d77f3173",
   "metadata": {},
   "outputs": [],
   "source": [
    "csvs = {\n",
    "    # populate the dictionary:\n",
    "    # file : (author, selection_colour),\n",
    "    \"../curation/rl_iter1.csv\" : (\"RL\", \"green\"),\n",
    "    \"../curation/wt_iter1.csv\" : (\"WT\", \"blue\"),\n",
    "    \"../curation/df_iter1_35.csv\" : (\"DF\", \"green\"),\n",
    "    \"../curation/df_iter1_36.csv\" : (\"DF\", \"green\"),\n",
    "    \"../curation/df_iter1_37.csv\" : (\"DF\", \"green\"),\n",
    "    \"../curation/df_iter1_37.csv\" : (\"DF\", \"green\"),\n",
    "    \"../curation/mw_iter1_fstein.csv\" : (\"MW\", \"green\"),\n",
    "    \"../curation/mw_iter1_knit_pure.csv\" : (\"MW\", \"green\"),\n",
    "    \"../curation/mw_iter1_knit_impure.csv\" : (\"MW\", \"green\"),\n",
    "}"
   ]
  },
  {
   "cell_type": "code",
   "execution_count": 66,
   "id": "f10602e3-f705-4051-9ed2-7c0806deff24",
   "metadata": {},
   "outputs": [
    {
     "data": {
      "text/html": [
       "<pre style=\"white-space:pre;overflow-x:auto;line-height:normal;font-family:Menlo,'DejaVu Sans Mono',consolas,'Courier New',monospace;margin:0px\">Tagged <span style=\"font-weight: bold\">{</span>P × <span style=\"color: #008080; text-decoration-color: #008080; font-weight: bold\">79</span><span style=\"font-weight: bold\">}</span> w/ <span style=\"color: #008000; text-decoration-color: #008000\">\"RL curated YES\"</span>\n",
       "</pre>\n"
      ],
      "text/plain": [
       "Tagged \u001b[1m{\u001b[0mP × \u001b[1;36m79\u001b[0m\u001b[1m}\u001b[0m w/ \u001b[32m\"RL curated YES\"\u001b[0m\n"
      ]
     },
     "metadata": {},
     "output_type": "display_data"
    },
    {
     "data": {
      "text/html": [
       "<pre style=\"white-space:pre;overflow-x:auto;line-height:normal;font-family:Menlo,'DejaVu Sans Mono',consolas,'Courier New',monospace;margin:0px\">Tagged <span style=\"font-weight: bold\">{</span>P × <span style=\"color: #008080; text-decoration-color: #008080; font-weight: bold\">15</span><span style=\"font-weight: bold\">}</span> w/ <span style=\"color: #008000; text-decoration-color: #008000\">\"WT curated YES\"</span>\n",
       "</pre>\n"
      ],
      "text/plain": [
       "Tagged \u001b[1m{\u001b[0mP × \u001b[1;36m15\u001b[0m\u001b[1m}\u001b[0m w/ \u001b[32m\"WT curated YES\"\u001b[0m\n"
      ]
     },
     "metadata": {},
     "output_type": "display_data"
    },
    {
     "data": {
      "text/html": [
       "<pre style=\"white-space:pre;overflow-x:auto;line-height:normal;font-family:Menlo,'DejaVu Sans Mono',consolas,'Courier New',monospace;margin:0px\">Tagged <span style=\"font-weight: bold\">{</span>P × <span style=\"color: #008080; text-decoration-color: #008080; font-weight: bold\">21</span><span style=\"font-weight: bold\">}</span> w/ <span style=\"color: #008000; text-decoration-color: #008000\">\"DF curated YES\"</span>\n",
       "</pre>\n"
      ],
      "text/plain": [
       "Tagged \u001b[1m{\u001b[0mP × \u001b[1;36m21\u001b[0m\u001b[1m}\u001b[0m w/ \u001b[32m\"DF curated YES\"\u001b[0m\n"
      ]
     },
     "metadata": {},
     "output_type": "display_data"
    },
    {
     "data": {
      "text/html": [
       "<pre style=\"white-space:pre;overflow-x:auto;line-height:normal;font-family:Menlo,'DejaVu Sans Mono',consolas,'Courier New',monospace;margin:0px\">Tagged <span style=\"font-weight: bold\">{</span>P × <span style=\"color: #008080; text-decoration-color: #008080; font-weight: bold\">15</span><span style=\"font-weight: bold\">}</span> w/ <span style=\"color: #008000; text-decoration-color: #008000\">\"DF curated YES\"</span>\n",
       "</pre>\n"
      ],
      "text/plain": [
       "Tagged \u001b[1m{\u001b[0mP × \u001b[1;36m15\u001b[0m\u001b[1m}\u001b[0m w/ \u001b[32m\"DF curated YES\"\u001b[0m\n"
      ]
     },
     "metadata": {},
     "output_type": "display_data"
    },
    {
     "data": {
      "text/html": [
       "<pre style=\"white-space:pre;overflow-x:auto;line-height:normal;font-family:Menlo,'DejaVu Sans Mono',consolas,'Courier New',monospace;margin:0px\">Tagged <span style=\"font-weight: bold\">{</span>P × <span style=\"color: #008080; text-decoration-color: #008080; font-weight: bold\">12</span><span style=\"font-weight: bold\">}</span> w/ <span style=\"color: #008000; text-decoration-color: #008000\">\"DF curated YES\"</span>\n",
       "</pre>\n"
      ],
      "text/plain": [
       "Tagged \u001b[1m{\u001b[0mP × \u001b[1;36m12\u001b[0m\u001b[1m}\u001b[0m w/ \u001b[32m\"DF curated YES\"\u001b[0m\n"
      ]
     },
     "metadata": {},
     "output_type": "display_data"
    },
    {
     "data": {
      "text/html": [
       "<pre style=\"white-space:pre;overflow-x:auto;line-height:normal;font-family:Menlo,'DejaVu Sans Mono',consolas,'Courier New',monospace;margin:0px\">Tagged <span style=\"font-weight: bold\">{</span>P × <span style=\"color: #008080; text-decoration-color: #008080; font-weight: bold\">24</span><span style=\"font-weight: bold\">}</span> w/ <span style=\"color: #008000; text-decoration-color: #008000\">\"MW curated YES\"</span>\n",
       "</pre>\n"
      ],
      "text/plain": [
       "Tagged \u001b[1m{\u001b[0mP × \u001b[1;36m24\u001b[0m\u001b[1m}\u001b[0m w/ \u001b[32m\"MW curated YES\"\u001b[0m\n"
      ]
     },
     "metadata": {},
     "output_type": "display_data"
    },
    {
     "data": {
      "text/html": [
       "<pre style=\"white-space:pre;overflow-x:auto;line-height:normal;font-family:Menlo,'DejaVu Sans Mono',consolas,'Courier New',monospace;margin:0px\">Tagged <span style=\"font-weight: bold\">{</span>P × <span style=\"color: #008080; text-decoration-color: #008080; font-weight: bold\">5</span><span style=\"font-weight: bold\">}</span> w/ <span style=\"color: #008000; text-decoration-color: #008000\">\"MW curated YES\"</span>\n",
       "</pre>\n"
      ],
      "text/plain": [
       "Tagged \u001b[1m{\u001b[0mP × \u001b[1;36m5\u001b[0m\u001b[1m}\u001b[0m w/ \u001b[32m\"MW curated YES\"\u001b[0m\n"
      ]
     },
     "metadata": {},
     "output_type": "display_data"
    },
    {
     "data": {
      "text/html": [
       "<pre style=\"white-space:pre;overflow-x:auto;line-height:normal;font-family:Menlo,'DejaVu Sans Mono',consolas,'Courier New',monospace;margin:0px\">Tagged <span style=\"font-weight: bold\">{</span>P × <span style=\"color: #008080; text-decoration-color: #008080; font-weight: bold\">3</span><span style=\"font-weight: bold\">}</span> w/ <span style=\"color: #008000; text-decoration-color: #008000\">\"MW curated YES\"</span>\n",
       "</pre>\n"
      ],
      "text/plain": [
       "Tagged \u001b[1m{\u001b[0mP × \u001b[1;36m3\u001b[0m\u001b[1m}\u001b[0m w/ \u001b[32m\"MW curated YES\"\u001b[0m\n"
      ]
     },
     "metadata": {},
     "output_type": "display_data"
    }
   ],
   "source": [
    "yes_tags = set()\n",
    "for csv, (author, colour) in csvs.items():\n",
    "    df = pd.read_csv(csv, skiprows=1)\n",
    "    pset = animal.poses[df[df[colour] == True][\"HIPPO Pose ID\"]]\n",
    "\n",
    "    for pose_id, name in { a:b for a,b in df[[\"HIPPO Pose ID\", \"name\"]].values}.items():\n",
    "        pose = animal.poses[pose_id]\n",
    "        if not pose.alias:\n",
    "            pose.alias = name\n",
    "        compound = pose.compound\n",
    "        if not compound.alias:\n",
    "            compound.alias = name[:-1]\n",
    "    \n",
    "    tag = f\"{author} curated YES\"\n",
    "    pset.add_tag(tag)\n",
    "    yes_tags.add(tag)"
   ]
  },
  {
   "cell_type": "code",
   "execution_count": 67,
   "id": "c94f66bf-4ef6-4d24-94d1-99890a44ee41",
   "metadata": {},
   "outputs": [],
   "source": [
    "yes_poses = sum((animal.poses(tag=t) for t in yes_tags), animal.poses[set()])\n",
    "yes_compounds = yes_poses.compounds"
   ]
  },
  {
   "cell_type": "code",
   "execution_count": 68,
   "id": "6cceffc8-e02e-4f9a-9fc7-3fc6d40599a8",
   "metadata": {},
   "outputs": [
    {
     "data": {
      "text/html": [
       "<pre style=\"white-space:pre;overflow-x:auto;line-height:normal;font-family:Menlo,'DejaVu Sans Mono',consolas,'Courier New',monospace;margin:0px\"><span style=\"font-weight: bold; text-decoration: underline\">C117 </span><span style=\"color: #008000; text-decoration-color: #008000; font-weight: bold; text-decoration: underline\">\"v76\"</span> <span style=\"color: #008080; text-decoration-color: #008080; font-weight: bold\">1</span> RL\n",
       "</pre>\n"
      ],
      "text/plain": [
       "\u001b[1;4mC117 \u001b[0m\u001b[1;4;32m\"v76\"\u001b[0m \u001b[1;36m1\u001b[0m RL\n"
      ]
     },
     "metadata": {},
     "output_type": "display_data"
    },
    {
     "data": {
      "text/html": [
       "<pre style=\"white-space:pre;overflow-x:auto;line-height:normal;font-family:Menlo,'DejaVu Sans Mono',consolas,'Courier New',monospace;margin:0px\"><span style=\"font-weight: bold; text-decoration: underline\">C157 </span><span style=\"color: #008000; text-decoration-color: #008000; font-weight: bold; text-decoration: underline\">\"v1\"</span> <span style=\"color: #008080; text-decoration-color: #008080; font-weight: bold\">4</span> MW, WT, RL, DF\n",
       "</pre>\n"
      ],
      "text/plain": [
       "\u001b[1;4mC157 \u001b[0m\u001b[1;4;32m\"v1\"\u001b[0m \u001b[1;36m4\u001b[0m MW, WT, RL, DF\n"
      ]
     },
     "metadata": {},
     "output_type": "display_data"
    },
    {
     "data": {
      "text/html": [
       "<pre style=\"white-space:pre;overflow-x:auto;line-height:normal;font-family:Menlo,'DejaVu Sans Mono',consolas,'Courier New',monospace;margin:0px\"><span style=\"font-weight: bold; text-decoration: underline\">C170 </span><span style=\"color: #008000; text-decoration-color: #008000; font-weight: bold; text-decoration: underline\">\"v12\"</span> <span style=\"color: #008080; text-decoration-color: #008080; font-weight: bold\">3</span> MW, WT, DF\n",
       "</pre>\n"
      ],
      "text/plain": [
       "\u001b[1;4mC170 \u001b[0m\u001b[1;4;32m\"v12\"\u001b[0m \u001b[1;36m3\u001b[0m MW, WT, DF\n"
      ]
     },
     "metadata": {},
     "output_type": "display_data"
    },
    {
     "data": {
      "text/html": [
       "<pre style=\"white-space:pre;overflow-x:auto;line-height:normal;font-family:Menlo,'DejaVu Sans Mono',consolas,'Courier New',monospace;margin:0px\"><span style=\"font-weight: bold; text-decoration: underline\">C172 </span><span style=\"color: #008000; text-decoration-color: #008000; font-weight: bold; text-decoration: underline\">\"v17\"</span> <span style=\"color: #008080; text-decoration-color: #008080; font-weight: bold\">2</span> DF, MW\n",
       "</pre>\n"
      ],
      "text/plain": [
       "\u001b[1;4mC172 \u001b[0m\u001b[1;4;32m\"v17\"\u001b[0m \u001b[1;36m2\u001b[0m DF, MW\n"
      ]
     },
     "metadata": {},
     "output_type": "display_data"
    },
    {
     "data": {
      "text/html": [
       "<pre style=\"white-space:pre;overflow-x:auto;line-height:normal;font-family:Menlo,'DejaVu Sans Mono',consolas,'Courier New',monospace;margin:0px\"><span style=\"font-weight: bold; text-decoration: underline\">C174 </span><span style=\"color: #008000; text-decoration-color: #008000; font-weight: bold; text-decoration: underline\">\"v21\"</span> <span style=\"color: #008080; text-decoration-color: #008080; font-weight: bold\">3</span> MW, WT, DF\n",
       "</pre>\n"
      ],
      "text/plain": [
       "\u001b[1;4mC174 \u001b[0m\u001b[1;4;32m\"v21\"\u001b[0m \u001b[1;36m3\u001b[0m MW, WT, DF\n"
      ]
     },
     "metadata": {},
     "output_type": "display_data"
    },
    {
     "data": {
      "text/html": [
       "<pre style=\"white-space:pre;overflow-x:auto;line-height:normal;font-family:Menlo,'DejaVu Sans Mono',consolas,'Courier New',monospace;margin:0px\"><span style=\"font-weight: bold; text-decoration: underline\">C178 </span><span style=\"color: #008000; text-decoration-color: #008000; font-weight: bold; text-decoration: underline\">\"v30\"</span> <span style=\"color: #008080; text-decoration-color: #008080; font-weight: bold\">2</span> RL, MW\n",
       "</pre>\n"
      ],
      "text/plain": [
       "\u001b[1;4mC178 \u001b[0m\u001b[1;4;32m\"v30\"\u001b[0m \u001b[1;36m2\u001b[0m RL, MW\n"
      ]
     },
     "metadata": {},
     "output_type": "display_data"
    },
    {
     "data": {
      "text/html": [
       "<pre style=\"white-space:pre;overflow-x:auto;line-height:normal;font-family:Menlo,'DejaVu Sans Mono',consolas,'Courier New',monospace;margin:0px\"><span style=\"font-weight: bold; text-decoration: underline\">C180 </span><span style=\"color: #008000; text-decoration-color: #008000; font-weight: bold; text-decoration: underline\">\"v32\"</span> <span style=\"color: #008080; text-decoration-color: #008080; font-weight: bold\">3</span> WT, RL, DF\n",
       "</pre>\n"
      ],
      "text/plain": [
       "\u001b[1;4mC180 \u001b[0m\u001b[1;4;32m\"v32\"\u001b[0m \u001b[1;36m3\u001b[0m WT, RL, DF\n"
      ]
     },
     "metadata": {},
     "output_type": "display_data"
    },
    {
     "data": {
      "text/html": [
       "<pre style=\"white-space:pre;overflow-x:auto;line-height:normal;font-family:Menlo,'DejaVu Sans Mono',consolas,'Courier New',monospace;margin:0px\"><span style=\"font-weight: bold; text-decoration: underline\">C182 </span><span style=\"color: #008000; text-decoration-color: #008000; font-weight: bold; text-decoration: underline\">\"v34\"</span> <span style=\"color: #008080; text-decoration-color: #008080; font-weight: bold\">1</span> DF\n",
       "</pre>\n"
      ],
      "text/plain": [
       "\u001b[1;4mC182 \u001b[0m\u001b[1;4;32m\"v34\"\u001b[0m \u001b[1;36m1\u001b[0m DF\n"
      ]
     },
     "metadata": {},
     "output_type": "display_data"
    },
    {
     "data": {
      "text/html": [
       "<pre style=\"white-space:pre;overflow-x:auto;line-height:normal;font-family:Menlo,'DejaVu Sans Mono',consolas,'Courier New',monospace;margin:0px\"><span style=\"font-weight: bold; text-decoration: underline\">C257 </span><span style=\"color: #008000; text-decoration-color: #008000; font-weight: bold; text-decoration: underline\">\"v52\"</span> <span style=\"color: #008080; text-decoration-color: #008080; font-weight: bold\">1</span> RL\n",
       "</pre>\n"
      ],
      "text/plain": [
       "\u001b[1;4mC257 \u001b[0m\u001b[1;4;32m\"v52\"\u001b[0m \u001b[1;36m1\u001b[0m RL\n"
      ]
     },
     "metadata": {},
     "output_type": "display_data"
    },
    {
     "data": {
      "text/html": [
       "<pre style=\"white-space:pre;overflow-x:auto;line-height:normal;font-family:Menlo,'DejaVu Sans Mono',consolas,'Courier New',monospace;margin:0px\"><span style=\"font-weight: bold; text-decoration: underline\">C321 </span><span style=\"color: #008000; text-decoration-color: #008000; font-weight: bold; text-decoration: underline\">\"v56\"</span> <span style=\"color: #008080; text-decoration-color: #008080; font-weight: bold\">1</span> RL\n",
       "</pre>\n"
      ],
      "text/plain": [
       "\u001b[1;4mC321 \u001b[0m\u001b[1;4;32m\"v56\"\u001b[0m \u001b[1;36m1\u001b[0m RL\n"
      ]
     },
     "metadata": {},
     "output_type": "display_data"
    },
    {
     "data": {
      "text/html": [
       "<pre style=\"white-space:pre;overflow-x:auto;line-height:normal;font-family:Menlo,'DejaVu Sans Mono',consolas,'Courier New',monospace;margin:0px\"><span style=\"font-weight: bold; text-decoration: underline\">C407 </span><span style=\"color: #008000; text-decoration-color: #008000; font-weight: bold; text-decoration: underline\">\"v59\"</span> <span style=\"color: #008080; text-decoration-color: #008080; font-weight: bold\">1</span> RL\n",
       "</pre>\n"
      ],
      "text/plain": [
       "\u001b[1;4mC407 \u001b[0m\u001b[1;4;32m\"v59\"\u001b[0m \u001b[1;36m1\u001b[0m RL\n"
      ]
     },
     "metadata": {},
     "output_type": "display_data"
    },
    {
     "data": {
      "text/html": [
       "<pre style=\"white-space:pre;overflow-x:auto;line-height:normal;font-family:Menlo,'DejaVu Sans Mono',consolas,'Courier New',monospace;margin:0px\"><span style=\"font-weight: bold; text-decoration: underline\">C469 </span><span style=\"color: #008000; text-decoration-color: #008000; font-weight: bold; text-decoration: underline\">\"v66\"</span> <span style=\"color: #008080; text-decoration-color: #008080; font-weight: bold\">1</span> RL\n",
       "</pre>\n"
      ],
      "text/plain": [
       "\u001b[1;4mC469 \u001b[0m\u001b[1;4;32m\"v66\"\u001b[0m \u001b[1;36m1\u001b[0m RL\n"
      ]
     },
     "metadata": {},
     "output_type": "display_data"
    },
    {
     "data": {
      "text/html": [
       "<pre style=\"white-space:pre;overflow-x:auto;line-height:normal;font-family:Menlo,'DejaVu Sans Mono',consolas,'Courier New',monospace;margin:0px\"><span style=\"font-weight: bold; text-decoration: underline\">C472 </span><span style=\"color: #008000; text-decoration-color: #008000; font-weight: bold; text-decoration: underline\">\"v3\"</span> <span style=\"color: #008080; text-decoration-color: #008080; font-weight: bold\">2</span> RL, MW\n",
       "</pre>\n"
      ],
      "text/plain": [
       "\u001b[1;4mC472 \u001b[0m\u001b[1;4;32m\"v3\"\u001b[0m \u001b[1;36m2\u001b[0m RL, MW\n"
      ]
     },
     "metadata": {},
     "output_type": "display_data"
    },
    {
     "data": {
      "text/html": [
       "<pre style=\"white-space:pre;overflow-x:auto;line-height:normal;font-family:Menlo,'DejaVu Sans Mono',consolas,'Courier New',monospace;margin:0px\"><span style=\"font-weight: bold; text-decoration: underline\">C475 </span><span style=\"color: #008000; text-decoration-color: #008000; font-weight: bold; text-decoration: underline\">\"v4\"</span> <span style=\"color: #008080; text-decoration-color: #008080; font-weight: bold\">1</span> MW\n",
       "</pre>\n"
      ],
      "text/plain": [
       "\u001b[1;4mC475 \u001b[0m\u001b[1;4;32m\"v4\"\u001b[0m \u001b[1;36m1\u001b[0m MW\n"
      ]
     },
     "metadata": {},
     "output_type": "display_data"
    },
    {
     "data": {
      "text/html": [
       "<pre style=\"white-space:pre;overflow-x:auto;line-height:normal;font-family:Menlo,'DejaVu Sans Mono',consolas,'Courier New',monospace;margin:0px\"><span style=\"font-weight: bold; text-decoration: underline\">C477 </span><span style=\"color: #008000; text-decoration-color: #008000; font-weight: bold; text-decoration: underline\">\"v7\"</span> <span style=\"color: #008080; text-decoration-color: #008080; font-weight: bold\">2</span> RL, WT\n",
       "</pre>\n"
      ],
      "text/plain": [
       "\u001b[1;4mC477 \u001b[0m\u001b[1;4;32m\"v7\"\u001b[0m \u001b[1;36m2\u001b[0m RL, WT\n"
      ]
     },
     "metadata": {},
     "output_type": "display_data"
    },
    {
     "data": {
      "text/html": [
       "<pre style=\"white-space:pre;overflow-x:auto;line-height:normal;font-family:Menlo,'DejaVu Sans Mono',consolas,'Courier New',monospace;margin:0px\"><span style=\"font-weight: bold; text-decoration: underline\">C479 </span><span style=\"color: #008000; text-decoration-color: #008000; font-weight: bold; text-decoration: underline\">\"v9\"</span> <span style=\"color: #008080; text-decoration-color: #008080; font-weight: bold\">2</span> RL, MW\n",
       "</pre>\n"
      ],
      "text/plain": [
       "\u001b[1;4mC479 \u001b[0m\u001b[1;4;32m\"v9\"\u001b[0m \u001b[1;36m2\u001b[0m RL, MW\n"
      ]
     },
     "metadata": {},
     "output_type": "display_data"
    },
    {
     "data": {
      "text/html": [
       "<pre style=\"white-space:pre;overflow-x:auto;line-height:normal;font-family:Menlo,'DejaVu Sans Mono',consolas,'Courier New',monospace;margin:0px\"><span style=\"font-weight: bold; text-decoration: underline\">C481 </span><span style=\"color: #008000; text-decoration-color: #008000; font-weight: bold; text-decoration: underline\">\"v11\"</span> <span style=\"color: #008080; text-decoration-color: #008080; font-weight: bold\">2</span> RL, DF\n",
       "</pre>\n"
      ],
      "text/plain": [
       "\u001b[1;4mC481 \u001b[0m\u001b[1;4;32m\"v11\"\u001b[0m \u001b[1;36m2\u001b[0m RL, DF\n"
      ]
     },
     "metadata": {},
     "output_type": "display_data"
    },
    {
     "data": {
      "text/html": [
       "<pre style=\"white-space:pre;overflow-x:auto;line-height:normal;font-family:Menlo,'DejaVu Sans Mono',consolas,'Courier New',monospace;margin:0px\"><span style=\"font-weight: bold; text-decoration: underline\">C485 </span><span style=\"color: #008000; text-decoration-color: #008000; font-weight: bold; text-decoration: underline\">\"v16\"</span> <span style=\"color: #008080; text-decoration-color: #008080; font-weight: bold\">2</span> RL, WT\n",
       "</pre>\n"
      ],
      "text/plain": [
       "\u001b[1;4mC485 \u001b[0m\u001b[1;4;32m\"v16\"\u001b[0m \u001b[1;36m2\u001b[0m RL, WT\n"
      ]
     },
     "metadata": {},
     "output_type": "display_data"
    },
    {
     "data": {
      "text/html": [
       "<pre style=\"white-space:pre;overflow-x:auto;line-height:normal;font-family:Menlo,'DejaVu Sans Mono',consolas,'Courier New',monospace;margin:0px\"><span style=\"font-weight: bold; text-decoration: underline\">C487 </span><span style=\"color: #008000; text-decoration-color: #008000; font-weight: bold; text-decoration: underline\">\"v19\"</span> <span style=\"color: #008080; text-decoration-color: #008080; font-weight: bold\">1</span> WT\n",
       "</pre>\n"
      ],
      "text/plain": [
       "\u001b[1;4mC487 \u001b[0m\u001b[1;4;32m\"v19\"\u001b[0m \u001b[1;36m1\u001b[0m WT\n"
      ]
     },
     "metadata": {},
     "output_type": "display_data"
    },
    {
     "data": {
      "text/html": [
       "<pre style=\"white-space:pre;overflow-x:auto;line-height:normal;font-family:Menlo,'DejaVu Sans Mono',consolas,'Courier New',monospace;margin:0px\"><span style=\"font-weight: bold; text-decoration: underline\">C488 </span><span style=\"color: #008000; text-decoration-color: #008000; font-weight: bold; text-decoration: underline\">\"v22\"</span> <span style=\"color: #008080; text-decoration-color: #008080; font-weight: bold\">2</span> RL, MW\n",
       "</pre>\n"
      ],
      "text/plain": [
       "\u001b[1;4mC488 \u001b[0m\u001b[1;4;32m\"v22\"\u001b[0m \u001b[1;36m2\u001b[0m RL, MW\n"
      ]
     },
     "metadata": {},
     "output_type": "display_data"
    },
    {
     "data": {
      "text/html": [
       "<pre style=\"white-space:pre;overflow-x:auto;line-height:normal;font-family:Menlo,'DejaVu Sans Mono',consolas,'Courier New',monospace;margin:0px\"><span style=\"font-weight: bold; text-decoration: underline\">C491 </span><span style=\"color: #008000; text-decoration-color: #008000; font-weight: bold; text-decoration: underline\">\"v26\"</span> <span style=\"color: #008080; text-decoration-color: #008080; font-weight: bold\">2</span> RL, WT\n",
       "</pre>\n"
      ],
      "text/plain": [
       "\u001b[1;4mC491 \u001b[0m\u001b[1;4;32m\"v26\"\u001b[0m \u001b[1;36m2\u001b[0m RL, WT\n"
      ]
     },
     "metadata": {},
     "output_type": "display_data"
    },
    {
     "data": {
      "text/html": [
       "<pre style=\"white-space:pre;overflow-x:auto;line-height:normal;font-family:Menlo,'DejaVu Sans Mono',consolas,'Courier New',monospace;margin:0px\"><span style=\"font-weight: bold; text-decoration: underline\">C492 </span><span style=\"color: #008000; text-decoration-color: #008000; font-weight: bold; text-decoration: underline\">\"v29\"</span> <span style=\"color: #008080; text-decoration-color: #008080; font-weight: bold\">2</span> RL, WT\n",
       "</pre>\n"
      ],
      "text/plain": [
       "\u001b[1;4mC492 \u001b[0m\u001b[1;4;32m\"v29\"\u001b[0m \u001b[1;36m2\u001b[0m RL, WT\n"
      ]
     },
     "metadata": {},
     "output_type": "display_data"
    },
    {
     "data": {
      "text/html": [
       "<pre style=\"white-space:pre;overflow-x:auto;line-height:normal;font-family:Menlo,'DejaVu Sans Mono',consolas,'Courier New',monospace;margin:0px\"><span style=\"font-weight: bold; text-decoration: underline\">C493 </span><span style=\"color: #008000; text-decoration-color: #008000; font-weight: bold; text-decoration: underline\">\"v31\"</span> <span style=\"color: #008080; text-decoration-color: #008080; font-weight: bold\">1</span> MW\n",
       "</pre>\n"
      ],
      "text/plain": [
       "\u001b[1;4mC493 \u001b[0m\u001b[1;4;32m\"v31\"\u001b[0m \u001b[1;36m1\u001b[0m MW\n"
      ]
     },
     "metadata": {},
     "output_type": "display_data"
    },
    {
     "data": {
      "text/html": [
       "<pre style=\"white-space:pre;overflow-x:auto;line-height:normal;font-family:Menlo,'DejaVu Sans Mono',consolas,'Courier New',monospace;margin:0px\"><span style=\"font-weight: bold; text-decoration: underline\">C494 </span><span style=\"color: #008000; text-decoration-color: #008000; font-weight: bold; text-decoration: underline\">\"v33\"</span> <span style=\"color: #008080; text-decoration-color: #008080; font-weight: bold\">3</span> MW, WT, RL\n",
       "</pre>\n"
      ],
      "text/plain": [
       "\u001b[1;4mC494 \u001b[0m\u001b[1;4;32m\"v33\"\u001b[0m \u001b[1;36m3\u001b[0m MW, WT, RL\n"
      ]
     },
     "metadata": {},
     "output_type": "display_data"
    },
    {
     "data": {
      "text/html": [
       "<pre style=\"white-space:pre;overflow-x:auto;line-height:normal;font-family:Menlo,'DejaVu Sans Mono',consolas,'Courier New',monospace;margin:0px\"><span style=\"font-weight: bold; text-decoration: underline\">C495 </span><span style=\"color: #008000; text-decoration-color: #008000; font-weight: bold; text-decoration: underline\">\"v35\"</span> <span style=\"color: #008080; text-decoration-color: #008080; font-weight: bold\">2</span> RL, MW\n",
       "</pre>\n"
      ],
      "text/plain": [
       "\u001b[1;4mC495 \u001b[0m\u001b[1;4;32m\"v35\"\u001b[0m \u001b[1;36m2\u001b[0m RL, MW\n"
      ]
     },
     "metadata": {},
     "output_type": "display_data"
    },
    {
     "data": {
      "text/html": [
       "<pre style=\"white-space:pre;overflow-x:auto;line-height:normal;font-family:Menlo,'DejaVu Sans Mono',consolas,'Courier New',monospace;margin:0px\"><span style=\"font-weight: bold; text-decoration: underline\">C497 </span><span style=\"color: #008000; text-decoration-color: #008000; font-weight: bold; text-decoration: underline\">\"v38\"</span> <span style=\"color: #008080; text-decoration-color: #008080; font-weight: bold\">2</span> RL, MW\n",
       "</pre>\n"
      ],
      "text/plain": [
       "\u001b[1;4mC497 \u001b[0m\u001b[1;4;32m\"v38\"\u001b[0m \u001b[1;36m2\u001b[0m RL, MW\n"
      ]
     },
     "metadata": {},
     "output_type": "display_data"
    },
    {
     "data": {
      "text/html": [
       "<pre style=\"white-space:pre;overflow-x:auto;line-height:normal;font-family:Menlo,'DejaVu Sans Mono',consolas,'Courier New',monospace;margin:0px\"><span style=\"font-weight: bold; text-decoration: underline\">C498 </span><span style=\"color: #008000; text-decoration-color: #008000; font-weight: bold; text-decoration: underline\">\"v40\"</span> <span style=\"color: #008080; text-decoration-color: #008080; font-weight: bold\">1</span> MW\n",
       "</pre>\n"
      ],
      "text/plain": [
       "\u001b[1;4mC498 \u001b[0m\u001b[1;4;32m\"v40\"\u001b[0m \u001b[1;36m1\u001b[0m MW\n"
      ]
     },
     "metadata": {},
     "output_type": "display_data"
    },
    {
     "data": {
      "text/html": [
       "<pre style=\"white-space:pre;overflow-x:auto;line-height:normal;font-family:Menlo,'DejaVu Sans Mono',consolas,'Courier New',monospace;margin:0px\"><span style=\"font-weight: bold; text-decoration: underline\">C499 </span><span style=\"color: #008000; text-decoration-color: #008000; font-weight: bold; text-decoration: underline\">\"v42\"</span> <span style=\"color: #008080; text-decoration-color: #008080; font-weight: bold\">2</span> RL, MW\n",
       "</pre>\n"
      ],
      "text/plain": [
       "\u001b[1;4mC499 \u001b[0m\u001b[1;4;32m\"v42\"\u001b[0m \u001b[1;36m2\u001b[0m RL, MW\n"
      ]
     },
     "metadata": {},
     "output_type": "display_data"
    },
    {
     "data": {
      "text/html": [
       "<pre style=\"white-space:pre;overflow-x:auto;line-height:normal;font-family:Menlo,'DejaVu Sans Mono',consolas,'Courier New',monospace;margin:0px\"><span style=\"font-weight: bold; text-decoration: underline\">C500 </span><span style=\"color: #008000; text-decoration-color: #008000; font-weight: bold; text-decoration: underline\">\"v44\"</span> <span style=\"color: #008080; text-decoration-color: #008080; font-weight: bold\">2</span> RL, MW\n",
       "</pre>\n"
      ],
      "text/plain": [
       "\u001b[1;4mC500 \u001b[0m\u001b[1;4;32m\"v44\"\u001b[0m \u001b[1;36m2\u001b[0m RL, MW\n"
      ]
     },
     "metadata": {},
     "output_type": "display_data"
    },
    {
     "data": {
      "text/html": [
       "<pre style=\"white-space:pre;overflow-x:auto;line-height:normal;font-family:Menlo,'DejaVu Sans Mono',consolas,'Courier New',monospace;margin:0px\"><span style=\"font-weight: bold; text-decoration: underline\">C501 </span><span style=\"color: #008000; text-decoration-color: #008000; font-weight: bold; text-decoration: underline\">\"v46\"</span> <span style=\"color: #008080; text-decoration-color: #008080; font-weight: bold\">2</span> RL, MW\n",
       "</pre>\n"
      ],
      "text/plain": [
       "\u001b[1;4mC501 \u001b[0m\u001b[1;4;32m\"v46\"\u001b[0m \u001b[1;36m2\u001b[0m RL, MW\n"
      ]
     },
     "metadata": {},
     "output_type": "display_data"
    },
    {
     "data": {
      "text/html": [
       "<pre style=\"white-space:pre;overflow-x:auto;line-height:normal;font-family:Menlo,'DejaVu Sans Mono',consolas,'Courier New',monospace;margin:0px\"><span style=\"font-weight: bold; text-decoration: underline\">C707 </span><span style=\"color: #008000; text-decoration-color: #008000; font-weight: bold; text-decoration: underline\">\"v57\"</span> <span style=\"color: #008080; text-decoration-color: #008080; font-weight: bold\">1</span> RL\n",
       "</pre>\n"
      ],
      "text/plain": [
       "\u001b[1;4mC707 \u001b[0m\u001b[1;4;32m\"v57\"\u001b[0m \u001b[1;36m1\u001b[0m RL\n"
      ]
     },
     "metadata": {},
     "output_type": "display_data"
    },
    {
     "data": {
      "text/html": [
       "<pre style=\"white-space:pre;overflow-x:auto;line-height:normal;font-family:Menlo,'DejaVu Sans Mono',consolas,'Courier New',monospace;margin:0px\"><span style=\"font-weight: bold; text-decoration: underline\">C759 </span><span style=\"color: #008000; text-decoration-color: #008000; font-weight: bold; text-decoration: underline\">\"v61\"</span> <span style=\"color: #008080; text-decoration-color: #008080; font-weight: bold\">1</span> RL\n",
       "</pre>\n"
      ],
      "text/plain": [
       "\u001b[1;4mC759 \u001b[0m\u001b[1;4;32m\"v61\"\u001b[0m \u001b[1;36m1\u001b[0m RL\n"
      ]
     },
     "metadata": {},
     "output_type": "display_data"
    },
    {
     "data": {
      "text/html": [
       "<pre style=\"white-space:pre;overflow-x:auto;line-height:normal;font-family:Menlo,'DejaVu Sans Mono',consolas,'Courier New',monospace;margin:0px\"><span style=\"font-weight: bold; text-decoration: underline\">C824 </span><span style=\"color: #008000; text-decoration-color: #008000; font-weight: bold; text-decoration: underline\">\"v65\"</span> <span style=\"color: #008080; text-decoration-color: #008080; font-weight: bold\">1</span> RL\n",
       "</pre>\n"
      ],
      "text/plain": [
       "\u001b[1;4mC824 \u001b[0m\u001b[1;4;32m\"v65\"\u001b[0m \u001b[1;36m1\u001b[0m RL\n"
      ]
     },
     "metadata": {},
     "output_type": "display_data"
    },
    {
     "data": {
      "text/html": [
       "<pre style=\"white-space:pre;overflow-x:auto;line-height:normal;font-family:Menlo,'DejaVu Sans Mono',consolas,'Courier New',monospace;margin:0px\"><span style=\"font-weight: bold; text-decoration: underline\">C839 </span><span style=\"color: #008000; text-decoration-color: #008000; font-weight: bold; text-decoration: underline\">\"v68\"</span> <span style=\"color: #008080; text-decoration-color: #008080; font-weight: bold\">1</span> RL\n",
       "</pre>\n"
      ],
      "text/plain": [
       "\u001b[1;4mC839 \u001b[0m\u001b[1;4;32m\"v68\"\u001b[0m \u001b[1;36m1\u001b[0m RL\n"
      ]
     },
     "metadata": {},
     "output_type": "display_data"
    },
    {
     "data": {
      "text/html": [
       "<pre style=\"white-space:pre;overflow-x:auto;line-height:normal;font-family:Menlo,'DejaVu Sans Mono',consolas,'Courier New',monospace;margin:0px\"><span style=\"font-weight: bold; text-decoration: underline\">C841 </span><span style=\"color: #008000; text-decoration-color: #008000; font-weight: bold; text-decoration: underline\">\"v69\"</span> <span style=\"color: #008080; text-decoration-color: #008080; font-weight: bold\">1</span> RL\n",
       "</pre>\n"
      ],
      "text/plain": [
       "\u001b[1;4mC841 \u001b[0m\u001b[1;4;32m\"v69\"\u001b[0m \u001b[1;36m1\u001b[0m RL\n"
      ]
     },
     "metadata": {},
     "output_type": "display_data"
    },
    {
     "data": {
      "text/html": [
       "<pre style=\"white-space:pre;overflow-x:auto;line-height:normal;font-family:Menlo,'DejaVu Sans Mono',consolas,'Courier New',monospace;margin:0px\"><span style=\"font-weight: bold; text-decoration: underline\">C898 </span><span style=\"color: #008000; text-decoration-color: #008000; font-weight: bold; text-decoration: underline\">\"v70\"</span> <span style=\"color: #008080; text-decoration-color: #008080; font-weight: bold\">1</span> RL\n",
       "</pre>\n"
      ],
      "text/plain": [
       "\u001b[1;4mC898 \u001b[0m\u001b[1;4;32m\"v70\"\u001b[0m \u001b[1;36m1\u001b[0m RL\n"
      ]
     },
     "metadata": {},
     "output_type": "display_data"
    },
    {
     "data": {
      "text/html": [
       "<pre style=\"white-space:pre;overflow-x:auto;line-height:normal;font-family:Menlo,'DejaVu Sans Mono',consolas,'Courier New',monospace;margin:0px\"><span style=\"font-weight: bold; text-decoration: underline\">C900 </span><span style=\"color: #008000; text-decoration-color: #008000; font-weight: bold; text-decoration: underline\">\"v71\"</span> <span style=\"color: #008080; text-decoration-color: #008080; font-weight: bold\">1</span> RL\n",
       "</pre>\n"
      ],
      "text/plain": [
       "\u001b[1;4mC900 \u001b[0m\u001b[1;4;32m\"v71\"\u001b[0m \u001b[1;36m1\u001b[0m RL\n"
      ]
     },
     "metadata": {},
     "output_type": "display_data"
    },
    {
     "data": {
      "text/html": [
       "<pre style=\"white-space:pre;overflow-x:auto;line-height:normal;font-family:Menlo,'DejaVu Sans Mono',consolas,'Courier New',monospace;margin:0px\"><span style=\"font-weight: bold; text-decoration: underline\">C933 </span><span style=\"color: #008000; text-decoration-color: #008000; font-weight: bold; text-decoration: underline\">\"v73\"</span> <span style=\"color: #008080; text-decoration-color: #008080; font-weight: bold\">1</span> RL\n",
       "</pre>\n"
      ],
      "text/plain": [
       "\u001b[1;4mC933 \u001b[0m\u001b[1;4;32m\"v73\"\u001b[0m \u001b[1;36m1\u001b[0m RL\n"
      ]
     },
     "metadata": {},
     "output_type": "display_data"
    },
    {
     "data": {
      "text/html": [
       "<pre style=\"white-space:pre;overflow-x:auto;line-height:normal;font-family:Menlo,'DejaVu Sans Mono',consolas,'Courier New',monospace;margin:0px\"><span style=\"font-weight: bold; text-decoration: underline\">C962 </span><span style=\"color: #008000; text-decoration-color: #008000; font-weight: bold; text-decoration: underline\">\"v75\"</span> <span style=\"color: #008080; text-decoration-color: #008080; font-weight: bold\">1</span> RL\n",
       "</pre>\n"
      ],
      "text/plain": [
       "\u001b[1;4mC962 \u001b[0m\u001b[1;4;32m\"v75\"\u001b[0m \u001b[1;36m1\u001b[0m RL\n"
      ]
     },
     "metadata": {},
     "output_type": "display_data"
    },
    {
     "data": {
      "text/html": [
       "<pre style=\"white-space:pre;overflow-x:auto;line-height:normal;font-family:Menlo,'DejaVu Sans Mono',consolas,'Courier New',monospace;margin:0px\"><span style=\"font-weight: bold; text-decoration: underline\">C1033 </span><span style=\"color: #008000; text-decoration-color: #008000; font-weight: bold; text-decoration: underline\">\"v77\"</span> <span style=\"color: #008080; text-decoration-color: #008080; font-weight: bold\">1</span> RL\n",
       "</pre>\n"
      ],
      "text/plain": [
       "\u001b[1;4mC1033 \u001b[0m\u001b[1;4;32m\"v77\"\u001b[0m \u001b[1;36m1\u001b[0m RL\n"
      ]
     },
     "metadata": {},
     "output_type": "display_data"
    },
    {
     "data": {
      "text/html": [
       "<pre style=\"white-space:pre;overflow-x:auto;line-height:normal;font-family:Menlo,'DejaVu Sans Mono',consolas,'Courier New',monospace;margin:0px\"><span style=\"font-weight: bold; text-decoration: underline\">C1043 </span><span style=\"color: #008000; text-decoration-color: #008000; font-weight: bold; text-decoration: underline\">\"v79\"</span> <span style=\"color: #008080; text-decoration-color: #008080; font-weight: bold\">2</span> RL, MW\n",
       "</pre>\n"
      ],
      "text/plain": [
       "\u001b[1;4mC1043 \u001b[0m\u001b[1;4;32m\"v79\"\u001b[0m \u001b[1;36m2\u001b[0m RL, MW\n"
      ]
     },
     "metadata": {},
     "output_type": "display_data"
    },
    {
     "data": {
      "text/html": [
       "<pre style=\"white-space:pre;overflow-x:auto;line-height:normal;font-family:Menlo,'DejaVu Sans Mono',consolas,'Courier New',monospace;margin:0px\"><span style=\"font-weight: bold; text-decoration: underline\">C1097 </span><span style=\"color: #008000; text-decoration-color: #008000; font-weight: bold; text-decoration: underline\">\"v82\"</span> <span style=\"color: #008080; text-decoration-color: #008080; font-weight: bold\">2</span> RL, DF\n",
       "</pre>\n"
      ],
      "text/plain": [
       "\u001b[1;4mC1097 \u001b[0m\u001b[1;4;32m\"v82\"\u001b[0m \u001b[1;36m2\u001b[0m RL, DF\n"
      ]
     },
     "metadata": {},
     "output_type": "display_data"
    },
    {
     "data": {
      "text/html": [
       "<pre style=\"white-space:pre;overflow-x:auto;line-height:normal;font-family:Menlo,'DejaVu Sans Mono',consolas,'Courier New',monospace;margin:0px\"><span style=\"font-weight: bold; text-decoration: underline\">C1098 </span><span style=\"color: #008000; text-decoration-color: #008000; font-weight: bold; text-decoration: underline\">\"v83\"</span> <span style=\"color: #008080; text-decoration-color: #008080; font-weight: bold\">1</span> DF\n",
       "</pre>\n"
      ],
      "text/plain": [
       "\u001b[1;4mC1098 \u001b[0m\u001b[1;4;32m\"v83\"\u001b[0m \u001b[1;36m1\u001b[0m DF\n"
      ]
     },
     "metadata": {},
     "output_type": "display_data"
    },
    {
     "data": {
      "text/html": [
       "<pre style=\"white-space:pre;overflow-x:auto;line-height:normal;font-family:Menlo,'DejaVu Sans Mono',consolas,'Courier New',monospace;margin:0px\"><span style=\"font-weight: bold; text-decoration: underline\">C1100 </span><span style=\"color: #008000; text-decoration-color: #008000; font-weight: bold; text-decoration: underline\">\"v84\"</span> <span style=\"color: #008080; text-decoration-color: #008080; font-weight: bold\">2</span> RL, DF\n",
       "</pre>\n"
      ],
      "text/plain": [
       "\u001b[1;4mC1100 \u001b[0m\u001b[1;4;32m\"v84\"\u001b[0m \u001b[1;36m2\u001b[0m RL, DF\n"
      ]
     },
     "metadata": {},
     "output_type": "display_data"
    },
    {
     "data": {
      "text/html": [
       "<pre style=\"white-space:pre;overflow-x:auto;line-height:normal;font-family:Menlo,'DejaVu Sans Mono',consolas,'Courier New',monospace;margin:0px\"><span style=\"font-weight: bold; text-decoration: underline\">C1101 </span><span style=\"color: #008000; text-decoration-color: #008000; font-weight: bold; text-decoration: underline\">\"v86\"</span> <span style=\"color: #008080; text-decoration-color: #008080; font-weight: bold\">2</span> RL, DF\n",
       "</pre>\n"
      ],
      "text/plain": [
       "\u001b[1;4mC1101 \u001b[0m\u001b[1;4;32m\"v86\"\u001b[0m \u001b[1;36m2\u001b[0m RL, DF\n"
      ]
     },
     "metadata": {},
     "output_type": "display_data"
    },
    {
     "data": {
      "text/html": [
       "<pre style=\"white-space:pre;overflow-x:auto;line-height:normal;font-family:Menlo,'DejaVu Sans Mono',consolas,'Courier New',monospace;margin:0px\"><span style=\"font-weight: bold; text-decoration: underline\">C1121 </span><span style=\"color: #008000; text-decoration-color: #008000; font-weight: bold; text-decoration: underline\">\"v87\"</span> <span style=\"color: #008080; text-decoration-color: #008080; font-weight: bold\">2</span> RL, DF\n",
       "</pre>\n"
      ],
      "text/plain": [
       "\u001b[1;4mC1121 \u001b[0m\u001b[1;4;32m\"v87\"\u001b[0m \u001b[1;36m2\u001b[0m RL, DF\n"
      ]
     },
     "metadata": {},
     "output_type": "display_data"
    },
    {
     "data": {
      "text/html": [
       "<pre style=\"white-space:pre;overflow-x:auto;line-height:normal;font-family:Menlo,'DejaVu Sans Mono',consolas,'Courier New',monospace;margin:0px\"><span style=\"font-weight: bold; text-decoration: underline\">C1122 </span><span style=\"color: #008000; text-decoration-color: #008000; font-weight: bold; text-decoration: underline\">\"v89\"</span> <span style=\"color: #008080; text-decoration-color: #008080; font-weight: bold\">2</span> RL, DF\n",
       "</pre>\n"
      ],
      "text/plain": [
       "\u001b[1;4mC1122 \u001b[0m\u001b[1;4;32m\"v89\"\u001b[0m \u001b[1;36m2\u001b[0m RL, DF\n"
      ]
     },
     "metadata": {},
     "output_type": "display_data"
    },
    {
     "data": {
      "text/html": [
       "<pre style=\"white-space:pre;overflow-x:auto;line-height:normal;font-family:Menlo,'DejaVu Sans Mono',consolas,'Courier New',monospace;margin:0px\"><span style=\"font-weight: bold; text-decoration: underline\">C1125 </span><span style=\"color: #008000; text-decoration-color: #008000; font-weight: bold; text-decoration: underline\">\"v90\"</span> <span style=\"color: #008080; text-decoration-color: #008080; font-weight: bold\">2</span> RL, DF\n",
       "</pre>\n"
      ],
      "text/plain": [
       "\u001b[1;4mC1125 \u001b[0m\u001b[1;4;32m\"v90\"\u001b[0m \u001b[1;36m2\u001b[0m RL, DF\n"
      ]
     },
     "metadata": {},
     "output_type": "display_data"
    },
    {
     "data": {
      "text/html": [
       "<pre style=\"white-space:pre;overflow-x:auto;line-height:normal;font-family:Menlo,'DejaVu Sans Mono',consolas,'Courier New',monospace;margin:0px\"><span style=\"font-weight: bold; text-decoration: underline\">C1280 </span><span style=\"color: #008000; text-decoration-color: #008000; font-weight: bold; text-decoration: underline\">\"v94\"</span> <span style=\"color: #008080; text-decoration-color: #008080; font-weight: bold\">1</span> RL\n",
       "</pre>\n"
      ],
      "text/plain": [
       "\u001b[1;4mC1280 \u001b[0m\u001b[1;4;32m\"v94\"\u001b[0m \u001b[1;36m1\u001b[0m RL\n"
      ]
     },
     "metadata": {},
     "output_type": "display_data"
    },
    {
     "data": {
      "text/html": [
       "<pre style=\"white-space:pre;overflow-x:auto;line-height:normal;font-family:Menlo,'DejaVu Sans Mono',consolas,'Courier New',monospace;margin:0px\"><span style=\"font-weight: bold; text-decoration: underline\">C1708 </span><span style=\"color: #008000; text-decoration-color: #008000; font-weight: bold; text-decoration: underline\">\"v129\"</span> <span style=\"color: #008080; text-decoration-color: #008080; font-weight: bold\">1</span> RL\n",
       "</pre>\n"
      ],
      "text/plain": [
       "\u001b[1;4mC1708 \u001b[0m\u001b[1;4;32m\"v129\"\u001b[0m \u001b[1;36m1\u001b[0m RL\n"
      ]
     },
     "metadata": {},
     "output_type": "display_data"
    },
    {
     "data": {
      "text/html": [
       "<pre style=\"white-space:pre;overflow-x:auto;line-height:normal;font-family:Menlo,'DejaVu Sans Mono',consolas,'Courier New',monospace;margin:0px\"><span style=\"font-weight: bold; text-decoration: underline\">C1770 </span><span style=\"color: #008000; text-decoration-color: #008000; font-weight: bold; text-decoration: underline\">\"v130\"</span> <span style=\"color: #008080; text-decoration-color: #008080; font-weight: bold\">1</span> RL\n",
       "</pre>\n"
      ],
      "text/plain": [
       "\u001b[1;4mC1770 \u001b[0m\u001b[1;4;32m\"v130\"\u001b[0m \u001b[1;36m1\u001b[0m RL\n"
      ]
     },
     "metadata": {},
     "output_type": "display_data"
    },
    {
     "data": {
      "text/html": [
       "<pre style=\"white-space:pre;overflow-x:auto;line-height:normal;font-family:Menlo,'DejaVu Sans Mono',consolas,'Courier New',monospace;margin:0px\"><span style=\"font-weight: bold; text-decoration: underline\">C1811 </span><span style=\"color: #008000; text-decoration-color: #008000; font-weight: bold; text-decoration: underline\">\"v134\"</span> <span style=\"color: #008080; text-decoration-color: #008080; font-weight: bold\">1</span> RL\n",
       "</pre>\n"
      ],
      "text/plain": [
       "\u001b[1;4mC1811 \u001b[0m\u001b[1;4;32m\"v134\"\u001b[0m \u001b[1;36m1\u001b[0m RL\n"
      ]
     },
     "metadata": {},
     "output_type": "display_data"
    },
    {
     "data": {
      "text/html": [
       "<pre style=\"white-space:pre;overflow-x:auto;line-height:normal;font-family:Menlo,'DejaVu Sans Mono',consolas,'Courier New',monospace;margin:0px\"><span style=\"font-weight: bold; text-decoration: underline\">C2022 </span><span style=\"color: #008000; text-decoration-color: #008000; font-weight: bold; text-decoration: underline\">\"v98\"</span> <span style=\"color: #008080; text-decoration-color: #008080; font-weight: bold\">1</span> RL\n",
       "</pre>\n"
      ],
      "text/plain": [
       "\u001b[1;4mC2022 \u001b[0m\u001b[1;4;32m\"v98\"\u001b[0m \u001b[1;36m1\u001b[0m RL\n"
      ]
     },
     "metadata": {},
     "output_type": "display_data"
    },
    {
     "data": {
      "text/html": [
       "<pre style=\"white-space:pre;overflow-x:auto;line-height:normal;font-family:Menlo,'DejaVu Sans Mono',consolas,'Courier New',monospace;margin:0px\"><span style=\"font-weight: bold; text-decoration: underline\">C2074 </span><span style=\"color: #008000; text-decoration-color: #008000; font-weight: bold; text-decoration: underline\">\"v99\"</span> <span style=\"color: #008080; text-decoration-color: #008080; font-weight: bold\">1</span> RL\n",
       "</pre>\n"
      ],
      "text/plain": [
       "\u001b[1;4mC2074 \u001b[0m\u001b[1;4;32m\"v99\"\u001b[0m \u001b[1;36m1\u001b[0m RL\n"
      ]
     },
     "metadata": {},
     "output_type": "display_data"
    },
    {
     "data": {
      "text/html": [
       "<pre style=\"white-space:pre;overflow-x:auto;line-height:normal;font-family:Menlo,'DejaVu Sans Mono',consolas,'Courier New',monospace;margin:0px\"><span style=\"font-weight: bold; text-decoration: underline\">C2096 </span><span style=\"color: #008000; text-decoration-color: #008000; font-weight: bold; text-decoration: underline\">\"v100\"</span> <span style=\"color: #008080; text-decoration-color: #008080; font-weight: bold\">2</span> RL, MW\n",
       "</pre>\n"
      ],
      "text/plain": [
       "\u001b[1;4mC2096 \u001b[0m\u001b[1;4;32m\"v100\"\u001b[0m \u001b[1;36m2\u001b[0m RL, MW\n"
      ]
     },
     "metadata": {},
     "output_type": "display_data"
    },
    {
     "data": {
      "text/html": [
       "<pre style=\"white-space:pre;overflow-x:auto;line-height:normal;font-family:Menlo,'DejaVu Sans Mono',consolas,'Courier New',monospace;margin:0px\"><span style=\"font-weight: bold; text-decoration: underline\">C2134 </span><span style=\"color: #008000; text-decoration-color: #008000; font-weight: bold; text-decoration: underline\">\"v102\"</span> <span style=\"color: #008080; text-decoration-color: #008080; font-weight: bold\">2</span> RL, MW\n",
       "</pre>\n"
      ],
      "text/plain": [
       "\u001b[1;4mC2134 \u001b[0m\u001b[1;4;32m\"v102\"\u001b[0m \u001b[1;36m2\u001b[0m RL, MW\n"
      ]
     },
     "metadata": {},
     "output_type": "display_data"
    },
    {
     "data": {
      "text/html": [
       "<pre style=\"white-space:pre;overflow-x:auto;line-height:normal;font-family:Menlo,'DejaVu Sans Mono',consolas,'Courier New',monospace;margin:0px\"><span style=\"font-weight: bold; text-decoration: underline\">C2138 </span><span style=\"color: #008000; text-decoration-color: #008000; font-weight: bold; text-decoration: underline\">\"v103\"</span> <span style=\"color: #008080; text-decoration-color: #008080; font-weight: bold\">1</span> RL\n",
       "</pre>\n"
      ],
      "text/plain": [
       "\u001b[1;4mC2138 \u001b[0m\u001b[1;4;32m\"v103\"\u001b[0m \u001b[1;36m1\u001b[0m RL\n"
      ]
     },
     "metadata": {},
     "output_type": "display_data"
    },
    {
     "data": {
      "text/html": [
       "<pre style=\"white-space:pre;overflow-x:auto;line-height:normal;font-family:Menlo,'DejaVu Sans Mono',consolas,'Courier New',monospace;margin:0px\"><span style=\"font-weight: bold; text-decoration: underline\">C2702 </span><span style=\"color: #008000; text-decoration-color: #008000; font-weight: bold; text-decoration: underline\">\"v146\"</span> <span style=\"color: #008080; text-decoration-color: #008080; font-weight: bold\">1</span> RL\n",
       "</pre>\n"
      ],
      "text/plain": [
       "\u001b[1;4mC2702 \u001b[0m\u001b[1;4;32m\"v146\"\u001b[0m \u001b[1;36m1\u001b[0m RL\n"
      ]
     },
     "metadata": {},
     "output_type": "display_data"
    },
    {
     "data": {
      "text/html": [
       "<pre style=\"white-space:pre;overflow-x:auto;line-height:normal;font-family:Menlo,'DejaVu Sans Mono',consolas,'Courier New',monospace;margin:0px\"><span style=\"font-weight: bold; text-decoration: underline\">C2712 </span><span style=\"color: #008000; text-decoration-color: #008000; font-weight: bold; text-decoration: underline\">\"v148\"</span> <span style=\"color: #008080; text-decoration-color: #008080; font-weight: bold\">1</span> RL\n",
       "</pre>\n"
      ],
      "text/plain": [
       "\u001b[1;4mC2712 \u001b[0m\u001b[1;4;32m\"v148\"\u001b[0m \u001b[1;36m1\u001b[0m RL\n"
      ]
     },
     "metadata": {},
     "output_type": "display_data"
    },
    {
     "data": {
      "text/html": [
       "<pre style=\"white-space:pre;overflow-x:auto;line-height:normal;font-family:Menlo,'DejaVu Sans Mono',consolas,'Courier New',monospace;margin:0px\"><span style=\"font-weight: bold; text-decoration: underline\">C2742 </span><span style=\"color: #008000; text-decoration-color: #008000; font-weight: bold; text-decoration: underline\">\"v150\"</span> <span style=\"color: #008080; text-decoration-color: #008080; font-weight: bold\">1</span> RL\n",
       "</pre>\n"
      ],
      "text/plain": [
       "\u001b[1;4mC2742 \u001b[0m\u001b[1;4;32m\"v150\"\u001b[0m \u001b[1;36m1\u001b[0m RL\n"
      ]
     },
     "metadata": {},
     "output_type": "display_data"
    },
    {
     "data": {
      "text/html": [
       "<pre style=\"white-space:pre;overflow-x:auto;line-height:normal;font-family:Menlo,'DejaVu Sans Mono',consolas,'Courier New',monospace;margin:0px\"><span style=\"font-weight: bold; text-decoration: underline\">C2845 </span><span style=\"color: #008000; text-decoration-color: #008000; font-weight: bold; text-decoration: underline\">\"v154\"</span> <span style=\"color: #008080; text-decoration-color: #008080; font-weight: bold\">2</span> RL, MW\n",
       "</pre>\n"
      ],
      "text/plain": [
       "\u001b[1;4mC2845 \u001b[0m\u001b[1;4;32m\"v154\"\u001b[0m \u001b[1;36m2\u001b[0m RL, MW\n"
      ]
     },
     "metadata": {},
     "output_type": "display_data"
    },
    {
     "data": {
      "text/html": [
       "<pre style=\"white-space:pre;overflow-x:auto;line-height:normal;font-family:Menlo,'DejaVu Sans Mono',consolas,'Courier New',monospace;margin:0px\"><span style=\"font-weight: bold; text-decoration: underline\">C3182 </span><span style=\"color: #008000; text-decoration-color: #008000; font-weight: bold; text-decoration: underline\">\"v106\"</span> <span style=\"color: #008080; text-decoration-color: #008080; font-weight: bold\">1</span> DF\n",
       "</pre>\n"
      ],
      "text/plain": [
       "\u001b[1;4mC3182 \u001b[0m\u001b[1;4;32m\"v106\"\u001b[0m \u001b[1;36m1\u001b[0m DF\n"
      ]
     },
     "metadata": {},
     "output_type": "display_data"
    },
    {
     "data": {
      "text/html": [
       "<pre style=\"white-space:pre;overflow-x:auto;line-height:normal;font-family:Menlo,'DejaVu Sans Mono',consolas,'Courier New',monospace;margin:0px\"><span style=\"font-weight: bold; text-decoration: underline\">C3183 </span><span style=\"color: #008000; text-decoration-color: #008000; font-weight: bold; text-decoration: underline\">\"v107\"</span> <span style=\"color: #008080; text-decoration-color: #008080; font-weight: bold\">1</span> DF\n",
       "</pre>\n"
      ],
      "text/plain": [
       "\u001b[1;4mC3183 \u001b[0m\u001b[1;4;32m\"v107\"\u001b[0m \u001b[1;36m1\u001b[0m DF\n"
      ]
     },
     "metadata": {},
     "output_type": "display_data"
    },
    {
     "data": {
      "text/html": [
       "<pre style=\"white-space:pre;overflow-x:auto;line-height:normal;font-family:Menlo,'DejaVu Sans Mono',consolas,'Courier New',monospace;margin:0px\"><span style=\"font-weight: bold; text-decoration: underline\">C3209 </span><span style=\"color: #008000; text-decoration-color: #008000; font-weight: bold; text-decoration: underline\">\"v112\"</span> <span style=\"color: #008080; text-decoration-color: #008080; font-weight: bold\">2</span> RL, MW\n",
       "</pre>\n"
      ],
      "text/plain": [
       "\u001b[1;4mC3209 \u001b[0m\u001b[1;4;32m\"v112\"\u001b[0m \u001b[1;36m2\u001b[0m RL, MW\n"
      ]
     },
     "metadata": {},
     "output_type": "display_data"
    },
    {
     "data": {
      "text/html": [
       "<pre style=\"white-space:pre;overflow-x:auto;line-height:normal;font-family:Menlo,'DejaVu Sans Mono',consolas,'Courier New',monospace;margin:0px\"><span style=\"font-weight: bold; text-decoration: underline\">C3233 </span><span style=\"color: #008000; text-decoration-color: #008000; font-weight: bold; text-decoration: underline\">\"v116\"</span> <span style=\"color: #008080; text-decoration-color: #008080; font-weight: bold\">1</span> DF\n",
       "</pre>\n"
      ],
      "text/plain": [
       "\u001b[1;4mC3233 \u001b[0m\u001b[1;4;32m\"v116\"\u001b[0m \u001b[1;36m1\u001b[0m DF\n"
      ]
     },
     "metadata": {},
     "output_type": "display_data"
    },
    {
     "data": {
      "text/html": [
       "<pre style=\"white-space:pre;overflow-x:auto;line-height:normal;font-family:Menlo,'DejaVu Sans Mono',consolas,'Courier New',monospace;margin:0px\"><span style=\"font-weight: bold; text-decoration: underline\">C3251 </span><span style=\"color: #008000; text-decoration-color: #008000; font-weight: bold; text-decoration: underline\">\"v119\"</span> <span style=\"color: #008080; text-decoration-color: #008080; font-weight: bold\">3</span> MW, RL, DF\n",
       "</pre>\n"
      ],
      "text/plain": [
       "\u001b[1;4mC3251 \u001b[0m\u001b[1;4;32m\"v119\"\u001b[0m \u001b[1;36m3\u001b[0m MW, RL, DF\n"
      ]
     },
     "metadata": {},
     "output_type": "display_data"
    },
    {
     "data": {
      "text/html": [
       "<pre style=\"white-space:pre;overflow-x:auto;line-height:normal;font-family:Menlo,'DejaVu Sans Mono',consolas,'Courier New',monospace;margin:0px\"><span style=\"font-weight: bold; text-decoration: underline\">C3254 </span><span style=\"color: #008000; text-decoration-color: #008000; font-weight: bold; text-decoration: underline\">\"v120\"</span> <span style=\"color: #008080; text-decoration-color: #008080; font-weight: bold\">1</span> RL\n",
       "</pre>\n"
      ],
      "text/plain": [
       "\u001b[1;4mC3254 \u001b[0m\u001b[1;4;32m\"v120\"\u001b[0m \u001b[1;36m1\u001b[0m RL\n"
      ]
     },
     "metadata": {},
     "output_type": "display_data"
    },
    {
     "data": {
      "text/html": [
       "<pre style=\"white-space:pre;overflow-x:auto;line-height:normal;font-family:Menlo,'DejaVu Sans Mono',consolas,'Courier New',monospace;margin:0px\"><span style=\"font-weight: bold; text-decoration: underline\">C3264 </span><span style=\"color: #008000; text-decoration-color: #008000; font-weight: bold; text-decoration: underline\">\"v126\"</span> <span style=\"color: #008080; text-decoration-color: #008080; font-weight: bold\">3</span> MW, RL, DF\n",
       "</pre>\n"
      ],
      "text/plain": [
       "\u001b[1;4mC3264 \u001b[0m\u001b[1;4;32m\"v126\"\u001b[0m \u001b[1;36m3\u001b[0m MW, RL, DF\n"
      ]
     },
     "metadata": {},
     "output_type": "display_data"
    },
    {
     "data": {
      "text/html": [
       "<pre style=\"white-space:pre;overflow-x:auto;line-height:normal;font-family:Menlo,'DejaVu Sans Mono',consolas,'Courier New',monospace;margin:0px\"><span style=\"font-weight: bold; text-decoration: underline\">C3324 </span><span style=\"color: #008000; text-decoration-color: #008000; font-weight: bold; text-decoration: underline\">\"v132\"</span> <span style=\"color: #008080; text-decoration-color: #008080; font-weight: bold\">1</span> DF\n",
       "</pre>\n"
      ],
      "text/plain": [
       "\u001b[1;4mC3324 \u001b[0m\u001b[1;4;32m\"v132\"\u001b[0m \u001b[1;36m1\u001b[0m DF\n"
      ]
     },
     "metadata": {},
     "output_type": "display_data"
    },
    {
     "data": {
      "text/html": [
       "<pre style=\"white-space:pre;overflow-x:auto;line-height:normal;font-family:Menlo,'DejaVu Sans Mono',consolas,'Courier New',monospace;margin:0px\"><span style=\"font-weight: bold; text-decoration: underline\">C3360 </span><span style=\"color: #008000; text-decoration-color: #008000; font-weight: bold; text-decoration: underline\">\"v135\"</span> <span style=\"color: #008080; text-decoration-color: #008080; font-weight: bold\">1</span> DF\n",
       "</pre>\n"
      ],
      "text/plain": [
       "\u001b[1;4mC3360 \u001b[0m\u001b[1;4;32m\"v135\"\u001b[0m \u001b[1;36m1\u001b[0m DF\n"
      ]
     },
     "metadata": {},
     "output_type": "display_data"
    },
    {
     "data": {
      "text/html": [
       "<pre style=\"white-space:pre;overflow-x:auto;line-height:normal;font-family:Menlo,'DejaVu Sans Mono',consolas,'Courier New',monospace;margin:0px\"><span style=\"font-weight: bold; text-decoration: underline\">C3495 </span><span style=\"color: #008000; text-decoration-color: #008000; font-weight: bold; text-decoration: underline\">\"v143\"</span> <span style=\"color: #008080; text-decoration-color: #008080; font-weight: bold\">1</span> RL\n",
       "</pre>\n"
      ],
      "text/plain": [
       "\u001b[1;4mC3495 \u001b[0m\u001b[1;4;32m\"v143\"\u001b[0m \u001b[1;36m1\u001b[0m RL\n"
      ]
     },
     "metadata": {},
     "output_type": "display_data"
    },
    {
     "data": {
      "text/html": [
       "<pre style=\"white-space:pre;overflow-x:auto;line-height:normal;font-family:Menlo,'DejaVu Sans Mono',consolas,'Courier New',monospace;margin:0px\"><span style=\"font-weight: bold; text-decoration: underline\">C3992 </span><span style=\"color: #008000; text-decoration-color: #008000; font-weight: bold; text-decoration: underline\">\"v160\"</span> <span style=\"color: #008080; text-decoration-color: #008080; font-weight: bold\">1</span> MW\n",
       "</pre>\n"
      ],
      "text/plain": [
       "\u001b[1;4mC3992 \u001b[0m\u001b[1;4;32m\"v160\"\u001b[0m \u001b[1;36m1\u001b[0m MW\n"
      ]
     },
     "metadata": {},
     "output_type": "display_data"
    },
    {
     "data": {
      "text/html": [
       "<pre style=\"white-space:pre;overflow-x:auto;line-height:normal;font-family:Menlo,'DejaVu Sans Mono',consolas,'Courier New',monospace;margin:0px\"><span style=\"font-weight: bold; text-decoration: underline\">C3994 </span><span style=\"color: #008000; text-decoration-color: #008000; font-weight: bold; text-decoration: underline\">\"v161\"</span> <span style=\"color: #008080; text-decoration-color: #008080; font-weight: bold\">1</span> RL\n",
       "</pre>\n"
      ],
      "text/plain": [
       "\u001b[1;4mC3994 \u001b[0m\u001b[1;4;32m\"v161\"\u001b[0m \u001b[1;36m1\u001b[0m RL\n"
      ]
     },
     "metadata": {},
     "output_type": "display_data"
    },
    {
     "data": {
      "text/html": [
       "<pre style=\"white-space:pre;overflow-x:auto;line-height:normal;font-family:Menlo,'DejaVu Sans Mono',consolas,'Courier New',monospace;margin:0px\"><span style=\"font-weight: bold; text-decoration: underline\">C3996 </span><span style=\"color: #008000; text-decoration-color: #008000; font-weight: bold; text-decoration: underline\">\"v162\"</span> <span style=\"color: #008080; text-decoration-color: #008080; font-weight: bold\">1</span> RL\n",
       "</pre>\n"
      ],
      "text/plain": [
       "\u001b[1;4mC3996 \u001b[0m\u001b[1;4;32m\"v162\"\u001b[0m \u001b[1;36m1\u001b[0m RL\n"
      ]
     },
     "metadata": {},
     "output_type": "display_data"
    },
    {
     "data": {
      "text/html": [
       "<pre style=\"white-space:pre;overflow-x:auto;line-height:normal;font-family:Menlo,'DejaVu Sans Mono',consolas,'Courier New',monospace;margin:0px\"><span style=\"font-weight: bold; text-decoration: underline\">C4029 </span><span style=\"color: #008000; text-decoration-color: #008000; font-weight: bold; text-decoration: underline\">\"v163\"</span> <span style=\"color: #008080; text-decoration-color: #008080; font-weight: bold\">1</span> MW\n",
       "</pre>\n"
      ],
      "text/plain": [
       "\u001b[1;4mC4029 \u001b[0m\u001b[1;4;32m\"v163\"\u001b[0m \u001b[1;36m1\u001b[0m MW\n"
      ]
     },
     "metadata": {},
     "output_type": "display_data"
    },
    {
     "data": {
      "text/html": [
       "<pre style=\"white-space:pre;overflow-x:auto;line-height:normal;font-family:Menlo,'DejaVu Sans Mono',consolas,'Courier New',monospace;margin:0px\"><span style=\"font-weight: bold; text-decoration: underline\">C4044 </span><span style=\"color: #008000; text-decoration-color: #008000; font-weight: bold; text-decoration: underline\">\"v164\"</span> <span style=\"color: #008080; text-decoration-color: #008080; font-weight: bold\">1</span> RL\n",
       "</pre>\n"
      ],
      "text/plain": [
       "\u001b[1;4mC4044 \u001b[0m\u001b[1;4;32m\"v164\"\u001b[0m \u001b[1;36m1\u001b[0m RL\n"
      ]
     },
     "metadata": {},
     "output_type": "display_data"
    },
    {
     "data": {
      "text/html": [
       "<pre style=\"white-space:pre;overflow-x:auto;line-height:normal;font-family:Menlo,'DejaVu Sans Mono',consolas,'Courier New',monospace;margin:0px\"><span style=\"font-weight: bold; text-decoration: underline\">C4445 </span><span style=\"color: #008000; text-decoration-color: #008000; font-weight: bold; text-decoration: underline\">\"v97\"</span> <span style=\"color: #008080; text-decoration-color: #008080; font-weight: bold\">1</span> RL\n",
       "</pre>\n"
      ],
      "text/plain": [
       "\u001b[1;4mC4445 \u001b[0m\u001b[1;4;32m\"v97\"\u001b[0m \u001b[1;36m1\u001b[0m RL\n"
      ]
     },
     "metadata": {},
     "output_type": "display_data"
    },
    {
     "data": {
      "text/html": [
       "<pre style=\"white-space:pre;overflow-x:auto;line-height:normal;font-family:Menlo,'DejaVu Sans Mono',consolas,'Courier New',monospace;margin:0px\"><span style=\"font-weight: bold; text-decoration: underline\">C5312 </span><span style=\"color: #008000; text-decoration-color: #008000; font-weight: bold; text-decoration: underline\">\"v176\"</span> <span style=\"color: #008080; text-decoration-color: #008080; font-weight: bold\">1</span> DF\n",
       "</pre>\n"
      ],
      "text/plain": [
       "\u001b[1;4mC5312 \u001b[0m\u001b[1;4;32m\"v176\"\u001b[0m \u001b[1;36m1\u001b[0m DF\n"
      ]
     },
     "metadata": {},
     "output_type": "display_data"
    },
    {
     "data": {
      "text/html": [
       "<pre style=\"white-space:pre;overflow-x:auto;line-height:normal;font-family:Menlo,'DejaVu Sans Mono',consolas,'Courier New',monospace;margin:0px\"><span style=\"font-weight: bold; text-decoration: underline\">C5314 </span><span style=\"color: #008000; text-decoration-color: #008000; font-weight: bold; text-decoration: underline\">\"v177\"</span> <span style=\"color: #008080; text-decoration-color: #008080; font-weight: bold\">1</span> DF\n",
       "</pre>\n"
      ],
      "text/plain": [
       "\u001b[1;4mC5314 \u001b[0m\u001b[1;4;32m\"v177\"\u001b[0m \u001b[1;36m1\u001b[0m DF\n"
      ]
     },
     "metadata": {},
     "output_type": "display_data"
    },
    {
     "data": {
      "text/html": [
       "<pre style=\"white-space:pre;overflow-x:auto;line-height:normal;font-family:Menlo,'DejaVu Sans Mono',consolas,'Courier New',monospace;margin:0px\"><span style=\"font-weight: bold; text-decoration: underline\">C5315 </span><span style=\"color: #008000; text-decoration-color: #008000; font-weight: bold; text-decoration: underline\">\"v178\"</span> <span style=\"color: #008080; text-decoration-color: #008080; font-weight: bold\">2</span> RL, DF\n",
       "</pre>\n"
      ],
      "text/plain": [
       "\u001b[1;4mC5315 \u001b[0m\u001b[1;4;32m\"v178\"\u001b[0m \u001b[1;36m2\u001b[0m RL, DF\n"
      ]
     },
     "metadata": {},
     "output_type": "display_data"
    },
    {
     "data": {
      "text/html": [
       "<pre style=\"white-space:pre;overflow-x:auto;line-height:normal;font-family:Menlo,'DejaVu Sans Mono',consolas,'Courier New',monospace;margin:0px\"><span style=\"font-weight: bold; text-decoration: underline\">C5316 </span><span style=\"color: #008000; text-decoration-color: #008000; font-weight: bold; text-decoration: underline\">\"v179\"</span> <span style=\"color: #008080; text-decoration-color: #008080; font-weight: bold\">1</span> DF\n",
       "</pre>\n"
      ],
      "text/plain": [
       "\u001b[1;4mC5316 \u001b[0m\u001b[1;4;32m\"v179\"\u001b[0m \u001b[1;36m1\u001b[0m DF\n"
      ]
     },
     "metadata": {},
     "output_type": "display_data"
    },
    {
     "data": {
      "text/html": [
       "<pre style=\"white-space:pre;overflow-x:auto;line-height:normal;font-family:Menlo,'DejaVu Sans Mono',consolas,'Courier New',monospace;margin:0px\"><span style=\"font-weight: bold; text-decoration: underline\">C5327 </span><span style=\"color: #008000; text-decoration-color: #008000; font-weight: bold; text-decoration: underline\">\"v183\"</span> <span style=\"color: #008080; text-decoration-color: #008080; font-weight: bold\">2</span> RL, DF\n",
       "</pre>\n"
      ],
      "text/plain": [
       "\u001b[1;4mC5327 \u001b[0m\u001b[1;4;32m\"v183\"\u001b[0m \u001b[1;36m2\u001b[0m RL, DF\n"
      ]
     },
     "metadata": {},
     "output_type": "display_data"
    },
    {
     "data": {
      "text/html": [
       "<pre style=\"white-space:pre;overflow-x:auto;line-height:normal;font-family:Menlo,'DejaVu Sans Mono',consolas,'Courier New',monospace;margin:0px\"><span style=\"font-weight: bold; text-decoration: underline\">C5856 </span><span style=\"color: #008000; text-decoration-color: #008000; font-weight: bold; text-decoration: underline\">\"v104\"</span> <span style=\"color: #008080; text-decoration-color: #008080; font-weight: bold\">2</span> RL, DF\n",
       "</pre>\n"
      ],
      "text/plain": [
       "\u001b[1;4mC5856 \u001b[0m\u001b[1;4;32m\"v104\"\u001b[0m \u001b[1;36m2\u001b[0m RL, DF\n"
      ]
     },
     "metadata": {},
     "output_type": "display_data"
    },
    {
     "data": {
      "text/html": [
       "<pre style=\"white-space:pre;overflow-x:auto;line-height:normal;font-family:Menlo,'DejaVu Sans Mono',consolas,'Courier New',monospace;margin:0px\"><span style=\"font-weight: bold; text-decoration: underline\">C5867 </span><span style=\"color: #008000; text-decoration-color: #008000; font-weight: bold; text-decoration: underline\">\"v108\"</span> <span style=\"color: #008080; text-decoration-color: #008080; font-weight: bold\">2</span> RL, DF\n",
       "</pre>\n"
      ],
      "text/plain": [
       "\u001b[1;4mC5867 \u001b[0m\u001b[1;4;32m\"v108\"\u001b[0m \u001b[1;36m2\u001b[0m RL, DF\n"
      ]
     },
     "metadata": {},
     "output_type": "display_data"
    },
    {
     "data": {
      "text/html": [
       "<pre style=\"white-space:pre;overflow-x:auto;line-height:normal;font-family:Menlo,'DejaVu Sans Mono',consolas,'Courier New',monospace;margin:0px\"><span style=\"font-weight: bold; text-decoration: underline\">C5868 </span><span style=\"color: #008000; text-decoration-color: #008000; font-weight: bold; text-decoration: underline\">\"v109\"</span> <span style=\"color: #008080; text-decoration-color: #008080; font-weight: bold\">2</span> RL, DF\n",
       "</pre>\n"
      ],
      "text/plain": [
       "\u001b[1;4mC5868 \u001b[0m\u001b[1;4;32m\"v109\"\u001b[0m \u001b[1;36m2\u001b[0m RL, DF\n"
      ]
     },
     "metadata": {},
     "output_type": "display_data"
    },
    {
     "data": {
      "text/html": [
       "<pre style=\"white-space:pre;overflow-x:auto;line-height:normal;font-family:Menlo,'DejaVu Sans Mono',consolas,'Courier New',monospace;margin:0px\"><span style=\"font-weight: bold; text-decoration: underline\">C5906 </span><span style=\"color: #008000; text-decoration-color: #008000; font-weight: bold; text-decoration: underline\">\"v113\"</span> <span style=\"color: #008080; text-decoration-color: #008080; font-weight: bold\">2</span> RL, DF\n",
       "</pre>\n"
      ],
      "text/plain": [
       "\u001b[1;4mC5906 \u001b[0m\u001b[1;4;32m\"v113\"\u001b[0m \u001b[1;36m2\u001b[0m RL, DF\n"
      ]
     },
     "metadata": {},
     "output_type": "display_data"
    },
    {
     "data": {
      "text/html": [
       "<pre style=\"white-space:pre;overflow-x:auto;line-height:normal;font-family:Menlo,'DejaVu Sans Mono',consolas,'Courier New',monospace;margin:0px\"><span style=\"font-weight: bold; text-decoration: underline\">C5911 </span><span style=\"color: #008000; text-decoration-color: #008000; font-weight: bold; text-decoration: underline\">\"v114\"</span> <span style=\"color: #008080; text-decoration-color: #008080; font-weight: bold\">1</span> RL\n",
       "</pre>\n"
      ],
      "text/plain": [
       "\u001b[1;4mC5911 \u001b[0m\u001b[1;4;32m\"v114\"\u001b[0m \u001b[1;36m1\u001b[0m RL\n"
      ]
     },
     "metadata": {},
     "output_type": "display_data"
    },
    {
     "data": {
      "text/html": [
       "<pre style=\"white-space:pre;overflow-x:auto;line-height:normal;font-family:Menlo,'DejaVu Sans Mono',consolas,'Courier New',monospace;margin:0px\"><span style=\"font-weight: bold; text-decoration: underline\">C6162 </span><span style=\"color: #008000; text-decoration-color: #008000; font-weight: bold; text-decoration: underline\">\"v152\"</span> <span style=\"color: #008080; text-decoration-color: #008080; font-weight: bold\">1</span> DF\n",
       "</pre>\n"
      ],
      "text/plain": [
       "\u001b[1;4mC6162 \u001b[0m\u001b[1;4;32m\"v152\"\u001b[0m \u001b[1;36m1\u001b[0m DF\n"
      ]
     },
     "metadata": {},
     "output_type": "display_data"
    },
    {
     "data": {
      "text/html": [
       "<pre style=\"white-space:pre;overflow-x:auto;line-height:normal;font-family:Menlo,'DejaVu Sans Mono',consolas,'Courier New',monospace;margin:0px\"><span style=\"font-weight: bold; text-decoration: underline\">C6421 </span><span style=\"color: #008000; text-decoration-color: #008000; font-weight: bold; text-decoration: underline\">\"v159\"</span> <span style=\"color: #008080; text-decoration-color: #008080; font-weight: bold\">1</span> RL\n",
       "</pre>\n"
      ],
      "text/plain": [
       "\u001b[1;4mC6421 \u001b[0m\u001b[1;4;32m\"v159\"\u001b[0m \u001b[1;36m1\u001b[0m RL\n"
      ]
     },
     "metadata": {},
     "output_type": "display_data"
    },
    {
     "data": {
      "text/html": [
       "<pre style=\"white-space:pre;overflow-x:auto;line-height:normal;font-family:Menlo,'DejaVu Sans Mono',consolas,'Courier New',monospace;margin:0px\"><span style=\"font-weight: bold; text-decoration: underline\">C6717 </span><span style=\"color: #008000; text-decoration-color: #008000; font-weight: bold; text-decoration: underline\">\"v186\"</span> <span style=\"color: #008080; text-decoration-color: #008080; font-weight: bold\">1</span> RL\n",
       "</pre>\n"
      ],
      "text/plain": [
       "\u001b[1;4mC6717 \u001b[0m\u001b[1;4;32m\"v186\"\u001b[0m \u001b[1;36m1\u001b[0m RL\n"
      ]
     },
     "metadata": {},
     "output_type": "display_data"
    },
    {
     "data": {
      "text/html": [
       "<pre style=\"white-space:pre;overflow-x:auto;line-height:normal;font-family:Menlo,'DejaVu Sans Mono',consolas,'Courier New',monospace;margin:0px\"><span style=\"font-weight: bold; text-decoration: underline\">C6727 </span><span style=\"color: #008000; text-decoration-color: #008000; font-weight: bold; text-decoration: underline\">\"v187\"</span> <span style=\"color: #008080; text-decoration-color: #008080; font-weight: bold\">1</span> RL\n",
       "</pre>\n"
      ],
      "text/plain": [
       "\u001b[1;4mC6727 \u001b[0m\u001b[1;4;32m\"v187\"\u001b[0m \u001b[1;36m1\u001b[0m RL\n"
      ]
     },
     "metadata": {},
     "output_type": "display_data"
    },
    {
     "data": {
      "text/html": [
       "<pre style=\"white-space:pre;overflow-x:auto;line-height:normal;font-family:Menlo,'DejaVu Sans Mono',consolas,'Courier New',monospace;margin:0px\"><span style=\"font-weight: bold; text-decoration: underline\">C7035 </span><span style=\"color: #008000; text-decoration-color: #008000; font-weight: bold; text-decoration: underline\">\"v169\"</span> <span style=\"color: #008080; text-decoration-color: #008080; font-weight: bold\">1</span> RL\n",
       "</pre>\n"
      ],
      "text/plain": [
       "\u001b[1;4mC7035 \u001b[0m\u001b[1;4;32m\"v169\"\u001b[0m \u001b[1;36m1\u001b[0m RL\n"
      ]
     },
     "metadata": {},
     "output_type": "display_data"
    },
    {
     "data": {
      "text/html": [
       "<pre style=\"white-space:pre;overflow-x:auto;line-height:normal;font-family:Menlo,'DejaVu Sans Mono',consolas,'Courier New',monospace;margin:0px\"><span style=\"font-weight: bold; text-decoration: underline\">C7036 </span><span style=\"color: #008000; text-decoration-color: #008000; font-weight: bold; text-decoration: underline\">\"v171\"</span> <span style=\"color: #008080; text-decoration-color: #008080; font-weight: bold\">1</span> RL\n",
       "</pre>\n"
      ],
      "text/plain": [
       "\u001b[1;4mC7036 \u001b[0m\u001b[1;4;32m\"v171\"\u001b[0m \u001b[1;36m1\u001b[0m RL\n"
      ]
     },
     "metadata": {},
     "output_type": "display_data"
    },
    {
     "data": {
      "text/html": [
       "<pre style=\"white-space:pre;overflow-x:auto;line-height:normal;font-family:Menlo,'DejaVu Sans Mono',consolas,'Courier New',monospace;margin:0px\"><span style=\"font-weight: bold; text-decoration: underline\">C7068 </span><span style=\"color: #008000; text-decoration-color: #008000; font-weight: bold; text-decoration: underline\">\"v172\"</span> <span style=\"color: #008080; text-decoration-color: #008080; font-weight: bold\">1</span> RL\n",
       "</pre>\n"
      ],
      "text/plain": [
       "\u001b[1;4mC7068 \u001b[0m\u001b[1;4;32m\"v172\"\u001b[0m \u001b[1;36m1\u001b[0m RL\n"
      ]
     },
     "metadata": {},
     "output_type": "display_data"
    },
    {
     "data": {
      "text/html": [
       "<pre style=\"white-space:pre;overflow-x:auto;line-height:normal;font-family:Menlo,'DejaVu Sans Mono',consolas,'Courier New',monospace;margin:0px\"><span style=\"font-weight: bold; text-decoration: underline\">C7190 </span><span style=\"color: #008000; text-decoration-color: #008000; font-weight: bold; text-decoration: underline\">\"v174\"</span> <span style=\"color: #008080; text-decoration-color: #008080; font-weight: bold\">2</span> RL, DF\n",
       "</pre>\n"
      ],
      "text/plain": [
       "\u001b[1;4mC7190 \u001b[0m\u001b[1;4;32m\"v174\"\u001b[0m \u001b[1;36m2\u001b[0m RL, DF\n"
      ]
     },
     "metadata": {},
     "output_type": "display_data"
    },
    {
     "data": {
      "text/html": [
       "<pre style=\"white-space:pre;overflow-x:auto;line-height:normal;font-family:Menlo,'DejaVu Sans Mono',consolas,'Courier New',monospace;margin:0px\"><span style=\"font-weight: bold; text-decoration: underline\">C7247 </span><span style=\"color: #008000; text-decoration-color: #008000; font-weight: bold; text-decoration: underline\">\"v188\"</span> <span style=\"color: #008080; text-decoration-color: #008080; font-weight: bold\">2</span> RL, DF\n",
       "</pre>\n"
      ],
      "text/plain": [
       "\u001b[1;4mC7247 \u001b[0m\u001b[1;4;32m\"v188\"\u001b[0m \u001b[1;36m2\u001b[0m RL, DF\n"
      ]
     },
     "metadata": {},
     "output_type": "display_data"
    },
    {
     "data": {
      "text/html": [
       "<pre style=\"white-space:pre;overflow-x:auto;line-height:normal;font-family:Menlo,'DejaVu Sans Mono',consolas,'Courier New',monospace;margin:0px\"><span style=\"font-weight: bold; text-decoration: underline\">C7248 </span><span style=\"color: #008000; text-decoration-color: #008000; font-weight: bold; text-decoration: underline\">\"v191\"</span> <span style=\"color: #008080; text-decoration-color: #008080; font-weight: bold\">1</span> DF\n",
       "</pre>\n"
      ],
      "text/plain": [
       "\u001b[1;4mC7248 \u001b[0m\u001b[1;4;32m\"v191\"\u001b[0m \u001b[1;36m1\u001b[0m DF\n"
      ]
     },
     "metadata": {},
     "output_type": "display_data"
    }
   ],
   "source": [
    "for c in yes_compounds:\n",
    "    poses = c.poses\n",
    "    tags = [t.removesuffix(\" curated YES\") for t in poses.tags if \"curated\" in t]\n",
    "    print(c, len(tags), \", \".join(tags))"
   ]
  },
  {
   "cell_type": "code",
   "execution_count": 29,
   "id": "d0f73d03-597f-43d4-b781-a3b94f1d9c97",
   "metadata": {},
   "outputs": [
    {
     "data": {
      "application/vnd.jupyter.widget-view+json": {
       "model_id": "1dac0baffbcd479daa7d52ec17025e76",
       "version_major": 2,
       "version_minor": 0
      },
      "text/plain": [
       "VBox(children=(BoundedIntText(value=0, description='Pose (/79):', max=78), GridBox(children=(Checkbox(value=Tr…"
      ]
     },
     "metadata": {},
     "output_type": "display_data"
    },
    {
     "data": {
      "application/vnd.jupyter.widget-view+json": {
       "model_id": "ee1f23cd3d8640df8fe6d2d46c021e7a",
       "version_major": 2,
       "version_minor": 0
      },
      "text/plain": [
       "Output()"
      ]
     },
     "metadata": {},
     "output_type": "display_data"
    }
   ],
   "source": [
    "pset.interactive()"
   ]
  },
  {
   "cell_type": "markdown",
   "id": "9e00ccf4-666b-4ba0-816d-0fa48f1d5d33",
   "metadata": {
    "jp-MarkdownHeadingCollapsed": true
   },
   "source": [
    "# Export SMILES for Chem Review"
   ]
  },
  {
   "cell_type": "code",
   "execution_count": 7,
   "id": "4f0b1f4d-3be9-44a5-a9b1-b59f839f31d5",
   "metadata": {},
   "outputs": [
    {
     "data": {
      "text/plain": [
       "{'BulkDock Fragalysis export',\n",
       " 'Fragmenstein placed',\n",
       " '[Other] iter1_frags',\n",
       " '[Other] upload_1 2025-02-11',\n",
       " 'hits'}"
      ]
     },
     "execution_count": 7,
     "metadata": {},
     "output_type": "execute_result"
    }
   ],
   "source": [
    "animal.tags.unique"
   ]
  },
  {
   "cell_type": "code",
   "execution_count": 11,
   "id": "7dc456b9-c8d7-43a7-9d45-e2cc49e7def9",
   "metadata": {},
   "outputs": [
    {
     "data": {
      "text/html": [
       "<pre style=\"white-space:pre;overflow-x:auto;line-height:normal;font-family:Menlo,'DejaVu Sans Mono',consolas,'Courier New',monospace;margin:0px\">Tagged <span style=\"font-weight: bold\">{</span>C × <span style=\"color: #008080; text-decoration-color: #008080; font-weight: bold\">148</span><span style=\"font-weight: bold\">}</span> w/ <span style=\"color: #008000; text-decoration-color: #008000\">\"iter1 exported merges\"</span>\n",
       "</pre>\n"
      ],
      "text/plain": [
       "Tagged \u001b[1m{\u001b[0mC × \u001b[1;36m148\u001b[0m\u001b[1m}\u001b[0m w/ \u001b[32m\"iter1 exported merges\"\u001b[0m\n"
      ]
     },
     "metadata": {},
     "output_type": "display_data"
    },
    {
     "data": {
      "text/html": [
       "<pre style=\"white-space:pre;overflow-x:auto;line-height:normal;font-family:Menlo,'DejaVu Sans Mono',consolas,'Courier New',monospace;margin:0px\"><span style=\"background-color: #d7af00; font-weight: bold\"> DISK </span> Writing <span style=\"color: #d7af00; text-decoration-color: #d7af00\">iter1_merges.csv</span>...\n",
       "</pre>\n"
      ],
      "text/plain": [
       "\u001b[1;7;38;5;178m DISK \u001b[0m Writing \u001b[38;5;178miter1_merges.csv\u001b[0m...\n"
      ]
     },
     "metadata": {},
     "output_type": "display_data"
    }
   ],
   "source": [
    "scaffolds = animal.poses(tag=\"BulkDock Fragalysis export\").compounds\n",
    "scaffolds.add_tag(\"iter1 exported merges\")\n",
    "scaffolds.write_smiles_csv(\"iter1_merges.csv\")"
   ]
  },
  {
   "cell_type": "code",
   "execution_count": null,
   "id": "97c86546-eeda-42a4-93aa-60ff4f484404",
   "metadata": {},
   "outputs": [],
   "source": []
  }
 ],
 "metadata": {
  "kernelspec": {
   "display_name": "Python 3 (ipykernel)",
   "language": "python",
   "name": "python3"
  },
  "language_info": {
   "codemirror_mode": {
    "name": "ipython",
    "version": 3
   },
   "file_extension": ".py",
   "mimetype": "text/x-python",
   "name": "python",
   "nbconvert_exporter": "python",
   "pygments_lexer": "ipython3",
   "version": "3.12.8"
  }
 },
 "nbformat": 4,
 "nbformat_minor": 5
}
